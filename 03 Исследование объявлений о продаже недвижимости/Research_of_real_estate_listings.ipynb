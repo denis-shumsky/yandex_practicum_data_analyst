{
  "cells": [
    {
      "cell_type": "markdown",
      "metadata": {
        "id": "YgS_FNl_WM8U"
      },
      "source": [
        "# Исследование объявлений о продаже квартир\n",
        "\n",
        "В вашем распоряжении данные сервиса Яндекс.Недвижимость — архив объявлений о продаже квартир в Санкт-Петербурге и соседних населённых пунктов за несколько лет. Нужно научиться определять рыночную стоимость объектов недвижимости. Ваша задача — установить параметры. Это позволит построить автоматизированную систему: она отследит аномалии и мошенническую деятельность. \n",
        "\n",
        "По каждой квартире на продажу доступны два вида данных. Первые вписаны пользователем, вторые — получены автоматически на основе картографических данных. Например, расстояние до центра, аэропорта, ближайшего парка и водоёма. "
      ]
    },
    {
      "cell_type": "markdown",
      "metadata": {
        "id": "6swallVYWM8W"
      },
      "source": [
        "## Откроем файл с данными и изучим общую информацию. "
      ]
    },
    {
      "cell_type": "markdown",
      "metadata": {
        "id": "fgYOgbAUWM8W"
      },
      "source": [
        "### Загрузим данные из файла в датафрейм data:"
      ]
    },
    {
      "cell_type": "code",
      "execution_count": 72,
      "metadata": {
        "id": "Ic_oo45dWM8X"
      },
      "outputs": [],
      "source": [
        "import pandas as pd\n",
        "data = pd.read_csv('/datasets/real_estate_data.csv', sep='\\t')"
      ]
    },
    {
      "cell_type": "markdown",
      "metadata": {
        "id": "l6q76Zi_WM8Z"
      },
      "source": [
        "### Выведем первые 10 строк датафрейма:"
      ]
    },
    {
      "cell_type": "code",
      "execution_count": 73,
      "metadata": {
        "colab": {
          "base_uri": "https://localhost:8080/",
          "height": 647
        },
        "id": "WchJaNh-WM8a",
        "outputId": "ad4287b6-b97d-4d23-9907-3e4ca745ea8f",
        "scrolled": false
      },
      "outputs": [
        {
          "data": {
            "text/html": [
              "\n",
              "  <div id=\"df-7399bf08-5672-4d6a-9198-230ad19144b9\">\n",
              "    <div class=\"colab-df-container\">\n",
              "      <div>\n",
              "<style scoped>\n",
              "    .dataframe tbody tr th:only-of-type {\n",
              "        vertical-align: middle;\n",
              "    }\n",
              "\n",
              "    .dataframe tbody tr th {\n",
              "        vertical-align: top;\n",
              "    }\n",
              "\n",
              "    .dataframe thead th {\n",
              "        text-align: right;\n",
              "    }\n",
              "</style>\n",
              "<table border=\"1\" class=\"dataframe\">\n",
              "  <thead>\n",
              "    <tr style=\"text-align: right;\">\n",
              "      <th></th>\n",
              "      <th>total_images</th>\n",
              "      <th>last_price</th>\n",
              "      <th>total_area</th>\n",
              "      <th>first_day_exposition</th>\n",
              "      <th>rooms</th>\n",
              "      <th>ceiling_height</th>\n",
              "      <th>floors_total</th>\n",
              "      <th>living_area</th>\n",
              "      <th>floor</th>\n",
              "      <th>is_apartment</th>\n",
              "      <th>...</th>\n",
              "      <th>kitchen_area</th>\n",
              "      <th>balcony</th>\n",
              "      <th>locality_name</th>\n",
              "      <th>airports_nearest</th>\n",
              "      <th>cityCenters_nearest</th>\n",
              "      <th>parks_around3000</th>\n",
              "      <th>parks_nearest</th>\n",
              "      <th>ponds_around3000</th>\n",
              "      <th>ponds_nearest</th>\n",
              "      <th>days_exposition</th>\n",
              "    </tr>\n",
              "  </thead>\n",
              "  <tbody>\n",
              "    <tr>\n",
              "      <th>0</th>\n",
              "      <td>20</td>\n",
              "      <td>13000000.0</td>\n",
              "      <td>108.00</td>\n",
              "      <td>2019-03-07T00:00:00</td>\n",
              "      <td>3</td>\n",
              "      <td>2.70</td>\n",
              "      <td>16.0</td>\n",
              "      <td>51.00</td>\n",
              "      <td>8</td>\n",
              "      <td>NaN</td>\n",
              "      <td>...</td>\n",
              "      <td>25.00</td>\n",
              "      <td>NaN</td>\n",
              "      <td>Санкт-Петербург</td>\n",
              "      <td>18863.0</td>\n",
              "      <td>16028.0</td>\n",
              "      <td>1.0</td>\n",
              "      <td>482.0</td>\n",
              "      <td>2.0</td>\n",
              "      <td>755.0</td>\n",
              "      <td>NaN</td>\n",
              "    </tr>\n",
              "    <tr>\n",
              "      <th>1</th>\n",
              "      <td>7</td>\n",
              "      <td>3350000.0</td>\n",
              "      <td>40.40</td>\n",
              "      <td>2018-12-04T00:00:00</td>\n",
              "      <td>1</td>\n",
              "      <td>NaN</td>\n",
              "      <td>11.0</td>\n",
              "      <td>18.60</td>\n",
              "      <td>1</td>\n",
              "      <td>NaN</td>\n",
              "      <td>...</td>\n",
              "      <td>11.00</td>\n",
              "      <td>2.0</td>\n",
              "      <td>посёлок Шушары</td>\n",
              "      <td>12817.0</td>\n",
              "      <td>18603.0</td>\n",
              "      <td>0.0</td>\n",
              "      <td>NaN</td>\n",
              "      <td>0.0</td>\n",
              "      <td>NaN</td>\n",
              "      <td>81.0</td>\n",
              "    </tr>\n",
              "    <tr>\n",
              "      <th>2</th>\n",
              "      <td>10</td>\n",
              "      <td>5196000.0</td>\n",
              "      <td>56.00</td>\n",
              "      <td>2015-08-20T00:00:00</td>\n",
              "      <td>2</td>\n",
              "      <td>NaN</td>\n",
              "      <td>5.0</td>\n",
              "      <td>34.30</td>\n",
              "      <td>4</td>\n",
              "      <td>NaN</td>\n",
              "      <td>...</td>\n",
              "      <td>8.30</td>\n",
              "      <td>0.0</td>\n",
              "      <td>Санкт-Петербург</td>\n",
              "      <td>21741.0</td>\n",
              "      <td>13933.0</td>\n",
              "      <td>1.0</td>\n",
              "      <td>90.0</td>\n",
              "      <td>2.0</td>\n",
              "      <td>574.0</td>\n",
              "      <td>558.0</td>\n",
              "    </tr>\n",
              "    <tr>\n",
              "      <th>3</th>\n",
              "      <td>0</td>\n",
              "      <td>64900000.0</td>\n",
              "      <td>159.00</td>\n",
              "      <td>2015-07-24T00:00:00</td>\n",
              "      <td>3</td>\n",
              "      <td>NaN</td>\n",
              "      <td>14.0</td>\n",
              "      <td>NaN</td>\n",
              "      <td>9</td>\n",
              "      <td>NaN</td>\n",
              "      <td>...</td>\n",
              "      <td>NaN</td>\n",
              "      <td>0.0</td>\n",
              "      <td>Санкт-Петербург</td>\n",
              "      <td>28098.0</td>\n",
              "      <td>6800.0</td>\n",
              "      <td>2.0</td>\n",
              "      <td>84.0</td>\n",
              "      <td>3.0</td>\n",
              "      <td>234.0</td>\n",
              "      <td>424.0</td>\n",
              "    </tr>\n",
              "    <tr>\n",
              "      <th>4</th>\n",
              "      <td>2</td>\n",
              "      <td>10000000.0</td>\n",
              "      <td>100.00</td>\n",
              "      <td>2018-06-19T00:00:00</td>\n",
              "      <td>2</td>\n",
              "      <td>3.03</td>\n",
              "      <td>14.0</td>\n",
              "      <td>32.00</td>\n",
              "      <td>13</td>\n",
              "      <td>NaN</td>\n",
              "      <td>...</td>\n",
              "      <td>41.00</td>\n",
              "      <td>NaN</td>\n",
              "      <td>Санкт-Петербург</td>\n",
              "      <td>31856.0</td>\n",
              "      <td>8098.0</td>\n",
              "      <td>2.0</td>\n",
              "      <td>112.0</td>\n",
              "      <td>1.0</td>\n",
              "      <td>48.0</td>\n",
              "      <td>121.0</td>\n",
              "    </tr>\n",
              "    <tr>\n",
              "      <th>5</th>\n",
              "      <td>10</td>\n",
              "      <td>2890000.0</td>\n",
              "      <td>30.40</td>\n",
              "      <td>2018-09-10T00:00:00</td>\n",
              "      <td>1</td>\n",
              "      <td>NaN</td>\n",
              "      <td>12.0</td>\n",
              "      <td>14.40</td>\n",
              "      <td>5</td>\n",
              "      <td>NaN</td>\n",
              "      <td>...</td>\n",
              "      <td>9.10</td>\n",
              "      <td>NaN</td>\n",
              "      <td>городской посёлок Янино-1</td>\n",
              "      <td>NaN</td>\n",
              "      <td>NaN</td>\n",
              "      <td>NaN</td>\n",
              "      <td>NaN</td>\n",
              "      <td>NaN</td>\n",
              "      <td>NaN</td>\n",
              "      <td>55.0</td>\n",
              "    </tr>\n",
              "    <tr>\n",
              "      <th>6</th>\n",
              "      <td>6</td>\n",
              "      <td>3700000.0</td>\n",
              "      <td>37.30</td>\n",
              "      <td>2017-11-02T00:00:00</td>\n",
              "      <td>1</td>\n",
              "      <td>NaN</td>\n",
              "      <td>26.0</td>\n",
              "      <td>10.60</td>\n",
              "      <td>6</td>\n",
              "      <td>NaN</td>\n",
              "      <td>...</td>\n",
              "      <td>14.40</td>\n",
              "      <td>1.0</td>\n",
              "      <td>посёлок Парголово</td>\n",
              "      <td>52996.0</td>\n",
              "      <td>19143.0</td>\n",
              "      <td>0.0</td>\n",
              "      <td>NaN</td>\n",
              "      <td>0.0</td>\n",
              "      <td>NaN</td>\n",
              "      <td>155.0</td>\n",
              "    </tr>\n",
              "    <tr>\n",
              "      <th>7</th>\n",
              "      <td>5</td>\n",
              "      <td>7915000.0</td>\n",
              "      <td>71.60</td>\n",
              "      <td>2019-04-18T00:00:00</td>\n",
              "      <td>2</td>\n",
              "      <td>NaN</td>\n",
              "      <td>24.0</td>\n",
              "      <td>NaN</td>\n",
              "      <td>22</td>\n",
              "      <td>NaN</td>\n",
              "      <td>...</td>\n",
              "      <td>18.90</td>\n",
              "      <td>2.0</td>\n",
              "      <td>Санкт-Петербург</td>\n",
              "      <td>23982.0</td>\n",
              "      <td>11634.0</td>\n",
              "      <td>0.0</td>\n",
              "      <td>NaN</td>\n",
              "      <td>0.0</td>\n",
              "      <td>NaN</td>\n",
              "      <td>NaN</td>\n",
              "    </tr>\n",
              "    <tr>\n",
              "      <th>8</th>\n",
              "      <td>20</td>\n",
              "      <td>2900000.0</td>\n",
              "      <td>33.16</td>\n",
              "      <td>2018-05-23T00:00:00</td>\n",
              "      <td>1</td>\n",
              "      <td>NaN</td>\n",
              "      <td>27.0</td>\n",
              "      <td>15.43</td>\n",
              "      <td>26</td>\n",
              "      <td>NaN</td>\n",
              "      <td>...</td>\n",
              "      <td>8.81</td>\n",
              "      <td>NaN</td>\n",
              "      <td>посёлок Мурино</td>\n",
              "      <td>NaN</td>\n",
              "      <td>NaN</td>\n",
              "      <td>NaN</td>\n",
              "      <td>NaN</td>\n",
              "      <td>NaN</td>\n",
              "      <td>NaN</td>\n",
              "      <td>189.0</td>\n",
              "    </tr>\n",
              "    <tr>\n",
              "      <th>9</th>\n",
              "      <td>18</td>\n",
              "      <td>5400000.0</td>\n",
              "      <td>61.00</td>\n",
              "      <td>2017-02-26T00:00:00</td>\n",
              "      <td>3</td>\n",
              "      <td>2.50</td>\n",
              "      <td>9.0</td>\n",
              "      <td>43.60</td>\n",
              "      <td>7</td>\n",
              "      <td>NaN</td>\n",
              "      <td>...</td>\n",
              "      <td>6.50</td>\n",
              "      <td>2.0</td>\n",
              "      <td>Санкт-Петербург</td>\n",
              "      <td>50898.0</td>\n",
              "      <td>15008.0</td>\n",
              "      <td>0.0</td>\n",
              "      <td>NaN</td>\n",
              "      <td>0.0</td>\n",
              "      <td>NaN</td>\n",
              "      <td>289.0</td>\n",
              "    </tr>\n",
              "  </tbody>\n",
              "</table>\n",
              "<p>10 rows × 22 columns</p>\n",
              "</div>\n",
              "      <button class=\"colab-df-convert\" onclick=\"convertToInteractive('df-7399bf08-5672-4d6a-9198-230ad19144b9')\"\n",
              "              title=\"Convert this dataframe to an interactive table.\"\n",
              "              style=\"display:none;\">\n",
              "        \n",
              "  <svg xmlns=\"http://www.w3.org/2000/svg\" height=\"24px\"viewBox=\"0 0 24 24\"\n",
              "       width=\"24px\">\n",
              "    <path d=\"M0 0h24v24H0V0z\" fill=\"none\"/>\n",
              "    <path d=\"M18.56 5.44l.94 2.06.94-2.06 2.06-.94-2.06-.94-.94-2.06-.94 2.06-2.06.94zm-11 1L8.5 8.5l.94-2.06 2.06-.94-2.06-.94L8.5 2.5l-.94 2.06-2.06.94zm10 10l.94 2.06.94-2.06 2.06-.94-2.06-.94-.94-2.06-.94 2.06-2.06.94z\"/><path d=\"M17.41 7.96l-1.37-1.37c-.4-.4-.92-.59-1.43-.59-.52 0-1.04.2-1.43.59L10.3 9.45l-7.72 7.72c-.78.78-.78 2.05 0 2.83L4 21.41c.39.39.9.59 1.41.59.51 0 1.02-.2 1.41-.59l7.78-7.78 2.81-2.81c.8-.78.8-2.07 0-2.86zM5.41 20L4 18.59l7.72-7.72 1.47 1.35L5.41 20z\"/>\n",
              "  </svg>\n",
              "      </button>\n",
              "      \n",
              "  <style>\n",
              "    .colab-df-container {\n",
              "      display:flex;\n",
              "      flex-wrap:wrap;\n",
              "      gap: 12px;\n",
              "    }\n",
              "\n",
              "    .colab-df-convert {\n",
              "      background-color: #E8F0FE;\n",
              "      border: none;\n",
              "      border-radius: 50%;\n",
              "      cursor: pointer;\n",
              "      display: none;\n",
              "      fill: #1967D2;\n",
              "      height: 32px;\n",
              "      padding: 0 0 0 0;\n",
              "      width: 32px;\n",
              "    }\n",
              "\n",
              "    .colab-df-convert:hover {\n",
              "      background-color: #E2EBFA;\n",
              "      box-shadow: 0px 1px 2px rgba(60, 64, 67, 0.3), 0px 1px 3px 1px rgba(60, 64, 67, 0.15);\n",
              "      fill: #174EA6;\n",
              "    }\n",
              "\n",
              "    [theme=dark] .colab-df-convert {\n",
              "      background-color: #3B4455;\n",
              "      fill: #D2E3FC;\n",
              "    }\n",
              "\n",
              "    [theme=dark] .colab-df-convert:hover {\n",
              "      background-color: #434B5C;\n",
              "      box-shadow: 0px 1px 3px 1px rgba(0, 0, 0, 0.15);\n",
              "      filter: drop-shadow(0px 1px 2px rgba(0, 0, 0, 0.3));\n",
              "      fill: #FFFFFF;\n",
              "    }\n",
              "  </style>\n",
              "\n",
              "      <script>\n",
              "        const buttonEl =\n",
              "          document.querySelector('#df-7399bf08-5672-4d6a-9198-230ad19144b9 button.colab-df-convert');\n",
              "        buttonEl.style.display =\n",
              "          google.colab.kernel.accessAllowed ? 'block' : 'none';\n",
              "\n",
              "        async function convertToInteractive(key) {\n",
              "          const element = document.querySelector('#df-7399bf08-5672-4d6a-9198-230ad19144b9');\n",
              "          const dataTable =\n",
              "            await google.colab.kernel.invokeFunction('convertToInteractive',\n",
              "                                                     [key], {});\n",
              "          if (!dataTable) return;\n",
              "\n",
              "          const docLinkHtml = 'Like what you see? Visit the ' +\n",
              "            '<a target=\"_blank\" href=https://colab.research.google.com/notebooks/data_table.ipynb>data table notebook</a>'\n",
              "            + ' to learn more about interactive tables.';\n",
              "          element.innerHTML = '';\n",
              "          dataTable['output_type'] = 'display_data';\n",
              "          await google.colab.output.renderOutput(dataTable, element);\n",
              "          const docLink = document.createElement('div');\n",
              "          docLink.innerHTML = docLinkHtml;\n",
              "          element.appendChild(docLink);\n",
              "        }\n",
              "      </script>\n",
              "    </div>\n",
              "  </div>\n",
              "  "
            ],
            "text/plain": [
              "   total_images  last_price  total_area first_day_exposition  rooms  \\\n",
              "0            20  13000000.0      108.00  2019-03-07T00:00:00      3   \n",
              "1             7   3350000.0       40.40  2018-12-04T00:00:00      1   \n",
              "2            10   5196000.0       56.00  2015-08-20T00:00:00      2   \n",
              "3             0  64900000.0      159.00  2015-07-24T00:00:00      3   \n",
              "4             2  10000000.0      100.00  2018-06-19T00:00:00      2   \n",
              "5            10   2890000.0       30.40  2018-09-10T00:00:00      1   \n",
              "6             6   3700000.0       37.30  2017-11-02T00:00:00      1   \n",
              "7             5   7915000.0       71.60  2019-04-18T00:00:00      2   \n",
              "8            20   2900000.0       33.16  2018-05-23T00:00:00      1   \n",
              "9            18   5400000.0       61.00  2017-02-26T00:00:00      3   \n",
              "\n",
              "   ceiling_height  floors_total  living_area  floor is_apartment  ...  \\\n",
              "0            2.70          16.0        51.00      8          NaN  ...   \n",
              "1             NaN          11.0        18.60      1          NaN  ...   \n",
              "2             NaN           5.0        34.30      4          NaN  ...   \n",
              "3             NaN          14.0          NaN      9          NaN  ...   \n",
              "4            3.03          14.0        32.00     13          NaN  ...   \n",
              "5             NaN          12.0        14.40      5          NaN  ...   \n",
              "6             NaN          26.0        10.60      6          NaN  ...   \n",
              "7             NaN          24.0          NaN     22          NaN  ...   \n",
              "8             NaN          27.0        15.43     26          NaN  ...   \n",
              "9            2.50           9.0        43.60      7          NaN  ...   \n",
              "\n",
              "   kitchen_area  balcony              locality_name  airports_nearest  \\\n",
              "0         25.00      NaN            Санкт-Петербург           18863.0   \n",
              "1         11.00      2.0             посёлок Шушары           12817.0   \n",
              "2          8.30      0.0            Санкт-Петербург           21741.0   \n",
              "3           NaN      0.0            Санкт-Петербург           28098.0   \n",
              "4         41.00      NaN            Санкт-Петербург           31856.0   \n",
              "5          9.10      NaN  городской посёлок Янино-1               NaN   \n",
              "6         14.40      1.0          посёлок Парголово           52996.0   \n",
              "7         18.90      2.0            Санкт-Петербург           23982.0   \n",
              "8          8.81      NaN             посёлок Мурино               NaN   \n",
              "9          6.50      2.0            Санкт-Петербург           50898.0   \n",
              "\n",
              "  cityCenters_nearest  parks_around3000  parks_nearest  ponds_around3000  \\\n",
              "0             16028.0               1.0          482.0               2.0   \n",
              "1             18603.0               0.0            NaN               0.0   \n",
              "2             13933.0               1.0           90.0               2.0   \n",
              "3              6800.0               2.0           84.0               3.0   \n",
              "4              8098.0               2.0          112.0               1.0   \n",
              "5                 NaN               NaN            NaN               NaN   \n",
              "6             19143.0               0.0            NaN               0.0   \n",
              "7             11634.0               0.0            NaN               0.0   \n",
              "8                 NaN               NaN            NaN               NaN   \n",
              "9             15008.0               0.0            NaN               0.0   \n",
              "\n",
              "   ponds_nearest  days_exposition  \n",
              "0          755.0              NaN  \n",
              "1            NaN             81.0  \n",
              "2          574.0            558.0  \n",
              "3          234.0            424.0  \n",
              "4           48.0            121.0  \n",
              "5            NaN             55.0  \n",
              "6            NaN            155.0  \n",
              "7            NaN              NaN  \n",
              "8            NaN            189.0  \n",
              "9            NaN            289.0  \n",
              "\n",
              "[10 rows x 22 columns]"
            ]
          },
          "execution_count": 73,
          "metadata": {},
          "output_type": "execute_result"
        }
      ],
      "source": [
        "data.head(10)"
      ]
    },
    {
      "cell_type": "markdown",
      "metadata": {
        "id": "i6e730AQWM8c"
      },
      "source": [
        "### Посмотрим сводную информацию методом info(): "
      ]
    },
    {
      "cell_type": "code",
      "execution_count": 74,
      "metadata": {
        "colab": {
          "base_uri": "https://localhost:8080/"
        },
        "id": "IlVhmNzqWM8d",
        "outputId": "20723629-c3ae-4304-c73b-a3936204e84c",
        "scrolled": false
      },
      "outputs": [
        {
          "name": "stdout",
          "output_type": "stream",
          "text": [
            "<class 'pandas.core.frame.DataFrame'>\n",
            "RangeIndex: 23699 entries, 0 to 23698\n",
            "Data columns (total 22 columns):\n",
            " #   Column                Non-Null Count  Dtype  \n",
            "---  ------                --------------  -----  \n",
            " 0   total_images          23699 non-null  int64  \n",
            " 1   last_price            23699 non-null  float64\n",
            " 2   total_area            23699 non-null  float64\n",
            " 3   first_day_exposition  23699 non-null  object \n",
            " 4   rooms                 23699 non-null  int64  \n",
            " 5   ceiling_height        14504 non-null  float64\n",
            " 6   floors_total          23613 non-null  float64\n",
            " 7   living_area           21796 non-null  float64\n",
            " 8   floor                 23699 non-null  int64  \n",
            " 9   is_apartment          2775 non-null   object \n",
            " 10  studio                23699 non-null  bool   \n",
            " 11  open_plan             23699 non-null  bool   \n",
            " 12  kitchen_area          21421 non-null  float64\n",
            " 13  balcony               12180 non-null  float64\n",
            " 14  locality_name         23650 non-null  object \n",
            " 15  airports_nearest      18157 non-null  float64\n",
            " 16  cityCenters_nearest   18180 non-null  float64\n",
            " 17  parks_around3000      18181 non-null  float64\n",
            " 18  parks_nearest         8079 non-null   float64\n",
            " 19  ponds_around3000      18181 non-null  float64\n",
            " 20  ponds_nearest         9110 non-null   float64\n",
            " 21  days_exposition       20518 non-null  float64\n",
            "dtypes: bool(2), float64(14), int64(3), object(3)\n",
            "memory usage: 3.7+ MB\n"
          ]
        }
      ],
      "source": [
        "data.info()"
      ]
    },
    {
      "cell_type": "markdown",
      "metadata": {
        "id": "Lk4mnQrFWM8d"
      },
      "source": [
        "### Построим общую гистограмму для всех столбцов таблицы:"
      ]
    },
    {
      "cell_type": "code",
      "execution_count": 75,
      "metadata": {
        "colab": {
          "base_uri": "https://localhost:8080/",
          "height": 1000
        },
        "id": "rOx-_QnUWM8e",
        "outputId": "deeffda3-3e3a-436d-e6c3-20b5a4cba5fa",
        "scrolled": true
      },
      "outputs": [
        {
          "data": {
            "image/png": "[encoded data removed]",
            "text/plain": [
              "<Figure size 1080x1440 with 20 Axes>"
            ]
          },
          "metadata": {
            "needs_background": "light"
          },
          "output_type": "display_data"
        }
      ],
      "source": [
        "data.hist(figsize=(15, 20)); # предупреждения перед гистограммами убираем с помощью ;"
      ]
    },
    {
      "cell_type": "markdown",
      "metadata": {
        "id": "ZcN4BVbWWM8f"
      },
      "source": [
        "### Посмотрим, встречаются ли дубликаты, методом duplicated():"
      ]
    },
    {
      "cell_type": "code",
      "execution_count": 76,
      "metadata": {
        "colab": {
          "base_uri": "https://localhost:8080/"
        },
        "id": "BPbt2OCeWM8g",
        "outputId": "378d1d8e-023e-4fdf-d731-5394676a0d40",
        "scrolled": true
      },
      "outputs": [
        {
          "data": {
            "text/plain": [
              "0"
            ]
          },
          "execution_count": 76,
          "metadata": {},
          "output_type": "execute_result"
        }
      ],
      "source": [
        "data.duplicated().sum()"
      ]
    },
    {
      "cell_type": "markdown",
      "metadata": {
        "id": "iCm0CgEPWM8h"
      },
      "source": [
        "### Найдём все пропущенные значения в столбцах:"
      ]
    },
    {
      "cell_type": "code",
      "execution_count": 77,
      "metadata": {
        "colab": {
          "base_uri": "https://localhost:8080/"
        },
        "id": "qqd954prWM8h",
        "outputId": "d7298fe4-677b-4113-9ea9-5ab9b2008cca",
        "scrolled": false
      },
      "outputs": [
        {
          "data": {
            "text/plain": [
              "total_images                0\n",
              "last_price                  0\n",
              "total_area                  0\n",
              "first_day_exposition        0\n",
              "rooms                       0\n",
              "ceiling_height           9195\n",
              "floors_total               86\n",
              "living_area              1903\n",
              "floor                       0\n",
              "is_apartment            20924\n",
              "studio                      0\n",
              "open_plan                   0\n",
              "kitchen_area             2278\n",
              "balcony                 11519\n",
              "locality_name              49\n",
              "airports_nearest         5542\n",
              "cityCenters_nearest      5519\n",
              "parks_around3000         5518\n",
              "parks_nearest           15620\n",
              "ponds_around3000         5518\n",
              "ponds_nearest           14589\n",
              "days_exposition          3181\n",
              "dtype: int64"
            ]
          },
          "execution_count": 77,
          "metadata": {},
          "output_type": "execute_result"
        }
      ],
      "source": [
        "data.isna().sum()"
      ]
    },
    {
      "cell_type": "code",
      "execution_count": 78,
      "metadata": {
        "colab": {
          "base_uri": "https://localhost:8080/",
          "height": 739
        },
        "id": "mnNZU4ZEXrwx",
        "outputId": "65af3bcc-8801-49ba-ca89-818b8536f149"
      },
      "outputs": [
        {
          "data": {
            "text/html": [
              "<style type=\"text/css\">\n",
              "#T_5cd03_row0_col0, #T_5cd03_row1_col0, #T_5cd03_row2_col0, #T_5cd03_row3_col0, #T_5cd03_row4_col0, #T_5cd03_row6_col0, #T_5cd03_row8_col0, #T_5cd03_row10_col0, #T_5cd03_row11_col0, #T_5cd03_row14_col0 {\n",
              "  background-color: #3b4cc0;\n",
              "  color: #f1f1f1;\n",
              "}\n",
              "#T_5cd03_row5_col0 {\n",
              "  background-color: #cdd9ec;\n",
              "  color: #000000;\n",
              "}\n",
              "#T_5cd03_row7_col0 {\n",
              "  background-color: #5673e0;\n",
              "  color: #f1f1f1;\n",
              "}\n",
              "#T_5cd03_row9_col0 {\n",
              "  background-color: #b40426;\n",
              "  color: #f1f1f1;\n",
              "}\n",
              "#T_5cd03_row12_col0 {\n",
              "  background-color: #5e7de7;\n",
              "  color: #f1f1f1;\n",
              "}\n",
              "#T_5cd03_row13_col0 {\n",
              "  background-color: #ead4c8;\n",
              "  color: #000000;\n",
              "}\n",
              "#T_5cd03_row15_col0, #T_5cd03_row16_col0, #T_5cd03_row17_col0, #T_5cd03_row19_col0 {\n",
              "  background-color: #90b2fe;\n",
              "  color: #000000;\n",
              "}\n",
              "#T_5cd03_row18_col0 {\n",
              "  background-color: #f4987a;\n",
              "  color: #000000;\n",
              "}\n",
              "#T_5cd03_row20_col0 {\n",
              "  background-color: #f7aa8c;\n",
              "  color: #000000;\n",
              "}\n",
              "#T_5cd03_row21_col0 {\n",
              "  background-color: #688aef;\n",
              "  color: #f1f1f1;\n",
              "}\n",
              "</style>\n",
              "<table id=\"T_5cd03_\" class=\"dataframe\">\n",
              "  <thead>\n",
              "    <tr>\n",
              "      <th class=\"blank level0\" >&nbsp;</th>\n",
              "      <th class=\"col_heading level0 col0\" >0</th>\n",
              "    </tr>\n",
              "  </thead>\n",
              "  <tbody>\n",
              "    <tr>\n",
              "      <th id=\"T_5cd03_level0_row0\" class=\"row_heading level0 row0\" >total_images</th>\n",
              "      <td id=\"T_5cd03_row0_col0\" class=\"data row0 col0\" >0.000000</td>\n",
              "    </tr>\n",
              "    <tr>\n",
              "      <th id=\"T_5cd03_level0_row1\" class=\"row_heading level0 row1\" >last_price</th>\n",
              "      <td id=\"T_5cd03_row1_col0\" class=\"data row1 col0\" >0.000000</td>\n",
              "    </tr>\n",
              "    <tr>\n",
              "      <th id=\"T_5cd03_level0_row2\" class=\"row_heading level0 row2\" >total_area</th>\n",
              "      <td id=\"T_5cd03_row2_col0\" class=\"data row2 col0\" >0.000000</td>\n",
              "    </tr>\n",
              "    <tr>\n",
              "      <th id=\"T_5cd03_level0_row3\" class=\"row_heading level0 row3\" >first_day_exposition</th>\n",
              "      <td id=\"T_5cd03_row3_col0\" class=\"data row3 col0\" >0.000000</td>\n",
              "    </tr>\n",
              "    <tr>\n",
              "      <th id=\"T_5cd03_level0_row4\" class=\"row_heading level0 row4\" >rooms</th>\n",
              "      <td id=\"T_5cd03_row4_col0\" class=\"data row4 col0\" >0.000000</td>\n",
              "    </tr>\n",
              "    <tr>\n",
              "      <th id=\"T_5cd03_level0_row5\" class=\"row_heading level0 row5\" >ceiling_height</th>\n",
              "      <td id=\"T_5cd03_row5_col0\" class=\"data row5 col0\" >39.000000</td>\n",
              "    </tr>\n",
              "    <tr>\n",
              "      <th id=\"T_5cd03_level0_row6\" class=\"row_heading level0 row6\" >floors_total</th>\n",
              "      <td id=\"T_5cd03_row6_col0\" class=\"data row6 col0\" >0.000000</td>\n",
              "    </tr>\n",
              "    <tr>\n",
              "      <th id=\"T_5cd03_level0_row7\" class=\"row_heading level0 row7\" >living_area</th>\n",
              "      <td id=\"T_5cd03_row7_col0\" class=\"data row7 col0\" >8.000000</td>\n",
              "    </tr>\n",
              "    <tr>\n",
              "      <th id=\"T_5cd03_level0_row8\" class=\"row_heading level0 row8\" >floor</th>\n",
              "      <td id=\"T_5cd03_row8_col0\" class=\"data row8 col0\" >0.000000</td>\n",
              "    </tr>\n",
              "    <tr>\n",
              "      <th id=\"T_5cd03_level0_row9\" class=\"row_heading level0 row9\" >is_apartment</th>\n",
              "      <td id=\"T_5cd03_row9_col0\" class=\"data row9 col0\" >88.000000</td>\n",
              "    </tr>\n",
              "    <tr>\n",
              "      <th id=\"T_5cd03_level0_row10\" class=\"row_heading level0 row10\" >studio</th>\n",
              "      <td id=\"T_5cd03_row10_col0\" class=\"data row10 col0\" >0.000000</td>\n",
              "    </tr>\n",
              "    <tr>\n",
              "      <th id=\"T_5cd03_level0_row11\" class=\"row_heading level0 row11\" >open_plan</th>\n",
              "      <td id=\"T_5cd03_row11_col0\" class=\"data row11 col0\" >0.000000</td>\n",
              "    </tr>\n",
              "    <tr>\n",
              "      <th id=\"T_5cd03_level0_row12\" class=\"row_heading level0 row12\" >kitchen_area</th>\n",
              "      <td id=\"T_5cd03_row12_col0\" class=\"data row12 col0\" >10.000000</td>\n",
              "    </tr>\n",
              "    <tr>\n",
              "      <th id=\"T_5cd03_level0_row13\" class=\"row_heading level0 row13\" >balcony</th>\n",
              "      <td id=\"T_5cd03_row13_col0\" class=\"data row13 col0\" >49.000000</td>\n",
              "    </tr>\n",
              "    <tr>\n",
              "      <th id=\"T_5cd03_level0_row14\" class=\"row_heading level0 row14\" >locality_name</th>\n",
              "      <td id=\"T_5cd03_row14_col0\" class=\"data row14 col0\" >0.000000</td>\n",
              "    </tr>\n",
              "    <tr>\n",
              "      <th id=\"T_5cd03_level0_row15\" class=\"row_heading level0 row15\" >airports_nearest</th>\n",
              "      <td id=\"T_5cd03_row15_col0\" class=\"data row15 col0\" >23.000000</td>\n",
              "    </tr>\n",
              "    <tr>\n",
              "      <th id=\"T_5cd03_level0_row16\" class=\"row_heading level0 row16\" >cityCenters_nearest</th>\n",
              "      <td id=\"T_5cd03_row16_col0\" class=\"data row16 col0\" >23.000000</td>\n",
              "    </tr>\n",
              "    <tr>\n",
              "      <th id=\"T_5cd03_level0_row17\" class=\"row_heading level0 row17\" >parks_around3000</th>\n",
              "      <td id=\"T_5cd03_row17_col0\" class=\"data row17 col0\" >23.000000</td>\n",
              "    </tr>\n",
              "    <tr>\n",
              "      <th id=\"T_5cd03_level0_row18\" class=\"row_heading level0 row18\" >parks_nearest</th>\n",
              "      <td id=\"T_5cd03_row18_col0\" class=\"data row18 col0\" >66.000000</td>\n",
              "    </tr>\n",
              "    <tr>\n",
              "      <th id=\"T_5cd03_level0_row19\" class=\"row_heading level0 row19\" >ponds_around3000</th>\n",
              "      <td id=\"T_5cd03_row19_col0\" class=\"data row19 col0\" >23.000000</td>\n",
              "    </tr>\n",
              "    <tr>\n",
              "      <th id=\"T_5cd03_level0_row20\" class=\"row_heading level0 row20\" >ponds_nearest</th>\n",
              "      <td id=\"T_5cd03_row20_col0\" class=\"data row20 col0\" >62.000000</td>\n",
              "    </tr>\n",
              "    <tr>\n",
              "      <th id=\"T_5cd03_level0_row21\" class=\"row_heading level0 row21\" >days_exposition</th>\n",
              "      <td id=\"T_5cd03_row21_col0\" class=\"data row21 col0\" >13.000000</td>\n",
              "    </tr>\n",
              "  </tbody>\n",
              "</table>\n"
            ],
            "text/plain": [
              "<pandas.io.formats.style.Styler at 0x7fb9a887c610>"
            ]
          },
          "execution_count": 78,
          "metadata": {},
          "output_type": "execute_result"
        }
      ],
      "source": [
        "pd.DataFrame(round(data.isna().mean()*100,)).style.background_gradient('coolwarm') # Проверим колличество пропусков в %"
      ]
    },
    {
      "cell_type": "markdown",
      "metadata": {
        "id": "NM7jE_HKWM8i"
      },
      "source": [
        "### Посмотрим на числовое описание данных методом describe():"
      ]
    },
    {
      "cell_type": "code",
      "execution_count": 79,
      "metadata": {
        "colab": {
          "base_uri": "https://localhost:8080/",
          "height": 364
        },
        "id": "FDI_Y0TMWM8i",
        "outputId": "43cffe90-c9bb-4bce-9fa9-858f5faa6536"
      },
      "outputs": [
        {
          "data": {
            "text/html": [
              "\n",
              "  <div id=\"df-c7e16779-faa3-4d9c-8df8-d4a3f22481e0\">\n",
              "    <div class=\"colab-df-container\">\n",
              "      <div>\n",
              "<style scoped>\n",
              "    .dataframe tbody tr th:only-of-type {\n",
              "        vertical-align: middle;\n",
              "    }\n",
              "\n",
              "    .dataframe tbody tr th {\n",
              "        vertical-align: top;\n",
              "    }\n",
              "\n",
              "    .dataframe thead th {\n",
              "        text-align: right;\n",
              "    }\n",
              "</style>\n",
              "<table border=\"1\" class=\"dataframe\">\n",
              "  <thead>\n",
              "    <tr style=\"text-align: right;\">\n",
              "      <th></th>\n",
              "      <th>total_images</th>\n",
              "      <th>last_price</th>\n",
              "      <th>total_area</th>\n",
              "      <th>rooms</th>\n",
              "      <th>ceiling_height</th>\n",
              "      <th>floors_total</th>\n",
              "      <th>living_area</th>\n",
              "      <th>floor</th>\n",
              "      <th>kitchen_area</th>\n",
              "      <th>balcony</th>\n",
              "      <th>airports_nearest</th>\n",
              "      <th>cityCenters_nearest</th>\n",
              "      <th>parks_around3000</th>\n",
              "      <th>parks_nearest</th>\n",
              "      <th>ponds_around3000</th>\n",
              "      <th>ponds_nearest</th>\n",
              "      <th>days_exposition</th>\n",
              "    </tr>\n",
              "  </thead>\n",
              "  <tbody>\n",
              "    <tr>\n",
              "      <th>count</th>\n",
              "      <td>23699.000000</td>\n",
              "      <td>2.369900e+04</td>\n",
              "      <td>23699.000000</td>\n",
              "      <td>23699.000000</td>\n",
              "      <td>14504.000000</td>\n",
              "      <td>23613.000000</td>\n",
              "      <td>21796.000000</td>\n",
              "      <td>23699.000000</td>\n",
              "      <td>21421.000000</td>\n",
              "      <td>12180.000000</td>\n",
              "      <td>18157.000000</td>\n",
              "      <td>18180.000000</td>\n",
              "      <td>18181.000000</td>\n",
              "      <td>8079.000000</td>\n",
              "      <td>18181.000000</td>\n",
              "      <td>9110.000000</td>\n",
              "      <td>20518.000000</td>\n",
              "    </tr>\n",
              "    <tr>\n",
              "      <th>mean</th>\n",
              "      <td>9.858475</td>\n",
              "      <td>6.541549e+06</td>\n",
              "      <td>60.348651</td>\n",
              "      <td>2.070636</td>\n",
              "      <td>2.771499</td>\n",
              "      <td>10.673824</td>\n",
              "      <td>34.457852</td>\n",
              "      <td>5.892358</td>\n",
              "      <td>10.569807</td>\n",
              "      <td>1.150082</td>\n",
              "      <td>28793.672193</td>\n",
              "      <td>14191.277833</td>\n",
              "      <td>0.611408</td>\n",
              "      <td>490.804555</td>\n",
              "      <td>0.770255</td>\n",
              "      <td>517.980900</td>\n",
              "      <td>180.888634</td>\n",
              "    </tr>\n",
              "    <tr>\n",
              "      <th>std</th>\n",
              "      <td>5.682529</td>\n",
              "      <td>1.088701e+07</td>\n",
              "      <td>35.654083</td>\n",
              "      <td>1.078405</td>\n",
              "      <td>1.261056</td>\n",
              "      <td>6.597173</td>\n",
              "      <td>22.030445</td>\n",
              "      <td>4.885249</td>\n",
              "      <td>5.905438</td>\n",
              "      <td>1.071300</td>\n",
              "      <td>12630.880622</td>\n",
              "      <td>8608.386210</td>\n",
              "      <td>0.802074</td>\n",
              "      <td>342.317995</td>\n",
              "      <td>0.938346</td>\n",
              "      <td>277.720643</td>\n",
              "      <td>219.727988</td>\n",
              "    </tr>\n",
              "    <tr>\n",
              "      <th>min</th>\n",
              "      <td>0.000000</td>\n",
              "      <td>1.219000e+04</td>\n",
              "      <td>12.000000</td>\n",
              "      <td>0.000000</td>\n",
              "      <td>1.000000</td>\n",
              "      <td>1.000000</td>\n",
              "      <td>2.000000</td>\n",
              "      <td>1.000000</td>\n",
              "      <td>1.300000</td>\n",
              "      <td>0.000000</td>\n",
              "      <td>0.000000</td>\n",
              "      <td>181.000000</td>\n",
              "      <td>0.000000</td>\n",
              "      <td>1.000000</td>\n",
              "      <td>0.000000</td>\n",
              "      <td>13.000000</td>\n",
              "      <td>1.000000</td>\n",
              "    </tr>\n",
              "    <tr>\n",
              "      <th>25%</th>\n",
              "      <td>6.000000</td>\n",
              "      <td>3.400000e+06</td>\n",
              "      <td>40.000000</td>\n",
              "      <td>1.000000</td>\n",
              "      <td>2.520000</td>\n",
              "      <td>5.000000</td>\n",
              "      <td>18.600000</td>\n",
              "      <td>2.000000</td>\n",
              "      <td>7.000000</td>\n",
              "      <td>0.000000</td>\n",
              "      <td>18585.000000</td>\n",
              "      <td>9238.000000</td>\n",
              "      <td>0.000000</td>\n",
              "      <td>288.000000</td>\n",
              "      <td>0.000000</td>\n",
              "      <td>294.000000</td>\n",
              "      <td>45.000000</td>\n",
              "    </tr>\n",
              "    <tr>\n",
              "      <th>50%</th>\n",
              "      <td>9.000000</td>\n",
              "      <td>4.650000e+06</td>\n",
              "      <td>52.000000</td>\n",
              "      <td>2.000000</td>\n",
              "      <td>2.650000</td>\n",
              "      <td>9.000000</td>\n",
              "      <td>30.000000</td>\n",
              "      <td>4.000000</td>\n",
              "      <td>9.100000</td>\n",
              "      <td>1.000000</td>\n",
              "      <td>26726.000000</td>\n",
              "      <td>13098.500000</td>\n",
              "      <td>0.000000</td>\n",
              "      <td>455.000000</td>\n",
              "      <td>1.000000</td>\n",
              "      <td>502.000000</td>\n",
              "      <td>95.000000</td>\n",
              "    </tr>\n",
              "    <tr>\n",
              "      <th>75%</th>\n",
              "      <td>14.000000</td>\n",
              "      <td>6.800000e+06</td>\n",
              "      <td>69.900000</td>\n",
              "      <td>3.000000</td>\n",
              "      <td>2.800000</td>\n",
              "      <td>16.000000</td>\n",
              "      <td>42.300000</td>\n",
              "      <td>8.000000</td>\n",
              "      <td>12.000000</td>\n",
              "      <td>2.000000</td>\n",
              "      <td>37273.000000</td>\n",
              "      <td>16293.000000</td>\n",
              "      <td>1.000000</td>\n",
              "      <td>612.000000</td>\n",
              "      <td>1.000000</td>\n",
              "      <td>729.000000</td>\n",
              "      <td>232.000000</td>\n",
              "    </tr>\n",
              "    <tr>\n",
              "      <th>max</th>\n",
              "      <td>50.000000</td>\n",
              "      <td>7.630000e+08</td>\n",
              "      <td>900.000000</td>\n",
              "      <td>19.000000</td>\n",
              "      <td>100.000000</td>\n",
              "      <td>60.000000</td>\n",
              "      <td>409.700000</td>\n",
              "      <td>33.000000</td>\n",
              "      <td>112.000000</td>\n",
              "      <td>5.000000</td>\n",
              "      <td>84869.000000</td>\n",
              "      <td>65968.000000</td>\n",
              "      <td>3.000000</td>\n",
              "      <td>3190.000000</td>\n",
              "      <td>3.000000</td>\n",
              "      <td>1344.000000</td>\n",
              "      <td>1580.000000</td>\n",
              "    </tr>\n",
              "  </tbody>\n",
              "</table>\n",
              "</div>\n",
              "      <button class=\"colab-df-convert\" onclick=\"convertToInteractive('df-c7e16779-faa3-4d9c-8df8-d4a3f22481e0')\"\n",
              "              title=\"Convert this dataframe to an interactive table.\"\n",
              "              style=\"display:none;\">\n",
              "        \n",
              "  <svg xmlns=\"http://www.w3.org/2000/svg\" height=\"24px\"viewBox=\"0 0 24 24\"\n",
              "       width=\"24px\">\n",
              "    <path d=\"M0 0h24v24H0V0z\" fill=\"none\"/>\n",
              "    <path d=\"M18.56 5.44l.94 2.06.94-2.06 2.06-.94-2.06-.94-.94-2.06-.94 2.06-2.06.94zm-11 1L8.5 8.5l.94-2.06 2.06-.94-2.06-.94L8.5 2.5l-.94 2.06-2.06.94zm10 10l.94 2.06.94-2.06 2.06-.94-2.06-.94-.94-2.06-.94 2.06-2.06.94z\"/><path d=\"M17.41 7.96l-1.37-1.37c-.4-.4-.92-.59-1.43-.59-.52 0-1.04.2-1.43.59L10.3 9.45l-7.72 7.72c-.78.78-.78 2.05 0 2.83L4 21.41c.39.39.9.59 1.41.59.51 0 1.02-.2 1.41-.59l7.78-7.78 2.81-2.81c.8-.78.8-2.07 0-2.86zM5.41 20L4 18.59l7.72-7.72 1.47 1.35L5.41 20z\"/>\n",
              "  </svg>\n",
              "      </button>\n",
              "      \n",
              "  <style>\n",
              "    .colab-df-container {\n",
              "      display:flex;\n",
              "      flex-wrap:wrap;\n",
              "      gap: 12px;\n",
              "    }\n",
              "\n",
              "    .colab-df-convert {\n",
              "      background-color: #E8F0FE;\n",
              "      border: none;\n",
              "      border-radius: 50%;\n",
              "      cursor: pointer;\n",
              "      display: none;\n",
              "      fill: #1967D2;\n",
              "      height: 32px;\n",
              "      padding: 0 0 0 0;\n",
              "      width: 32px;\n",
              "    }\n",
              "\n",
              "    .colab-df-convert:hover {\n",
              "      background-color: #E2EBFA;\n",
              "      box-shadow: 0px 1px 2px rgba(60, 64, 67, 0.3), 0px 1px 3px 1px rgba(60, 64, 67, 0.15);\n",
              "      fill: #174EA6;\n",
              "    }\n",
              "\n",
              "    [theme=dark] .colab-df-convert {\n",
              "      background-color: #3B4455;\n",
              "      fill: #D2E3FC;\n",
              "    }\n",
              "\n",
              "    [theme=dark] .colab-df-convert:hover {\n",
              "      background-color: #434B5C;\n",
              "      box-shadow: 0px 1px 3px 1px rgba(0, 0, 0, 0.15);\n",
              "      filter: drop-shadow(0px 1px 2px rgba(0, 0, 0, 0.3));\n",
              "      fill: #FFFFFF;\n",
              "    }\n",
              "  </style>\n",
              "\n",
              "      <script>\n",
              "        const buttonEl =\n",
              "          document.querySelector('#df-c7e16779-faa3-4d9c-8df8-d4a3f22481e0 button.colab-df-convert');\n",
              "        buttonEl.style.display =\n",
              "          google.colab.kernel.accessAllowed ? 'block' : 'none';\n",
              "\n",
              "        async function convertToInteractive(key) {\n",
              "          const element = document.querySelector('#df-c7e16779-faa3-4d9c-8df8-d4a3f22481e0');\n",
              "          const dataTable =\n",
              "            await google.colab.kernel.invokeFunction('convertToInteractive',\n",
              "                                                     [key], {});\n",
              "          if (!dataTable) return;\n",
              "\n",
              "          const docLinkHtml = 'Like what you see? Visit the ' +\n",
              "            '<a target=\"_blank\" href=https://colab.research.google.com/notebooks/data_table.ipynb>data table notebook</a>'\n",
              "            + ' to learn more about interactive tables.';\n",
              "          element.innerHTML = '';\n",
              "          dataTable['output_type'] = 'display_data';\n",
              "          await google.colab.output.renderOutput(dataTable, element);\n",
              "          const docLink = document.createElement('div');\n",
              "          docLink.innerHTML = docLinkHtml;\n",
              "          element.appendChild(docLink);\n",
              "        }\n",
              "      </script>\n",
              "    </div>\n",
              "  </div>\n",
              "  "
            ],
            "text/plain": [
              "       total_images    last_price    total_area         rooms  ceiling_height  \\\n",
              "count  23699.000000  2.369900e+04  23699.000000  23699.000000    14504.000000   \n",
              "mean       9.858475  6.541549e+06     60.348651      2.070636        2.771499   \n",
              "std        5.682529  1.088701e+07     35.654083      1.078405        1.261056   \n",
              "min        0.000000  1.219000e+04     12.000000      0.000000        1.000000   \n",
              "25%        6.000000  3.400000e+06     40.000000      1.000000        2.520000   \n",
              "50%        9.000000  4.650000e+06     52.000000      2.000000        2.650000   \n",
              "75%       14.000000  6.800000e+06     69.900000      3.000000        2.800000   \n",
              "max       50.000000  7.630000e+08    900.000000     19.000000      100.000000   \n",
              "\n",
              "       floors_total   living_area         floor  kitchen_area       balcony  \\\n",
              "count  23613.000000  21796.000000  23699.000000  21421.000000  12180.000000   \n",
              "mean      10.673824     34.457852      5.892358     10.569807      1.150082   \n",
              "std        6.597173     22.030445      4.885249      5.905438      1.071300   \n",
              "min        1.000000      2.000000      1.000000      1.300000      0.000000   \n",
              "25%        5.000000     18.600000      2.000000      7.000000      0.000000   \n",
              "50%        9.000000     30.000000      4.000000      9.100000      1.000000   \n",
              "75%       16.000000     42.300000      8.000000     12.000000      2.000000   \n",
              "max       60.000000    409.700000     33.000000    112.000000      5.000000   \n",
              "\n",
              "       airports_nearest  cityCenters_nearest  parks_around3000  parks_nearest  \\\n",
              "count      18157.000000         18180.000000      18181.000000    8079.000000   \n",
              "mean       28793.672193         14191.277833          0.611408     490.804555   \n",
              "std        12630.880622          8608.386210          0.802074     342.317995   \n",
              "min            0.000000           181.000000          0.000000       1.000000   \n",
              "25%        18585.000000          9238.000000          0.000000     288.000000   \n",
              "50%        26726.000000         13098.500000          0.000000     455.000000   \n",
              "75%        37273.000000         16293.000000          1.000000     612.000000   \n",
              "max        84869.000000         65968.000000          3.000000    3190.000000   \n",
              "\n",
              "       ponds_around3000  ponds_nearest  days_exposition  \n",
              "count      18181.000000    9110.000000     20518.000000  \n",
              "mean           0.770255     517.980900       180.888634  \n",
              "std            0.938346     277.720643       219.727988  \n",
              "min            0.000000      13.000000         1.000000  \n",
              "25%            0.000000     294.000000        45.000000  \n",
              "50%            1.000000     502.000000        95.000000  \n",
              "75%            1.000000     729.000000       232.000000  \n",
              "max            3.000000    1344.000000      1580.000000  "
            ]
          },
          "execution_count": 79,
          "metadata": {},
          "output_type": "execute_result"
        }
      ],
      "source": [
        "data.describe()"
      ]
    },
    {
      "cell_type": "markdown",
      "metadata": {
        "id": "EQ52pD43WM8j"
      },
      "source": [
        "## Предобработка данных"
      ]
    },
    {
      "cell_type": "markdown",
      "metadata": {
        "id": "6zdMlOCNWM8j"
      },
      "source": [
        "### Создадим список с наименованием и описанием столбцов:\n",
        "\n",
        "total_images — число фотографий квартиры в объявлении\n",
        "\n",
        "last_price — цена на момент снятия с публикации\n",
        "\n",
        "total_area — общая площадь квартиры в квадратных метрах (м²)\n",
        "\n",
        "first_day_exposition — дата публикации\n",
        "\n",
        "rooms — число комнат\n",
        "\n",
        "ceiling_height — высота потолков (м)\n",
        "\n",
        "floors_total — всего этажей в доме\n",
        "\n",
        "living_area — жилая площадь в квадратных метрах (м²)\n",
        "\n",
        "floor — этаж\n",
        "\n",
        "is_apartment — апартаменты (булев тип)\n",
        "\n",
        "studio — квартира-студия (булев тип)\n",
        "\n",
        "open_plan — свободная планировка (булев тип)\n",
        "\n",
        "kitchen_area — площадь кухни в квадратных метрах (м²)\n",
        "\n",
        "balcony — число балконов\n",
        "\n",
        "locality_name — название населённого пункта\n",
        "\n",
        "airports_nearest — расстояние до ближайшего аэропорта в метрах (м)\n",
        "\n",
        "cityCenters_nearest — расстояние до центра города (м)\n",
        "\n",
        "parks_around3000 — число парков в радиусе 3 км\n",
        "\n",
        "parks_nearest — расстояние до ближайшего парка (м)\n",
        "\n",
        "ponds_around3000 — число водоёмов в радиусе 3 км\n",
        "\n",
        "ponds_nearest — расстояние до ближайшего водоёма (м)\n",
        "\n",
        "days_exposition — сколько дней было размещено объявление (от публикации до снятия)"
      ]
    },
    {
      "cell_type": "markdown",
      "metadata": {
        "id": "LIZE5vEAWM8k",
        "scrolled": true
      },
      "source": [
        "### Пройдёмся по всему списку столбцов и при необходимости преобразуем данные в этих столбцах:"
      ]
    },
    {
      "cell_type": "markdown",
      "metadata": {
        "id": "QgmJmEzwWM8k"
      },
      "source": [
        "####  total_images — число фотографий квартиры в объявлении.\n",
        "\n",
        "Пропуски отсутствуют. Тип данных int. Столбец не нуждается в преобразовании."
      ]
    },
    {
      "cell_type": "markdown",
      "metadata": {
        "id": "OFX_oyCNWM8l"
      },
      "source": [
        "#### last_price — цена на момент снятия с публикации.\n",
        "Пропуски отсутствуют. Тип данных float. Необходимо преобразовать данные в тип int."
      ]
    },
    {
      "cell_type": "code",
      "execution_count": 80,
      "metadata": {
        "id": "elwHAwBmWM8l"
      },
      "outputs": [],
      "source": [
        "data['last_price'] = data['last_price'].astype(int)"
      ]
    },
    {
      "cell_type": "markdown",
      "metadata": {
        "id": "Vb_39sz8WM8l"
      },
      "source": [
        "#### total_area — общая площадь квартиры в квадратных метрах (м²).\n",
        "Пропуски отсутствуют. Тип данных float. Столбец не нуждается в преобразовании."
      ]
    },
    {
      "cell_type": "markdown",
      "metadata": {
        "id": "ZWr0OeF3WM8m"
      },
      "source": [
        "#### first_day_exposition — дата публикации.\n",
        "Пропуски отсутствуют. Тип данных object. Необходимо преобразовать значения столбца к типу данных datetime."
      ]
    },
    {
      "cell_type": "code",
      "execution_count": 81,
      "metadata": {
        "id": "eJXdZrE0WM8m"
      },
      "outputs": [],
      "source": [
        "data['first_day_exposition'] = pd.to_datetime(data['first_day_exposition'], format='%Y-%m-%dT%H:%M:%S')"
      ]
    },
    {
      "cell_type": "markdown",
      "metadata": {
        "id": "Z35ufrslWM8m"
      },
      "source": [
        "#### rooms — число комнат.\n",
        "Пропуски отсутствуют. Тип данных int. Столбец не нуждается в преобразовании."
      ]
    },
    {
      "cell_type": "markdown",
      "metadata": {
        "id": "joEiUYYoWM8n"
      },
      "source": [
        "#### ceiling_height — высота потолков (м).\n",
        "Количество пропусков 9195. Тип данных float. Заменим пропуски на медианное значение столбца."
      ]
    },
    {
      "cell_type": "code",
      "execution_count": 82,
      "metadata": {
        "id": "7i200WJVWM8n"
      },
      "outputs": [],
      "source": [
        "data['ceiling_height'].fillna(data['ceiling_height'].median(), inplace=True)"
      ]
    },
    {
      "cell_type": "markdown",
      "metadata": {
        "id": "ILSJ_-1LWM8n"
      },
      "source": [
        "#### floors_total — всего этажей в доме.\n",
        "Количество пропусков 86. Тип данных float. Так как выяснить количество этажей в доме не возможно, а количество пропусков мало, то пропуски данного столбца можно удалить. Затем необходимо преобразовать данные в тип int."
      ]
    },
    {
      "cell_type": "code",
      "execution_count": 83,
      "metadata": {
        "id": "k68jPTTGWM8o"
      },
      "outputs": [],
      "source": [
        "data = data.dropna(subset=['floors_total']).copy()\n",
        "data['floors_total'] = data['floors_total'].astype(int)"
      ]
    },
    {
      "cell_type": "markdown",
      "metadata": {
        "id": "Z0M3pgEIWM8o"
      },
      "source": [
        "#### living_area — жилая площадь в квадратных метрах (м²).\n",
        "Количество пропусков 1903. Тип данных float. Заполним пропуски. Сначала посчитаем долю жилой площади от общей площади квартиры по медиане. Затем умножим получившуюся долю на общую площадь."
      ]
    },
    {
      "cell_type": "code",
      "execution_count": 84,
      "metadata": {
        "id": "nzaVCc1mWM8p"
      },
      "outputs": [],
      "source": [
        "living_ratio = data['living_area'].median() / data['total_area'].median().copy()\n",
        "data['living_area'].fillna(living_ratio * data['total_area'], inplace=True)"
      ]
    },
    {
      "cell_type": "markdown",
      "metadata": {
        "id": "by8vbwOOWM8p"
      },
      "source": [
        "#### floor — этаж.\n",
        "Пропуски отсутствуют. Тип данных int. Столбец не нуждается в преобразовании."
      ]
    },
    {
      "cell_type": "markdown",
      "metadata": {
        "id": "vic3QGhuWM8p"
      },
      "source": [
        "#### is_apartment — апартаменты (булев тип).\n",
        "Количество пропусков 20924. Тип данных object. Если нижвижимость является апартаментами, то ей должно быть присвоено значение True. Отсутствие данных (пропуски в строках) могут означать, что недвижимость не является апартаментами. Присвоим пропускам значение False."
      ]
    },
    {
      "cell_type": "code",
      "execution_count": 85,
      "metadata": {
        "id": "CKMc5bxxWM8q"
      },
      "outputs": [],
      "source": [
        "data['is_apartment'] = data['is_apartment'].fillna('False').copy()"
      ]
    },
    {
      "cell_type": "markdown",
      "metadata": {
        "id": "gvkU_dmIWM8q"
      },
      "source": [
        "#### studio — квартира-студия (булев тип).\n",
        "Пропуски отсутствуют. Тип данных bool. Столбец не нуждается в преобразовании."
      ]
    },
    {
      "cell_type": "markdown",
      "metadata": {
        "id": "jqBT7PLdWM8q"
      },
      "source": [
        "#### open_plan — свободная планировка (булев тип).\n",
        "Пропуски отсутствуют. Тип данных bool. Столбец не нуждается в преобразовании."
      ]
    },
    {
      "cell_type": "markdown",
      "metadata": {
        "id": "dVwnDJeyWM8q"
      },
      "source": [
        "#### kitchen_area — площадь кухни в квадратных метрах (м²).\n",
        "Количество пропусков 2278. Тип данных float. Заполним пропуски. Сначала посчитаем долю площади кухни от общей площади квартиры по медиане. Затем умножим получившуюся долю на общую площадь."
      ]
    },
    {
      "cell_type": "code",
      "execution_count": 86,
      "metadata": {
        "id": "dnnCvcG2WM8q"
      },
      "outputs": [],
      "source": [
        "kitchen_ratio = data['kitchen_area'].median() / data['total_area'].median().copy()\n",
        "data['kitchen_area'].fillna(kitchen_ratio * data['total_area'], inplace=True)"
      ]
    },
    {
      "cell_type": "markdown",
      "metadata": {
        "id": "fX_Agw7oWM8r"
      },
      "source": [
        "#### balcony — число балконов.\n",
        "Количество пропусков 11519. Тип данных float. Отсутствие данных о количестве балконов может говорить о том, что балконы отсутствуют в принципе. Заменим пропуски на 0. Затем необходимо преобразовать данные в тип int."
      ]
    },
    {
      "cell_type": "code",
      "execution_count": 87,
      "metadata": {
        "id": "euiglGO8WM8r"
      },
      "outputs": [],
      "source": [
        "data['balcony'] = data['balcony'].fillna('0')\n",
        "data['balcony'] = data['balcony'].astype(int)"
      ]
    },
    {
      "cell_type": "markdown",
      "metadata": {
        "id": "IRR5ictEWM8s"
      },
      "source": [
        "#### locality_name — название населённого пункта.\n",
        "Количество пропусков 49. Тип данных object. Поскольку определить название населённых пунктов невозможно, а количество строк с пропусками мало, удалим данные строки. \n",
        "\n",
        "Посмотрим уникальные значения, выявим неявные дубликаты и избавимся от них."
      ]
    },
    {
      "cell_type": "code",
      "execution_count": 88,
      "metadata": {
        "id": "3XWqeTwdWM8s"
      },
      "outputs": [],
      "source": [
        "data = data.dropna(subset=['locality_name'])"
      ]
    },
    {
      "cell_type": "code",
      "execution_count": 89,
      "metadata": {
        "colab": {
          "base_uri": "https://localhost:8080/"
        },
        "id": "jkaGbtUeWM8t",
        "outputId": "78e5cc36-e2c7-43ca-9261-0849e39ef779",
        "scrolled": true
      },
      "outputs": [
        {
          "data": {
            "text/plain": [
              "['Бокситогорск',\n",
              " 'Волосово',\n",
              " 'Волхов',\n",
              " 'Всеволожск',\n",
              " 'Выборг',\n",
              " 'Высоцк',\n",
              " 'Гатчина',\n",
              " 'Зеленогорск',\n",
              " 'Ивангород',\n",
              " 'Каменногорск',\n",
              " 'Кингисепп',\n",
              " 'Кириши',\n",
              " 'Кировск',\n",
              " 'Колпино',\n",
              " 'Коммунар',\n",
              " 'Красное Село',\n",
              " 'Кронштадт',\n",
              " 'Кудрово',\n",
              " 'Лодейное Поле',\n",
              " 'Ломоносов',\n",
              " 'Луга',\n",
              " 'Любань',\n",
              " 'Мурино',\n",
              " 'Никольское',\n",
              " 'Новая Ладога',\n",
              " 'Отрадное',\n",
              " 'Павловск',\n",
              " 'Петергоф',\n",
              " 'Пикалёво',\n",
              " 'Подпорожье',\n",
              " 'Приморск',\n",
              " 'Приозерск',\n",
              " 'Пушкин',\n",
              " 'Санкт-Петербург',\n",
              " 'Светогорск',\n",
              " 'Сертолово',\n",
              " 'Сестрорецк',\n",
              " 'Сланцы',\n",
              " 'Сосновый Бор',\n",
              " 'Сясьстрой',\n",
              " 'Тихвин',\n",
              " 'Тосно',\n",
              " 'Шлиссельбург',\n",
              " 'городской поселок Большая Ижора',\n",
              " 'городской поселок Янино-1',\n",
              " 'городской посёлок Будогощь',\n",
              " 'городской посёлок Виллози',\n",
              " 'городской посёлок Лесогорский',\n",
              " 'городской посёлок Мга',\n",
              " 'городской посёлок Назия',\n",
              " 'городской посёлок Новоселье',\n",
              " 'городской посёлок Павлово',\n",
              " 'городской посёлок Рощино',\n",
              " 'городской посёлок Свирьстрой',\n",
              " 'городской посёлок Советский',\n",
              " 'городской посёлок Фёдоровское',\n",
              " 'городской посёлок Янино-1',\n",
              " 'деревня Агалатово',\n",
              " 'деревня Аро',\n",
              " 'деревня Батово',\n",
              " 'деревня Бегуницы',\n",
              " 'деревня Белогорка',\n",
              " 'деревня Большая Вруда',\n",
              " 'деревня Большая Пустомержа',\n",
              " 'деревня Большие Колпаны',\n",
              " 'деревня Большое Рейзино',\n",
              " 'деревня Большой Сабск',\n",
              " 'деревня Бор',\n",
              " 'деревня Борисова Грива',\n",
              " 'деревня Ваганово',\n",
              " 'деревня Вартемяги',\n",
              " 'деревня Вахнова Кара',\n",
              " 'деревня Выскатка',\n",
              " 'деревня Гарболово',\n",
              " 'деревня Глинка',\n",
              " 'деревня Горбунки',\n",
              " 'деревня Гостилицы',\n",
              " 'деревня Заклинье',\n",
              " 'деревня Заневка',\n",
              " 'деревня Зимитицы',\n",
              " 'деревня Извара',\n",
              " 'деревня Иссад',\n",
              " 'деревня Калитино',\n",
              " 'деревня Кальтино',\n",
              " 'деревня Камышовка',\n",
              " 'деревня Каськово',\n",
              " 'деревня Келози',\n",
              " 'деревня Кипень',\n",
              " 'деревня Кисельня',\n",
              " 'деревня Колтуши',\n",
              " 'деревня Коркино',\n",
              " 'деревня Котлы',\n",
              " 'деревня Кривко',\n",
              " 'деревня Кудрово',\n",
              " 'деревня Кузьмолово',\n",
              " 'деревня Курковицы',\n",
              " 'деревня Куровицы',\n",
              " 'деревня Куттузи',\n",
              " 'деревня Лаврики',\n",
              " 'деревня Лаголово',\n",
              " 'деревня Лампово',\n",
              " 'деревня Лесколово',\n",
              " 'деревня Лопухинка',\n",
              " 'деревня Лупполово',\n",
              " 'деревня Малая Романовка',\n",
              " 'деревня Малое Верево',\n",
              " 'деревня Малое Карлино',\n",
              " 'деревня Малые Колпаны',\n",
              " 'деревня Мануйлово',\n",
              " 'деревня Меньково',\n",
              " 'деревня Мины',\n",
              " 'деревня Мистолово',\n",
              " 'деревня Ненимяки',\n",
              " 'деревня Нижние Осельки',\n",
              " 'деревня Нижняя',\n",
              " 'деревня Низино',\n",
              " 'деревня Новое Девяткино',\n",
              " 'деревня Новолисино',\n",
              " 'деревня Нурма',\n",
              " 'деревня Оржицы',\n",
              " 'деревня Парицы',\n",
              " 'деревня Пельгора',\n",
              " 'деревня Пеники',\n",
              " 'деревня Пижма',\n",
              " 'деревня Пикколово',\n",
              " 'деревня Пудомяги',\n",
              " 'деревня Пустынка',\n",
              " 'деревня Пчева',\n",
              " 'деревня Рабитицы',\n",
              " 'деревня Разбегаево',\n",
              " 'деревня Раздолье',\n",
              " 'деревня Разметелево',\n",
              " 'деревня Рапполово',\n",
              " 'деревня Реброво',\n",
              " 'деревня Русско',\n",
              " 'деревня Сижно',\n",
              " 'деревня Снегирёвка',\n",
              " 'деревня Старая',\n",
              " 'деревня Старая Пустошь',\n",
              " 'деревня Старое Хинколово',\n",
              " 'деревня Старополье',\n",
              " 'деревня Старосиверская',\n",
              " 'деревня Старые Бегуницы',\n",
              " 'деревня Суоранда',\n",
              " 'деревня Сяськелево',\n",
              " 'деревня Тарасово',\n",
              " 'деревня Терпилицы',\n",
              " 'деревня Тихковицы',\n",
              " 'деревня Тойворово',\n",
              " 'деревня Торосово',\n",
              " 'деревня Торошковичи',\n",
              " 'деревня Трубников Бор',\n",
              " 'деревня Фалилеево',\n",
              " 'деревня Фёдоровское',\n",
              " 'деревня Хапо-Ое',\n",
              " 'деревня Хязельки',\n",
              " 'деревня Чудской Бор',\n",
              " 'деревня Шпаньково',\n",
              " 'деревня Щеглово',\n",
              " 'деревня Юкки',\n",
              " 'деревня Ялгино',\n",
              " 'деревня Яльгелево',\n",
              " 'деревня Ям-Тесово',\n",
              " 'коттеджный поселок Кивеннапа Север',\n",
              " 'коттеджный поселок Счастье',\n",
              " 'коттеджный посёлок Лесное',\n",
              " 'поселок Аннино',\n",
              " 'поселок Барышево',\n",
              " 'поселок Бугры',\n",
              " 'поселок Возрождение',\n",
              " 'поселок Войсковицы',\n",
              " 'поселок Володарское',\n",
              " 'поселок Гаврилово',\n",
              " 'поселок Гарболово',\n",
              " 'поселок Гладкое',\n",
              " 'поселок Глажево',\n",
              " 'поселок Глебычево',\n",
              " 'поселок Гончарово',\n",
              " 'поселок Громово',\n",
              " 'поселок Дружноселье',\n",
              " 'поселок Елизаветино',\n",
              " 'поселок Жилгородок',\n",
              " 'поселок Жилпосёлок',\n",
              " 'поселок Житково',\n",
              " 'поселок Заводской',\n",
              " 'поселок Запорожское',\n",
              " 'поселок Зимитицы',\n",
              " 'поселок Ильичёво',\n",
              " 'поселок Калитино',\n",
              " 'поселок Каложицы',\n",
              " 'поселок Кингисеппский',\n",
              " 'поселок Кирпичное',\n",
              " 'поселок Кобралово',\n",
              " 'поселок Кобринское',\n",
              " 'поселок Коммунары',\n",
              " 'поселок Коробицыно',\n",
              " 'поселок Котельский',\n",
              " 'поселок Красная Долина',\n",
              " 'поселок Красносельское',\n",
              " 'поселок Лесное',\n",
              " 'поселок Лисий Нос',\n",
              " 'поселок Лукаши',\n",
              " 'поселок Любань',\n",
              " 'поселок Мельниково',\n",
              " 'поселок Мичуринское',\n",
              " 'поселок Молодцово',\n",
              " 'поселок Мурино',\n",
              " 'поселок Новый Свет',\n",
              " 'поселок Новый Учхоз',\n",
              " 'поселок Оредеж',\n",
              " 'поселок Пансионат Зелёный Бор',\n",
              " 'поселок Первомайское',\n",
              " 'поселок Перово',\n",
              " 'поселок Петровское',\n",
              " 'поселок Победа',\n",
              " 'поселок Поляны',\n",
              " 'поселок Почап',\n",
              " 'поселок Починок',\n",
              " 'поселок Пушное',\n",
              " 'поселок Пчевжа',\n",
              " 'поселок Рабитицы',\n",
              " 'поселок Романовка',\n",
              " 'поселок Ромашки',\n",
              " 'поселок Рябово',\n",
              " 'поселок Севастьяново',\n",
              " 'поселок Селезнёво',\n",
              " 'поселок Сельцо',\n",
              " 'поселок Семиозерье',\n",
              " 'поселок Семрино',\n",
              " 'поселок Серебрянский',\n",
              " 'поселок Совхозный',\n",
              " 'поселок Старая Малукса',\n",
              " 'поселок Стеклянный',\n",
              " 'поселок Сумино',\n",
              " 'поселок Суходолье',\n",
              " 'поселок Тельмана',\n",
              " 'поселок Терволово',\n",
              " 'поселок Торковичи',\n",
              " 'поселок Тёсово-4',\n",
              " 'поселок Углово',\n",
              " 'поселок Усть-Луга',\n",
              " 'поселок Ушаки',\n",
              " 'поселок Цвелодубово',\n",
              " 'поселок Цвылёво',\n",
              " 'поселок городского типа Большая Ижора',\n",
              " 'поселок городского типа Вырица',\n",
              " 'поселок городского типа Дружная Горка',\n",
              " 'поселок городского типа Дубровка',\n",
              " 'поселок городского типа Ефимовский',\n",
              " 'поселок городского типа Кондратьево',\n",
              " 'поселок городского типа Красный Бор',\n",
              " 'поселок городского типа Кузьмоловский',\n",
              " 'поселок городского типа Лебяжье',\n",
              " 'поселок городского типа Лесогорский',\n",
              " 'поселок городского типа Назия',\n",
              " 'поселок городского типа Никольский',\n",
              " 'поселок городского типа Приладожский',\n",
              " 'поселок городского типа Рахья',\n",
              " 'поселок городского типа Рощино',\n",
              " 'поселок городского типа Рябово',\n",
              " 'поселок городского типа Синявино',\n",
              " 'поселок городского типа Советский',\n",
              " 'поселок городского типа Токсово',\n",
              " 'поселок городского типа Форносово',\n",
              " 'поселок городского типа имени Свердлова',\n",
              " 'поселок станции Вещево',\n",
              " 'поселок станции Корнево',\n",
              " 'поселок станции Лужайка',\n",
              " 'поселок станции Приветнинское',\n",
              " 'посёлок Александровская',\n",
              " 'посёлок Алексеевка',\n",
              " 'посёлок Аннино',\n",
              " 'посёлок Белоостров',\n",
              " 'посёлок Бугры',\n",
              " 'посёлок Возрождение',\n",
              " 'посёлок Войскорово',\n",
              " 'посёлок Высокоключевой',\n",
              " 'посёлок Гаврилово',\n",
              " 'посёлок Дзержинского',\n",
              " 'посёлок Жилгородок',\n",
              " 'посёлок Ильичёво',\n",
              " 'посёлок Кикерино',\n",
              " 'посёлок Кобралово',\n",
              " 'посёлок Коробицыно',\n",
              " 'посёлок Левашово',\n",
              " 'посёлок Ленинское',\n",
              " 'посёлок Лисий Нос',\n",
              " 'посёлок Мельниково',\n",
              " 'посёлок Металлострой',\n",
              " 'посёлок Мичуринское',\n",
              " 'посёлок Молодёжное',\n",
              " 'посёлок Мурино',\n",
              " 'посёлок Мыза-Ивановка',\n",
              " 'посёлок Новогорелово',\n",
              " 'посёлок Новый Свет',\n",
              " 'посёлок Пансионат Зелёный Бор',\n",
              " 'посёлок Парголово',\n",
              " 'посёлок Перово',\n",
              " 'посёлок Песочный',\n",
              " 'посёлок Петро-Славянка',\n",
              " 'посёлок Петровское',\n",
              " 'посёлок Платформа 69-й километр',\n",
              " 'посёлок Плодовое',\n",
              " 'посёлок Плоское',\n",
              " 'посёлок Победа',\n",
              " 'посёлок Поляны',\n",
              " 'посёлок Понтонный',\n",
              " 'посёлок Пригородный',\n",
              " 'посёлок Пудость',\n",
              " 'посёлок Репино',\n",
              " 'посёлок Ропша',\n",
              " 'посёлок Сапёрное',\n",
              " 'посёлок Сапёрный',\n",
              " 'посёлок Сосново',\n",
              " 'посёлок Старая Малукса',\n",
              " 'посёлок Стеклянный',\n",
              " 'посёлок Стрельна',\n",
              " 'посёлок Суйда',\n",
              " 'посёлок Сумино',\n",
              " 'посёлок Тельмана',\n",
              " 'посёлок Терволово',\n",
              " 'посёлок Торфяное',\n",
              " 'посёлок Усть-Ижора',\n",
              " 'посёлок Усть-Луга',\n",
              " 'посёлок Форт Красная Горка',\n",
              " 'посёлок Шугозеро',\n",
              " 'посёлок Шушары',\n",
              " 'посёлок Щеглово',\n",
              " 'посёлок городского типа Важины',\n",
              " 'посёлок городского типа Вознесенье',\n",
              " 'посёлок городского типа Вырица',\n",
              " 'посёлок городского типа Красный Бор',\n",
              " 'посёлок городского типа Кузнечное',\n",
              " 'посёлок городского типа Кузьмоловский',\n",
              " 'посёлок городского типа Лебяжье',\n",
              " 'посёлок городского типа Мга',\n",
              " 'посёлок городского типа Павлово',\n",
              " 'посёлок городского типа Рощино',\n",
              " 'посёлок городского типа Рябово',\n",
              " 'посёлок городского типа Сиверский',\n",
              " 'посёлок городского типа Тайцы',\n",
              " 'посёлок городского типа Токсово',\n",
              " 'посёлок городского типа Ульяновка',\n",
              " 'посёлок городского типа Форносово',\n",
              " 'посёлок городского типа имени Морозова',\n",
              " 'посёлок городского типа имени Свердлова',\n",
              " 'посёлок при железнодорожной станции Вещево',\n",
              " 'посёлок при железнодорожной станции Приветнинское',\n",
              " 'посёлок станции Громово',\n",
              " 'посёлок станции Свирь',\n",
              " 'садоводческое некоммерческое товарищество Лесная Поляна',\n",
              " 'садовое товарищество Новая Ропша',\n",
              " 'садовое товарищество Приладожский',\n",
              " 'садовое товарищество Рахья',\n",
              " 'садовое товарищество Садко',\n",
              " 'село Копорье',\n",
              " 'село Никольское',\n",
              " 'село Павлово',\n",
              " 'село Паша',\n",
              " 'село Путилово',\n",
              " 'село Рождествено',\n",
              " 'село Русско-Высоцкое',\n",
              " 'село Старая Ладога',\n",
              " 'село Шум']"
            ]
          },
          "execution_count": 89,
          "metadata": {},
          "output_type": "execute_result"
        }
      ],
      "source": [
        "sorted(data['locality_name'].unique())"
      ]
    },
    {
      "cell_type": "code",
      "execution_count": 90,
      "metadata": {
        "id": "p6FcBK2TWM8t"
      },
      "outputs": [],
      "source": [
        "replace_dict = ['поселок ', 'городского типа ', 'городской ',  'деревня ', \n",
        "                'коттеджный ', 'село ', 'посёлок ', 'при железнодорожной станции ',\n",
        "                'станции ', 'садоводческое некоммерческое товарищество ', 'садовое товарищество '].copy()\n",
        "\n",
        "for value in replace_dict:\n",
        "    data['locality_name'] = data['locality_name'].str.replace(value, '')"
      ]
    },
    {
      "cell_type": "markdown",
      "metadata": {
        "id": "At9JGELKWM8u"
      },
      "source": [
        "#### airports_nearest — расстояние до ближайшего аэропорта в метрах (м).\n",
        "Количество пропусков 5542. Тип данных float. Количество пропусков относительно велико, в данном контексте, такую \"вещь\" как расстояние заполнять средней или медианной величиной некорректно. Для заполнения данных необходимы конкретные адреса, а не названия населённых пунктов. На данном этапе оставим данные без изменений."
      ]
    },
    {
      "cell_type": "markdown",
      "metadata": {
        "id": "BUy8rK9TWM8u"
      },
      "source": [
        "#### cityCenters_nearest — расстояние до центра города (м).\n",
        "Количество пропусков 5519. Тип данных float. Количество пропусков относительно велико, в данном контексте, такую \"вещь\" как расстояние заполнять средней или медианной величиной некорректно. Для заполнения данных необходимы конкретные адреса, а не названия населённых пунктов. На данном этапе оставим данные без изменений"
      ]
    },
    {
      "cell_type": "markdown",
      "metadata": {
        "id": "yyN9I3-eWM8u"
      },
      "source": [
        "#### parks_around3000 — число парков в радиусе 3 км.\n",
        "Количество пропусков 5518. Тип данных float. В целом данные пропуски можно было бы заменить медианным значением по столбцу, но поскольку невозможно оценить реальное количество парков, заменим пропущенные значения на 0. Затем преобразуем данные в тип int."
      ]
    },
    {
      "cell_type": "code",
      "execution_count": 91,
      "metadata": {
        "id": "j0PsV7dtWM8u"
      },
      "outputs": [],
      "source": [
        "data['parks_around3000'] = data['parks_around3000'].fillna(value=0)\n",
        "data['parks_around3000'] = data['parks_around3000'].astype(int)"
      ]
    },
    {
      "cell_type": "markdown",
      "metadata": {
        "id": "8IBWaCgeWM8v"
      },
      "source": [
        "#### parks_nearest — расстояние до ближайшего парка (м).\n",
        "Количество пропусков 15620. Тип данных float. Хотя количество пропусков велико, в данном контексте, такую \"вещь\" как расстояние заполнять средней или медианной величиной некорректно. Для заполнения данных необходимы конкретные адреса, а не названия населённых пунктов. На данном этапе оставим данные без изменений"
      ]
    },
    {
      "cell_type": "markdown",
      "metadata": {
        "id": "QYzbFQLLWM8v"
      },
      "source": [
        "#### ponds_around3000 — число водоёмов в радиусе 3 км.\n",
        "Количество пропусков 5518. Тип данных float. В целом данные пропуски можно было бы заменить медианным значением по столбцу, но поскольку невозможно оценить реальное количество водоёмов, заменим пропущенные значения на 0. Затем преобразуем данные в тип int."
      ]
    },
    {
      "cell_type": "code",
      "execution_count": 92,
      "metadata": {
        "id": "_gCBUL9DWM8v"
      },
      "outputs": [],
      "source": [
        "data['ponds_around3000'] = data['ponds_around3000'].fillna(value=0)\n",
        "data['ponds_around3000'] = data['ponds_around3000'].astype(int)"
      ]
    },
    {
      "cell_type": "markdown",
      "metadata": {
        "id": "QqjYZ_NsWM8w"
      },
      "source": [
        "#### ponds_nearest — расстояние до ближайшего водоёма (м).\n",
        "Количество пропусков 14589. Тип данных float. Хотя количество пропусков велико, в данном контексте, такую \"вещь\" как расстояние заполнять средней или медианной величиной некорректно. Для заполнения данных необходимы конкретные адреса, а не названия населённых пунктов. На данном этапе оставим данные без изменений."
      ]
    },
    {
      "cell_type": "markdown",
      "metadata": {
        "id": "vBtcOevmWM8w"
      },
      "source": [
        "#### days_exposition — сколько дней было размещено объявление (от публикации до снятия).\n",
        "Количество пропусков 3181. Тип данных float. Количество пропусков относительно велико, но не имея реальной информации по количеству дней размещения объявления заполнять пропуски средней или медианной величиной некорректно. На данном этапе оставим данные без изменений."
      ]
    },
    {
      "cell_type": "markdown",
      "metadata": {
        "id": "bCJgByJzWM8x"
      },
      "source": [
        "### Поиск и обработка аномалий\n",
        "Найдём и устраним редкие и выбивающиеся значения."
      ]
    },
    {
      "cell_type": "code",
      "execution_count": 93,
      "metadata": {
        "colab": {
          "base_uri": "https://localhost:8080/",
          "height": 364
        },
        "id": "uRmV4BNKWM8x",
        "outputId": "1268f224-fa9d-4683-cd82-b6f79daf9c71"
      },
      "outputs": [
        {
          "data": {
            "text/html": [
              "\n",
              "  <div id=\"df-4cd21f17-920d-4d64-b4ab-1915cdc8662b\">\n",
              "    <div class=\"colab-df-container\">\n",
              "      <div>\n",
              "<style scoped>\n",
              "    .dataframe tbody tr th:only-of-type {\n",
              "        vertical-align: middle;\n",
              "    }\n",
              "\n",
              "    .dataframe tbody tr th {\n",
              "        vertical-align: top;\n",
              "    }\n",
              "\n",
              "    .dataframe thead th {\n",
              "        text-align: right;\n",
              "    }\n",
              "</style>\n",
              "<table border=\"1\" class=\"dataframe\">\n",
              "  <thead>\n",
              "    <tr style=\"text-align: right;\">\n",
              "      <th></th>\n",
              "      <th>total_images</th>\n",
              "      <th>last_price</th>\n",
              "      <th>total_area</th>\n",
              "      <th>rooms</th>\n",
              "      <th>ceiling_height</th>\n",
              "      <th>floors_total</th>\n",
              "      <th>living_area</th>\n",
              "      <th>floor</th>\n",
              "      <th>kitchen_area</th>\n",
              "      <th>balcony</th>\n",
              "      <th>airports_nearest</th>\n",
              "      <th>cityCenters_nearest</th>\n",
              "      <th>parks_around3000</th>\n",
              "      <th>parks_nearest</th>\n",
              "      <th>ponds_around3000</th>\n",
              "      <th>ponds_nearest</th>\n",
              "      <th>days_exposition</th>\n",
              "    </tr>\n",
              "  </thead>\n",
              "  <tbody>\n",
              "    <tr>\n",
              "      <th>count</th>\n",
              "      <td>23565.000000</td>\n",
              "      <td>2.151900e+04</td>\n",
              "      <td>22326.000000</td>\n",
              "      <td>23565.000000</td>\n",
              "      <td>20601.000000</td>\n",
              "      <td>23565.000000</td>\n",
              "      <td>22678.000000</td>\n",
              "      <td>23565.000000</td>\n",
              "      <td>22250.000000</td>\n",
              "      <td>23565.000000</td>\n",
              "      <td>18041.000000</td>\n",
              "      <td>18064.000000</td>\n",
              "      <td>23565.000000</td>\n",
              "      <td>8030.000000</td>\n",
              "      <td>23565.000000</td>\n",
              "      <td>9036.000000</td>\n",
              "      <td>18721.000000</td>\n",
              "    </tr>\n",
              "    <tr>\n",
              "      <th>mean</th>\n",
              "      <td>9.878421</td>\n",
              "      <td>4.837115e+06</td>\n",
              "      <td>54.319704</td>\n",
              "      <td>2.013495</td>\n",
              "      <td>2.631089</td>\n",
              "      <td>10.675875</td>\n",
              "      <td>31.544202</td>\n",
              "      <td>5.878124</td>\n",
              "      <td>9.417492</td>\n",
              "      <td>0.593677</td>\n",
              "      <td>28797.082701</td>\n",
              "      <td>14192.656056</td>\n",
              "      <td>0.468831</td>\n",
              "      <td>490.580448</td>\n",
              "      <td>0.589900</td>\n",
              "      <td>518.289509</td>\n",
              "      <td>128.299343</td>\n",
              "    </tr>\n",
              "    <tr>\n",
              "      <th>std</th>\n",
              "      <td>5.681156</td>\n",
              "      <td>2.215774e+06</td>\n",
              "      <td>19.331030</td>\n",
              "      <td>0.986750</td>\n",
              "      <td>0.081473</td>\n",
              "      <td>6.594823</td>\n",
              "      <td>13.750882</td>\n",
              "      <td>4.871485</td>\n",
              "      <td>3.177448</td>\n",
              "      <td>0.960660</td>\n",
              "      <td>12632.499735</td>\n",
              "      <td>8613.348153</td>\n",
              "      <td>0.748403</td>\n",
              "      <td>341.572956</td>\n",
              "      <td>0.883966</td>\n",
              "      <td>278.009558</td>\n",
              "      <td>121.064671</td>\n",
              "    </tr>\n",
              "    <tr>\n",
              "      <th>min</th>\n",
              "      <td>0.000000</td>\n",
              "      <td>1.219000e+04</td>\n",
              "      <td>12.000000</td>\n",
              "      <td>0.000000</td>\n",
              "      <td>2.460000</td>\n",
              "      <td>1.000000</td>\n",
              "      <td>2.000000</td>\n",
              "      <td>1.000000</td>\n",
              "      <td>1.300000</td>\n",
              "      <td>0.000000</td>\n",
              "      <td>0.000000</td>\n",
              "      <td>181.000000</td>\n",
              "      <td>0.000000</td>\n",
              "      <td>1.000000</td>\n",
              "      <td>0.000000</td>\n",
              "      <td>13.000000</td>\n",
              "      <td>1.000000</td>\n",
              "    </tr>\n",
              "    <tr>\n",
              "      <th>25%</th>\n",
              "      <td>6.000000</td>\n",
              "      <td>3.300000e+06</td>\n",
              "      <td>39.400000</td>\n",
              "      <td>1.000000</td>\n",
              "      <td>2.600000</td>\n",
              "      <td>5.000000</td>\n",
              "      <td>18.700000</td>\n",
              "      <td>2.000000</td>\n",
              "      <td>7.000000</td>\n",
              "      <td>0.000000</td>\n",
              "      <td>18565.000000</td>\n",
              "      <td>9238.000000</td>\n",
              "      <td>0.000000</td>\n",
              "      <td>288.000000</td>\n",
              "      <td>0.000000</td>\n",
              "      <td>293.000000</td>\n",
              "      <td>41.000000</td>\n",
              "    </tr>\n",
              "    <tr>\n",
              "      <th>50%</th>\n",
              "      <td>9.000000</td>\n",
              "      <td>4.400000e+06</td>\n",
              "      <td>50.000000</td>\n",
              "      <td>2.000000</td>\n",
              "      <td>2.650000</td>\n",
              "      <td>9.000000</td>\n",
              "      <td>30.000000</td>\n",
              "      <td>4.000000</td>\n",
              "      <td>9.000000</td>\n",
              "      <td>0.000000</td>\n",
              "      <td>26757.000000</td>\n",
              "      <td>13096.500000</td>\n",
              "      <td>0.000000</td>\n",
              "      <td>455.000000</td>\n",
              "      <td>0.000000</td>\n",
              "      <td>503.000000</td>\n",
              "      <td>85.000000</td>\n",
              "    </tr>\n",
              "    <tr>\n",
              "      <th>75%</th>\n",
              "      <td>14.000000</td>\n",
              "      <td>6.000000e+06</td>\n",
              "      <td>65.500000</td>\n",
              "      <td>3.000000</td>\n",
              "      <td>2.650000</td>\n",
              "      <td>16.000000</td>\n",
              "      <td>40.700000</td>\n",
              "      <td>8.000000</td>\n",
              "      <td>11.000000</td>\n",
              "      <td>1.000000</td>\n",
              "      <td>37273.000000</td>\n",
              "      <td>16285.000000</td>\n",
              "      <td>1.000000</td>\n",
              "      <td>612.000000</td>\n",
              "      <td>1.000000</td>\n",
              "      <td>730.000000</td>\n",
              "      <td>182.000000</td>\n",
              "    </tr>\n",
              "    <tr>\n",
              "      <th>max</th>\n",
              "      <td>50.000000</td>\n",
              "      <td>1.186686e+07</td>\n",
              "      <td>114.200000</td>\n",
              "      <td>5.000000</td>\n",
              "      <td>2.850000</td>\n",
              "      <td>60.000000</td>\n",
              "      <td>76.730769</td>\n",
              "      <td>33.000000</td>\n",
              "      <td>19.450000</td>\n",
              "      <td>5.000000</td>\n",
              "      <td>84869.000000</td>\n",
              "      <td>65968.000000</td>\n",
              "      <td>3.000000</td>\n",
              "      <td>3190.000000</td>\n",
              "      <td>3.000000</td>\n",
              "      <td>1344.000000</td>\n",
              "      <td>509.000000</td>\n",
              "    </tr>\n",
              "  </tbody>\n",
              "</table>\n",
              "</div>\n",
              "      <button class=\"colab-df-convert\" onclick=\"convertToInteractive('df-4cd21f17-920d-4d64-b4ab-1915cdc8662b')\"\n",
              "              title=\"Convert this dataframe to an interactive table.\"\n",
              "              style=\"display:none;\">\n",
              "        \n",
              "  <svg xmlns=\"http://www.w3.org/2000/svg\" height=\"24px\"viewBox=\"0 0 24 24\"\n",
              "       width=\"24px\">\n",
              "    <path d=\"M0 0h24v24H0V0z\" fill=\"none\"/>\n",
              "    <path d=\"M18.56 5.44l.94 2.06.94-2.06 2.06-.94-2.06-.94-.94-2.06-.94 2.06-2.06.94zm-11 1L8.5 8.5l.94-2.06 2.06-.94-2.06-.94L8.5 2.5l-.94 2.06-2.06.94zm10 10l.94 2.06.94-2.06 2.06-.94-2.06-.94-.94-2.06-.94 2.06-2.06.94z\"/><path d=\"M17.41 7.96l-1.37-1.37c-.4-.4-.92-.59-1.43-.59-.52 0-1.04.2-1.43.59L10.3 9.45l-7.72 7.72c-.78.78-.78 2.05 0 2.83L4 21.41c.39.39.9.59 1.41.59.51 0 1.02-.2 1.41-.59l7.78-7.78 2.81-2.81c.8-.78.8-2.07 0-2.86zM5.41 20L4 18.59l7.72-7.72 1.47 1.35L5.41 20z\"/>\n",
              "  </svg>\n",
              "      </button>\n",
              "      \n",
              "  <style>\n",
              "    .colab-df-container {\n",
              "      display:flex;\n",
              "      flex-wrap:wrap;\n",
              "      gap: 12px;\n",
              "    }\n",
              "\n",
              "    .colab-df-convert {\n",
              "      background-color: #E8F0FE;\n",
              "      border: none;\n",
              "      border-radius: 50%;\n",
              "      cursor: pointer;\n",
              "      display: none;\n",
              "      fill: #1967D2;\n",
              "      height: 32px;\n",
              "      padding: 0 0 0 0;\n",
              "      width: 32px;\n",
              "    }\n",
              "\n",
              "    .colab-df-convert:hover {\n",
              "      background-color: #E2EBFA;\n",
              "      box-shadow: 0px 1px 2px rgba(60, 64, 67, 0.3), 0px 1px 3px 1px rgba(60, 64, 67, 0.15);\n",
              "      fill: #174EA6;\n",
              "    }\n",
              "\n",
              "    [theme=dark] .colab-df-convert {\n",
              "      background-color: #3B4455;\n",
              "      fill: #D2E3FC;\n",
              "    }\n",
              "\n",
              "    [theme=dark] .colab-df-convert:hover {\n",
              "      background-color: #434B5C;\n",
              "      box-shadow: 0px 1px 3px 1px rgba(0, 0, 0, 0.15);\n",
              "      filter: drop-shadow(0px 1px 2px rgba(0, 0, 0, 0.3));\n",
              "      fill: #FFFFFF;\n",
              "    }\n",
              "  </style>\n",
              "\n",
              "      <script>\n",
              "        const buttonEl =\n",
              "          document.querySelector('#df-4cd21f17-920d-4d64-b4ab-1915cdc8662b button.colab-df-convert');\n",
              "        buttonEl.style.display =\n",
              "          google.colab.kernel.accessAllowed ? 'block' : 'none';\n",
              "\n",
              "        async function convertToInteractive(key) {\n",
              "          const element = document.querySelector('#df-4cd21f17-920d-4d64-b4ab-1915cdc8662b');\n",
              "          const dataTable =\n",
              "            await google.colab.kernel.invokeFunction('convertToInteractive',\n",
              "                                                     [key], {});\n",
              "          if (!dataTable) return;\n",
              "\n",
              "          const docLinkHtml = 'Like what you see? Visit the ' +\n",
              "            '<a target=\"_blank\" href=https://colab.research.google.com/notebooks/data_table.ipynb>data table notebook</a>'\n",
              "            + ' to learn more about interactive tables.';\n",
              "          element.innerHTML = '';\n",
              "          dataTable['output_type'] = 'display_data';\n",
              "          await google.colab.output.renderOutput(dataTable, element);\n",
              "          const docLink = document.createElement('div');\n",
              "          docLink.innerHTML = docLinkHtml;\n",
              "          element.appendChild(docLink);\n",
              "        }\n",
              "      </script>\n",
              "    </div>\n",
              "  </div>\n",
              "  "
            ],
            "text/plain": [
              "       total_images    last_price    total_area         rooms  ceiling_height  \\\n",
              "count  23565.000000  2.151900e+04  22326.000000  23565.000000    20601.000000   \n",
              "mean       9.878421  4.837115e+06     54.319704      2.013495        2.631089   \n",
              "std        5.681156  2.215774e+06     19.331030      0.986750        0.081473   \n",
              "min        0.000000  1.219000e+04     12.000000      0.000000        2.460000   \n",
              "25%        6.000000  3.300000e+06     39.400000      1.000000        2.600000   \n",
              "50%        9.000000  4.400000e+06     50.000000      2.000000        2.650000   \n",
              "75%       14.000000  6.000000e+06     65.500000      3.000000        2.650000   \n",
              "max       50.000000  1.186686e+07    114.200000      5.000000        2.850000   \n",
              "\n",
              "       floors_total   living_area         floor  kitchen_area       balcony  \\\n",
              "count  23565.000000  22678.000000  23565.000000  22250.000000  23565.000000   \n",
              "mean      10.675875     31.544202      5.878124      9.417492      0.593677   \n",
              "std        6.594823     13.750882      4.871485      3.177448      0.960660   \n",
              "min        1.000000      2.000000      1.000000      1.300000      0.000000   \n",
              "25%        5.000000     18.700000      2.000000      7.000000      0.000000   \n",
              "50%        9.000000     30.000000      4.000000      9.000000      0.000000   \n",
              "75%       16.000000     40.700000      8.000000     11.000000      1.000000   \n",
              "max       60.000000     76.730769     33.000000     19.450000      5.000000   \n",
              "\n",
              "       airports_nearest  cityCenters_nearest  parks_around3000  parks_nearest  \\\n",
              "count      18041.000000         18064.000000      23565.000000    8030.000000   \n",
              "mean       28797.082701         14192.656056          0.468831     490.580448   \n",
              "std        12632.499735          8613.348153          0.748403     341.572956   \n",
              "min            0.000000           181.000000          0.000000       1.000000   \n",
              "25%        18565.000000          9238.000000          0.000000     288.000000   \n",
              "50%        26757.000000         13096.500000          0.000000     455.000000   \n",
              "75%        37273.000000         16285.000000          1.000000     612.000000   \n",
              "max        84869.000000         65968.000000          3.000000    3190.000000   \n",
              "\n",
              "       ponds_around3000  ponds_nearest  days_exposition  \n",
              "count      23565.000000    9036.000000     18721.000000  \n",
              "mean           0.589900     518.289509       128.299343  \n",
              "std            0.883966     278.009558       121.064671  \n",
              "min            0.000000      13.000000         1.000000  \n",
              "25%            0.000000     293.000000        41.000000  \n",
              "50%            0.000000     503.000000        85.000000  \n",
              "75%            1.000000     730.000000       182.000000  \n",
              "max            3.000000    1344.000000       509.000000  "
            ]
          },
          "execution_count": 93,
          "metadata": {},
          "output_type": "execute_result"
        }
      ],
      "source": [
        "# Функция для подсчёта границ с учетом 1.5 размаха\n",
        "def quartile_range(df, column):\n",
        "    q1 = df[column].quantile(0.25)\n",
        "    q3 = df[column].quantile(0.75)\n",
        "    iqr = q3 - q1\n",
        "    dfq = df.loc[(df[column] < q3 + 1.5*iqr) & (df[column] > q1 - 1.5*iqr), column]\n",
        "    return dfq\n",
        "# Столбцы с выбросами\n",
        "list_features = ['last_price', 'total_area', 'kitchen_area', 'living_area', 'days_exposition', 'ceiling_height', 'rooms']\n",
        "for col in list_features:\n",
        "    data[col] = quartile_range(data, col)\n",
        "\n",
        "# Возвращаем в целочисленный тип число комнат\n",
        "data['rooms'] = data['rooms'].fillna(0).astype(int)\n",
        "\n",
        "# Изучаем, есть ли выбивающиеся значения\n",
        "data.describe()"
      ]
    },
    {
      "cell_type": "markdown",
      "metadata": {
        "id": "EEDYx0uiWM8y"
      },
      "source": [
        "Аномальные значения на основе 1.5 размаха отброшены. Значения стали более приближёнными к реальности."
      ]
    },
    {
      "cell_type": "markdown",
      "metadata": {
        "id": "-1CtWVcjWM8z"
      },
      "source": [
        "### Посчитаем и добавим в таблицу новые столбцы"
      ]
    },
    {
      "cell_type": "markdown",
      "metadata": {
        "id": "-1-H0TUIWM8z"
      },
      "source": [
        "#### цена одного квадратного метра\n",
        "Поделим стоимость недвижимости на общую площадь."
      ]
    },
    {
      "cell_type": "code",
      "execution_count": 94,
      "metadata": {
        "id": "GfN_x0_AWM8z"
      },
      "outputs": [],
      "source": [
        "data['price_sq_meter'] = data['last_price'] / data['total_area']"
      ]
    },
    {
      "cell_type": "markdown",
      "metadata": {
        "id": "Kpbg2U8VWM8z"
      },
      "source": [
        "#### день публикации объявления (0 - понедельник, 1 - вторник и т.д.)\n",
        "Воспользуемся методом dt.weekday"
      ]
    },
    {
      "cell_type": "code",
      "execution_count": 95,
      "metadata": {
        "id": "Zbiagh1pWM80"
      },
      "outputs": [],
      "source": [
        "data['weekday'] = data['first_day_exposition'].dt.weekday"
      ]
    },
    {
      "cell_type": "markdown",
      "metadata": {
        "id": "g4BksICIWM80"
      },
      "source": [
        "#### месяц публикации объявления\n",
        "Воспользуемся методом dt.month"
      ]
    },
    {
      "cell_type": "code",
      "execution_count": 96,
      "metadata": {
        "id": "lyjpqV5vWM80"
      },
      "outputs": [],
      "source": [
        "data['month'] = data['first_day_exposition'].dt.month"
      ]
    },
    {
      "cell_type": "markdown",
      "metadata": {
        "id": "f_iT1dw7WM80"
      },
      "source": [
        "#### год публикации объявления\n",
        "Воспользуемся методом dt.year"
      ]
    },
    {
      "cell_type": "code",
      "execution_count": 97,
      "metadata": {
        "id": "PZkgDmZgWM80"
      },
      "outputs": [],
      "source": [
        "data['year'] = data['first_day_exposition'].dt.year"
      ]
    },
    {
      "cell_type": "markdown",
      "metadata": {
        "id": "QHjVJn9JWM82"
      },
      "source": [
        "#### тип этажа квартиры (значения — «первый», «последний», «другой»)\n",
        "напишем функцию для заполнения столбца типом этажа"
      ]
    },
    {
      "cell_type": "code",
      "execution_count": 98,
      "metadata": {
        "id": "LXzXOM4KWM82"
      },
      "outputs": [],
      "source": [
        "def floor_type(row):\n",
        "    if row['floor'] == 1:\n",
        "        return 'первый'\n",
        "    elif row['floor'] == row['floors_total']:\n",
        "        return 'последний'\n",
        "    else:\n",
        "        return 'другой'\n",
        "\n",
        "data['floor_type'] = data.apply(floor_type, axis=1)  "
      ]
    },
    {
      "cell_type": "markdown",
      "metadata": {
        "id": "xzjIVnuPWM82"
      },
      "source": [
        "#### расстояние в км до центра города\n",
        "Переведём расстояние из метров в километры. Заполним пустые строки медианным значением (хотя ранее я указывал, что для заполнения данных необходимы конкретные адреса, а не названия населённых пунктов, в данном случае заполним пустые строки, т.к. в дальнейшим нам понадобится данная колонка для расчёта средней стоимости цены квадратного метра по мере удаления квартиры от центра города). Преобразуем данные в тип int. "
      ]
    },
    {
      "cell_type": "code",
      "execution_count": 99,
      "metadata": {
        "id": "8ZaLf21RWM82"
      },
      "outputs": [],
      "source": [
        "data['cityCenters_km'] = data['cityCenters_nearest'] / 1000\n",
        "\n",
        "\n",
        "data['cityCenters_km'].fillna(data['cityCenters_km'].median(), inplace=True)\n",
        "\n",
        "\n",
        "data['cityCenters_km'] = data['cityCenters_km'].astype(int)"
      ]
    },
    {
      "cell_type": "markdown",
      "metadata": {
        "id": "Ew7Mix4gWM83"
      },
      "source": [
        "### Проведём исследовательский анализ данных\n",
        "Изучим и опишем следующие параметры:\n",
        "  - общая площадь;\n",
        "  - жилая площадь;\n",
        "  - площадь кухни;\n",
        "  - цена объекта;\n",
        "  - количество комнат;\n",
        "  - высота потолков;\n",
        "  - этаж квартиры;\n",
        "  - тип этажа квартиры («первый», «последний», «другой»);\n",
        "  - общее количество этажей в доме;\n",
        "  - расстояние до центра города в метрах;\n",
        "  - расстояние до ближайшего аэропорта;\n",
        "  - расстояние до ближайшего парка;\n",
        "  - день и месяц публикации объявления.\n",
        "  \n",
        "Построим гистограммы для каждого параметра."
      ]
    },
    {
      "cell_type": "markdown",
      "metadata": {
        "id": "4WJk9PozWM83"
      },
      "source": [
        "#### общая площадь  "
      ]
    },
    {
      "cell_type": "code",
      "execution_count": 100,
      "metadata": {
        "colab": {
          "base_uri": "https://localhost:8080/",
          "height": 677
        },
        "id": "QxmRZ4RcWM83",
        "outputId": "d4e18c98-8d6f-4ad3-fb26-a5174b673425"
      },
      "outputs": [
        {
          "name": "stdout",
          "output_type": "stream",
          "text": [
            "числовое описание данных\n",
            "count    22326.000000\n",
            "mean        54.319704\n",
            "std         19.331030\n",
            "min         12.000000\n",
            "25%         39.400000\n",
            "50%         50.000000\n",
            "75%         65.500000\n",
            "max        114.200000\n",
            "Name: total_area, dtype: float64\n"
          ]
        },
        {
          "data": {
            "image/png": "[encoded data removed]",
            "text/plain": [
              "<Figure size 432x288 with 1 Axes>"
            ]
          },
          "metadata": {
            "needs_background": "light"
          },
          "output_type": "display_data"
        },
        {
          "name": "stdout",
          "output_type": "stream",
          "text": [
            "Наибольшие значения по площади\n",
            "5978     114.2\n",
            "19021    114.2\n",
            "1170     114.2\n",
            "4657     114.2\n",
            "20477    114.2\n",
            "5853     114.1\n",
            "18122    114.0\n",
            "6462     114.0\n",
            "19959    114.0\n",
            "8249     114.0\n",
            "Name: total_area, dtype: float64\n"
          ]
        }
      ],
      "source": [
        "print('числовое описание данных')\n",
        "print(data['total_area'].describe())\n",
        "\n",
        "import matplotlib.pyplot as plt\n",
        "\n",
        "plt.hist(data['total_area'], bins=30, range=(0,200))\n",
        "plt.title('Площадь квартир')\n",
        "plt.xlabel('Квадратные метры')\n",
        "plt.ylabel('Количество квартир')\n",
        "plt.grid(which='major')\n",
        "plt.show()\n",
        "print('Наибольшие значения по площади')\n",
        "print(data['total_area'].sort_values(ascending=False).head(10))"
      ]
    },
    {
      "cell_type": "markdown",
      "metadata": {
        "id": "uH5Cik6yWM84"
      },
      "source": [
        "Вывод:\n",
        "\n",
        "Большинство квартир имеют площадь менее 100 квадратных метров."
      ]
    },
    {
      "cell_type": "markdown",
      "metadata": {
        "id": "zMS1pjUEWM84"
      },
      "source": [
        "#### жилая площадь  "
      ]
    },
    {
      "cell_type": "code",
      "execution_count": 101,
      "metadata": {
        "colab": {
          "base_uri": "https://localhost:8080/",
          "height": 677
        },
        "id": "iSxLmhIzWM85",
        "outputId": "03c8a524-e486-467b-d727-9379e8cb9a4c"
      },
      "outputs": [
        {
          "name": "stdout",
          "output_type": "stream",
          "text": [
            "числовое описание данных\n",
            "count    22678.000000\n",
            "mean        31.544202\n",
            "std         13.750882\n",
            "min          2.000000\n",
            "25%         18.700000\n",
            "50%         30.000000\n",
            "75%         40.700000\n",
            "max         76.730769\n",
            "Name: living_area, dtype: float64\n"
          ]
        },
        {
          "data": {
            "image/png": "[encoded data removed]",
            "text/plain": [
              "<Figure size 432x288 with 1 Axes>"
            ]
          },
          "metadata": {
            "needs_background": "light"
          },
          "output_type": "display_data"
        },
        {
          "name": "stdout",
          "output_type": "stream",
          "text": [
            "Наибольшие значения по жилой площади\n",
            "17978    76.730769\n",
            "8470     76.700000\n",
            "18109    76.650000\n",
            "22705    76.528846\n",
            "16618    76.500000\n",
            "8933     76.500000\n",
            "19694    76.442308\n",
            "12604    76.400000\n",
            "7202     76.400000\n",
            "7239     76.400000\n",
            "Name: living_area, dtype: float64\n"
          ]
        }
      ],
      "source": [
        "print('числовое описание данных')\n",
        "print(data['living_area'].describe())\n",
        "\n",
        "plt.hist(data['living_area'], bins=30, range=(0,100))\n",
        "plt.title('Жилая площадь')\n",
        "plt.xlabel('Квадратные метры')\n",
        "plt.ylabel('Количество квартир')\n",
        "plt.grid(which='major')\n",
        "plt.show()\n",
        "print('Наибольшие значения по жилой площади')\n",
        "print(data['living_area'].sort_values(ascending=False).head(10))"
      ]
    },
    {
      "cell_type": "markdown",
      "metadata": {
        "id": "fhR_F1OQWM85"
      },
      "source": [
        "Вывод:\n",
        "\n",
        "Самые распространённые варианты с жилой площадью от 10 до 50 метров. Пика графика вызваны, скорее всего, тем, что это жилые площади для однокомнатной и для двукомнатной квартир."
      ]
    },
    {
      "cell_type": "markdown",
      "metadata": {
        "id": "4VmvpwwTWM85"
      },
      "source": [
        "#### площадь кухни  "
      ]
    },
    {
      "cell_type": "code",
      "execution_count": 102,
      "metadata": {
        "colab": {
          "base_uri": "https://localhost:8080/",
          "height": 677
        },
        "id": "qejReHtgWM85",
        "outputId": "7ff46d65-b84f-44a7-8238-4c1d8f728c45"
      },
      "outputs": [
        {
          "name": "stdout",
          "output_type": "stream",
          "text": [
            "числовое описание данных\n",
            "count    22250.000000\n",
            "mean         9.417492\n",
            "std          3.177448\n",
            "min          1.300000\n",
            "25%          7.000000\n",
            "50%          9.000000\n",
            "75%         11.000000\n",
            "max         19.450000\n",
            "Name: kitchen_area, dtype: float64\n"
          ]
        },
        {
          "data": {
            "image/png": "[encoded data removed]",
            "text/plain": [
              "<Figure size 432x288 with 1 Axes>"
            ]
          },
          "metadata": {
            "needs_background": "light"
          },
          "output_type": "display_data"
        },
        {
          "name": "stdout",
          "output_type": "stream",
          "text": [
            "Наибольшие значения по площади кухни\n",
            "9448     19.450\n",
            "16505    19.425\n",
            "8286     19.420\n",
            "6721     19.400\n",
            "9723     19.400\n",
            "8901     19.400\n",
            "417      19.400\n",
            "3056     19.400\n",
            "15365    19.400\n",
            "14212    19.400\n",
            "Name: kitchen_area, dtype: float64\n"
          ]
        }
      ],
      "source": [
        "print('числовое описание данных')\n",
        "print(data['kitchen_area'].describe())\n",
        "\n",
        "plt.hist(data['kitchen_area'], bins=30, range=(0,50))\n",
        "plt.title('Площадь кухни')\n",
        "plt.xlabel('Квадратные метры')\n",
        "plt.ylabel('Количество квартир')\n",
        "plt.grid(which='major')\n",
        "plt.show()\n",
        "print('Наибольшие значения по площади кухни')\n",
        "print(data['kitchen_area'].sort_values(ascending=False).head(10))"
      ]
    },
    {
      "cell_type": "markdown",
      "metadata": {
        "id": "GESQ_LBuWM86"
      },
      "source": [
        "\n",
        "Вывод:\n",
        "\n",
        "Самые распространённые варианты - кухни с площадью от 5 до 12 квадратных метров. "
      ]
    },
    {
      "cell_type": "markdown",
      "metadata": {
        "id": "NO8HkURaWM86"
      },
      "source": [
        "#### цена объекта  "
      ]
    },
    {
      "cell_type": "code",
      "execution_count": 103,
      "metadata": {
        "colab": {
          "base_uri": "https://localhost:8080/",
          "height": 677
        },
        "id": "9qXhx1M4WM86",
        "outputId": "7269c848-50d9-4256-e7ec-1d36f941df1f"
      },
      "outputs": [
        {
          "name": "stdout",
          "output_type": "stream",
          "text": [
            "числовое описание данных\n",
            "count    2.151900e+04\n",
            "mean     4.837115e+06\n",
            "std      2.215774e+06\n",
            "min      1.219000e+04\n",
            "25%      3.300000e+06\n",
            "50%      4.400000e+06\n",
            "75%      6.000000e+06\n",
            "max      1.186686e+07\n",
            "Name: last_price, dtype: float64\n"
          ]
        },
        {
          "data": {
            "image/png": "[encoded data removed]",
            "text/plain": [
              "<Figure size 432x288 with 1 Axes>"
            ]
          },
          "metadata": {
            "needs_background": "light"
          },
          "output_type": "display_data"
        },
        {
          "name": "stdout",
          "output_type": "stream",
          "text": [
            "Наибольшие значения по цене\n",
            "3165     11866860.0\n",
            "21860    11858000.0\n",
            "12437    11850000.0\n",
            "10068    11840000.0\n",
            "19454    11820000.0\n",
            "20193    11809670.0\n",
            "22326    11800000.0\n",
            "3642     11800000.0\n",
            "2507     11800000.0\n",
            "2267     11800000.0\n",
            "Name: last_price, dtype: float64\n"
          ]
        }
      ],
      "source": [
        "print('числовое описание данных')\n",
        "print(data['last_price'].describe())\n",
        "\n",
        "plt.hist(data['last_price'], bins=30, range=(0,30000000))\n",
        "plt.title('Стоимость квартир')\n",
        "plt.xlabel('Стоимость')\n",
        "plt.ylabel('Количество квартир')\n",
        "plt.grid(which='major')\n",
        "plt.show()\n",
        "print('Наибольшие значения по цене')\n",
        "print(data['last_price'].sort_values(ascending=False).head(10))"
      ]
    },
    {
      "cell_type": "markdown",
      "metadata": {
        "id": "nXc-k7IOWM87"
      },
      "source": [
        "Вывод:\n",
        "\n",
        "В основном стоимость квартир - порядка 4-5 миллионов. "
      ]
    },
    {
      "cell_type": "markdown",
      "metadata": {
        "id": "mgzkaobaWM87"
      },
      "source": [
        "#### количество комнат"
      ]
    },
    {
      "cell_type": "code",
      "execution_count": 104,
      "metadata": {
        "colab": {
          "base_uri": "https://localhost:8080/",
          "height": 677
        },
        "id": "bN78EcLZWM87",
        "outputId": "e690eb0b-ec39-4e08-e009-f4364ccdfedc"
      },
      "outputs": [
        {
          "name": "stdout",
          "output_type": "stream",
          "text": [
            "числовое описание данных\n",
            "count    23565.000000\n",
            "mean         2.013495\n",
            "std          0.986750\n",
            "min          0.000000\n",
            "25%          1.000000\n",
            "50%          2.000000\n",
            "75%          3.000000\n",
            "max          5.000000\n",
            "Name: rooms, dtype: float64\n"
          ]
        },
        {
          "data": {
            "image/png": "[encoded data removed]",
            "text/plain": [
              "<Figure size 432x288 with 1 Axes>"
            ]
          },
          "metadata": {
            "needs_background": "light"
          },
          "output_type": "display_data"
        },
        {
          "name": "stdout",
          "output_type": "stream",
          "text": [
            "Наибольшие значения по количеству комнат\n",
            "18447    5\n",
            "5518     5\n",
            "23305    5\n",
            "13139    5\n",
            "335      5\n",
            "7799     5\n",
            "2137     5\n",
            "3267     5\n",
            "11018    5\n",
            "10474    5\n",
            "Name: rooms, dtype: int64\n"
          ]
        }
      ],
      "source": [
        "print('числовое описание данных')\n",
        "print(data['rooms'].describe())\n",
        "\n",
        "plt.hist(data['rooms'], bins=8, range=(0,10))\n",
        "plt.title('Комнаты')\n",
        "plt.xlabel('Количество комнат')\n",
        "plt.ylabel('Количество квартир')\n",
        "plt.grid(which='major')\n",
        "plt.show()\n",
        "print('Наибольшие значения по количеству комнат')\n",
        "print(data['rooms'].sort_values(ascending=False).head(10))"
      ]
    },
    {
      "cell_type": "markdown",
      "metadata": {
        "id": "yRItJzSIWM88"
      },
      "source": [
        "Вывод:\n",
        "\n",
        "Основная масса это квартиры с 1, 2 и 3 комнатами. По мере увеличения количества комнат количество квартир сокращается. "
      ]
    },
    {
      "cell_type": "markdown",
      "metadata": {
        "id": "MSdbmVFIWM88"
      },
      "source": [
        "#### высота потолков"
      ]
    },
    {
      "cell_type": "code",
      "execution_count": 105,
      "metadata": {
        "colab": {
          "base_uri": "https://localhost:8080/",
          "height": 677
        },
        "id": "bdh39u8SWM88",
        "outputId": "c8177095-628c-4efc-8592-a61e55fc24a4"
      },
      "outputs": [
        {
          "name": "stdout",
          "output_type": "stream",
          "text": [
            "числовое описание данных\n",
            "count    20601.000000\n",
            "mean         2.631089\n",
            "std          0.081473\n",
            "min          2.460000\n",
            "25%          2.600000\n",
            "50%          2.650000\n",
            "75%          2.650000\n",
            "max          2.850000\n",
            "Name: ceiling_height, dtype: float64\n"
          ]
        },
        {
          "data": {
            "image/png": "[encoded data removed]",
            "text/plain": [
              "<Figure size 432x288 with 1 Axes>"
            ]
          },
          "metadata": {
            "needs_background": "light"
          },
          "output_type": "display_data"
        },
        {
          "name": "stdout",
          "output_type": "stream",
          "text": [
            "Наибольшие значения по высоте потолков\n",
            "1378     2.85\n",
            "147      2.85\n",
            "15594    2.85\n",
            "5435     2.85\n",
            "3685     2.85\n",
            "17169    2.85\n",
            "10462    2.85\n",
            "16257    2.85\n",
            "2212     2.85\n",
            "11037    2.85\n",
            "Name: ceiling_height, dtype: float64\n"
          ]
        }
      ],
      "source": [
        "print('числовое описание данных')\n",
        "print(data['ceiling_height'].describe())\n",
        "\n",
        "plt.hist(data['ceiling_height'], bins=20, range=(2,4))\n",
        "plt.title('Высота потолков')\n",
        "plt.xlabel('Метры')\n",
        "plt.ylabel('Количество квартир')\n",
        "plt.grid(which='major')\n",
        "plt.show()\n",
        "print('Наибольшие значения по высоте потолков')\n",
        "print(data['ceiling_height'].sort_values(ascending=False).head(10))"
      ]
    },
    {
      "cell_type": "markdown",
      "metadata": {
        "id": "PtrqUd_tWM88"
      },
      "source": [
        "\n",
        "Вывод:\n",
        "\n",
        "Разброс по высоте потолка не большой - от 2,5 до 2,85 метров. "
      ]
    },
    {
      "cell_type": "markdown",
      "metadata": {
        "id": "Wgs8a9QjWM89"
      },
      "source": [
        "#### этаж квартиры"
      ]
    },
    {
      "cell_type": "code",
      "execution_count": 106,
      "metadata": {
        "colab": {
          "base_uri": "https://localhost:8080/",
          "height": 677
        },
        "id": "P-lP3-mCWM89",
        "outputId": "2b4e2f12-35e2-41c6-dc64-d4cf94ca62be"
      },
      "outputs": [
        {
          "name": "stdout",
          "output_type": "stream",
          "text": [
            "числовое описание данных\n",
            "count    23565.000000\n",
            "mean         5.878124\n",
            "std          4.871485\n",
            "min          1.000000\n",
            "25%          2.000000\n",
            "50%          4.000000\n",
            "75%          8.000000\n",
            "max         33.000000\n",
            "Name: floor, dtype: float64\n"
          ]
        },
        {
          "data": {
            "image/png": "[encoded data removed]",
            "text/plain": [
              "<Figure size 432x288 with 1 Axes>"
            ]
          },
          "metadata": {
            "needs_background": "light"
          },
          "output_type": "display_data"
        },
        {
          "name": "stdout",
          "output_type": "stream",
          "text": [
            "Наибольшие значения по этажу квариры\n",
            "18218    33\n",
            "11575    32\n",
            "18629    31\n",
            "1917     30\n",
            "11079    29\n",
            "397      28\n",
            "12888    27\n",
            "16644    27\n",
            "23292    27\n",
            "4091     27\n",
            "Name: floor, dtype: int64\n"
          ]
        }
      ],
      "source": [
        "print('числовое описание данных')\n",
        "print(data['floor'].describe())\n",
        "\n",
        "plt.hist(data['floor'], bins=20, range=(0,33))\n",
        "plt.title('Этаж квартиры')\n",
        "plt.xlabel('Этаж')\n",
        "plt.ylabel('Количество квартир')\n",
        "plt.grid(which='major')\n",
        "plt.show()\n",
        "print('Наибольшие значения по этажу квариры')\n",
        "print(data['floor'].sort_values(ascending=False).head(10))"
      ]
    },
    {
      "cell_type": "markdown",
      "metadata": {
        "id": "Do4gYZWsWM89"
      },
      "source": [
        "Вывод:\n",
        "\n",
        "Большинство вариантов - до 10 этажей с пиком квартир на 2 и 3 этажах. "
      ]
    },
    {
      "cell_type": "markdown",
      "metadata": {
        "id": "wh14CNKLWM89"
      },
      "source": [
        "#### тип этажа квартиры («первый», «последний», «другой»)"
      ]
    },
    {
      "cell_type": "code",
      "execution_count": 107,
      "metadata": {
        "colab": {
          "base_uri": "https://localhost:8080/",
          "height": 399
        },
        "id": "eB7xl2FoWM8-",
        "outputId": "945f59ad-c01e-4a60-f1be-bb5b45595692"
      },
      "outputs": [
        {
          "name": "stdout",
          "output_type": "stream",
          "text": [
            "числовое описание данных\n",
            "count      23565\n",
            "unique         3\n",
            "top       другой\n",
            "freq       17326\n",
            "Name: floor_type, dtype: object\n"
          ]
        },
        {
          "data": {
            "image/png": "[encoded data removed]",
            "text/plain": [
              "<Figure size 432x288 with 1 Axes>"
            ]
          },
          "metadata": {
            "needs_background": "light"
          },
          "output_type": "display_data"
        }
      ],
      "source": [
        "print('числовое описание данных')\n",
        "print(data['floor_type'].describe())\n",
        "\n",
        "plt.hist(data['floor_type'], bins=3, range=(0,3))\n",
        "plt.title('Тип этажа квартиры')\n",
        "plt.xlabel('Типы этажей')\n",
        "plt.ylabel('Количество квартир')\n",
        "plt.grid(which='major')\n",
        "plt.show()"
      ]
    },
    {
      "cell_type": "markdown",
      "metadata": {
        "id": "Nq5Qx54HWM8-"
      },
      "source": [
        "Вывод:\n",
        "\n",
        "На первом и последнем этажах количество выставленных на продажу квартир значительно меньше, чем на других этажах."
      ]
    },
    {
      "cell_type": "markdown",
      "metadata": {
        "id": "ov4iPXp5WM8_"
      },
      "source": [
        "#### общее количество этажей в доме"
      ]
    },
    {
      "cell_type": "code",
      "execution_count": 108,
      "metadata": {
        "colab": {
          "base_uri": "https://localhost:8080/",
          "height": 677
        },
        "id": "5-4OHCMfWM8_",
        "outputId": "964b12d3-4175-4d20-f86c-a667885e30ab"
      },
      "outputs": [
        {
          "name": "stdout",
          "output_type": "stream",
          "text": [
            "числовое описание данных\n",
            "count    23565.000000\n",
            "mean        10.675875\n",
            "std          6.594823\n",
            "min          1.000000\n",
            "25%          5.000000\n",
            "50%          9.000000\n",
            "75%         16.000000\n",
            "max         60.000000\n",
            "Name: floors_total, dtype: float64\n"
          ]
        },
        {
          "data": {
            "image/png": "[encoded data removed]",
            "text/plain": [
              "<Figure size 432x288 with 1 Axes>"
            ]
          },
          "metadata": {
            "needs_background": "light"
          },
          "output_type": "display_data"
        },
        {
          "name": "stdout",
          "output_type": "stream",
          "text": [
            "Наибольшие значения по общему количеству этажей в доме\n",
            "2253     60\n",
            "16731    52\n",
            "16934    37\n",
            "5807     36\n",
            "11079    36\n",
            "397      36\n",
            "13975    35\n",
            "2966     35\n",
            "9186     35\n",
            "1917     35\n",
            "Name: floors_total, dtype: int64\n"
          ]
        }
      ],
      "source": [
        "print('числовое описание данных')\n",
        "print(data['floors_total'].describe())\n",
        "\n",
        "plt.hist(data['floors_total'], bins=20, range=(1,40))\n",
        "plt.title('Общее количество этажей в доме')\n",
        "plt.xlabel('Этажи')\n",
        "plt.ylabel('Количество квартир')\n",
        "plt.grid(which='major')\n",
        "plt.show()\n",
        "print('Наибольшие значения по общему количеству этажей в доме')\n",
        "print(data['floors_total'].sort_values(ascending=False).head(10))"
      ]
    },
    {
      "cell_type": "markdown",
      "metadata": {
        "id": "cIanWJhTWM8_"
      },
      "source": [
        "Вывод:\n",
        "\n",
        "В основном на продажу выставляются квартиры в \"пятиэтажках\", о чём говорит первый пик. Следом идут \"десятиэтажки\". Вероятно, это обусловлено застройкой городов типовыми домами одинаковой этажности."
      ]
    },
    {
      "cell_type": "markdown",
      "metadata": {
        "id": "PaOcXANsWM8_"
      },
      "source": [
        "#### расстояние до центра города в метрах"
      ]
    },
    {
      "cell_type": "code",
      "execution_count": 109,
      "metadata": {
        "colab": {
          "base_uri": "https://localhost:8080/",
          "height": 677
        },
        "id": "i2v8tR8XWM9A",
        "outputId": "cdc55a33-4d43-4cb8-f66e-6f6589f0cd5d"
      },
      "outputs": [
        {
          "name": "stdout",
          "output_type": "stream",
          "text": [
            "числовое описание данных\n",
            "count    18064.000000\n",
            "mean     14192.656056\n",
            "std       8613.348153\n",
            "min        181.000000\n",
            "25%       9238.000000\n",
            "50%      13096.500000\n",
            "75%      16285.000000\n",
            "max      65968.000000\n",
            "Name: cityCenters_nearest, dtype: float64\n"
          ]
        },
        {
          "data": {
            "image/png": "[encoded data removed]",
            "text/plain": [
              "<Figure size 432x288 with 1 Axes>"
            ]
          },
          "metadata": {
            "needs_background": "light"
          },
          "output_type": "display_data"
        },
        {
          "name": "stdout",
          "output_type": "stream",
          "text": [
            "Наибольшие значения по расстоянию до центра города в метрах\n",
            "9640     65968.0\n",
            "5340     65952.0\n",
            "577      65764.0\n",
            "20746    65105.0\n",
            "5218     64857.0\n",
            "18884    62706.0\n",
            "2974     62454.0\n",
            "16569    61495.0\n",
            "23123    60223.0\n",
            "4441     59626.0\n",
            "Name: cityCenters_nearest, dtype: float64\n"
          ]
        }
      ],
      "source": [
        "print('числовое описание данных')\n",
        "print(data['cityCenters_nearest'].describe())\n",
        "\n",
        "plt.hist(data['cityCenters_nearest'], bins=30, range=(0,40000))\n",
        "plt.title('Расстояние до центра города в метрах')\n",
        "plt.xlabel('метры')\n",
        "plt.ylabel('Количество квартир')\n",
        "plt.grid(which='major')\n",
        "plt.show()\n",
        "print('Наибольшие значения по расстоянию до центра города в метрах')\n",
        "print(data['cityCenters_nearest'].sort_values(ascending=False).head(10))"
      ]
    },
    {
      "cell_type": "markdown",
      "metadata": {
        "id": "nXX9qcyrWM9A"
      },
      "source": [
        "Вывод:\n",
        "\n",
        "Основная масса квартир выставленных на продажу находится в радиусе 8-20 км от центра города, хотя встречается небольшой всплеск в районе 5 км. Обычно центр города занят историческими постройками и количество жилой недвижимости там меньше. Далее, по мере удаления квартир от центра, количество предложений снижается."
      ]
    },
    {
      "cell_type": "markdown",
      "metadata": {
        "id": "vlLimZTJWM9A"
      },
      "source": [
        "#### расстояние до ближайшего аэропорта"
      ]
    },
    {
      "cell_type": "code",
      "execution_count": 110,
      "metadata": {
        "colab": {
          "base_uri": "https://localhost:8080/",
          "height": 677
        },
        "id": "hpe4bpUFWM9A",
        "outputId": "15808918-885a-412f-c1c1-43bdcab7401a"
      },
      "outputs": [
        {
          "name": "stdout",
          "output_type": "stream",
          "text": [
            "числовое описание данных\n",
            "count    18041.000000\n",
            "mean     28797.082701\n",
            "std      12632.499735\n",
            "min          0.000000\n",
            "25%      18565.000000\n",
            "50%      26757.000000\n",
            "75%      37273.000000\n",
            "max      84869.000000\n",
            "Name: airports_nearest, dtype: float64\n"
          ]
        },
        {
          "data": {
            "image/png": "[encoded data removed]",
            "text/plain": [
              "<Figure size 432x288 with 1 Axes>"
            ]
          },
          "metadata": {
            "needs_background": "light"
          },
          "output_type": "display_data"
        },
        {
          "name": "stdout",
          "output_type": "stream",
          "text": [
            "Наибольшие значения по расстоянию до ближайшего аэропорта\n",
            "9640     84869.0\n",
            "5340     84853.0\n",
            "577      84665.0\n",
            "20746    84006.0\n",
            "5218     83758.0\n",
            "18884    81607.0\n",
            "2974     81355.0\n",
            "4441     78527.0\n",
            "939      75646.0\n",
            "376      73827.0\n",
            "Name: airports_nearest, dtype: float64\n"
          ]
        }
      ],
      "source": [
        "print('числовое описание данных')\n",
        "print(data['airports_nearest'].describe())\n",
        "\n",
        "plt.hist(data['airports_nearest'], bins=30, range=(5000,70000))\n",
        "plt.title('Расстояние до ближайшего аэропорта')\n",
        "plt.xlabel('Метры')\n",
        "plt.ylabel('Количество квартир')\n",
        "plt.grid(which='major')\n",
        "plt.show()\n",
        "print('Наибольшие значения по расстоянию до ближайшего аэропорта')\n",
        "print(data['airports_nearest'].sort_values(ascending=False).head(10))"
      ]
    },
    {
      "cell_type": "markdown",
      "metadata": {
        "id": "01GfOsLbWM9B"
      },
      "source": [
        "Вывод:\n",
        "\n",
        "Основная масса квартир расположена на расстоянии от 10 до 40 километров. Такое большое количество квартир может быть обусловлено тем, что Санкт-Петербург и область имеют три аэропорта:\n",
        "\n",
        "Пулково - Международный аэропорт, имеющий статус федерального значения;\n",
        "\n",
        "Левашово - Аэродром совместного базирования в Санкт-Петербурге;\n",
        "\n",
        "Ржевка - Аэропорт местных воздушных линий Санкт-Петербурга."
      ]
    },
    {
      "cell_type": "markdown",
      "metadata": {
        "id": "E7pKWefwWM9B"
      },
      "source": [
        "#### расстояние до ближайшего парка"
      ]
    },
    {
      "cell_type": "code",
      "execution_count": 111,
      "metadata": {
        "colab": {
          "base_uri": "https://localhost:8080/",
          "height": 677
        },
        "id": "3v1NeWGIWM9B",
        "outputId": "7a28fbaf-f72b-4a75-926d-acba43bcf8ae"
      },
      "outputs": [
        {
          "name": "stdout",
          "output_type": "stream",
          "text": [
            "числовое описание данных\n",
            "count    8030.000000\n",
            "mean      490.580448\n",
            "std       341.572956\n",
            "min         1.000000\n",
            "25%       288.000000\n",
            "50%       455.000000\n",
            "75%       612.000000\n",
            "max      3190.000000\n",
            "Name: parks_nearest, dtype: float64\n"
          ]
        },
        {
          "data": {
            "image/png": "[encoded data removed]",
            "text/plain": [
              "<Figure size 432x288 with 1 Axes>"
            ]
          },
          "metadata": {
            "needs_background": "light"
          },
          "output_type": "display_data"
        },
        {
          "name": "stdout",
          "output_type": "stream",
          "text": [
            "Наибольшие значения по расстоянию до ближайшего парка\n",
            "10959    3190.0\n",
            "19430    3190.0\n",
            "1590     3064.0\n",
            "19208    3013.0\n",
            "23080    2984.0\n",
            "2659     2905.0\n",
            "1860     2888.0\n",
            "7855     2880.0\n",
            "3865     2847.0\n",
            "22003    2768.0\n",
            "Name: parks_nearest, dtype: float64\n"
          ]
        }
      ],
      "source": [
        "print('числовое описание данных')\n",
        "print(data['parks_nearest'].describe())\n",
        "\n",
        "plt.hist(data['parks_nearest'], bins=30, range=(50,3000))\n",
        "plt.title('Расстояние до ближайшего парка')\n",
        "plt.xlabel('Метры')\n",
        "plt.ylabel('Количество квартир')\n",
        "plt.grid(which='major')\n",
        "plt.show()\n",
        "print('Наибольшие значения по расстоянию до ближайшего парка')\n",
        "print(data['parks_nearest'].sort_values(ascending=False).head(10))"
      ]
    },
    {
      "cell_type": "markdown",
      "metadata": {
        "id": "Xxe--gAWWM9C"
      },
      "source": [
        "Вывод:\n",
        "\n",
        "Основная группа квартир имеют парки в радиусе одного километра. Больше всего - на расстоянии около 500 метров."
      ]
    },
    {
      "cell_type": "markdown",
      "metadata": {
        "id": "OdX0V3ueWM9C"
      },
      "source": [
        "#### день публикации объявления"
      ]
    },
    {
      "cell_type": "code",
      "execution_count": 112,
      "metadata": {
        "colab": {
          "base_uri": "https://localhost:8080/",
          "height": 469
        },
        "id": "ZkXI5IOOWM9C",
        "outputId": "b88c27ce-c6b9-48ed-c30e-0ee40f27968b"
      },
      "outputs": [
        {
          "name": "stdout",
          "output_type": "stream",
          "text": [
            "числовое описание данных\n",
            "count    23565.000000\n",
            "mean         2.567367\n",
            "std          1.788279\n",
            "min          0.000000\n",
            "25%          1.000000\n",
            "50%          3.000000\n",
            "75%          4.000000\n",
            "max          6.000000\n",
            "Name: weekday, dtype: float64\n"
          ]
        },
        {
          "data": {
            "image/png": "[encoded data removed]",
            "text/plain": [
              "<Figure size 432x288 with 1 Axes>"
            ]
          },
          "metadata": {
            "needs_background": "light"
          },
          "output_type": "display_data"
        }
      ],
      "source": [
        "print('числовое описание данных')\n",
        "print(data['weekday'].describe())\n",
        "\n",
        "plt.hist(data['weekday'], bins=7, range=(0,6))\n",
        "plt.title('День публикации объявления')\n",
        "plt.xlabel('День публикации')\n",
        "plt.ylabel('Количество квартир')\n",
        "plt.grid(which='major')\n",
        "plt.show()"
      ]
    },
    {
      "cell_type": "markdown",
      "metadata": {
        "id": "DciDZPxOWM9D"
      },
      "source": [
        "Вывод:\n",
        "\n",
        "В целом, распределение дней публикации выглядят достаточно однородно, если говорить о будних днях. В выходные публикаций меньше. Это может быть связано с тем, что часть риэлторов, которые помогают людям в продаже квартир, могут работать по графику 5/2."
      ]
    },
    {
      "cell_type": "markdown",
      "metadata": {
        "id": "d7b3BvSxWM9D"
      },
      "source": [
        "#### месяц публикации объявления"
      ]
    },
    {
      "cell_type": "code",
      "execution_count": 113,
      "metadata": {
        "colab": {
          "base_uri": "https://localhost:8080/",
          "height": 469
        },
        "id": "OdHGwYjVWM9D",
        "outputId": "5c40505d-ce87-4902-cbba-cecd0ad04c24"
      },
      "outputs": [
        {
          "name": "stdout",
          "output_type": "stream",
          "text": [
            "числовое описание данных\n",
            "count    23565.000000\n",
            "mean         6.401570\n",
            "std          3.492948\n",
            "min          1.000000\n",
            "25%          3.000000\n",
            "50%          6.000000\n",
            "75%         10.000000\n",
            "max         12.000000\n",
            "Name: month, dtype: float64\n"
          ]
        },
        {
          "data": {
            "image/png": "[encoded data removed]",
            "text/plain": [
              "<Figure size 432x288 with 1 Axes>"
            ]
          },
          "metadata": {
            "needs_background": "light"
          },
          "output_type": "display_data"
        }
      ],
      "source": [
        "print('числовое описание данных')\n",
        "print(data['month'].describe())\n",
        "\n",
        "plt.hist(data['month'], bins=12, range=(1,12))\n",
        "plt.title('Месяц публикации объявления')\n",
        "plt.xlabel('Месяц публикации')\n",
        "plt.ylabel('Количество квартир')\n",
        "plt.grid(which='major')\n",
        "plt.show()"
      ]
    },
    {
      "cell_type": "markdown",
      "metadata": {
        "id": "O1yyQdGPWM9E"
      },
      "source": [
        "Вывод:\n",
        "\n",
        "Основная масса квартир выставляются на продажу вначале года. В конце весны начале лета наблюдается спад, который может быть вызван сезоном отпусков. Сначала лета и до декабря идёт постепенный рост выставления квартир на продажу, который заканчивается в декабре очередным спадом. Это может быть связано с концом года - наступлением новогодних праздников.   "
      ]
    },
    {
      "cell_type": "markdown",
      "metadata": {
        "id": "YGaeAgn4WM9E"
      },
      "source": [
        "### Изучим, как быстро продавались квартиры\n",
        "Быстрота продажи квартир (столбец days_exposition) это параметр показывающий, сколько дней «висело» каждое объявление.\n",
        "Выполним следующие действия:\n",
        "  - построим гистограмму;\n",
        "  - посчитаем среднее и медиану;\n",
        "  - опишем, сколько обычно занимает продажа, какие продажи можно считать быстрыми, а какие — необычно долгими."
      ]
    },
    {
      "cell_type": "markdown",
      "metadata": {
        "id": "brQc7QE9WM9E"
      },
      "source": [
        "#### Строим гистограмму"
      ]
    },
    {
      "cell_type": "code",
      "execution_count": 114,
      "metadata": {
        "colab": {
          "base_uri": "https://localhost:8080/",
          "height": 295
        },
        "id": "ibew9bhGWM9F",
        "outputId": "fe402a9d-8b0f-4e2d-f55f-0f4cfacc2d65"
      },
      "outputs": [
        {
          "data": {
            "image/png": "[encoded data removed]",
            "text/plain": [
              "<Figure size 432x288 with 1 Axes>"
            ]
          },
          "metadata": {
            "needs_background": "light"
          },
          "output_type": "display_data"
        }
      ],
      "source": [
        "plt.hist(data['days_exposition'], bins=100, range=(0,250))\n",
        "plt.title('Время продажи')\n",
        "plt.xlabel('Дни')\n",
        "plt.ylabel('Количество квартир')\n",
        "plt.grid(which='major')\n",
        "plt.show()"
      ]
    },
    {
      "cell_type": "markdown",
      "metadata": {
        "id": "1LqmCUR0WM9F"
      },
      "source": [
        "#### Cчитаем среднее и медиану"
      ]
    },
    {
      "cell_type": "code",
      "execution_count": 115,
      "metadata": {
        "colab": {
          "base_uri": "https://localhost:8080/"
        },
        "id": "ximi3X6-WM9G",
        "outputId": "495606f0-709d-4d2d-e9e6-30ecfee089e7"
      },
      "outputs": [
        {
          "data": {
            "text/plain": [
              "count    18721.000000\n",
              "mean       128.299343\n",
              "std        121.064671\n",
              "min          1.000000\n",
              "25%         41.000000\n",
              "50%         85.000000\n",
              "75%        182.000000\n",
              "max        509.000000\n",
              "Name: days_exposition, dtype: float64"
            ]
          },
          "execution_count": 115,
          "metadata": {},
          "output_type": "execute_result"
        }
      ],
      "source": [
        "data['days_exposition'].describe()"
      ]
    },
    {
      "cell_type": "markdown",
      "metadata": {
        "id": "SheWRA6hWM9G"
      },
      "source": [
        "#### Опишем, сколько обычно занимает продажа"
      ]
    },
    {
      "cell_type": "markdown",
      "metadata": {
        "id": "ACBZPi12WM9G"
      },
      "source": [
        "Время продажи (медиана): 85 дней.\n",
        "\n",
        "Время продажи (среднее): 128 дней.\n",
        "\n",
        "\n",
        "В основном квартиры продаются в срок до 100 дней. \n",
        "\n",
        "Быстрой продажей можно считать срок до 41 дня. Долгой продажей - 182 дня."
      ]
    },
    {
      "cell_type": "markdown",
      "metadata": {
        "id": "zmv34kYrWM9G"
      },
      "source": [
        "### Какие факторы больше всего влияют на общую (полную) стоимость объекта? \n",
        "Построим графики, которые покажут зависимость цены от указанных ниже параметров:\n",
        "  - общей площади;\n",
        "  - жилой площади;\n",
        "  - площади кухни;\n",
        "  - количество комнат;\n",
        "  - типа этажа, на котором расположена квартира (первый, последний, другой);\n",
        "  - даты размещения (день недели, месяц, год)."
      ]
    },
    {
      "cell_type": "markdown",
      "metadata": {
        "id": "Lms802c5WM9H"
      },
      "source": [
        "#### График зависимости цены от общей площади"
      ]
    },
    {
      "cell_type": "code",
      "execution_count": 116,
      "metadata": {
        "colab": {
          "base_uri": "https://localhost:8080/",
          "height": 450
        },
        "id": "GsBBmhmUWM9H",
        "outputId": "ef366d4c-ac34-47ef-f361-2438d32a8288"
      },
      "outputs": [
        {
          "data": {
            "image/png": "[encoded data removed]",
            "text/plain": [
              "<Figure size 360x360 with 1 Axes>"
            ]
          },
          "metadata": {
            "needs_background": "light"
          },
          "output_type": "display_data"
        },
        {
          "name": "stdout",
          "output_type": "stream",
          "text": [
            "Корреляция цены и площади: \n",
            "\n",
            "            last_price  total_area\n",
            "last_price    1.000000    0.905372\n",
            "total_area    0.905372    1.000000 \n",
            "\n"
          ]
        }
      ],
      "source": [
        "data.pivot_table(index='total_area', values='last_price').plot(grid=True, style='o', figsize=(5, 5))\n",
        "plt.show()\n",
        "print('Корреляция цены и площади:','\\n')\n",
        "print(data.pivot_table(index='floor', values=['total_area', 'last_price']).corr(),'\\n')"
      ]
    },
    {
      "cell_type": "markdown",
      "metadata": {
        "id": "koKyKSrrWM9H"
      },
      "source": [
        "#### График зависимости цены от жилой площади"
      ]
    },
    {
      "cell_type": "code",
      "execution_count": 117,
      "metadata": {
        "colab": {
          "base_uri": "https://localhost:8080/",
          "height": 450
        },
        "id": "PXyI2qO5WM9I",
        "outputId": "adb66d2f-6f1b-46e7-cf98-7c9d0f1951eb"
      },
      "outputs": [
        {
          "data": {
            "image/png": "[encoded data removed]",
            "text/plain": [
              "<Figure size 360x360 with 1 Axes>"
            ]
          },
          "metadata": {
            "needs_background": "light"
          },
          "output_type": "display_data"
        },
        {
          "name": "stdout",
          "output_type": "stream",
          "text": [
            "Корреляция цены и жилой площади: \n",
            "\n",
            "             last_price  living_area\n",
            "last_price     1.000000     0.728863\n",
            "living_area    0.728863     1.000000 \n",
            "\n"
          ]
        }
      ],
      "source": [
        "data.pivot_table(index='living_area', values='last_price').plot(grid=True, style='o', figsize=(5, 5))\n",
        "plt.show()\n",
        "print('Корреляция цены и жилой площади:','\\n')\n",
        "print(data.pivot_table(index='floor', values=['living_area', 'last_price']).corr(),'\\n')"
      ]
    },
    {
      "cell_type": "markdown",
      "metadata": {
        "id": "Cj09d-KyWM9I"
      },
      "source": [
        "#### График зависимости цены от площади кухни"
      ]
    },
    {
      "cell_type": "code",
      "execution_count": 118,
      "metadata": {
        "colab": {
          "base_uri": "https://localhost:8080/",
          "height": 450
        },
        "id": "R-E2JVo1WM9I",
        "outputId": "1f235473-709f-49ac-891f-a5b1378eb278"
      },
      "outputs": [
        {
          "data": {
            "image/png": "[encoded data removed]",
            "text/plain": [
              "<Figure size 360x360 with 1 Axes>"
            ]
          },
          "metadata": {
            "needs_background": "light"
          },
          "output_type": "display_data"
        },
        {
          "name": "stdout",
          "output_type": "stream",
          "text": [
            "Корреляция цены и площади кухни: \n",
            "\n",
            "              kitchen_area  last_price\n",
            "kitchen_area      1.000000    0.445342\n",
            "last_price        0.445342    1.000000 \n",
            "\n"
          ]
        }
      ],
      "source": [
        "data.pivot_table(index='kitchen_area', values='last_price').plot(grid=True, style='o', figsize=(5, 5))\n",
        "plt.show()\n",
        "print('Корреляция цены и площади кухни:','\\n')\n",
        "print(data.pivot_table(index='floor', values=['kitchen_area', 'last_price']).corr(),'\\n')"
      ]
    },
    {
      "cell_type": "markdown",
      "metadata": {
        "id": "aQWRI2x9WM9J"
      },
      "source": [
        "#### График зависимости цены от количество комнат"
      ]
    },
    {
      "cell_type": "code",
      "execution_count": 119,
      "metadata": {
        "colab": {
          "base_uri": "https://localhost:8080/",
          "height": 449
        },
        "id": "N2OS0iQrWM9J",
        "outputId": "2e25b40b-53ad-4475-fb93-dca996083801"
      },
      "outputs": [
        {
          "data": {
            "image/png": "[encoded data removed]",
            "text/plain": [
              "<Figure size 360x360 with 1 Axes>"
            ]
          },
          "metadata": {
            "needs_background": "light"
          },
          "output_type": "display_data"
        },
        {
          "name": "stdout",
          "output_type": "stream",
          "text": [
            "Корреляция цены и числа комнат: \n",
            "\n",
            "            last_price     rooms\n",
            "last_price    1.000000  0.563322\n",
            "rooms         0.563322  1.000000 \n",
            "\n"
          ]
        }
      ],
      "source": [
        "data.pivot_table(index='rooms', values='last_price').plot(grid=True, style='o-', figsize=(5, 5))\n",
        "plt.show()\n",
        "print('Корреляция цены и числа комнат:','\\n')\n",
        "print(data.pivot_table(index='floor', values=['rooms', 'last_price']).corr(),'\\n')"
      ]
    },
    {
      "cell_type": "markdown",
      "metadata": {
        "id": "N0laGelkWM9J"
      },
      "source": [
        "#### График зависимости цены от типа этажа, на котором расположена квартира (первый, последний, другой)"
      ]
    },
    {
      "cell_type": "code",
      "execution_count": 120,
      "metadata": {
        "colab": {
          "base_uri": "https://localhost:8080/",
          "height": 346
        },
        "id": "sF-snFuTWM9J",
        "outputId": "d28652ba-756c-40be-f06b-eb81a1e5a380"
      },
      "outputs": [
        {
          "data": {
            "image/png": "[encoded data removed]",
            "text/plain": [
              "<Figure size 360x360 with 1 Axes>"
            ]
          },
          "metadata": {
            "needs_background": "light"
          },
          "output_type": "display_data"
        }
      ],
      "source": [
        "data.pivot_table(index='floor_type', values='last_price').plot(grid=True, style='o-', figsize=(5, 5))\n",
        "plt.show()"
      ]
    },
    {
      "cell_type": "markdown",
      "metadata": {
        "id": "yFAp7qXcWM9K"
      },
      "source": [
        "#### График зависимости цены от даты размещения (день недели, месяц, год)"
      ]
    },
    {
      "cell_type": "code",
      "execution_count": 121,
      "metadata": {
        "colab": {
          "base_uri": "https://localhost:8080/",
          "height": 1000
        },
        "id": "-wpR1TglWM9K",
        "outputId": "dcc9a472-1fe4-4d55-c244-4a363137a491"
      },
      "outputs": [
        {
          "name": "stdout",
          "output_type": "stream",
          "text": [
            "График зависимости цены от даты размещения (день недели)\n"
          ]
        },
        {
          "data": {
            "image/png": "[encoded data removed]",
            "text/plain": [
              "<Figure size 360x360 with 1 Axes>"
            ]
          },
          "metadata": {
            "needs_background": "light"
          },
          "output_type": "display_data"
        },
        {
          "name": "stdout",
          "output_type": "stream",
          "text": [
            "Корреляция цены и даты размещения (день недели): \n",
            "\n",
            "            last_price   weekday\n",
            "last_price    1.000000  0.668132\n",
            "weekday       0.668132  1.000000 \n",
            "\n",
            "График зависимости цены от даты размещения (месяц)\n"
          ]
        },
        {
          "data": {
            "image/png": "[encoded data removed]",
            "text/plain": [
              "<Figure size 360x360 with 1 Axes>"
            ]
          },
          "metadata": {
            "needs_background": "light"
          },
          "output_type": "display_data"
        },
        {
          "name": "stdout",
          "output_type": "stream",
          "text": [
            "Корреляция цены и даты размещения (месяц): \n",
            "\n",
            "            last_price     month\n",
            "last_price    1.000000  0.031709\n",
            "month         0.031709  1.000000 \n",
            "\n",
            "График зависимости цены от даты размещения (год)\n"
          ]
        },
        {
          "data": {
            "image/png": "[encoded data removed]",
            "text/plain": [
              "<Figure size 360x360 with 1 Axes>"
            ]
          },
          "metadata": {
            "needs_background": "light"
          },
          "output_type": "display_data"
        },
        {
          "name": "stdout",
          "output_type": "stream",
          "text": [
            "Корреляция цены и даты размещения (год): \n",
            "\n",
            "            last_price      year\n",
            "last_price    1.000000  0.073543\n",
            "year          0.073543  1.000000 \n",
            "\n"
          ]
        }
      ],
      "source": [
        "print('График зависимости цены от даты размещения (день недели)')\n",
        "data.pivot_table(index='weekday', values='last_price').plot(grid=True, style='o-', figsize=(5, 5))\n",
        "plt.show()\n",
        "print('Корреляция цены и даты размещения (день недели):','\\n')\n",
        "print(data.pivot_table(index='floor', values=['weekday', 'last_price']).corr(),'\\n')\n",
        "\n",
        "print('График зависимости цены от даты размещения (месяц)')\n",
        "data.pivot_table(index='month', values='last_price').plot(grid=True, style='o-', figsize=(5, 5))\n",
        "plt.show()\n",
        "print('Корреляция цены и даты размещения (месяц):','\\n')\n",
        "print(data.pivot_table(index='floor', values=['month', 'last_price']).corr(),'\\n')\n",
        "\n",
        "print('График зависимости цены от даты размещения (год)')\n",
        "data.pivot_table(index='year', values='last_price').plot(grid=True, style='o-', figsize=(5, 5))\n",
        "plt.show()\n",
        "print('Корреляция цены и даты размещения (год):','\\n')\n",
        "print(data.pivot_table(index='floor', values=['year', 'last_price']).corr(),'\\n')"
      ]
    },
    {
      "cell_type": "markdown",
      "metadata": {
        "id": "7NPl0EH6WM9K"
      },
      "source": [
        "Вывод:\n",
        "\n",
        "Общая площадь - чем больше площадь, тем выше стоимость. Корреляция этих параметров высокая.\n",
        "\n",
        "Жилая площадь - чем больше площадь, тем выше стоимость. Корреляция этих параметров средняя.\n",
        "\n",
        "Площадь кухни - чем больше площадь, тем выше стоимость. Корреляция этих параметров невысокая.\n",
        "\n",
        "Количество комнат - чем больше комнат, тем выше стоимость.\n",
        "\n",
        "Тип этажа, на котором расположена квартира (первый, последний, другой) - квартиры, расположенные на 1 этаже в среднем значительно дешевле. Более дорогие квартиры - на последнем этаже. В середине - квартиры, расположенные не на 1 и последнем этажах.\n",
        "\n",
        "Даты размещения (день недели, месяц, год): День недели: дороже всего недвижимость, выставленная на продажу во вторник, дешевле всего - в субботу. Месяц: дороже всего недвижимость, выставленная на продажу в сентября, дешевле всего - в июне.\n",
        "Год: недвижимость сильно подешевела в 2014-2016 годах. Затем в 2016-2018 падение цен продолжилось но оно было небольшим. С 2018 года цены на недвижимость снова стали расти."
      ]
    },
    {
      "cell_type": "markdown",
      "metadata": {
        "id": "gZpTFSi7WM9L"
      },
      "source": [
        "### Посчитаем среднюю цену одного квадратного метра в 10 населённых пунктах с наибольшим числом объявлений. \n",
        "\n",
        "Выделим населённые пункты с самой высокой и низкой стоимостью квадратного метра."
      ]
    },
    {
      "cell_type": "code",
      "execution_count": 122,
      "metadata": {
        "colab": {
          "base_uri": "https://localhost:8080/",
          "height": 429
        },
        "id": "ElqX903bWM9L",
        "outputId": "c7f5b835-110f-45e0-f89e-e98c96d602f3"
      },
      "outputs": [
        {
          "name": "stdout",
          "output_type": "stream",
          "text": [
            "\n",
            "Населённые пункты с самой высокой стоимостью квадратного метра\n"
          ]
        },
        {
          "data": {
            "text/html": [
              "\n",
              "  <div id=\"df-71245ca5-063c-4210-a24d-e229479c3307\">\n",
              "    <div class=\"colab-df-container\">\n",
              "      <div>\n",
              "<style scoped>\n",
              "    .dataframe tbody tr th:only-of-type {\n",
              "        vertical-align: middle;\n",
              "    }\n",
              "\n",
              "    .dataframe tbody tr th {\n",
              "        vertical-align: top;\n",
              "    }\n",
              "\n",
              "    .dataframe thead th {\n",
              "        text-align: right;\n",
              "    }\n",
              "</style>\n",
              "<table border=\"1\" class=\"dataframe\">\n",
              "  <thead>\n",
              "    <tr style=\"text-align: right;\">\n",
              "      <th></th>\n",
              "      <th>price_sq_meter</th>\n",
              "    </tr>\n",
              "    <tr>\n",
              "      <th>locality_name</th>\n",
              "      <th></th>\n",
              "    </tr>\n",
              "  </thead>\n",
              "  <tbody>\n",
              "    <tr>\n",
              "      <th>Санкт-Петербург</th>\n",
              "      <td>105686.252560</td>\n",
              "    </tr>\n",
              "    <tr>\n",
              "      <th>Пушкин</th>\n",
              "      <td>100462.063435</td>\n",
              "    </tr>\n",
              "    <tr>\n",
              "      <th>Кудрово</th>\n",
              "      <td>95086.975249</td>\n",
              "    </tr>\n",
              "    <tr>\n",
              "      <th>Парголово</th>\n",
              "      <td>90332.263023</td>\n",
              "    </tr>\n",
              "    <tr>\n",
              "      <th>Мурино</th>\n",
              "      <td>86041.116064</td>\n",
              "    </tr>\n",
              "    <tr>\n",
              "      <th>Шушары</th>\n",
              "      <td>78578.068204</td>\n",
              "    </tr>\n",
              "    <tr>\n",
              "      <th>Колпино</th>\n",
              "      <td>75221.876295</td>\n",
              "    </tr>\n",
              "    <tr>\n",
              "      <th>Гатчина</th>\n",
              "      <td>68664.035870</td>\n",
              "    </tr>\n",
              "    <tr>\n",
              "      <th>Всеволожск</th>\n",
              "      <td>67222.431462</td>\n",
              "    </tr>\n",
              "    <tr>\n",
              "      <th>Выборг</th>\n",
              "      <td>58225.624357</td>\n",
              "    </tr>\n",
              "  </tbody>\n",
              "</table>\n",
              "</div>\n",
              "      <button class=\"colab-df-convert\" onclick=\"convertToInteractive('df-71245ca5-063c-4210-a24d-e229479c3307')\"\n",
              "              title=\"Convert this dataframe to an interactive table.\"\n",
              "              style=\"display:none;\">\n",
              "        \n",
              "  <svg xmlns=\"http://www.w3.org/2000/svg\" height=\"24px\"viewBox=\"0 0 24 24\"\n",
              "       width=\"24px\">\n",
              "    <path d=\"M0 0h24v24H0V0z\" fill=\"none\"/>\n",
              "    <path d=\"M18.56 5.44l.94 2.06.94-2.06 2.06-.94-2.06-.94-.94-2.06-.94 2.06-2.06.94zm-11 1L8.5 8.5l.94-2.06 2.06-.94-2.06-.94L8.5 2.5l-.94 2.06-2.06.94zm10 10l.94 2.06.94-2.06 2.06-.94-2.06-.94-.94-2.06-.94 2.06-2.06.94z\"/><path d=\"M17.41 7.96l-1.37-1.37c-.4-.4-.92-.59-1.43-.59-.52 0-1.04.2-1.43.59L10.3 9.45l-7.72 7.72c-.78.78-.78 2.05 0 2.83L4 21.41c.39.39.9.59 1.41.59.51 0 1.02-.2 1.41-.59l7.78-7.78 2.81-2.81c.8-.78.8-2.07 0-2.86zM5.41 20L4 18.59l7.72-7.72 1.47 1.35L5.41 20z\"/>\n",
              "  </svg>\n",
              "      </button>\n",
              "      \n",
              "  <style>\n",
              "    .colab-df-container {\n",
              "      display:flex;\n",
              "      flex-wrap:wrap;\n",
              "      gap: 12px;\n",
              "    }\n",
              "\n",
              "    .colab-df-convert {\n",
              "      background-color: #E8F0FE;\n",
              "      border: none;\n",
              "      border-radius: 50%;\n",
              "      cursor: pointer;\n",
              "      display: none;\n",
              "      fill: #1967D2;\n",
              "      height: 32px;\n",
              "      padding: 0 0 0 0;\n",
              "      width: 32px;\n",
              "    }\n",
              "\n",
              "    .colab-df-convert:hover {\n",
              "      background-color: #E2EBFA;\n",
              "      box-shadow: 0px 1px 2px rgba(60, 64, 67, 0.3), 0px 1px 3px 1px rgba(60, 64, 67, 0.15);\n",
              "      fill: #174EA6;\n",
              "    }\n",
              "\n",
              "    [theme=dark] .colab-df-convert {\n",
              "      background-color: #3B4455;\n",
              "      fill: #D2E3FC;\n",
              "    }\n",
              "\n",
              "    [theme=dark] .colab-df-convert:hover {\n",
              "      background-color: #434B5C;\n",
              "      box-shadow: 0px 1px 3px 1px rgba(0, 0, 0, 0.15);\n",
              "      filter: drop-shadow(0px 1px 2px rgba(0, 0, 0, 0.3));\n",
              "      fill: #FFFFFF;\n",
              "    }\n",
              "  </style>\n",
              "\n",
              "      <script>\n",
              "        const buttonEl =\n",
              "          document.querySelector('#df-71245ca5-063c-4210-a24d-e229479c3307 button.colab-df-convert');\n",
              "        buttonEl.style.display =\n",
              "          google.colab.kernel.accessAllowed ? 'block' : 'none';\n",
              "\n",
              "        async function convertToInteractive(key) {\n",
              "          const element = document.querySelector('#df-71245ca5-063c-4210-a24d-e229479c3307');\n",
              "          const dataTable =\n",
              "            await google.colab.kernel.invokeFunction('convertToInteractive',\n",
              "                                                     [key], {});\n",
              "          if (!dataTable) return;\n",
              "\n",
              "          const docLinkHtml = 'Like what you see? Visit the ' +\n",
              "            '<a target=\"_blank\" href=https://colab.research.google.com/notebooks/data_table.ipynb>data table notebook</a>'\n",
              "            + ' to learn more about interactive tables.';\n",
              "          element.innerHTML = '';\n",
              "          dataTable['output_type'] = 'display_data';\n",
              "          await google.colab.output.renderOutput(dataTable, element);\n",
              "          const docLink = document.createElement('div');\n",
              "          docLink.innerHTML = docLinkHtml;\n",
              "          element.appendChild(docLink);\n",
              "        }\n",
              "      </script>\n",
              "    </div>\n",
              "  </div>\n",
              "  "
            ],
            "text/plain": [
              "                 price_sq_meter\n",
              "locality_name                  \n",
              "Санкт-Петербург   105686.252560\n",
              "Пушкин            100462.063435\n",
              "Кудрово            95086.975249\n",
              "Парголово          90332.263023\n",
              "Мурино             86041.116064\n",
              "Шушары             78578.068204\n",
              "Колпино            75221.876295\n",
              "Гатчина            68664.035870\n",
              "Всеволожск         67222.431462\n",
              "Выборг             58225.624357"
            ]
          },
          "execution_count": 122,
          "metadata": {},
          "output_type": "execute_result"
        }
      ],
      "source": [
        "print('')\n",
        "print('Населённые пункты с самой высокой стоимостью квадратного метра')\n",
        "city_top_ten = data['locality_name'].value_counts().head(10)\n",
        "city_price_sq_meter = data.query('locality_name in (@city_top_ten.index)').pivot_table(values='price_sq_meter', index='locality_name')\n",
        "city_price_sq_meter.sort_values('price_sq_meter', ascending=False)"
      ]
    },
    {
      "cell_type": "code",
      "execution_count": 123,
      "metadata": {
        "colab": {
          "base_uri": "https://localhost:8080/",
          "height": 429
        },
        "id": "96CK40jbWM9M",
        "outputId": "9a7c8189-c558-4449-e4f6-1de12c8e3579"
      },
      "outputs": [
        {
          "name": "stdout",
          "output_type": "stream",
          "text": [
            "\n",
            "Населённые пункты с самой низкой стоимостью квадратного метра\n"
          ]
        },
        {
          "data": {
            "text/html": [
              "\n",
              "  <div id=\"df-24f9c001-160c-480a-8661-a99f96e05351\">\n",
              "    <div class=\"colab-df-container\">\n",
              "      <div>\n",
              "<style scoped>\n",
              "    .dataframe tbody tr th:only-of-type {\n",
              "        vertical-align: middle;\n",
              "    }\n",
              "\n",
              "    .dataframe tbody tr th {\n",
              "        vertical-align: top;\n",
              "    }\n",
              "\n",
              "    .dataframe thead th {\n",
              "        text-align: right;\n",
              "    }\n",
              "</style>\n",
              "<table border=\"1\" class=\"dataframe\">\n",
              "  <thead>\n",
              "    <tr style=\"text-align: right;\">\n",
              "      <th></th>\n",
              "      <th>price_sq_meter</th>\n",
              "    </tr>\n",
              "    <tr>\n",
              "      <th>locality_name</th>\n",
              "      <th></th>\n",
              "    </tr>\n",
              "  </thead>\n",
              "  <tbody>\n",
              "    <tr>\n",
              "      <th>Сижно</th>\n",
              "      <td>13709.677419</td>\n",
              "    </tr>\n",
              "    <tr>\n",
              "      <th>Почап</th>\n",
              "      <td>16037.735849</td>\n",
              "    </tr>\n",
              "    <tr>\n",
              "      <th>Пельгора</th>\n",
              "      <td>18269.230769</td>\n",
              "    </tr>\n",
              "    <tr>\n",
              "      <th>Алексеевка</th>\n",
              "      <td>22222.222222</td>\n",
              "    </tr>\n",
              "    <tr>\n",
              "      <th>Котлы</th>\n",
              "      <td>24886.877828</td>\n",
              "    </tr>\n",
              "    <tr>\n",
              "      <th>Платформа 69-й километр</th>\n",
              "      <td>25616.698292</td>\n",
              "    </tr>\n",
              "    <tr>\n",
              "      <th>Каложицы</th>\n",
              "      <td>26715.686275</td>\n",
              "    </tr>\n",
              "    <tr>\n",
              "      <th>Дзержинского</th>\n",
              "      <td>33439.490446</td>\n",
              "    </tr>\n",
              "    <tr>\n",
              "      <th>Гончарово</th>\n",
              "      <td>41371.158392</td>\n",
              "    </tr>\n",
              "    <tr>\n",
              "      <th>Белоостров</th>\n",
              "      <td>66666.666667</td>\n",
              "    </tr>\n",
              "  </tbody>\n",
              "</table>\n",
              "</div>\n",
              "      <button class=\"colab-df-convert\" onclick=\"convertToInteractive('df-24f9c001-160c-480a-8661-a99f96e05351')\"\n",
              "              title=\"Convert this dataframe to an interactive table.\"\n",
              "              style=\"display:none;\">\n",
              "        \n",
              "  <svg xmlns=\"http://www.w3.org/2000/svg\" height=\"24px\"viewBox=\"0 0 24 24\"\n",
              "       width=\"24px\">\n",
              "    <path d=\"M0 0h24v24H0V0z\" fill=\"none\"/>\n",
              "    <path d=\"M18.56 5.44l.94 2.06.94-2.06 2.06-.94-2.06-.94-.94-2.06-.94 2.06-2.06.94zm-11 1L8.5 8.5l.94-2.06 2.06-.94-2.06-.94L8.5 2.5l-.94 2.06-2.06.94zm10 10l.94 2.06.94-2.06 2.06-.94-2.06-.94-.94-2.06-.94 2.06-2.06.94z\"/><path d=\"M17.41 7.96l-1.37-1.37c-.4-.4-.92-.59-1.43-.59-.52 0-1.04.2-1.43.59L10.3 9.45l-7.72 7.72c-.78.78-.78 2.05 0 2.83L4 21.41c.39.39.9.59 1.41.59.51 0 1.02-.2 1.41-.59l7.78-7.78 2.81-2.81c.8-.78.8-2.07 0-2.86zM5.41 20L4 18.59l7.72-7.72 1.47 1.35L5.41 20z\"/>\n",
              "  </svg>\n",
              "      </button>\n",
              "      \n",
              "  <style>\n",
              "    .colab-df-container {\n",
              "      display:flex;\n",
              "      flex-wrap:wrap;\n",
              "      gap: 12px;\n",
              "    }\n",
              "\n",
              "    .colab-df-convert {\n",
              "      background-color: #E8F0FE;\n",
              "      border: none;\n",
              "      border-radius: 50%;\n",
              "      cursor: pointer;\n",
              "      display: none;\n",
              "      fill: #1967D2;\n",
              "      height: 32px;\n",
              "      padding: 0 0 0 0;\n",
              "      width: 32px;\n",
              "    }\n",
              "\n",
              "    .colab-df-convert:hover {\n",
              "      background-color: #E2EBFA;\n",
              "      box-shadow: 0px 1px 2px rgba(60, 64, 67, 0.3), 0px 1px 3px 1px rgba(60, 64, 67, 0.15);\n",
              "      fill: #174EA6;\n",
              "    }\n",
              "\n",
              "    [theme=dark] .colab-df-convert {\n",
              "      background-color: #3B4455;\n",
              "      fill: #D2E3FC;\n",
              "    }\n",
              "\n",
              "    [theme=dark] .colab-df-convert:hover {\n",
              "      background-color: #434B5C;\n",
              "      box-shadow: 0px 1px 3px 1px rgba(0, 0, 0, 0.15);\n",
              "      filter: drop-shadow(0px 1px 2px rgba(0, 0, 0, 0.3));\n",
              "      fill: #FFFFFF;\n",
              "    }\n",
              "  </style>\n",
              "\n",
              "      <script>\n",
              "        const buttonEl =\n",
              "          document.querySelector('#df-24f9c001-160c-480a-8661-a99f96e05351 button.colab-df-convert');\n",
              "        buttonEl.style.display =\n",
              "          google.colab.kernel.accessAllowed ? 'block' : 'none';\n",
              "\n",
              "        async function convertToInteractive(key) {\n",
              "          const element = document.querySelector('#df-24f9c001-160c-480a-8661-a99f96e05351');\n",
              "          const dataTable =\n",
              "            await google.colab.kernel.invokeFunction('convertToInteractive',\n",
              "                                                     [key], {});\n",
              "          if (!dataTable) return;\n",
              "\n",
              "          const docLinkHtml = 'Like what you see? Visit the ' +\n",
              "            '<a target=\"_blank\" href=https://colab.research.google.com/notebooks/data_table.ipynb>data table notebook</a>'\n",
              "            + ' to learn more about interactive tables.';\n",
              "          element.innerHTML = '';\n",
              "          dataTable['output_type'] = 'display_data';\n",
              "          await google.colab.output.renderOutput(dataTable, element);\n",
              "          const docLink = document.createElement('div');\n",
              "          docLink.innerHTML = docLinkHtml;\n",
              "          element.appendChild(docLink);\n",
              "        }\n",
              "      </script>\n",
              "    </div>\n",
              "  </div>\n",
              "  "
            ],
            "text/plain": [
              "                         price_sq_meter\n",
              "locality_name                          \n",
              "Сижно                      13709.677419\n",
              "Почап                      16037.735849\n",
              "Пельгора                   18269.230769\n",
              "Алексеевка                 22222.222222\n",
              "Котлы                      24886.877828\n",
              "Платформа 69-й километр    25616.698292\n",
              "Каложицы                   26715.686275\n",
              "Дзержинского               33439.490446\n",
              "Гончарово                  41371.158392\n",
              "Белоостров                 66666.666667"
            ]
          },
          "execution_count": 123,
          "metadata": {},
          "output_type": "execute_result"
        }
      ],
      "source": [
        "print('')\n",
        "print('Населённые пункты с самой низкой стоимостью квадратного метра')\n",
        "city_bottom_ten = data['locality_name'].value_counts().tail(10)\n",
        "city_price_sq_meter = data.query('locality_name in (@city_bottom_ten.index)').pivot_table(values='price_sq_meter', index='locality_name')\n",
        "city_price_sq_meter.sort_values('price_sq_meter')"
      ]
    },
    {
      "cell_type": "markdown",
      "metadata": {
        "id": "Q9TZ4E3gWM9M"
      },
      "source": [
        "Вывод:\n",
        "\n",
        "Наибольшая средняя цена одного квадратного метра в населённых пунктах с наибольшим числом объявлений в г. Санкт-Петербург.\n",
        "\n",
        "Наименьшая средняя цена одного квадратного метра в населённых пунктах с наибольшим числом объявлений в пос. Пчевжа."
      ]
    },
    {
      "cell_type": "markdown",
      "metadata": {
        "id": "S5H4HRn2WM9M"
      },
      "source": [
        "### Вычислим среднюю цену каждого километра. \n",
        "\n",
        "Выделим квартиры в Санкт-Петербурге с помощью столбца `locality_name` и вычислим среднюю цену каждого километра. \n",
        "\n",
        "Опишем, как стоимость объектов зависит от расстояния до центра города."
      ]
    },
    {
      "cell_type": "code",
      "execution_count": 124,
      "metadata": {
        "colab": {
          "base_uri": "https://localhost:8080/",
          "height": 990
        },
        "id": "LY7-iOq4WM9N",
        "outputId": "628a3e41-dfea-4735-9cbc-ad44d35805b4"
      },
      "outputs": [
        {
          "data": {
            "text/html": [
              "\n",
              "  <div id=\"df-6ca5a733-a5e7-4f4b-8e86-75d4bc38e0c2\">\n",
              "    <div class=\"colab-df-container\">\n",
              "      <div>\n",
              "<style scoped>\n",
              "    .dataframe tbody tr th:only-of-type {\n",
              "        vertical-align: middle;\n",
              "    }\n",
              "\n",
              "    .dataframe tbody tr th {\n",
              "        vertical-align: top;\n",
              "    }\n",
              "\n",
              "    .dataframe thead th {\n",
              "        text-align: right;\n",
              "    }\n",
              "</style>\n",
              "<table border=\"1\" class=\"dataframe\">\n",
              "  <thead>\n",
              "    <tr style=\"text-align: right;\">\n",
              "      <th></th>\n",
              "      <th>cityCenters_km</th>\n",
              "      <th>price_sq_meter</th>\n",
              "    </tr>\n",
              "  </thead>\n",
              "  <tbody>\n",
              "    <tr>\n",
              "      <th>0</th>\n",
              "      <td>0</td>\n",
              "      <td>123870.110674</td>\n",
              "    </tr>\n",
              "    <tr>\n",
              "      <th>1</th>\n",
              "      <td>1</td>\n",
              "      <td>118617.393290</td>\n",
              "    </tr>\n",
              "    <tr>\n",
              "      <th>2</th>\n",
              "      <td>2</td>\n",
              "      <td>114140.059975</td>\n",
              "    </tr>\n",
              "    <tr>\n",
              "      <th>3</th>\n",
              "      <td>3</td>\n",
              "      <td>111305.059705</td>\n",
              "    </tr>\n",
              "    <tr>\n",
              "      <th>4</th>\n",
              "      <td>4</td>\n",
              "      <td>120323.080346</td>\n",
              "    </tr>\n",
              "    <tr>\n",
              "      <th>5</th>\n",
              "      <td>5</td>\n",
              "      <td>121464.256405</td>\n",
              "    </tr>\n",
              "    <tr>\n",
              "      <th>6</th>\n",
              "      <td>6</td>\n",
              "      <td>119538.890067</td>\n",
              "    </tr>\n",
              "    <tr>\n",
              "      <th>7</th>\n",
              "      <td>7</td>\n",
              "      <td>117948.169268</td>\n",
              "    </tr>\n",
              "    <tr>\n",
              "      <th>8</th>\n",
              "      <td>8</td>\n",
              "      <td>111952.996013</td>\n",
              "    </tr>\n",
              "    <tr>\n",
              "      <th>9</th>\n",
              "      <td>9</td>\n",
              "      <td>105731.162750</td>\n",
              "    </tr>\n",
              "    <tr>\n",
              "      <th>10</th>\n",
              "      <td>10</td>\n",
              "      <td>106662.915228</td>\n",
              "    </tr>\n",
              "    <tr>\n",
              "      <th>11</th>\n",
              "      <td>11</td>\n",
              "      <td>104200.397017</td>\n",
              "    </tr>\n",
              "    <tr>\n",
              "      <th>12</th>\n",
              "      <td>12</td>\n",
              "      <td>106147.708708</td>\n",
              "    </tr>\n",
              "    <tr>\n",
              "      <th>13</th>\n",
              "      <td>13</td>\n",
              "      <td>106312.695527</td>\n",
              "    </tr>\n",
              "    <tr>\n",
              "      <th>14</th>\n",
              "      <td>14</td>\n",
              "      <td>103424.529263</td>\n",
              "    </tr>\n",
              "    <tr>\n",
              "      <th>15</th>\n",
              "      <td>15</td>\n",
              "      <td>100677.297314</td>\n",
              "    </tr>\n",
              "    <tr>\n",
              "      <th>16</th>\n",
              "      <td>16</td>\n",
              "      <td>98640.992052</td>\n",
              "    </tr>\n",
              "    <tr>\n",
              "      <th>17</th>\n",
              "      <td>17</td>\n",
              "      <td>94053.842152</td>\n",
              "    </tr>\n",
              "    <tr>\n",
              "      <th>18</th>\n",
              "      <td>18</td>\n",
              "      <td>93850.651246</td>\n",
              "    </tr>\n",
              "    <tr>\n",
              "      <th>19</th>\n",
              "      <td>19</td>\n",
              "      <td>95082.949854</td>\n",
              "    </tr>\n",
              "    <tr>\n",
              "      <th>20</th>\n",
              "      <td>20</td>\n",
              "      <td>107191.083749</td>\n",
              "    </tr>\n",
              "    <tr>\n",
              "      <th>21</th>\n",
              "      <td>21</td>\n",
              "      <td>91007.483368</td>\n",
              "    </tr>\n",
              "    <tr>\n",
              "      <th>22</th>\n",
              "      <td>22</td>\n",
              "      <td>88379.468742</td>\n",
              "    </tr>\n",
              "    <tr>\n",
              "      <th>23</th>\n",
              "      <td>23</td>\n",
              "      <td>92720.641577</td>\n",
              "    </tr>\n",
              "    <tr>\n",
              "      <th>24</th>\n",
              "      <td>24</td>\n",
              "      <td>82440.343912</td>\n",
              "    </tr>\n",
              "    <tr>\n",
              "      <th>25</th>\n",
              "      <td>25</td>\n",
              "      <td>90436.945589</td>\n",
              "    </tr>\n",
              "    <tr>\n",
              "      <th>26</th>\n",
              "      <td>26</td>\n",
              "      <td>75171.911041</td>\n",
              "    </tr>\n",
              "    <tr>\n",
              "      <th>27</th>\n",
              "      <td>27</td>\n",
              "      <td>70312.500000</td>\n",
              "    </tr>\n",
              "    <tr>\n",
              "      <th>28</th>\n",
              "      <td>28</td>\n",
              "      <td>81840.638722</td>\n",
              "    </tr>\n",
              "    <tr>\n",
              "      <th>29</th>\n",
              "      <td>29</td>\n",
              "      <td>62482.404228</td>\n",
              "    </tr>\n",
              "  </tbody>\n",
              "</table>\n",
              "</div>\n",
              "      <button class=\"colab-df-convert\" onclick=\"convertToInteractive('df-6ca5a733-a5e7-4f4b-8e86-75d4bc38e0c2')\"\n",
              "              title=\"Convert this dataframe to an interactive table.\"\n",
              "              style=\"display:none;\">\n",
              "        \n",
              "  <svg xmlns=\"http://www.w3.org/2000/svg\" height=\"24px\"viewBox=\"0 0 24 24\"\n",
              "       width=\"24px\">\n",
              "    <path d=\"M0 0h24v24H0V0z\" fill=\"none\"/>\n",
              "    <path d=\"M18.56 5.44l.94 2.06.94-2.06 2.06-.94-2.06-.94-.94-2.06-.94 2.06-2.06.94zm-11 1L8.5 8.5l.94-2.06 2.06-.94-2.06-.94L8.5 2.5l-.94 2.06-2.06.94zm10 10l.94 2.06.94-2.06 2.06-.94-2.06-.94-.94-2.06-.94 2.06-2.06.94z\"/><path d=\"M17.41 7.96l-1.37-1.37c-.4-.4-.92-.59-1.43-.59-.52 0-1.04.2-1.43.59L10.3 9.45l-7.72 7.72c-.78.78-.78 2.05 0 2.83L4 21.41c.39.39.9.59 1.41.59.51 0 1.02-.2 1.41-.59l7.78-7.78 2.81-2.81c.8-.78.8-2.07 0-2.86zM5.41 20L4 18.59l7.72-7.72 1.47 1.35L5.41 20z\"/>\n",
              "  </svg>\n",
              "      </button>\n",
              "      \n",
              "  <style>\n",
              "    .colab-df-container {\n",
              "      display:flex;\n",
              "      flex-wrap:wrap;\n",
              "      gap: 12px;\n",
              "    }\n",
              "\n",
              "    .colab-df-convert {\n",
              "      background-color: #E8F0FE;\n",
              "      border: none;\n",
              "      border-radius: 50%;\n",
              "      cursor: pointer;\n",
              "      display: none;\n",
              "      fill: #1967D2;\n",
              "      height: 32px;\n",
              "      padding: 0 0 0 0;\n",
              "      width: 32px;\n",
              "    }\n",
              "\n",
              "    .colab-df-convert:hover {\n",
              "      background-color: #E2EBFA;\n",
              "      box-shadow: 0px 1px 2px rgba(60, 64, 67, 0.3), 0px 1px 3px 1px rgba(60, 64, 67, 0.15);\n",
              "      fill: #174EA6;\n",
              "    }\n",
              "\n",
              "    [theme=dark] .colab-df-convert {\n",
              "      background-color: #3B4455;\n",
              "      fill: #D2E3FC;\n",
              "    }\n",
              "\n",
              "    [theme=dark] .colab-df-convert:hover {\n",
              "      background-color: #434B5C;\n",
              "      box-shadow: 0px 1px 3px 1px rgba(0, 0, 0, 0.15);\n",
              "      filter: drop-shadow(0px 1px 2px rgba(0, 0, 0, 0.3));\n",
              "      fill: #FFFFFF;\n",
              "    }\n",
              "  </style>\n",
              "\n",
              "      <script>\n",
              "        const buttonEl =\n",
              "          document.querySelector('#df-6ca5a733-a5e7-4f4b-8e86-75d4bc38e0c2 button.colab-df-convert');\n",
              "        buttonEl.style.display =\n",
              "          google.colab.kernel.accessAllowed ? 'block' : 'none';\n",
              "\n",
              "        async function convertToInteractive(key) {\n",
              "          const element = document.querySelector('#df-6ca5a733-a5e7-4f4b-8e86-75d4bc38e0c2');\n",
              "          const dataTable =\n",
              "            await google.colab.kernel.invokeFunction('convertToInteractive',\n",
              "                                                     [key], {});\n",
              "          if (!dataTable) return;\n",
              "\n",
              "          const docLinkHtml = 'Like what you see? Visit the ' +\n",
              "            '<a target=\"_blank\" href=https://colab.research.google.com/notebooks/data_table.ipynb>data table notebook</a>'\n",
              "            + ' to learn more about interactive tables.';\n",
              "          element.innerHTML = '';\n",
              "          dataTable['output_type'] = 'display_data';\n",
              "          await google.colab.output.renderOutput(dataTable, element);\n",
              "          const docLink = document.createElement('div');\n",
              "          docLink.innerHTML = docLinkHtml;\n",
              "          element.appendChild(docLink);\n",
              "        }\n",
              "      </script>\n",
              "    </div>\n",
              "  </div>\n",
              "  "
            ],
            "text/plain": [
              "    cityCenters_km  price_sq_meter\n",
              "0                0   123870.110674\n",
              "1                1   118617.393290\n",
              "2                2   114140.059975\n",
              "3                3   111305.059705\n",
              "4                4   120323.080346\n",
              "5                5   121464.256405\n",
              "6                6   119538.890067\n",
              "7                7   117948.169268\n",
              "8                8   111952.996013\n",
              "9                9   105731.162750\n",
              "10              10   106662.915228\n",
              "11              11   104200.397017\n",
              "12              12   106147.708708\n",
              "13              13   106312.695527\n",
              "14              14   103424.529263\n",
              "15              15   100677.297314\n",
              "16              16    98640.992052\n",
              "17              17    94053.842152\n",
              "18              18    93850.651246\n",
              "19              19    95082.949854\n",
              "20              20   107191.083749\n",
              "21              21    91007.483368\n",
              "22              22    88379.468742\n",
              "23              23    92720.641577\n",
              "24              24    82440.343912\n",
              "25              25    90436.945589\n",
              "26              26    75171.911041\n",
              "27              27    70312.500000\n",
              "28              28    81840.638722\n",
              "29              29    62482.404228"
            ]
          },
          "execution_count": 124,
          "metadata": {},
          "output_type": "execute_result"
        }
      ],
      "source": [
        "locality_SPB = data.query('locality_name == \"Санкт-Петербург\"')\n",
        "locality_SPB_pivot = locality_SPB.pivot_table(index='cityCenters_km', values='price_sq_meter', aggfunc='mean').reset_index()\n",
        "locality_SPB_pivot"
      ]
    },
    {
      "cell_type": "code",
      "execution_count": 125,
      "metadata": {
        "colab": {
          "base_uri": "https://localhost:8080/",
          "height": 298
        },
        "id": "pzACOY5RWM9N",
        "outputId": "81b0f07b-d9f1-4310-c65f-3491aede252f"
      },
      "outputs": [
        {
          "data": {
            "image/png": "[encoded data removed]",
            "text/plain": [
              "<Figure size 432x288 with 1 Axes>"
            ]
          },
          "metadata": {
            "needs_background": "light"
          },
          "output_type": "display_data"
        }
      ],
      "source": [
        "locality_SPB_pivot.plot(x='cityCenters_km', y='price_sq_meter', kind= 'bar', grid=True, title='Зависимость цены 1 кв.м. от удаленности от центра').set(xlabel='км', ylabel='цена 1 кв.м.');"
      ]
    },
    {
      "cell_type": "markdown",
      "metadata": {
        "id": "K45sTepsWM9N"
      },
      "source": [
        "Радиус разброса квартир - 29 км от центра города. \n",
        "\n",
        "В самом центре города цена квадратного метра порядка 120 000 руб.\n",
        "\n",
        "В радиусе до 7 км цена колеблится в диапазоне от 115 000 до 120 000 руб.\n",
        "\n",
        "По мере удаления квартир от центра города - цена за квадратный метр снижается."
      ]
    },
    {
      "cell_type": "markdown",
      "metadata": {
        "id": "6wo-sseNWM9O"
      },
      "source": [
        "## Общий вывод"
      ]
    },
    {
      "cell_type": "markdown",
      "metadata": {
        "id": "78o_AHpqWM9O"
      },
      "source": [
        "Анализ представленных данных подтверждает известные тенденции в части стоимости квартир. На цену влияют различные уточняющие параметры жилья, такие как площадь жилья (чем больше площадь, тем выше цена), близость к центру города (чем ближе, тем дороже) и т.д.\n",
        "\n",
        "Основная масса недвижимости выставляется на продажу вначале года. В конце весны начале лета наблюдается спад. Сначала лета и до декабря идёт постепенный рост выставления недвижимости на продажу, который заканчивается в декабре очередным спадом. В основном недвижимость продаётся в срок до 100 дней. Быстрой продажей можно считать срок до 41 дня. Долгой продажей -  от 182 дней.\n",
        "\n",
        "Основная масса представленной недвижимости стоит порядка 4-5 миллионов.\n",
        "Наибольшая средняя цена одного квадратного метра в г. Санкт-Петербург, а наименьшая - в пос. Пчевжа.\n",
        "\n",
        "В центре Санкт-Петербурга цена квадратного метра составляет порядка 120 000 руб. По мере удаления квартир от центра города - цена за квадратный метр снижается.\n",
        "\n",
        "Большинство квартир имеют площадь менее 100 квадратных метров. Самые распространённые варианты с жилой площадью от 10 до 50 квадратных метров и площадью кухни - от 5 до 12 квадратных метров. Основную массу выставленных на продажу квартир составляют 1, 2, 3 комнатные квартиры.\n",
        "\n",
        "В целом тенденция - чем больше площадь, тем выше цена  - проявляется однозначно. Корреляция по площади выглядит следующим образом: \n",
        "корреляция общей площади -  высокая;\n",
        "корреляция жилой площади -  средняя;\n",
        "корреляция площади кухни -  низкая.\n",
        "\n",
        "На первом и последнем этажах количество выставленных на продажу квартир значительно меньше, чем на других этажах. Квартиры, расположенные на первом этаже в среднем значительно дешевле. Более дорогие квартиры - на последнем этаже. В середине - квартиры, расположенные не на 1 и последнем этажах."
      ]
    }
  ],
  "metadata": {
    "ExecuteTimeLog": [
      {
        "duration": 511,
        "start_time": "2022-09-22T13:41:27.736Z"
      },
      {
        "duration": 140,
        "start_time": "2022-09-22T13:41:39.151Z"
      },
      {
        "duration": 143,
        "start_time": "2022-09-22T13:45:25.154Z"
      },
      {
        "duration": 118,
        "start_time": "2022-09-22T13:45:29.479Z"
      },
      {
        "duration": 78,
        "start_time": "2022-09-22T13:48:33.976Z"
      },
      {
        "duration": 12,
        "start_time": "2022-09-22T13:54:51.658Z"
      },
      {
        "duration": 76,
        "start_time": "2022-09-22T13:59:04.063Z"
      },
      {
        "duration": 15,
        "start_time": "2022-09-22T13:59:05.075Z"
      },
      {
        "duration": 14,
        "start_time": "2022-09-22T13:59:07.443Z"
      },
      {
        "duration": 2169,
        "start_time": "2022-09-22T13:59:09.083Z"
      },
      {
        "duration": 8,
        "start_time": "2022-09-22T14:07:18.201Z"
      },
      {
        "duration": 10,
        "start_time": "2022-09-22T14:09:51.374Z"
      },
      {
        "duration": 20,
        "start_time": "2022-09-22T14:11:41.636Z"
      },
      {
        "duration": 8,
        "start_time": "2022-09-22T14:11:55.492Z"
      },
      {
        "duration": 49,
        "start_time": "2022-09-27T11:33:53.752Z"
      },
      {
        "duration": 755,
        "start_time": "2022-09-27T11:34:08.056Z"
      },
      {
        "duration": 21,
        "start_time": "2022-09-27T11:34:08.813Z"
      },
      {
        "duration": 38,
        "start_time": "2022-09-27T11:34:08.835Z"
      },
      {
        "duration": 2604,
        "start_time": "2022-09-27T11:34:08.875Z"
      },
      {
        "duration": 9,
        "start_time": "2022-09-27T11:34:11.482Z"
      },
      {
        "duration": 1530,
        "start_time": "2022-09-27T11:34:11.492Z"
      },
      {
        "duration": 6,
        "start_time": "2022-09-27T11:34:30.484Z"
      },
      {
        "duration": 2038,
        "start_time": "2022-09-27T11:35:53.114Z"
      },
      {
        "duration": 7,
        "start_time": "2022-09-27T11:39:01.488Z"
      },
      {
        "duration": 6,
        "start_time": "2022-09-27T11:39:45.784Z"
      },
      {
        "duration": 6,
        "start_time": "2022-09-27T11:39:48.679Z"
      },
      {
        "duration": 23,
        "start_time": "2022-09-27T11:41:04.359Z"
      },
      {
        "duration": 12,
        "start_time": "2022-09-27T11:45:17.424Z"
      },
      {
        "duration": 6,
        "start_time": "2022-09-27T11:45:24.709Z"
      },
      {
        "duration": 50,
        "start_time": "2022-09-27T11:45:33.564Z"
      },
      {
        "duration": 6,
        "start_time": "2022-09-27T11:45:39.445Z"
      },
      {
        "duration": 6,
        "start_time": "2022-09-27T11:45:58.163Z"
      },
      {
        "duration": 6,
        "start_time": "2022-09-27T11:46:37.548Z"
      },
      {
        "duration": 8,
        "start_time": "2022-09-27T11:46:38.843Z"
      },
      {
        "duration": 7,
        "start_time": "2022-09-27T11:47:04.275Z"
      },
      {
        "duration": 6,
        "start_time": "2022-09-27T11:47:17.938Z"
      },
      {
        "duration": 7,
        "start_time": "2022-09-27T11:47:33.139Z"
      },
      {
        "duration": 8,
        "start_time": "2022-09-27T11:48:05.938Z"
      },
      {
        "duration": 21,
        "start_time": "2022-09-27T11:48:21.578Z"
      },
      {
        "duration": 18,
        "start_time": "2022-09-27T11:48:24.829Z"
      },
      {
        "duration": 6,
        "start_time": "2022-09-27T11:49:17.914Z"
      },
      {
        "duration": 7,
        "start_time": "2022-09-27T11:49:49.512Z"
      },
      {
        "duration": 7,
        "start_time": "2022-09-27T11:50:57.008Z"
      },
      {
        "duration": 7,
        "start_time": "2022-09-27T11:51:02.497Z"
      },
      {
        "duration": 10,
        "start_time": "2022-09-27T11:53:29.742Z"
      },
      {
        "duration": 8,
        "start_time": "2022-09-27T11:53:38.726Z"
      },
      {
        "duration": 8,
        "start_time": "2022-09-27T11:53:51.678Z"
      },
      {
        "duration": 9,
        "start_time": "2022-09-27T11:54:04.447Z"
      },
      {
        "duration": 5,
        "start_time": "2022-09-27T11:54:15.790Z"
      },
      {
        "duration": 7,
        "start_time": "2022-09-27T11:54:47.214Z"
      },
      {
        "duration": 58,
        "start_time": "2022-09-27T11:56:46.940Z"
      },
      {
        "duration": 8,
        "start_time": "2022-09-27T11:56:54.932Z"
      },
      {
        "duration": 9,
        "start_time": "2022-09-27T11:57:04.437Z"
      },
      {
        "duration": 13,
        "start_time": "2022-09-27T11:57:18.092Z"
      },
      {
        "duration": 5,
        "start_time": "2022-09-27T11:57:42.355Z"
      },
      {
        "duration": 24,
        "start_time": "2022-09-27T11:57:50.211Z"
      },
      {
        "duration": 32,
        "start_time": "2022-09-27T11:58:23.235Z"
      },
      {
        "duration": 8,
        "start_time": "2022-09-27T11:59:17.785Z"
      },
      {
        "duration": 6,
        "start_time": "2022-09-27T11:59:37.521Z"
      },
      {
        "duration": 9,
        "start_time": "2022-09-27T12:00:03.778Z"
      },
      {
        "duration": 21,
        "start_time": "2022-09-27T12:03:21.297Z"
      },
      {
        "duration": 4,
        "start_time": "2022-09-27T12:05:20.807Z"
      },
      {
        "duration": 11,
        "start_time": "2022-09-27T12:05:43.901Z"
      },
      {
        "duration": 10,
        "start_time": "2022-09-27T12:06:47.541Z"
      },
      {
        "duration": 5,
        "start_time": "2022-09-27T12:06:52.325Z"
      },
      {
        "duration": 5,
        "start_time": "2022-09-27T12:06:57.884Z"
      },
      {
        "duration": 11,
        "start_time": "2022-09-27T12:09:13.388Z"
      },
      {
        "duration": 10,
        "start_time": "2022-09-27T12:09:40.427Z"
      },
      {
        "duration": 5,
        "start_time": "2022-09-27T12:09:53.140Z"
      },
      {
        "duration": 9,
        "start_time": "2022-09-27T12:30:09.453Z"
      },
      {
        "duration": 3,
        "start_time": "2022-09-27T12:30:33.493Z"
      },
      {
        "duration": 4,
        "start_time": "2022-09-27T12:30:38.276Z"
      },
      {
        "duration": 8,
        "start_time": "2022-09-27T12:30:46.942Z"
      },
      {
        "duration": 5,
        "start_time": "2022-09-27T12:31:10.141Z"
      },
      {
        "duration": 70,
        "start_time": "2022-09-27T12:31:29.141Z"
      },
      {
        "duration": 3,
        "start_time": "2022-09-27T12:31:45.420Z"
      },
      {
        "duration": 5,
        "start_time": "2022-09-27T12:31:57.227Z"
      },
      {
        "duration": 1228,
        "start_time": "2022-09-27T12:50:50.711Z"
      },
      {
        "duration": 15,
        "start_time": "2022-09-27T12:51:20.095Z"
      },
      {
        "duration": 1233,
        "start_time": "2022-09-27T12:51:25.807Z"
      },
      {
        "duration": 526,
        "start_time": "2022-09-27T12:52:56.006Z"
      },
      {
        "duration": 19,
        "start_time": "2022-09-27T12:52:56.534Z"
      },
      {
        "duration": 22,
        "start_time": "2022-09-27T12:52:56.554Z"
      },
      {
        "duration": 2385,
        "start_time": "2022-09-27T12:52:56.578Z"
      },
      {
        "duration": 11,
        "start_time": "2022-09-27T12:52:58.965Z"
      },
      {
        "duration": 17,
        "start_time": "2022-09-27T12:52:58.978Z"
      },
      {
        "duration": 11,
        "start_time": "2022-09-27T12:52:58.997Z"
      },
      {
        "duration": 5,
        "start_time": "2022-09-27T12:52:59.010Z"
      },
      {
        "duration": 1290,
        "start_time": "2022-09-27T12:52:59.017Z"
      },
      {
        "duration": 8,
        "start_time": "2022-09-27T12:56:45.781Z"
      },
      {
        "duration": 8,
        "start_time": "2022-09-27T12:57:42.396Z"
      },
      {
        "duration": 7,
        "start_time": "2022-09-27T12:58:06.645Z"
      },
      {
        "duration": 6,
        "start_time": "2022-09-27T12:58:14.525Z"
      },
      {
        "duration": 8,
        "start_time": "2022-09-27T12:58:27.185Z"
      },
      {
        "duration": 16,
        "start_time": "2022-09-27T13:00:14.851Z"
      },
      {
        "duration": 7,
        "start_time": "2022-09-27T13:33:17.058Z"
      },
      {
        "duration": 6,
        "start_time": "2022-09-27T13:33:41.291Z"
      },
      {
        "duration": 14,
        "start_time": "2022-09-27T13:34:11.849Z"
      },
      {
        "duration": 6,
        "start_time": "2022-09-27T13:34:29.860Z"
      },
      {
        "duration": 8,
        "start_time": "2022-09-27T13:34:44.240Z"
      },
      {
        "duration": 5,
        "start_time": "2022-09-27T13:34:53.441Z"
      },
      {
        "duration": 6,
        "start_time": "2022-09-27T13:35:07.815Z"
      },
      {
        "duration": 12,
        "start_time": "2022-09-27T13:35:08.866Z"
      },
      {
        "duration": 5,
        "start_time": "2022-09-27T13:35:12.879Z"
      },
      {
        "duration": 852,
        "start_time": "2022-09-27T13:37:40.942Z"
      },
      {
        "duration": 14,
        "start_time": "2022-09-27T13:39:11.757Z"
      },
      {
        "duration": 12,
        "start_time": "2022-09-27T13:39:12.550Z"
      },
      {
        "duration": 11,
        "start_time": "2022-09-27T13:39:32.968Z"
      },
      {
        "duration": 7,
        "start_time": "2022-09-27T13:39:45.404Z"
      },
      {
        "duration": 9,
        "start_time": "2022-09-27T13:43:28.490Z"
      },
      {
        "duration": 25,
        "start_time": "2022-09-27T13:44:19.490Z"
      },
      {
        "duration": 33,
        "start_time": "2022-09-27T13:44:31.109Z"
      },
      {
        "duration": 21,
        "start_time": "2022-09-27T13:44:36.529Z"
      },
      {
        "duration": 9,
        "start_time": "2022-09-27T13:50:43.116Z"
      },
      {
        "duration": 9,
        "start_time": "2022-09-27T13:50:44.663Z"
      },
      {
        "duration": 60,
        "start_time": "2022-09-27T13:50:58.236Z"
      },
      {
        "duration": 7,
        "start_time": "2022-09-27T13:51:08.780Z"
      },
      {
        "duration": 7,
        "start_time": "2022-09-27T13:51:50.932Z"
      },
      {
        "duration": 8,
        "start_time": "2022-09-27T13:51:51.804Z"
      },
      {
        "duration": 7,
        "start_time": "2022-09-27T13:51:52.332Z"
      },
      {
        "duration": 17,
        "start_time": "2022-09-27T13:52:02.084Z"
      },
      {
        "duration": 17,
        "start_time": "2022-09-27T13:52:15.996Z"
      },
      {
        "duration": 16,
        "start_time": "2022-09-27T13:52:16.578Z"
      },
      {
        "duration": 21,
        "start_time": "2022-09-27T13:52:34.942Z"
      },
      {
        "duration": 11,
        "start_time": "2022-09-27T13:53:02.347Z"
      },
      {
        "duration": 13,
        "start_time": "2022-09-27T13:53:19.790Z"
      },
      {
        "duration": 13,
        "start_time": "2022-09-27T13:53:20.452Z"
      },
      {
        "duration": 12,
        "start_time": "2022-09-27T13:53:20.966Z"
      },
      {
        "duration": 22,
        "start_time": "2022-09-27T13:53:28.594Z"
      },
      {
        "duration": 17,
        "start_time": "2022-09-27T13:53:45.474Z"
      },
      {
        "duration": 21,
        "start_time": "2022-09-27T13:54:09.955Z"
      },
      {
        "duration": 10,
        "start_time": "2022-09-27T13:55:05.308Z"
      },
      {
        "duration": 5,
        "start_time": "2022-09-27T13:55:18.081Z"
      },
      {
        "duration": 5,
        "start_time": "2022-09-27T13:58:30.167Z"
      },
      {
        "duration": 13,
        "start_time": "2022-09-27T13:58:43.071Z"
      },
      {
        "duration": 948,
        "start_time": "2022-09-27T13:58:58.447Z"
      },
      {
        "duration": 889,
        "start_time": "2022-09-27T13:58:59.534Z"
      },
      {
        "duration": 15,
        "start_time": "2022-09-27T13:59:27.337Z"
      },
      {
        "duration": 14,
        "start_time": "2022-09-27T13:59:27.992Z"
      },
      {
        "duration": 15,
        "start_time": "2022-09-27T13:59:28.522Z"
      },
      {
        "duration": 9,
        "start_time": "2022-09-27T13:59:51.757Z"
      },
      {
        "duration": 16,
        "start_time": "2022-09-27T13:59:59.797Z"
      },
      {
        "duration": 16,
        "start_time": "2022-09-27T14:00:00.317Z"
      },
      {
        "duration": 4,
        "start_time": "2022-09-27T14:00:42.685Z"
      },
      {
        "duration": 26,
        "start_time": "2022-09-27T14:00:55.574Z"
      },
      {
        "duration": 110,
        "start_time": "2022-09-27T14:02:20.887Z"
      },
      {
        "duration": 18,
        "start_time": "2022-09-27T14:02:26.659Z"
      },
      {
        "duration": 6,
        "start_time": "2022-09-27T14:04:30.380Z"
      },
      {
        "duration": 10,
        "start_time": "2022-09-27T14:06:29.171Z"
      },
      {
        "duration": 8,
        "start_time": "2022-09-27T14:06:30.097Z"
      },
      {
        "duration": 10,
        "start_time": "2022-09-27T14:06:30.641Z"
      },
      {
        "duration": 6,
        "start_time": "2022-09-27T14:06:31.065Z"
      },
      {
        "duration": 6,
        "start_time": "2022-09-27T14:06:34.139Z"
      },
      {
        "duration": 10,
        "start_time": "2022-09-27T14:06:35.865Z"
      },
      {
        "duration": 550,
        "start_time": "2022-09-27T14:12:37.820Z"
      },
      {
        "duration": 24,
        "start_time": "2022-09-27T14:12:38.372Z"
      },
      {
        "duration": 28,
        "start_time": "2022-09-27T14:12:38.398Z"
      },
      {
        "duration": 2614,
        "start_time": "2022-09-27T14:12:38.429Z"
      },
      {
        "duration": 12,
        "start_time": "2022-09-27T14:12:41.045Z"
      },
      {
        "duration": 13,
        "start_time": "2022-09-27T14:12:41.060Z"
      },
      {
        "duration": 13,
        "start_time": "2022-09-27T14:12:41.076Z"
      },
      {
        "duration": 5,
        "start_time": "2022-09-27T14:12:41.091Z"
      },
      {
        "duration": 1766,
        "start_time": "2022-09-27T14:12:41.098Z"
      },
      {
        "duration": 0,
        "start_time": "2022-09-27T14:12:42.866Z"
      },
      {
        "duration": 0,
        "start_time": "2022-09-27T14:12:42.869Z"
      },
      {
        "duration": 0,
        "start_time": "2022-09-27T14:12:42.870Z"
      },
      {
        "duration": 8,
        "start_time": "2022-09-27T14:12:59.168Z"
      },
      {
        "duration": 17,
        "start_time": "2022-09-27T14:13:01.512Z"
      },
      {
        "duration": 10,
        "start_time": "2022-09-27T14:13:09.439Z"
      },
      {
        "duration": 16,
        "start_time": "2022-09-27T14:16:57.822Z"
      },
      {
        "duration": 1224,
        "start_time": "2022-09-27T14:17:51.187Z"
      },
      {
        "duration": 5,
        "start_time": "2022-09-27T14:18:19.596Z"
      },
      {
        "duration": 11,
        "start_time": "2022-09-27T14:19:37.968Z"
      },
      {
        "duration": 21,
        "start_time": "2022-09-27T14:20:08.162Z"
      },
      {
        "duration": 17,
        "start_time": "2022-09-27T14:20:46.947Z"
      },
      {
        "duration": 8,
        "start_time": "2022-09-27T14:20:56.010Z"
      },
      {
        "duration": 25,
        "start_time": "2022-09-27T14:21:12.552Z"
      },
      {
        "duration": 10,
        "start_time": "2022-09-27T14:30:24.188Z"
      },
      {
        "duration": 10,
        "start_time": "2022-09-27T14:30:38.235Z"
      },
      {
        "duration": 7,
        "start_time": "2022-09-27T14:30:54.443Z"
      },
      {
        "duration": 10,
        "start_time": "2022-09-27T14:30:57.938Z"
      },
      {
        "duration": 4,
        "start_time": "2022-09-27T14:31:08.523Z"
      },
      {
        "duration": 7,
        "start_time": "2022-09-27T14:31:26.979Z"
      },
      {
        "duration": 0,
        "start_time": "2022-09-27T14:31:31.322Z"
      },
      {
        "duration": 1196,
        "start_time": "2022-09-27T14:31:33.186Z"
      },
      {
        "duration": 737,
        "start_time": "2022-09-27T14:31:48.858Z"
      },
      {
        "duration": 619,
        "start_time": "2022-09-27T14:31:56.713Z"
      },
      {
        "duration": 769,
        "start_time": "2022-09-27T14:31:59.074Z"
      },
      {
        "duration": 535,
        "start_time": "2022-09-27T14:32:10.779Z"
      },
      {
        "duration": 750,
        "start_time": "2022-09-27T14:34:50.465Z"
      },
      {
        "duration": 491,
        "start_time": "2022-09-27T14:35:07.060Z"
      },
      {
        "duration": 19,
        "start_time": "2022-09-27T14:35:07.553Z"
      },
      {
        "duration": 21,
        "start_time": "2022-09-27T14:35:07.574Z"
      },
      {
        "duration": 2558,
        "start_time": "2022-09-27T14:35:07.597Z"
      },
      {
        "duration": 10,
        "start_time": "2022-09-27T14:35:10.157Z"
      },
      {
        "duration": 32,
        "start_time": "2022-09-27T14:35:10.169Z"
      },
      {
        "duration": 40,
        "start_time": "2022-09-27T14:35:10.202Z"
      },
      {
        "duration": 44,
        "start_time": "2022-09-27T14:35:10.244Z"
      },
      {
        "duration": 1421,
        "start_time": "2022-09-27T14:35:10.290Z"
      },
      {
        "duration": 0,
        "start_time": "2022-09-27T14:35:11.713Z"
      },
      {
        "duration": 0,
        "start_time": "2022-09-27T14:35:11.715Z"
      },
      {
        "duration": 0,
        "start_time": "2022-09-27T14:35:11.716Z"
      },
      {
        "duration": 0,
        "start_time": "2022-09-27T14:35:11.718Z"
      },
      {
        "duration": 12,
        "start_time": "2022-09-27T14:35:15.406Z"
      },
      {
        "duration": 19,
        "start_time": "2022-09-27T14:35:19.118Z"
      },
      {
        "duration": 5,
        "start_time": "2022-09-27T14:35:22.241Z"
      },
      {
        "duration": 12,
        "start_time": "2022-09-27T14:38:02.227Z"
      },
      {
        "duration": 10,
        "start_time": "2022-09-27T14:38:07.074Z"
      },
      {
        "duration": 9,
        "start_time": "2022-09-27T14:38:08.722Z"
      },
      {
        "duration": 8,
        "start_time": "2022-09-27T14:38:21.315Z"
      },
      {
        "duration": 8,
        "start_time": "2022-09-27T14:38:33.572Z"
      },
      {
        "duration": 8,
        "start_time": "2022-09-27T14:38:34.322Z"
      },
      {
        "duration": 7,
        "start_time": "2022-09-27T14:38:35.027Z"
      },
      {
        "duration": 9,
        "start_time": "2022-09-27T14:38:39.458Z"
      },
      {
        "duration": 9,
        "start_time": "2022-09-27T14:38:40.547Z"
      },
      {
        "duration": 512,
        "start_time": "2022-09-27T14:38:46.557Z"
      },
      {
        "duration": 22,
        "start_time": "2022-09-27T14:38:47.071Z"
      },
      {
        "duration": 16,
        "start_time": "2022-09-27T14:38:47.095Z"
      },
      {
        "duration": 2474,
        "start_time": "2022-09-27T14:38:47.121Z"
      },
      {
        "duration": 9,
        "start_time": "2022-09-27T14:38:49.597Z"
      },
      {
        "duration": 11,
        "start_time": "2022-09-27T14:38:49.607Z"
      },
      {
        "duration": 18,
        "start_time": "2022-09-27T14:38:49.619Z"
      },
      {
        "duration": 7,
        "start_time": "2022-09-27T14:38:49.639Z"
      },
      {
        "duration": 1224,
        "start_time": "2022-09-27T14:38:49.647Z"
      },
      {
        "duration": 0,
        "start_time": "2022-09-27T14:38:50.874Z"
      },
      {
        "duration": 0,
        "start_time": "2022-09-27T14:38:50.875Z"
      },
      {
        "duration": 0,
        "start_time": "2022-09-27T14:38:50.876Z"
      },
      {
        "duration": 0,
        "start_time": "2022-09-27T14:38:50.878Z"
      },
      {
        "duration": 18,
        "start_time": "2022-09-27T14:38:54.639Z"
      },
      {
        "duration": 9,
        "start_time": "2022-09-27T14:39:02.092Z"
      },
      {
        "duration": 8,
        "start_time": "2022-09-27T14:39:10.328Z"
      },
      {
        "duration": 8,
        "start_time": "2022-09-27T14:39:11.148Z"
      },
      {
        "duration": 10,
        "start_time": "2022-09-27T14:39:11.684Z"
      },
      {
        "duration": 9,
        "start_time": "2022-09-27T14:39:12.132Z"
      },
      {
        "duration": 8,
        "start_time": "2022-09-27T14:39:12.564Z"
      },
      {
        "duration": 8,
        "start_time": "2022-09-27T14:39:13.021Z"
      },
      {
        "duration": 9,
        "start_time": "2022-09-27T14:39:14.092Z"
      },
      {
        "duration": 8,
        "start_time": "2022-09-27T14:39:14.964Z"
      },
      {
        "duration": 8,
        "start_time": "2022-09-27T14:39:16.773Z"
      },
      {
        "duration": 7,
        "start_time": "2022-09-27T14:39:18.716Z"
      },
      {
        "duration": 10,
        "start_time": "2022-09-27T14:39:21.694Z"
      },
      {
        "duration": 510,
        "start_time": "2022-09-27T14:39:30.634Z"
      },
      {
        "duration": 21,
        "start_time": "2022-09-27T14:39:31.146Z"
      },
      {
        "duration": 22,
        "start_time": "2022-09-27T14:39:31.168Z"
      },
      {
        "duration": 2454,
        "start_time": "2022-09-27T14:39:31.193Z"
      },
      {
        "duration": 8,
        "start_time": "2022-09-27T14:39:33.649Z"
      },
      {
        "duration": 14,
        "start_time": "2022-09-27T14:39:33.659Z"
      },
      {
        "duration": 12,
        "start_time": "2022-09-27T14:39:33.675Z"
      },
      {
        "duration": 6,
        "start_time": "2022-09-27T14:39:33.689Z"
      },
      {
        "duration": 1185,
        "start_time": "2022-09-27T14:39:33.697Z"
      },
      {
        "duration": 0,
        "start_time": "2022-09-27T14:39:34.883Z"
      },
      {
        "duration": 0,
        "start_time": "2022-09-27T14:39:34.885Z"
      },
      {
        "duration": 0,
        "start_time": "2022-09-27T14:39:34.886Z"
      },
      {
        "duration": 0,
        "start_time": "2022-09-27T14:39:34.887Z"
      },
      {
        "duration": 4,
        "start_time": "2022-09-27T14:39:37.660Z"
      },
      {
        "duration": 1139,
        "start_time": "2022-09-27T14:39:43.310Z"
      },
      {
        "duration": 4,
        "start_time": "2022-09-27T14:39:46.868Z"
      },
      {
        "duration": 19,
        "start_time": "2022-09-27T14:39:49.116Z"
      },
      {
        "duration": 12,
        "start_time": "2022-09-27T14:39:58.405Z"
      },
      {
        "duration": 10,
        "start_time": "2022-09-27T14:40:02.372Z"
      },
      {
        "duration": 24,
        "start_time": "2022-09-27T14:40:36.846Z"
      },
      {
        "duration": 8,
        "start_time": "2022-09-27T14:41:13.700Z"
      },
      {
        "duration": 23,
        "start_time": "2022-09-27T15:36:34.000Z"
      },
      {
        "duration": 18,
        "start_time": "2022-09-27T15:36:35.013Z"
      },
      {
        "duration": 18,
        "start_time": "2022-09-27T15:36:36.460Z"
      },
      {
        "duration": 25,
        "start_time": "2022-09-27T15:39:24.375Z"
      },
      {
        "duration": 62,
        "start_time": "2022-09-27T15:46:00.647Z"
      },
      {
        "duration": 32,
        "start_time": "2022-09-27T15:47:02.062Z"
      },
      {
        "duration": 66,
        "start_time": "2022-09-27T15:47:18.077Z"
      },
      {
        "duration": 9,
        "start_time": "2022-09-27T15:47:28.375Z"
      },
      {
        "duration": 11,
        "start_time": "2022-09-27T15:47:30.309Z"
      },
      {
        "duration": 24,
        "start_time": "2022-09-27T15:49:40.253Z"
      },
      {
        "duration": 9,
        "start_time": "2022-09-27T15:51:11.179Z"
      },
      {
        "duration": 10,
        "start_time": "2022-09-27T15:51:11.962Z"
      },
      {
        "duration": 472,
        "start_time": "2022-09-27T15:51:23.855Z"
      },
      {
        "duration": 38,
        "start_time": "2022-09-27T15:51:24.329Z"
      },
      {
        "duration": 15,
        "start_time": "2022-09-27T15:51:24.369Z"
      },
      {
        "duration": 2297,
        "start_time": "2022-09-27T15:51:24.386Z"
      },
      {
        "duration": 25,
        "start_time": "2022-09-27T15:51:26.685Z"
      },
      {
        "duration": 81,
        "start_time": "2022-09-27T15:51:26.712Z"
      },
      {
        "duration": 9,
        "start_time": "2022-09-27T15:51:26.795Z"
      },
      {
        "duration": 18,
        "start_time": "2022-09-27T15:51:26.806Z"
      },
      {
        "duration": 9,
        "start_time": "2022-09-27T15:51:26.826Z"
      },
      {
        "duration": 4,
        "start_time": "2022-09-27T15:51:26.838Z"
      },
      {
        "duration": 1528,
        "start_time": "2022-09-27T15:51:26.844Z"
      },
      {
        "duration": 0,
        "start_time": "2022-09-27T15:51:28.374Z"
      },
      {
        "duration": 0,
        "start_time": "2022-09-27T15:51:28.375Z"
      },
      {
        "duration": 10,
        "start_time": "2022-09-27T16:04:18.398Z"
      },
      {
        "duration": 11,
        "start_time": "2022-09-27T16:06:40.277Z"
      },
      {
        "duration": 22,
        "start_time": "2022-09-27T16:09:17.804Z"
      },
      {
        "duration": 32,
        "start_time": "2022-09-27T16:13:18.176Z"
      },
      {
        "duration": 4,
        "start_time": "2022-09-27T16:32:24.645Z"
      },
      {
        "duration": 29,
        "start_time": "2022-09-27T16:32:45.628Z"
      },
      {
        "duration": 8,
        "start_time": "2022-09-27T17:09:50.739Z"
      },
      {
        "duration": 33,
        "start_time": "2022-09-27T17:09:54.719Z"
      },
      {
        "duration": 65,
        "start_time": "2022-09-27T17:23:20.773Z"
      },
      {
        "duration": 29,
        "start_time": "2022-09-27T17:23:31.928Z"
      },
      {
        "duration": 9,
        "start_time": "2022-09-27T17:58:56.830Z"
      },
      {
        "duration": 489,
        "start_time": "2022-09-27T18:07:03.966Z"
      },
      {
        "duration": 380,
        "start_time": "2022-09-27T18:09:53.596Z"
      },
      {
        "duration": 472,
        "start_time": "2022-09-27T18:09:54.932Z"
      },
      {
        "duration": 11,
        "start_time": "2022-09-27T18:10:35.835Z"
      },
      {
        "duration": 496,
        "start_time": "2022-09-27T18:10:50.826Z"
      },
      {
        "duration": 39,
        "start_time": "2022-09-27T18:10:51.324Z"
      },
      {
        "duration": 15,
        "start_time": "2022-09-27T18:10:51.365Z"
      },
      {
        "duration": 2524,
        "start_time": "2022-09-27T18:10:51.383Z"
      },
      {
        "duration": 25,
        "start_time": "2022-09-27T18:10:53.909Z"
      },
      {
        "duration": 9,
        "start_time": "2022-09-27T18:10:53.936Z"
      },
      {
        "duration": 105,
        "start_time": "2022-09-27T18:10:53.947Z"
      },
      {
        "duration": 5,
        "start_time": "2022-09-27T18:10:54.054Z"
      },
      {
        "duration": 15,
        "start_time": "2022-09-27T18:10:54.061Z"
      },
      {
        "duration": 557,
        "start_time": "2022-09-27T18:10:54.080Z"
      },
      {
        "duration": 31,
        "start_time": "2022-09-27T18:10:54.639Z"
      },
      {
        "duration": 9,
        "start_time": "2022-09-27T18:10:54.672Z"
      },
      {
        "duration": 10,
        "start_time": "2022-09-27T18:10:54.683Z"
      },
      {
        "duration": 26,
        "start_time": "2022-09-27T18:10:54.695Z"
      },
      {
        "duration": 1002,
        "start_time": "2022-09-27T18:10:54.722Z"
      },
      {
        "duration": 4,
        "start_time": "2022-09-27T18:10:55.725Z"
      },
      {
        "duration": 12,
        "start_time": "2022-09-27T18:10:55.731Z"
      },
      {
        "duration": 372,
        "start_time": "2022-09-27T18:11:35.779Z"
      },
      {
        "duration": 433,
        "start_time": "2022-09-27T18:11:36.858Z"
      },
      {
        "duration": 367,
        "start_time": "2022-09-27T18:11:37.529Z"
      },
      {
        "duration": 450,
        "start_time": "2022-09-27T18:11:38.682Z"
      },
      {
        "duration": 385,
        "start_time": "2022-09-27T18:13:47.978Z"
      },
      {
        "duration": 451,
        "start_time": "2022-09-27T18:17:02.174Z"
      },
      {
        "duration": 27578,
        "start_time": "2022-09-27T18:54:14.173Z"
      },
      {
        "duration": 30,
        "start_time": "2022-09-27T18:54:41.867Z"
      },
      {
        "duration": 479,
        "start_time": "2022-09-27T18:58:05.363Z"
      },
      {
        "duration": 40,
        "start_time": "2022-09-27T18:58:05.844Z"
      },
      {
        "duration": 15,
        "start_time": "2022-09-27T18:58:05.886Z"
      },
      {
        "duration": 2300,
        "start_time": "2022-09-27T18:58:05.923Z"
      },
      {
        "duration": 27,
        "start_time": "2022-09-27T18:58:08.225Z"
      },
      {
        "duration": 9,
        "start_time": "2022-09-27T18:58:08.254Z"
      },
      {
        "duration": 98,
        "start_time": "2022-09-27T18:58:08.265Z"
      },
      {
        "duration": 4,
        "start_time": "2022-09-27T18:58:08.365Z"
      },
      {
        "duration": 13,
        "start_time": "2022-09-27T18:58:08.370Z"
      },
      {
        "duration": 27825,
        "start_time": "2022-09-27T18:58:08.385Z"
      },
      {
        "duration": 35,
        "start_time": "2022-09-27T18:58:36.211Z"
      },
      {
        "duration": 5,
        "start_time": "2022-09-27T18:58:36.248Z"
      },
      {
        "duration": 9,
        "start_time": "2022-09-27T18:58:36.255Z"
      },
      {
        "duration": 4,
        "start_time": "2022-09-27T18:58:36.266Z"
      },
      {
        "duration": 959,
        "start_time": "2022-09-27T18:58:36.271Z"
      },
      {
        "duration": 5,
        "start_time": "2022-09-27T18:58:37.232Z"
      },
      {
        "duration": 15,
        "start_time": "2022-09-27T18:58:37.239Z"
      },
      {
        "duration": 32009,
        "start_time": "2022-09-27T19:00:40.621Z"
      },
      {
        "duration": 47,
        "start_time": "2022-09-27T19:01:12.632Z"
      },
      {
        "duration": 54,
        "start_time": "2022-09-27T19:09:32.631Z"
      },
      {
        "duration": 82,
        "start_time": "2022-09-27T19:09:48.238Z"
      },
      {
        "duration": 15,
        "start_time": "2022-09-27T19:10:07.772Z"
      },
      {
        "duration": 485,
        "start_time": "2022-09-27T19:10:32.851Z"
      },
      {
        "duration": 38,
        "start_time": "2022-09-27T19:10:33.338Z"
      },
      {
        "duration": 16,
        "start_time": "2022-09-27T19:10:33.377Z"
      },
      {
        "duration": 2323,
        "start_time": "2022-09-27T19:10:33.396Z"
      },
      {
        "duration": 26,
        "start_time": "2022-09-27T19:10:35.721Z"
      },
      {
        "duration": 9,
        "start_time": "2022-09-27T19:10:35.749Z"
      },
      {
        "duration": 97,
        "start_time": "2022-09-27T19:10:35.760Z"
      },
      {
        "duration": 5,
        "start_time": "2022-09-27T19:10:35.860Z"
      },
      {
        "duration": 55,
        "start_time": "2022-09-27T19:10:35.868Z"
      },
      {
        "duration": 111,
        "start_time": "2022-09-27T19:10:35.925Z"
      },
      {
        "duration": 33,
        "start_time": "2022-09-27T19:10:36.038Z"
      },
      {
        "duration": 10,
        "start_time": "2022-09-27T19:10:36.072Z"
      },
      {
        "duration": 31,
        "start_time": "2022-09-27T19:10:36.084Z"
      },
      {
        "duration": 10,
        "start_time": "2022-09-27T19:10:36.117Z"
      },
      {
        "duration": 2251,
        "start_time": "2022-09-27T19:10:36.129Z"
      },
      {
        "duration": 0,
        "start_time": "2022-09-27T19:10:38.382Z"
      },
      {
        "duration": 0,
        "start_time": "2022-09-27T19:10:38.383Z"
      },
      {
        "duration": 11,
        "start_time": "2022-09-27T19:11:09.782Z"
      },
      {
        "duration": 13,
        "start_time": "2022-09-27T19:11:10.717Z"
      },
      {
        "duration": 11,
        "start_time": "2022-09-27T19:11:43.374Z"
      },
      {
        "duration": 10,
        "start_time": "2022-09-27T19:11:44.826Z"
      },
      {
        "duration": 8,
        "start_time": "2022-09-27T19:11:56.439Z"
      },
      {
        "duration": 8,
        "start_time": "2022-09-27T19:11:58.475Z"
      },
      {
        "duration": 1802,
        "start_time": "2022-09-27T19:20:55.867Z"
      },
      {
        "duration": 0,
        "start_time": "2022-09-27T19:24:33.982Z"
      },
      {
        "duration": 2173,
        "start_time": "2022-09-27T19:24:36.813Z"
      },
      {
        "duration": 537,
        "start_time": "2022-09-27T19:37:46.494Z"
      },
      {
        "duration": 43,
        "start_time": "2022-09-27T19:37:47.034Z"
      },
      {
        "duration": 16,
        "start_time": "2022-09-27T19:37:47.079Z"
      },
      {
        "duration": 2517,
        "start_time": "2022-09-27T19:37:47.098Z"
      },
      {
        "duration": 27,
        "start_time": "2022-09-27T19:37:49.617Z"
      },
      {
        "duration": 13,
        "start_time": "2022-09-27T19:37:49.646Z"
      },
      {
        "duration": 104,
        "start_time": "2022-09-27T19:37:49.661Z"
      },
      {
        "duration": 5,
        "start_time": "2022-09-27T19:37:49.766Z"
      },
      {
        "duration": 11,
        "start_time": "2022-09-27T19:37:49.774Z"
      },
      {
        "duration": 1548,
        "start_time": "2022-09-27T19:37:49.788Z"
      },
      {
        "duration": 0,
        "start_time": "2022-09-27T19:37:51.339Z"
      },
      {
        "duration": 0,
        "start_time": "2022-09-27T19:37:51.340Z"
      },
      {
        "duration": 1309,
        "start_time": "2022-09-27T19:47:31.131Z"
      },
      {
        "duration": 29,
        "start_time": "2022-09-27T19:50:12.360Z"
      },
      {
        "duration": 26,
        "start_time": "2022-09-27T19:50:13.398Z"
      },
      {
        "duration": 28,
        "start_time": "2022-09-27T19:50:14.020Z"
      },
      {
        "duration": 35,
        "start_time": "2022-09-27T19:50:14.452Z"
      },
      {
        "duration": 475,
        "start_time": "2022-09-27T19:52:02.557Z"
      },
      {
        "duration": 41,
        "start_time": "2022-09-27T19:52:03.034Z"
      },
      {
        "duration": 16,
        "start_time": "2022-09-27T19:52:03.077Z"
      },
      {
        "duration": 2283,
        "start_time": "2022-09-27T19:52:03.096Z"
      },
      {
        "duration": 26,
        "start_time": "2022-09-27T19:52:05.381Z"
      },
      {
        "duration": 8,
        "start_time": "2022-09-27T19:52:05.409Z"
      },
      {
        "duration": 85,
        "start_time": "2022-09-27T19:52:05.420Z"
      },
      {
        "duration": 5,
        "start_time": "2022-09-27T19:52:05.508Z"
      },
      {
        "duration": 30,
        "start_time": "2022-09-27T19:52:05.514Z"
      },
      {
        "duration": 101,
        "start_time": "2022-09-27T19:52:05.546Z"
      },
      {
        "duration": 0,
        "start_time": "2022-09-27T19:52:05.649Z"
      },
      {
        "duration": 0,
        "start_time": "2022-09-27T19:52:05.650Z"
      },
      {
        "duration": 394,
        "start_time": "2022-09-27T19:52:43.526Z"
      },
      {
        "duration": 28,
        "start_time": "2022-09-27T19:55:04.401Z"
      },
      {
        "duration": 27,
        "start_time": "2022-09-27T19:57:19.737Z"
      },
      {
        "duration": 5,
        "start_time": "2022-09-27T20:04:15.094Z"
      },
      {
        "duration": 5,
        "start_time": "2022-09-27T20:04:16.443Z"
      },
      {
        "duration": 5,
        "start_time": "2022-09-27T20:04:17.147Z"
      },
      {
        "duration": 41,
        "start_time": "2022-09-27T20:04:30.740Z"
      },
      {
        "duration": 13,
        "start_time": "2022-09-27T20:11:26.271Z"
      },
      {
        "duration": 471,
        "start_time": "2022-09-27T20:11:44.659Z"
      },
      {
        "duration": 39,
        "start_time": "2022-09-27T20:11:45.132Z"
      },
      {
        "duration": 16,
        "start_time": "2022-09-27T20:11:45.172Z"
      },
      {
        "duration": 2398,
        "start_time": "2022-09-27T20:11:45.189Z"
      },
      {
        "duration": 25,
        "start_time": "2022-09-27T20:11:47.589Z"
      },
      {
        "duration": 10,
        "start_time": "2022-09-27T20:11:47.616Z"
      },
      {
        "duration": 75,
        "start_time": "2022-09-27T20:11:47.628Z"
      },
      {
        "duration": 18,
        "start_time": "2022-09-27T20:11:47.705Z"
      },
      {
        "duration": 15,
        "start_time": "2022-09-27T20:11:47.725Z"
      },
      {
        "duration": 13,
        "start_time": "2022-09-27T20:11:47.742Z"
      },
      {
        "duration": 16,
        "start_time": "2022-09-27T20:11:47.757Z"
      },
      {
        "duration": 32,
        "start_time": "2022-09-27T20:11:47.775Z"
      },
      {
        "duration": 10,
        "start_time": "2022-09-27T20:12:11.620Z"
      },
      {
        "duration": 10,
        "start_time": "2022-09-27T20:12:13.106Z"
      },
      {
        "duration": 8,
        "start_time": "2022-09-27T20:33:20.581Z"
      },
      {
        "duration": 6,
        "start_time": "2022-09-27T20:35:10.684Z"
      },
      {
        "duration": 9,
        "start_time": "2022-09-27T20:45:40.276Z"
      },
      {
        "duration": 469,
        "start_time": "2022-09-27T20:45:53.354Z"
      },
      {
        "duration": 43,
        "start_time": "2022-09-27T20:45:53.825Z"
      },
      {
        "duration": 17,
        "start_time": "2022-09-27T20:45:53.870Z"
      },
      {
        "duration": 2493,
        "start_time": "2022-09-27T20:45:53.890Z"
      },
      {
        "duration": 26,
        "start_time": "2022-09-27T20:45:56.385Z"
      },
      {
        "duration": 12,
        "start_time": "2022-09-27T20:45:56.413Z"
      },
      {
        "duration": 111,
        "start_time": "2022-09-27T20:45:56.427Z"
      },
      {
        "duration": 4,
        "start_time": "2022-09-27T20:45:56.539Z"
      },
      {
        "duration": 27,
        "start_time": "2022-09-27T20:45:56.545Z"
      },
      {
        "duration": 23,
        "start_time": "2022-09-27T20:45:56.575Z"
      },
      {
        "duration": 30,
        "start_time": "2022-09-27T20:45:56.600Z"
      },
      {
        "duration": 14,
        "start_time": "2022-09-27T20:45:56.632Z"
      },
      {
        "duration": 17,
        "start_time": "2022-09-27T20:45:56.648Z"
      },
      {
        "duration": 29,
        "start_time": "2022-09-27T20:45:56.667Z"
      },
      {
        "duration": 53,
        "start_time": "2022-09-27T20:45:56.699Z"
      },
      {
        "duration": 6,
        "start_time": "2022-09-27T20:55:47.338Z"
      },
      {
        "duration": 10,
        "start_time": "2022-09-27T21:02:33.296Z"
      },
      {
        "duration": 11,
        "start_time": "2022-09-27T21:05:30.404Z"
      },
      {
        "duration": 14,
        "start_time": "2022-09-27T21:05:39.015Z"
      },
      {
        "duration": 9,
        "start_time": "2022-09-27T21:25:28.042Z"
      },
      {
        "duration": 9,
        "start_time": "2022-09-27T21:25:29.688Z"
      },
      {
        "duration": 5,
        "start_time": "2022-09-27T21:25:32.196Z"
      },
      {
        "duration": 5,
        "start_time": "2022-09-27T21:25:33.191Z"
      },
      {
        "duration": 5,
        "start_time": "2022-09-27T21:25:34.208Z"
      },
      {
        "duration": 5,
        "start_time": "2022-09-27T21:25:35.407Z"
      },
      {
        "duration": 10,
        "start_time": "2022-09-27T21:25:37.648Z"
      },
      {
        "duration": 16,
        "start_time": "2022-09-27T21:29:47.620Z"
      },
      {
        "duration": 12,
        "start_time": "2022-09-27T21:30:03.599Z"
      },
      {
        "duration": 80,
        "start_time": "2022-09-27T21:30:15.173Z"
      },
      {
        "duration": 13,
        "start_time": "2022-09-27T21:30:40.984Z"
      },
      {
        "duration": 15,
        "start_time": "2022-09-27T21:30:41.853Z"
      },
      {
        "duration": 15,
        "start_time": "2022-09-27T21:32:33.306Z"
      },
      {
        "duration": 27,
        "start_time": "2022-09-27T21:35:53.944Z"
      },
      {
        "duration": 156,
        "start_time": "2022-09-27T21:36:04.536Z"
      },
      {
        "duration": 27,
        "start_time": "2022-09-27T21:37:46.181Z"
      },
      {
        "duration": 23,
        "start_time": "2022-09-27T21:39:42.694Z"
      },
      {
        "duration": 512,
        "start_time": "2022-09-27T21:40:06.030Z"
      },
      {
        "duration": 40,
        "start_time": "2022-09-27T21:40:06.545Z"
      },
      {
        "duration": 33,
        "start_time": "2022-09-27T21:40:06.587Z"
      },
      {
        "duration": 2636,
        "start_time": "2022-09-27T21:40:06.623Z"
      },
      {
        "duration": 26,
        "start_time": "2022-09-27T21:40:09.261Z"
      },
      {
        "duration": 11,
        "start_time": "2022-09-27T21:40:09.289Z"
      },
      {
        "duration": 86,
        "start_time": "2022-09-27T21:40:09.302Z"
      },
      {
        "duration": 5,
        "start_time": "2022-09-27T21:40:09.390Z"
      },
      {
        "duration": 15,
        "start_time": "2022-09-27T21:40:09.396Z"
      },
      {
        "duration": 6,
        "start_time": "2022-09-27T21:40:09.423Z"
      },
      {
        "duration": 23,
        "start_time": "2022-09-27T21:40:09.431Z"
      },
      {
        "duration": 6,
        "start_time": "2022-09-27T21:40:09.456Z"
      },
      {
        "duration": 6,
        "start_time": "2022-09-27T21:40:09.464Z"
      },
      {
        "duration": 13,
        "start_time": "2022-09-27T21:40:09.471Z"
      },
      {
        "duration": 9,
        "start_time": "2022-09-27T21:40:09.486Z"
      },
      {
        "duration": 46,
        "start_time": "2022-09-27T21:40:09.496Z"
      },
      {
        "duration": 6,
        "start_time": "2022-09-27T21:40:09.544Z"
      },
      {
        "duration": 6,
        "start_time": "2022-09-27T21:40:09.551Z"
      },
      {
        "duration": 8,
        "start_time": "2022-09-27T21:40:09.558Z"
      },
      {
        "duration": 23,
        "start_time": "2022-09-27T21:40:09.567Z"
      },
      {
        "duration": 15,
        "start_time": "2022-09-27T21:40:09.592Z"
      },
      {
        "duration": 34,
        "start_time": "2022-09-27T21:40:09.609Z"
      },
      {
        "duration": 30,
        "start_time": "2022-09-27T21:40:29.227Z"
      },
      {
        "duration": 21,
        "start_time": "2022-09-27T21:40:46.481Z"
      },
      {
        "duration": 27,
        "start_time": "2022-09-27T21:40:51.754Z"
      },
      {
        "duration": 27,
        "start_time": "2022-09-27T21:41:18.737Z"
      },
      {
        "duration": 22,
        "start_time": "2022-09-27T21:42:42.712Z"
      },
      {
        "duration": 9,
        "start_time": "2022-09-27T21:42:46.824Z"
      },
      {
        "duration": 18,
        "start_time": "2022-09-27T21:43:08.162Z"
      },
      {
        "duration": 10,
        "start_time": "2022-09-27T21:43:09.825Z"
      },
      {
        "duration": 493,
        "start_time": "2022-09-27T21:43:30.432Z"
      },
      {
        "duration": 36,
        "start_time": "2022-09-27T21:43:30.927Z"
      },
      {
        "duration": 14,
        "start_time": "2022-09-27T21:43:30.965Z"
      },
      {
        "duration": 2337,
        "start_time": "2022-09-27T21:43:30.982Z"
      },
      {
        "duration": 26,
        "start_time": "2022-09-27T21:43:33.321Z"
      },
      {
        "duration": 9,
        "start_time": "2022-09-27T21:43:33.349Z"
      },
      {
        "duration": 101,
        "start_time": "2022-09-27T21:43:33.359Z"
      },
      {
        "duration": 4,
        "start_time": "2022-09-27T21:43:33.462Z"
      },
      {
        "duration": 13,
        "start_time": "2022-09-27T21:43:33.468Z"
      },
      {
        "duration": 15,
        "start_time": "2022-09-27T21:43:33.484Z"
      },
      {
        "duration": 16,
        "start_time": "2022-09-27T21:43:33.501Z"
      },
      {
        "duration": 5,
        "start_time": "2022-09-27T21:43:33.519Z"
      },
      {
        "duration": 7,
        "start_time": "2022-09-27T21:43:33.526Z"
      },
      {
        "duration": 6,
        "start_time": "2022-09-27T21:43:33.535Z"
      },
      {
        "duration": 10,
        "start_time": "2022-09-27T21:43:33.543Z"
      },
      {
        "duration": 19,
        "start_time": "2022-09-27T21:43:33.554Z"
      },
      {
        "duration": 9,
        "start_time": "2022-09-27T21:43:33.575Z"
      },
      {
        "duration": 36,
        "start_time": "2022-09-27T21:43:33.585Z"
      },
      {
        "duration": 5,
        "start_time": "2022-09-27T21:43:33.622Z"
      },
      {
        "duration": 6,
        "start_time": "2022-09-27T21:43:33.629Z"
      },
      {
        "duration": 5,
        "start_time": "2022-09-27T21:43:33.637Z"
      },
      {
        "duration": 11,
        "start_time": "2022-09-27T21:43:33.643Z"
      },
      {
        "duration": 26,
        "start_time": "2022-09-27T21:43:33.656Z"
      },
      {
        "duration": 543,
        "start_time": "2022-09-27T21:44:11.289Z"
      },
      {
        "duration": 47,
        "start_time": "2022-09-27T21:44:11.834Z"
      },
      {
        "duration": 16,
        "start_time": "2022-09-27T21:44:11.883Z"
      },
      {
        "duration": 2284,
        "start_time": "2022-09-27T21:44:11.903Z"
      },
      {
        "duration": 27,
        "start_time": "2022-09-27T21:44:14.189Z"
      },
      {
        "duration": 10,
        "start_time": "2022-09-27T21:44:14.220Z"
      },
      {
        "duration": 92,
        "start_time": "2022-09-27T21:44:14.232Z"
      },
      {
        "duration": 5,
        "start_time": "2022-09-27T21:44:14.327Z"
      },
      {
        "duration": 8,
        "start_time": "2022-09-27T21:44:14.334Z"
      },
      {
        "duration": 6,
        "start_time": "2022-09-27T21:44:14.345Z"
      },
      {
        "duration": 10,
        "start_time": "2022-09-27T21:44:14.353Z"
      },
      {
        "duration": 5,
        "start_time": "2022-09-27T21:44:14.365Z"
      },
      {
        "duration": 6,
        "start_time": "2022-09-27T21:44:14.372Z"
      },
      {
        "duration": 41,
        "start_time": "2022-09-27T21:44:14.380Z"
      },
      {
        "duration": 10,
        "start_time": "2022-09-27T21:44:14.423Z"
      },
      {
        "duration": 15,
        "start_time": "2022-09-27T21:44:14.434Z"
      },
      {
        "duration": 10,
        "start_time": "2022-09-27T21:44:14.450Z"
      },
      {
        "duration": 13,
        "start_time": "2022-09-27T21:44:14.462Z"
      },
      {
        "duration": 9,
        "start_time": "2022-09-27T21:44:14.477Z"
      },
      {
        "duration": 36,
        "start_time": "2022-09-27T21:44:14.488Z"
      },
      {
        "duration": 10,
        "start_time": "2022-09-27T21:44:14.526Z"
      },
      {
        "duration": 6,
        "start_time": "2022-09-27T21:44:14.538Z"
      },
      {
        "duration": 10,
        "start_time": "2022-09-27T21:44:14.545Z"
      },
      {
        "duration": 10,
        "start_time": "2022-09-27T21:44:14.557Z"
      },
      {
        "duration": 26,
        "start_time": "2022-09-27T21:44:14.569Z"
      },
      {
        "duration": 128,
        "start_time": "2022-09-27T21:44:59.889Z"
      },
      {
        "duration": 9,
        "start_time": "2022-09-27T21:45:01.033Z"
      },
      {
        "duration": 11,
        "start_time": "2022-09-27T21:49:21.637Z"
      },
      {
        "duration": 513,
        "start_time": "2022-09-27T21:49:35.592Z"
      },
      {
        "duration": 38,
        "start_time": "2022-09-27T21:49:36.107Z"
      },
      {
        "duration": 14,
        "start_time": "2022-09-27T21:49:36.147Z"
      },
      {
        "duration": 2288,
        "start_time": "2022-09-27T21:49:36.163Z"
      },
      {
        "duration": 25,
        "start_time": "2022-09-27T21:49:38.453Z"
      },
      {
        "duration": 8,
        "start_time": "2022-09-27T21:49:38.480Z"
      },
      {
        "duration": 88,
        "start_time": "2022-09-27T21:49:38.490Z"
      },
      {
        "duration": 5,
        "start_time": "2022-09-27T21:49:38.579Z"
      },
      {
        "duration": 25,
        "start_time": "2022-09-27T21:49:38.585Z"
      },
      {
        "duration": 19,
        "start_time": "2022-09-27T21:49:38.613Z"
      },
      {
        "duration": 19,
        "start_time": "2022-09-27T21:49:38.634Z"
      },
      {
        "duration": 20,
        "start_time": "2022-09-27T21:49:38.654Z"
      },
      {
        "duration": 10,
        "start_time": "2022-09-27T21:49:38.676Z"
      },
      {
        "duration": 11,
        "start_time": "2022-09-27T21:49:38.688Z"
      },
      {
        "duration": 16,
        "start_time": "2022-09-27T21:49:38.701Z"
      },
      {
        "duration": 12,
        "start_time": "2022-09-27T21:49:38.719Z"
      },
      {
        "duration": 18,
        "start_time": "2022-09-27T21:49:38.733Z"
      },
      {
        "duration": 155,
        "start_time": "2022-09-27T21:49:38.753Z"
      },
      {
        "duration": 12,
        "start_time": "2022-09-27T21:49:38.910Z"
      },
      {
        "duration": 19,
        "start_time": "2022-09-27T21:49:38.924Z"
      },
      {
        "duration": 19,
        "start_time": "2022-09-27T21:49:38.946Z"
      },
      {
        "duration": 45,
        "start_time": "2022-09-27T21:49:38.968Z"
      },
      {
        "duration": 53,
        "start_time": "2022-09-27T21:52:12.926Z"
      },
      {
        "duration": 1115,
        "start_time": "2022-09-27T21:57:31.051Z"
      },
      {
        "duration": 6,
        "start_time": "2022-09-27T22:00:15.632Z"
      },
      {
        "duration": 5,
        "start_time": "2022-09-27T22:00:41.966Z"
      },
      {
        "duration": 8,
        "start_time": "2022-09-27T22:00:52.247Z"
      },
      {
        "duration": 11,
        "start_time": "2022-09-27T22:01:00.520Z"
      },
      {
        "duration": 11,
        "start_time": "2022-09-27T22:01:11.422Z"
      },
      {
        "duration": 10,
        "start_time": "2022-09-27T22:01:31.391Z"
      },
      {
        "duration": 10,
        "start_time": "2022-09-27T22:01:32.296Z"
      },
      {
        "duration": 4,
        "start_time": "2022-09-27T22:02:37.710Z"
      },
      {
        "duration": 5,
        "start_time": "2022-09-27T22:05:17.229Z"
      },
      {
        "duration": 959,
        "start_time": "2022-09-27T22:05:31.412Z"
      },
      {
        "duration": 1685,
        "start_time": "2022-09-27T22:07:00.268Z"
      },
      {
        "duration": 10,
        "start_time": "2022-09-27T22:07:30.843Z"
      },
      {
        "duration": 1279,
        "start_time": "2022-09-27T22:07:38.987Z"
      },
      {
        "duration": 10,
        "start_time": "2022-09-27T22:09:04.211Z"
      },
      {
        "duration": 1191,
        "start_time": "2022-09-27T22:09:36.187Z"
      },
      {
        "duration": 1018,
        "start_time": "2022-09-27T22:09:46.619Z"
      },
      {
        "duration": 6,
        "start_time": "2022-09-27T22:10:01.363Z"
      },
      {
        "duration": 7,
        "start_time": "2022-09-27T22:10:06.857Z"
      },
      {
        "duration": 8,
        "start_time": "2022-09-27T22:10:19.441Z"
      },
      {
        "duration": 516,
        "start_time": "2022-09-27T22:29:50.113Z"
      },
      {
        "duration": 36,
        "start_time": "2022-09-27T22:29:50.631Z"
      },
      {
        "duration": 14,
        "start_time": "2022-09-27T22:29:50.669Z"
      },
      {
        "duration": 2270,
        "start_time": "2022-09-27T22:29:50.685Z"
      },
      {
        "duration": 27,
        "start_time": "2022-09-27T22:29:52.957Z"
      },
      {
        "duration": 9,
        "start_time": "2022-09-27T22:29:52.986Z"
      },
      {
        "duration": 110,
        "start_time": "2022-09-27T22:29:52.997Z"
      },
      {
        "duration": 5,
        "start_time": "2022-09-27T22:29:53.109Z"
      },
      {
        "duration": 37,
        "start_time": "2022-09-27T22:29:53.115Z"
      },
      {
        "duration": 43,
        "start_time": "2022-09-27T22:29:53.155Z"
      },
      {
        "duration": 51,
        "start_time": "2022-09-27T22:29:53.200Z"
      },
      {
        "duration": 27,
        "start_time": "2022-09-27T22:29:53.253Z"
      },
      {
        "duration": 41,
        "start_time": "2022-09-27T22:29:53.282Z"
      },
      {
        "duration": 12,
        "start_time": "2022-09-27T22:29:53.325Z"
      },
      {
        "duration": 14,
        "start_time": "2022-09-27T22:29:53.339Z"
      },
      {
        "duration": 10,
        "start_time": "2022-09-27T22:29:53.355Z"
      },
      {
        "duration": 12,
        "start_time": "2022-09-27T22:29:53.367Z"
      },
      {
        "duration": 151,
        "start_time": "2022-09-27T22:29:53.381Z"
      },
      {
        "duration": 86,
        "start_time": "2022-09-27T22:29:53.534Z"
      },
      {
        "duration": 0,
        "start_time": "2022-09-27T22:29:53.622Z"
      },
      {
        "duration": 0,
        "start_time": "2022-09-27T22:29:53.623Z"
      },
      {
        "duration": 0,
        "start_time": "2022-09-27T22:29:53.624Z"
      },
      {
        "duration": 1,
        "start_time": "2022-09-27T22:29:53.625Z"
      },
      {
        "duration": 0,
        "start_time": "2022-09-27T22:29:53.626Z"
      },
      {
        "duration": 0,
        "start_time": "2022-09-27T22:29:53.627Z"
      },
      {
        "duration": 0,
        "start_time": "2022-09-27T22:29:53.629Z"
      },
      {
        "duration": 13,
        "start_time": "2022-09-27T22:30:18.174Z"
      },
      {
        "duration": 12,
        "start_time": "2022-09-27T22:30:33.774Z"
      },
      {
        "duration": 12,
        "start_time": "2022-09-27T22:30:51.276Z"
      },
      {
        "duration": 480,
        "start_time": "2022-09-27T22:32:37.042Z"
      },
      {
        "duration": 37,
        "start_time": "2022-09-27T22:32:37.524Z"
      },
      {
        "duration": 15,
        "start_time": "2022-09-27T22:32:37.563Z"
      },
      {
        "duration": 2323,
        "start_time": "2022-09-27T22:32:37.580Z"
      },
      {
        "duration": 28,
        "start_time": "2022-09-27T22:32:39.905Z"
      },
      {
        "duration": 9,
        "start_time": "2022-09-27T22:32:39.935Z"
      },
      {
        "duration": 87,
        "start_time": "2022-09-27T22:32:39.946Z"
      },
      {
        "duration": 5,
        "start_time": "2022-09-27T22:32:40.035Z"
      },
      {
        "duration": 28,
        "start_time": "2022-09-27T22:32:40.042Z"
      },
      {
        "duration": 6,
        "start_time": "2022-09-27T22:32:40.074Z"
      },
      {
        "duration": 11,
        "start_time": "2022-09-27T22:32:40.081Z"
      },
      {
        "duration": 6,
        "start_time": "2022-09-27T22:32:40.093Z"
      },
      {
        "duration": 19,
        "start_time": "2022-09-27T22:32:40.101Z"
      },
      {
        "duration": 6,
        "start_time": "2022-09-27T22:32:40.122Z"
      },
      {
        "duration": 12,
        "start_time": "2022-09-27T22:32:40.130Z"
      },
      {
        "duration": 12,
        "start_time": "2022-09-27T22:32:40.143Z"
      },
      {
        "duration": 10,
        "start_time": "2022-09-27T22:32:40.156Z"
      },
      {
        "duration": 164,
        "start_time": "2022-09-27T22:32:40.168Z"
      },
      {
        "duration": 5,
        "start_time": "2022-09-27T22:32:40.334Z"
      },
      {
        "duration": 8,
        "start_time": "2022-09-27T22:32:40.341Z"
      },
      {
        "duration": 10,
        "start_time": "2022-09-27T22:32:40.351Z"
      },
      {
        "duration": 79,
        "start_time": "2022-09-27T22:32:40.363Z"
      },
      {
        "duration": 43,
        "start_time": "2022-09-28T14:05:43.287Z"
      },
      {
        "duration": 554,
        "start_time": "2022-09-28T14:05:53.213Z"
      },
      {
        "duration": 37,
        "start_time": "2022-09-28T14:05:53.769Z"
      },
      {
        "duration": 16,
        "start_time": "2022-09-28T14:05:53.808Z"
      },
      {
        "duration": 2282,
        "start_time": "2022-09-28T14:05:53.826Z"
      },
      {
        "duration": 28,
        "start_time": "2022-09-28T14:05:56.110Z"
      },
      {
        "duration": 10,
        "start_time": "2022-09-28T14:05:56.140Z"
      },
      {
        "duration": 106,
        "start_time": "2022-09-28T14:05:56.152Z"
      },
      {
        "duration": 5,
        "start_time": "2022-09-28T14:05:56.260Z"
      },
      {
        "duration": 10,
        "start_time": "2022-09-28T14:05:56.267Z"
      },
      {
        "duration": 6,
        "start_time": "2022-09-28T14:05:56.281Z"
      },
      {
        "duration": 10,
        "start_time": "2022-09-28T14:05:56.289Z"
      },
      {
        "duration": 24,
        "start_time": "2022-09-28T14:05:56.301Z"
      },
      {
        "duration": 6,
        "start_time": "2022-09-28T14:05:56.327Z"
      },
      {
        "duration": 10,
        "start_time": "2022-09-28T14:05:56.335Z"
      },
      {
        "duration": 13,
        "start_time": "2022-09-28T14:05:56.347Z"
      },
      {
        "duration": 12,
        "start_time": "2022-09-28T14:05:56.362Z"
      },
      {
        "duration": 7,
        "start_time": "2022-09-28T14:05:56.375Z"
      },
      {
        "duration": 132,
        "start_time": "2022-09-28T14:05:56.384Z"
      },
      {
        "duration": 7,
        "start_time": "2022-09-28T14:05:56.517Z"
      },
      {
        "duration": 9,
        "start_time": "2022-09-28T14:05:56.526Z"
      },
      {
        "duration": 64,
        "start_time": "2022-09-28T14:05:56.536Z"
      },
      {
        "duration": 0,
        "start_time": "2022-09-28T14:05:56.602Z"
      },
      {
        "duration": 5,
        "start_time": "2022-09-28T14:06:05.709Z"
      },
      {
        "duration": 281,
        "start_time": "2022-09-28T14:16:55.066Z"
      },
      {
        "duration": 4,
        "start_time": "2022-09-28T14:23:23.835Z"
      },
      {
        "duration": 57,
        "start_time": "2022-09-28T14:23:39.266Z"
      },
      {
        "duration": 33,
        "start_time": "2022-09-28T14:23:58.121Z"
      },
      {
        "duration": 4,
        "start_time": "2022-09-28T14:24:48.915Z"
      },
      {
        "duration": 44,
        "start_time": "2022-09-28T14:24:51.330Z"
      },
      {
        "duration": 466,
        "start_time": "2022-09-28T14:40:35.133Z"
      },
      {
        "duration": 42,
        "start_time": "2022-09-28T14:40:35.602Z"
      },
      {
        "duration": 14,
        "start_time": "2022-09-28T14:40:35.646Z"
      },
      {
        "duration": 2070,
        "start_time": "2022-09-28T14:40:35.662Z"
      },
      {
        "duration": 24,
        "start_time": "2022-09-28T14:40:37.734Z"
      },
      {
        "duration": 9,
        "start_time": "2022-09-28T14:40:37.759Z"
      },
      {
        "duration": 87,
        "start_time": "2022-09-28T14:40:37.770Z"
      },
      {
        "duration": 5,
        "start_time": "2022-09-28T14:40:37.859Z"
      },
      {
        "duration": 33,
        "start_time": "2022-09-28T14:40:37.865Z"
      },
      {
        "duration": 11,
        "start_time": "2022-09-28T14:40:37.901Z"
      },
      {
        "duration": 11,
        "start_time": "2022-09-28T14:40:37.914Z"
      },
      {
        "duration": 6,
        "start_time": "2022-09-28T14:40:37.927Z"
      },
      {
        "duration": 15,
        "start_time": "2022-09-28T14:40:37.935Z"
      },
      {
        "duration": 26,
        "start_time": "2022-09-28T14:40:37.952Z"
      },
      {
        "duration": 9,
        "start_time": "2022-09-28T14:40:37.980Z"
      },
      {
        "duration": 11,
        "start_time": "2022-09-28T14:40:37.990Z"
      },
      {
        "duration": 8,
        "start_time": "2022-09-28T14:40:38.003Z"
      },
      {
        "duration": 123,
        "start_time": "2022-09-28T14:40:38.013Z"
      },
      {
        "duration": 5,
        "start_time": "2022-09-28T14:40:38.138Z"
      },
      {
        "duration": 15,
        "start_time": "2022-09-28T14:40:38.145Z"
      },
      {
        "duration": 13,
        "start_time": "2022-09-28T14:40:38.162Z"
      },
      {
        "duration": 9,
        "start_time": "2022-09-28T14:40:38.177Z"
      },
      {
        "duration": 7,
        "start_time": "2022-09-28T14:40:38.187Z"
      },
      {
        "duration": 6,
        "start_time": "2022-09-28T14:40:38.196Z"
      },
      {
        "duration": 340,
        "start_time": "2022-09-28T14:40:38.203Z"
      },
      {
        "duration": 4,
        "start_time": "2022-09-28T14:40:38.545Z"
      },
      {
        "duration": 82,
        "start_time": "2022-09-28T14:54:20.619Z"
      },
      {
        "duration": 2535,
        "start_time": "2022-09-28T14:58:51.817Z"
      },
      {
        "duration": 160,
        "start_time": "2022-09-28T15:00:45.687Z"
      },
      {
        "duration": 185,
        "start_time": "2022-09-28T15:25:12.976Z"
      },
      {
        "duration": 182,
        "start_time": "2022-09-28T15:25:45.091Z"
      },
      {
        "duration": 512,
        "start_time": "2022-09-28T15:25:59.194Z"
      },
      {
        "duration": 49,
        "start_time": "2022-09-28T15:25:59.708Z"
      },
      {
        "duration": 18,
        "start_time": "2022-09-28T15:25:59.759Z"
      },
      {
        "duration": 2308,
        "start_time": "2022-09-28T15:25:59.778Z"
      },
      {
        "duration": 22,
        "start_time": "2022-09-28T15:26:02.088Z"
      },
      {
        "duration": 24,
        "start_time": "2022-09-28T15:26:02.112Z"
      },
      {
        "duration": 105,
        "start_time": "2022-09-28T15:26:02.137Z"
      },
      {
        "duration": 5,
        "start_time": "2022-09-28T15:26:02.245Z"
      },
      {
        "duration": 17,
        "start_time": "2022-09-28T15:26:02.251Z"
      },
      {
        "duration": 19,
        "start_time": "2022-09-28T15:26:02.271Z"
      },
      {
        "duration": 16,
        "start_time": "2022-09-28T15:26:02.292Z"
      },
      {
        "duration": 20,
        "start_time": "2022-09-28T15:26:02.309Z"
      },
      {
        "duration": 21,
        "start_time": "2022-09-28T15:26:02.330Z"
      },
      {
        "duration": 11,
        "start_time": "2022-09-28T15:26:02.353Z"
      },
      {
        "duration": 47,
        "start_time": "2022-09-28T15:26:02.366Z"
      },
      {
        "duration": 19,
        "start_time": "2022-09-28T15:26:02.415Z"
      },
      {
        "duration": 38,
        "start_time": "2022-09-28T15:26:02.436Z"
      },
      {
        "duration": 174,
        "start_time": "2022-09-28T15:26:02.476Z"
      },
      {
        "duration": 7,
        "start_time": "2022-09-28T15:26:02.652Z"
      },
      {
        "duration": 32,
        "start_time": "2022-09-28T15:26:02.661Z"
      },
      {
        "duration": 60,
        "start_time": "2022-09-28T15:26:02.695Z"
      },
      {
        "duration": 30,
        "start_time": "2022-09-28T15:26:02.757Z"
      },
      {
        "duration": 25,
        "start_time": "2022-09-28T15:26:02.789Z"
      },
      {
        "duration": 47,
        "start_time": "2022-09-28T15:26:02.816Z"
      },
      {
        "duration": 405,
        "start_time": "2022-09-28T15:26:02.865Z"
      },
      {
        "duration": 4,
        "start_time": "2022-09-28T15:26:03.272Z"
      },
      {
        "duration": 270,
        "start_time": "2022-09-28T15:26:03.278Z"
      },
      {
        "duration": 184,
        "start_time": "2022-09-28T15:26:29.016Z"
      },
      {
        "duration": 252,
        "start_time": "2022-09-28T15:26:33.354Z"
      },
      {
        "duration": 184,
        "start_time": "2022-09-28T15:26:34.501Z"
      },
      {
        "duration": 584,
        "start_time": "2022-09-28T15:26:54.305Z"
      },
      {
        "duration": 58,
        "start_time": "2022-09-28T15:26:54.891Z"
      },
      {
        "duration": 17,
        "start_time": "2022-09-28T15:26:54.951Z"
      },
      {
        "duration": 2363,
        "start_time": "2022-09-28T15:26:54.970Z"
      },
      {
        "duration": 39,
        "start_time": "2022-09-28T15:26:57.336Z"
      },
      {
        "duration": 9,
        "start_time": "2022-09-28T15:26:57.377Z"
      },
      {
        "duration": 82,
        "start_time": "2022-09-28T15:26:57.388Z"
      },
      {
        "duration": 4,
        "start_time": "2022-09-28T15:26:57.472Z"
      },
      {
        "duration": 19,
        "start_time": "2022-09-28T15:26:57.478Z"
      },
      {
        "duration": 14,
        "start_time": "2022-09-28T15:26:57.499Z"
      },
      {
        "duration": 21,
        "start_time": "2022-09-28T15:26:57.515Z"
      },
      {
        "duration": 13,
        "start_time": "2022-09-28T15:26:57.537Z"
      },
      {
        "duration": 10,
        "start_time": "2022-09-28T15:26:57.551Z"
      },
      {
        "duration": 18,
        "start_time": "2022-09-28T15:26:57.562Z"
      },
      {
        "duration": 27,
        "start_time": "2022-09-28T15:26:57.581Z"
      },
      {
        "duration": 18,
        "start_time": "2022-09-28T15:26:57.610Z"
      },
      {
        "duration": 19,
        "start_time": "2022-09-28T15:26:57.629Z"
      },
      {
        "duration": 156,
        "start_time": "2022-09-28T15:26:57.650Z"
      },
      {
        "duration": 5,
        "start_time": "2022-09-28T15:26:57.807Z"
      },
      {
        "duration": 22,
        "start_time": "2022-09-28T15:26:57.814Z"
      },
      {
        "duration": 17,
        "start_time": "2022-09-28T15:26:57.838Z"
      },
      {
        "duration": 30,
        "start_time": "2022-09-28T15:26:57.857Z"
      },
      {
        "duration": 8,
        "start_time": "2022-09-28T15:26:57.889Z"
      },
      {
        "duration": 15,
        "start_time": "2022-09-28T15:26:57.899Z"
      },
      {
        "duration": 312,
        "start_time": "2022-09-28T15:26:57.915Z"
      },
      {
        "duration": 5,
        "start_time": "2022-09-28T15:26:58.229Z"
      },
      {
        "duration": 0,
        "start_time": "2022-09-28T15:26:58.488Z"
      },
      {
        "duration": 181,
        "start_time": "2022-09-28T15:27:15.160Z"
      },
      {
        "duration": 304,
        "start_time": "2022-09-28T15:27:42.589Z"
      },
      {
        "duration": 202,
        "start_time": "2022-09-28T15:28:12.250Z"
      },
      {
        "duration": 152,
        "start_time": "2022-09-28T15:28:42.639Z"
      },
      {
        "duration": 197,
        "start_time": "2022-09-28T15:28:46.987Z"
      },
      {
        "duration": 182,
        "start_time": "2022-09-28T15:28:51.926Z"
      },
      {
        "duration": 200,
        "start_time": "2022-09-28T15:29:01.268Z"
      },
      {
        "duration": 284,
        "start_time": "2022-09-28T15:29:10.038Z"
      },
      {
        "duration": 187,
        "start_time": "2022-09-28T15:29:18.395Z"
      },
      {
        "duration": 185,
        "start_time": "2022-09-28T15:31:50.210Z"
      },
      {
        "duration": 179,
        "start_time": "2022-09-28T15:32:01.905Z"
      },
      {
        "duration": 276,
        "start_time": "2022-09-28T15:32:10.626Z"
      },
      {
        "duration": 219,
        "start_time": "2022-09-28T15:32:12.561Z"
      },
      {
        "duration": 189,
        "start_time": "2022-09-28T15:32:26.946Z"
      },
      {
        "duration": 212,
        "start_time": "2022-09-28T15:32:32.681Z"
      },
      {
        "duration": 274,
        "start_time": "2022-09-28T15:32:38.401Z"
      },
      {
        "duration": 238,
        "start_time": "2022-09-28T15:34:46.049Z"
      },
      {
        "duration": 203,
        "start_time": "2022-09-28T15:35:02.633Z"
      },
      {
        "duration": 283,
        "start_time": "2022-09-28T15:35:07.511Z"
      },
      {
        "duration": 185,
        "start_time": "2022-09-28T15:35:14.079Z"
      },
      {
        "duration": 176,
        "start_time": "2022-09-28T15:35:22.985Z"
      },
      {
        "duration": 190,
        "start_time": "2022-09-28T15:35:27.856Z"
      },
      {
        "duration": 192,
        "start_time": "2022-09-28T15:35:32.505Z"
      },
      {
        "duration": 222,
        "start_time": "2022-09-28T15:36:06.800Z"
      },
      {
        "duration": 150,
        "start_time": "2022-09-28T15:36:17.047Z"
      },
      {
        "duration": 184,
        "start_time": "2022-09-28T15:36:22.832Z"
      },
      {
        "duration": 169,
        "start_time": "2022-09-28T15:36:30.519Z"
      },
      {
        "duration": 339,
        "start_time": "2022-09-28T15:36:37.703Z"
      },
      {
        "duration": 210,
        "start_time": "2022-09-28T15:36:44.160Z"
      },
      {
        "duration": 197,
        "start_time": "2022-09-28T15:37:10.503Z"
      },
      {
        "duration": 190,
        "start_time": "2022-09-28T15:37:14.599Z"
      },
      {
        "duration": 148,
        "start_time": "2022-09-28T15:37:18.231Z"
      },
      {
        "duration": 231,
        "start_time": "2022-09-28T15:37:58.119Z"
      },
      {
        "duration": 190,
        "start_time": "2022-09-28T15:38:24.309Z"
      },
      {
        "duration": 183,
        "start_time": "2022-09-28T15:38:30.773Z"
      },
      {
        "duration": 209,
        "start_time": "2022-09-28T15:38:38.302Z"
      },
      {
        "duration": 213,
        "start_time": "2022-09-28T15:38:53.405Z"
      },
      {
        "duration": 197,
        "start_time": "2022-09-28T15:39:39.069Z"
      },
      {
        "duration": 280,
        "start_time": "2022-09-28T15:44:46.305Z"
      },
      {
        "duration": 176,
        "start_time": "2022-09-28T15:44:49.696Z"
      },
      {
        "duration": 162,
        "start_time": "2022-09-28T15:45:45.729Z"
      },
      {
        "duration": 158,
        "start_time": "2022-09-28T15:45:55.851Z"
      },
      {
        "duration": 175,
        "start_time": "2022-09-28T15:45:59.289Z"
      },
      {
        "duration": 172,
        "start_time": "2022-09-28T15:46:11.111Z"
      },
      {
        "duration": 137,
        "start_time": "2022-09-28T15:46:17.592Z"
      },
      {
        "duration": 183,
        "start_time": "2022-09-28T15:46:21.663Z"
      },
      {
        "duration": 137,
        "start_time": "2022-09-28T15:46:27.072Z"
      },
      {
        "duration": 156,
        "start_time": "2022-09-28T15:46:32.648Z"
      },
      {
        "duration": 199,
        "start_time": "2022-09-28T15:46:39.008Z"
      },
      {
        "duration": 262,
        "start_time": "2022-09-28T15:46:42.744Z"
      },
      {
        "duration": 180,
        "start_time": "2022-09-28T15:46:48.603Z"
      },
      {
        "duration": 173,
        "start_time": "2022-09-28T15:46:56.264Z"
      },
      {
        "duration": 151,
        "start_time": "2022-09-28T15:47:06.360Z"
      },
      {
        "duration": 87,
        "start_time": "2022-09-28T15:48:07.241Z"
      },
      {
        "duration": 154,
        "start_time": "2022-09-28T15:48:12.071Z"
      },
      {
        "duration": 153,
        "start_time": "2022-09-28T15:48:32.344Z"
      },
      {
        "duration": 189,
        "start_time": "2022-09-28T15:48:40.335Z"
      },
      {
        "duration": 166,
        "start_time": "2022-09-28T15:48:59.833Z"
      },
      {
        "duration": 151,
        "start_time": "2022-09-28T15:49:10.670Z"
      },
      {
        "duration": 185,
        "start_time": "2022-09-28T15:49:19.887Z"
      },
      {
        "duration": 171,
        "start_time": "2022-09-28T15:49:26.543Z"
      },
      {
        "duration": 270,
        "start_time": "2022-09-28T15:49:44.182Z"
      },
      {
        "duration": 152,
        "start_time": "2022-09-28T15:50:27.850Z"
      },
      {
        "duration": 153,
        "start_time": "2022-09-28T15:50:39.742Z"
      },
      {
        "duration": 160,
        "start_time": "2022-09-28T15:50:44.919Z"
      },
      {
        "duration": 163,
        "start_time": "2022-09-28T15:50:49.422Z"
      },
      {
        "duration": 190,
        "start_time": "2022-09-28T15:50:52.870Z"
      },
      {
        "duration": 160,
        "start_time": "2022-09-28T15:50:57.849Z"
      },
      {
        "duration": 182,
        "start_time": "2022-09-28T15:51:04.373Z"
      },
      {
        "duration": 197,
        "start_time": "2022-09-28T15:51:15.345Z"
      },
      {
        "duration": 160,
        "start_time": "2022-09-28T15:52:07.229Z"
      },
      {
        "duration": 148,
        "start_time": "2022-09-28T15:54:21.675Z"
      },
      {
        "duration": 245,
        "start_time": "2022-09-28T15:54:36.524Z"
      },
      {
        "duration": 153,
        "start_time": "2022-09-28T15:54:44.794Z"
      },
      {
        "duration": 155,
        "start_time": "2022-09-28T15:54:56.419Z"
      },
      {
        "duration": 128,
        "start_time": "2022-09-28T15:55:03.610Z"
      },
      {
        "duration": 157,
        "start_time": "2022-09-28T15:55:07.733Z"
      },
      {
        "duration": 161,
        "start_time": "2022-09-28T15:55:15.148Z"
      },
      {
        "duration": 134,
        "start_time": "2022-09-28T15:55:23.604Z"
      },
      {
        "duration": 190,
        "start_time": "2022-09-28T15:55:31.980Z"
      },
      {
        "duration": 159,
        "start_time": "2022-09-28T15:55:41.442Z"
      },
      {
        "duration": 141,
        "start_time": "2022-09-28T15:55:47.905Z"
      },
      {
        "duration": 146,
        "start_time": "2022-09-28T15:56:04.147Z"
      },
      {
        "duration": 221,
        "start_time": "2022-09-28T15:56:11.353Z"
      },
      {
        "duration": 148,
        "start_time": "2022-09-28T15:56:17.459Z"
      },
      {
        "duration": 149,
        "start_time": "2022-09-28T15:56:50.673Z"
      },
      {
        "duration": 135,
        "start_time": "2022-09-28T15:57:46.696Z"
      },
      {
        "duration": 138,
        "start_time": "2022-09-28T15:57:51.097Z"
      },
      {
        "duration": 122,
        "start_time": "2022-09-28T15:57:55.025Z"
      },
      {
        "duration": 122,
        "start_time": "2022-09-28T15:58:00.184Z"
      },
      {
        "duration": 115,
        "start_time": "2022-09-28T15:58:03.418Z"
      },
      {
        "duration": 131,
        "start_time": "2022-09-28T17:31:16.724Z"
      },
      {
        "duration": 113,
        "start_time": "2022-09-28T17:31:32.835Z"
      },
      {
        "duration": 139,
        "start_time": "2022-09-28T17:31:55.294Z"
      },
      {
        "duration": 157,
        "start_time": "2022-09-28T17:32:16.218Z"
      },
      {
        "duration": 234,
        "start_time": "2022-09-28T17:32:24.028Z"
      },
      {
        "duration": 167,
        "start_time": "2022-09-28T17:32:30.012Z"
      },
      {
        "duration": 146,
        "start_time": "2022-09-28T17:32:34.282Z"
      },
      {
        "duration": 168,
        "start_time": "2022-09-28T17:32:38.434Z"
      },
      {
        "duration": 151,
        "start_time": "2022-09-28T17:34:15.257Z"
      },
      {
        "duration": 152,
        "start_time": "2022-09-28T17:34:47.962Z"
      },
      {
        "duration": 188,
        "start_time": "2022-09-28T17:34:57.305Z"
      },
      {
        "duration": 171,
        "start_time": "2022-09-28T17:35:02.793Z"
      },
      {
        "duration": 178,
        "start_time": "2022-09-28T17:35:13.930Z"
      },
      {
        "duration": 191,
        "start_time": "2022-09-28T17:36:56.154Z"
      },
      {
        "duration": 148,
        "start_time": "2022-09-28T17:37:36.263Z"
      },
      {
        "duration": 256,
        "start_time": "2022-09-28T17:37:50.271Z"
      },
      {
        "duration": 179,
        "start_time": "2022-09-28T17:38:00.143Z"
      },
      {
        "duration": 156,
        "start_time": "2022-09-28T17:38:11.086Z"
      },
      {
        "duration": 149,
        "start_time": "2022-09-28T17:38:19.095Z"
      },
      {
        "duration": 147,
        "start_time": "2022-09-28T17:38:22.758Z"
      },
      {
        "duration": 179,
        "start_time": "2022-09-28T17:38:28.023Z"
      },
      {
        "duration": 136,
        "start_time": "2022-09-28T17:38:32.894Z"
      },
      {
        "duration": 154,
        "start_time": "2022-09-28T17:38:35.678Z"
      },
      {
        "duration": 518,
        "start_time": "2022-09-28T17:39:35.832Z"
      },
      {
        "duration": 32,
        "start_time": "2022-09-28T17:39:36.352Z"
      },
      {
        "duration": 14,
        "start_time": "2022-09-28T17:39:36.386Z"
      },
      {
        "duration": 1930,
        "start_time": "2022-09-28T17:39:36.402Z"
      },
      {
        "duration": 25,
        "start_time": "2022-09-28T17:39:38.333Z"
      },
      {
        "duration": 10,
        "start_time": "2022-09-28T17:39:38.359Z"
      },
      {
        "duration": 85,
        "start_time": "2022-09-28T17:39:38.371Z"
      },
      {
        "duration": 5,
        "start_time": "2022-09-28T17:39:38.458Z"
      },
      {
        "duration": 9,
        "start_time": "2022-09-28T17:39:38.464Z"
      },
      {
        "duration": 5,
        "start_time": "2022-09-28T17:39:38.476Z"
      },
      {
        "duration": 10,
        "start_time": "2022-09-28T17:39:38.483Z"
      },
      {
        "duration": 30,
        "start_time": "2022-09-28T17:39:38.495Z"
      },
      {
        "duration": 5,
        "start_time": "2022-09-28T17:39:38.527Z"
      },
      {
        "duration": 8,
        "start_time": "2022-09-28T17:39:38.533Z"
      },
      {
        "duration": 12,
        "start_time": "2022-09-28T17:39:38.543Z"
      },
      {
        "duration": 9,
        "start_time": "2022-09-28T17:39:38.557Z"
      },
      {
        "duration": 11,
        "start_time": "2022-09-28T17:39:38.568Z"
      },
      {
        "duration": 161,
        "start_time": "2022-09-28T17:39:38.581Z"
      },
      {
        "duration": 4,
        "start_time": "2022-09-28T17:39:38.744Z"
      },
      {
        "duration": 9,
        "start_time": "2022-09-28T17:39:38.750Z"
      },
      {
        "duration": 5,
        "start_time": "2022-09-28T17:39:38.760Z"
      },
      {
        "duration": 10,
        "start_time": "2022-09-28T17:39:38.767Z"
      },
      {
        "duration": 5,
        "start_time": "2022-09-28T17:39:38.779Z"
      },
      {
        "duration": 8,
        "start_time": "2022-09-28T17:39:38.785Z"
      },
      {
        "duration": 361,
        "start_time": "2022-09-28T17:39:38.795Z"
      },
      {
        "duration": 5,
        "start_time": "2022-09-28T17:39:39.158Z"
      },
      {
        "duration": 210,
        "start_time": "2022-09-28T17:39:39.165Z"
      },
      {
        "duration": 172,
        "start_time": "2022-09-28T17:39:39.379Z"
      },
      {
        "duration": 227,
        "start_time": "2022-09-28T17:39:39.553Z"
      },
      {
        "duration": 167,
        "start_time": "2022-09-28T17:39:39.781Z"
      },
      {
        "duration": 163,
        "start_time": "2022-09-28T17:39:39.949Z"
      },
      {
        "duration": 179,
        "start_time": "2022-09-28T17:39:40.113Z"
      },
      {
        "duration": 151,
        "start_time": "2022-09-28T17:39:40.293Z"
      },
      {
        "duration": 127,
        "start_time": "2022-09-28T17:39:40.446Z"
      },
      {
        "duration": 179,
        "start_time": "2022-09-28T17:39:40.575Z"
      },
      {
        "duration": 180,
        "start_time": "2022-09-28T17:39:40.756Z"
      },
      {
        "duration": 191,
        "start_time": "2022-09-28T17:39:40.938Z"
      },
      {
        "duration": 158,
        "start_time": "2022-09-28T17:41:57.667Z"
      },
      {
        "duration": 148,
        "start_time": "2022-09-28T17:44:22.283Z"
      },
      {
        "duration": 256,
        "start_time": "2022-09-28T17:44:31.027Z"
      },
      {
        "duration": 2,
        "start_time": "2022-09-28T17:56:36.313Z"
      },
      {
        "duration": 156,
        "start_time": "2022-09-28T18:04:27.940Z"
      },
      {
        "duration": 168,
        "start_time": "2022-09-28T18:04:35.207Z"
      },
      {
        "duration": 135,
        "start_time": "2022-09-28T18:04:46.420Z"
      },
      {
        "duration": 127,
        "start_time": "2022-09-28T18:05:33.765Z"
      },
      {
        "duration": 226,
        "start_time": "2022-09-28T18:06:25.980Z"
      },
      {
        "duration": 141,
        "start_time": "2022-09-28T18:06:30.909Z"
      },
      {
        "duration": 370,
        "start_time": "2022-09-28T18:06:54.484Z"
      },
      {
        "duration": 446,
        "start_time": "2022-09-28T18:07:00.278Z"
      },
      {
        "duration": 124,
        "start_time": "2022-09-28T18:07:09.173Z"
      },
      {
        "duration": 182,
        "start_time": "2022-09-28T18:08:26.039Z"
      },
      {
        "duration": 127,
        "start_time": "2022-09-28T18:08:36.665Z"
      },
      {
        "duration": 169,
        "start_time": "2022-09-28T18:08:39.129Z"
      },
      {
        "duration": 122,
        "start_time": "2022-09-28T18:08:47.865Z"
      },
      {
        "duration": 136,
        "start_time": "2022-09-28T18:10:25.439Z"
      },
      {
        "duration": 106,
        "start_time": "2022-09-28T18:13:14.036Z"
      },
      {
        "duration": 141,
        "start_time": "2022-09-28T18:13:33.247Z"
      },
      {
        "duration": 136,
        "start_time": "2022-09-28T18:13:39.655Z"
      },
      {
        "duration": 64,
        "start_time": "2022-09-28T18:17:26.892Z"
      },
      {
        "duration": 12,
        "start_time": "2022-09-28T18:17:34.138Z"
      },
      {
        "duration": 265,
        "start_time": "2022-09-28T18:17:49.652Z"
      },
      {
        "duration": 177,
        "start_time": "2022-09-28T18:17:57.038Z"
      },
      {
        "duration": 182,
        "start_time": "2022-09-28T18:18:21.605Z"
      },
      {
        "duration": 483,
        "start_time": "2022-09-28T18:18:31.105Z"
      },
      {
        "duration": 32,
        "start_time": "2022-09-28T18:18:31.590Z"
      },
      {
        "duration": 27,
        "start_time": "2022-09-28T18:18:31.623Z"
      },
      {
        "duration": 2036,
        "start_time": "2022-09-28T18:18:31.652Z"
      },
      {
        "duration": 22,
        "start_time": "2022-09-28T18:18:33.690Z"
      },
      {
        "duration": 7,
        "start_time": "2022-09-28T18:18:33.713Z"
      },
      {
        "duration": 65,
        "start_time": "2022-09-28T18:18:33.722Z"
      },
      {
        "duration": 4,
        "start_time": "2022-09-28T18:18:33.788Z"
      },
      {
        "duration": 23,
        "start_time": "2022-09-28T18:18:33.793Z"
      },
      {
        "duration": 5,
        "start_time": "2022-09-28T18:18:33.821Z"
      },
      {
        "duration": 15,
        "start_time": "2022-09-28T18:18:33.827Z"
      },
      {
        "duration": 12,
        "start_time": "2022-09-28T18:18:33.843Z"
      },
      {
        "duration": 10,
        "start_time": "2022-09-28T18:18:33.856Z"
      },
      {
        "duration": 26,
        "start_time": "2022-09-28T18:18:33.867Z"
      },
      {
        "duration": 8,
        "start_time": "2022-09-28T18:18:33.895Z"
      },
      {
        "duration": 9,
        "start_time": "2022-09-28T18:18:33.905Z"
      },
      {
        "duration": 8,
        "start_time": "2022-09-28T18:18:33.915Z"
      },
      {
        "duration": 107,
        "start_time": "2022-09-28T18:18:33.925Z"
      },
      {
        "duration": 4,
        "start_time": "2022-09-28T18:18:34.034Z"
      },
      {
        "duration": 6,
        "start_time": "2022-09-28T18:18:34.040Z"
      },
      {
        "duration": 6,
        "start_time": "2022-09-28T18:18:34.048Z"
      },
      {
        "duration": 10,
        "start_time": "2022-09-28T18:18:34.055Z"
      },
      {
        "duration": 12,
        "start_time": "2022-09-28T18:18:34.066Z"
      },
      {
        "duration": 8,
        "start_time": "2022-09-28T18:18:34.080Z"
      },
      {
        "duration": 293,
        "start_time": "2022-09-28T18:18:34.089Z"
      },
      {
        "duration": 4,
        "start_time": "2022-09-28T18:18:34.384Z"
      },
      {
        "duration": 173,
        "start_time": "2022-09-28T18:18:34.390Z"
      },
      {
        "duration": 163,
        "start_time": "2022-09-28T18:18:34.566Z"
      },
      {
        "duration": 222,
        "start_time": "2022-09-28T18:18:34.731Z"
      },
      {
        "duration": 168,
        "start_time": "2022-09-28T18:18:34.955Z"
      },
      {
        "duration": 145,
        "start_time": "2022-09-28T18:18:35.125Z"
      },
      {
        "duration": 171,
        "start_time": "2022-09-28T18:18:35.272Z"
      },
      {
        "duration": 159,
        "start_time": "2022-09-28T18:18:35.444Z"
      },
      {
        "duration": 127,
        "start_time": "2022-09-28T18:18:35.605Z"
      },
      {
        "duration": 164,
        "start_time": "2022-09-28T18:18:35.734Z"
      },
      {
        "duration": 225,
        "start_time": "2022-09-28T18:18:35.899Z"
      },
      {
        "duration": 198,
        "start_time": "2022-09-28T18:18:36.127Z"
      },
      {
        "duration": 170,
        "start_time": "2022-09-28T18:18:36.327Z"
      },
      {
        "duration": 144,
        "start_time": "2022-09-28T18:18:36.499Z"
      },
      {
        "duration": 239,
        "start_time": "2022-09-28T18:18:36.644Z"
      },
      {
        "duration": 170,
        "start_time": "2022-09-28T18:18:52.099Z"
      },
      {
        "duration": 212,
        "start_time": "2022-09-28T18:23:15.188Z"
      },
      {
        "duration": 130,
        "start_time": "2022-09-28T18:24:43.264Z"
      },
      {
        "duration": 110,
        "start_time": "2022-09-28T18:25:18.737Z"
      },
      {
        "duration": 138,
        "start_time": "2022-09-28T18:25:44.752Z"
      },
      {
        "duration": 513,
        "start_time": "2022-09-28T18:26:24.792Z"
      },
      {
        "duration": 33,
        "start_time": "2022-09-28T18:26:25.307Z"
      },
      {
        "duration": 14,
        "start_time": "2022-09-28T18:26:25.342Z"
      },
      {
        "duration": 2070,
        "start_time": "2022-09-28T18:26:25.358Z"
      },
      {
        "duration": 23,
        "start_time": "2022-09-28T18:26:27.430Z"
      },
      {
        "duration": 12,
        "start_time": "2022-09-28T18:26:27.456Z"
      },
      {
        "duration": 77,
        "start_time": "2022-09-28T18:26:27.469Z"
      },
      {
        "duration": 4,
        "start_time": "2022-09-28T18:26:27.548Z"
      },
      {
        "duration": 12,
        "start_time": "2022-09-28T18:26:27.553Z"
      },
      {
        "duration": 5,
        "start_time": "2022-09-28T18:26:27.567Z"
      },
      {
        "duration": 12,
        "start_time": "2022-09-28T18:26:27.573Z"
      },
      {
        "duration": 5,
        "start_time": "2022-09-28T18:26:27.586Z"
      },
      {
        "duration": 31,
        "start_time": "2022-09-28T18:26:27.592Z"
      },
      {
        "duration": 5,
        "start_time": "2022-09-28T18:26:27.625Z"
      },
      {
        "duration": 10,
        "start_time": "2022-09-28T18:26:27.631Z"
      },
      {
        "duration": 7,
        "start_time": "2022-09-28T18:26:27.643Z"
      },
      {
        "duration": 8,
        "start_time": "2022-09-28T18:26:27.652Z"
      },
      {
        "duration": 140,
        "start_time": "2022-09-28T18:26:27.662Z"
      },
      {
        "duration": 5,
        "start_time": "2022-09-28T18:26:27.803Z"
      },
      {
        "duration": 14,
        "start_time": "2022-09-28T18:26:27.809Z"
      },
      {
        "duration": 3,
        "start_time": "2022-09-28T18:26:27.825Z"
      },
      {
        "duration": 23,
        "start_time": "2022-09-28T18:26:27.830Z"
      },
      {
        "duration": 6,
        "start_time": "2022-09-28T18:26:27.855Z"
      },
      {
        "duration": 13,
        "start_time": "2022-09-28T18:26:27.863Z"
      },
      {
        "duration": 285,
        "start_time": "2022-09-28T18:26:27.879Z"
      },
      {
        "duration": 4,
        "start_time": "2022-09-28T18:26:28.165Z"
      },
      {
        "duration": 184,
        "start_time": "2022-09-28T18:26:28.170Z"
      },
      {
        "duration": 177,
        "start_time": "2022-09-28T18:26:28.357Z"
      },
      {
        "duration": 239,
        "start_time": "2022-09-28T18:26:28.536Z"
      },
      {
        "duration": 183,
        "start_time": "2022-09-28T18:26:28.777Z"
      },
      {
        "duration": 149,
        "start_time": "2022-09-28T18:26:28.962Z"
      },
      {
        "duration": 176,
        "start_time": "2022-09-28T18:26:29.112Z"
      },
      {
        "duration": 167,
        "start_time": "2022-09-28T18:26:29.289Z"
      },
      {
        "duration": 124,
        "start_time": "2022-09-28T18:26:29.457Z"
      },
      {
        "duration": 163,
        "start_time": "2022-09-28T18:26:29.583Z"
      },
      {
        "duration": 189,
        "start_time": "2022-09-28T18:26:29.748Z"
      },
      {
        "duration": 169,
        "start_time": "2022-09-28T18:26:29.939Z"
      },
      {
        "duration": 178,
        "start_time": "2022-09-28T18:26:30.110Z"
      },
      {
        "duration": 147,
        "start_time": "2022-09-28T18:26:30.289Z"
      },
      {
        "duration": 239,
        "start_time": "2022-09-28T18:26:30.438Z"
      },
      {
        "duration": 54,
        "start_time": "2022-09-29T14:44:16.690Z"
      },
      {
        "duration": 725,
        "start_time": "2022-09-29T14:46:02.262Z"
      },
      {
        "duration": 37,
        "start_time": "2022-09-29T14:46:02.989Z"
      },
      {
        "duration": 16,
        "start_time": "2022-09-29T14:46:03.027Z"
      },
      {
        "duration": 2471,
        "start_time": "2022-09-29T14:46:03.045Z"
      },
      {
        "duration": 27,
        "start_time": "2022-09-29T14:46:05.518Z"
      },
      {
        "duration": 10,
        "start_time": "2022-09-29T14:46:05.547Z"
      },
      {
        "duration": 92,
        "start_time": "2022-09-29T14:46:05.559Z"
      },
      {
        "duration": 4,
        "start_time": "2022-09-29T14:46:05.653Z"
      },
      {
        "duration": 10,
        "start_time": "2022-09-29T14:46:05.659Z"
      },
      {
        "duration": 7,
        "start_time": "2022-09-29T14:46:05.671Z"
      },
      {
        "duration": 10,
        "start_time": "2022-09-29T14:46:05.680Z"
      },
      {
        "duration": 6,
        "start_time": "2022-09-29T14:46:05.692Z"
      },
      {
        "duration": 5,
        "start_time": "2022-09-29T14:46:05.699Z"
      },
      {
        "duration": 7,
        "start_time": "2022-09-29T14:46:05.739Z"
      },
      {
        "duration": 9,
        "start_time": "2022-09-29T14:46:05.747Z"
      },
      {
        "duration": 11,
        "start_time": "2022-09-29T14:46:05.758Z"
      },
      {
        "duration": 9,
        "start_time": "2022-09-29T14:46:05.771Z"
      },
      {
        "duration": 171,
        "start_time": "2022-09-29T14:46:05.782Z"
      },
      {
        "duration": 6,
        "start_time": "2022-09-29T14:46:05.955Z"
      },
      {
        "duration": 40,
        "start_time": "2022-09-29T14:46:05.962Z"
      },
      {
        "duration": 9,
        "start_time": "2022-09-29T14:46:06.004Z"
      },
      {
        "duration": 32,
        "start_time": "2022-09-29T14:46:06.015Z"
      },
      {
        "duration": 13,
        "start_time": "2022-09-29T14:46:06.049Z"
      },
      {
        "duration": 11,
        "start_time": "2022-09-29T14:46:06.064Z"
      },
      {
        "duration": 374,
        "start_time": "2022-09-29T14:46:06.077Z"
      },
      {
        "duration": 6,
        "start_time": "2022-09-29T14:46:06.453Z"
      },
      {
        "duration": 238,
        "start_time": "2022-09-29T14:46:06.460Z"
      },
      {
        "duration": 336,
        "start_time": "2022-09-29T14:46:06.703Z"
      },
      {
        "duration": 220,
        "start_time": "2022-09-29T14:46:07.040Z"
      },
      {
        "duration": 213,
        "start_time": "2022-09-29T14:46:07.262Z"
      },
      {
        "duration": 172,
        "start_time": "2022-09-29T14:46:07.477Z"
      },
      {
        "duration": 193,
        "start_time": "2022-09-29T14:46:07.651Z"
      },
      {
        "duration": 185,
        "start_time": "2022-09-29T14:46:07.845Z"
      },
      {
        "duration": 152,
        "start_time": "2022-09-29T14:46:08.038Z"
      },
      {
        "duration": 230,
        "start_time": "2022-09-29T14:46:08.192Z"
      },
      {
        "duration": 263,
        "start_time": "2022-09-29T14:46:08.424Z"
      },
      {
        "duration": 202,
        "start_time": "2022-09-29T14:46:08.688Z"
      },
      {
        "duration": 224,
        "start_time": "2022-09-29T14:46:08.892Z"
      },
      {
        "duration": 279,
        "start_time": "2022-09-29T14:46:09.118Z"
      },
      {
        "duration": 153,
        "start_time": "2022-09-29T14:46:09.399Z"
      },
      {
        "duration": 245,
        "start_time": "2022-09-29T15:15:13.429Z"
      },
      {
        "duration": 12,
        "start_time": "2022-09-29T15:15:28.794Z"
      },
      {
        "duration": 165,
        "start_time": "2022-09-29T15:21:21.719Z"
      },
      {
        "duration": 166,
        "start_time": "2022-09-29T15:24:25.989Z"
      },
      {
        "duration": 173,
        "start_time": "2022-09-29T15:24:37.781Z"
      },
      {
        "duration": 146,
        "start_time": "2022-09-29T15:24:44.831Z"
      },
      {
        "duration": 149,
        "start_time": "2022-09-29T15:25:54.012Z"
      },
      {
        "duration": 161,
        "start_time": "2022-09-29T15:26:52.109Z"
      },
      {
        "duration": 149,
        "start_time": "2022-09-29T15:28:13.069Z"
      },
      {
        "duration": 224,
        "start_time": "2022-09-29T15:29:34.586Z"
      },
      {
        "duration": 137,
        "start_time": "2022-09-29T15:30:26.490Z"
      },
      {
        "duration": 145,
        "start_time": "2022-09-29T15:30:31.634Z"
      },
      {
        "duration": 138,
        "start_time": "2022-09-29T15:30:40.394Z"
      },
      {
        "duration": 187,
        "start_time": "2022-09-29T15:32:11.368Z"
      },
      {
        "duration": 172,
        "start_time": "2022-09-29T15:32:40.113Z"
      },
      {
        "duration": 82,
        "start_time": "2022-09-29T15:33:28.480Z"
      },
      {
        "duration": 166,
        "start_time": "2022-09-29T15:33:35.896Z"
      },
      {
        "duration": 62,
        "start_time": "2022-09-29T15:33:51.819Z"
      },
      {
        "duration": 68,
        "start_time": "2022-09-29T15:34:03.399Z"
      },
      {
        "duration": 49,
        "start_time": "2022-09-29T15:34:10.134Z"
      },
      {
        "duration": 178,
        "start_time": "2022-09-29T15:34:15.862Z"
      },
      {
        "duration": 170,
        "start_time": "2022-09-29T15:34:26.398Z"
      },
      {
        "duration": 518,
        "start_time": "2022-09-29T15:36:14.200Z"
      },
      {
        "duration": 234,
        "start_time": "2022-09-29T15:37:53.668Z"
      },
      {
        "duration": 245,
        "start_time": "2022-09-29T15:39:22.811Z"
      },
      {
        "duration": 143,
        "start_time": "2022-09-29T15:39:29.932Z"
      },
      {
        "duration": 146,
        "start_time": "2022-09-29T15:39:38.363Z"
      },
      {
        "duration": 148,
        "start_time": "2022-09-29T15:39:51.955Z"
      },
      {
        "duration": 18,
        "start_time": "2022-09-29T17:05:10.036Z"
      },
      {
        "duration": 530,
        "start_time": "2022-09-29T17:05:27.414Z"
      },
      {
        "duration": 35,
        "start_time": "2022-09-29T17:05:27.946Z"
      },
      {
        "duration": 15,
        "start_time": "2022-09-29T17:05:27.983Z"
      },
      {
        "duration": 2268,
        "start_time": "2022-09-29T17:05:27.999Z"
      },
      {
        "duration": 27,
        "start_time": "2022-09-29T17:05:30.270Z"
      },
      {
        "duration": 10,
        "start_time": "2022-09-29T17:05:30.299Z"
      },
      {
        "duration": 88,
        "start_time": "2022-09-29T17:05:30.310Z"
      },
      {
        "duration": 4,
        "start_time": "2022-09-29T17:05:30.400Z"
      },
      {
        "duration": 27,
        "start_time": "2022-09-29T17:05:30.406Z"
      },
      {
        "duration": 15,
        "start_time": "2022-09-29T17:05:30.435Z"
      },
      {
        "duration": 22,
        "start_time": "2022-09-29T17:05:30.452Z"
      },
      {
        "duration": 15,
        "start_time": "2022-09-29T17:05:30.476Z"
      },
      {
        "duration": 14,
        "start_time": "2022-09-29T17:05:30.492Z"
      },
      {
        "duration": 18,
        "start_time": "2022-09-29T17:05:30.509Z"
      },
      {
        "duration": 25,
        "start_time": "2022-09-29T17:05:30.529Z"
      },
      {
        "duration": 17,
        "start_time": "2022-09-29T17:05:30.556Z"
      },
      {
        "duration": 25,
        "start_time": "2022-09-29T17:05:30.575Z"
      },
      {
        "duration": 137,
        "start_time": "2022-09-29T17:05:30.602Z"
      },
      {
        "duration": 5,
        "start_time": "2022-09-29T17:05:30.741Z"
      },
      {
        "duration": 24,
        "start_time": "2022-09-29T17:05:30.748Z"
      },
      {
        "duration": 19,
        "start_time": "2022-09-29T17:05:30.774Z"
      },
      {
        "duration": 28,
        "start_time": "2022-09-29T17:05:30.795Z"
      },
      {
        "duration": 26,
        "start_time": "2022-09-29T17:05:30.825Z"
      },
      {
        "duration": 23,
        "start_time": "2022-09-29T17:05:30.853Z"
      },
      {
        "duration": 316,
        "start_time": "2022-09-29T17:05:30.878Z"
      },
      {
        "duration": 4,
        "start_time": "2022-09-29T17:05:31.196Z"
      },
      {
        "duration": 196,
        "start_time": "2022-09-29T17:05:31.201Z"
      },
      {
        "duration": 194,
        "start_time": "2022-09-29T17:05:31.399Z"
      },
      {
        "duration": 274,
        "start_time": "2022-09-29T17:05:31.595Z"
      },
      {
        "duration": 173,
        "start_time": "2022-09-29T17:05:31.871Z"
      },
      {
        "duration": 163,
        "start_time": "2022-09-29T17:05:32.045Z"
      },
      {
        "duration": 242,
        "start_time": "2022-09-29T17:05:32.210Z"
      },
      {
        "duration": 216,
        "start_time": "2022-09-29T17:05:32.454Z"
      },
      {
        "duration": 132,
        "start_time": "2022-09-29T17:05:32.672Z"
      },
      {
        "duration": 189,
        "start_time": "2022-09-29T17:05:32.806Z"
      },
      {
        "duration": 212,
        "start_time": "2022-09-29T17:05:32.997Z"
      },
      {
        "duration": 192,
        "start_time": "2022-09-29T17:05:33.210Z"
      },
      {
        "duration": 200,
        "start_time": "2022-09-29T17:05:33.404Z"
      },
      {
        "duration": 172,
        "start_time": "2022-09-29T17:05:33.605Z"
      },
      {
        "duration": 262,
        "start_time": "2022-09-29T17:05:33.778Z"
      },
      {
        "duration": 242,
        "start_time": "2022-09-29T17:05:34.045Z"
      },
      {
        "duration": 10,
        "start_time": "2022-09-29T17:05:34.289Z"
      },
      {
        "duration": 164,
        "start_time": "2022-09-29T17:05:34.301Z"
      },
      {
        "duration": 164,
        "start_time": "2022-09-29T17:05:34.466Z"
      },
      {
        "duration": 153,
        "start_time": "2022-09-29T17:05:34.631Z"
      },
      {
        "duration": 159,
        "start_time": "2022-09-29T17:05:34.786Z"
      },
      {
        "duration": 135,
        "start_time": "2022-09-29T17:05:34.947Z"
      },
      {
        "duration": 477,
        "start_time": "2022-09-29T17:05:35.084Z"
      },
      {
        "duration": 0,
        "start_time": "2022-09-29T17:05:35.742Z"
      },
      {
        "duration": 0,
        "start_time": "2022-09-29T17:05:35.743Z"
      },
      {
        "duration": 21,
        "start_time": "2022-09-29T17:05:38.739Z"
      },
      {
        "duration": 6,
        "start_time": "2022-09-29T17:06:26.492Z"
      },
      {
        "duration": 6,
        "start_time": "2022-09-29T17:06:28.909Z"
      },
      {
        "duration": 11,
        "start_time": "2022-09-29T17:06:37.916Z"
      },
      {
        "duration": 8,
        "start_time": "2022-09-29T17:07:12.588Z"
      },
      {
        "duration": 8,
        "start_time": "2022-09-29T17:09:59.761Z"
      },
      {
        "duration": 0,
        "start_time": "2022-09-29T17:10:33.330Z"
      },
      {
        "duration": 1522,
        "start_time": "2022-09-29T17:10:39.193Z"
      },
      {
        "duration": 192,
        "start_time": "2022-09-29T17:11:18.943Z"
      },
      {
        "duration": 64,
        "start_time": "2022-09-29T17:12:01.281Z"
      },
      {
        "duration": 196,
        "start_time": "2022-09-29T17:12:13.456Z"
      },
      {
        "duration": 191,
        "start_time": "2022-09-29T17:12:26.311Z"
      },
      {
        "duration": 10,
        "start_time": "2022-09-29T17:13:58.416Z"
      },
      {
        "duration": 35,
        "start_time": "2022-09-29T17:15:17.946Z"
      },
      {
        "duration": 9,
        "start_time": "2022-09-29T17:16:20.944Z"
      },
      {
        "duration": 9,
        "start_time": "2022-09-29T17:16:21.908Z"
      },
      {
        "duration": 21,
        "start_time": "2022-09-29T17:37:28.221Z"
      },
      {
        "duration": 23,
        "start_time": "2022-09-29T17:41:22.807Z"
      },
      {
        "duration": 26,
        "start_time": "2022-09-29T17:41:45.299Z"
      },
      {
        "duration": 23,
        "start_time": "2022-09-29T17:41:53.059Z"
      },
      {
        "duration": 24,
        "start_time": "2022-09-29T17:43:01.369Z"
      },
      {
        "duration": 23,
        "start_time": "2022-09-29T17:46:25.963Z"
      },
      {
        "duration": 70,
        "start_time": "2022-09-29T17:47:47.903Z"
      },
      {
        "duration": 167,
        "start_time": "2022-09-29T17:47:54.801Z"
      },
      {
        "duration": 37,
        "start_time": "2022-09-29T18:14:48.880Z"
      },
      {
        "duration": 44,
        "start_time": "2022-09-29T18:15:00.620Z"
      },
      {
        "duration": 35,
        "start_time": "2022-09-29T18:15:12.836Z"
      },
      {
        "duration": 23,
        "start_time": "2022-09-29T18:15:20.220Z"
      },
      {
        "duration": 24,
        "start_time": "2022-09-29T18:16:09.428Z"
      },
      {
        "duration": 20,
        "start_time": "2022-09-29T18:16:32.723Z"
      },
      {
        "duration": 22,
        "start_time": "2022-09-29T18:16:42.075Z"
      },
      {
        "duration": 24,
        "start_time": "2022-09-29T18:16:50.060Z"
      },
      {
        "duration": 24,
        "start_time": "2022-09-29T18:30:15.178Z"
      },
      {
        "duration": 42,
        "start_time": "2022-09-29T18:30:29.843Z"
      },
      {
        "duration": 43,
        "start_time": "2022-09-29T18:31:20.092Z"
      },
      {
        "duration": 14,
        "start_time": "2022-09-29T18:33:44.011Z"
      },
      {
        "duration": 504,
        "start_time": "2022-09-29T18:34:23.488Z"
      },
      {
        "duration": 46,
        "start_time": "2022-09-29T18:34:23.994Z"
      },
      {
        "duration": 22,
        "start_time": "2022-09-29T18:34:24.042Z"
      },
      {
        "duration": 2241,
        "start_time": "2022-09-29T18:34:24.066Z"
      },
      {
        "duration": 26,
        "start_time": "2022-09-29T18:34:26.309Z"
      },
      {
        "duration": 10,
        "start_time": "2022-09-29T18:34:26.337Z"
      },
      {
        "duration": 74,
        "start_time": "2022-09-29T18:34:26.348Z"
      },
      {
        "duration": 17,
        "start_time": "2022-09-29T18:34:26.423Z"
      },
      {
        "duration": 12,
        "start_time": "2022-09-29T18:34:26.442Z"
      },
      {
        "duration": 6,
        "start_time": "2022-09-29T18:34:26.456Z"
      },
      {
        "duration": 11,
        "start_time": "2022-09-29T18:34:26.463Z"
      },
      {
        "duration": 6,
        "start_time": "2022-09-29T18:34:26.475Z"
      },
      {
        "duration": 6,
        "start_time": "2022-09-29T18:34:26.482Z"
      },
      {
        "duration": 8,
        "start_time": "2022-09-29T18:34:26.489Z"
      },
      {
        "duration": 10,
        "start_time": "2022-09-29T18:34:26.498Z"
      },
      {
        "duration": 38,
        "start_time": "2022-09-29T18:34:26.509Z"
      },
      {
        "duration": 9,
        "start_time": "2022-09-29T18:34:26.548Z"
      },
      {
        "duration": 143,
        "start_time": "2022-09-29T18:34:26.559Z"
      },
      {
        "duration": 5,
        "start_time": "2022-09-29T18:34:26.703Z"
      },
      {
        "duration": 6,
        "start_time": "2022-09-29T18:34:26.710Z"
      },
      {
        "duration": 6,
        "start_time": "2022-09-29T18:34:26.717Z"
      },
      {
        "duration": 18,
        "start_time": "2022-09-29T18:34:26.725Z"
      },
      {
        "duration": 9,
        "start_time": "2022-09-29T18:34:26.744Z"
      },
      {
        "duration": 13,
        "start_time": "2022-09-29T18:34:26.755Z"
      },
      {
        "duration": 312,
        "start_time": "2022-09-29T18:34:26.770Z"
      },
      {
        "duration": 4,
        "start_time": "2022-09-29T18:34:27.084Z"
      },
      {
        "duration": 253,
        "start_time": "2022-09-29T18:34:27.089Z"
      },
      {
        "duration": 183,
        "start_time": "2022-09-29T18:34:27.346Z"
      },
      {
        "duration": 239,
        "start_time": "2022-09-29T18:34:27.538Z"
      },
      {
        "duration": 192,
        "start_time": "2022-09-29T18:34:27.779Z"
      },
      {
        "duration": 167,
        "start_time": "2022-09-29T18:34:27.973Z"
      },
      {
        "duration": 197,
        "start_time": "2022-09-29T18:34:28.142Z"
      },
      {
        "duration": 171,
        "start_time": "2022-09-29T18:34:28.341Z"
      },
      {
        "duration": 173,
        "start_time": "2022-09-29T18:34:28.513Z"
      },
      {
        "duration": 200,
        "start_time": "2022-09-29T18:34:28.688Z"
      },
      {
        "duration": 211,
        "start_time": "2022-09-29T18:34:28.890Z"
      },
      {
        "duration": 195,
        "start_time": "2022-09-29T18:34:29.103Z"
      },
      {
        "duration": 210,
        "start_time": "2022-09-29T18:34:29.299Z"
      },
      {
        "duration": 173,
        "start_time": "2022-09-29T18:34:29.511Z"
      },
      {
        "duration": 245,
        "start_time": "2022-09-29T18:34:29.685Z"
      },
      {
        "duration": 245,
        "start_time": "2022-09-29T18:34:29.931Z"
      },
      {
        "duration": 9,
        "start_time": "2022-09-29T18:34:30.178Z"
      },
      {
        "duration": 174,
        "start_time": "2022-09-29T18:34:30.189Z"
      },
      {
        "duration": 184,
        "start_time": "2022-09-29T18:34:30.365Z"
      },
      {
        "duration": 162,
        "start_time": "2022-09-29T18:34:30.550Z"
      },
      {
        "duration": 173,
        "start_time": "2022-09-29T18:34:30.713Z"
      },
      {
        "duration": 147,
        "start_time": "2022-09-29T18:34:30.888Z"
      },
      {
        "duration": 492,
        "start_time": "2022-09-29T18:34:31.038Z"
      },
      {
        "duration": 118,
        "start_time": "2022-09-29T18:34:31.538Z"
      },
      {
        "duration": 21,
        "start_time": "2022-09-29T18:34:31.657Z"
      },
      {
        "duration": 102,
        "start_time": "2022-09-29T18:34:31.680Z"
      },
      {
        "duration": 0,
        "start_time": "2022-09-29T18:34:31.784Z"
      },
      {
        "duration": 19,
        "start_time": "2022-09-29T18:35:09.758Z"
      },
      {
        "duration": 22,
        "start_time": "2022-09-29T18:35:10.500Z"
      },
      {
        "duration": 35,
        "start_time": "2022-09-29T18:38:37.282Z"
      },
      {
        "duration": 23,
        "start_time": "2022-09-29T18:39:11.075Z"
      },
      {
        "duration": 538,
        "start_time": "2022-09-29T18:41:33.918Z"
      },
      {
        "duration": 36,
        "start_time": "2022-09-29T18:41:34.458Z"
      },
      {
        "duration": 15,
        "start_time": "2022-09-29T18:41:34.495Z"
      },
      {
        "duration": 2268,
        "start_time": "2022-09-29T18:41:34.512Z"
      },
      {
        "duration": 25,
        "start_time": "2022-09-29T18:41:36.782Z"
      },
      {
        "duration": 10,
        "start_time": "2022-09-29T18:41:36.809Z"
      },
      {
        "duration": 72,
        "start_time": "2022-09-29T18:41:36.820Z"
      },
      {
        "duration": 5,
        "start_time": "2022-09-29T18:41:36.893Z"
      },
      {
        "duration": 12,
        "start_time": "2022-09-29T18:41:36.899Z"
      },
      {
        "duration": 8,
        "start_time": "2022-09-29T18:41:36.913Z"
      },
      {
        "duration": 21,
        "start_time": "2022-09-29T18:41:36.923Z"
      },
      {
        "duration": 6,
        "start_time": "2022-09-29T18:41:36.946Z"
      },
      {
        "duration": 6,
        "start_time": "2022-09-29T18:41:36.953Z"
      },
      {
        "duration": 8,
        "start_time": "2022-09-29T18:41:36.961Z"
      },
      {
        "duration": 9,
        "start_time": "2022-09-29T18:41:36.971Z"
      },
      {
        "duration": 9,
        "start_time": "2022-09-29T18:41:36.982Z"
      },
      {
        "duration": 46,
        "start_time": "2022-09-29T18:41:36.992Z"
      },
      {
        "duration": 146,
        "start_time": "2022-09-29T18:41:37.040Z"
      },
      {
        "duration": 6,
        "start_time": "2022-09-29T18:41:37.188Z"
      },
      {
        "duration": 13,
        "start_time": "2022-09-29T18:41:37.196Z"
      },
      {
        "duration": 11,
        "start_time": "2022-09-29T18:41:37.212Z"
      },
      {
        "duration": 14,
        "start_time": "2022-09-29T18:41:37.225Z"
      },
      {
        "duration": 22,
        "start_time": "2022-09-29T18:41:37.242Z"
      },
      {
        "duration": 12,
        "start_time": "2022-09-29T18:41:37.267Z"
      },
      {
        "duration": 353,
        "start_time": "2022-09-29T18:41:37.281Z"
      },
      {
        "duration": 5,
        "start_time": "2022-09-29T18:41:37.637Z"
      },
      {
        "duration": 215,
        "start_time": "2022-09-29T18:41:37.644Z"
      },
      {
        "duration": 209,
        "start_time": "2022-09-29T18:41:37.862Z"
      },
      {
        "duration": 268,
        "start_time": "2022-09-29T18:41:38.073Z"
      },
      {
        "duration": 202,
        "start_time": "2022-09-29T18:41:38.343Z"
      },
      {
        "duration": 185,
        "start_time": "2022-09-29T18:41:38.547Z"
      },
      {
        "duration": 201,
        "start_time": "2022-09-29T18:41:38.733Z"
      },
      {
        "duration": 173,
        "start_time": "2022-09-29T18:41:38.938Z"
      },
      {
        "duration": 147,
        "start_time": "2022-09-29T18:41:39.113Z"
      },
      {
        "duration": 195,
        "start_time": "2022-09-29T18:41:39.262Z"
      },
      {
        "duration": 212,
        "start_time": "2022-09-29T18:41:39.458Z"
      },
      {
        "duration": 198,
        "start_time": "2022-09-29T18:41:39.672Z"
      },
      {
        "duration": 205,
        "start_time": "2022-09-29T18:41:39.871Z"
      },
      {
        "duration": 170,
        "start_time": "2022-09-29T18:41:40.078Z"
      },
      {
        "duration": 249,
        "start_time": "2022-09-29T18:41:40.250Z"
      },
      {
        "duration": 251,
        "start_time": "2022-09-29T18:41:40.501Z"
      },
      {
        "duration": 9,
        "start_time": "2022-09-29T18:41:40.754Z"
      },
      {
        "duration": 166,
        "start_time": "2022-09-29T18:41:40.765Z"
      },
      {
        "duration": 168,
        "start_time": "2022-09-29T18:41:40.939Z"
      },
      {
        "duration": 167,
        "start_time": "2022-09-29T18:41:41.109Z"
      },
      {
        "duration": 160,
        "start_time": "2022-09-29T18:41:41.278Z"
      },
      {
        "duration": 155,
        "start_time": "2022-09-29T18:41:41.440Z"
      },
      {
        "duration": 509,
        "start_time": "2022-09-29T18:41:41.597Z"
      },
      {
        "duration": 130,
        "start_time": "2022-09-29T18:41:42.108Z"
      },
      {
        "duration": 22,
        "start_time": "2022-09-29T18:41:42.240Z"
      },
      {
        "duration": 32,
        "start_time": "2022-09-29T18:41:42.264Z"
      },
      {
        "duration": 504,
        "start_time": "2022-09-29T18:47:41.487Z"
      },
      {
        "duration": 39,
        "start_time": "2022-09-29T18:47:41.992Z"
      },
      {
        "duration": 20,
        "start_time": "2022-09-29T18:47:42.032Z"
      },
      {
        "duration": 2354,
        "start_time": "2022-09-29T18:47:42.054Z"
      },
      {
        "duration": 27,
        "start_time": "2022-09-29T18:47:44.410Z"
      },
      {
        "duration": 9,
        "start_time": "2022-09-29T18:47:44.439Z"
      },
      {
        "duration": 90,
        "start_time": "2022-09-29T18:47:44.450Z"
      },
      {
        "duration": 5,
        "start_time": "2022-09-29T18:47:44.542Z"
      },
      {
        "duration": 22,
        "start_time": "2022-09-29T18:47:44.548Z"
      },
      {
        "duration": 5,
        "start_time": "2022-09-29T18:47:44.574Z"
      },
      {
        "duration": 15,
        "start_time": "2022-09-29T18:47:44.581Z"
      },
      {
        "duration": 7,
        "start_time": "2022-09-29T18:47:44.597Z"
      },
      {
        "duration": 7,
        "start_time": "2022-09-29T18:47:44.605Z"
      },
      {
        "duration": 32,
        "start_time": "2022-09-29T18:47:44.614Z"
      },
      {
        "duration": 15,
        "start_time": "2022-09-29T18:47:44.647Z"
      },
      {
        "duration": 11,
        "start_time": "2022-09-29T18:47:44.664Z"
      },
      {
        "duration": 10,
        "start_time": "2022-09-29T18:47:44.677Z"
      },
      {
        "duration": 184,
        "start_time": "2022-09-29T18:47:44.688Z"
      },
      {
        "duration": 6,
        "start_time": "2022-09-29T18:47:44.875Z"
      },
      {
        "duration": 9,
        "start_time": "2022-09-29T18:47:44.883Z"
      },
      {
        "duration": 11,
        "start_time": "2022-09-29T18:47:44.893Z"
      },
      {
        "duration": 12,
        "start_time": "2022-09-29T18:47:44.907Z"
      },
      {
        "duration": 19,
        "start_time": "2022-09-29T18:47:44.921Z"
      },
      {
        "duration": 8,
        "start_time": "2022-09-29T18:47:44.943Z"
      },
      {
        "duration": 372,
        "start_time": "2022-09-29T18:47:44.954Z"
      },
      {
        "duration": 13,
        "start_time": "2022-09-29T18:47:45.328Z"
      },
      {
        "duration": 248,
        "start_time": "2022-09-29T18:47:45.343Z"
      },
      {
        "duration": 204,
        "start_time": "2022-09-29T18:47:45.596Z"
      },
      {
        "duration": 273,
        "start_time": "2022-09-29T18:47:45.802Z"
      },
      {
        "duration": 225,
        "start_time": "2022-09-29T18:47:46.077Z"
      },
      {
        "duration": 189,
        "start_time": "2022-09-29T18:47:46.304Z"
      },
      {
        "duration": 216,
        "start_time": "2022-09-29T18:47:46.496Z"
      },
      {
        "duration": 179,
        "start_time": "2022-09-29T18:47:46.715Z"
      },
      {
        "duration": 189,
        "start_time": "2022-09-29T18:47:46.897Z"
      },
      {
        "duration": 259,
        "start_time": "2022-09-29T18:47:47.088Z"
      },
      {
        "duration": 302,
        "start_time": "2022-09-29T18:47:47.350Z"
      },
      {
        "duration": 207,
        "start_time": "2022-09-29T18:47:47.654Z"
      },
      {
        "duration": 197,
        "start_time": "2022-09-29T18:47:47.864Z"
      },
      {
        "duration": 182,
        "start_time": "2022-09-29T18:47:48.063Z"
      },
      {
        "duration": 274,
        "start_time": "2022-09-29T18:47:48.247Z"
      },
      {
        "duration": 291,
        "start_time": "2022-09-29T18:47:48.523Z"
      },
      {
        "duration": 23,
        "start_time": "2022-09-29T18:47:48.816Z"
      },
      {
        "duration": 169,
        "start_time": "2022-09-29T18:47:48.841Z"
      },
      {
        "duration": 193,
        "start_time": "2022-09-29T18:47:49.012Z"
      },
      {
        "duration": 176,
        "start_time": "2022-09-29T18:47:49.207Z"
      },
      {
        "duration": 182,
        "start_time": "2022-09-29T18:47:49.385Z"
      },
      {
        "duration": 153,
        "start_time": "2022-09-29T18:47:49.569Z"
      },
      {
        "duration": 541,
        "start_time": "2022-09-29T18:47:49.724Z"
      },
      {
        "duration": 124,
        "start_time": "2022-09-29T18:47:50.267Z"
      },
      {
        "duration": 20,
        "start_time": "2022-09-29T18:47:50.393Z"
      },
      {
        "duration": 37,
        "start_time": "2022-09-29T18:47:50.415Z"
      },
      {
        "duration": 187,
        "start_time": "2022-09-29T18:47:50.454Z"
      },
      {
        "duration": 175,
        "start_time": "2022-09-29T18:48:48.376Z"
      },
      {
        "duration": 278,
        "start_time": "2022-09-29T18:49:28.288Z"
      },
      {
        "duration": 0,
        "start_time": "2022-09-29T18:49:51.617Z"
      },
      {
        "duration": 1300,
        "start_time": "2022-09-29T18:49:53.851Z"
      },
      {
        "duration": 1603,
        "start_time": "2022-09-29T18:50:05.131Z"
      },
      {
        "duration": 249,
        "start_time": "2022-09-29T18:50:14.024Z"
      },
      {
        "duration": 824,
        "start_time": "2022-09-29T18:56:01.763Z"
      },
      {
        "duration": 0,
        "start_time": "2022-09-29T18:56:02.589Z"
      },
      {
        "duration": 0,
        "start_time": "2022-09-29T18:56:02.590Z"
      },
      {
        "duration": 195,
        "start_time": "2022-09-29T18:56:09.066Z"
      },
      {
        "duration": 218,
        "start_time": "2022-09-29T18:56:14.229Z"
      },
      {
        "duration": 178,
        "start_time": "2022-09-29T18:56:37.659Z"
      },
      {
        "duration": 185,
        "start_time": "2022-09-29T18:56:43.761Z"
      },
      {
        "duration": 22,
        "start_time": "2022-09-29T18:57:05.480Z"
      },
      {
        "duration": 24,
        "start_time": "2022-09-29T18:57:16.059Z"
      },
      {
        "duration": 22,
        "start_time": "2022-09-29T18:57:19.547Z"
      },
      {
        "duration": 21,
        "start_time": "2022-09-29T18:57:41.386Z"
      },
      {
        "duration": 20,
        "start_time": "2022-09-29T18:57:49.107Z"
      },
      {
        "duration": 186,
        "start_time": "2022-09-29T18:57:52.736Z"
      },
      {
        "duration": 1306,
        "start_time": "2022-09-29T18:57:57.978Z"
      },
      {
        "duration": 1271,
        "start_time": "2022-09-29T18:58:09.410Z"
      },
      {
        "duration": 217,
        "start_time": "2022-09-29T18:58:28.488Z"
      },
      {
        "duration": 214,
        "start_time": "2022-09-29T18:58:44.410Z"
      },
      {
        "duration": 216,
        "start_time": "2022-09-29T18:58:51.625Z"
      },
      {
        "duration": 253,
        "start_time": "2022-09-29T18:58:56.609Z"
      },
      {
        "duration": 223,
        "start_time": "2022-09-29T19:02:47.702Z"
      },
      {
        "duration": 215,
        "start_time": "2022-09-29T19:02:55.015Z"
      },
      {
        "duration": 217,
        "start_time": "2022-09-29T19:03:03.894Z"
      },
      {
        "duration": 269,
        "start_time": "2022-09-29T19:03:10.782Z"
      },
      {
        "duration": 26,
        "start_time": "2022-09-29T19:04:11.550Z"
      },
      {
        "duration": 5,
        "start_time": "2022-09-29T19:05:08.631Z"
      },
      {
        "duration": 5,
        "start_time": "2022-09-29T19:05:58.740Z"
      },
      {
        "duration": 39,
        "start_time": "2022-09-29T19:06:19.735Z"
      },
      {
        "duration": 548,
        "start_time": "2022-09-29T19:06:33.339Z"
      },
      {
        "duration": 38,
        "start_time": "2022-09-29T19:06:33.889Z"
      },
      {
        "duration": 31,
        "start_time": "2022-09-29T19:06:33.928Z"
      },
      {
        "duration": 2330,
        "start_time": "2022-09-29T19:06:33.962Z"
      },
      {
        "duration": 39,
        "start_time": "2022-09-29T19:06:36.294Z"
      },
      {
        "duration": 10,
        "start_time": "2022-09-29T19:06:36.336Z"
      },
      {
        "duration": 101,
        "start_time": "2022-09-29T19:06:36.348Z"
      },
      {
        "duration": 5,
        "start_time": "2022-09-29T19:06:36.450Z"
      },
      {
        "duration": 26,
        "start_time": "2022-09-29T19:06:36.457Z"
      },
      {
        "duration": 24,
        "start_time": "2022-09-29T19:06:36.486Z"
      },
      {
        "duration": 20,
        "start_time": "2022-09-29T19:06:36.512Z"
      },
      {
        "duration": 11,
        "start_time": "2022-09-29T19:06:36.533Z"
      },
      {
        "duration": 17,
        "start_time": "2022-09-29T19:06:36.545Z"
      },
      {
        "duration": 18,
        "start_time": "2022-09-29T19:06:36.563Z"
      },
      {
        "duration": 15,
        "start_time": "2022-09-29T19:06:36.583Z"
      },
      {
        "duration": 14,
        "start_time": "2022-09-29T19:06:36.599Z"
      },
      {
        "duration": 26,
        "start_time": "2022-09-29T19:06:36.615Z"
      },
      {
        "duration": 153,
        "start_time": "2022-09-29T19:06:36.644Z"
      },
      {
        "duration": 6,
        "start_time": "2022-09-29T19:06:36.798Z"
      },
      {
        "duration": 25,
        "start_time": "2022-09-29T19:06:36.806Z"
      },
      {
        "duration": 16,
        "start_time": "2022-09-29T19:06:36.833Z"
      },
      {
        "duration": 23,
        "start_time": "2022-09-29T19:06:36.852Z"
      },
      {
        "duration": 24,
        "start_time": "2022-09-29T19:06:36.877Z"
      },
      {
        "duration": 9,
        "start_time": "2022-09-29T19:06:36.903Z"
      },
      {
        "duration": 396,
        "start_time": "2022-09-29T19:06:36.914Z"
      },
      {
        "duration": 6,
        "start_time": "2022-09-29T19:06:37.313Z"
      },
      {
        "duration": 301,
        "start_time": "2022-09-29T19:06:37.321Z"
      },
      {
        "duration": 222,
        "start_time": "2022-09-29T19:06:37.626Z"
      },
      {
        "duration": 295,
        "start_time": "2022-09-29T19:06:37.850Z"
      },
      {
        "duration": 236,
        "start_time": "2022-09-29T19:06:38.148Z"
      },
      {
        "duration": 201,
        "start_time": "2022-09-29T19:06:38.386Z"
      },
      {
        "duration": 222,
        "start_time": "2022-09-29T19:06:38.589Z"
      },
      {
        "duration": 177,
        "start_time": "2022-09-29T19:06:38.812Z"
      },
      {
        "duration": 147,
        "start_time": "2022-09-29T19:06:38.991Z"
      },
      {
        "duration": 187,
        "start_time": "2022-09-29T19:06:39.140Z"
      },
      {
        "duration": 220,
        "start_time": "2022-09-29T19:06:39.329Z"
      },
      {
        "duration": 213,
        "start_time": "2022-09-29T19:06:39.551Z"
      },
      {
        "duration": 206,
        "start_time": "2022-09-29T19:06:39.766Z"
      },
      {
        "duration": 179,
        "start_time": "2022-09-29T19:06:39.973Z"
      },
      {
        "duration": 272,
        "start_time": "2022-09-29T19:06:40.154Z"
      },
      {
        "duration": 259,
        "start_time": "2022-09-29T19:06:40.427Z"
      },
      {
        "duration": 10,
        "start_time": "2022-09-29T19:06:40.687Z"
      },
      {
        "duration": 187,
        "start_time": "2022-09-29T19:06:40.699Z"
      },
      {
        "duration": 174,
        "start_time": "2022-09-29T19:06:40.887Z"
      },
      {
        "duration": 179,
        "start_time": "2022-09-29T19:06:41.062Z"
      },
      {
        "duration": 173,
        "start_time": "2022-09-29T19:06:41.242Z"
      },
      {
        "duration": 155,
        "start_time": "2022-09-29T19:06:41.417Z"
      },
      {
        "duration": 547,
        "start_time": "2022-09-29T19:06:41.574Z"
      },
      {
        "duration": 128,
        "start_time": "2022-09-29T19:06:42.123Z"
      },
      {
        "duration": 20,
        "start_time": "2022-09-29T19:06:42.253Z"
      },
      {
        "duration": 24,
        "start_time": "2022-09-29T19:06:42.274Z"
      },
      {
        "duration": 214,
        "start_time": "2022-09-29T19:06:42.300Z"
      },
      {
        "duration": 262,
        "start_time": "2022-09-29T19:06:42.516Z"
      },
      {
        "duration": 20,
        "start_time": "2022-09-29T19:08:14.728Z"
      },
      {
        "duration": 19,
        "start_time": "2022-09-29T19:08:38.224Z"
      },
      {
        "duration": 25,
        "start_time": "2022-09-29T19:08:43.311Z"
      },
      {
        "duration": 92493,
        "start_time": "2022-09-29T19:12:10.308Z"
      },
      {
        "duration": 94190,
        "start_time": "2022-09-29T19:13:42.803Z"
      },
      {
        "duration": 1162,
        "start_time": "2022-09-29T19:18:22.640Z"
      },
      {
        "duration": 176,
        "start_time": "2022-09-29T19:18:36.415Z"
      },
      {
        "duration": 187,
        "start_time": "2022-09-29T19:18:49.825Z"
      },
      {
        "duration": 158,
        "start_time": "2022-09-29T19:19:44.500Z"
      },
      {
        "duration": 191,
        "start_time": "2022-09-29T19:19:58.511Z"
      },
      {
        "duration": 175,
        "start_time": "2022-09-29T19:20:07.266Z"
      },
      {
        "duration": 26,
        "start_time": "2022-09-29T19:21:24.710Z"
      },
      {
        "duration": 23,
        "start_time": "2022-09-29T19:21:49.262Z"
      },
      {
        "duration": 24,
        "start_time": "2022-09-29T19:22:14.557Z"
      },
      {
        "duration": 16,
        "start_time": "2022-09-29T19:23:27.059Z"
      },
      {
        "duration": 14,
        "start_time": "2022-09-29T19:23:52.659Z"
      },
      {
        "duration": 6,
        "start_time": "2022-09-29T19:24:09.148Z"
      },
      {
        "duration": 23,
        "start_time": "2022-09-29T19:25:10.280Z"
      },
      {
        "duration": 182,
        "start_time": "2022-09-29T19:25:15.811Z"
      },
      {
        "duration": 194,
        "start_time": "2022-09-29T19:25:23.490Z"
      },
      {
        "duration": 183,
        "start_time": "2022-09-29T19:25:28.103Z"
      },
      {
        "duration": 1315,
        "start_time": "2022-09-29T19:25:53.855Z"
      },
      {
        "duration": 149,
        "start_time": "2022-09-29T19:26:05.831Z"
      },
      {
        "duration": 86293,
        "start_time": "2022-09-29T19:26:41.819Z"
      },
      {
        "duration": 23,
        "start_time": "2022-09-29T19:28:40.310Z"
      },
      {
        "duration": 206,
        "start_time": "2022-09-29T19:28:43.453Z"
      },
      {
        "duration": 155,
        "start_time": "2022-09-29T19:29:01.757Z"
      },
      {
        "duration": 22,
        "start_time": "2022-09-29T19:41:03.226Z"
      },
      {
        "duration": 37,
        "start_time": "2022-09-29T19:42:55.317Z"
      },
      {
        "duration": 21,
        "start_time": "2022-09-29T19:43:36.166Z"
      },
      {
        "duration": 46,
        "start_time": "2022-09-29T19:44:54.857Z"
      },
      {
        "duration": 25,
        "start_time": "2022-09-29T19:45:17.672Z"
      },
      {
        "duration": 28,
        "start_time": "2022-09-29T19:46:55.295Z"
      },
      {
        "duration": 31,
        "start_time": "2022-09-29T19:47:07.622Z"
      },
      {
        "duration": 12,
        "start_time": "2022-09-29T19:47:56.852Z"
      },
      {
        "duration": 7,
        "start_time": "2022-09-29T19:48:38.852Z"
      },
      {
        "duration": 6,
        "start_time": "2022-09-29T19:48:40.788Z"
      },
      {
        "duration": 513,
        "start_time": "2022-09-29T19:48:51.711Z"
      },
      {
        "duration": 41,
        "start_time": "2022-09-29T19:48:52.226Z"
      },
      {
        "duration": 15,
        "start_time": "2022-09-29T19:48:52.268Z"
      },
      {
        "duration": 2318,
        "start_time": "2022-09-29T19:48:52.285Z"
      },
      {
        "duration": 25,
        "start_time": "2022-09-29T19:48:54.605Z"
      },
      {
        "duration": 20,
        "start_time": "2022-09-29T19:48:54.632Z"
      },
      {
        "duration": 74,
        "start_time": "2022-09-29T19:48:54.653Z"
      },
      {
        "duration": 4,
        "start_time": "2022-09-29T19:48:54.729Z"
      },
      {
        "duration": 15,
        "start_time": "2022-09-29T19:48:54.739Z"
      },
      {
        "duration": 9,
        "start_time": "2022-09-29T19:48:54.756Z"
      },
      {
        "duration": 13,
        "start_time": "2022-09-29T19:48:54.767Z"
      },
      {
        "duration": 6,
        "start_time": "2022-09-29T19:48:54.781Z"
      },
      {
        "duration": 11,
        "start_time": "2022-09-29T19:48:54.788Z"
      },
      {
        "duration": 9,
        "start_time": "2022-09-29T19:48:54.801Z"
      },
      {
        "duration": 15,
        "start_time": "2022-09-29T19:48:54.812Z"
      },
      {
        "duration": 22,
        "start_time": "2022-09-29T19:48:54.829Z"
      },
      {
        "duration": 14,
        "start_time": "2022-09-29T19:48:54.852Z"
      },
      {
        "duration": 136,
        "start_time": "2022-09-29T19:48:54.868Z"
      },
      {
        "duration": 5,
        "start_time": "2022-09-29T19:48:55.006Z"
      },
      {
        "duration": 6,
        "start_time": "2022-09-29T19:48:55.013Z"
      },
      {
        "duration": 30,
        "start_time": "2022-09-29T19:48:55.021Z"
      },
      {
        "duration": 10,
        "start_time": "2022-09-29T19:48:55.053Z"
      },
      {
        "duration": 8,
        "start_time": "2022-09-29T19:48:55.064Z"
      },
      {
        "duration": 6,
        "start_time": "2022-09-29T19:48:55.073Z"
      },
      {
        "duration": 340,
        "start_time": "2022-09-29T19:48:55.080Z"
      },
      {
        "duration": 6,
        "start_time": "2022-09-29T19:48:55.422Z"
      },
      {
        "duration": 211,
        "start_time": "2022-09-29T19:48:55.446Z"
      },
      {
        "duration": 200,
        "start_time": "2022-09-29T19:48:55.660Z"
      },
      {
        "duration": 238,
        "start_time": "2022-09-29T19:48:55.861Z"
      },
      {
        "duration": 196,
        "start_time": "2022-09-29T19:48:56.101Z"
      },
      {
        "duration": 185,
        "start_time": "2022-09-29T19:48:56.299Z"
      },
      {
        "duration": 203,
        "start_time": "2022-09-29T19:48:56.485Z"
      },
      {
        "duration": 203,
        "start_time": "2022-09-29T19:48:56.690Z"
      },
      {
        "duration": 161,
        "start_time": "2022-09-29T19:48:56.895Z"
      },
      {
        "duration": 227,
        "start_time": "2022-09-29T19:48:57.058Z"
      },
      {
        "duration": 272,
        "start_time": "2022-09-29T19:48:57.287Z"
      },
      {
        "duration": 198,
        "start_time": "2022-09-29T19:48:57.561Z"
      },
      {
        "duration": 201,
        "start_time": "2022-09-29T19:48:57.761Z"
      },
      {
        "duration": 186,
        "start_time": "2022-09-29T19:48:57.964Z"
      },
      {
        "duration": 271,
        "start_time": "2022-09-29T19:48:58.153Z"
      },
      {
        "duration": 300,
        "start_time": "2022-09-29T19:48:58.426Z"
      },
      {
        "duration": 26,
        "start_time": "2022-09-29T19:48:58.728Z"
      },
      {
        "duration": 175,
        "start_time": "2022-09-29T19:48:58.756Z"
      },
      {
        "duration": 186,
        "start_time": "2022-09-29T19:48:58.932Z"
      },
      {
        "duration": 169,
        "start_time": "2022-09-29T19:48:59.119Z"
      },
      {
        "duration": 179,
        "start_time": "2022-09-29T19:48:59.290Z"
      },
      {
        "duration": 159,
        "start_time": "2022-09-29T19:48:59.471Z"
      },
      {
        "duration": 544,
        "start_time": "2022-09-29T19:48:59.632Z"
      },
      {
        "duration": 129,
        "start_time": "2022-09-29T19:49:00.177Z"
      },
      {
        "duration": 35,
        "start_time": "2022-09-29T19:49:00.308Z"
      },
      {
        "duration": 36,
        "start_time": "2022-09-29T19:49:00.344Z"
      },
      {
        "duration": 39,
        "start_time": "2022-09-29T19:49:00.382Z"
      },
      {
        "duration": 25,
        "start_time": "2022-09-29T19:49:15.202Z"
      },
      {
        "duration": 52,
        "start_time": "2022-09-29T19:49:23.302Z"
      },
      {
        "duration": 288,
        "start_time": "2022-09-29T19:49:55.424Z"
      },
      {
        "duration": 20,
        "start_time": "2022-09-29T19:50:36.132Z"
      },
      {
        "duration": 27,
        "start_time": "2022-09-29T19:50:49.762Z"
      },
      {
        "duration": 21,
        "start_time": "2022-09-29T19:50:51.576Z"
      },
      {
        "duration": 21,
        "start_time": "2022-09-29T19:50:53.409Z"
      },
      {
        "duration": 277,
        "start_time": "2022-09-29T19:50:55.340Z"
      },
      {
        "duration": 277,
        "start_time": "2022-09-29T19:51:04.649Z"
      },
      {
        "duration": 283,
        "start_time": "2022-09-29T19:51:15.712Z"
      },
      {
        "duration": 502,
        "start_time": "2022-09-29T21:10:59.285Z"
      },
      {
        "duration": 32,
        "start_time": "2022-09-29T21:10:59.789Z"
      },
      {
        "duration": 14,
        "start_time": "2022-09-29T21:10:59.823Z"
      },
      {
        "duration": 1985,
        "start_time": "2022-09-29T21:10:59.839Z"
      },
      {
        "duration": 26,
        "start_time": "2022-09-29T21:11:01.827Z"
      },
      {
        "duration": 11,
        "start_time": "2022-09-29T21:11:01.855Z"
      },
      {
        "duration": 86,
        "start_time": "2022-09-29T21:11:01.868Z"
      },
      {
        "duration": 4,
        "start_time": "2022-09-29T21:11:01.956Z"
      },
      {
        "duration": 16,
        "start_time": "2022-09-29T21:11:01.962Z"
      },
      {
        "duration": 27,
        "start_time": "2022-09-29T21:11:01.980Z"
      },
      {
        "duration": 42,
        "start_time": "2022-09-29T21:11:02.009Z"
      },
      {
        "duration": 6,
        "start_time": "2022-09-29T21:11:02.052Z"
      },
      {
        "duration": 15,
        "start_time": "2022-09-29T21:11:02.060Z"
      },
      {
        "duration": 23,
        "start_time": "2022-09-29T21:11:02.076Z"
      },
      {
        "duration": 30,
        "start_time": "2022-09-29T21:11:02.101Z"
      },
      {
        "duration": 30,
        "start_time": "2022-09-29T21:11:02.132Z"
      },
      {
        "duration": 13,
        "start_time": "2022-09-29T21:11:02.163Z"
      },
      {
        "duration": 152,
        "start_time": "2022-09-29T21:11:02.177Z"
      },
      {
        "duration": 4,
        "start_time": "2022-09-29T21:11:02.330Z"
      },
      {
        "duration": 35,
        "start_time": "2022-09-29T21:11:02.335Z"
      },
      {
        "duration": 11,
        "start_time": "2022-09-29T21:11:02.371Z"
      },
      {
        "duration": 22,
        "start_time": "2022-09-29T21:11:02.383Z"
      },
      {
        "duration": 10,
        "start_time": "2022-09-29T21:11:02.407Z"
      },
      {
        "duration": 7,
        "start_time": "2022-09-29T21:11:02.418Z"
      },
      {
        "duration": 383,
        "start_time": "2022-09-29T21:11:02.427Z"
      },
      {
        "duration": 5,
        "start_time": "2022-09-29T21:11:02.812Z"
      },
      {
        "duration": 190,
        "start_time": "2022-09-29T21:11:02.819Z"
      },
      {
        "duration": 178,
        "start_time": "2022-09-29T21:11:03.012Z"
      },
      {
        "duration": 214,
        "start_time": "2022-09-29T21:11:03.191Z"
      },
      {
        "duration": 155,
        "start_time": "2022-09-29T21:11:03.409Z"
      },
      {
        "duration": 156,
        "start_time": "2022-09-29T21:11:03.566Z"
      },
      {
        "duration": 173,
        "start_time": "2022-09-29T21:11:03.724Z"
      },
      {
        "duration": 156,
        "start_time": "2022-09-29T21:11:03.899Z"
      },
      {
        "duration": 146,
        "start_time": "2022-09-29T21:11:04.056Z"
      },
      {
        "duration": 163,
        "start_time": "2022-09-29T21:11:04.208Z"
      },
      {
        "duration": 189,
        "start_time": "2022-09-29T21:11:04.372Z"
      },
      {
        "duration": 177,
        "start_time": "2022-09-29T21:11:04.563Z"
      },
      {
        "duration": 182,
        "start_time": "2022-09-29T21:11:04.741Z"
      },
      {
        "duration": 157,
        "start_time": "2022-09-29T21:11:04.925Z"
      },
      {
        "duration": 222,
        "start_time": "2022-09-29T21:11:05.084Z"
      },
      {
        "duration": 209,
        "start_time": "2022-09-29T21:11:05.308Z"
      },
      {
        "duration": 9,
        "start_time": "2022-09-29T21:11:05.518Z"
      },
      {
        "duration": 160,
        "start_time": "2022-09-29T21:11:05.528Z"
      },
      {
        "duration": 162,
        "start_time": "2022-09-29T21:11:05.689Z"
      },
      {
        "duration": 159,
        "start_time": "2022-09-29T21:11:05.853Z"
      },
      {
        "duration": 176,
        "start_time": "2022-09-29T21:11:06.014Z"
      },
      {
        "duration": 138,
        "start_time": "2022-09-29T21:11:06.191Z"
      },
      {
        "duration": 460,
        "start_time": "2022-09-29T21:11:06.330Z"
      },
      {
        "duration": 102,
        "start_time": "2022-09-29T21:11:06.792Z"
      },
      {
        "duration": 25,
        "start_time": "2022-09-29T21:11:06.896Z"
      },
      {
        "duration": 18,
        "start_time": "2022-09-29T21:11:06.923Z"
      },
      {
        "duration": 275,
        "start_time": "2022-09-29T21:11:06.942Z"
      },
      {
        "duration": 14,
        "start_time": "2022-09-29T21:13:37.712Z"
      },
      {
        "duration": 6,
        "start_time": "2022-09-29T21:13:52.712Z"
      },
      {
        "duration": 60,
        "start_time": "2022-09-30T12:45:14.553Z"
      },
      {
        "duration": 746,
        "start_time": "2022-09-30T12:45:24.082Z"
      },
      {
        "duration": 33,
        "start_time": "2022-09-30T12:45:24.830Z"
      },
      {
        "duration": 13,
        "start_time": "2022-09-30T12:45:24.864Z"
      },
      {
        "duration": 2212,
        "start_time": "2022-09-30T12:45:24.879Z"
      },
      {
        "duration": 24,
        "start_time": "2022-09-30T12:45:27.093Z"
      },
      {
        "duration": 8,
        "start_time": "2022-09-30T12:45:27.118Z"
      },
      {
        "duration": 73,
        "start_time": "2022-09-30T12:45:27.128Z"
      },
      {
        "duration": 4,
        "start_time": "2022-09-30T12:45:27.203Z"
      },
      {
        "duration": 16,
        "start_time": "2022-09-30T12:45:27.209Z"
      },
      {
        "duration": 14,
        "start_time": "2022-09-30T12:45:27.228Z"
      },
      {
        "duration": 12,
        "start_time": "2022-09-30T12:45:27.244Z"
      },
      {
        "duration": 6,
        "start_time": "2022-09-30T12:45:27.258Z"
      },
      {
        "duration": 7,
        "start_time": "2022-09-30T12:45:27.265Z"
      },
      {
        "duration": 15,
        "start_time": "2022-09-30T12:45:27.273Z"
      },
      {
        "duration": 15,
        "start_time": "2022-09-30T12:45:27.289Z"
      },
      {
        "duration": 7,
        "start_time": "2022-09-30T12:45:27.305Z"
      },
      {
        "duration": 9,
        "start_time": "2022-09-30T12:45:27.314Z"
      },
      {
        "duration": 130,
        "start_time": "2022-09-30T12:45:27.325Z"
      },
      {
        "duration": 5,
        "start_time": "2022-09-30T12:45:27.457Z"
      },
      {
        "duration": 6,
        "start_time": "2022-09-30T12:45:27.464Z"
      },
      {
        "duration": 102,
        "start_time": "2022-09-30T12:45:27.471Z"
      },
      {
        "duration": 74,
        "start_time": "2022-09-30T12:45:27.575Z"
      },
      {
        "duration": 0,
        "start_time": "2022-09-30T12:45:27.653Z"
      },
      {
        "duration": 0,
        "start_time": "2022-09-30T12:45:27.655Z"
      },
      {
        "duration": 0,
        "start_time": "2022-09-30T12:45:27.656Z"
      },
      {
        "duration": 0,
        "start_time": "2022-09-30T12:45:27.657Z"
      },
      {
        "duration": 0,
        "start_time": "2022-09-30T12:45:27.658Z"
      },
      {
        "duration": 0,
        "start_time": "2022-09-30T12:45:27.660Z"
      },
      {
        "duration": 0,
        "start_time": "2022-09-30T12:45:27.661Z"
      },
      {
        "duration": 0,
        "start_time": "2022-09-30T12:45:27.662Z"
      },
      {
        "duration": 0,
        "start_time": "2022-09-30T12:45:27.663Z"
      },
      {
        "duration": 0,
        "start_time": "2022-09-30T12:45:27.664Z"
      },
      {
        "duration": 0,
        "start_time": "2022-09-30T12:45:27.666Z"
      },
      {
        "duration": 0,
        "start_time": "2022-09-30T12:45:27.667Z"
      },
      {
        "duration": 0,
        "start_time": "2022-09-30T12:45:27.668Z"
      },
      {
        "duration": 0,
        "start_time": "2022-09-30T12:45:27.700Z"
      },
      {
        "duration": 0,
        "start_time": "2022-09-30T12:45:27.701Z"
      },
      {
        "duration": 0,
        "start_time": "2022-09-30T12:45:27.703Z"
      },
      {
        "duration": 0,
        "start_time": "2022-09-30T12:45:27.703Z"
      },
      {
        "duration": 0,
        "start_time": "2022-09-30T12:45:27.704Z"
      },
      {
        "duration": 0,
        "start_time": "2022-09-30T12:45:27.705Z"
      },
      {
        "duration": 0,
        "start_time": "2022-09-30T12:45:27.706Z"
      },
      {
        "duration": 0,
        "start_time": "2022-09-30T12:45:27.707Z"
      },
      {
        "duration": 0,
        "start_time": "2022-09-30T12:45:27.709Z"
      },
      {
        "duration": 0,
        "start_time": "2022-09-30T12:45:27.709Z"
      },
      {
        "duration": 0,
        "start_time": "2022-09-30T12:45:27.711Z"
      },
      {
        "duration": 0,
        "start_time": "2022-09-30T12:45:27.712Z"
      },
      {
        "duration": 0,
        "start_time": "2022-09-30T12:45:27.713Z"
      },
      {
        "duration": 0,
        "start_time": "2022-09-30T12:45:27.714Z"
      },
      {
        "duration": 0,
        "start_time": "2022-09-30T12:45:27.715Z"
      },
      {
        "duration": 0,
        "start_time": "2022-09-30T12:45:27.716Z"
      },
      {
        "duration": 0,
        "start_time": "2022-09-30T12:45:27.717Z"
      },
      {
        "duration": 0,
        "start_time": "2022-09-30T12:45:27.718Z"
      },
      {
        "duration": 12,
        "start_time": "2022-09-30T12:46:03.750Z"
      },
      {
        "duration": 15,
        "start_time": "2022-09-30T12:46:04.529Z"
      },
      {
        "duration": 481,
        "start_time": "2022-09-30T12:46:21.167Z"
      },
      {
        "duration": 39,
        "start_time": "2022-09-30T12:46:21.649Z"
      },
      {
        "duration": 20,
        "start_time": "2022-09-30T12:46:21.689Z"
      },
      {
        "duration": 1932,
        "start_time": "2022-09-30T12:46:21.711Z"
      },
      {
        "duration": 22,
        "start_time": "2022-09-30T12:46:23.644Z"
      },
      {
        "duration": 8,
        "start_time": "2022-09-30T12:46:23.667Z"
      },
      {
        "duration": 77,
        "start_time": "2022-09-30T12:46:23.677Z"
      },
      {
        "duration": 3,
        "start_time": "2022-09-30T12:46:23.755Z"
      },
      {
        "duration": 9,
        "start_time": "2022-09-30T12:46:23.760Z"
      },
      {
        "duration": 5,
        "start_time": "2022-09-30T12:46:23.771Z"
      },
      {
        "duration": 23,
        "start_time": "2022-09-30T12:46:23.778Z"
      },
      {
        "duration": 5,
        "start_time": "2022-09-30T12:46:23.803Z"
      },
      {
        "duration": 4,
        "start_time": "2022-09-30T12:46:23.810Z"
      },
      {
        "duration": 7,
        "start_time": "2022-09-30T12:46:23.816Z"
      },
      {
        "duration": 8,
        "start_time": "2022-09-30T12:46:23.824Z"
      },
      {
        "duration": 8,
        "start_time": "2022-09-30T12:46:23.834Z"
      },
      {
        "duration": 8,
        "start_time": "2022-09-30T12:46:23.844Z"
      },
      {
        "duration": 143,
        "start_time": "2022-09-30T12:46:23.854Z"
      },
      {
        "duration": 4,
        "start_time": "2022-09-30T12:46:24.000Z"
      },
      {
        "duration": 7,
        "start_time": "2022-09-30T12:46:24.005Z"
      },
      {
        "duration": 5,
        "start_time": "2022-09-30T12:46:24.013Z"
      },
      {
        "duration": 5,
        "start_time": "2022-09-30T12:46:24.020Z"
      },
      {
        "duration": 6,
        "start_time": "2022-09-30T12:46:24.027Z"
      },
      {
        "duration": 4,
        "start_time": "2022-09-30T12:46:24.035Z"
      },
      {
        "duration": 317,
        "start_time": "2022-09-30T12:46:24.041Z"
      },
      {
        "duration": 5,
        "start_time": "2022-09-30T12:46:24.360Z"
      },
      {
        "duration": 273,
        "start_time": "2022-09-30T12:46:24.367Z"
      },
      {
        "duration": 367,
        "start_time": "2022-09-30T12:46:24.643Z"
      },
      {
        "duration": 424,
        "start_time": "2022-09-30T12:46:25.011Z"
      },
      {
        "duration": 368,
        "start_time": "2022-09-30T12:46:25.438Z"
      },
      {
        "duration": 236,
        "start_time": "2022-09-30T12:46:25.807Z"
      },
      {
        "duration": 165,
        "start_time": "2022-09-30T12:46:26.100Z"
      },
      {
        "duration": 151,
        "start_time": "2022-09-30T12:46:26.267Z"
      },
      {
        "duration": 123,
        "start_time": "2022-09-30T12:46:26.420Z"
      },
      {
        "duration": 162,
        "start_time": "2022-09-30T12:46:26.544Z"
      },
      {
        "duration": 181,
        "start_time": "2022-09-30T12:46:26.707Z"
      },
      {
        "duration": 160,
        "start_time": "2022-09-30T12:46:26.889Z"
      },
      {
        "duration": 168,
        "start_time": "2022-09-30T12:46:27.051Z"
      },
      {
        "duration": 145,
        "start_time": "2022-09-30T12:46:27.220Z"
      },
      {
        "duration": 225,
        "start_time": "2022-09-30T12:46:27.366Z"
      },
      {
        "duration": 222,
        "start_time": "2022-09-30T12:46:27.593Z"
      },
      {
        "duration": 9,
        "start_time": "2022-09-30T12:46:27.816Z"
      },
      {
        "duration": 158,
        "start_time": "2022-09-30T12:46:27.827Z"
      },
      {
        "duration": 159,
        "start_time": "2022-09-30T12:46:27.987Z"
      },
      {
        "duration": 140,
        "start_time": "2022-09-30T12:46:28.148Z"
      },
      {
        "duration": 144,
        "start_time": "2022-09-30T12:46:28.290Z"
      },
      {
        "duration": 126,
        "start_time": "2022-09-30T12:46:28.435Z"
      },
      {
        "duration": 420,
        "start_time": "2022-09-30T12:46:28.563Z"
      },
      {
        "duration": 108,
        "start_time": "2022-09-30T12:46:28.984Z"
      },
      {
        "duration": 19,
        "start_time": "2022-09-30T12:46:29.094Z"
      },
      {
        "duration": 16,
        "start_time": "2022-09-30T12:46:29.114Z"
      },
      {
        "duration": 263,
        "start_time": "2022-09-30T12:46:29.132Z"
      },
      {
        "duration": 6,
        "start_time": "2022-09-30T12:46:31.763Z"
      },
      {
        "duration": 5,
        "start_time": "2022-09-30T12:46:33.527Z"
      },
      {
        "duration": 102,
        "start_time": "2022-09-30T12:46:50.574Z"
      },
      {
        "duration": 88,
        "start_time": "2022-09-30T12:46:54.123Z"
      },
      {
        "duration": 103,
        "start_time": "2022-09-30T12:47:21.838Z"
      },
      {
        "duration": 13,
        "start_time": "2022-09-30T12:47:23.922Z"
      },
      {
        "duration": 6,
        "start_time": "2022-09-30T12:47:41.947Z"
      },
      {
        "duration": 5,
        "start_time": "2022-09-30T12:47:43.226Z"
      },
      {
        "duration": 7,
        "start_time": "2022-09-30T12:47:44.468Z"
      },
      {
        "duration": 6,
        "start_time": "2022-09-30T12:47:46.420Z"
      },
      {
        "duration": 107,
        "start_time": "2022-09-30T12:48:41.851Z"
      },
      {
        "duration": 13,
        "start_time": "2022-09-30T12:48:44.348Z"
      },
      {
        "duration": 93,
        "start_time": "2022-09-30T12:49:21.422Z"
      },
      {
        "duration": 12,
        "start_time": "2022-09-30T12:49:23.347Z"
      },
      {
        "duration": 6,
        "start_time": "2022-09-30T12:49:25.414Z"
      },
      {
        "duration": 5,
        "start_time": "2022-09-30T12:49:26.422Z"
      },
      {
        "duration": 6,
        "start_time": "2022-09-30T12:49:27.112Z"
      },
      {
        "duration": 13,
        "start_time": "2022-09-30T12:49:58.362Z"
      },
      {
        "duration": 13,
        "start_time": "2022-09-30T12:49:59.103Z"
      },
      {
        "duration": 434,
        "start_time": "2022-09-30T12:50:06.353Z"
      },
      {
        "duration": 33,
        "start_time": "2022-09-30T12:50:06.789Z"
      },
      {
        "duration": 13,
        "start_time": "2022-09-30T12:50:06.824Z"
      },
      {
        "duration": 1961,
        "start_time": "2022-09-30T12:50:06.838Z"
      },
      {
        "duration": 23,
        "start_time": "2022-09-30T12:50:08.801Z"
      },
      {
        "duration": 8,
        "start_time": "2022-09-30T12:50:08.826Z"
      },
      {
        "duration": 89,
        "start_time": "2022-09-30T12:50:08.836Z"
      },
      {
        "duration": 4,
        "start_time": "2022-09-30T12:50:08.926Z"
      },
      {
        "duration": 9,
        "start_time": "2022-09-30T12:50:08.931Z"
      },
      {
        "duration": 5,
        "start_time": "2022-09-30T12:50:08.943Z"
      },
      {
        "duration": 11,
        "start_time": "2022-09-30T12:50:08.949Z"
      },
      {
        "duration": 5,
        "start_time": "2022-09-30T12:50:08.961Z"
      },
      {
        "duration": 8,
        "start_time": "2022-09-30T12:50:08.967Z"
      },
      {
        "duration": 11,
        "start_time": "2022-09-30T12:50:08.976Z"
      },
      {
        "duration": 20,
        "start_time": "2022-09-30T12:50:08.988Z"
      },
      {
        "duration": 9,
        "start_time": "2022-09-30T12:50:09.010Z"
      },
      {
        "duration": 13,
        "start_time": "2022-09-30T12:50:09.021Z"
      },
      {
        "duration": 128,
        "start_time": "2022-09-30T12:50:09.036Z"
      },
      {
        "duration": 5,
        "start_time": "2022-09-30T12:50:09.166Z"
      },
      {
        "duration": 6,
        "start_time": "2022-09-30T12:50:09.172Z"
      },
      {
        "duration": 21,
        "start_time": "2022-09-30T12:50:09.179Z"
      },
      {
        "duration": 6,
        "start_time": "2022-09-30T12:50:09.202Z"
      },
      {
        "duration": 6,
        "start_time": "2022-09-30T12:50:09.209Z"
      },
      {
        "duration": 7,
        "start_time": "2022-09-30T12:50:09.216Z"
      },
      {
        "duration": 308,
        "start_time": "2022-09-30T12:50:09.225Z"
      },
      {
        "duration": 6,
        "start_time": "2022-09-30T12:50:09.534Z"
      },
      {
        "duration": 187,
        "start_time": "2022-09-30T12:50:09.542Z"
      },
      {
        "duration": 173,
        "start_time": "2022-09-30T12:50:09.731Z"
      },
      {
        "duration": 236,
        "start_time": "2022-09-30T12:50:09.906Z"
      },
      {
        "duration": 157,
        "start_time": "2022-09-30T12:50:10.143Z"
      },
      {
        "duration": 132,
        "start_time": "2022-09-30T12:50:10.301Z"
      },
      {
        "duration": 153,
        "start_time": "2022-09-30T12:50:10.434Z"
      },
      {
        "duration": 151,
        "start_time": "2022-09-30T12:50:10.588Z"
      },
      {
        "duration": 118,
        "start_time": "2022-09-30T12:50:10.741Z"
      },
      {
        "duration": 165,
        "start_time": "2022-09-30T12:50:10.860Z"
      },
      {
        "duration": 189,
        "start_time": "2022-09-30T12:50:11.026Z"
      },
      {
        "duration": 169,
        "start_time": "2022-09-30T12:50:11.217Z"
      },
      {
        "duration": 176,
        "start_time": "2022-09-30T12:50:11.388Z"
      },
      {
        "duration": 167,
        "start_time": "2022-09-30T12:50:11.566Z"
      },
      {
        "duration": 226,
        "start_time": "2022-09-30T12:50:11.735Z"
      },
      {
        "duration": 234,
        "start_time": "2022-09-30T12:50:11.962Z"
      },
      {
        "duration": 8,
        "start_time": "2022-09-30T12:50:12.200Z"
      },
      {
        "duration": 136,
        "start_time": "2022-09-30T12:50:12.210Z"
      },
      {
        "duration": 145,
        "start_time": "2022-09-30T12:50:12.348Z"
      },
      {
        "duration": 132,
        "start_time": "2022-09-30T12:50:12.499Z"
      },
      {
        "duration": 147,
        "start_time": "2022-09-30T12:50:12.632Z"
      },
      {
        "duration": 130,
        "start_time": "2022-09-30T12:50:12.781Z"
      },
      {
        "duration": 449,
        "start_time": "2022-09-30T12:50:12.913Z"
      },
      {
        "duration": 121,
        "start_time": "2022-09-30T12:50:13.364Z"
      },
      {
        "duration": 29,
        "start_time": "2022-09-30T12:50:13.487Z"
      },
      {
        "duration": 29,
        "start_time": "2022-09-30T12:50:13.517Z"
      },
      {
        "duration": 287,
        "start_time": "2022-09-30T12:50:13.548Z"
      },
      {
        "duration": 6,
        "start_time": "2022-09-30T12:50:21.416Z"
      },
      {
        "duration": 5,
        "start_time": "2022-09-30T12:50:23.111Z"
      },
      {
        "duration": 5,
        "start_time": "2022-09-30T12:50:24.230Z"
      },
      {
        "duration": 6,
        "start_time": "2022-09-30T12:50:25.069Z"
      },
      {
        "duration": 94,
        "start_time": "2022-09-30T12:51:13.270Z"
      },
      {
        "duration": 140,
        "start_time": "2022-09-30T12:51:51.008Z"
      },
      {
        "duration": 91,
        "start_time": "2022-09-30T12:51:56.773Z"
      },
      {
        "duration": 120,
        "start_time": "2022-09-30T12:52:30.112Z"
      },
      {
        "duration": 102,
        "start_time": "2022-09-30T12:52:42.649Z"
      },
      {
        "duration": 29,
        "start_time": "2022-09-30T12:52:54.304Z"
      },
      {
        "duration": 4,
        "start_time": "2022-09-30T12:53:23.619Z"
      },
      {
        "duration": 32,
        "start_time": "2022-09-30T12:53:25.452Z"
      },
      {
        "duration": 479,
        "start_time": "2022-09-30T12:53:32.803Z"
      },
      {
        "duration": 36,
        "start_time": "2022-09-30T12:53:33.283Z"
      },
      {
        "duration": 15,
        "start_time": "2022-09-30T12:53:33.320Z"
      },
      {
        "duration": 2084,
        "start_time": "2022-09-30T12:53:33.336Z"
      },
      {
        "duration": 27,
        "start_time": "2022-09-30T12:53:35.422Z"
      },
      {
        "duration": 9,
        "start_time": "2022-09-30T12:53:35.451Z"
      },
      {
        "duration": 68,
        "start_time": "2022-09-30T12:53:35.461Z"
      },
      {
        "duration": 4,
        "start_time": "2022-09-30T12:53:35.530Z"
      },
      {
        "duration": 12,
        "start_time": "2022-09-30T12:53:35.535Z"
      },
      {
        "duration": 7,
        "start_time": "2022-09-30T12:53:35.549Z"
      },
      {
        "duration": 18,
        "start_time": "2022-09-30T12:53:35.558Z"
      },
      {
        "duration": 10,
        "start_time": "2022-09-30T12:53:35.578Z"
      },
      {
        "duration": 6,
        "start_time": "2022-09-30T12:53:35.589Z"
      },
      {
        "duration": 9,
        "start_time": "2022-09-30T12:53:35.597Z"
      },
      {
        "duration": 9,
        "start_time": "2022-09-30T12:53:35.608Z"
      },
      {
        "duration": 7,
        "start_time": "2022-09-30T12:53:35.619Z"
      },
      {
        "duration": 8,
        "start_time": "2022-09-30T12:53:35.628Z"
      },
      {
        "duration": 120,
        "start_time": "2022-09-30T12:53:35.637Z"
      },
      {
        "duration": 4,
        "start_time": "2022-09-30T12:53:35.759Z"
      },
      {
        "duration": 7,
        "start_time": "2022-09-30T12:53:35.765Z"
      },
      {
        "duration": 49,
        "start_time": "2022-09-30T12:53:35.773Z"
      },
      {
        "duration": 4,
        "start_time": "2022-09-30T12:53:35.824Z"
      },
      {
        "duration": 6,
        "start_time": "2022-09-30T12:53:35.830Z"
      },
      {
        "duration": 5,
        "start_time": "2022-09-30T12:53:35.838Z"
      },
      {
        "duration": 8,
        "start_time": "2022-09-30T12:53:35.844Z"
      },
      {
        "duration": 301,
        "start_time": "2022-09-30T12:53:35.854Z"
      },
      {
        "duration": 6,
        "start_time": "2022-09-30T12:53:36.156Z"
      },
      {
        "duration": 185,
        "start_time": "2022-09-30T12:53:36.163Z"
      },
      {
        "duration": 177,
        "start_time": "2022-09-30T12:53:36.350Z"
      },
      {
        "duration": 232,
        "start_time": "2022-09-30T12:53:36.529Z"
      },
      {
        "duration": 165,
        "start_time": "2022-09-30T12:53:36.762Z"
      },
      {
        "duration": 147,
        "start_time": "2022-09-30T12:53:36.929Z"
      },
      {
        "duration": 153,
        "start_time": "2022-09-30T12:53:37.078Z"
      },
      {
        "duration": 156,
        "start_time": "2022-09-30T12:53:37.233Z"
      },
      {
        "duration": 142,
        "start_time": "2022-09-30T12:53:37.391Z"
      },
      {
        "duration": 168,
        "start_time": "2022-09-30T12:53:37.535Z"
      },
      {
        "duration": 188,
        "start_time": "2022-09-30T12:53:37.705Z"
      },
      {
        "duration": 170,
        "start_time": "2022-09-30T12:53:37.894Z"
      },
      {
        "duration": 168,
        "start_time": "2022-09-30T12:53:38.066Z"
      },
      {
        "duration": 148,
        "start_time": "2022-09-30T12:53:38.235Z"
      },
      {
        "duration": 230,
        "start_time": "2022-09-30T12:53:38.386Z"
      },
      {
        "duration": 237,
        "start_time": "2022-09-30T12:53:38.618Z"
      },
      {
        "duration": 9,
        "start_time": "2022-09-30T12:53:38.857Z"
      },
      {
        "duration": 153,
        "start_time": "2022-09-30T12:53:38.868Z"
      },
      {
        "duration": 170,
        "start_time": "2022-09-30T12:53:39.023Z"
      },
      {
        "duration": 134,
        "start_time": "2022-09-30T12:53:39.200Z"
      },
      {
        "duration": 147,
        "start_time": "2022-09-30T12:53:39.336Z"
      },
      {
        "duration": 127,
        "start_time": "2022-09-30T12:53:39.484Z"
      },
      {
        "duration": 453,
        "start_time": "2022-09-30T12:53:39.613Z"
      },
      {
        "duration": 116,
        "start_time": "2022-09-30T12:53:40.068Z"
      },
      {
        "duration": 28,
        "start_time": "2022-09-30T12:53:40.186Z"
      },
      {
        "duration": 19,
        "start_time": "2022-09-30T12:53:40.216Z"
      },
      {
        "duration": 287,
        "start_time": "2022-09-30T12:53:40.236Z"
      },
      {
        "duration": 111,
        "start_time": "2022-09-30T12:57:02.750Z"
      },
      {
        "duration": 482,
        "start_time": "2022-09-30T12:57:13.725Z"
      },
      {
        "duration": 50,
        "start_time": "2022-09-30T12:57:14.210Z"
      },
      {
        "duration": 18,
        "start_time": "2022-09-30T12:57:14.262Z"
      },
      {
        "duration": 2069,
        "start_time": "2022-09-30T12:57:14.282Z"
      },
      {
        "duration": 48,
        "start_time": "2022-09-30T12:57:16.353Z"
      },
      {
        "duration": 8,
        "start_time": "2022-09-30T12:57:16.403Z"
      },
      {
        "duration": 120,
        "start_time": "2022-09-30T12:57:16.412Z"
      },
      {
        "duration": 4,
        "start_time": "2022-09-30T12:57:16.533Z"
      },
      {
        "duration": 63,
        "start_time": "2022-09-30T12:57:16.538Z"
      },
      {
        "duration": 10,
        "start_time": "2022-09-30T12:57:16.603Z"
      },
      {
        "duration": 15,
        "start_time": "2022-09-30T12:57:16.614Z"
      },
      {
        "duration": 6,
        "start_time": "2022-09-30T12:57:16.631Z"
      },
      {
        "duration": 6,
        "start_time": "2022-09-30T12:57:16.638Z"
      },
      {
        "duration": 9,
        "start_time": "2022-09-30T12:57:16.646Z"
      },
      {
        "duration": 45,
        "start_time": "2022-09-30T12:57:16.656Z"
      },
      {
        "duration": 14,
        "start_time": "2022-09-30T12:57:16.702Z"
      },
      {
        "duration": 8,
        "start_time": "2022-09-30T12:57:16.718Z"
      },
      {
        "duration": 281,
        "start_time": "2022-09-30T12:57:16.727Z"
      },
      {
        "duration": 5,
        "start_time": "2022-09-30T12:57:17.010Z"
      },
      {
        "duration": 22,
        "start_time": "2022-09-30T12:57:17.016Z"
      },
      {
        "duration": 191,
        "start_time": "2022-09-30T12:57:17.039Z"
      },
      {
        "duration": 173,
        "start_time": "2022-09-30T12:57:17.231Z"
      },
      {
        "duration": 0,
        "start_time": "2022-09-30T12:57:17.406Z"
      },
      {
        "duration": 0,
        "start_time": "2022-09-30T12:57:17.408Z"
      },
      {
        "duration": 0,
        "start_time": "2022-09-30T12:57:17.409Z"
      },
      {
        "duration": 0,
        "start_time": "2022-09-30T12:57:17.410Z"
      },
      {
        "duration": 0,
        "start_time": "2022-09-30T12:57:17.412Z"
      },
      {
        "duration": 1,
        "start_time": "2022-09-30T12:57:17.412Z"
      },
      {
        "duration": 0,
        "start_time": "2022-09-30T12:57:17.414Z"
      },
      {
        "duration": 0,
        "start_time": "2022-09-30T12:57:17.415Z"
      },
      {
        "duration": 0,
        "start_time": "2022-09-30T12:57:17.416Z"
      },
      {
        "duration": 0,
        "start_time": "2022-09-30T12:57:17.433Z"
      },
      {
        "duration": 0,
        "start_time": "2022-09-30T12:57:17.435Z"
      },
      {
        "duration": 0,
        "start_time": "2022-09-30T12:57:17.437Z"
      },
      {
        "duration": 0,
        "start_time": "2022-09-30T12:57:17.438Z"
      },
      {
        "duration": 0,
        "start_time": "2022-09-30T12:57:17.439Z"
      },
      {
        "duration": 0,
        "start_time": "2022-09-30T12:57:17.440Z"
      },
      {
        "duration": 0,
        "start_time": "2022-09-30T12:57:17.442Z"
      },
      {
        "duration": 0,
        "start_time": "2022-09-30T12:57:17.443Z"
      },
      {
        "duration": 0,
        "start_time": "2022-09-30T12:57:17.444Z"
      },
      {
        "duration": 0,
        "start_time": "2022-09-30T12:57:17.445Z"
      },
      {
        "duration": 0,
        "start_time": "2022-09-30T12:57:17.446Z"
      },
      {
        "duration": 0,
        "start_time": "2022-09-30T12:57:17.447Z"
      },
      {
        "duration": 0,
        "start_time": "2022-09-30T12:57:17.448Z"
      },
      {
        "duration": 0,
        "start_time": "2022-09-30T12:57:17.449Z"
      },
      {
        "duration": 0,
        "start_time": "2022-09-30T12:57:17.501Z"
      },
      {
        "duration": 0,
        "start_time": "2022-09-30T12:57:17.502Z"
      },
      {
        "duration": 0,
        "start_time": "2022-09-30T12:57:17.503Z"
      },
      {
        "duration": 0,
        "start_time": "2022-09-30T12:57:17.504Z"
      },
      {
        "duration": 0,
        "start_time": "2022-09-30T12:57:17.505Z"
      },
      {
        "duration": 0,
        "start_time": "2022-09-30T12:57:17.507Z"
      },
      {
        "duration": 0,
        "start_time": "2022-09-30T12:57:17.508Z"
      },
      {
        "duration": 0,
        "start_time": "2022-09-30T12:57:17.509Z"
      },
      {
        "duration": 19,
        "start_time": "2022-09-30T12:57:37.273Z"
      },
      {
        "duration": 6,
        "start_time": "2022-09-30T12:57:49.021Z"
      },
      {
        "duration": 5,
        "start_time": "2022-09-30T12:57:49.934Z"
      },
      {
        "duration": 5,
        "start_time": "2022-09-30T12:57:50.710Z"
      },
      {
        "duration": 282,
        "start_time": "2022-09-30T12:57:52.430Z"
      },
      {
        "duration": 6,
        "start_time": "2022-09-30T12:57:53.718Z"
      },
      {
        "duration": 186,
        "start_time": "2022-09-30T12:57:55.152Z"
      },
      {
        "duration": 169,
        "start_time": "2022-09-30T12:57:58.666Z"
      },
      {
        "duration": 224,
        "start_time": "2022-09-30T12:58:00.680Z"
      },
      {
        "duration": 147,
        "start_time": "2022-09-30T12:58:02.614Z"
      },
      {
        "duration": 131,
        "start_time": "2022-09-30T12:58:04.856Z"
      },
      {
        "duration": 151,
        "start_time": "2022-09-30T12:58:06.760Z"
      },
      {
        "duration": 147,
        "start_time": "2022-09-30T12:58:08.729Z"
      },
      {
        "duration": 108,
        "start_time": "2022-09-30T12:58:10.529Z"
      },
      {
        "duration": 148,
        "start_time": "2022-09-30T12:58:12.210Z"
      },
      {
        "duration": 166,
        "start_time": "2022-09-30T12:58:13.926Z"
      },
      {
        "duration": 167,
        "start_time": "2022-09-30T12:58:15.726Z"
      },
      {
        "duration": 170,
        "start_time": "2022-09-30T12:58:26.122Z"
      },
      {
        "duration": 129,
        "start_time": "2022-09-30T12:58:27.778Z"
      },
      {
        "duration": 225,
        "start_time": "2022-09-30T12:58:29.448Z"
      },
      {
        "duration": 202,
        "start_time": "2022-09-30T12:58:31.510Z"
      },
      {
        "duration": 12,
        "start_time": "2022-09-30T12:58:34.175Z"
      },
      {
        "duration": 148,
        "start_time": "2022-09-30T12:58:36.138Z"
      },
      {
        "duration": 149,
        "start_time": "2022-09-30T12:58:38.018Z"
      },
      {
        "duration": 155,
        "start_time": "2022-09-30T12:58:39.622Z"
      },
      {
        "duration": 127,
        "start_time": "2022-09-30T12:58:41.218Z"
      },
      {
        "duration": 113,
        "start_time": "2022-09-30T12:58:43.160Z"
      },
      {
        "duration": 409,
        "start_time": "2022-09-30T12:58:44.536Z"
      },
      {
        "duration": 24,
        "start_time": "2022-09-30T12:58:47.430Z"
      },
      {
        "duration": 103,
        "start_time": "2022-09-30T12:58:48.851Z"
      },
      {
        "duration": 17,
        "start_time": "2022-09-30T12:58:50.606Z"
      },
      {
        "duration": 251,
        "start_time": "2022-09-30T12:58:52.738Z"
      },
      {
        "duration": 40,
        "start_time": "2022-09-30T12:59:19.425Z"
      },
      {
        "duration": 34,
        "start_time": "2022-09-30T12:59:29.222Z"
      },
      {
        "duration": 90,
        "start_time": "2022-09-30T13:05:23.397Z"
      },
      {
        "duration": 481,
        "start_time": "2022-09-30T13:05:36.111Z"
      },
      {
        "duration": 37,
        "start_time": "2022-09-30T13:05:36.594Z"
      },
      {
        "duration": 13,
        "start_time": "2022-09-30T13:05:36.634Z"
      },
      {
        "duration": 2102,
        "start_time": "2022-09-30T13:05:36.649Z"
      },
      {
        "duration": 23,
        "start_time": "2022-09-30T13:05:38.753Z"
      },
      {
        "duration": 9,
        "start_time": "2022-09-30T13:05:38.778Z"
      },
      {
        "duration": 68,
        "start_time": "2022-09-30T13:05:38.788Z"
      },
      {
        "duration": 5,
        "start_time": "2022-09-30T13:05:38.858Z"
      },
      {
        "duration": 10,
        "start_time": "2022-09-30T13:05:38.864Z"
      },
      {
        "duration": 7,
        "start_time": "2022-09-30T13:05:38.875Z"
      },
      {
        "duration": 21,
        "start_time": "2022-09-30T13:05:38.884Z"
      },
      {
        "duration": 7,
        "start_time": "2022-09-30T13:05:38.907Z"
      },
      {
        "duration": 6,
        "start_time": "2022-09-30T13:05:38.915Z"
      },
      {
        "duration": 5,
        "start_time": "2022-09-30T13:05:38.925Z"
      },
      {
        "duration": 8,
        "start_time": "2022-09-30T13:05:38.932Z"
      },
      {
        "duration": 9,
        "start_time": "2022-09-30T13:05:38.942Z"
      },
      {
        "duration": 9,
        "start_time": "2022-09-30T13:05:38.952Z"
      },
      {
        "duration": 153,
        "start_time": "2022-09-30T13:05:38.963Z"
      },
      {
        "duration": 5,
        "start_time": "2022-09-30T13:05:39.118Z"
      },
      {
        "duration": 13,
        "start_time": "2022-09-30T13:05:39.125Z"
      },
      {
        "duration": 84,
        "start_time": "2022-09-30T13:05:39.140Z"
      },
      {
        "duration": 94,
        "start_time": "2022-09-30T13:05:39.226Z"
      },
      {
        "duration": 39,
        "start_time": "2022-09-30T13:05:39.321Z"
      },
      {
        "duration": 89,
        "start_time": "2022-09-30T13:05:39.362Z"
      },
      {
        "duration": 0,
        "start_time": "2022-09-30T13:05:39.453Z"
      },
      {
        "duration": 0,
        "start_time": "2022-09-30T13:05:39.454Z"
      },
      {
        "duration": 0,
        "start_time": "2022-09-30T13:05:39.456Z"
      },
      {
        "duration": 0,
        "start_time": "2022-09-30T13:05:39.457Z"
      },
      {
        "duration": 0,
        "start_time": "2022-09-30T13:05:39.458Z"
      },
      {
        "duration": 0,
        "start_time": "2022-09-30T13:05:39.459Z"
      },
      {
        "duration": 0,
        "start_time": "2022-09-30T13:05:39.461Z"
      },
      {
        "duration": 0,
        "start_time": "2022-09-30T13:05:39.462Z"
      },
      {
        "duration": 0,
        "start_time": "2022-09-30T13:05:39.463Z"
      },
      {
        "duration": 0,
        "start_time": "2022-09-30T13:05:39.464Z"
      },
      {
        "duration": 0,
        "start_time": "2022-09-30T13:05:39.465Z"
      },
      {
        "duration": 0,
        "start_time": "2022-09-30T13:05:39.466Z"
      },
      {
        "duration": 0,
        "start_time": "2022-09-30T13:05:39.467Z"
      },
      {
        "duration": 0,
        "start_time": "2022-09-30T13:05:39.468Z"
      },
      {
        "duration": 0,
        "start_time": "2022-09-30T13:05:39.469Z"
      },
      {
        "duration": 0,
        "start_time": "2022-09-30T13:05:39.500Z"
      },
      {
        "duration": 0,
        "start_time": "2022-09-30T13:05:39.501Z"
      },
      {
        "duration": 0,
        "start_time": "2022-09-30T13:05:39.502Z"
      },
      {
        "duration": 0,
        "start_time": "2022-09-30T13:05:39.503Z"
      },
      {
        "duration": 0,
        "start_time": "2022-09-30T13:05:39.504Z"
      },
      {
        "duration": 0,
        "start_time": "2022-09-30T13:05:39.504Z"
      },
      {
        "duration": 0,
        "start_time": "2022-09-30T13:05:39.505Z"
      },
      {
        "duration": 0,
        "start_time": "2022-09-30T13:05:39.506Z"
      },
      {
        "duration": 0,
        "start_time": "2022-09-30T13:05:39.507Z"
      },
      {
        "duration": 0,
        "start_time": "2022-09-30T13:05:39.508Z"
      },
      {
        "duration": 0,
        "start_time": "2022-09-30T13:05:39.508Z"
      },
      {
        "duration": 0,
        "start_time": "2022-09-30T13:05:39.509Z"
      },
      {
        "duration": 0,
        "start_time": "2022-09-30T13:05:39.510Z"
      },
      {
        "duration": 0,
        "start_time": "2022-09-30T13:05:39.511Z"
      },
      {
        "duration": 1,
        "start_time": "2022-09-30T13:05:39.512Z"
      },
      {
        "duration": 0,
        "start_time": "2022-09-30T13:05:39.513Z"
      },
      {
        "duration": 0,
        "start_time": "2022-09-30T13:05:39.514Z"
      },
      {
        "duration": 4,
        "start_time": "2022-09-30T13:06:49.810Z"
      },
      {
        "duration": 435,
        "start_time": "2022-09-30T13:07:58.751Z"
      },
      {
        "duration": 32,
        "start_time": "2022-09-30T13:07:59.188Z"
      },
      {
        "duration": 12,
        "start_time": "2022-09-30T13:07:59.221Z"
      },
      {
        "duration": 2044,
        "start_time": "2022-09-30T13:07:59.235Z"
      },
      {
        "duration": 22,
        "start_time": "2022-09-30T13:08:01.280Z"
      },
      {
        "duration": 29,
        "start_time": "2022-09-30T13:08:01.304Z"
      },
      {
        "duration": 73,
        "start_time": "2022-09-30T13:08:01.334Z"
      },
      {
        "duration": 4,
        "start_time": "2022-09-30T13:08:01.408Z"
      },
      {
        "duration": 22,
        "start_time": "2022-09-30T13:08:01.414Z"
      },
      {
        "duration": 9,
        "start_time": "2022-09-30T13:08:01.439Z"
      },
      {
        "duration": 20,
        "start_time": "2022-09-30T13:08:01.450Z"
      },
      {
        "duration": 5,
        "start_time": "2022-09-30T13:08:01.471Z"
      },
      {
        "duration": 10,
        "start_time": "2022-09-30T13:08:01.478Z"
      },
      {
        "duration": 45,
        "start_time": "2022-09-30T13:08:01.489Z"
      },
      {
        "duration": 25,
        "start_time": "2022-09-30T13:08:01.535Z"
      },
      {
        "duration": 14,
        "start_time": "2022-09-30T13:08:01.561Z"
      },
      {
        "duration": 11,
        "start_time": "2022-09-30T13:08:01.576Z"
      },
      {
        "duration": 112,
        "start_time": "2022-09-30T13:08:01.589Z"
      },
      {
        "duration": 5,
        "start_time": "2022-09-30T13:08:01.703Z"
      },
      {
        "duration": 8,
        "start_time": "2022-09-30T13:08:01.709Z"
      },
      {
        "duration": 96,
        "start_time": "2022-09-30T13:08:01.719Z"
      },
      {
        "duration": 3,
        "start_time": "2022-09-30T13:08:01.817Z"
      },
      {
        "duration": 7,
        "start_time": "2022-09-30T13:08:01.821Z"
      },
      {
        "duration": 9,
        "start_time": "2022-09-30T13:08:01.829Z"
      },
      {
        "duration": 12,
        "start_time": "2022-09-30T13:08:01.839Z"
      },
      {
        "duration": 15,
        "start_time": "2022-09-30T13:08:01.853Z"
      },
      {
        "duration": 310,
        "start_time": "2022-09-30T13:08:01.870Z"
      },
      {
        "duration": 6,
        "start_time": "2022-09-30T13:08:02.183Z"
      },
      {
        "duration": 172,
        "start_time": "2022-09-30T13:08:02.190Z"
      },
      {
        "duration": 168,
        "start_time": "2022-09-30T13:08:02.363Z"
      },
      {
        "duration": 220,
        "start_time": "2022-09-30T13:08:02.533Z"
      },
      {
        "duration": 155,
        "start_time": "2022-09-30T13:08:02.755Z"
      },
      {
        "duration": 139,
        "start_time": "2022-09-30T13:08:02.912Z"
      },
      {
        "duration": 165,
        "start_time": "2022-09-30T13:08:03.053Z"
      },
      {
        "duration": 159,
        "start_time": "2022-09-30T13:08:03.220Z"
      },
      {
        "duration": 141,
        "start_time": "2022-09-30T13:08:03.381Z"
      },
      {
        "duration": 163,
        "start_time": "2022-09-30T13:08:03.524Z"
      },
      {
        "duration": 205,
        "start_time": "2022-09-30T13:08:03.689Z"
      },
      {
        "duration": 179,
        "start_time": "2022-09-30T13:08:03.900Z"
      },
      {
        "duration": 211,
        "start_time": "2022-09-30T13:08:04.082Z"
      },
      {
        "duration": 178,
        "start_time": "2022-09-30T13:08:04.295Z"
      },
      {
        "duration": 274,
        "start_time": "2022-09-30T13:08:04.475Z"
      },
      {
        "duration": 212,
        "start_time": "2022-09-30T13:08:04.751Z"
      },
      {
        "duration": 9,
        "start_time": "2022-09-30T13:08:04.964Z"
      },
      {
        "duration": 151,
        "start_time": "2022-09-30T13:08:04.974Z"
      },
      {
        "duration": 158,
        "start_time": "2022-09-30T13:08:05.127Z"
      },
      {
        "duration": 165,
        "start_time": "2022-09-30T13:08:05.287Z"
      },
      {
        "duration": 147,
        "start_time": "2022-09-30T13:08:05.454Z"
      },
      {
        "duration": 131,
        "start_time": "2022-09-30T13:08:05.603Z"
      },
      {
        "duration": 406,
        "start_time": "2022-09-30T13:08:05.736Z"
      },
      {
        "duration": 114,
        "start_time": "2022-09-30T13:08:06.143Z"
      },
      {
        "duration": 18,
        "start_time": "2022-09-30T13:08:06.259Z"
      },
      {
        "duration": 34,
        "start_time": "2022-09-30T13:08:06.279Z"
      },
      {
        "duration": 274,
        "start_time": "2022-09-30T13:08:06.315Z"
      },
      {
        "duration": 84,
        "start_time": "2022-09-30T13:08:30.404Z"
      },
      {
        "duration": 28,
        "start_time": "2022-09-30T13:08:31.765Z"
      },
      {
        "duration": 5,
        "start_time": "2022-09-30T13:08:52.103Z"
      },
      {
        "duration": 5,
        "start_time": "2022-09-30T13:08:53.221Z"
      },
      {
        "duration": 91,
        "start_time": "2022-09-30T13:11:43.621Z"
      },
      {
        "duration": 94,
        "start_time": "2022-09-30T13:11:58.200Z"
      },
      {
        "duration": 1028,
        "start_time": "2022-09-30T13:26:48.016Z"
      },
      {
        "duration": 18,
        "start_time": "2022-09-30T13:26:53.970Z"
      },
      {
        "duration": 528,
        "start_time": "2022-09-30T13:27:01.818Z"
      },
      {
        "duration": 35,
        "start_time": "2022-09-30T13:27:02.348Z"
      },
      {
        "duration": 25,
        "start_time": "2022-09-30T13:27:02.384Z"
      },
      {
        "duration": 2260,
        "start_time": "2022-09-30T13:27:02.411Z"
      },
      {
        "duration": 26,
        "start_time": "2022-09-30T13:27:04.674Z"
      },
      {
        "duration": 8,
        "start_time": "2022-09-30T13:27:04.701Z"
      },
      {
        "duration": 79,
        "start_time": "2022-09-30T13:27:04.711Z"
      },
      {
        "duration": 5,
        "start_time": "2022-09-30T13:27:04.801Z"
      },
      {
        "duration": 14,
        "start_time": "2022-09-30T13:27:04.808Z"
      },
      {
        "duration": 18,
        "start_time": "2022-09-30T13:27:04.830Z"
      },
      {
        "duration": 14,
        "start_time": "2022-09-30T13:27:04.850Z"
      },
      {
        "duration": 5,
        "start_time": "2022-09-30T13:27:04.865Z"
      },
      {
        "duration": 10,
        "start_time": "2022-09-30T13:27:04.871Z"
      },
      {
        "duration": 7,
        "start_time": "2022-09-30T13:27:04.883Z"
      },
      {
        "duration": 14,
        "start_time": "2022-09-30T13:27:04.891Z"
      },
      {
        "duration": 10,
        "start_time": "2022-09-30T13:27:04.906Z"
      },
      {
        "duration": 11,
        "start_time": "2022-09-30T13:27:04.917Z"
      },
      {
        "duration": 134,
        "start_time": "2022-09-30T13:27:04.929Z"
      },
      {
        "duration": 4,
        "start_time": "2022-09-30T13:27:05.065Z"
      },
      {
        "duration": 6,
        "start_time": "2022-09-30T13:27:05.071Z"
      },
      {
        "duration": 108,
        "start_time": "2022-09-30T13:27:05.079Z"
      },
      {
        "duration": 4,
        "start_time": "2022-09-30T13:27:05.188Z"
      },
      {
        "duration": 16,
        "start_time": "2022-09-30T13:27:05.193Z"
      },
      {
        "duration": 6,
        "start_time": "2022-09-30T13:27:05.211Z"
      },
      {
        "duration": 7,
        "start_time": "2022-09-30T13:27:05.218Z"
      },
      {
        "duration": 332,
        "start_time": "2022-09-30T13:27:05.227Z"
      },
      {
        "duration": 7,
        "start_time": "2022-09-30T13:27:05.560Z"
      },
      {
        "duration": 188,
        "start_time": "2022-09-30T13:27:05.568Z"
      },
      {
        "duration": 181,
        "start_time": "2022-09-30T13:27:05.757Z"
      },
      {
        "duration": 236,
        "start_time": "2022-09-30T13:27:05.939Z"
      },
      {
        "duration": 163,
        "start_time": "2022-09-30T13:27:06.177Z"
      },
      {
        "duration": 149,
        "start_time": "2022-09-30T13:27:06.342Z"
      },
      {
        "duration": 169,
        "start_time": "2022-09-30T13:27:06.493Z"
      },
      {
        "duration": 157,
        "start_time": "2022-09-30T13:27:06.664Z"
      },
      {
        "duration": 131,
        "start_time": "2022-09-30T13:27:06.822Z"
      },
      {
        "duration": 169,
        "start_time": "2022-09-30T13:27:06.954Z"
      },
      {
        "duration": 194,
        "start_time": "2022-09-30T13:27:07.125Z"
      },
      {
        "duration": 188,
        "start_time": "2022-09-30T13:27:07.322Z"
      },
      {
        "duration": 198,
        "start_time": "2022-09-30T13:27:07.511Z"
      },
      {
        "duration": 152,
        "start_time": "2022-09-30T13:27:07.711Z"
      },
      {
        "duration": 238,
        "start_time": "2022-09-30T13:27:07.866Z"
      },
      {
        "duration": 231,
        "start_time": "2022-09-30T13:27:08.106Z"
      },
      {
        "duration": 8,
        "start_time": "2022-09-30T13:27:08.339Z"
      },
      {
        "duration": 146,
        "start_time": "2022-09-30T13:27:08.348Z"
      },
      {
        "duration": 155,
        "start_time": "2022-09-30T13:27:08.500Z"
      },
      {
        "duration": 155,
        "start_time": "2022-09-30T13:27:08.656Z"
      },
      {
        "duration": 148,
        "start_time": "2022-09-30T13:27:08.813Z"
      },
      {
        "duration": 131,
        "start_time": "2022-09-30T13:27:08.962Z"
      },
      {
        "duration": 498,
        "start_time": "2022-09-30T13:27:09.094Z"
      },
      {
        "duration": 132,
        "start_time": "2022-09-30T13:27:09.601Z"
      },
      {
        "duration": 19,
        "start_time": "2022-09-30T13:27:09.734Z"
      },
      {
        "duration": 18,
        "start_time": "2022-09-30T13:27:09.755Z"
      },
      {
        "duration": 301,
        "start_time": "2022-09-30T13:27:09.775Z"
      },
      {
        "duration": 532,
        "start_time": "2022-09-30T15:08:07.635Z"
      },
      {
        "duration": 34,
        "start_time": "2022-09-30T15:08:08.169Z"
      },
      {
        "duration": 13,
        "start_time": "2022-09-30T15:08:08.205Z"
      },
      {
        "duration": 2233,
        "start_time": "2022-09-30T15:08:08.220Z"
      },
      {
        "duration": 23,
        "start_time": "2022-09-30T15:08:10.455Z"
      },
      {
        "duration": 8,
        "start_time": "2022-09-30T15:08:10.480Z"
      },
      {
        "duration": 87,
        "start_time": "2022-09-30T15:08:10.489Z"
      },
      {
        "duration": 4,
        "start_time": "2022-09-30T15:08:10.578Z"
      },
      {
        "duration": 21,
        "start_time": "2022-09-30T15:08:10.583Z"
      },
      {
        "duration": 15,
        "start_time": "2022-09-30T15:08:10.607Z"
      },
      {
        "duration": 38,
        "start_time": "2022-09-30T15:08:10.624Z"
      },
      {
        "duration": 7,
        "start_time": "2022-09-30T15:08:10.664Z"
      },
      {
        "duration": 14,
        "start_time": "2022-09-30T15:08:10.673Z"
      },
      {
        "duration": 34,
        "start_time": "2022-09-30T15:08:10.689Z"
      },
      {
        "duration": 23,
        "start_time": "2022-09-30T15:08:10.724Z"
      },
      {
        "duration": 24,
        "start_time": "2022-09-30T15:08:10.749Z"
      },
      {
        "duration": 19,
        "start_time": "2022-09-30T15:08:10.775Z"
      },
      {
        "duration": 151,
        "start_time": "2022-09-30T15:08:10.795Z"
      },
      {
        "duration": 5,
        "start_time": "2022-09-30T15:08:10.951Z"
      },
      {
        "duration": 13,
        "start_time": "2022-09-30T15:08:10.958Z"
      },
      {
        "duration": 106,
        "start_time": "2022-09-30T15:08:10.973Z"
      },
      {
        "duration": 4,
        "start_time": "2022-09-30T15:08:11.080Z"
      },
      {
        "duration": 12,
        "start_time": "2022-09-30T15:08:11.085Z"
      },
      {
        "duration": 19,
        "start_time": "2022-09-30T15:08:11.098Z"
      },
      {
        "duration": 12,
        "start_time": "2022-09-30T15:08:11.118Z"
      },
      {
        "duration": 345,
        "start_time": "2022-09-30T15:08:11.131Z"
      },
      {
        "duration": 6,
        "start_time": "2022-09-30T15:08:11.478Z"
      },
      {
        "duration": 242,
        "start_time": "2022-09-30T15:08:11.488Z"
      },
      {
        "duration": 187,
        "start_time": "2022-09-30T15:08:11.738Z"
      },
      {
        "duration": 258,
        "start_time": "2022-09-30T15:08:11.926Z"
      },
      {
        "duration": 193,
        "start_time": "2022-09-30T15:08:12.186Z"
      },
      {
        "duration": 167,
        "start_time": "2022-09-30T15:08:12.381Z"
      },
      {
        "duration": 196,
        "start_time": "2022-09-30T15:08:12.550Z"
      },
      {
        "duration": 158,
        "start_time": "2022-09-30T15:08:12.752Z"
      },
      {
        "duration": 149,
        "start_time": "2022-09-30T15:08:12.912Z"
      },
      {
        "duration": 193,
        "start_time": "2022-09-30T15:08:13.063Z"
      },
      {
        "duration": 204,
        "start_time": "2022-09-30T15:08:13.258Z"
      },
      {
        "duration": 195,
        "start_time": "2022-09-30T15:08:13.464Z"
      },
      {
        "duration": 197,
        "start_time": "2022-09-30T15:08:13.661Z"
      },
      {
        "duration": 172,
        "start_time": "2022-09-30T15:08:13.860Z"
      },
      {
        "duration": 263,
        "start_time": "2022-09-30T15:08:14.038Z"
      },
      {
        "duration": 267,
        "start_time": "2022-09-30T15:08:14.303Z"
      },
      {
        "duration": 9,
        "start_time": "2022-09-30T15:08:14.572Z"
      },
      {
        "duration": 185,
        "start_time": "2022-09-30T15:08:14.583Z"
      },
      {
        "duration": 201,
        "start_time": "2022-09-30T15:08:14.770Z"
      },
      {
        "duration": 190,
        "start_time": "2022-09-30T15:08:14.973Z"
      },
      {
        "duration": 160,
        "start_time": "2022-09-30T15:08:15.165Z"
      },
      {
        "duration": 145,
        "start_time": "2022-09-30T15:08:15.326Z"
      },
      {
        "duration": 501,
        "start_time": "2022-09-30T15:08:15.473Z"
      },
      {
        "duration": 132,
        "start_time": "2022-09-30T15:08:15.976Z"
      },
      {
        "duration": 41,
        "start_time": "2022-09-30T15:08:16.110Z"
      },
      {
        "duration": 20,
        "start_time": "2022-09-30T15:08:16.153Z"
      },
      {
        "duration": 302,
        "start_time": "2022-09-30T15:08:16.175Z"
      }
    ],
    "colab": {
      "provenance": []
    },
    "kernelspec": {
      "display_name": "Python 3 (ipykernel)",
      "language": "python",
      "name": "python3"
    },
    "language_info": {
      "codemirror_mode": {
        "name": "ipython",
        "version": 3
      },
      "file_extension": ".py",
      "mimetype": "text/x-python",
      "name": "python",
      "nbconvert_exporter": "python",
      "pygments_lexer": "ipython3",
      "version": "3.9.5"
    },
    "toc": {
      "base_numbering": 1,
      "nav_menu": {},
      "number_sections": true,
      "sideBar": true,
      "skip_h1_title": true,
      "title_cell": "Table of Contents",
      "title_sidebar": "Contents",
      "toc_cell": false,
      "toc_position": {
        "height": "calc(100% - 180px)",
        "left": "10px",
        "top": "150px",
        "width": "507px"
      },
      "toc_section_display": true,
      "toc_window_display": true
    }
  },
  "nbformat": 4,
  "nbformat_minor": 0
}
