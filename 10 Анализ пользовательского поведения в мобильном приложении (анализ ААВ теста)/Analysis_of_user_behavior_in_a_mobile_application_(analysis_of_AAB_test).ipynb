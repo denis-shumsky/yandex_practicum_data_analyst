{
  "cells": [
    {
      "cell_type": "markdown",
      "metadata": {
        "id": "WTeIupHJrMeG"
      },
      "source": [
        "# Сборный проект - 2. Яндекс Практикум \"Аналитик данных\".\n",
        "\n",
        "<b> Описание проекта: </b>\n",
        "\n",
        "Необходимо разобраться в поведении пользователей мобильного приложения, которое продаёт продукты питания. \n",
        "Изучить воронку продаж и выяснить, как пользователи доходят до покупки. Сколько пользователей доходит до покупки, а сколько — \"застревает\" на предыдущих шагах (и на каких именно).\n",
        "\n",
        "Также необходимо исследовать результаты A/A/B-эксперимента. По \"легенде\" дизайнеры захотели поменять шрифты во всём приложении, а менеджеры испугались, что пользователям будет непривычно. Договорились принять решение по результатам A/A/B-теста. Пользователей разбили на 3 группы: 2 контрольные со старыми шрифтами и одну экспериментальную — с новыми. \n",
        "\n",
        "Необходимо выяснить, какой шрифт лучше.\n",
        "\n",
        "\n",
        "<b> Ремарка: </b>\n",
        "\n",
        "Создание двух групп A вместо одной имеет определённые преимущества. Если две контрольные группы окажутся равны, то можно быть уверенным в точности проведенного тестирования. Если же между значениями A и A будут существенные различия, это поможет обнаружить факторы, которые привели к искажению результатов. Сравнение контрольных групп также помогает понять, сколько времени и данных потребуется для дальнейших тестов.\n",
        "\n",
        "<b> Описание данных: </b>\n",
        "\n",
        "Путь к файлу: /datasets/logs_exp.csv.\n",
        "\n",
        "Каждая запись в логе — это действие пользователя, или событие. \n",
        "- EventName — название события;\n",
        "- DeviceIDHash — уникальный идентификатор пользователя;\n",
        "- EventTimestamp — время события;\n",
        "- ExpId — номер эксперимента: 246 и 247 — контрольные группы, а 248 — экспериментальная."
      ]
    },
    {
      "cell_type": "markdown",
      "metadata": {
        "id": "9vNiGCeTrMeJ"
      },
      "source": [
        "## Изучим общую информацию по датасету.\n",
        "\n",
        "- Подключим библиотеки, необходимые для работы, загрузим датафрейм и выведем первые 10 строк;\n",
        "- Посмотрим на данные с помощью метода info();\n",
        "- Посчитаем количество пропусков в датафрейме и найдём дубликаты."
      ]
    },
    {
      "cell_type": "code",
      "execution_count": 12,
      "metadata": {
        "id": "DZ8RIm9urMeK"
      },
      "outputs": [],
      "source": [
        "import pandas as pd\n",
        "import numpy as np\n",
        "import matplotlib.pyplot as plt\n",
        "from scipy import stats as st\n",
        "import math as mth"
      ]
    },
    {
      "cell_type": "code",
      "execution_count": 13,
      "metadata": {
        "id": "92YW_e0hrMeM"
      },
      "outputs": [],
      "source": [
        "df = pd.read_csv('/datasets/logs_exp.csv', sep='\\t')"
      ]
    },
    {
      "cell_type": "code",
      "execution_count": 14,
      "metadata": {
        "colab": {
          "base_uri": "https://localhost:8080/",
          "height": 363
        },
        "id": "84ZfSQhYrMeN",
        "outputId": "a4d16041-30d6-4194-d235-19812e5f7246"
      },
      "outputs": [
        {
          "data": {
            "text/html": [
              "\n",
              "  <div id=\"df-694f5baf-e5b5-4c3a-a540-dd65d5807dfe\">\n",
              "    <div class=\"colab-df-container\">\n",
              "      <div>\n",
              "<style scoped>\n",
              "    .dataframe tbody tr th:only-of-type {\n",
              "        vertical-align: middle;\n",
              "    }\n",
              "\n",
              "    .dataframe tbody tr th {\n",
              "        vertical-align: top;\n",
              "    }\n",
              "\n",
              "    .dataframe thead th {\n",
              "        text-align: right;\n",
              "    }\n",
              "</style>\n",
              "<table border=\"1\" class=\"dataframe\">\n",
              "  <thead>\n",
              "    <tr style=\"text-align: right;\">\n",
              "      <th></th>\n",
              "      <th>EventName</th>\n",
              "      <th>DeviceIDHash</th>\n",
              "      <th>EventTimestamp</th>\n",
              "      <th>ExpId</th>\n",
              "    </tr>\n",
              "  </thead>\n",
              "  <tbody>\n",
              "    <tr>\n",
              "      <th>0</th>\n",
              "      <td>MainScreenAppear</td>\n",
              "      <td>4575588528974610257</td>\n",
              "      <td>1564029816</td>\n",
              "      <td>246</td>\n",
              "    </tr>\n",
              "    <tr>\n",
              "      <th>1</th>\n",
              "      <td>MainScreenAppear</td>\n",
              "      <td>7416695313311560658</td>\n",
              "      <td>1564053102</td>\n",
              "      <td>246</td>\n",
              "    </tr>\n",
              "    <tr>\n",
              "      <th>2</th>\n",
              "      <td>PaymentScreenSuccessful</td>\n",
              "      <td>3518123091307005509</td>\n",
              "      <td>1564054127</td>\n",
              "      <td>248</td>\n",
              "    </tr>\n",
              "    <tr>\n",
              "      <th>3</th>\n",
              "      <td>CartScreenAppear</td>\n",
              "      <td>3518123091307005509</td>\n",
              "      <td>1564054127</td>\n",
              "      <td>248</td>\n",
              "    </tr>\n",
              "    <tr>\n",
              "      <th>4</th>\n",
              "      <td>PaymentScreenSuccessful</td>\n",
              "      <td>6217807653094995999</td>\n",
              "      <td>1564055322</td>\n",
              "      <td>248</td>\n",
              "    </tr>\n",
              "    <tr>\n",
              "      <th>5</th>\n",
              "      <td>CartScreenAppear</td>\n",
              "      <td>6217807653094995999</td>\n",
              "      <td>1564055323</td>\n",
              "      <td>248</td>\n",
              "    </tr>\n",
              "    <tr>\n",
              "      <th>6</th>\n",
              "      <td>OffersScreenAppear</td>\n",
              "      <td>8351860793733343758</td>\n",
              "      <td>1564066242</td>\n",
              "      <td>246</td>\n",
              "    </tr>\n",
              "    <tr>\n",
              "      <th>7</th>\n",
              "      <td>MainScreenAppear</td>\n",
              "      <td>5682100281902512875</td>\n",
              "      <td>1564085677</td>\n",
              "      <td>246</td>\n",
              "    </tr>\n",
              "    <tr>\n",
              "      <th>8</th>\n",
              "      <td>MainScreenAppear</td>\n",
              "      <td>1850981295691852772</td>\n",
              "      <td>1564086702</td>\n",
              "      <td>247</td>\n",
              "    </tr>\n",
              "    <tr>\n",
              "      <th>9</th>\n",
              "      <td>MainScreenAppear</td>\n",
              "      <td>5407636962369102641</td>\n",
              "      <td>1564112112</td>\n",
              "      <td>246</td>\n",
              "    </tr>\n",
              "  </tbody>\n",
              "</table>\n",
              "</div>\n",
              "      <button class=\"colab-df-convert\" onclick=\"convertToInteractive('df-694f5baf-e5b5-4c3a-a540-dd65d5807dfe')\"\n",
              "              title=\"Convert this dataframe to an interactive table.\"\n",
              "              style=\"display:none;\">\n",
              "        \n",
              "  <svg xmlns=\"http://www.w3.org/2000/svg\" height=\"24px\"viewBox=\"0 0 24 24\"\n",
              "       width=\"24px\">\n",
              "    <path d=\"M0 0h24v24H0V0z\" fill=\"none\"/>\n",
              "    <path d=\"M18.56 5.44l.94 2.06.94-2.06 2.06-.94-2.06-.94-.94-2.06-.94 2.06-2.06.94zm-11 1L8.5 8.5l.94-2.06 2.06-.94-2.06-.94L8.5 2.5l-.94 2.06-2.06.94zm10 10l.94 2.06.94-2.06 2.06-.94-2.06-.94-.94-2.06-.94 2.06-2.06.94z\"/><path d=\"M17.41 7.96l-1.37-1.37c-.4-.4-.92-.59-1.43-.59-.52 0-1.04.2-1.43.59L10.3 9.45l-7.72 7.72c-.78.78-.78 2.05 0 2.83L4 21.41c.39.39.9.59 1.41.59.51 0 1.02-.2 1.41-.59l7.78-7.78 2.81-2.81c.8-.78.8-2.07 0-2.86zM5.41 20L4 18.59l7.72-7.72 1.47 1.35L5.41 20z\"/>\n",
              "  </svg>\n",
              "      </button>\n",
              "      \n",
              "  <style>\n",
              "    .colab-df-container {\n",
              "      display:flex;\n",
              "      flex-wrap:wrap;\n",
              "      gap: 12px;\n",
              "    }\n",
              "\n",
              "    .colab-df-convert {\n",
              "      background-color: #E8F0FE;\n",
              "      border: none;\n",
              "      border-radius: 50%;\n",
              "      cursor: pointer;\n",
              "      display: none;\n",
              "      fill: #1967D2;\n",
              "      height: 32px;\n",
              "      padding: 0 0 0 0;\n",
              "      width: 32px;\n",
              "    }\n",
              "\n",
              "    .colab-df-convert:hover {\n",
              "      background-color: #E2EBFA;\n",
              "      box-shadow: 0px 1px 2px rgba(60, 64, 67, 0.3), 0px 1px 3px 1px rgba(60, 64, 67, 0.15);\n",
              "      fill: #174EA6;\n",
              "    }\n",
              "\n",
              "    [theme=dark] .colab-df-convert {\n",
              "      background-color: #3B4455;\n",
              "      fill: #D2E3FC;\n",
              "    }\n",
              "\n",
              "    [theme=dark] .colab-df-convert:hover {\n",
              "      background-color: #434B5C;\n",
              "      box-shadow: 0px 1px 3px 1px rgba(0, 0, 0, 0.15);\n",
              "      filter: drop-shadow(0px 1px 2px rgba(0, 0, 0, 0.3));\n",
              "      fill: #FFFFFF;\n",
              "    }\n",
              "  </style>\n",
              "\n",
              "      <script>\n",
              "        const buttonEl =\n",
              "          document.querySelector('#df-694f5baf-e5b5-4c3a-a540-dd65d5807dfe button.colab-df-convert');\n",
              "        buttonEl.style.display =\n",
              "          google.colab.kernel.accessAllowed ? 'block' : 'none';\n",
              "\n",
              "        async function convertToInteractive(key) {\n",
              "          const element = document.querySelector('#df-694f5baf-e5b5-4c3a-a540-dd65d5807dfe');\n",
              "          const dataTable =\n",
              "            await google.colab.kernel.invokeFunction('convertToInteractive',\n",
              "                                                     [key], {});\n",
              "          if (!dataTable) return;\n",
              "\n",
              "          const docLinkHtml = 'Like what you see? Visit the ' +\n",
              "            '<a target=\"_blank\" href=https://colab.research.google.com/notebooks/data_table.ipynb>data table notebook</a>'\n",
              "            + ' to learn more about interactive tables.';\n",
              "          element.innerHTML = '';\n",
              "          dataTable['output_type'] = 'display_data';\n",
              "          await google.colab.output.renderOutput(dataTable, element);\n",
              "          const docLink = document.createElement('div');\n",
              "          docLink.innerHTML = docLinkHtml;\n",
              "          element.appendChild(docLink);\n",
              "        }\n",
              "      </script>\n",
              "    </div>\n",
              "  </div>\n",
              "  "
            ],
            "text/plain": [
              "                 EventName         DeviceIDHash  EventTimestamp  ExpId\n",
              "0         MainScreenAppear  4575588528974610257      1564029816    246\n",
              "1         MainScreenAppear  7416695313311560658      1564053102    246\n",
              "2  PaymentScreenSuccessful  3518123091307005509      1564054127    248\n",
              "3         CartScreenAppear  3518123091307005509      1564054127    248\n",
              "4  PaymentScreenSuccessful  6217807653094995999      1564055322    248\n",
              "5         CartScreenAppear  6217807653094995999      1564055323    248\n",
              "6       OffersScreenAppear  8351860793733343758      1564066242    246\n",
              "7         MainScreenAppear  5682100281902512875      1564085677    246\n",
              "8         MainScreenAppear  1850981295691852772      1564086702    247\n",
              "9         MainScreenAppear  5407636962369102641      1564112112    246"
            ]
          },
          "execution_count": 14,
          "metadata": {},
          "output_type": "execute_result"
        }
      ],
      "source": [
        "df.head(10)"
      ]
    },
    {
      "cell_type": "code",
      "execution_count": 15,
      "metadata": {
        "colab": {
          "base_uri": "https://localhost:8080/"
        },
        "id": "VE89DAvlrMeP",
        "outputId": "a4c31681-1982-4ab2-8e55-294ee4ea5d44"
      },
      "outputs": [
        {
          "name": "stdout",
          "output_type": "stream",
          "text": [
            "<class 'pandas.core.frame.DataFrame'>\n",
            "RangeIndex: 244126 entries, 0 to 244125\n",
            "Data columns (total 4 columns):\n",
            " #   Column          Non-Null Count   Dtype \n",
            "---  ------          --------------   ----- \n",
            " 0   EventName       244126 non-null  object\n",
            " 1   DeviceIDHash    244126 non-null  int64 \n",
            " 2   EventTimestamp  244126 non-null  int64 \n",
            " 3   ExpId           244126 non-null  int64 \n",
            "dtypes: int64(3), object(1)\n",
            "memory usage: 7.5+ MB\n"
          ]
        }
      ],
      "source": [
        "df.info()"
      ]
    },
    {
      "cell_type": "code",
      "execution_count": 16,
      "metadata": {
        "colab": {
          "base_uri": "https://localhost:8080/"
        },
        "id": "16tRAaOTrMeQ",
        "outputId": "4bad17b2-0fba-4984-c3e6-ef73627e0f33"
      },
      "outputs": [
        {
          "data": {
            "text/plain": [
              "EventName         0\n",
              "DeviceIDHash      0\n",
              "EventTimestamp    0\n",
              "ExpId             0\n",
              "dtype: int64"
            ]
          },
          "execution_count": 16,
          "metadata": {},
          "output_type": "execute_result"
        }
      ],
      "source": [
        "df.isna().sum()"
      ]
    },
    {
      "cell_type": "code",
      "execution_count": 17,
      "metadata": {
        "colab": {
          "base_uri": "https://localhost:8080/"
        },
        "id": "cUOnFOzfrMeQ",
        "outputId": "1e24b2e1-8b57-438a-f66f-3f8a80008d79"
      },
      "outputs": [
        {
          "data": {
            "text/plain": [
              "413"
            ]
          },
          "execution_count": 17,
          "metadata": {},
          "output_type": "execute_result"
        }
      ],
      "source": [
        "df.duplicated().sum()"
      ]
    },
    {
      "cell_type": "markdown",
      "metadata": {
        "id": "HwkFtmRCrMeS"
      },
      "source": [
        "<b> Общий вывод по разделу 1: </b>\n",
        "\n",
        "Датафрейм содержит 244126 строк и 4 колонки. Пропуски отсутствуют. В датафрейме 413 дубликатов. Названия столбцов не соответствуют \"Snake case\". Столбец EventTimestamp (время события) имеет несоответствующий тип данных для времени (int64). "
      ]
    },
    {
      "cell_type": "markdown",
      "metadata": {
        "id": "EhhIBHqCrMeT"
      },
      "source": [
        "## Подготовим данные.\n",
        "\n",
        "- Заменим названия столбцов на более удобные и приведём их к \"Snake case\";\n",
        "- Удалим дубликаты;\n",
        "- Заменим тип данных столбца EventTimestamp (время события), а также добавим отдельный столбец дат."
      ]
    },
    {
      "cell_type": "code",
      "execution_count": 18,
      "metadata": {
        "id": "2u5QQuQ2rMeU"
      },
      "outputs": [],
      "source": [
        "df.columns = ['event_name', 'user_id', 'event_time', 'group']"
      ]
    },
    {
      "cell_type": "code",
      "execution_count": 19,
      "metadata": {
        "id": "In6yCPSfrMeV"
      },
      "outputs": [],
      "source": [
        "df = df.drop_duplicates().reset_index(drop=True)"
      ]
    },
    {
      "cell_type": "code",
      "execution_count": 20,
      "metadata": {
        "id": "kSVSn9LUrMeW"
      },
      "outputs": [],
      "source": [
        "df['event_time'] = df['event_time'].astype('datetime64[s]')"
      ]
    },
    {
      "cell_type": "code",
      "execution_count": 21,
      "metadata": {
        "id": "VlNTUc51rMeW"
      },
      "outputs": [],
      "source": [
        "df['event_date'] = df['event_time'].dt.date"
      ]
    },
    {
      "cell_type": "code",
      "execution_count": 22,
      "metadata": {
        "colab": {
          "base_uri": "https://localhost:8080/",
          "height": 363
        },
        "id": "kwbtumpMrMeW",
        "outputId": "e1423815-9e9c-4668-bcad-d39012a1ef62"
      },
      "outputs": [
        {
          "data": {
            "text/html": [
              "\n",
              "  <div id=\"df-e3ccc10c-e7be-4160-a61d-42e564fed594\">\n",
              "    <div class=\"colab-df-container\">\n",
              "      <div>\n",
              "<style scoped>\n",
              "    .dataframe tbody tr th:only-of-type {\n",
              "        vertical-align: middle;\n",
              "    }\n",
              "\n",
              "    .dataframe tbody tr th {\n",
              "        vertical-align: top;\n",
              "    }\n",
              "\n",
              "    .dataframe thead th {\n",
              "        text-align: right;\n",
              "    }\n",
              "</style>\n",
              "<table border=\"1\" class=\"dataframe\">\n",
              "  <thead>\n",
              "    <tr style=\"text-align: right;\">\n",
              "      <th></th>\n",
              "      <th>event_name</th>\n",
              "      <th>user_id</th>\n",
              "      <th>event_time</th>\n",
              "      <th>group</th>\n",
              "      <th>event_date</th>\n",
              "    </tr>\n",
              "  </thead>\n",
              "  <tbody>\n",
              "    <tr>\n",
              "      <th>0</th>\n",
              "      <td>MainScreenAppear</td>\n",
              "      <td>4575588528974610257</td>\n",
              "      <td>2019-07-25 04:43:36</td>\n",
              "      <td>246</td>\n",
              "      <td>2019-07-25</td>\n",
              "    </tr>\n",
              "    <tr>\n",
              "      <th>1</th>\n",
              "      <td>MainScreenAppear</td>\n",
              "      <td>7416695313311560658</td>\n",
              "      <td>2019-07-25 11:11:42</td>\n",
              "      <td>246</td>\n",
              "      <td>2019-07-25</td>\n",
              "    </tr>\n",
              "    <tr>\n",
              "      <th>2</th>\n",
              "      <td>PaymentScreenSuccessful</td>\n",
              "      <td>3518123091307005509</td>\n",
              "      <td>2019-07-25 11:28:47</td>\n",
              "      <td>248</td>\n",
              "      <td>2019-07-25</td>\n",
              "    </tr>\n",
              "    <tr>\n",
              "      <th>3</th>\n",
              "      <td>CartScreenAppear</td>\n",
              "      <td>3518123091307005509</td>\n",
              "      <td>2019-07-25 11:28:47</td>\n",
              "      <td>248</td>\n",
              "      <td>2019-07-25</td>\n",
              "    </tr>\n",
              "    <tr>\n",
              "      <th>4</th>\n",
              "      <td>PaymentScreenSuccessful</td>\n",
              "      <td>6217807653094995999</td>\n",
              "      <td>2019-07-25 11:48:42</td>\n",
              "      <td>248</td>\n",
              "      <td>2019-07-25</td>\n",
              "    </tr>\n",
              "    <tr>\n",
              "      <th>5</th>\n",
              "      <td>CartScreenAppear</td>\n",
              "      <td>6217807653094995999</td>\n",
              "      <td>2019-07-25 11:48:43</td>\n",
              "      <td>248</td>\n",
              "      <td>2019-07-25</td>\n",
              "    </tr>\n",
              "    <tr>\n",
              "      <th>6</th>\n",
              "      <td>OffersScreenAppear</td>\n",
              "      <td>8351860793733343758</td>\n",
              "      <td>2019-07-25 14:50:42</td>\n",
              "      <td>246</td>\n",
              "      <td>2019-07-25</td>\n",
              "    </tr>\n",
              "    <tr>\n",
              "      <th>7</th>\n",
              "      <td>MainScreenAppear</td>\n",
              "      <td>5682100281902512875</td>\n",
              "      <td>2019-07-25 20:14:37</td>\n",
              "      <td>246</td>\n",
              "      <td>2019-07-25</td>\n",
              "    </tr>\n",
              "    <tr>\n",
              "      <th>8</th>\n",
              "      <td>MainScreenAppear</td>\n",
              "      <td>1850981295691852772</td>\n",
              "      <td>2019-07-25 20:31:42</td>\n",
              "      <td>247</td>\n",
              "      <td>2019-07-25</td>\n",
              "    </tr>\n",
              "    <tr>\n",
              "      <th>9</th>\n",
              "      <td>MainScreenAppear</td>\n",
              "      <td>5407636962369102641</td>\n",
              "      <td>2019-07-26 03:35:12</td>\n",
              "      <td>246</td>\n",
              "      <td>2019-07-26</td>\n",
              "    </tr>\n",
              "  </tbody>\n",
              "</table>\n",
              "</div>\n",
              "      <button class=\"colab-df-convert\" onclick=\"convertToInteractive('df-e3ccc10c-e7be-4160-a61d-42e564fed594')\"\n",
              "              title=\"Convert this dataframe to an interactive table.\"\n",
              "              style=\"display:none;\">\n",
              "        \n",
              "  <svg xmlns=\"http://www.w3.org/2000/svg\" height=\"24px\"viewBox=\"0 0 24 24\"\n",
              "       width=\"24px\">\n",
              "    <path d=\"M0 0h24v24H0V0z\" fill=\"none\"/>\n",
              "    <path d=\"M18.56 5.44l.94 2.06.94-2.06 2.06-.94-2.06-.94-.94-2.06-.94 2.06-2.06.94zm-11 1L8.5 8.5l.94-2.06 2.06-.94-2.06-.94L8.5 2.5l-.94 2.06-2.06.94zm10 10l.94 2.06.94-2.06 2.06-.94-2.06-.94-.94-2.06-.94 2.06-2.06.94z\"/><path d=\"M17.41 7.96l-1.37-1.37c-.4-.4-.92-.59-1.43-.59-.52 0-1.04.2-1.43.59L10.3 9.45l-7.72 7.72c-.78.78-.78 2.05 0 2.83L4 21.41c.39.39.9.59 1.41.59.51 0 1.02-.2 1.41-.59l7.78-7.78 2.81-2.81c.8-.78.8-2.07 0-2.86zM5.41 20L4 18.59l7.72-7.72 1.47 1.35L5.41 20z\"/>\n",
              "  </svg>\n",
              "      </button>\n",
              "      \n",
              "  <style>\n",
              "    .colab-df-container {\n",
              "      display:flex;\n",
              "      flex-wrap:wrap;\n",
              "      gap: 12px;\n",
              "    }\n",
              "\n",
              "    .colab-df-convert {\n",
              "      background-color: #E8F0FE;\n",
              "      border: none;\n",
              "      border-radius: 50%;\n",
              "      cursor: pointer;\n",
              "      display: none;\n",
              "      fill: #1967D2;\n",
              "      height: 32px;\n",
              "      padding: 0 0 0 0;\n",
              "      width: 32px;\n",
              "    }\n",
              "\n",
              "    .colab-df-convert:hover {\n",
              "      background-color: #E2EBFA;\n",
              "      box-shadow: 0px 1px 2px rgba(60, 64, 67, 0.3), 0px 1px 3px 1px rgba(60, 64, 67, 0.15);\n",
              "      fill: #174EA6;\n",
              "    }\n",
              "\n",
              "    [theme=dark] .colab-df-convert {\n",
              "      background-color: #3B4455;\n",
              "      fill: #D2E3FC;\n",
              "    }\n",
              "\n",
              "    [theme=dark] .colab-df-convert:hover {\n",
              "      background-color: #434B5C;\n",
              "      box-shadow: 0px 1px 3px 1px rgba(0, 0, 0, 0.15);\n",
              "      filter: drop-shadow(0px 1px 2px rgba(0, 0, 0, 0.3));\n",
              "      fill: #FFFFFF;\n",
              "    }\n",
              "  </style>\n",
              "\n",
              "      <script>\n",
              "        const buttonEl =\n",
              "          document.querySelector('#df-e3ccc10c-e7be-4160-a61d-42e564fed594 button.colab-df-convert');\n",
              "        buttonEl.style.display =\n",
              "          google.colab.kernel.accessAllowed ? 'block' : 'none';\n",
              "\n",
              "        async function convertToInteractive(key) {\n",
              "          const element = document.querySelector('#df-e3ccc10c-e7be-4160-a61d-42e564fed594');\n",
              "          const dataTable =\n",
              "            await google.colab.kernel.invokeFunction('convertToInteractive',\n",
              "                                                     [key], {});\n",
              "          if (!dataTable) return;\n",
              "\n",
              "          const docLinkHtml = 'Like what you see? Visit the ' +\n",
              "            '<a target=\"_blank\" href=https://colab.research.google.com/notebooks/data_table.ipynb>data table notebook</a>'\n",
              "            + ' to learn more about interactive tables.';\n",
              "          element.innerHTML = '';\n",
              "          dataTable['output_type'] = 'display_data';\n",
              "          await google.colab.output.renderOutput(dataTable, element);\n",
              "          const docLink = document.createElement('div');\n",
              "          docLink.innerHTML = docLinkHtml;\n",
              "          element.appendChild(docLink);\n",
              "        }\n",
              "      </script>\n",
              "    </div>\n",
              "  </div>\n",
              "  "
            ],
            "text/plain": [
              "                event_name              user_id          event_time  group  \\\n",
              "0         MainScreenAppear  4575588528974610257 2019-07-25 04:43:36    246   \n",
              "1         MainScreenAppear  7416695313311560658 2019-07-25 11:11:42    246   \n",
              "2  PaymentScreenSuccessful  3518123091307005509 2019-07-25 11:28:47    248   \n",
              "3         CartScreenAppear  3518123091307005509 2019-07-25 11:28:47    248   \n",
              "4  PaymentScreenSuccessful  6217807653094995999 2019-07-25 11:48:42    248   \n",
              "5         CartScreenAppear  6217807653094995999 2019-07-25 11:48:43    248   \n",
              "6       OffersScreenAppear  8351860793733343758 2019-07-25 14:50:42    246   \n",
              "7         MainScreenAppear  5682100281902512875 2019-07-25 20:14:37    246   \n",
              "8         MainScreenAppear  1850981295691852772 2019-07-25 20:31:42    247   \n",
              "9         MainScreenAppear  5407636962369102641 2019-07-26 03:35:12    246   \n",
              "\n",
              "   event_date  \n",
              "0  2019-07-25  \n",
              "1  2019-07-25  \n",
              "2  2019-07-25  \n",
              "3  2019-07-25  \n",
              "4  2019-07-25  \n",
              "5  2019-07-25  \n",
              "6  2019-07-25  \n",
              "7  2019-07-25  \n",
              "8  2019-07-25  \n",
              "9  2019-07-26  "
            ]
          },
          "execution_count": 22,
          "metadata": {},
          "output_type": "execute_result"
        }
      ],
      "source": [
        "df.head(10)"
      ]
    },
    {
      "cell_type": "markdown",
      "metadata": {
        "id": "4ImTKYX0rMeX"
      },
      "source": [
        "<b> Общий вывод по разделу 2: </b>\n",
        "\n",
        "Данные подготовлены к анализу."
      ]
    },
    {
      "cell_type": "markdown",
      "metadata": {
        "id": "ANtM2BxzrMeY"
      },
      "source": [
        "## Изучим и проверим данные.\n",
        "\n",
        "- Узнаем сколько всего событий в логе; \n",
        "- Узнаем сколько всего пользователей в логе;  \n",
        "- Узнаем сколько в среднем событий приходится на пользователя; \n",
        "- Узнаем данными за какой период мы располагаем (найдём максимальную и минимальную даты); \n",
        "- Построим гистограмму по дате и времени. Проверим \"полноту\" данных за весь период (технически в логи новых дней по некоторым пользователям могут \"доезжать\" события из прошлого — это может \"перекашивать данные\") и определим, с какого момента данные \"полные\",отбросим более старые. Рассмотрим, данными за какой период времени мы располагаем на самом деле; \n",
        "- Рассмотрим, много ли событий и пользователей мы потеряли, отбросив старые данные; \n",
        "- Проверим, что у нас есть пользователи из всех трёх экспериментальных групп."
      ]
    },
    {
      "cell_type": "markdown",
      "metadata": {
        "id": "nqvaNQEyrMeZ"
      },
      "source": [
        "### Сколько всего событий в логе\n"
      ]
    },
    {
      "cell_type": "code",
      "execution_count": 23,
      "metadata": {
        "colab": {
          "base_uri": "https://localhost:8080/"
        },
        "id": "q-gUupFmrMeZ",
        "outputId": "d38d9bab-550b-4991-8c02-e50142d6094e"
      },
      "outputs": [
        {
          "data": {
            "text/plain": [
              "5"
            ]
          },
          "execution_count": 23,
          "metadata": {},
          "output_type": "execute_result"
        }
      ],
      "source": [
        "df['event_name'].nunique()"
      ]
    },
    {
      "cell_type": "code",
      "execution_count": 24,
      "metadata": {
        "colab": {
          "base_uri": "https://localhost:8080/"
        },
        "id": "6Boi0v6FrMea",
        "outputId": "deef57bf-44a9-4b44-dd10-a1b9fe1d2269"
      },
      "outputs": [
        {
          "data": {
            "text/plain": [
              "243713"
            ]
          },
          "execution_count": 24,
          "metadata": {},
          "output_type": "execute_result"
        }
      ],
      "source": [
        "df['event_name'].count()"
      ]
    },
    {
      "cell_type": "markdown",
      "metadata": {
        "id": "9u14dzMFrMea"
      },
      "source": [
        "<b> Вывод: </b>\n",
        "\n",
        "В логе 5 уникальных событий. Общее количество событий в логе - 243713."
      ]
    },
    {
      "cell_type": "markdown",
      "metadata": {
        "id": "gTgAeKuZrMea"
      },
      "source": [
        "### Сколько всего пользователей в логе"
      ]
    },
    {
      "cell_type": "code",
      "execution_count": 25,
      "metadata": {
        "colab": {
          "base_uri": "https://localhost:8080/"
        },
        "id": "NWZ3S2YLrMeb",
        "outputId": "7548ae90-d6fa-45ce-ec6b-68c5d9d45f2d"
      },
      "outputs": [
        {
          "data": {
            "text/plain": [
              "7551"
            ]
          },
          "execution_count": 25,
          "metadata": {},
          "output_type": "execute_result"
        }
      ],
      "source": [
        "df['user_id'].nunique()"
      ]
    },
    {
      "cell_type": "markdown",
      "metadata": {
        "id": "0Xo6zKyErMeb"
      },
      "source": [
        "<b> Вывод: </b>\n",
        "\n",
        "Всего в логе 7551 пользователь."
      ]
    },
    {
      "cell_type": "markdown",
      "metadata": {
        "id": "1Zq2paDhrMeb"
      },
      "source": [
        "### Сколько в среднем событий приходится на пользователя"
      ]
    },
    {
      "cell_type": "code",
      "execution_count": 26,
      "metadata": {
        "colab": {
          "base_uri": "https://localhost:8080/"
        },
        "id": "d-Z5RM2ZrMec",
        "outputId": "bdbbf1c1-f055-4eb1-e938-6243a4c4a821"
      },
      "outputs": [
        {
          "data": {
            "text/plain": [
              "32"
            ]
          },
          "execution_count": 26,
          "metadata": {},
          "output_type": "execute_result"
        }
      ],
      "source": [
        "round(df['event_name'].count() / df['user_id'].nunique())"
      ]
    },
    {
      "cell_type": "code",
      "execution_count": 27,
      "metadata": {
        "colab": {
          "base_uri": "https://localhost:8080/",
          "height": 300
        },
        "id": "iXTr-cTKrMec",
        "outputId": "1ad216c0-19ca-43d2-c5fb-c5a6294a1e12"
      },
      "outputs": [
        {
          "data": {
            "text/html": [
              "\n",
              "  <div id=\"df-080e14b7-6c3f-486a-945c-2e8a0a946416\">\n",
              "    <div class=\"colab-df-container\">\n",
              "      <div>\n",
              "<style scoped>\n",
              "    .dataframe tbody tr th:only-of-type {\n",
              "        vertical-align: middle;\n",
              "    }\n",
              "\n",
              "    .dataframe tbody tr th {\n",
              "        vertical-align: top;\n",
              "    }\n",
              "\n",
              "    .dataframe thead th {\n",
              "        text-align: right;\n",
              "    }\n",
              "</style>\n",
              "<table border=\"1\" class=\"dataframe\">\n",
              "  <thead>\n",
              "    <tr style=\"text-align: right;\">\n",
              "      <th></th>\n",
              "      <th>event_name</th>\n",
              "    </tr>\n",
              "  </thead>\n",
              "  <tbody>\n",
              "    <tr>\n",
              "      <th>count</th>\n",
              "      <td>7551.000000</td>\n",
              "    </tr>\n",
              "    <tr>\n",
              "      <th>mean</th>\n",
              "      <td>32.275593</td>\n",
              "    </tr>\n",
              "    <tr>\n",
              "      <th>std</th>\n",
              "      <td>65.154219</td>\n",
              "    </tr>\n",
              "    <tr>\n",
              "      <th>min</th>\n",
              "      <td>1.000000</td>\n",
              "    </tr>\n",
              "    <tr>\n",
              "      <th>25%</th>\n",
              "      <td>9.000000</td>\n",
              "    </tr>\n",
              "    <tr>\n",
              "      <th>50%</th>\n",
              "      <td>20.000000</td>\n",
              "    </tr>\n",
              "    <tr>\n",
              "      <th>75%</th>\n",
              "      <td>37.000000</td>\n",
              "    </tr>\n",
              "    <tr>\n",
              "      <th>max</th>\n",
              "      <td>2307.000000</td>\n",
              "    </tr>\n",
              "  </tbody>\n",
              "</table>\n",
              "</div>\n",
              "      <button class=\"colab-df-convert\" onclick=\"convertToInteractive('df-080e14b7-6c3f-486a-945c-2e8a0a946416')\"\n",
              "              title=\"Convert this dataframe to an interactive table.\"\n",
              "              style=\"display:none;\">\n",
              "        \n",
              "  <svg xmlns=\"http://www.w3.org/2000/svg\" height=\"24px\"viewBox=\"0 0 24 24\"\n",
              "       width=\"24px\">\n",
              "    <path d=\"M0 0h24v24H0V0z\" fill=\"none\"/>\n",
              "    <path d=\"M18.56 5.44l.94 2.06.94-2.06 2.06-.94-2.06-.94-.94-2.06-.94 2.06-2.06.94zm-11 1L8.5 8.5l.94-2.06 2.06-.94-2.06-.94L8.5 2.5l-.94 2.06-2.06.94zm10 10l.94 2.06.94-2.06 2.06-.94-2.06-.94-.94-2.06-.94 2.06-2.06.94z\"/><path d=\"M17.41 7.96l-1.37-1.37c-.4-.4-.92-.59-1.43-.59-.52 0-1.04.2-1.43.59L10.3 9.45l-7.72 7.72c-.78.78-.78 2.05 0 2.83L4 21.41c.39.39.9.59 1.41.59.51 0 1.02-.2 1.41-.59l7.78-7.78 2.81-2.81c.8-.78.8-2.07 0-2.86zM5.41 20L4 18.59l7.72-7.72 1.47 1.35L5.41 20z\"/>\n",
              "  </svg>\n",
              "      </button>\n",
              "      \n",
              "  <style>\n",
              "    .colab-df-container {\n",
              "      display:flex;\n",
              "      flex-wrap:wrap;\n",
              "      gap: 12px;\n",
              "    }\n",
              "\n",
              "    .colab-df-convert {\n",
              "      background-color: #E8F0FE;\n",
              "      border: none;\n",
              "      border-radius: 50%;\n",
              "      cursor: pointer;\n",
              "      display: none;\n",
              "      fill: #1967D2;\n",
              "      height: 32px;\n",
              "      padding: 0 0 0 0;\n",
              "      width: 32px;\n",
              "    }\n",
              "\n",
              "    .colab-df-convert:hover {\n",
              "      background-color: #E2EBFA;\n",
              "      box-shadow: 0px 1px 2px rgba(60, 64, 67, 0.3), 0px 1px 3px 1px rgba(60, 64, 67, 0.15);\n",
              "      fill: #174EA6;\n",
              "    }\n",
              "\n",
              "    [theme=dark] .colab-df-convert {\n",
              "      background-color: #3B4455;\n",
              "      fill: #D2E3FC;\n",
              "    }\n",
              "\n",
              "    [theme=dark] .colab-df-convert:hover {\n",
              "      background-color: #434B5C;\n",
              "      box-shadow: 0px 1px 3px 1px rgba(0, 0, 0, 0.15);\n",
              "      filter: drop-shadow(0px 1px 2px rgba(0, 0, 0, 0.3));\n",
              "      fill: #FFFFFF;\n",
              "    }\n",
              "  </style>\n",
              "\n",
              "      <script>\n",
              "        const buttonEl =\n",
              "          document.querySelector('#df-080e14b7-6c3f-486a-945c-2e8a0a946416 button.colab-df-convert');\n",
              "        buttonEl.style.display =\n",
              "          google.colab.kernel.accessAllowed ? 'block' : 'none';\n",
              "\n",
              "        async function convertToInteractive(key) {\n",
              "          const element = document.querySelector('#df-080e14b7-6c3f-486a-945c-2e8a0a946416');\n",
              "          const dataTable =\n",
              "            await google.colab.kernel.invokeFunction('convertToInteractive',\n",
              "                                                     [key], {});\n",
              "          if (!dataTable) return;\n",
              "\n",
              "          const docLinkHtml = 'Like what you see? Visit the ' +\n",
              "            '<a target=\"_blank\" href=https://colab.research.google.com/notebooks/data_table.ipynb>data table notebook</a>'\n",
              "            + ' to learn more about interactive tables.';\n",
              "          element.innerHTML = '';\n",
              "          dataTable['output_type'] = 'display_data';\n",
              "          await google.colab.output.renderOutput(dataTable, element);\n",
              "          const docLink = document.createElement('div');\n",
              "          docLink.innerHTML = docLinkHtml;\n",
              "          element.appendChild(docLink);\n",
              "        }\n",
              "      </script>\n",
              "    </div>\n",
              "  </div>\n",
              "  "
            ],
            "text/plain": [
              "        event_name\n",
              "count  7551.000000\n",
              "mean     32.275593\n",
              "std      65.154219\n",
              "min       1.000000\n",
              "25%       9.000000\n",
              "50%      20.000000\n",
              "75%      37.000000\n",
              "max    2307.000000"
            ]
          },
          "execution_count": 27,
          "metadata": {},
          "output_type": "execute_result"
        }
      ],
      "source": [
        "df.groupby('user_id')[['event_name']].count().describe()"
      ]
    },
    {
      "cell_type": "markdown",
      "metadata": {
        "id": "AxdjLHl1rMed"
      },
      "source": [
        "<b> Вывод: </b>\n",
        "\n",
        "В среднем на пользователя приходится 32 события. "
      ]
    },
    {
      "cell_type": "markdown",
      "metadata": {
        "id": "7_WKtdynrMee"
      },
      "source": [
        "### Данными за какой период мы располагаем (найдём максимальную и минимальную даты)\n"
      ]
    },
    {
      "cell_type": "code",
      "execution_count": 28,
      "metadata": {
        "colab": {
          "base_uri": "https://localhost:8080/"
        },
        "id": "olot7LakrMee",
        "outputId": "fa980522-862c-4264-9325-0cb72aea4ffb"
      },
      "outputs": [
        {
          "data": {
            "text/plain": [
              "Timestamp('2019-07-25 04:43:36')"
            ]
          },
          "execution_count": 28,
          "metadata": {},
          "output_type": "execute_result"
        }
      ],
      "source": [
        "df['event_time'].min()"
      ]
    },
    {
      "cell_type": "code",
      "execution_count": 29,
      "metadata": {
        "colab": {
          "base_uri": "https://localhost:8080/"
        },
        "id": "6I1f8BTVrMef",
        "outputId": "f85e4ac0-852f-4327-86a5-e95ee93f3e15"
      },
      "outputs": [
        {
          "data": {
            "text/plain": [
              "Timestamp('2019-08-07 21:15:17')"
            ]
          },
          "execution_count": 29,
          "metadata": {},
          "output_type": "execute_result"
        }
      ],
      "source": [
        "df['event_time'].max()"
      ]
    },
    {
      "cell_type": "markdown",
      "metadata": {
        "id": "ZC5s9V7grMef"
      },
      "source": [
        "<b> Вывод: </b>\n",
        "\n",
        "Данные представлены за период с 25 июля 2019 года по 07 августа 2019."
      ]
    },
    {
      "cell_type": "markdown",
      "metadata": {
        "id": "MG3hpdMBrMef"
      },
      "source": [
        "### Построим гистограмму по дате и времени.\n",
        "\n",
        "Проверим \"полноту\" данных за весь период (технически в логи новых дней по некоторым пользователям могут \"доезжать\" события из прошлого — это может \"перекашивать данные\"). \n",
        "\n",
        "Определим, с какого момента данные полные и отбросим более старые. Рассмотрим, данными за какой период времени мы располагаем на самом деле."
      ]
    },
    {
      "cell_type": "code",
      "execution_count": 30,
      "metadata": {
        "colab": {
          "base_uri": "https://localhost:8080/",
          "height": 374
        },
        "id": "_-L37kdorMef",
        "outputId": "811ec404-35c8-4187-c395-af540e2f52b8"
      },
      "outputs": [
        {
          "data": {
            "image/png": "[encoded data removed]",
            "text/plain": [
              "<Figure size 1080x360 with 1 Axes>"
            ]
          },
          "metadata": {
            "needs_background": "light"
          },
          "output_type": "display_data"
        }
      ],
      "source": [
        "plt.figure(figsize =(15, 5))\n",
        "df['event_date'].hist(bins=df['event_date'].nunique())\n",
        "plt.title('Гистограмма по дате и времени')\n",
        "plt.xticks(rotation=45)\n",
        "plt.show()"
      ]
    },
    {
      "cell_type": "markdown",
      "metadata": {
        "id": "BekaeH3UrMeg"
      },
      "source": [
        "<b> Вывод: </b>\n",
        "\n",
        "Как видно из гистограммы, в период с 25.07.2019 по 31.07.2019 данные практически отсутствуют. Будем считать их неполными и отбросим."
      ]
    },
    {
      "cell_type": "markdown",
      "metadata": {
        "id": "eu8RlBkDrMeg"
      },
      "source": [
        "### Рассмотрим, много ли событий и пользователей мы потеряли, отбросив старые данные"
      ]
    },
    {
      "cell_type": "code",
      "execution_count": 31,
      "metadata": {
        "id": "CNvjWxcDrMeh"
      },
      "outputs": [],
      "source": [
        "df_new = df.query('event_date >= datetime(2019, 8, 1).date()')"
      ]
    },
    {
      "cell_type": "code",
      "execution_count": 32,
      "metadata": {
        "colab": {
          "base_uri": "https://localhost:8080/"
        },
        "id": "ArwbKeMWrMeh",
        "outputId": "ad4bf07f-636c-4805-c557-96958f22d4a6"
      },
      "outputs": [
        {
          "data": {
            "text/plain": [
              "2826"
            ]
          },
          "execution_count": 32,
          "metadata": {},
          "output_type": "execute_result"
        }
      ],
      "source": [
        "df['event_name'].count() - df_new['event_name'].count()"
      ]
    },
    {
      "cell_type": "code",
      "execution_count": 33,
      "metadata": {
        "colab": {
          "base_uri": "https://localhost:8080/"
        },
        "id": "kPTtlOiVrMeh",
        "outputId": "0fa9dd05-0b62-4105-bd3c-c7d12d58ac28"
      },
      "outputs": [
        {
          "data": {
            "text/plain": [
              "98.84"
            ]
          },
          "execution_count": 33,
          "metadata": {},
          "output_type": "execute_result"
        }
      ],
      "source": [
        "round(df_new['event_name'].count() / df['event_name'].count() * 100, 2)"
      ]
    },
    {
      "cell_type": "code",
      "execution_count": 34,
      "metadata": {
        "colab": {
          "base_uri": "https://localhost:8080/"
        },
        "id": "iEoYv2q0rMeh",
        "outputId": "d91daca7-0ae3-4a88-ebf2-ee129233ad58"
      },
      "outputs": [
        {
          "data": {
            "text/plain": [
              "17"
            ]
          },
          "execution_count": 34,
          "metadata": {},
          "output_type": "execute_result"
        }
      ],
      "source": [
        "df['user_id'].nunique() - df_new['user_id'].nunique()"
      ]
    },
    {
      "cell_type": "code",
      "execution_count": 35,
      "metadata": {
        "colab": {
          "base_uri": "https://localhost:8080/"
        },
        "id": "aE2XCfz6rMei",
        "outputId": "059ab051-2f4a-4f12-de01-0d2a9448e055"
      },
      "outputs": [
        {
          "data": {
            "text/plain": [
              "99.77"
            ]
          },
          "execution_count": 35,
          "metadata": {},
          "output_type": "execute_result"
        }
      ],
      "source": [
        "round(df_new['user_id'].nunique() / df['user_id'].nunique() * 100, 2)"
      ]
    },
    {
      "cell_type": "markdown",
      "metadata": {
        "id": "D2-cnr40rMei"
      },
      "source": [
        "<b> Вывод: </b>\n",
        "\n",
        "После отбрасывания неполных данных мы потеряли 2826 событий, вследствии чего, у нас осталось 98.84 % от первоначальных данных и мы потеряли 17 пользователей, вследствии чего, у нас осталось 99.77 % от первоначальных данных."
      ]
    },
    {
      "cell_type": "markdown",
      "metadata": {
        "id": "GT7fSnmurMej"
      },
      "source": [
        "### Проверим, что у нас есть пользователи из всех трёх экспериментальных групп\n",
        "\n"
      ]
    },
    {
      "cell_type": "code",
      "execution_count": 36,
      "metadata": {
        "colab": {
          "base_uri": "https://localhost:8080/",
          "height": 143
        },
        "id": "N25uxmTVrMej",
        "outputId": "c9cf1020-9e5e-4798-ea72-cb5de0d0812a"
      },
      "outputs": [
        {
          "data": {
            "text/html": [
              "\n",
              "  <div id=\"df-8835a159-1aea-4979-b4f2-ca98234f1098\">\n",
              "    <div class=\"colab-df-container\">\n",
              "      <div>\n",
              "<style scoped>\n",
              "    .dataframe tbody tr th:only-of-type {\n",
              "        vertical-align: middle;\n",
              "    }\n",
              "\n",
              "    .dataframe tbody tr th {\n",
              "        vertical-align: top;\n",
              "    }\n",
              "\n",
              "    .dataframe thead th {\n",
              "        text-align: right;\n",
              "    }\n",
              "</style>\n",
              "<table border=\"1\" class=\"dataframe\">\n",
              "  <thead>\n",
              "    <tr style=\"text-align: right;\">\n",
              "      <th></th>\n",
              "      <th>group</th>\n",
              "      <th>user_id</th>\n",
              "    </tr>\n",
              "  </thead>\n",
              "  <tbody>\n",
              "    <tr>\n",
              "      <th>0</th>\n",
              "      <td>246</td>\n",
              "      <td>2484</td>\n",
              "    </tr>\n",
              "    <tr>\n",
              "      <th>1</th>\n",
              "      <td>247</td>\n",
              "      <td>2513</td>\n",
              "    </tr>\n",
              "    <tr>\n",
              "      <th>2</th>\n",
              "      <td>248</td>\n",
              "      <td>2537</td>\n",
              "    </tr>\n",
              "  </tbody>\n",
              "</table>\n",
              "</div>\n",
              "      <button class=\"colab-df-convert\" onclick=\"convertToInteractive('df-8835a159-1aea-4979-b4f2-ca98234f1098')\"\n",
              "              title=\"Convert this dataframe to an interactive table.\"\n",
              "              style=\"display:none;\">\n",
              "        \n",
              "  <svg xmlns=\"http://www.w3.org/2000/svg\" height=\"24px\"viewBox=\"0 0 24 24\"\n",
              "       width=\"24px\">\n",
              "    <path d=\"M0 0h24v24H0V0z\" fill=\"none\"/>\n",
              "    <path d=\"M18.56 5.44l.94 2.06.94-2.06 2.06-.94-2.06-.94-.94-2.06-.94 2.06-2.06.94zm-11 1L8.5 8.5l.94-2.06 2.06-.94-2.06-.94L8.5 2.5l-.94 2.06-2.06.94zm10 10l.94 2.06.94-2.06 2.06-.94-2.06-.94-.94-2.06-.94 2.06-2.06.94z\"/><path d=\"M17.41 7.96l-1.37-1.37c-.4-.4-.92-.59-1.43-.59-.52 0-1.04.2-1.43.59L10.3 9.45l-7.72 7.72c-.78.78-.78 2.05 0 2.83L4 21.41c.39.39.9.59 1.41.59.51 0 1.02-.2 1.41-.59l7.78-7.78 2.81-2.81c.8-.78.8-2.07 0-2.86zM5.41 20L4 18.59l7.72-7.72 1.47 1.35L5.41 20z\"/>\n",
              "  </svg>\n",
              "      </button>\n",
              "      \n",
              "  <style>\n",
              "    .colab-df-container {\n",
              "      display:flex;\n",
              "      flex-wrap:wrap;\n",
              "      gap: 12px;\n",
              "    }\n",
              "\n",
              "    .colab-df-convert {\n",
              "      background-color: #E8F0FE;\n",
              "      border: none;\n",
              "      border-radius: 50%;\n",
              "      cursor: pointer;\n",
              "      display: none;\n",
              "      fill: #1967D2;\n",
              "      height: 32px;\n",
              "      padding: 0 0 0 0;\n",
              "      width: 32px;\n",
              "    }\n",
              "\n",
              "    .colab-df-convert:hover {\n",
              "      background-color: #E2EBFA;\n",
              "      box-shadow: 0px 1px 2px rgba(60, 64, 67, 0.3), 0px 1px 3px 1px rgba(60, 64, 67, 0.15);\n",
              "      fill: #174EA6;\n",
              "    }\n",
              "\n",
              "    [theme=dark] .colab-df-convert {\n",
              "      background-color: #3B4455;\n",
              "      fill: #D2E3FC;\n",
              "    }\n",
              "\n",
              "    [theme=dark] .colab-df-convert:hover {\n",
              "      background-color: #434B5C;\n",
              "      box-shadow: 0px 1px 3px 1px rgba(0, 0, 0, 0.15);\n",
              "      filter: drop-shadow(0px 1px 2px rgba(0, 0, 0, 0.3));\n",
              "      fill: #FFFFFF;\n",
              "    }\n",
              "  </style>\n",
              "\n",
              "      <script>\n",
              "        const buttonEl =\n",
              "          document.querySelector('#df-8835a159-1aea-4979-b4f2-ca98234f1098 button.colab-df-convert');\n",
              "        buttonEl.style.display =\n",
              "          google.colab.kernel.accessAllowed ? 'block' : 'none';\n",
              "\n",
              "        async function convertToInteractive(key) {\n",
              "          const element = document.querySelector('#df-8835a159-1aea-4979-b4f2-ca98234f1098');\n",
              "          const dataTable =\n",
              "            await google.colab.kernel.invokeFunction('convertToInteractive',\n",
              "                                                     [key], {});\n",
              "          if (!dataTable) return;\n",
              "\n",
              "          const docLinkHtml = 'Like what you see? Visit the ' +\n",
              "            '<a target=\"_blank\" href=https://colab.research.google.com/notebooks/data_table.ipynb>data table notebook</a>'\n",
              "            + ' to learn more about interactive tables.';\n",
              "          element.innerHTML = '';\n",
              "          dataTable['output_type'] = 'display_data';\n",
              "          await google.colab.output.renderOutput(dataTable, element);\n",
              "          const docLink = document.createElement('div');\n",
              "          docLink.innerHTML = docLinkHtml;\n",
              "          element.appendChild(docLink);\n",
              "        }\n",
              "      </script>\n",
              "    </div>\n",
              "  </div>\n",
              "  "
            ],
            "text/plain": [
              "   group  user_id\n",
              "0    246     2484\n",
              "1    247     2513\n",
              "2    248     2537"
            ]
          },
          "execution_count": 36,
          "metadata": {},
          "output_type": "execute_result"
        }
      ],
      "source": [
        "df_new.groupby('group').agg({'user_id': 'nunique'}).reset_index()"
      ]
    },
    {
      "cell_type": "markdown",
      "metadata": {
        "id": "tNngiy3frMej"
      },
      "source": [
        "<b> Вывод: </b>\n",
        "\n",
        "В очищенных данных присутствуют пользователи из всех трёх экспериментальных групп."
      ]
    },
    {
      "cell_type": "markdown",
      "metadata": {
        "id": "sA8WnbTmrMek"
      },
      "source": [
        "<b> Общий вывод по разделу 3: </b>\n",
        "\n",
        "Рассмотрев распределение данных по дате, мы отсеили неполные данные (период с 25.07.2019 по 31.07.2019). Последующая проверка показала, что процент отброшенных данных мал, и в очищенных данных присутствуют пользователи из всех трёх экспериментальных групп.  "
      ]
    },
    {
      "cell_type": "markdown",
      "metadata": {
        "id": "FURz5_lZrMek"
      },
      "source": [
        "## Изучим воронку событий.\n",
        "\n",
        "- Посмотрим, какие события есть в логах, как часто они встречаются и отсортируем их по частоте; \n",
        "- Посчитаем, сколько пользователей совершали каждое из этих событий и отсортируем события по числу пользователей;\n",
        "- Посчитаем долю пользователей, которые хоть раз совершали событие; \n",
        "- Предположим, в каком порядке происходят события, все ли они выстраиваются в последовательную цепочку, какие события не нужно учитывать при расчёте воронки; \n",
        "- По воронке событий посчитаем, какая доля пользователей проходит на следующий шаг воронки (от числа пользователей на предыдущем,то есть для последовательности событий A → B → C посчитаем отношение числа пользователей с событием B к количеству пользователей с событием A, а также отношение числа пользователей с событием C к количеству пользователей с событием B);\n",
        "- Выясним на каком шаге теряете больше всего пользователей и какая доля пользователей доходит от первого события до оплаты."
      ]
    },
    {
      "cell_type": "markdown",
      "metadata": {
        "id": "eRovS0lArMel"
      },
      "source": [
        "### Посмотрим, какие события есть в логах, как часто они встречаются и отсортируем их по частоте."
      ]
    },
    {
      "cell_type": "code",
      "execution_count": 37,
      "metadata": {
        "colab": {
          "base_uri": "https://localhost:8080/"
        },
        "id": "Mz5DSDqarMel",
        "outputId": "318fa844-9947-423e-874d-433571701d88"
      },
      "outputs": [
        {
          "data": {
            "text/plain": [
              "MainScreenAppear           117328\n",
              "OffersScreenAppear          46333\n",
              "CartScreenAppear            42303\n",
              "PaymentScreenSuccessful     33918\n",
              "Tutorial                     1005\n",
              "Name: event_name, dtype: int64"
            ]
          },
          "execution_count": 37,
          "metadata": {},
          "output_type": "execute_result"
        }
      ],
      "source": [
        "df_new['event_name'].value_counts()"
      ]
    },
    {
      "cell_type": "markdown",
      "metadata": {
        "id": "NjtllYFrrMel"
      },
      "source": [
        "<b> Вывод: </b>\n",
        "\n",
        "Всего 5 событий:\n",
        "- MainScreenAppear - просмотр главной страницы;\n",
        "- OffersScreenAppear - просмотр страницы предложений;\n",
        "- CartScreenAppear - просмотр корзины;\n",
        "- PaymentScreenSuccessful - переход на страницу оплаты;\n",
        "- Tutorial - обучение.\n"
      ]
    },
    {
      "cell_type": "markdown",
      "metadata": {
        "id": "qIcRngKCrMel"
      },
      "source": [
        "### Посчитаем, сколько пользователей совершали каждое из этих событий и отсортируем события по числу пользователей."
      ]
    },
    {
      "cell_type": "code",
      "execution_count": 38,
      "metadata": {
        "colab": {
          "base_uri": "https://localhost:8080/",
          "height": 206
        },
        "id": "PVBFXqMarMem",
        "outputId": "48f17f4a-5ca3-49cb-bc62-f555ad639495"
      },
      "outputs": [
        {
          "data": {
            "text/html": [
              "\n",
              "  <div id=\"df-de323dfc-24b3-4822-ae1c-4765d0bb912f\">\n",
              "    <div class=\"colab-df-container\">\n",
              "      <div>\n",
              "<style scoped>\n",
              "    .dataframe tbody tr th:only-of-type {\n",
              "        vertical-align: middle;\n",
              "    }\n",
              "\n",
              "    .dataframe tbody tr th {\n",
              "        vertical-align: top;\n",
              "    }\n",
              "\n",
              "    .dataframe thead th {\n",
              "        text-align: right;\n",
              "    }\n",
              "</style>\n",
              "<table border=\"1\" class=\"dataframe\">\n",
              "  <thead>\n",
              "    <tr style=\"text-align: right;\">\n",
              "      <th></th>\n",
              "      <th>event_name</th>\n",
              "      <th>user_id</th>\n",
              "    </tr>\n",
              "  </thead>\n",
              "  <tbody>\n",
              "    <tr>\n",
              "      <th>0</th>\n",
              "      <td>MainScreenAppear</td>\n",
              "      <td>7419</td>\n",
              "    </tr>\n",
              "    <tr>\n",
              "      <th>1</th>\n",
              "      <td>OffersScreenAppear</td>\n",
              "      <td>4593</td>\n",
              "    </tr>\n",
              "    <tr>\n",
              "      <th>2</th>\n",
              "      <td>CartScreenAppear</td>\n",
              "      <td>3734</td>\n",
              "    </tr>\n",
              "    <tr>\n",
              "      <th>3</th>\n",
              "      <td>PaymentScreenSuccessful</td>\n",
              "      <td>3539</td>\n",
              "    </tr>\n",
              "    <tr>\n",
              "      <th>4</th>\n",
              "      <td>Tutorial</td>\n",
              "      <td>840</td>\n",
              "    </tr>\n",
              "  </tbody>\n",
              "</table>\n",
              "</div>\n",
              "      <button class=\"colab-df-convert\" onclick=\"convertToInteractive('df-de323dfc-24b3-4822-ae1c-4765d0bb912f')\"\n",
              "              title=\"Convert this dataframe to an interactive table.\"\n",
              "              style=\"display:none;\">\n",
              "        \n",
              "  <svg xmlns=\"http://www.w3.org/2000/svg\" height=\"24px\"viewBox=\"0 0 24 24\"\n",
              "       width=\"24px\">\n",
              "    <path d=\"M0 0h24v24H0V0z\" fill=\"none\"/>\n",
              "    <path d=\"M18.56 5.44l.94 2.06.94-2.06 2.06-.94-2.06-.94-.94-2.06-.94 2.06-2.06.94zm-11 1L8.5 8.5l.94-2.06 2.06-.94-2.06-.94L8.5 2.5l-.94 2.06-2.06.94zm10 10l.94 2.06.94-2.06 2.06-.94-2.06-.94-.94-2.06-.94 2.06-2.06.94z\"/><path d=\"M17.41 7.96l-1.37-1.37c-.4-.4-.92-.59-1.43-.59-.52 0-1.04.2-1.43.59L10.3 9.45l-7.72 7.72c-.78.78-.78 2.05 0 2.83L4 21.41c.39.39.9.59 1.41.59.51 0 1.02-.2 1.41-.59l7.78-7.78 2.81-2.81c.8-.78.8-2.07 0-2.86zM5.41 20L4 18.59l7.72-7.72 1.47 1.35L5.41 20z\"/>\n",
              "  </svg>\n",
              "      </button>\n",
              "      \n",
              "  <style>\n",
              "    .colab-df-container {\n",
              "      display:flex;\n",
              "      flex-wrap:wrap;\n",
              "      gap: 12px;\n",
              "    }\n",
              "\n",
              "    .colab-df-convert {\n",
              "      background-color: #E8F0FE;\n",
              "      border: none;\n",
              "      border-radius: 50%;\n",
              "      cursor: pointer;\n",
              "      display: none;\n",
              "      fill: #1967D2;\n",
              "      height: 32px;\n",
              "      padding: 0 0 0 0;\n",
              "      width: 32px;\n",
              "    }\n",
              "\n",
              "    .colab-df-convert:hover {\n",
              "      background-color: #E2EBFA;\n",
              "      box-shadow: 0px 1px 2px rgba(60, 64, 67, 0.3), 0px 1px 3px 1px rgba(60, 64, 67, 0.15);\n",
              "      fill: #174EA6;\n",
              "    }\n",
              "\n",
              "    [theme=dark] .colab-df-convert {\n",
              "      background-color: #3B4455;\n",
              "      fill: #D2E3FC;\n",
              "    }\n",
              "\n",
              "    [theme=dark] .colab-df-convert:hover {\n",
              "      background-color: #434B5C;\n",
              "      box-shadow: 0px 1px 3px 1px rgba(0, 0, 0, 0.15);\n",
              "      filter: drop-shadow(0px 1px 2px rgba(0, 0, 0, 0.3));\n",
              "      fill: #FFFFFF;\n",
              "    }\n",
              "  </style>\n",
              "\n",
              "      <script>\n",
              "        const buttonEl =\n",
              "          document.querySelector('#df-de323dfc-24b3-4822-ae1c-4765d0bb912f button.colab-df-convert');\n",
              "        buttonEl.style.display =\n",
              "          google.colab.kernel.accessAllowed ? 'block' : 'none';\n",
              "\n",
              "        async function convertToInteractive(key) {\n",
              "          const element = document.querySelector('#df-de323dfc-24b3-4822-ae1c-4765d0bb912f');\n",
              "          const dataTable =\n",
              "            await google.colab.kernel.invokeFunction('convertToInteractive',\n",
              "                                                     [key], {});\n",
              "          if (!dataTable) return;\n",
              "\n",
              "          const docLinkHtml = 'Like what you see? Visit the ' +\n",
              "            '<a target=\"_blank\" href=https://colab.research.google.com/notebooks/data_table.ipynb>data table notebook</a>'\n",
              "            + ' to learn more about interactive tables.';\n",
              "          element.innerHTML = '';\n",
              "          dataTable['output_type'] = 'display_data';\n",
              "          await google.colab.output.renderOutput(dataTable, element);\n",
              "          const docLink = document.createElement('div');\n",
              "          docLink.innerHTML = docLinkHtml;\n",
              "          element.appendChild(docLink);\n",
              "        }\n",
              "      </script>\n",
              "    </div>\n",
              "  </div>\n",
              "  "
            ],
            "text/plain": [
              "                event_name  user_id\n",
              "0         MainScreenAppear     7419\n",
              "1       OffersScreenAppear     4593\n",
              "2         CartScreenAppear     3734\n",
              "3  PaymentScreenSuccessful     3539\n",
              "4                 Tutorial      840"
            ]
          },
          "execution_count": 38,
          "metadata": {},
          "output_type": "execute_result"
        }
      ],
      "source": [
        "df_new.groupby('event_name')['user_id'].nunique().sort_values(ascending=False).reset_index()"
      ]
    },
    {
      "cell_type": "markdown",
      "metadata": {
        "id": "c067zmCCrMem"
      },
      "source": [
        "<b> Вывод: </b>\n",
        "\n",
        "Больше всего пользователей просматривало главную страницу. Далее, по ходу выполнения операций в приложении количество пользователей снижается. Обучение проходит небольшое количество пользователей. "
      ]
    },
    {
      "cell_type": "markdown",
      "metadata": {
        "id": "Xv9suWMBrMen"
      },
      "source": [
        "### Посчитаем долю пользователей, которые хоть раз совершали событие.\n"
      ]
    },
    {
      "cell_type": "code",
      "execution_count": 39,
      "metadata": {
        "colab": {
          "base_uri": "https://localhost:8080/",
          "height": 206
        },
        "id": "b4UkdaOdrMen",
        "outputId": "1bcfca19-ded3-4a88-e50d-070c9fe7f471"
      },
      "outputs": [
        {
          "data": {
            "text/html": [
              "\n",
              "  <div id=\"df-0b117e37-7767-4f04-9f4f-fd367c5176cf\">\n",
              "    <div class=\"colab-df-container\">\n",
              "      <div>\n",
              "<style scoped>\n",
              "    .dataframe tbody tr th:only-of-type {\n",
              "        vertical-align: middle;\n",
              "    }\n",
              "\n",
              "    .dataframe tbody tr th {\n",
              "        vertical-align: top;\n",
              "    }\n",
              "\n",
              "    .dataframe thead th {\n",
              "        text-align: right;\n",
              "    }\n",
              "</style>\n",
              "<table border=\"1\" class=\"dataframe\">\n",
              "  <thead>\n",
              "    <tr style=\"text-align: right;\">\n",
              "      <th></th>\n",
              "      <th>event_name</th>\n",
              "      <th>user_id</th>\n",
              "      <th>percent</th>\n",
              "    </tr>\n",
              "  </thead>\n",
              "  <tbody>\n",
              "    <tr>\n",
              "      <th>0</th>\n",
              "      <td>MainScreenAppear</td>\n",
              "      <td>7419</td>\n",
              "      <td>98.473586</td>\n",
              "    </tr>\n",
              "    <tr>\n",
              "      <th>1</th>\n",
              "      <td>OffersScreenAppear</td>\n",
              "      <td>4593</td>\n",
              "      <td>60.963632</td>\n",
              "    </tr>\n",
              "    <tr>\n",
              "      <th>2</th>\n",
              "      <td>CartScreenAppear</td>\n",
              "      <td>3734</td>\n",
              "      <td>49.561986</td>\n",
              "    </tr>\n",
              "    <tr>\n",
              "      <th>3</th>\n",
              "      <td>PaymentScreenSuccessful</td>\n",
              "      <td>3539</td>\n",
              "      <td>46.973719</td>\n",
              "    </tr>\n",
              "    <tr>\n",
              "      <th>4</th>\n",
              "      <td>Tutorial</td>\n",
              "      <td>840</td>\n",
              "      <td>11.149456</td>\n",
              "    </tr>\n",
              "  </tbody>\n",
              "</table>\n",
              "</div>\n",
              "      <button class=\"colab-df-convert\" onclick=\"convertToInteractive('df-0b117e37-7767-4f04-9f4f-fd367c5176cf')\"\n",
              "              title=\"Convert this dataframe to an interactive table.\"\n",
              "              style=\"display:none;\">\n",
              "        \n",
              "  <svg xmlns=\"http://www.w3.org/2000/svg\" height=\"24px\"viewBox=\"0 0 24 24\"\n",
              "       width=\"24px\">\n",
              "    <path d=\"M0 0h24v24H0V0z\" fill=\"none\"/>\n",
              "    <path d=\"M18.56 5.44l.94 2.06.94-2.06 2.06-.94-2.06-.94-.94-2.06-.94 2.06-2.06.94zm-11 1L8.5 8.5l.94-2.06 2.06-.94-2.06-.94L8.5 2.5l-.94 2.06-2.06.94zm10 10l.94 2.06.94-2.06 2.06-.94-2.06-.94-.94-2.06-.94 2.06-2.06.94z\"/><path d=\"M17.41 7.96l-1.37-1.37c-.4-.4-.92-.59-1.43-.59-.52 0-1.04.2-1.43.59L10.3 9.45l-7.72 7.72c-.78.78-.78 2.05 0 2.83L4 21.41c.39.39.9.59 1.41.59.51 0 1.02-.2 1.41-.59l7.78-7.78 2.81-2.81c.8-.78.8-2.07 0-2.86zM5.41 20L4 18.59l7.72-7.72 1.47 1.35L5.41 20z\"/>\n",
              "  </svg>\n",
              "      </button>\n",
              "      \n",
              "  <style>\n",
              "    .colab-df-container {\n",
              "      display:flex;\n",
              "      flex-wrap:wrap;\n",
              "      gap: 12px;\n",
              "    }\n",
              "\n",
              "    .colab-df-convert {\n",
              "      background-color: #E8F0FE;\n",
              "      border: none;\n",
              "      border-radius: 50%;\n",
              "      cursor: pointer;\n",
              "      display: none;\n",
              "      fill: #1967D2;\n",
              "      height: 32px;\n",
              "      padding: 0 0 0 0;\n",
              "      width: 32px;\n",
              "    }\n",
              "\n",
              "    .colab-df-convert:hover {\n",
              "      background-color: #E2EBFA;\n",
              "      box-shadow: 0px 1px 2px rgba(60, 64, 67, 0.3), 0px 1px 3px 1px rgba(60, 64, 67, 0.15);\n",
              "      fill: #174EA6;\n",
              "    }\n",
              "\n",
              "    [theme=dark] .colab-df-convert {\n",
              "      background-color: #3B4455;\n",
              "      fill: #D2E3FC;\n",
              "    }\n",
              "\n",
              "    [theme=dark] .colab-df-convert:hover {\n",
              "      background-color: #434B5C;\n",
              "      box-shadow: 0px 1px 3px 1px rgba(0, 0, 0, 0.15);\n",
              "      filter: drop-shadow(0px 1px 2px rgba(0, 0, 0, 0.3));\n",
              "      fill: #FFFFFF;\n",
              "    }\n",
              "  </style>\n",
              "\n",
              "      <script>\n",
              "        const buttonEl =\n",
              "          document.querySelector('#df-0b117e37-7767-4f04-9f4f-fd367c5176cf button.colab-df-convert');\n",
              "        buttonEl.style.display =\n",
              "          google.colab.kernel.accessAllowed ? 'block' : 'none';\n",
              "\n",
              "        async function convertToInteractive(key) {\n",
              "          const element = document.querySelector('#df-0b117e37-7767-4f04-9f4f-fd367c5176cf');\n",
              "          const dataTable =\n",
              "            await google.colab.kernel.invokeFunction('convertToInteractive',\n",
              "                                                     [key], {});\n",
              "          if (!dataTable) return;\n",
              "\n",
              "          const docLinkHtml = 'Like what you see? Visit the ' +\n",
              "            '<a target=\"_blank\" href=https://colab.research.google.com/notebooks/data_table.ipynb>data table notebook</a>'\n",
              "            + ' to learn more about interactive tables.';\n",
              "          element.innerHTML = '';\n",
              "          dataTable['output_type'] = 'display_data';\n",
              "          await google.colab.output.renderOutput(dataTable, element);\n",
              "          const docLink = document.createElement('div');\n",
              "          docLink.innerHTML = docLinkHtml;\n",
              "          element.appendChild(docLink);\n",
              "        }\n",
              "      </script>\n",
              "    </div>\n",
              "  </div>\n",
              "  "
            ],
            "text/plain": [
              "                event_name  user_id    percent\n",
              "0         MainScreenAppear     7419  98.473586\n",
              "1       OffersScreenAppear     4593  60.963632\n",
              "2         CartScreenAppear     3734  49.561986\n",
              "3  PaymentScreenSuccessful     3539  46.973719\n",
              "4                 Tutorial      840  11.149456"
            ]
          },
          "execution_count": 39,
          "metadata": {},
          "output_type": "execute_result"
        }
      ],
      "source": [
        "# Создадим временную таблицу и добавим к ней колонку с процентами\n",
        "t = df_new.groupby('event_name')['user_id'].nunique().sort_values(ascending=False).reset_index()\n",
        "t['percent'] = t['user_id'] / df_new['user_id'].nunique() * 100\n",
        "t"
      ]
    },
    {
      "cell_type": "markdown",
      "metadata": {
        "id": "O4nCca68rMen"
      },
      "source": [
        "<b> Вывод: </b>\n",
        "\n",
        "Только половина пользователей добирается до корзины, и ещё меньше до оплаты."
      ]
    },
    {
      "cell_type": "markdown",
      "metadata": {
        "id": "CunTQZVerMeo"
      },
      "source": [
        "### Предположим, в каком порядке происходят события, все ли они выстраиваются в последовательную цепочку, какие события не нужно учитывать при расчёте воронки.\n",
        "\n",
        "Ранее мы рассмотрели, какие события есть в логах."
      ]
    },
    {
      "cell_type": "code",
      "execution_count": 40,
      "metadata": {
        "colab": {
          "base_uri": "https://localhost:8080/"
        },
        "id": "ssK-xAlOrMeo",
        "outputId": "8fa8fb51-302b-4cb5-aacd-b33c11d327e8"
      },
      "outputs": [
        {
          "data": {
            "text/plain": [
              "MainScreenAppear           117328\n",
              "OffersScreenAppear          46333\n",
              "CartScreenAppear            42303\n",
              "PaymentScreenSuccessful     33918\n",
              "Tutorial                     1005\n",
              "Name: event_name, dtype: int64"
            ]
          },
          "execution_count": 40,
          "metadata": {},
          "output_type": "execute_result"
        }
      ],
      "source": [
        "df_new['event_name'].value_counts()"
      ]
    },
    {
      "cell_type": "markdown",
      "metadata": {
        "id": "P9mjF82_rMeo"
      },
      "source": [
        "<b> Вывод: </b>\n",
        "\n",
        "Исходя из привычной логики совершения покупок, можно смело предположить, что порядок событий именно такой:\n",
        "- MainScreenAppear - просмотр главной страницы;\n",
        "- OffersScreenAppear - просмотр страницы предложений;\n",
        "- CartScreenAppear - просмотр корзины;\n",
        "- PaymentScreenSuccessful - переход на страницу оплаты.\n",
        "\n",
        "Обучение является необязательным действием и его можно исключить из воронки."
      ]
    },
    {
      "cell_type": "markdown",
      "metadata": {
        "id": "ML82st6frMep"
      },
      "source": [
        "### По воронке событий посчитаем, какая доля пользователей проходит на следующий шаг воронки \n",
        "\n",
        "(от числа пользователей на предыдущем,то есть для последовательности событий A → B → C посчитаем отношение числа пользователей с событием B к количеству пользователей с событием A, а также отношение числа пользователей с событием C к количеству пользователей с событием B).\n"
      ]
    },
    {
      "cell_type": "code",
      "execution_count": 41,
      "metadata": {
        "id": "KAQ2JW0crMep"
      },
      "outputs": [],
      "source": [
        "# Удалим событие Tutorial\n",
        "df_new = df_new.query('event_name != \"Tutorial\"')"
      ]
    },
    {
      "cell_type": "code",
      "execution_count": 42,
      "metadata": {
        "colab": {
          "base_uri": "https://localhost:8080/",
          "height": 175
        },
        "id": "mRnqbE3HrMeq",
        "outputId": "bfbf0cc7-0c25-49f5-8b3d-218f2db8f88e"
      },
      "outputs": [
        {
          "data": {
            "text/html": [
              "\n",
              "  <div id=\"df-e883a5ad-093b-4590-8c6f-830119f3ffff\">\n",
              "    <div class=\"colab-df-container\">\n",
              "      <div>\n",
              "<style scoped>\n",
              "    .dataframe tbody tr th:only-of-type {\n",
              "        vertical-align: middle;\n",
              "    }\n",
              "\n",
              "    .dataframe tbody tr th {\n",
              "        vertical-align: top;\n",
              "    }\n",
              "\n",
              "    .dataframe thead th {\n",
              "        text-align: right;\n",
              "    }\n",
              "</style>\n",
              "<table border=\"1\" class=\"dataframe\">\n",
              "  <thead>\n",
              "    <tr style=\"text-align: right;\">\n",
              "      <th></th>\n",
              "      <th>event_name</th>\n",
              "      <th>user_id</th>\n",
              "    </tr>\n",
              "  </thead>\n",
              "  <tbody>\n",
              "    <tr>\n",
              "      <th>0</th>\n",
              "      <td>MainScreenAppear</td>\n",
              "      <td>7419</td>\n",
              "    </tr>\n",
              "    <tr>\n",
              "      <th>1</th>\n",
              "      <td>OffersScreenAppear</td>\n",
              "      <td>4593</td>\n",
              "    </tr>\n",
              "    <tr>\n",
              "      <th>2</th>\n",
              "      <td>CartScreenAppear</td>\n",
              "      <td>3734</td>\n",
              "    </tr>\n",
              "    <tr>\n",
              "      <th>3</th>\n",
              "      <td>PaymentScreenSuccessful</td>\n",
              "      <td>3539</td>\n",
              "    </tr>\n",
              "  </tbody>\n",
              "</table>\n",
              "</div>\n",
              "      <button class=\"colab-df-convert\" onclick=\"convertToInteractive('df-e883a5ad-093b-4590-8c6f-830119f3ffff')\"\n",
              "              title=\"Convert this dataframe to an interactive table.\"\n",
              "              style=\"display:none;\">\n",
              "        \n",
              "  <svg xmlns=\"http://www.w3.org/2000/svg\" height=\"24px\"viewBox=\"0 0 24 24\"\n",
              "       width=\"24px\">\n",
              "    <path d=\"M0 0h24v24H0V0z\" fill=\"none\"/>\n",
              "    <path d=\"M18.56 5.44l.94 2.06.94-2.06 2.06-.94-2.06-.94-.94-2.06-.94 2.06-2.06.94zm-11 1L8.5 8.5l.94-2.06 2.06-.94-2.06-.94L8.5 2.5l-.94 2.06-2.06.94zm10 10l.94 2.06.94-2.06 2.06-.94-2.06-.94-.94-2.06-.94 2.06-2.06.94z\"/><path d=\"M17.41 7.96l-1.37-1.37c-.4-.4-.92-.59-1.43-.59-.52 0-1.04.2-1.43.59L10.3 9.45l-7.72 7.72c-.78.78-.78 2.05 0 2.83L4 21.41c.39.39.9.59 1.41.59.51 0 1.02-.2 1.41-.59l7.78-7.78 2.81-2.81c.8-.78.8-2.07 0-2.86zM5.41 20L4 18.59l7.72-7.72 1.47 1.35L5.41 20z\"/>\n",
              "  </svg>\n",
              "      </button>\n",
              "      \n",
              "  <style>\n",
              "    .colab-df-container {\n",
              "      display:flex;\n",
              "      flex-wrap:wrap;\n",
              "      gap: 12px;\n",
              "    }\n",
              "\n",
              "    .colab-df-convert {\n",
              "      background-color: #E8F0FE;\n",
              "      border: none;\n",
              "      border-radius: 50%;\n",
              "      cursor: pointer;\n",
              "      display: none;\n",
              "      fill: #1967D2;\n",
              "      height: 32px;\n",
              "      padding: 0 0 0 0;\n",
              "      width: 32px;\n",
              "    }\n",
              "\n",
              "    .colab-df-convert:hover {\n",
              "      background-color: #E2EBFA;\n",
              "      box-shadow: 0px 1px 2px rgba(60, 64, 67, 0.3), 0px 1px 3px 1px rgba(60, 64, 67, 0.15);\n",
              "      fill: #174EA6;\n",
              "    }\n",
              "\n",
              "    [theme=dark] .colab-df-convert {\n",
              "      background-color: #3B4455;\n",
              "      fill: #D2E3FC;\n",
              "    }\n",
              "\n",
              "    [theme=dark] .colab-df-convert:hover {\n",
              "      background-color: #434B5C;\n",
              "      box-shadow: 0px 1px 3px 1px rgba(0, 0, 0, 0.15);\n",
              "      filter: drop-shadow(0px 1px 2px rgba(0, 0, 0, 0.3));\n",
              "      fill: #FFFFFF;\n",
              "    }\n",
              "  </style>\n",
              "\n",
              "      <script>\n",
              "        const buttonEl =\n",
              "          document.querySelector('#df-e883a5ad-093b-4590-8c6f-830119f3ffff button.colab-df-convert');\n",
              "        buttonEl.style.display =\n",
              "          google.colab.kernel.accessAllowed ? 'block' : 'none';\n",
              "\n",
              "        async function convertToInteractive(key) {\n",
              "          const element = document.querySelector('#df-e883a5ad-093b-4590-8c6f-830119f3ffff');\n",
              "          const dataTable =\n",
              "            await google.colab.kernel.invokeFunction('convertToInteractive',\n",
              "                                                     [key], {});\n",
              "          if (!dataTable) return;\n",
              "\n",
              "          const docLinkHtml = 'Like what you see? Visit the ' +\n",
              "            '<a target=\"_blank\" href=https://colab.research.google.com/notebooks/data_table.ipynb>data table notebook</a>'\n",
              "            + ' to learn more about interactive tables.';\n",
              "          element.innerHTML = '';\n",
              "          dataTable['output_type'] = 'display_data';\n",
              "          await google.colab.output.renderOutput(dataTable, element);\n",
              "          const docLink = document.createElement('div');\n",
              "          docLink.innerHTML = docLinkHtml;\n",
              "          element.appendChild(docLink);\n",
              "        }\n",
              "      </script>\n",
              "    </div>\n",
              "  </div>\n",
              "  "
            ],
            "text/plain": [
              "                event_name  user_id\n",
              "0         MainScreenAppear     7419\n",
              "1       OffersScreenAppear     4593\n",
              "2         CartScreenAppear     3734\n",
              "3  PaymentScreenSuccessful     3539"
            ]
          },
          "execution_count": 42,
          "metadata": {},
          "output_type": "execute_result"
        }
      ],
      "source": [
        "# Создадим временную таблицу и добавим к ней колонку с процентами\n",
        "t = df_new.groupby('event_name').agg({'user_id': 'nunique'}).sort_values(by = 'user_id', ascending = False).reset_index()\n",
        "t"
      ]
    },
    {
      "cell_type": "code",
      "execution_count": 43,
      "metadata": {
        "colab": {
          "base_uri": "https://localhost:8080/",
          "height": 175
        },
        "id": "6cmozIJUrMeq",
        "outputId": "ee5291f5-315b-4a84-ad5b-609936d9aa3f"
      },
      "outputs": [
        {
          "data": {
            "text/html": [
              "\n",
              "  <div id=\"df-d2d35c9c-7b06-4375-a9fe-b4a785ce2693\">\n",
              "    <div class=\"colab-df-container\">\n",
              "      <div>\n",
              "<style scoped>\n",
              "    .dataframe tbody tr th:only-of-type {\n",
              "        vertical-align: middle;\n",
              "    }\n",
              "\n",
              "    .dataframe tbody tr th {\n",
              "        vertical-align: top;\n",
              "    }\n",
              "\n",
              "    .dataframe thead th {\n",
              "        text-align: right;\n",
              "    }\n",
              "</style>\n",
              "<table border=\"1\" class=\"dataframe\">\n",
              "  <thead>\n",
              "    <tr style=\"text-align: right;\">\n",
              "      <th></th>\n",
              "      <th>event_name</th>\n",
              "      <th>user_id</th>\n",
              "      <th>percent</th>\n",
              "    </tr>\n",
              "  </thead>\n",
              "  <tbody>\n",
              "    <tr>\n",
              "      <th>0</th>\n",
              "      <td>MainScreenAppear</td>\n",
              "      <td>7419</td>\n",
              "      <td>NaN</td>\n",
              "    </tr>\n",
              "    <tr>\n",
              "      <th>1</th>\n",
              "      <td>OffersScreenAppear</td>\n",
              "      <td>4593</td>\n",
              "      <td>0.62</td>\n",
              "    </tr>\n",
              "    <tr>\n",
              "      <th>2</th>\n",
              "      <td>CartScreenAppear</td>\n",
              "      <td>3734</td>\n",
              "      <td>0.81</td>\n",
              "    </tr>\n",
              "    <tr>\n",
              "      <th>3</th>\n",
              "      <td>PaymentScreenSuccessful</td>\n",
              "      <td>3539</td>\n",
              "      <td>0.95</td>\n",
              "    </tr>\n",
              "  </tbody>\n",
              "</table>\n",
              "</div>\n",
              "      <button class=\"colab-df-convert\" onclick=\"convertToInteractive('df-d2d35c9c-7b06-4375-a9fe-b4a785ce2693')\"\n",
              "              title=\"Convert this dataframe to an interactive table.\"\n",
              "              style=\"display:none;\">\n",
              "        \n",
              "  <svg xmlns=\"http://www.w3.org/2000/svg\" height=\"24px\"viewBox=\"0 0 24 24\"\n",
              "       width=\"24px\">\n",
              "    <path d=\"M0 0h24v24H0V0z\" fill=\"none\"/>\n",
              "    <path d=\"M18.56 5.44l.94 2.06.94-2.06 2.06-.94-2.06-.94-.94-2.06-.94 2.06-2.06.94zm-11 1L8.5 8.5l.94-2.06 2.06-.94-2.06-.94L8.5 2.5l-.94 2.06-2.06.94zm10 10l.94 2.06.94-2.06 2.06-.94-2.06-.94-.94-2.06-.94 2.06-2.06.94z\"/><path d=\"M17.41 7.96l-1.37-1.37c-.4-.4-.92-.59-1.43-.59-.52 0-1.04.2-1.43.59L10.3 9.45l-7.72 7.72c-.78.78-.78 2.05 0 2.83L4 21.41c.39.39.9.59 1.41.59.51 0 1.02-.2 1.41-.59l7.78-7.78 2.81-2.81c.8-.78.8-2.07 0-2.86zM5.41 20L4 18.59l7.72-7.72 1.47 1.35L5.41 20z\"/>\n",
              "  </svg>\n",
              "      </button>\n",
              "      \n",
              "  <style>\n",
              "    .colab-df-container {\n",
              "      display:flex;\n",
              "      flex-wrap:wrap;\n",
              "      gap: 12px;\n",
              "    }\n",
              "\n",
              "    .colab-df-convert {\n",
              "      background-color: #E8F0FE;\n",
              "      border: none;\n",
              "      border-radius: 50%;\n",
              "      cursor: pointer;\n",
              "      display: none;\n",
              "      fill: #1967D2;\n",
              "      height: 32px;\n",
              "      padding: 0 0 0 0;\n",
              "      width: 32px;\n",
              "    }\n",
              "\n",
              "    .colab-df-convert:hover {\n",
              "      background-color: #E2EBFA;\n",
              "      box-shadow: 0px 1px 2px rgba(60, 64, 67, 0.3), 0px 1px 3px 1px rgba(60, 64, 67, 0.15);\n",
              "      fill: #174EA6;\n",
              "    }\n",
              "\n",
              "    [theme=dark] .colab-df-convert {\n",
              "      background-color: #3B4455;\n",
              "      fill: #D2E3FC;\n",
              "    }\n",
              "\n",
              "    [theme=dark] .colab-df-convert:hover {\n",
              "      background-color: #434B5C;\n",
              "      box-shadow: 0px 1px 3px 1px rgba(0, 0, 0, 0.15);\n",
              "      filter: drop-shadow(0px 1px 2px rgba(0, 0, 0, 0.3));\n",
              "      fill: #FFFFFF;\n",
              "    }\n",
              "  </style>\n",
              "\n",
              "      <script>\n",
              "        const buttonEl =\n",
              "          document.querySelector('#df-d2d35c9c-7b06-4375-a9fe-b4a785ce2693 button.colab-df-convert');\n",
              "        buttonEl.style.display =\n",
              "          google.colab.kernel.accessAllowed ? 'block' : 'none';\n",
              "\n",
              "        async function convertToInteractive(key) {\n",
              "          const element = document.querySelector('#df-d2d35c9c-7b06-4375-a9fe-b4a785ce2693');\n",
              "          const dataTable =\n",
              "            await google.colab.kernel.invokeFunction('convertToInteractive',\n",
              "                                                     [key], {});\n",
              "          if (!dataTable) return;\n",
              "\n",
              "          const docLinkHtml = 'Like what you see? Visit the ' +\n",
              "            '<a target=\"_blank\" href=https://colab.research.google.com/notebooks/data_table.ipynb>data table notebook</a>'\n",
              "            + ' to learn more about interactive tables.';\n",
              "          element.innerHTML = '';\n",
              "          dataTable['output_type'] = 'display_data';\n",
              "          await google.colab.output.renderOutput(dataTable, element);\n",
              "          const docLink = document.createElement('div');\n",
              "          docLink.innerHTML = docLinkHtml;\n",
              "          element.appendChild(docLink);\n",
              "        }\n",
              "      </script>\n",
              "    </div>\n",
              "  </div>\n",
              "  "
            ],
            "text/plain": [
              "                event_name  user_id  percent\n",
              "0         MainScreenAppear     7419      NaN\n",
              "1       OffersScreenAppear     4593     0.62\n",
              "2         CartScreenAppear     3734     0.81\n",
              "3  PaymentScreenSuccessful     3539     0.95"
            ]
          },
          "execution_count": 43,
          "metadata": {},
          "output_type": "execute_result"
        }
      ],
      "source": [
        "t['percent'] = round(t['user_id'] / t['user_id'].shift(), 2)\n",
        "t"
      ]
    },
    {
      "cell_type": "markdown",
      "metadata": {
        "id": "c2gJmQzurMeq"
      },
      "source": [
        "<b> Вывод: </b>\n",
        "\n",
        "На шаге просмотра страницы предложений теряется больше всего пользователей."
      ]
    },
    {
      "cell_type": "markdown",
      "metadata": {
        "id": "fukpQdAtrMer"
      },
      "source": [
        "### Выясним на каком шаге теряете больше всего пользователей и какая доля пользователей доходит от первого события до оплаты."
      ]
    },
    {
      "cell_type": "code",
      "execution_count": 44,
      "metadata": {
        "id": "SVuJIncCrMer"
      },
      "outputs": [],
      "source": [
        "funnel_t = t"
      ]
    },
    {
      "cell_type": "code",
      "execution_count": 45,
      "metadata": {
        "colab": {
          "base_uri": "https://localhost:8080/",
          "height": 175
        },
        "id": "DYOt596xrMer",
        "outputId": "19f697e8-cc9c-4dd4-d6e1-7a7f153130f1"
      },
      "outputs": [
        {
          "data": {
            "text/html": [
              "\n",
              "  <div id=\"df-e80aa854-4fd5-480f-906d-46c939883b63\">\n",
              "    <div class=\"colab-df-container\">\n",
              "      <div>\n",
              "<style scoped>\n",
              "    .dataframe tbody tr th:only-of-type {\n",
              "        vertical-align: middle;\n",
              "    }\n",
              "\n",
              "    .dataframe tbody tr th {\n",
              "        vertical-align: top;\n",
              "    }\n",
              "\n",
              "    .dataframe thead th {\n",
              "        text-align: right;\n",
              "    }\n",
              "</style>\n",
              "<table border=\"1\" class=\"dataframe\">\n",
              "  <thead>\n",
              "    <tr style=\"text-align: right;\">\n",
              "      <th></th>\n",
              "      <th>event_name</th>\n",
              "      <th>user_id</th>\n",
              "      <th>percent</th>\n",
              "    </tr>\n",
              "  </thead>\n",
              "  <tbody>\n",
              "    <tr>\n",
              "      <th>0</th>\n",
              "      <td>MainScreenAppear</td>\n",
              "      <td>7419</td>\n",
              "      <td>NaN</td>\n",
              "    </tr>\n",
              "    <tr>\n",
              "      <th>1</th>\n",
              "      <td>OffersScreenAppear</td>\n",
              "      <td>4593</td>\n",
              "      <td>0.62</td>\n",
              "    </tr>\n",
              "    <tr>\n",
              "      <th>2</th>\n",
              "      <td>CartScreenAppear</td>\n",
              "      <td>3734</td>\n",
              "      <td>0.81</td>\n",
              "    </tr>\n",
              "    <tr>\n",
              "      <th>3</th>\n",
              "      <td>PaymentScreenSuccessful</td>\n",
              "      <td>3539</td>\n",
              "      <td>0.95</td>\n",
              "    </tr>\n",
              "  </tbody>\n",
              "</table>\n",
              "</div>\n",
              "      <button class=\"colab-df-convert\" onclick=\"convertToInteractive('df-e80aa854-4fd5-480f-906d-46c939883b63')\"\n",
              "              title=\"Convert this dataframe to an interactive table.\"\n",
              "              style=\"display:none;\">\n",
              "        \n",
              "  <svg xmlns=\"http://www.w3.org/2000/svg\" height=\"24px\"viewBox=\"0 0 24 24\"\n",
              "       width=\"24px\">\n",
              "    <path d=\"M0 0h24v24H0V0z\" fill=\"none\"/>\n",
              "    <path d=\"M18.56 5.44l.94 2.06.94-2.06 2.06-.94-2.06-.94-.94-2.06-.94 2.06-2.06.94zm-11 1L8.5 8.5l.94-2.06 2.06-.94-2.06-.94L8.5 2.5l-.94 2.06-2.06.94zm10 10l.94 2.06.94-2.06 2.06-.94-2.06-.94-.94-2.06-.94 2.06-2.06.94z\"/><path d=\"M17.41 7.96l-1.37-1.37c-.4-.4-.92-.59-1.43-.59-.52 0-1.04.2-1.43.59L10.3 9.45l-7.72 7.72c-.78.78-.78 2.05 0 2.83L4 21.41c.39.39.9.59 1.41.59.51 0 1.02-.2 1.41-.59l7.78-7.78 2.81-2.81c.8-.78.8-2.07 0-2.86zM5.41 20L4 18.59l7.72-7.72 1.47 1.35L5.41 20z\"/>\n",
              "  </svg>\n",
              "      </button>\n",
              "      \n",
              "  <style>\n",
              "    .colab-df-container {\n",
              "      display:flex;\n",
              "      flex-wrap:wrap;\n",
              "      gap: 12px;\n",
              "    }\n",
              "\n",
              "    .colab-df-convert {\n",
              "      background-color: #E8F0FE;\n",
              "      border: none;\n",
              "      border-radius: 50%;\n",
              "      cursor: pointer;\n",
              "      display: none;\n",
              "      fill: #1967D2;\n",
              "      height: 32px;\n",
              "      padding: 0 0 0 0;\n",
              "      width: 32px;\n",
              "    }\n",
              "\n",
              "    .colab-df-convert:hover {\n",
              "      background-color: #E2EBFA;\n",
              "      box-shadow: 0px 1px 2px rgba(60, 64, 67, 0.3), 0px 1px 3px 1px rgba(60, 64, 67, 0.15);\n",
              "      fill: #174EA6;\n",
              "    }\n",
              "\n",
              "    [theme=dark] .colab-df-convert {\n",
              "      background-color: #3B4455;\n",
              "      fill: #D2E3FC;\n",
              "    }\n",
              "\n",
              "    [theme=dark] .colab-df-convert:hover {\n",
              "      background-color: #434B5C;\n",
              "      box-shadow: 0px 1px 3px 1px rgba(0, 0, 0, 0.15);\n",
              "      filter: drop-shadow(0px 1px 2px rgba(0, 0, 0, 0.3));\n",
              "      fill: #FFFFFF;\n",
              "    }\n",
              "  </style>\n",
              "\n",
              "      <script>\n",
              "        const buttonEl =\n",
              "          document.querySelector('#df-e80aa854-4fd5-480f-906d-46c939883b63 button.colab-df-convert');\n",
              "        buttonEl.style.display =\n",
              "          google.colab.kernel.accessAllowed ? 'block' : 'none';\n",
              "\n",
              "        async function convertToInteractive(key) {\n",
              "          const element = document.querySelector('#df-e80aa854-4fd5-480f-906d-46c939883b63');\n",
              "          const dataTable =\n",
              "            await google.colab.kernel.invokeFunction('convertToInteractive',\n",
              "                                                     [key], {});\n",
              "          if (!dataTable) return;\n",
              "\n",
              "          const docLinkHtml = 'Like what you see? Visit the ' +\n",
              "            '<a target=\"_blank\" href=https://colab.research.google.com/notebooks/data_table.ipynb>data table notebook</a>'\n",
              "            + ' to learn more about interactive tables.';\n",
              "          element.innerHTML = '';\n",
              "          dataTable['output_type'] = 'display_data';\n",
              "          await google.colab.output.renderOutput(dataTable, element);\n",
              "          const docLink = document.createElement('div');\n",
              "          docLink.innerHTML = docLinkHtml;\n",
              "          element.appendChild(docLink);\n",
              "        }\n",
              "      </script>\n",
              "    </div>\n",
              "  </div>\n",
              "  "
            ],
            "text/plain": [
              "                event_name  user_id  percent\n",
              "0         MainScreenAppear     7419      NaN\n",
              "1       OffersScreenAppear     4593     0.62\n",
              "2         CartScreenAppear     3734     0.81\n",
              "3  PaymentScreenSuccessful     3539     0.95"
            ]
          },
          "execution_count": 45,
          "metadata": {},
          "output_type": "execute_result"
        }
      ],
      "source": [
        "funnel_t"
      ]
    },
    {
      "cell_type": "code",
      "execution_count": 46,
      "metadata": {
        "colab": {
          "base_uri": "https://localhost:8080/",
          "height": 542
        },
        "id": "OlN-qqjyrMes",
        "outputId": "17d90a80-faf6-42ea-f3b2-d3daa3b6fcbd"
      },
      "outputs": [
        {
          "data": {
            "text/html": [
              "<html>\n",
              "<head><meta charset=\"utf-8\" /></head>\n",
              "<body>\n",
              "    <div>            <script src=\"https://cdnjs.cloudflare.com/ajax/libs/mathjax/2.7.5/MathJax.js?config=TeX-AMS-MML_SVG\"></script><script type=\"text/javascript\">if (window.MathJax) {MathJax.Hub.Config({SVG: {font: \"STIX-Web\"}});}</script>                <script type=\"text/javascript\">window.PlotlyConfig = {MathJaxConfig: 'local'};</script>\n",
              "        <script src=\"https://cdn.plot.ly/plotly-2.8.3.min.js\"></script>                <div id=\"680264d6-d6c4-460f-8060-6159f0832f80\" class=\"plotly-graph-div\" style=\"height:525px; width:100%;\"></div>            <script type=\"text/javascript\">                                    window.PLOTLYENV=window.PLOTLYENV || {};                                    if (document.getElementById(\"680264d6-d6c4-460f-8060-6159f0832f80\")) {                    Plotly.newPlot(                        \"680264d6-d6c4-460f-8060-6159f0832f80\",                        [{\"textinfo\":\"value+percent initial\",\"textposition\":\"inside\",\"x\":[7419,4593,3734,3539],\"y\":[\"MainScreenAppear\",\"OffersScreenAppear\",\"CartScreenAppear\",\"PaymentScreenSuccessful\"],\"type\":\"funnel\"}],                        {\"template\":{\"data\":{\"bar\":[{\"error_x\":{\"color\":\"#2a3f5f\"},\"error_y\":{\"color\":\"#2a3f5f\"},\"marker\":{\"line\":{\"color\":\"#E5ECF6\",\"width\":0.5},\"pattern\":{\"fillmode\":\"overlay\",\"size\":10,\"solidity\":0.2}},\"type\":\"bar\"}],\"barpolar\":[{\"marker\":{\"line\":{\"color\":\"#E5ECF6\",\"width\":0.5},\"pattern\":{\"fillmode\":\"overlay\",\"size\":10,\"solidity\":0.2}},\"type\":\"barpolar\"}],\"carpet\":[{\"aaxis\":{\"endlinecolor\":\"#2a3f5f\",\"gridcolor\":\"white\",\"linecolor\":\"white\",\"minorgridcolor\":\"white\",\"startlinecolor\":\"#2a3f5f\"},\"baxis\":{\"endlinecolor\":\"#2a3f5f\",\"gridcolor\":\"white\",\"linecolor\":\"white\",\"minorgridcolor\":\"white\",\"startlinecolor\":\"#2a3f5f\"},\"type\":\"carpet\"}],\"choropleth\":[{\"colorbar\":{\"outlinewidth\":0,\"ticks\":\"\"},\"type\":\"choropleth\"}],\"contour\":[{\"colorbar\":{\"outlinewidth\":0,\"ticks\":\"\"},\"colorscale\":[[0.0,\"#0d0887\"],[0.1111111111111111,\"#46039f\"],[0.2222222222222222,\"#7201a8\"],[0.3333333333333333,\"#9c179e\"],[0.4444444444444444,\"#bd3786\"],[0.5555555555555556,\"#d8576b\"],[0.6666666666666666,\"#ed7953\"],[0.7777777777777778,\"#fb9f3a\"],[0.8888888888888888,\"#fdca26\"],[1.0,\"#f0f921\"]],\"type\":\"contour\"}],\"contourcarpet\":[{\"colorbar\":{\"outlinewidth\":0,\"ticks\":\"\"},\"type\":\"contourcarpet\"}],\"heatmap\":[{\"colorbar\":{\"outlinewidth\":0,\"ticks\":\"\"},\"colorscale\":[[0.0,\"#0d0887\"],[0.1111111111111111,\"#46039f\"],[0.2222222222222222,\"#7201a8\"],[0.3333333333333333,\"#9c179e\"],[0.4444444444444444,\"#bd3786\"],[0.5555555555555556,\"#d8576b\"],[0.6666666666666666,\"#ed7953\"],[0.7777777777777778,\"#fb9f3a\"],[0.8888888888888888,\"#fdca26\"],[1.0,\"#f0f921\"]],\"type\":\"heatmap\"}],\"heatmapgl\":[{\"colorbar\":{\"outlinewidth\":0,\"ticks\":\"\"},\"colorscale\":[[0.0,\"#0d0887\"],[0.1111111111111111,\"#46039f\"],[0.2222222222222222,\"#7201a8\"],[0.3333333333333333,\"#9c179e\"],[0.4444444444444444,\"#bd3786\"],[0.5555555555555556,\"#d8576b\"],[0.6666666666666666,\"#ed7953\"],[0.7777777777777778,\"#fb9f3a\"],[0.8888888888888888,\"#fdca26\"],[1.0,\"#f0f921\"]],\"type\":\"heatmapgl\"}],\"histogram\":[{\"marker\":{\"pattern\":{\"fillmode\":\"overlay\",\"size\":10,\"solidity\":0.2}},\"type\":\"histogram\"}],\"histogram2d\":[{\"colorbar\":{\"outlinewidth\":0,\"ticks\":\"\"},\"colorscale\":[[0.0,\"#0d0887\"],[0.1111111111111111,\"#46039f\"],[0.2222222222222222,\"#7201a8\"],[0.3333333333333333,\"#9c179e\"],[0.4444444444444444,\"#bd3786\"],[0.5555555555555556,\"#d8576b\"],[0.6666666666666666,\"#ed7953\"],[0.7777777777777778,\"#fb9f3a\"],[0.8888888888888888,\"#fdca26\"],[1.0,\"#f0f921\"]],\"type\":\"histogram2d\"}],\"histogram2dcontour\":[{\"colorbar\":{\"outlinewidth\":0,\"ticks\":\"\"},\"colorscale\":[[0.0,\"#0d0887\"],[0.1111111111111111,\"#46039f\"],[0.2222222222222222,\"#7201a8\"],[0.3333333333333333,\"#9c179e\"],[0.4444444444444444,\"#bd3786\"],[0.5555555555555556,\"#d8576b\"],[0.6666666666666666,\"#ed7953\"],[0.7777777777777778,\"#fb9f3a\"],[0.8888888888888888,\"#fdca26\"],[1.0,\"#f0f921\"]],\"type\":\"histogram2dcontour\"}],\"mesh3d\":[{\"colorbar\":{\"outlinewidth\":0,\"ticks\":\"\"},\"type\":\"mesh3d\"}],\"parcoords\":[{\"line\":{\"colorbar\":{\"outlinewidth\":0,\"ticks\":\"\"}},\"type\":\"parcoords\"}],\"pie\":[{\"automargin\":true,\"type\":\"pie\"}],\"scatter\":[{\"marker\":{\"colorbar\":{\"outlinewidth\":0,\"ticks\":\"\"}},\"type\":\"scatter\"}],\"scatter3d\":[{\"line\":{\"colorbar\":{\"outlinewidth\":0,\"ticks\":\"\"}},\"marker\":{\"colorbar\":{\"outlinewidth\":0,\"ticks\":\"\"}},\"type\":\"scatter3d\"}],\"scattercarpet\":[{\"marker\":{\"colorbar\":{\"outlinewidth\":0,\"ticks\":\"\"}},\"type\":\"scattercarpet\"}],\"scattergeo\":[{\"marker\":{\"colorbar\":{\"outlinewidth\":0,\"ticks\":\"\"}},\"type\":\"scattergeo\"}],\"scattergl\":[{\"marker\":{\"colorbar\":{\"outlinewidth\":0,\"ticks\":\"\"}},\"type\":\"scattergl\"}],\"scattermapbox\":[{\"marker\":{\"colorbar\":{\"outlinewidth\":0,\"ticks\":\"\"}},\"type\":\"scattermapbox\"}],\"scatterpolar\":[{\"marker\":{\"colorbar\":{\"outlinewidth\":0,\"ticks\":\"\"}},\"type\":\"scatterpolar\"}],\"scatterpolargl\":[{\"marker\":{\"colorbar\":{\"outlinewidth\":0,\"ticks\":\"\"}},\"type\":\"scatterpolargl\"}],\"scatterternary\":[{\"marker\":{\"colorbar\":{\"outlinewidth\":0,\"ticks\":\"\"}},\"type\":\"scatterternary\"}],\"surface\":[{\"colorbar\":{\"outlinewidth\":0,\"ticks\":\"\"},\"colorscale\":[[0.0,\"#0d0887\"],[0.1111111111111111,\"#46039f\"],[0.2222222222222222,\"#7201a8\"],[0.3333333333333333,\"#9c179e\"],[0.4444444444444444,\"#bd3786\"],[0.5555555555555556,\"#d8576b\"],[0.6666666666666666,\"#ed7953\"],[0.7777777777777778,\"#fb9f3a\"],[0.8888888888888888,\"#fdca26\"],[1.0,\"#f0f921\"]],\"type\":\"surface\"}],\"table\":[{\"cells\":{\"fill\":{\"color\":\"#EBF0F8\"},\"line\":{\"color\":\"white\"}},\"header\":{\"fill\":{\"color\":\"#C8D4E3\"},\"line\":{\"color\":\"white\"}},\"type\":\"table\"}]},\"layout\":{\"annotationdefaults\":{\"arrowcolor\":\"#2a3f5f\",\"arrowhead\":0,\"arrowwidth\":1},\"autotypenumbers\":\"strict\",\"coloraxis\":{\"colorbar\":{\"outlinewidth\":0,\"ticks\":\"\"}},\"colorscale\":{\"diverging\":[[0,\"#8e0152\"],[0.1,\"#c51b7d\"],[0.2,\"#de77ae\"],[0.3,\"#f1b6da\"],[0.4,\"#fde0ef\"],[0.5,\"#f7f7f7\"],[0.6,\"#e6f5d0\"],[0.7,\"#b8e186\"],[0.8,\"#7fbc41\"],[0.9,\"#4d9221\"],[1,\"#276419\"]],\"sequential\":[[0.0,\"#0d0887\"],[0.1111111111111111,\"#46039f\"],[0.2222222222222222,\"#7201a8\"],[0.3333333333333333,\"#9c179e\"],[0.4444444444444444,\"#bd3786\"],[0.5555555555555556,\"#d8576b\"],[0.6666666666666666,\"#ed7953\"],[0.7777777777777778,\"#fb9f3a\"],[0.8888888888888888,\"#fdca26\"],[1.0,\"#f0f921\"]],\"sequentialminus\":[[0.0,\"#0d0887\"],[0.1111111111111111,\"#46039f\"],[0.2222222222222222,\"#7201a8\"],[0.3333333333333333,\"#9c179e\"],[0.4444444444444444,\"#bd3786\"],[0.5555555555555556,\"#d8576b\"],[0.6666666666666666,\"#ed7953\"],[0.7777777777777778,\"#fb9f3a\"],[0.8888888888888888,\"#fdca26\"],[1.0,\"#f0f921\"]]},\"colorway\":[\"#636efa\",\"#EF553B\",\"#00cc96\",\"#ab63fa\",\"#FFA15A\",\"#19d3f3\",\"#FF6692\",\"#B6E880\",\"#FF97FF\",\"#FECB52\"],\"font\":{\"color\":\"#2a3f5f\"},\"geo\":{\"bgcolor\":\"white\",\"lakecolor\":\"white\",\"landcolor\":\"#E5ECF6\",\"showlakes\":true,\"showland\":true,\"subunitcolor\":\"white\"},\"hoverlabel\":{\"align\":\"left\"},\"hovermode\":\"closest\",\"mapbox\":{\"style\":\"light\"},\"paper_bgcolor\":\"white\",\"plot_bgcolor\":\"#E5ECF6\",\"polar\":{\"angularaxis\":{\"gridcolor\":\"white\",\"linecolor\":\"white\",\"ticks\":\"\"},\"bgcolor\":\"#E5ECF6\",\"radialaxis\":{\"gridcolor\":\"white\",\"linecolor\":\"white\",\"ticks\":\"\"}},\"scene\":{\"xaxis\":{\"backgroundcolor\":\"#E5ECF6\",\"gridcolor\":\"white\",\"gridwidth\":2,\"linecolor\":\"white\",\"showbackground\":true,\"ticks\":\"\",\"zerolinecolor\":\"white\"},\"yaxis\":{\"backgroundcolor\":\"#E5ECF6\",\"gridcolor\":\"white\",\"gridwidth\":2,\"linecolor\":\"white\",\"showbackground\":true,\"ticks\":\"\",\"zerolinecolor\":\"white\"},\"zaxis\":{\"backgroundcolor\":\"#E5ECF6\",\"gridcolor\":\"white\",\"gridwidth\":2,\"linecolor\":\"white\",\"showbackground\":true,\"ticks\":\"\",\"zerolinecolor\":\"white\"}},\"shapedefaults\":{\"line\":{\"color\":\"#2a3f5f\"}},\"ternary\":{\"aaxis\":{\"gridcolor\":\"white\",\"linecolor\":\"white\",\"ticks\":\"\"},\"baxis\":{\"gridcolor\":\"white\",\"linecolor\":\"white\",\"ticks\":\"\"},\"bgcolor\":\"#E5ECF6\",\"caxis\":{\"gridcolor\":\"white\",\"linecolor\":\"white\",\"ticks\":\"\"}},\"title\":{\"x\":0.05},\"xaxis\":{\"automargin\":true,\"gridcolor\":\"white\",\"linecolor\":\"white\",\"ticks\":\"\",\"title\":{\"standoff\":15},\"zerolinecolor\":\"white\",\"zerolinewidth\":2},\"yaxis\":{\"automargin\":true,\"gridcolor\":\"white\",\"linecolor\":\"white\",\"ticks\":\"\",\"title\":{\"standoff\":15},\"zerolinecolor\":\"white\",\"zerolinewidth\":2}}},\"yaxis\":{\"title\":{\"text\":\"event_name\"}}},                        {\"responsive\": true}                    ).then(function(){\n",
              "                            \n",
              "var gd = document.getElementById('680264d6-d6c4-460f-8060-6159f0832f80');\n",
              "var x = new MutationObserver(function (mutations, observer) {{\n",
              "        var display = window.getComputedStyle(gd).display;\n",
              "        if (!display || display === 'none') {{\n",
              "            console.log([gd, 'removed!']);\n",
              "            Plotly.purge(gd);\n",
              "            observer.disconnect();\n",
              "        }}\n",
              "}});\n",
              "\n",
              "// Listen for the removal of the full notebook cells\n",
              "var notebookContainer = gd.closest('#notebook-container');\n",
              "if (notebookContainer) {{\n",
              "    x.observe(notebookContainer, {childList: true});\n",
              "}}\n",
              "\n",
              "// Listen for the clearing of the current output cell\n",
              "var outputEl = gd.closest('.output');\n",
              "if (outputEl) {{\n",
              "    x.observe(outputEl, {childList: true});\n",
              "}}\n",
              "\n",
              "                        })                };                            </script>        </div>\n",
              "</body>\n",
              "</html>"
            ]
          },
          "metadata": {},
          "output_type": "display_data"
        }
      ],
      "source": [
        "from plotly import graph_objects as go\n",
        "\n",
        "fig = go.Figure(go.Funnel(\n",
        "    y= funnel_t['event_name'],\n",
        "    x= funnel_t['user_id'],\n",
        "    textposition = \"inside\",\n",
        "    textinfo = \"value+percent initial\"))\n",
        "\n",
        "fig.update_layout(yaxis_title = 'event_name')\n",
        "\n",
        "fig.show()"
      ]
    },
    {
      "cell_type": "code",
      "execution_count": 47,
      "metadata": {
        "colab": {
          "base_uri": "https://localhost:8080/"
        },
        "id": "OqbRyNIorMes",
        "outputId": "c41022bd-3cec-4e74-f88c-a60e9600f330"
      },
      "outputs": [
        {
          "data": {
            "text/plain": [
              "47.7"
            ]
          },
          "execution_count": 47,
          "metadata": {},
          "output_type": "execute_result"
        }
      ],
      "source": [
        "round(3539/7419*100, 2)"
      ]
    },
    {
      "cell_type": "markdown",
      "metadata": {
        "id": "InC37UjOrMes"
      },
      "source": [
        "<b> Вывод: </b>\n",
        "\n",
        "Всего 47.7 % пользователей доходит от первого шага до покупки."
      ]
    },
    {
      "cell_type": "markdown",
      "metadata": {
        "id": "GhCUhU6_rMet"
      },
      "source": [
        "<b> Общий вывод по разделу 4: </b>\n",
        "\n",
        "В воронку событий входит 4 последовательных события:\n",
        "- MainScreenAppear - просмотр главной страницы;\n",
        "- OffersScreenAppear - просмотр страницы предложений;\n",
        "- CartScreenAppear - просмотр корзины;\n",
        "- PaymentScreenSuccessful - переход на страницу оплаты.\n",
        "\n",
        "Больше всего пользователей просматривало главную страницу.\n",
        "На следующем шаге - OffersScreenAppear - просмотр страницы предложений теряется больше всего пользователей.\n",
        "И только 47.7 % пользователей доходит от первого шага до покупки.\n"
      ]
    },
    {
      "cell_type": "markdown",
      "metadata": {
        "id": "lWyTk2jMrMeu"
      },
      "source": [
        "## Изучим результаты эксперимента\n",
        "\n",
        "- Посчитаем, сколько пользователей в каждой экспериментальной группе;\n",
        "- Проверим корректность всех механизмов и расчётов;\n",
        "- Выберем самое популярное событие; \n",
        "- Посчитаем число пользователей, совершивших это событие в каждой из контрольных групп; \n",
        "- Посчитаем долю пользователей, совершивших это событие; \n",
        "- Проверим, будет ли отличие между группами статистически достоверным; \n",
        "- Проделаем то же самое для всех других событий; \n",
        "- Проверим, можно ли сказать, что разбиение на группы работает корректно;\n",
        "- Аналогично поступим с группой с изменённым шрифтом, сравним результаты с каждой из контрольных групп в отдельности по каждому событию; \n",
        "- Сравним результаты с объединённой контрольной группой."
      ]
    },
    {
      "cell_type": "code",
      "execution_count": 48,
      "metadata": {
        "id": "IACZED3arMeu"
      },
      "outputs": [],
      "source": [
        "# Для удобства переименуем группы\n",
        "\n",
        "def rename_group(group):\n",
        "    if group == 246:\n",
        "        return 'A1'\n",
        "    elif group == 247:\n",
        "        return 'A2'\n",
        "    elif group == 248:\n",
        "        return 'B'\n",
        "\n",
        "df_new['group'] = df_new['group'].apply(rename_group)"
      ]
    },
    {
      "cell_type": "markdown",
      "metadata": {
        "id": "e_ocMDgprMeu"
      },
      "source": [
        "### Посчитаем, сколько пользователей в каждой экспериментальной группе."
      ]
    },
    {
      "cell_type": "code",
      "execution_count": 49,
      "metadata": {
        "colab": {
          "base_uri": "https://localhost:8080/"
        },
        "id": "TJhQHXSqrMeu",
        "outputId": "a82c3f26-5aab-4277-d1e7-464929c54bba"
      },
      "outputs": [
        {
          "data": {
            "text/plain": [
              "group\n",
              "A1    2483\n",
              "A2    2512\n",
              "B     2535\n",
              "Name: user_id, dtype: int64"
            ]
          },
          "execution_count": 49,
          "metadata": {},
          "output_type": "execute_result"
        }
      ],
      "source": [
        "total_users = df_new.groupby('group')['user_id'].nunique()\n",
        "total_users"
      ]
    },
    {
      "cell_type": "markdown",
      "metadata": {
        "id": "LL9p3gZGrMev"
      },
      "source": [
        "<b> Вывод: </b>\n",
        "\n",
        "В контрольных группах:\n",
        "- A1(246) — 2483 пользователей;\n",
        "- A2(247) — 2512 пользователей.\n",
        "\n",
        "В экспериментальной группе:\n",
        "- B(248) — 2535 пользователей."
      ]
    },
    {
      "cell_type": "markdown",
      "metadata": {
        "id": "YY9cNPJorMev"
      },
      "source": [
        "### A/A-тест. \n",
        "\n",
        "Есть 2 контрольные группы для А/А-эксперимента, чтобы проверить корректность всех механизмов и расчётов. Проверим, находят ли статистические критерии разницу между выборками 246 и 247."
      ]
    },
    {
      "cell_type": "markdown",
      "metadata": {
        "id": "1sGFWWlArMev"
      },
      "source": [
        "#### Критерии успешного A/A-теста:\n",
        "\n",
        "- Количество пользователей в различных группах различается не более, чем на 1% или 0.5%\n",
        "- Для всех групп фиксируют и отправляют в системы аналитики данные об одном и том же\n",
        "- Различие ключевых метрик по группам не превышает 1% и не имеет статистической значимости\n",
        "- Попавший в одну из групп посетитель остаётся в этой группе до конца теста. Если пользователь видит разные версии исследуемой страницы в ходе одного исследования, неизвестно, какая именно повлияла на его решения. Значит, и результаты такого теста нельзя интерпретировать однозначно."
      ]
    },
    {
      "cell_type": "code",
      "execution_count": 50,
      "metadata": {
        "colab": {
          "base_uri": "https://localhost:8080/"
        },
        "id": "_L-5xCTprMev",
        "outputId": "1594364c-450f-47cc-fe9a-bce061138e71"
      },
      "outputs": [
        {
          "data": {
            "text/plain": [
              "0.01"
            ]
          },
          "execution_count": 50,
          "metadata": {},
          "output_type": "execute_result"
        }
      ],
      "source": [
        "group_A1 = df_new[df_new['group'] == 'A1']['user_id'].nunique()\n",
        "group_A2 = df_new[df_new['group'] == 'A2']['user_id'].nunique()\n",
        "round(1 - group_A1 / group_A2, 2)"
      ]
    },
    {
      "cell_type": "code",
      "execution_count": 51,
      "metadata": {
        "colab": {
          "base_uri": "https://localhost:8080/"
        },
        "id": "FE4DCbbWrMew",
        "outputId": "0b221005-d7ad-4782-8f35-f25500ba9140"
      },
      "outputs": [
        {
          "data": {
            "text/plain": [
              "0"
            ]
          },
          "execution_count": 51,
          "metadata": {},
          "output_type": "execute_result"
        }
      ],
      "source": [
        "len(np.intersect1d(df_new.query('group == \"A1\"')['user_id'].unique(), df_new.query('group == \"A2\"')['user_id'].unique()))"
      ]
    },
    {
      "cell_type": "markdown",
      "metadata": {
        "id": "O1--EpekrMew"
      },
      "source": [
        "<b> Вывод: </b>\n",
        "\n",
        "Количество пользователей в группах различается менее, чем на 0.5%. Пересечений в группах нет."
      ]
    },
    {
      "cell_type": "markdown",
      "metadata": {
        "id": "61F5lAAerMex"
      },
      "source": [
        "#### Выберем самое популярное событие и посчитаем число пользователей, совершивших это событие в каждой из контрольных групп."
      ]
    },
    {
      "cell_type": "code",
      "execution_count": 52,
      "metadata": {
        "colab": {
          "base_uri": "https://localhost:8080/",
          "height": 206
        },
        "id": "wR47ICw5rMex",
        "outputId": "cfb34496-5b85-4e60-a803-c47273545e96"
      },
      "outputs": [
        {
          "data": {
            "text/html": [
              "\n",
              "  <div id=\"df-ad3371f9-9412-42e4-b985-769ab18bf8fa\">\n",
              "    <div class=\"colab-df-container\">\n",
              "      <div>\n",
              "<style scoped>\n",
              "    .dataframe tbody tr th:only-of-type {\n",
              "        vertical-align: middle;\n",
              "    }\n",
              "\n",
              "    .dataframe tbody tr th {\n",
              "        vertical-align: top;\n",
              "    }\n",
              "\n",
              "    .dataframe thead th {\n",
              "        text-align: right;\n",
              "    }\n",
              "</style>\n",
              "<table border=\"1\" class=\"dataframe\">\n",
              "  <thead>\n",
              "    <tr style=\"text-align: right;\">\n",
              "      <th>group</th>\n",
              "      <th>A1</th>\n",
              "      <th>A2</th>\n",
              "    </tr>\n",
              "    <tr>\n",
              "      <th>event_name</th>\n",
              "      <th></th>\n",
              "      <th></th>\n",
              "    </tr>\n",
              "  </thead>\n",
              "  <tbody>\n",
              "    <tr>\n",
              "      <th>MainScreenAppear</th>\n",
              "      <td>2450</td>\n",
              "      <td>2476</td>\n",
              "    </tr>\n",
              "    <tr>\n",
              "      <th>OffersScreenAppear</th>\n",
              "      <td>1542</td>\n",
              "      <td>1520</td>\n",
              "    </tr>\n",
              "    <tr>\n",
              "      <th>CartScreenAppear</th>\n",
              "      <td>1266</td>\n",
              "      <td>1238</td>\n",
              "    </tr>\n",
              "    <tr>\n",
              "      <th>PaymentScreenSuccessful</th>\n",
              "      <td>1200</td>\n",
              "      <td>1158</td>\n",
              "    </tr>\n",
              "  </tbody>\n",
              "</table>\n",
              "</div>\n",
              "      <button class=\"colab-df-convert\" onclick=\"convertToInteractive('df-ad3371f9-9412-42e4-b985-769ab18bf8fa')\"\n",
              "              title=\"Convert this dataframe to an interactive table.\"\n",
              "              style=\"display:none;\">\n",
              "        \n",
              "  <svg xmlns=\"http://www.w3.org/2000/svg\" height=\"24px\"viewBox=\"0 0 24 24\"\n",
              "       width=\"24px\">\n",
              "    <path d=\"M0 0h24v24H0V0z\" fill=\"none\"/>\n",
              "    <path d=\"M18.56 5.44l.94 2.06.94-2.06 2.06-.94-2.06-.94-.94-2.06-.94 2.06-2.06.94zm-11 1L8.5 8.5l.94-2.06 2.06-.94-2.06-.94L8.5 2.5l-.94 2.06-2.06.94zm10 10l.94 2.06.94-2.06 2.06-.94-2.06-.94-.94-2.06-.94 2.06-2.06.94z\"/><path d=\"M17.41 7.96l-1.37-1.37c-.4-.4-.92-.59-1.43-.59-.52 0-1.04.2-1.43.59L10.3 9.45l-7.72 7.72c-.78.78-.78 2.05 0 2.83L4 21.41c.39.39.9.59 1.41.59.51 0 1.02-.2 1.41-.59l7.78-7.78 2.81-2.81c.8-.78.8-2.07 0-2.86zM5.41 20L4 18.59l7.72-7.72 1.47 1.35L5.41 20z\"/>\n",
              "  </svg>\n",
              "      </button>\n",
              "      \n",
              "  <style>\n",
              "    .colab-df-container {\n",
              "      display:flex;\n",
              "      flex-wrap:wrap;\n",
              "      gap: 12px;\n",
              "    }\n",
              "\n",
              "    .colab-df-convert {\n",
              "      background-color: #E8F0FE;\n",
              "      border: none;\n",
              "      border-radius: 50%;\n",
              "      cursor: pointer;\n",
              "      display: none;\n",
              "      fill: #1967D2;\n",
              "      height: 32px;\n",
              "      padding: 0 0 0 0;\n",
              "      width: 32px;\n",
              "    }\n",
              "\n",
              "    .colab-df-convert:hover {\n",
              "      background-color: #E2EBFA;\n",
              "      box-shadow: 0px 1px 2px rgba(60, 64, 67, 0.3), 0px 1px 3px 1px rgba(60, 64, 67, 0.15);\n",
              "      fill: #174EA6;\n",
              "    }\n",
              "\n",
              "    [theme=dark] .colab-df-convert {\n",
              "      background-color: #3B4455;\n",
              "      fill: #D2E3FC;\n",
              "    }\n",
              "\n",
              "    [theme=dark] .colab-df-convert:hover {\n",
              "      background-color: #434B5C;\n",
              "      box-shadow: 0px 1px 3px 1px rgba(0, 0, 0, 0.15);\n",
              "      filter: drop-shadow(0px 1px 2px rgba(0, 0, 0, 0.3));\n",
              "      fill: #FFFFFF;\n",
              "    }\n",
              "  </style>\n",
              "\n",
              "      <script>\n",
              "        const buttonEl =\n",
              "          document.querySelector('#df-ad3371f9-9412-42e4-b985-769ab18bf8fa button.colab-df-convert');\n",
              "        buttonEl.style.display =\n",
              "          google.colab.kernel.accessAllowed ? 'block' : 'none';\n",
              "\n",
              "        async function convertToInteractive(key) {\n",
              "          const element = document.querySelector('#df-ad3371f9-9412-42e4-b985-769ab18bf8fa');\n",
              "          const dataTable =\n",
              "            await google.colab.kernel.invokeFunction('convertToInteractive',\n",
              "                                                     [key], {});\n",
              "          if (!dataTable) return;\n",
              "\n",
              "          const docLinkHtml = 'Like what you see? Visit the ' +\n",
              "            '<a target=\"_blank\" href=https://colab.research.google.com/notebooks/data_table.ipynb>data table notebook</a>'\n",
              "            + ' to learn more about interactive tables.';\n",
              "          element.innerHTML = '';\n",
              "          dataTable['output_type'] = 'display_data';\n",
              "          await google.colab.output.renderOutput(dataTable, element);\n",
              "          const docLink = document.createElement('div');\n",
              "          docLink.innerHTML = docLinkHtml;\n",
              "          element.appendChild(docLink);\n",
              "        }\n",
              "      </script>\n",
              "    </div>\n",
              "  </div>\n",
              "  "
            ],
            "text/plain": [
              "group                      A1    A2\n",
              "event_name                         \n",
              "MainScreenAppear         2450  2476\n",
              "OffersScreenAppear       1542  1520\n",
              "CartScreenAppear         1266  1238\n",
              "PaymentScreenSuccessful  1200  1158"
            ]
          },
          "execution_count": 52,
          "metadata": {},
          "output_type": "execute_result"
        }
      ],
      "source": [
        "# Создадим временную таблицу\n",
        "t = df_new.pivot_table(index='event_name', columns='group', values='user_id', aggfunc='nunique').sort_values(by='A1', ascending=False).drop('B', axis=1)\n",
        "t"
      ]
    },
    {
      "cell_type": "markdown",
      "metadata": {
        "id": "1Pdq7cgorMey"
      },
      "source": [
        "<b> Вывод: </b>\n",
        "\n",
        "Cамое популярное событие - MainScreenAppear - просмотр главной страницы."
      ]
    },
    {
      "cell_type": "markdown",
      "metadata": {
        "id": "LohIlsmPrMey"
      },
      "source": [
        "#### Посчитаем долю пользователей, совершивших это событие."
      ]
    },
    {
      "cell_type": "code",
      "execution_count": 53,
      "metadata": {
        "colab": {
          "base_uri": "https://localhost:8080/",
          "height": 112
        },
        "id": "K9FlLfeXrMey",
        "outputId": "f41954b5-3e29-47f6-b145-2222645b7c8f"
      },
      "outputs": [
        {
          "data": {
            "text/html": [
              "\n",
              "  <div id=\"df-15b89cca-0162-4d25-9492-7e4b5a713de2\">\n",
              "    <div class=\"colab-df-container\">\n",
              "      <div>\n",
              "<style scoped>\n",
              "    .dataframe tbody tr th:only-of-type {\n",
              "        vertical-align: middle;\n",
              "    }\n",
              "\n",
              "    .dataframe tbody tr th {\n",
              "        vertical-align: top;\n",
              "    }\n",
              "\n",
              "    .dataframe thead th {\n",
              "        text-align: right;\n",
              "    }\n",
              "</style>\n",
              "<table border=\"1\" class=\"dataframe\">\n",
              "  <thead>\n",
              "    <tr style=\"text-align: right;\">\n",
              "      <th>group</th>\n",
              "      <th>A1</th>\n",
              "      <th>A2</th>\n",
              "      <th>percent_A1</th>\n",
              "      <th>percent_A2</th>\n",
              "    </tr>\n",
              "    <tr>\n",
              "      <th>event_name</th>\n",
              "      <th></th>\n",
              "      <th></th>\n",
              "      <th></th>\n",
              "      <th></th>\n",
              "    </tr>\n",
              "  </thead>\n",
              "  <tbody>\n",
              "    <tr>\n",
              "      <th>MainScreenAppear</th>\n",
              "      <td>2450</td>\n",
              "      <td>2476</td>\n",
              "      <td>0.99</td>\n",
              "      <td>0.99</td>\n",
              "    </tr>\n",
              "  </tbody>\n",
              "</table>\n",
              "</div>\n",
              "      <button class=\"colab-df-convert\" onclick=\"convertToInteractive('df-15b89cca-0162-4d25-9492-7e4b5a713de2')\"\n",
              "              title=\"Convert this dataframe to an interactive table.\"\n",
              "              style=\"display:none;\">\n",
              "        \n",
              "  <svg xmlns=\"http://www.w3.org/2000/svg\" height=\"24px\"viewBox=\"0 0 24 24\"\n",
              "       width=\"24px\">\n",
              "    <path d=\"M0 0h24v24H0V0z\" fill=\"none\"/>\n",
              "    <path d=\"M18.56 5.44l.94 2.06.94-2.06 2.06-.94-2.06-.94-.94-2.06-.94 2.06-2.06.94zm-11 1L8.5 8.5l.94-2.06 2.06-.94-2.06-.94L8.5 2.5l-.94 2.06-2.06.94zm10 10l.94 2.06.94-2.06 2.06-.94-2.06-.94-.94-2.06-.94 2.06-2.06.94z\"/><path d=\"M17.41 7.96l-1.37-1.37c-.4-.4-.92-.59-1.43-.59-.52 0-1.04.2-1.43.59L10.3 9.45l-7.72 7.72c-.78.78-.78 2.05 0 2.83L4 21.41c.39.39.9.59 1.41.59.51 0 1.02-.2 1.41-.59l7.78-7.78 2.81-2.81c.8-.78.8-2.07 0-2.86zM5.41 20L4 18.59l7.72-7.72 1.47 1.35L5.41 20z\"/>\n",
              "  </svg>\n",
              "      </button>\n",
              "      \n",
              "  <style>\n",
              "    .colab-df-container {\n",
              "      display:flex;\n",
              "      flex-wrap:wrap;\n",
              "      gap: 12px;\n",
              "    }\n",
              "\n",
              "    .colab-df-convert {\n",
              "      background-color: #E8F0FE;\n",
              "      border: none;\n",
              "      border-radius: 50%;\n",
              "      cursor: pointer;\n",
              "      display: none;\n",
              "      fill: #1967D2;\n",
              "      height: 32px;\n",
              "      padding: 0 0 0 0;\n",
              "      width: 32px;\n",
              "    }\n",
              "\n",
              "    .colab-df-convert:hover {\n",
              "      background-color: #E2EBFA;\n",
              "      box-shadow: 0px 1px 2px rgba(60, 64, 67, 0.3), 0px 1px 3px 1px rgba(60, 64, 67, 0.15);\n",
              "      fill: #174EA6;\n",
              "    }\n",
              "\n",
              "    [theme=dark] .colab-df-convert {\n",
              "      background-color: #3B4455;\n",
              "      fill: #D2E3FC;\n",
              "    }\n",
              "\n",
              "    [theme=dark] .colab-df-convert:hover {\n",
              "      background-color: #434B5C;\n",
              "      box-shadow: 0px 1px 3px 1px rgba(0, 0, 0, 0.15);\n",
              "      filter: drop-shadow(0px 1px 2px rgba(0, 0, 0, 0.3));\n",
              "      fill: #FFFFFF;\n",
              "    }\n",
              "  </style>\n",
              "\n",
              "      <script>\n",
              "        const buttonEl =\n",
              "          document.querySelector('#df-15b89cca-0162-4d25-9492-7e4b5a713de2 button.colab-df-convert');\n",
              "        buttonEl.style.display =\n",
              "          google.colab.kernel.accessAllowed ? 'block' : 'none';\n",
              "\n",
              "        async function convertToInteractive(key) {\n",
              "          const element = document.querySelector('#df-15b89cca-0162-4d25-9492-7e4b5a713de2');\n",
              "          const dataTable =\n",
              "            await google.colab.kernel.invokeFunction('convertToInteractive',\n",
              "                                                     [key], {});\n",
              "          if (!dataTable) return;\n",
              "\n",
              "          const docLinkHtml = 'Like what you see? Visit the ' +\n",
              "            '<a target=\"_blank\" href=https://colab.research.google.com/notebooks/data_table.ipynb>data table notebook</a>'\n",
              "            + ' to learn more about interactive tables.';\n",
              "          element.innerHTML = '';\n",
              "          dataTable['output_type'] = 'display_data';\n",
              "          await google.colab.output.renderOutput(dataTable, element);\n",
              "          const docLink = document.createElement('div');\n",
              "          docLink.innerHTML = docLinkHtml;\n",
              "          element.appendChild(docLink);\n",
              "        }\n",
              "      </script>\n",
              "    </div>\n",
              "  </div>\n",
              "  "
            ],
            "text/plain": [
              "group               A1    A2  percent_A1  percent_A2\n",
              "event_name                                          \n",
              "MainScreenAppear  2450  2476        0.99        0.99"
            ]
          },
          "execution_count": 53,
          "metadata": {},
          "output_type": "execute_result"
        }
      ],
      "source": [
        "t['percent_A1'] = round(t['A1'] / total_users['A1'], 2)\n",
        "t['percent_A2'] = round(t['A2'] / total_users['A2'], 2)\n",
        "t_MainScreenAppear = t.query('event_name == \"MainScreenAppear\"')\n",
        "t_MainScreenAppear"
      ]
    },
    {
      "cell_type": "markdown",
      "metadata": {
        "id": "c9vr2MoKrMey"
      },
      "source": [
        "<b> Вывод: </b>\n",
        "\n",
        "В обоих случаях доля пользователей, совершавших событие - MainScreenAppear - просмотр главной страницы, составляет 99%."
      ]
    },
    {
      "cell_type": "markdown",
      "metadata": {
        "id": "cnlF7tylrMez"
      },
      "source": [
        "#### Проверим, будет ли отличие между группами статистически достоверным.\n",
        "\n",
        "Сформируем гипотезы:\n",
        "\n",
        "- Н0: между долями нет статистически значимой разницы;\n",
        "- Н1: между долями есть статистически значимые различия.\n",
        "\n",
        "Создадим функцию для проведения z-теста для проверки гипотезы о равенстве долей:\n",
        "\n",
        "- group1, group2 - тестируемые группы;\n",
        "- event_name - событие."
      ]
    },
    {
      "cell_type": "code",
      "execution_count": 54,
      "metadata": {
        "id": "CeMP5BEIrMe0"
      },
      "outputs": [],
      "source": [
        "def z_test (group1, group2, event_name):\n",
        "\n",
        "    # критический уровень статистической значимости\n",
        "    alpha = .05 # критический уровень статистической значимости\n",
        "     \n",
        "    #значения выборок на уровне тестируемого события\n",
        "    successes1 = t.loc[event_name, group1]\n",
        "    successes2 = t.loc[event_name, group2]\n",
        "    \n",
        "    #первоначальные значения выборок \n",
        "    total_users1 = total_users[group1] \n",
        "    total_users2 = total_users[group2]\n",
        "\n",
        "    # пропорция успехов в первой группе:\n",
        "    p1 = successes1/total_users1\n",
        "    \n",
        "    # пропорция успехов во второй группе:\n",
        "    p2 = successes2/total_users2\n",
        "\n",
        "    # пропорция успехов в комбинированном датасете:\n",
        "    p_combined = (successes1 + successes2) / (total_users1 + total_users2)\n",
        "\n",
        "    # разница пропорций в датасетах\n",
        "    difference = p1 - p2 \n",
        "\n",
        "    # считаем статистику в ст.отклонениях стандартного нормального распределения\n",
        "    z_value = difference / mth.sqrt(p_combined * (1 - p_combined) * (1/total_users1 + 1/total_users2))\n",
        "\n",
        "    # задаем стандартное нормальное распределение (среднее 0, ст.отклонение 1)\n",
        "    distr = st.norm(0, 1)  \n",
        "\n",
        "    p_value = (1 - distr.cdf(abs(z_value))) * 2\n",
        "\n",
        "    print('p-значение: ', p_value)\n",
        "\n",
        "    if p_value < alpha:\n",
        "        print('Отвергаем нулевую гипотезу, между долями есть статистически значимые различия')\n",
        "    else:\n",
        "        print('Не получилось отвергнуть нулевую гипотезу, между долями нет статистически значимой разницы')"
      ]
    },
    {
      "cell_type": "code",
      "execution_count": 55,
      "metadata": {
        "colab": {
          "base_uri": "https://localhost:8080/"
        },
        "id": "4hdNCJOprMe0",
        "outputId": "19dfe0d5-1e18-43be-9d1b-64dd4bd811cb"
      },
      "outputs": [
        {
          "name": "stdout",
          "output_type": "stream",
          "text": [
            "p-значение:  0.7526703436483038\n",
            "Не получилось отвергнуть нулевую гипотезу, между долями нет статистически значимой разницы\n"
          ]
        }
      ],
      "source": [
        "z_test ('A1', 'A2', 'MainScreenAppear')"
      ]
    },
    {
      "cell_type": "markdown",
      "metadata": {
        "id": "7-Z9CM27rMe1"
      },
      "source": [
        "<b> Вывод: </b>\n",
        "\n",
        "По результатам проведения z-теста для проверки гипотезы о равенстве долей - нет оснований считать доли разными."
      ]
    },
    {
      "cell_type": "markdown",
      "metadata": {
        "id": "RADq2cv2rMe1"
      },
      "source": [
        "#### Проделаем то же самое для всех других событий."
      ]
    },
    {
      "cell_type": "code",
      "execution_count": 56,
      "metadata": {
        "colab": {
          "base_uri": "https://localhost:8080/"
        },
        "id": "9qoseGPSrMe1",
        "outputId": "06154e98-360f-4005-8099-8e48ff626095"
      },
      "outputs": [
        {
          "name": "stdout",
          "output_type": "stream",
          "text": [
            "p-значение:  0.24786096925282264\n",
            "Не получилось отвергнуть нулевую гипотезу, между долями нет статистически значимой разницы\n"
          ]
        }
      ],
      "source": [
        "z_test ('A1', 'A2', 'OffersScreenAppear')"
      ]
    },
    {
      "cell_type": "code",
      "execution_count": 57,
      "metadata": {
        "colab": {
          "base_uri": "https://localhost:8080/"
        },
        "id": "Ovzsx-jorMe1",
        "outputId": "6a40ec8d-9668-43dd-a1d1-faa92367c4d1"
      },
      "outputs": [
        {
          "name": "stdout",
          "output_type": "stream",
          "text": [
            "p-значение:  0.22867643757335676\n",
            "Не получилось отвергнуть нулевую гипотезу, между долями нет статистически значимой разницы\n"
          ]
        }
      ],
      "source": [
        "z_test ('A1', 'A2', 'CartScreenAppear')"
      ]
    },
    {
      "cell_type": "code",
      "execution_count": 58,
      "metadata": {
        "colab": {
          "base_uri": "https://localhost:8080/"
        },
        "id": "TkZo_GAkrMe2",
        "outputId": "c4f1777f-f7cb-48d4-8b73-363b429e7cd9"
      },
      "outputs": [
        {
          "name": "stdout",
          "output_type": "stream",
          "text": [
            "p-значение:  0.11446627829276612\n",
            "Не получилось отвергнуть нулевую гипотезу, между долями нет статистически значимой разницы\n"
          ]
        }
      ],
      "source": [
        "z_test ('A1', 'A2', 'PaymentScreenSuccessful')"
      ]
    },
    {
      "cell_type": "markdown",
      "metadata": {
        "id": "n9AOsiyGrMe2"
      },
      "source": [
        "<b> Вывод: </b>\n",
        "\n",
        "При z - тесте каждого события нет оснований считать доли разными. Разбиение на группы работает корректно."
      ]
    },
    {
      "cell_type": "markdown",
      "metadata": {
        "id": "Mr6-MnvZrMe2"
      },
      "source": [
        "### A/B-тест.\n",
        "\n",
        "Аналогично поступим с группой с изменённым шрифтом, сравним результаты с каждой из контрольных групп в отдельности по каждому событию."
      ]
    },
    {
      "cell_type": "code",
      "execution_count": 59,
      "metadata": {
        "colab": {
          "base_uri": "https://localhost:8080/",
          "height": 206
        },
        "id": "TGmpkGimrMe3",
        "outputId": "d518355c-9ecf-4fd4-fa29-9b7bbd973cc2"
      },
      "outputs": [
        {
          "data": {
            "text/html": [
              "\n",
              "  <div id=\"df-48f159f7-fef2-4293-925d-203e03bc0491\">\n",
              "    <div class=\"colab-df-container\">\n",
              "      <div>\n",
              "<style scoped>\n",
              "    .dataframe tbody tr th:only-of-type {\n",
              "        vertical-align: middle;\n",
              "    }\n",
              "\n",
              "    .dataframe tbody tr th {\n",
              "        vertical-align: top;\n",
              "    }\n",
              "\n",
              "    .dataframe thead th {\n",
              "        text-align: right;\n",
              "    }\n",
              "</style>\n",
              "<table border=\"1\" class=\"dataframe\">\n",
              "  <thead>\n",
              "    <tr style=\"text-align: right;\">\n",
              "      <th>group</th>\n",
              "      <th>A1</th>\n",
              "      <th>A2</th>\n",
              "      <th>B</th>\n",
              "    </tr>\n",
              "    <tr>\n",
              "      <th>event_name</th>\n",
              "      <th></th>\n",
              "      <th></th>\n",
              "      <th></th>\n",
              "    </tr>\n",
              "  </thead>\n",
              "  <tbody>\n",
              "    <tr>\n",
              "      <th>MainScreenAppear</th>\n",
              "      <td>2450</td>\n",
              "      <td>2476</td>\n",
              "      <td>2493</td>\n",
              "    </tr>\n",
              "    <tr>\n",
              "      <th>OffersScreenAppear</th>\n",
              "      <td>1542</td>\n",
              "      <td>1520</td>\n",
              "      <td>1531</td>\n",
              "    </tr>\n",
              "    <tr>\n",
              "      <th>CartScreenAppear</th>\n",
              "      <td>1266</td>\n",
              "      <td>1238</td>\n",
              "      <td>1230</td>\n",
              "    </tr>\n",
              "    <tr>\n",
              "      <th>PaymentScreenSuccessful</th>\n",
              "      <td>1200</td>\n",
              "      <td>1158</td>\n",
              "      <td>1181</td>\n",
              "    </tr>\n",
              "  </tbody>\n",
              "</table>\n",
              "</div>\n",
              "      <button class=\"colab-df-convert\" onclick=\"convertToInteractive('df-48f159f7-fef2-4293-925d-203e03bc0491')\"\n",
              "              title=\"Convert this dataframe to an interactive table.\"\n",
              "              style=\"display:none;\">\n",
              "        \n",
              "  <svg xmlns=\"http://www.w3.org/2000/svg\" height=\"24px\"viewBox=\"0 0 24 24\"\n",
              "       width=\"24px\">\n",
              "    <path d=\"M0 0h24v24H0V0z\" fill=\"none\"/>\n",
              "    <path d=\"M18.56 5.44l.94 2.06.94-2.06 2.06-.94-2.06-.94-.94-2.06-.94 2.06-2.06.94zm-11 1L8.5 8.5l.94-2.06 2.06-.94-2.06-.94L8.5 2.5l-.94 2.06-2.06.94zm10 10l.94 2.06.94-2.06 2.06-.94-2.06-.94-.94-2.06-.94 2.06-2.06.94z\"/><path d=\"M17.41 7.96l-1.37-1.37c-.4-.4-.92-.59-1.43-.59-.52 0-1.04.2-1.43.59L10.3 9.45l-7.72 7.72c-.78.78-.78 2.05 0 2.83L4 21.41c.39.39.9.59 1.41.59.51 0 1.02-.2 1.41-.59l7.78-7.78 2.81-2.81c.8-.78.8-2.07 0-2.86zM5.41 20L4 18.59l7.72-7.72 1.47 1.35L5.41 20z\"/>\n",
              "  </svg>\n",
              "      </button>\n",
              "      \n",
              "  <style>\n",
              "    .colab-df-container {\n",
              "      display:flex;\n",
              "      flex-wrap:wrap;\n",
              "      gap: 12px;\n",
              "    }\n",
              "\n",
              "    .colab-df-convert {\n",
              "      background-color: #E8F0FE;\n",
              "      border: none;\n",
              "      border-radius: 50%;\n",
              "      cursor: pointer;\n",
              "      display: none;\n",
              "      fill: #1967D2;\n",
              "      height: 32px;\n",
              "      padding: 0 0 0 0;\n",
              "      width: 32px;\n",
              "    }\n",
              "\n",
              "    .colab-df-convert:hover {\n",
              "      background-color: #E2EBFA;\n",
              "      box-shadow: 0px 1px 2px rgba(60, 64, 67, 0.3), 0px 1px 3px 1px rgba(60, 64, 67, 0.15);\n",
              "      fill: #174EA6;\n",
              "    }\n",
              "\n",
              "    [theme=dark] .colab-df-convert {\n",
              "      background-color: #3B4455;\n",
              "      fill: #D2E3FC;\n",
              "    }\n",
              "\n",
              "    [theme=dark] .colab-df-convert:hover {\n",
              "      background-color: #434B5C;\n",
              "      box-shadow: 0px 1px 3px 1px rgba(0, 0, 0, 0.15);\n",
              "      filter: drop-shadow(0px 1px 2px rgba(0, 0, 0, 0.3));\n",
              "      fill: #FFFFFF;\n",
              "    }\n",
              "  </style>\n",
              "\n",
              "      <script>\n",
              "        const buttonEl =\n",
              "          document.querySelector('#df-48f159f7-fef2-4293-925d-203e03bc0491 button.colab-df-convert');\n",
              "        buttonEl.style.display =\n",
              "          google.colab.kernel.accessAllowed ? 'block' : 'none';\n",
              "\n",
              "        async function convertToInteractive(key) {\n",
              "          const element = document.querySelector('#df-48f159f7-fef2-4293-925d-203e03bc0491');\n",
              "          const dataTable =\n",
              "            await google.colab.kernel.invokeFunction('convertToInteractive',\n",
              "                                                     [key], {});\n",
              "          if (!dataTable) return;\n",
              "\n",
              "          const docLinkHtml = 'Like what you see? Visit the ' +\n",
              "            '<a target=\"_blank\" href=https://colab.research.google.com/notebooks/data_table.ipynb>data table notebook</a>'\n",
              "            + ' to learn more about interactive tables.';\n",
              "          element.innerHTML = '';\n",
              "          dataTable['output_type'] = 'display_data';\n",
              "          await google.colab.output.renderOutput(dataTable, element);\n",
              "          const docLink = document.createElement('div');\n",
              "          docLink.innerHTML = docLinkHtml;\n",
              "          element.appendChild(docLink);\n",
              "        }\n",
              "      </script>\n",
              "    </div>\n",
              "  </div>\n",
              "  "
            ],
            "text/plain": [
              "group                      A1    A2     B\n",
              "event_name                               \n",
              "MainScreenAppear         2450  2476  2493\n",
              "OffersScreenAppear       1542  1520  1531\n",
              "CartScreenAppear         1266  1238  1230\n",
              "PaymentScreenSuccessful  1200  1158  1181"
            ]
          },
          "execution_count": 59,
          "metadata": {},
          "output_type": "execute_result"
        }
      ],
      "source": [
        "# Создадим временную таблицу\n",
        "t = df_new.pivot_table(index='event_name', columns='group', values='user_id', aggfunc='nunique').sort_values(by='A1', ascending=False)\n",
        "t"
      ]
    },
    {
      "cell_type": "code",
      "execution_count": 60,
      "metadata": {
        "colab": {
          "base_uri": "https://localhost:8080/"
        },
        "id": "tifwbmT4rMe3",
        "outputId": "0f904e6d-f66e-4b60-e683-e54edfd13d46"
      },
      "outputs": [
        {
          "name": "stdout",
          "output_type": "stream",
          "text": [
            "p-значение:  0.3387114076159288\n",
            "Не получилось отвергнуть нулевую гипотезу, между долями нет статистически значимой разницы\n"
          ]
        }
      ],
      "source": [
        "z_test ('A1', 'B', 'MainScreenAppear')"
      ]
    },
    {
      "cell_type": "code",
      "execution_count": 61,
      "metadata": {
        "colab": {
          "base_uri": "https://localhost:8080/"
        },
        "id": "x3fT1E11rMe3",
        "outputId": "612b076e-ad4c-4bd0-84de-ca3ceaf75851"
      },
      "outputs": [
        {
          "name": "stdout",
          "output_type": "stream",
          "text": [
            "p-значение:  0.21442476639710506\n",
            "Не получилось отвергнуть нулевую гипотезу, между долями нет статистически значимой разницы\n"
          ]
        }
      ],
      "source": [
        "z_test ('A1', 'B', 'OffersScreenAppear')"
      ]
    },
    {
      "cell_type": "code",
      "execution_count": 62,
      "metadata": {
        "colab": {
          "base_uri": "https://localhost:8080/"
        },
        "id": "QRro8wjHrMe3",
        "outputId": "f0e80ca4-bebd-4ae8-ac3d-d6ec416d1577"
      },
      "outputs": [
        {
          "name": "stdout",
          "output_type": "stream",
          "text": [
            "p-значение:  0.08067367598823139\n",
            "Не получилось отвергнуть нулевую гипотезу, между долями нет статистически значимой разницы\n"
          ]
        }
      ],
      "source": [
        "z_test ('A1', 'B', 'CartScreenAppear')"
      ]
    },
    {
      "cell_type": "code",
      "execution_count": 63,
      "metadata": {
        "colab": {
          "base_uri": "https://localhost:8080/"
        },
        "id": "oK_LDYXSrMe4",
        "outputId": "e51a55e3-d239-428d-e4b8-85cab8122aac"
      },
      "outputs": [
        {
          "name": "stdout",
          "output_type": "stream",
          "text": [
            "p-значение:  0.21693033984516674\n",
            "Не получилось отвергнуть нулевую гипотезу, между долями нет статистически значимой разницы\n"
          ]
        }
      ],
      "source": [
        "z_test ('A1', 'B', 'PaymentScreenSuccessful')"
      ]
    },
    {
      "cell_type": "code",
      "execution_count": 64,
      "metadata": {
        "colab": {
          "base_uri": "https://localhost:8080/"
        },
        "id": "bOJsflNCrMe7",
        "outputId": "62c050ab-cb46-4caa-f68d-4f7093dd716e"
      },
      "outputs": [
        {
          "name": "stdout",
          "output_type": "stream",
          "text": [
            "p-значение:  0.5194964354051703\n",
            "Не получилось отвергнуть нулевую гипотезу, между долями нет статистически значимой разницы\n"
          ]
        }
      ],
      "source": [
        "z_test ('A2', 'B', 'MainScreenAppear')"
      ]
    },
    {
      "cell_type": "code",
      "execution_count": 65,
      "metadata": {
        "colab": {
          "base_uri": "https://localhost:8080/"
        },
        "id": "gnUYunhQrMe8",
        "outputId": "68576e93-5cd6-4ffe-fc9d-ba9e953afd14"
      },
      "outputs": [
        {
          "name": "stdout",
          "output_type": "stream",
          "text": [
            "p-значение:  0.9333751305879443\n",
            "Не получилось отвергнуть нулевую гипотезу, между долями нет статистически значимой разницы\n"
          ]
        }
      ],
      "source": [
        "z_test ('A2', 'B', 'OffersScreenAppear')"
      ]
    },
    {
      "cell_type": "code",
      "execution_count": 66,
      "metadata": {
        "colab": {
          "base_uri": "https://localhost:8080/"
        },
        "id": "DRROJMM8rMe8",
        "outputId": "736cc584-8a59-491b-eb63-e1adea0b101d"
      },
      "outputs": [
        {
          "name": "stdout",
          "output_type": "stream",
          "text": [
            "p-значение:  0.5878284605111943\n",
            "Не получилось отвергнуть нулевую гипотезу, между долями нет статистически значимой разницы\n"
          ]
        }
      ],
      "source": [
        "z_test ('A2', 'B', 'CartScreenAppear')"
      ]
    },
    {
      "cell_type": "code",
      "execution_count": 67,
      "metadata": {
        "colab": {
          "base_uri": "https://localhost:8080/"
        },
        "id": "Va4kvYhwrMe8",
        "outputId": "be69c536-d977-42ab-fa81-4901ccc49655"
      },
      "outputs": [
        {
          "name": "stdout",
          "output_type": "stream",
          "text": [
            "p-значение:  0.7275718682261119\n",
            "Не получилось отвергнуть нулевую гипотезу, между долями нет статистически значимой разницы\n"
          ]
        }
      ],
      "source": [
        "z_test ('A2', 'B', 'PaymentScreenSuccessful')"
      ]
    },
    {
      "cell_type": "markdown",
      "metadata": {
        "id": "j4-pKlk1rMe9"
      },
      "source": [
        "<b> Вывод: </b>\n",
        "\n",
        "При сравнении группы с изменённым шрифтом, с каждой из контрольных групп в отдельности по каждому событию, по результатам z - теста нет оснований считать доли разными."
      ]
    },
    {
      "cell_type": "markdown",
      "metadata": {
        "id": "NLJTVCzMrMe9"
      },
      "source": [
        "### Сравним результаты с объединённой контрольной группой."
      ]
    },
    {
      "cell_type": "code",
      "execution_count": 68,
      "metadata": {
        "colab": {
          "base_uri": "https://localhost:8080/",
          "height": 206
        },
        "id": "TGdTkKl-rMe9",
        "outputId": "b2595437-1cf4-4918-e6e7-f977db1eb4fd"
      },
      "outputs": [
        {
          "data": {
            "text/html": [
              "\n",
              "  <div id=\"df-8b0acbcc-7eeb-4749-975e-fa8c0b832252\">\n",
              "    <div class=\"colab-df-container\">\n",
              "      <div>\n",
              "<style scoped>\n",
              "    .dataframe tbody tr th:only-of-type {\n",
              "        vertical-align: middle;\n",
              "    }\n",
              "\n",
              "    .dataframe tbody tr th {\n",
              "        vertical-align: top;\n",
              "    }\n",
              "\n",
              "    .dataframe thead th {\n",
              "        text-align: right;\n",
              "    }\n",
              "</style>\n",
              "<table border=\"1\" class=\"dataframe\">\n",
              "  <thead>\n",
              "    <tr style=\"text-align: right;\">\n",
              "      <th>group</th>\n",
              "      <th>A1</th>\n",
              "      <th>A2</th>\n",
              "      <th>B</th>\n",
              "      <th>A1+A2</th>\n",
              "    </tr>\n",
              "    <tr>\n",
              "      <th>event_name</th>\n",
              "      <th></th>\n",
              "      <th></th>\n",
              "      <th></th>\n",
              "      <th></th>\n",
              "    </tr>\n",
              "  </thead>\n",
              "  <tbody>\n",
              "    <tr>\n",
              "      <th>MainScreenAppear</th>\n",
              "      <td>2450</td>\n",
              "      <td>2476</td>\n",
              "      <td>2493</td>\n",
              "      <td>4926</td>\n",
              "    </tr>\n",
              "    <tr>\n",
              "      <th>OffersScreenAppear</th>\n",
              "      <td>1542</td>\n",
              "      <td>1520</td>\n",
              "      <td>1531</td>\n",
              "      <td>3062</td>\n",
              "    </tr>\n",
              "    <tr>\n",
              "      <th>CartScreenAppear</th>\n",
              "      <td>1266</td>\n",
              "      <td>1238</td>\n",
              "      <td>1230</td>\n",
              "      <td>2504</td>\n",
              "    </tr>\n",
              "    <tr>\n",
              "      <th>PaymentScreenSuccessful</th>\n",
              "      <td>1200</td>\n",
              "      <td>1158</td>\n",
              "      <td>1181</td>\n",
              "      <td>2358</td>\n",
              "    </tr>\n",
              "  </tbody>\n",
              "</table>\n",
              "</div>\n",
              "      <button class=\"colab-df-convert\" onclick=\"convertToInteractive('df-8b0acbcc-7eeb-4749-975e-fa8c0b832252')\"\n",
              "              title=\"Convert this dataframe to an interactive table.\"\n",
              "              style=\"display:none;\">\n",
              "        \n",
              "  <svg xmlns=\"http://www.w3.org/2000/svg\" height=\"24px\"viewBox=\"0 0 24 24\"\n",
              "       width=\"24px\">\n",
              "    <path d=\"M0 0h24v24H0V0z\" fill=\"none\"/>\n",
              "    <path d=\"M18.56 5.44l.94 2.06.94-2.06 2.06-.94-2.06-.94-.94-2.06-.94 2.06-2.06.94zm-11 1L8.5 8.5l.94-2.06 2.06-.94-2.06-.94L8.5 2.5l-.94 2.06-2.06.94zm10 10l.94 2.06.94-2.06 2.06-.94-2.06-.94-.94-2.06-.94 2.06-2.06.94z\"/><path d=\"M17.41 7.96l-1.37-1.37c-.4-.4-.92-.59-1.43-.59-.52 0-1.04.2-1.43.59L10.3 9.45l-7.72 7.72c-.78.78-.78 2.05 0 2.83L4 21.41c.39.39.9.59 1.41.59.51 0 1.02-.2 1.41-.59l7.78-7.78 2.81-2.81c.8-.78.8-2.07 0-2.86zM5.41 20L4 18.59l7.72-7.72 1.47 1.35L5.41 20z\"/>\n",
              "  </svg>\n",
              "      </button>\n",
              "      \n",
              "  <style>\n",
              "    .colab-df-container {\n",
              "      display:flex;\n",
              "      flex-wrap:wrap;\n",
              "      gap: 12px;\n",
              "    }\n",
              "\n",
              "    .colab-df-convert {\n",
              "      background-color: #E8F0FE;\n",
              "      border: none;\n",
              "      border-radius: 50%;\n",
              "      cursor: pointer;\n",
              "      display: none;\n",
              "      fill: #1967D2;\n",
              "      height: 32px;\n",
              "      padding: 0 0 0 0;\n",
              "      width: 32px;\n",
              "    }\n",
              "\n",
              "    .colab-df-convert:hover {\n",
              "      background-color: #E2EBFA;\n",
              "      box-shadow: 0px 1px 2px rgba(60, 64, 67, 0.3), 0px 1px 3px 1px rgba(60, 64, 67, 0.15);\n",
              "      fill: #174EA6;\n",
              "    }\n",
              "\n",
              "    [theme=dark] .colab-df-convert {\n",
              "      background-color: #3B4455;\n",
              "      fill: #D2E3FC;\n",
              "    }\n",
              "\n",
              "    [theme=dark] .colab-df-convert:hover {\n",
              "      background-color: #434B5C;\n",
              "      box-shadow: 0px 1px 3px 1px rgba(0, 0, 0, 0.15);\n",
              "      filter: drop-shadow(0px 1px 2px rgba(0, 0, 0, 0.3));\n",
              "      fill: #FFFFFF;\n",
              "    }\n",
              "  </style>\n",
              "\n",
              "      <script>\n",
              "        const buttonEl =\n",
              "          document.querySelector('#df-8b0acbcc-7eeb-4749-975e-fa8c0b832252 button.colab-df-convert');\n",
              "        buttonEl.style.display =\n",
              "          google.colab.kernel.accessAllowed ? 'block' : 'none';\n",
              "\n",
              "        async function convertToInteractive(key) {\n",
              "          const element = document.querySelector('#df-8b0acbcc-7eeb-4749-975e-fa8c0b832252');\n",
              "          const dataTable =\n",
              "            await google.colab.kernel.invokeFunction('convertToInteractive',\n",
              "                                                     [key], {});\n",
              "          if (!dataTable) return;\n",
              "\n",
              "          const docLinkHtml = 'Like what you see? Visit the ' +\n",
              "            '<a target=\"_blank\" href=https://colab.research.google.com/notebooks/data_table.ipynb>data table notebook</a>'\n",
              "            + ' to learn more about interactive tables.';\n",
              "          element.innerHTML = '';\n",
              "          dataTable['output_type'] = 'display_data';\n",
              "          await google.colab.output.renderOutput(dataTable, element);\n",
              "          const docLink = document.createElement('div');\n",
              "          docLink.innerHTML = docLinkHtml;\n",
              "          element.appendChild(docLink);\n",
              "        }\n",
              "      </script>\n",
              "    </div>\n",
              "  </div>\n",
              "  "
            ],
            "text/plain": [
              "group                      A1    A2     B  A1+A2\n",
              "event_name                                      \n",
              "MainScreenAppear         2450  2476  2493   4926\n",
              "OffersScreenAppear       1542  1520  1531   3062\n",
              "CartScreenAppear         1266  1238  1230   2504\n",
              "PaymentScreenSuccessful  1200  1158  1181   2358"
            ]
          },
          "execution_count": 68,
          "metadata": {},
          "output_type": "execute_result"
        }
      ],
      "source": [
        "# Добавим к временной таблице колонку с объединённой контрольной группой\n",
        "t['A1+A2'] = t['A1'] + t['A2']\n",
        "t"
      ]
    },
    {
      "cell_type": "code",
      "execution_count": 69,
      "metadata": {
        "colab": {
          "base_uri": "https://localhost:8080/"
        },
        "id": "_5765HrOrMe-",
        "outputId": "2b97a751-675d-4db4-aa85-804258ddeee1"
      },
      "outputs": [
        {
          "data": {
            "text/plain": [
              "group\n",
              "A1       2483\n",
              "A2       2512\n",
              "B        2535\n",
              "A1+A2    4995\n",
              "Name: user_id, dtype: int64"
            ]
          },
          "execution_count": 69,
          "metadata": {},
          "output_type": "execute_result"
        }
      ],
      "source": [
        "# Добавим сумму пользователей объединённой контрольной группой\n",
        "total_users = df_new.groupby('group')['user_id'].nunique()\n",
        "total_users['A1+A2'] = total_users['A1'] + total_users['A2']\n",
        "total_users"
      ]
    },
    {
      "cell_type": "code",
      "execution_count": 70,
      "metadata": {
        "colab": {
          "base_uri": "https://localhost:8080/"
        },
        "id": "dqj6adlbrMe-",
        "outputId": "f3a4bbc9-0c89-4d43-b4cd-356ab4bb7644"
      },
      "outputs": [
        {
          "name": "stdout",
          "output_type": "stream",
          "text": [
            "p-значение:  0.3486684291093256\n",
            "Не получилось отвергнуть нулевую гипотезу, между долями нет статистически значимой разницы\n"
          ]
        }
      ],
      "source": [
        "z_test ('A1+A2', 'B', 'MainScreenAppear')"
      ]
    },
    {
      "cell_type": "code",
      "execution_count": 71,
      "metadata": {
        "colab": {
          "base_uri": "https://localhost:8080/"
        },
        "id": "efF_NK8hrMe-",
        "outputId": "940b93a6-5683-4d68-8b54-33f3cd6db652"
      },
      "outputs": [
        {
          "name": "stdout",
          "output_type": "stream",
          "text": [
            "p-значение:  0.44582745409482394\n",
            "Не получилось отвергнуть нулевую гипотезу, между долями нет статистически значимой разницы\n"
          ]
        }
      ],
      "source": [
        "z_test ('A1+A2', 'B', 'OffersScreenAppear')"
      ]
    },
    {
      "cell_type": "code",
      "execution_count": 72,
      "metadata": {
        "colab": {
          "base_uri": "https://localhost:8080/"
        },
        "id": "dlMbw4K_rMe-",
        "outputId": "ae139b72-9d8b-49ef-eb97-8b6a2e27a231"
      },
      "outputs": [
        {
          "name": "stdout",
          "output_type": "stream",
          "text": [
            "p-значение:  0.18683558686831558\n",
            "Не получилось отвергнуть нулевую гипотезу, между долями нет статистически значимой разницы\n"
          ]
        }
      ],
      "source": [
        "z_test ('A1+A2', 'B', 'CartScreenAppear')"
      ]
    },
    {
      "cell_type": "code",
      "execution_count": 73,
      "metadata": {
        "colab": {
          "base_uri": "https://localhost:8080/"
        },
        "id": "6k6izeoLrMe_",
        "outputId": "cef11236-578e-4028-8665-a7b0f1e44d95"
      },
      "outputs": [
        {
          "name": "stdout",
          "output_type": "stream",
          "text": [
            "p-значение:  0.6107918742187335\n",
            "Не получилось отвергнуть нулевую гипотезу, между долями нет статистически значимой разницы\n"
          ]
        }
      ],
      "source": [
        "z_test ('A1+A2', 'B', 'PaymentScreenSuccessful')"
      ]
    },
    {
      "cell_type": "markdown",
      "metadata": {
        "id": "mY_cFctirMe_"
      },
      "source": [
        "<b> Вывод: </b>\n",
        "\n",
        "При сравнении группы с изменённым шрифтом, с  объединённой контрольной группой по каждому событию, по результатам z - теста нет оснований считать доли разными."
      ]
    },
    {
      "cell_type": "markdown",
      "metadata": {
        "id": "8WruH2UkrMe_"
      },
      "source": [
        "<b> Общий вывод по разделу 5: </b>\n",
        "\n",
        "Для проведения z-теста на равенство долей групп были сформулированы гипотезы:\n",
        "- Н0: между долями есть значимая разница;\n",
        "- Н1: нет оснований считать доли разными.\n",
        "\n",
        "Во всех сравниваемых группах, по всем событиям - нет оснований считать доли разными."
      ]
    },
    {
      "cell_type": "markdown",
      "metadata": {
        "id": "teJfLjYUrMfA"
      },
      "source": [
        "## Заключение.\n",
        "\n",
        "По результатам анализа дпнных о поведении пользователей мобильного приложения выявлены следующие факты:\n",
        "1. В воронку событий входит 4 последовательных события:\n",
        "- MainScreenAppear - просмотр главной страницы;\n",
        "- OffersScreenAppear - просмотр страницы предложений;\n",
        "- CartScreenAppear - просмотр корзины;\n",
        "- PaymentScreenSuccessful - переход на страницу оплаты.\n",
        "\n",
        "Больше всего пользователей просматривало главную страницу. На следующем шаге - OffersScreenAppear - просмотр страницы предложений теряется больше всего пользователей. И только 47.7 % пользователей доходит от первого шага до покупки.\n",
        "\n",
        "2. Изучение результатов эксперимента по смене шрифта говорит о том, что разницы в поведении пользователей в зависимости от шрифта нет. Если работа по замене шрифта не несёт больших экономических и/или трудовых издержек, то шрифт можно заменить.\n",
        " \n",
        "Для проведения z-теста на равенство долей групп были сформулированы гипотезы:\n",
        "- Н0: между долями есть значимая разница;\n",
        "- Н1: нет оснований считать доли разными.\n",
        "\n",
        "Критический уровень статистической значимости был принят равным 0.05. \n",
        "\n",
        "Было проведено 16 проверок статистических гипотез.\n",
        "\n",
        "Во всех сравниваемых группах, по всем событиям - между долями нет статистически значимой разницы."
      ]
    }
  ],
  "metadata": {
    "ExecuteTimeLog": [
      {
        "duration": 1446,
        "start_time": "2023-01-10T13:23:46.797Z"
      },
      {
        "duration": 1052,
        "start_time": "2023-01-10T13:24:18.371Z"
      },
      {
        "duration": 12,
        "start_time": "2023-01-10T13:24:30.267Z"
      },
      {
        "duration": 20,
        "start_time": "2023-01-10T13:24:35.249Z"
      },
      {
        "duration": 173,
        "start_time": "2023-01-10T13:24:56.520Z"
      },
      {
        "duration": 8,
        "start_time": "2023-01-10T13:24:57.911Z"
      },
      {
        "duration": 33,
        "start_time": "2023-01-10T13:25:25.008Z"
      },
      {
        "duration": 38,
        "start_time": "2023-01-10T13:25:29.672Z"
      },
      {
        "duration": 13,
        "start_time": "2023-01-10T13:26:06.039Z"
      },
      {
        "duration": 54,
        "start_time": "2023-01-10T13:26:23.790Z"
      },
      {
        "duration": 7,
        "start_time": "2023-01-10T13:36:00.419Z"
      },
      {
        "duration": 28,
        "start_time": "2023-01-10T13:37:49.792Z"
      },
      {
        "duration": 132,
        "start_time": "2023-01-10T13:38:07.973Z"
      },
      {
        "duration": 22,
        "start_time": "2023-01-10T13:38:15.728Z"
      },
      {
        "duration": 19,
        "start_time": "2023-01-10T13:38:27.600Z"
      },
      {
        "duration": 33,
        "start_time": "2023-01-10T13:38:44.182Z"
      },
      {
        "duration": 13,
        "start_time": "2023-01-10T13:42:54.244Z"
      },
      {
        "duration": 141,
        "start_time": "2023-01-10T13:43:02.687Z"
      },
      {
        "duration": 9,
        "start_time": "2023-01-10T13:43:03.699Z"
      },
      {
        "duration": 29,
        "start_time": "2023-01-10T13:43:06.636Z"
      },
      {
        "duration": 12,
        "start_time": "2023-01-10T13:43:10.731Z"
      },
      {
        "duration": 14,
        "start_time": "2023-01-10T13:45:16.635Z"
      },
      {
        "duration": 11,
        "start_time": "2023-01-10T14:00:12.880Z"
      },
      {
        "duration": 2,
        "start_time": "2023-01-10T14:02:16.647Z"
      },
      {
        "duration": 10,
        "start_time": "2023-01-10T14:02:17.977Z"
      },
      {
        "duration": 69,
        "start_time": "2023-01-10T14:05:42.331Z"
      },
      {
        "duration": 23,
        "start_time": "2023-01-10T14:11:58.127Z"
      },
      {
        "duration": 14,
        "start_time": "2023-01-10T14:12:05.718Z"
      },
      {
        "duration": 1144,
        "start_time": "2023-01-10T14:16:07.853Z"
      },
      {
        "duration": 64,
        "start_time": "2023-01-10T14:16:27.621Z"
      },
      {
        "duration": 14,
        "start_time": "2023-01-10T14:16:29.165Z"
      },
      {
        "duration": 2,
        "start_time": "2023-01-10T14:37:30.217Z"
      },
      {
        "duration": 418,
        "start_time": "2023-01-10T14:37:37.445Z"
      },
      {
        "duration": 150,
        "start_time": "2023-01-10T14:37:37.865Z"
      },
      {
        "duration": 21,
        "start_time": "2023-01-10T14:37:38.017Z"
      },
      {
        "duration": 37,
        "start_time": "2023-01-10T14:37:38.040Z"
      },
      {
        "duration": 20,
        "start_time": "2023-01-10T14:37:38.079Z"
      },
      {
        "duration": 84,
        "start_time": "2023-01-10T14:37:38.100Z"
      },
      {
        "duration": 3,
        "start_time": "2023-01-10T14:37:38.186Z"
      },
      {
        "duration": 84,
        "start_time": "2023-01-10T14:37:38.190Z"
      },
      {
        "duration": 22,
        "start_time": "2023-01-10T14:37:38.276Z"
      },
      {
        "duration": 76,
        "start_time": "2023-01-10T14:37:38.300Z"
      },
      {
        "duration": 34,
        "start_time": "2023-01-10T14:43:03.052Z"
      },
      {
        "duration": 16,
        "start_time": "2023-01-10T14:43:56.915Z"
      },
      {
        "duration": 10,
        "start_time": "2023-01-10T14:45:14.850Z"
      },
      {
        "duration": 11,
        "start_time": "2023-01-10T14:45:43.225Z"
      },
      {
        "duration": 4,
        "start_time": "2023-01-10T14:45:51.490Z"
      },
      {
        "duration": 9,
        "start_time": "2023-01-10T14:46:41.986Z"
      },
      {
        "duration": 27,
        "start_time": "2023-01-10T14:48:37.672Z"
      },
      {
        "duration": 26,
        "start_time": "2023-01-10T14:50:56.263Z"
      },
      {
        "duration": 21,
        "start_time": "2023-01-10T14:51:24.470Z"
      },
      {
        "duration": 24,
        "start_time": "2023-01-10T14:52:23.349Z"
      },
      {
        "duration": 18,
        "start_time": "2023-01-10T14:53:26.045Z"
      },
      {
        "duration": 17,
        "start_time": "2023-01-10T14:53:31.148Z"
      },
      {
        "duration": 5,
        "start_time": "2023-01-10T14:55:41.835Z"
      },
      {
        "duration": 6,
        "start_time": "2023-01-10T14:55:57.499Z"
      },
      {
        "duration": 5,
        "start_time": "2023-01-10T14:56:05.763Z"
      },
      {
        "duration": 6,
        "start_time": "2023-01-10T14:56:08.651Z"
      },
      {
        "duration": 59,
        "start_time": "2023-01-10T15:01:40.256Z"
      },
      {
        "duration": 229,
        "start_time": "2023-01-10T15:01:59.863Z"
      },
      {
        "duration": 1108,
        "start_time": "2023-01-10T15:02:05.415Z"
      },
      {
        "duration": 527,
        "start_time": "2023-01-10T15:02:48.383Z"
      },
      {
        "duration": 620,
        "start_time": "2023-01-10T15:03:26.093Z"
      },
      {
        "duration": 145,
        "start_time": "2023-01-10T15:03:26.715Z"
      },
      {
        "duration": 15,
        "start_time": "2023-01-10T15:03:26.862Z"
      },
      {
        "duration": 38,
        "start_time": "2023-01-10T15:03:26.880Z"
      },
      {
        "duration": 17,
        "start_time": "2023-01-10T15:03:26.920Z"
      },
      {
        "duration": 83,
        "start_time": "2023-01-10T15:03:26.939Z"
      },
      {
        "duration": 3,
        "start_time": "2023-01-10T15:03:27.024Z"
      },
      {
        "duration": 96,
        "start_time": "2023-01-10T15:03:27.028Z"
      },
      {
        "duration": 29,
        "start_time": "2023-01-10T15:03:27.126Z"
      },
      {
        "duration": 74,
        "start_time": "2023-01-10T15:03:27.157Z"
      },
      {
        "duration": 9,
        "start_time": "2023-01-10T15:03:27.233Z"
      },
      {
        "duration": 46,
        "start_time": "2023-01-10T15:03:27.244Z"
      },
      {
        "duration": 11,
        "start_time": "2023-01-10T15:03:27.291Z"
      },
      {
        "duration": 26,
        "start_time": "2023-01-10T15:03:27.303Z"
      },
      {
        "duration": 25,
        "start_time": "2023-01-10T15:03:27.330Z"
      },
      {
        "duration": 15,
        "start_time": "2023-01-10T15:03:27.356Z"
      },
      {
        "duration": 5,
        "start_time": "2023-01-10T15:03:27.372Z"
      },
      {
        "duration": 529,
        "start_time": "2023-01-10T15:03:27.378Z"
      },
      {
        "duration": 453,
        "start_time": "2023-01-10T15:05:42.757Z"
      },
      {
        "duration": 445,
        "start_time": "2023-01-10T15:06:06.629Z"
      },
      {
        "duration": 495,
        "start_time": "2023-01-10T15:07:00.870Z"
      },
      {
        "duration": 627,
        "start_time": "2023-01-10T15:07:10.590Z"
      },
      {
        "duration": 145,
        "start_time": "2023-01-10T15:07:11.219Z"
      },
      {
        "duration": 11,
        "start_time": "2023-01-10T15:07:11.366Z"
      },
      {
        "duration": 19,
        "start_time": "2023-01-10T15:07:11.379Z"
      },
      {
        "duration": 13,
        "start_time": "2023-01-10T15:07:11.400Z"
      },
      {
        "duration": 88,
        "start_time": "2023-01-10T15:07:11.415Z"
      },
      {
        "duration": 4,
        "start_time": "2023-01-10T15:07:11.505Z"
      },
      {
        "duration": 96,
        "start_time": "2023-01-10T15:07:11.511Z"
      },
      {
        "duration": 22,
        "start_time": "2023-01-10T15:07:11.609Z"
      },
      {
        "duration": 79,
        "start_time": "2023-01-10T15:07:11.634Z"
      },
      {
        "duration": 11,
        "start_time": "2023-01-10T15:07:11.715Z"
      },
      {
        "duration": 43,
        "start_time": "2023-01-10T15:07:11.728Z"
      },
      {
        "duration": 12,
        "start_time": "2023-01-10T15:07:11.773Z"
      },
      {
        "duration": 11,
        "start_time": "2023-01-10T15:07:11.787Z"
      },
      {
        "duration": 15,
        "start_time": "2023-01-10T15:07:11.800Z"
      },
      {
        "duration": 5,
        "start_time": "2023-01-10T15:07:11.817Z"
      },
      {
        "duration": 5,
        "start_time": "2023-01-10T15:07:11.853Z"
      },
      {
        "duration": 546,
        "start_time": "2023-01-10T15:07:11.860Z"
      },
      {
        "duration": 439,
        "start_time": "2023-01-10T15:07:23.842Z"
      },
      {
        "duration": 624,
        "start_time": "2023-01-10T15:07:37.490Z"
      },
      {
        "duration": 148,
        "start_time": "2023-01-10T15:07:38.116Z"
      },
      {
        "duration": 11,
        "start_time": "2023-01-10T15:07:38.265Z"
      },
      {
        "duration": 29,
        "start_time": "2023-01-10T15:07:38.278Z"
      },
      {
        "duration": 12,
        "start_time": "2023-01-10T15:07:38.309Z"
      },
      {
        "duration": 80,
        "start_time": "2023-01-10T15:07:38.322Z"
      },
      {
        "duration": 4,
        "start_time": "2023-01-10T15:07:38.403Z"
      },
      {
        "duration": 114,
        "start_time": "2023-01-10T15:07:38.409Z"
      },
      {
        "duration": 28,
        "start_time": "2023-01-10T15:07:38.524Z"
      },
      {
        "duration": 71,
        "start_time": "2023-01-10T15:07:38.554Z"
      },
      {
        "duration": 10,
        "start_time": "2023-01-10T15:07:38.626Z"
      },
      {
        "duration": 43,
        "start_time": "2023-01-10T15:07:38.638Z"
      },
      {
        "duration": 11,
        "start_time": "2023-01-10T15:07:38.682Z"
      },
      {
        "duration": 15,
        "start_time": "2023-01-10T15:07:38.694Z"
      },
      {
        "duration": 15,
        "start_time": "2023-01-10T15:07:38.711Z"
      },
      {
        "duration": 29,
        "start_time": "2023-01-10T15:07:38.727Z"
      },
      {
        "duration": 10,
        "start_time": "2023-01-10T15:07:38.757Z"
      },
      {
        "duration": 510,
        "start_time": "2023-01-10T15:07:38.768Z"
      },
      {
        "duration": 442,
        "start_time": "2023-01-10T15:08:41.212Z"
      },
      {
        "duration": 418,
        "start_time": "2023-01-10T15:08:49.507Z"
      },
      {
        "duration": 530,
        "start_time": "2023-01-10T15:09:03.819Z"
      },
      {
        "duration": 454,
        "start_time": "2023-01-10T15:09:27.691Z"
      },
      {
        "duration": 430,
        "start_time": "2023-01-10T15:09:33.322Z"
      },
      {
        "duration": 443,
        "start_time": "2023-01-10T15:09:38.762Z"
      },
      {
        "duration": 460,
        "start_time": "2023-01-10T15:09:54.610Z"
      },
      {
        "duration": 12,
        "start_time": "2023-01-10T15:20:27.978Z"
      },
      {
        "duration": 8,
        "start_time": "2023-01-10T15:20:29.780Z"
      },
      {
        "duration": 112,
        "start_time": "2023-01-10T15:23:19.505Z"
      },
      {
        "duration": 317,
        "start_time": "2023-01-10T15:24:13.019Z"
      },
      {
        "duration": 8,
        "start_time": "2023-01-10T15:24:28.092Z"
      },
      {
        "duration": 8,
        "start_time": "2023-01-10T15:24:42.543Z"
      },
      {
        "duration": 325,
        "start_time": "2023-01-10T15:25:34.519Z"
      },
      {
        "duration": 293,
        "start_time": "2023-01-10T15:26:38.479Z"
      },
      {
        "duration": 36,
        "start_time": "2023-01-10T15:27:31.494Z"
      },
      {
        "duration": 10,
        "start_time": "2023-01-10T15:27:34.509Z"
      },
      {
        "duration": 10,
        "start_time": "2023-01-10T15:27:36.982Z"
      },
      {
        "duration": 15,
        "start_time": "2023-01-10T15:34:33.186Z"
      },
      {
        "duration": 644,
        "start_time": "2023-01-10T15:34:45.148Z"
      },
      {
        "duration": 149,
        "start_time": "2023-01-10T15:34:45.794Z"
      },
      {
        "duration": 11,
        "start_time": "2023-01-10T15:34:45.953Z"
      },
      {
        "duration": 29,
        "start_time": "2023-01-10T15:34:45.965Z"
      },
      {
        "duration": 13,
        "start_time": "2023-01-10T15:34:45.996Z"
      },
      {
        "duration": 80,
        "start_time": "2023-01-10T15:34:46.011Z"
      },
      {
        "duration": 3,
        "start_time": "2023-01-10T15:34:46.093Z"
      },
      {
        "duration": 94,
        "start_time": "2023-01-10T15:34:46.098Z"
      },
      {
        "duration": 21,
        "start_time": "2023-01-10T15:34:46.196Z"
      },
      {
        "duration": 76,
        "start_time": "2023-01-10T15:34:46.219Z"
      },
      {
        "duration": 10,
        "start_time": "2023-01-10T15:34:46.297Z"
      },
      {
        "duration": 46,
        "start_time": "2023-01-10T15:34:46.309Z"
      },
      {
        "duration": 11,
        "start_time": "2023-01-10T15:34:46.357Z"
      },
      {
        "duration": 16,
        "start_time": "2023-01-10T15:34:46.370Z"
      },
      {
        "duration": 23,
        "start_time": "2023-01-10T15:34:46.389Z"
      },
      {
        "duration": 5,
        "start_time": "2023-01-10T15:34:46.414Z"
      },
      {
        "duration": 32,
        "start_time": "2023-01-10T15:34:46.421Z"
      },
      {
        "duration": 530,
        "start_time": "2023-01-10T15:34:46.455Z"
      },
      {
        "duration": 31,
        "start_time": "2023-01-10T15:34:46.986Z"
      },
      {
        "duration": 18,
        "start_time": "2023-01-10T15:34:47.019Z"
      },
      {
        "duration": 11,
        "start_time": "2023-01-10T15:34:47.052Z"
      },
      {
        "duration": 19,
        "start_time": "2023-01-10T15:34:53.024Z"
      },
      {
        "duration": 687,
        "start_time": "2023-01-10T15:35:13.022Z"
      },
      {
        "duration": 156,
        "start_time": "2023-01-10T15:35:13.711Z"
      },
      {
        "duration": 11,
        "start_time": "2023-01-10T15:35:13.869Z"
      },
      {
        "duration": 23,
        "start_time": "2023-01-10T15:35:13.882Z"
      },
      {
        "duration": 14,
        "start_time": "2023-01-10T15:35:13.907Z"
      },
      {
        "duration": 83,
        "start_time": "2023-01-10T15:35:13.922Z"
      },
      {
        "duration": 3,
        "start_time": "2023-01-10T15:35:14.007Z"
      },
      {
        "duration": 96,
        "start_time": "2023-01-10T15:35:14.012Z"
      },
      {
        "duration": 22,
        "start_time": "2023-01-10T15:35:14.110Z"
      },
      {
        "duration": 73,
        "start_time": "2023-01-10T15:35:14.134Z"
      },
      {
        "duration": 10,
        "start_time": "2023-01-10T15:35:14.208Z"
      },
      {
        "duration": 55,
        "start_time": "2023-01-10T15:35:14.221Z"
      },
      {
        "duration": 14,
        "start_time": "2023-01-10T15:35:14.278Z"
      },
      {
        "duration": 15,
        "start_time": "2023-01-10T15:35:14.294Z"
      },
      {
        "duration": 16,
        "start_time": "2023-01-10T15:35:14.311Z"
      },
      {
        "duration": 29,
        "start_time": "2023-01-10T15:35:14.328Z"
      },
      {
        "duration": 6,
        "start_time": "2023-01-10T15:35:14.359Z"
      },
      {
        "duration": 633,
        "start_time": "2023-01-10T15:35:14.368Z"
      },
      {
        "duration": 33,
        "start_time": "2023-01-10T15:35:15.003Z"
      },
      {
        "duration": 33,
        "start_time": "2023-01-10T15:35:15.038Z"
      },
      {
        "duration": 15,
        "start_time": "2023-01-10T15:35:15.072Z"
      },
      {
        "duration": 5,
        "start_time": "2023-01-10T15:37:03.920Z"
      },
      {
        "duration": 29,
        "start_time": "2023-01-10T15:38:41.045Z"
      },
      {
        "duration": 18,
        "start_time": "2023-01-10T15:38:46.199Z"
      },
      {
        "duration": 22,
        "start_time": "2023-01-10T15:38:59.959Z"
      },
      {
        "duration": 20,
        "start_time": "2023-01-10T15:39:14.968Z"
      },
      {
        "duration": 11,
        "start_time": "2023-01-10T15:39:44.894Z"
      },
      {
        "duration": 6,
        "start_time": "2023-01-10T15:43:25.524Z"
      },
      {
        "duration": 655,
        "start_time": "2023-01-10T16:54:57.054Z"
      },
      {
        "duration": 148,
        "start_time": "2023-01-10T16:54:57.711Z"
      },
      {
        "duration": 11,
        "start_time": "2023-01-10T16:54:57.864Z"
      },
      {
        "duration": 20,
        "start_time": "2023-01-10T16:54:57.877Z"
      },
      {
        "duration": 13,
        "start_time": "2023-01-10T16:54:57.899Z"
      },
      {
        "duration": 94,
        "start_time": "2023-01-10T16:54:57.913Z"
      },
      {
        "duration": 3,
        "start_time": "2023-01-10T16:54:58.009Z"
      },
      {
        "duration": 90,
        "start_time": "2023-01-10T16:54:58.013Z"
      },
      {
        "duration": 21,
        "start_time": "2023-01-10T16:54:58.106Z"
      },
      {
        "duration": 79,
        "start_time": "2023-01-10T16:54:58.131Z"
      },
      {
        "duration": 9,
        "start_time": "2023-01-10T16:54:58.212Z"
      },
      {
        "duration": 47,
        "start_time": "2023-01-10T16:54:58.222Z"
      },
      {
        "duration": 11,
        "start_time": "2023-01-10T16:54:58.270Z"
      },
      {
        "duration": 9,
        "start_time": "2023-01-10T16:54:58.283Z"
      },
      {
        "duration": 15,
        "start_time": "2023-01-10T16:54:58.293Z"
      },
      {
        "duration": 5,
        "start_time": "2023-01-10T16:54:58.309Z"
      },
      {
        "duration": 38,
        "start_time": "2023-01-10T16:54:58.315Z"
      },
      {
        "duration": 530,
        "start_time": "2023-01-10T16:54:58.354Z"
      },
      {
        "duration": 29,
        "start_time": "2023-01-10T16:54:58.886Z"
      },
      {
        "duration": 40,
        "start_time": "2023-01-10T16:54:58.917Z"
      },
      {
        "duration": 19,
        "start_time": "2023-01-10T16:54:58.958Z"
      },
      {
        "duration": 14,
        "start_time": "2023-01-10T16:54:58.978Z"
      },
      {
        "duration": 13,
        "start_time": "2023-01-10T16:54:58.994Z"
      },
      {
        "duration": 8,
        "start_time": "2023-01-10T16:54:59.008Z"
      },
      {
        "duration": 595,
        "start_time": "2023-01-10T16:57:27.515Z"
      },
      {
        "duration": 146,
        "start_time": "2023-01-10T16:57:28.112Z"
      },
      {
        "duration": 11,
        "start_time": "2023-01-10T16:57:28.259Z"
      },
      {
        "duration": 18,
        "start_time": "2023-01-10T16:57:28.272Z"
      },
      {
        "duration": 16,
        "start_time": "2023-01-10T16:57:28.291Z"
      },
      {
        "duration": 86,
        "start_time": "2023-01-10T16:57:28.309Z"
      },
      {
        "duration": 3,
        "start_time": "2023-01-10T16:57:28.397Z"
      },
      {
        "duration": 90,
        "start_time": "2023-01-10T16:57:28.401Z"
      },
      {
        "duration": 21,
        "start_time": "2023-01-10T16:57:28.492Z"
      },
      {
        "duration": 73,
        "start_time": "2023-01-10T16:57:28.516Z"
      },
      {
        "duration": 9,
        "start_time": "2023-01-10T16:57:28.591Z"
      },
      {
        "duration": 45,
        "start_time": "2023-01-10T16:57:28.601Z"
      },
      {
        "duration": 11,
        "start_time": "2023-01-10T16:57:28.651Z"
      },
      {
        "duration": 12,
        "start_time": "2023-01-10T16:57:28.663Z"
      },
      {
        "duration": 14,
        "start_time": "2023-01-10T16:57:28.676Z"
      },
      {
        "duration": 4,
        "start_time": "2023-01-10T16:57:28.692Z"
      },
      {
        "duration": 6,
        "start_time": "2023-01-10T16:57:28.698Z"
      },
      {
        "duration": 551,
        "start_time": "2023-01-10T16:57:28.706Z"
      },
      {
        "duration": 31,
        "start_time": "2023-01-10T16:57:29.259Z"
      },
      {
        "duration": 18,
        "start_time": "2023-01-10T16:57:29.292Z"
      },
      {
        "duration": 24,
        "start_time": "2023-01-10T16:57:29.312Z"
      },
      {
        "duration": 14,
        "start_time": "2023-01-10T16:57:29.352Z"
      },
      {
        "duration": 12,
        "start_time": "2023-01-10T16:57:29.368Z"
      },
      {
        "duration": 8,
        "start_time": "2023-01-10T16:57:29.381Z"
      },
      {
        "duration": 36,
        "start_time": "2023-01-10T17:00:36.855Z"
      },
      {
        "duration": 32,
        "start_time": "2023-01-10T17:01:02.758Z"
      },
      {
        "duration": 33,
        "start_time": "2023-01-10T17:01:07.638Z"
      },
      {
        "duration": 22,
        "start_time": "2023-01-10T17:06:40.174Z"
      },
      {
        "duration": 19,
        "start_time": "2023-01-10T17:06:58.637Z"
      },
      {
        "duration": 26,
        "start_time": "2023-01-10T17:07:14.516Z"
      },
      {
        "duration": 21,
        "start_time": "2023-01-10T17:07:22.076Z"
      },
      {
        "duration": 49,
        "start_time": "2023-01-10T17:17:51.503Z"
      },
      {
        "duration": 46,
        "start_time": "2023-01-10T18:10:07.874Z"
      },
      {
        "duration": 51,
        "start_time": "2023-01-10T18:10:21.745Z"
      },
      {
        "duration": 111,
        "start_time": "2023-01-10T18:10:43.635Z"
      },
      {
        "duration": 56,
        "start_time": "2023-01-10T18:10:49.522Z"
      },
      {
        "duration": 50,
        "start_time": "2023-01-10T18:11:24.399Z"
      },
      {
        "duration": 71,
        "start_time": "2023-01-10T18:13:12.520Z"
      },
      {
        "duration": 29,
        "start_time": "2023-01-10T18:16:56.243Z"
      },
      {
        "duration": 16,
        "start_time": "2023-01-10T18:41:11.889Z"
      },
      {
        "duration": 56,
        "start_time": "2023-01-10T18:51:26.394Z"
      },
      {
        "duration": 63,
        "start_time": "2023-01-10T18:51:39.492Z"
      },
      {
        "duration": 8,
        "start_time": "2023-01-10T18:52:05.850Z"
      },
      {
        "duration": 25,
        "start_time": "2023-01-10T18:53:27.536Z"
      },
      {
        "duration": 57,
        "start_time": "2023-01-10T18:55:14.655Z"
      },
      {
        "duration": 16,
        "start_time": "2023-01-10T18:55:57.932Z"
      },
      {
        "duration": 51,
        "start_time": "2023-01-10T18:56:04.855Z"
      },
      {
        "duration": 15,
        "start_time": "2023-01-10T18:56:21.063Z"
      },
      {
        "duration": 10,
        "start_time": "2023-01-10T18:56:49.667Z"
      },
      {
        "duration": 7,
        "start_time": "2023-01-10T18:56:54.350Z"
      },
      {
        "duration": 8,
        "start_time": "2023-01-10T18:57:06.219Z"
      },
      {
        "duration": 4,
        "start_time": "2023-01-10T19:12:26.580Z"
      },
      {
        "duration": 4,
        "start_time": "2023-01-10T19:12:38.499Z"
      },
      {
        "duration": 46,
        "start_time": "2023-01-11T09:59:26.459Z"
      },
      {
        "duration": 843,
        "start_time": "2023-01-11T09:59:56.404Z"
      },
      {
        "duration": 330,
        "start_time": "2023-01-11T09:59:57.249Z"
      },
      {
        "duration": 13,
        "start_time": "2023-01-11T09:59:57.581Z"
      },
      {
        "duration": 21,
        "start_time": "2023-01-11T09:59:57.597Z"
      },
      {
        "duration": 26,
        "start_time": "2023-01-11T09:59:57.624Z"
      },
      {
        "duration": 68,
        "start_time": "2023-01-11T09:59:57.652Z"
      },
      {
        "duration": 9,
        "start_time": "2023-01-11T09:59:57.723Z"
      },
      {
        "duration": 99,
        "start_time": "2023-01-11T09:59:57.733Z"
      },
      {
        "duration": 23,
        "start_time": "2023-01-11T09:59:57.833Z"
      },
      {
        "duration": 84,
        "start_time": "2023-01-11T09:59:57.858Z"
      },
      {
        "duration": 14,
        "start_time": "2023-01-11T09:59:57.944Z"
      },
      {
        "duration": 51,
        "start_time": "2023-01-11T09:59:57.960Z"
      },
      {
        "duration": 22,
        "start_time": "2023-01-11T09:59:58.013Z"
      },
      {
        "duration": 38,
        "start_time": "2023-01-11T09:59:58.037Z"
      },
      {
        "duration": 32,
        "start_time": "2023-01-11T09:59:58.077Z"
      },
      {
        "duration": 5,
        "start_time": "2023-01-11T09:59:58.110Z"
      },
      {
        "duration": 8,
        "start_time": "2023-01-11T09:59:58.117Z"
      },
      {
        "duration": 613,
        "start_time": "2023-01-11T09:59:58.127Z"
      },
      {
        "duration": 29,
        "start_time": "2023-01-11T09:59:58.742Z"
      },
      {
        "duration": 20,
        "start_time": "2023-01-11T09:59:58.773Z"
      },
      {
        "duration": 46,
        "start_time": "2023-01-11T09:59:58.795Z"
      },
      {
        "duration": 19,
        "start_time": "2023-01-11T09:59:58.843Z"
      },
      {
        "duration": 10,
        "start_time": "2023-01-11T09:59:58.864Z"
      },
      {
        "duration": 51,
        "start_time": "2023-01-11T09:59:58.875Z"
      },
      {
        "duration": 37,
        "start_time": "2023-01-11T09:59:58.927Z"
      },
      {
        "duration": 61,
        "start_time": "2023-01-11T09:59:58.965Z"
      },
      {
        "duration": 64,
        "start_time": "2023-01-11T09:59:59.028Z"
      },
      {
        "duration": 43,
        "start_time": "2023-01-11T09:59:59.095Z"
      },
      {
        "duration": 31,
        "start_time": "2023-01-11T09:59:59.141Z"
      },
      {
        "duration": 81,
        "start_time": "2023-01-11T09:59:59.174Z"
      },
      {
        "duration": 11,
        "start_time": "2023-01-11T09:59:59.257Z"
      },
      {
        "duration": 25,
        "start_time": "2023-01-11T09:59:59.270Z"
      },
      {
        "duration": 39,
        "start_time": "2023-01-11T09:59:59.297Z"
      },
      {
        "duration": 1123,
        "start_time": "2023-01-11T09:59:59.339Z"
      },
      {
        "duration": 7,
        "start_time": "2023-01-11T10:00:14.453Z"
      },
      {
        "duration": 46,
        "start_time": "2023-01-11T10:01:16.453Z"
      },
      {
        "duration": 820,
        "start_time": "2023-01-11T11:11:06.639Z"
      },
      {
        "duration": 827,
        "start_time": "2023-01-11T11:11:07.461Z"
      },
      {
        "duration": 12,
        "start_time": "2023-01-11T11:11:08.289Z"
      },
      {
        "duration": 49,
        "start_time": "2023-01-11T11:11:08.302Z"
      },
      {
        "duration": 12,
        "start_time": "2023-01-11T11:11:08.353Z"
      },
      {
        "duration": 87,
        "start_time": "2023-01-11T11:11:08.366Z"
      },
      {
        "duration": 3,
        "start_time": "2023-01-11T11:11:08.455Z"
      },
      {
        "duration": 96,
        "start_time": "2023-01-11T11:11:08.459Z"
      },
      {
        "duration": 21,
        "start_time": "2023-01-11T11:11:08.557Z"
      },
      {
        "duration": 83,
        "start_time": "2023-01-11T11:11:08.580Z"
      },
      {
        "duration": 21,
        "start_time": "2023-01-11T11:11:08.665Z"
      },
      {
        "duration": 55,
        "start_time": "2023-01-11T11:11:08.688Z"
      },
      {
        "duration": 27,
        "start_time": "2023-01-11T11:11:08.744Z"
      },
      {
        "duration": 19,
        "start_time": "2023-01-11T11:11:08.773Z"
      },
      {
        "duration": 40,
        "start_time": "2023-01-11T11:11:08.794Z"
      },
      {
        "duration": 20,
        "start_time": "2023-01-11T11:11:08.836Z"
      },
      {
        "duration": 39,
        "start_time": "2023-01-11T11:11:08.858Z"
      },
      {
        "duration": 521,
        "start_time": "2023-01-11T11:11:08.899Z"
      },
      {
        "duration": 36,
        "start_time": "2023-01-11T11:11:09.422Z"
      },
      {
        "duration": 17,
        "start_time": "2023-01-11T11:11:09.460Z"
      },
      {
        "duration": 42,
        "start_time": "2023-01-11T11:11:09.478Z"
      },
      {
        "duration": 32,
        "start_time": "2023-01-11T11:11:09.521Z"
      },
      {
        "duration": 25,
        "start_time": "2023-01-11T11:11:09.555Z"
      },
      {
        "duration": 56,
        "start_time": "2023-01-11T11:11:09.582Z"
      },
      {
        "duration": 20,
        "start_time": "2023-01-11T11:11:09.640Z"
      },
      {
        "duration": 76,
        "start_time": "2023-01-11T11:11:09.661Z"
      },
      {
        "duration": 55,
        "start_time": "2023-01-11T11:11:09.739Z"
      },
      {
        "duration": 19,
        "start_time": "2023-01-11T11:11:09.796Z"
      },
      {
        "duration": 30,
        "start_time": "2023-01-11T11:11:09.817Z"
      },
      {
        "duration": 64,
        "start_time": "2023-01-11T11:11:09.849Z"
      },
      {
        "duration": 9,
        "start_time": "2023-01-11T11:11:09.914Z"
      },
      {
        "duration": 29,
        "start_time": "2023-01-11T11:11:09.924Z"
      },
      {
        "duration": 44,
        "start_time": "2023-01-11T11:11:09.955Z"
      },
      {
        "duration": 70,
        "start_time": "2023-01-11T11:11:10.001Z"
      },
      {
        "duration": 0,
        "start_time": "2023-01-11T11:11:10.073Z"
      },
      {
        "duration": 14,
        "start_time": "2023-01-11T11:11:15.137Z"
      },
      {
        "duration": 9,
        "start_time": "2023-01-11T11:11:37.271Z"
      },
      {
        "duration": 8,
        "start_time": "2023-01-11T11:11:38.047Z"
      },
      {
        "duration": 7,
        "start_time": "2023-01-11T11:13:56.557Z"
      },
      {
        "duration": 8,
        "start_time": "2023-01-11T11:14:16.998Z"
      },
      {
        "duration": 8,
        "start_time": "2023-01-11T11:14:30.277Z"
      },
      {
        "duration": 8,
        "start_time": "2023-01-11T11:14:41.038Z"
      },
      {
        "duration": 8,
        "start_time": "2023-01-11T11:15:00.452Z"
      },
      {
        "duration": 8,
        "start_time": "2023-01-11T11:18:11.941Z"
      },
      {
        "duration": 8,
        "start_time": "2023-01-11T11:18:28.666Z"
      },
      {
        "duration": 8,
        "start_time": "2023-01-11T11:18:45.107Z"
      },
      {
        "duration": 8,
        "start_time": "2023-01-11T11:18:49.915Z"
      },
      {
        "duration": 30,
        "start_time": "2023-01-11T11:20:12.898Z"
      },
      {
        "duration": 34,
        "start_time": "2023-01-11T11:20:16.898Z"
      },
      {
        "duration": 28,
        "start_time": "2023-01-11T11:20:20.081Z"
      },
      {
        "duration": 12,
        "start_time": "2023-01-11T11:21:58.369Z"
      },
      {
        "duration": 11,
        "start_time": "2023-01-11T11:25:26.790Z"
      },
      {
        "duration": 5,
        "start_time": "2023-01-11T11:25:44.662Z"
      },
      {
        "duration": 6,
        "start_time": "2023-01-11T11:25:48.738Z"
      },
      {
        "duration": 7,
        "start_time": "2023-01-11T11:26:24.365Z"
      },
      {
        "duration": 9,
        "start_time": "2023-01-11T11:26:32.700Z"
      },
      {
        "duration": 17,
        "start_time": "2023-01-11T11:29:46.549Z"
      },
      {
        "duration": 16,
        "start_time": "2023-01-11T11:29:55.642Z"
      },
      {
        "duration": 29,
        "start_time": "2023-01-11T11:34:13.496Z"
      },
      {
        "duration": 32,
        "start_time": "2023-01-11T11:34:34.239Z"
      },
      {
        "duration": 23,
        "start_time": "2023-01-11T11:34:53.296Z"
      },
      {
        "duration": 13,
        "start_time": "2023-01-11T11:35:27.943Z"
      },
      {
        "duration": 14,
        "start_time": "2023-01-11T11:35:44.062Z"
      },
      {
        "duration": 13,
        "start_time": "2023-01-11T11:35:53.678Z"
      },
      {
        "duration": 31,
        "start_time": "2023-01-11T11:36:16.807Z"
      },
      {
        "duration": 27,
        "start_time": "2023-01-11T11:36:22.438Z"
      },
      {
        "duration": 30,
        "start_time": "2023-01-11T11:36:49.094Z"
      },
      {
        "duration": 3,
        "start_time": "2023-01-11T11:37:00.886Z"
      },
      {
        "duration": 5,
        "start_time": "2023-01-11T11:37:12.523Z"
      },
      {
        "duration": 4,
        "start_time": "2023-01-11T11:37:29.566Z"
      },
      {
        "duration": 4,
        "start_time": "2023-01-11T11:38:18.045Z"
      },
      {
        "duration": 5,
        "start_time": "2023-01-11T11:38:42.484Z"
      },
      {
        "duration": 4,
        "start_time": "2023-01-11T11:41:21.735Z"
      },
      {
        "duration": 3,
        "start_time": "2023-01-11T11:41:31.259Z"
      },
      {
        "duration": 9,
        "start_time": "2023-01-11T11:55:25.149Z"
      },
      {
        "duration": 21,
        "start_time": "2023-01-11T11:55:42.348Z"
      },
      {
        "duration": 22,
        "start_time": "2023-01-11T11:57:14.899Z"
      },
      {
        "duration": 20,
        "start_time": "2023-01-11T11:57:19.811Z"
      },
      {
        "duration": 22,
        "start_time": "2023-01-11T12:00:18.258Z"
      },
      {
        "duration": 14,
        "start_time": "2023-01-11T12:45:26.523Z"
      },
      {
        "duration": 82,
        "start_time": "2023-01-11T12:46:19.348Z"
      },
      {
        "duration": 89,
        "start_time": "2023-01-11T12:47:14.518Z"
      },
      {
        "duration": 76,
        "start_time": "2023-01-11T12:47:30.023Z"
      },
      {
        "duration": 79,
        "start_time": "2023-01-11T12:47:36.498Z"
      },
      {
        "duration": 72,
        "start_time": "2023-01-11T12:48:02.137Z"
      },
      {
        "duration": 74,
        "start_time": "2023-01-11T12:48:32.177Z"
      },
      {
        "duration": 85,
        "start_time": "2023-01-11T12:48:45.122Z"
      },
      {
        "duration": 76,
        "start_time": "2023-01-11T12:48:51.625Z"
      },
      {
        "duration": 75,
        "start_time": "2023-01-11T12:49:26.530Z"
      },
      {
        "duration": 948,
        "start_time": "2023-01-11T12:57:32.107Z"
      },
      {
        "duration": 1309,
        "start_time": "2023-01-11T12:58:06.179Z"
      },
      {
        "duration": 35,
        "start_time": "2023-01-11T12:59:24.722Z"
      },
      {
        "duration": 76,
        "start_time": "2023-01-11T12:59:43.417Z"
      },
      {
        "duration": 1224,
        "start_time": "2023-01-11T13:00:48.161Z"
      },
      {
        "duration": 1201,
        "start_time": "2023-01-11T13:01:19.465Z"
      },
      {
        "duration": 71,
        "start_time": "2023-01-11T13:01:31.282Z"
      },
      {
        "duration": 1233,
        "start_time": "2023-01-11T13:01:50.736Z"
      },
      {
        "duration": 74,
        "start_time": "2023-01-11T13:02:00.232Z"
      },
      {
        "duration": 71,
        "start_time": "2023-01-11T13:02:11.599Z"
      },
      {
        "duration": 80,
        "start_time": "2023-01-11T13:03:18.391Z"
      },
      {
        "duration": 75,
        "start_time": "2023-01-11T13:03:30.831Z"
      },
      {
        "duration": 20,
        "start_time": "2023-01-11T13:07:08.949Z"
      },
      {
        "duration": 19,
        "start_time": "2023-01-11T13:07:24.934Z"
      },
      {
        "duration": 17,
        "start_time": "2023-01-11T13:07:36.396Z"
      },
      {
        "duration": 55,
        "start_time": "2023-01-11T13:41:17.127Z"
      },
      {
        "duration": 49,
        "start_time": "2023-01-11T13:41:23.517Z"
      },
      {
        "duration": 59,
        "start_time": "2023-01-11T13:41:43.648Z"
      },
      {
        "duration": 12,
        "start_time": "2023-01-11T13:43:53.997Z"
      },
      {
        "duration": 72,
        "start_time": "2023-01-11T13:44:19.235Z"
      },
      {
        "duration": 77,
        "start_time": "2023-01-11T13:44:22.452Z"
      },
      {
        "duration": 593,
        "start_time": "2023-01-11T13:44:46.716Z"
      },
      {
        "duration": 148,
        "start_time": "2023-01-11T13:44:47.311Z"
      },
      {
        "duration": 10,
        "start_time": "2023-01-11T13:44:47.461Z"
      },
      {
        "duration": 19,
        "start_time": "2023-01-11T13:44:47.473Z"
      },
      {
        "duration": 13,
        "start_time": "2023-01-11T13:44:47.494Z"
      },
      {
        "duration": 81,
        "start_time": "2023-01-11T13:44:47.509Z"
      },
      {
        "duration": 4,
        "start_time": "2023-01-11T13:44:47.592Z"
      },
      {
        "duration": 88,
        "start_time": "2023-01-11T13:44:47.597Z"
      },
      {
        "duration": 22,
        "start_time": "2023-01-11T13:44:47.687Z"
      },
      {
        "duration": 74,
        "start_time": "2023-01-11T13:44:47.712Z"
      },
      {
        "duration": 9,
        "start_time": "2023-01-11T13:44:47.788Z"
      },
      {
        "duration": 32,
        "start_time": "2023-01-11T13:44:47.799Z"
      },
      {
        "duration": 30,
        "start_time": "2023-01-11T13:44:47.833Z"
      },
      {
        "duration": 10,
        "start_time": "2023-01-11T13:44:47.865Z"
      },
      {
        "duration": 14,
        "start_time": "2023-01-11T13:44:47.877Z"
      },
      {
        "duration": 5,
        "start_time": "2023-01-11T13:44:47.893Z"
      },
      {
        "duration": 5,
        "start_time": "2023-01-11T13:44:47.899Z"
      },
      {
        "duration": 556,
        "start_time": "2023-01-11T13:44:47.906Z"
      },
      {
        "duration": 30,
        "start_time": "2023-01-11T13:44:48.464Z"
      },
      {
        "duration": 19,
        "start_time": "2023-01-11T13:44:48.496Z"
      },
      {
        "duration": 37,
        "start_time": "2023-01-11T13:44:48.516Z"
      },
      {
        "duration": 13,
        "start_time": "2023-01-11T13:44:48.555Z"
      },
      {
        "duration": 10,
        "start_time": "2023-01-11T13:44:48.570Z"
      },
      {
        "duration": 40,
        "start_time": "2023-01-11T13:44:48.582Z"
      },
      {
        "duration": 37,
        "start_time": "2023-01-11T13:44:48.623Z"
      },
      {
        "duration": 53,
        "start_time": "2023-01-11T13:44:48.662Z"
      },
      {
        "duration": 70,
        "start_time": "2023-01-11T13:44:48.716Z"
      },
      {
        "duration": 20,
        "start_time": "2023-01-11T13:44:48.789Z"
      },
      {
        "duration": 26,
        "start_time": "2023-01-11T13:44:48.810Z"
      },
      {
        "duration": 56,
        "start_time": "2023-01-11T13:44:48.838Z"
      },
      {
        "duration": 8,
        "start_time": "2023-01-11T13:44:48.896Z"
      },
      {
        "duration": 18,
        "start_time": "2023-01-11T13:44:48.906Z"
      },
      {
        "duration": 44,
        "start_time": "2023-01-11T13:44:48.926Z"
      },
      {
        "duration": 23,
        "start_time": "2023-01-11T13:44:48.971Z"
      },
      {
        "duration": 21,
        "start_time": "2023-01-11T13:44:48.997Z"
      },
      {
        "duration": 100,
        "start_time": "2023-01-11T13:44:49.020Z"
      },
      {
        "duration": 79,
        "start_time": "2023-01-11T13:44:49.122Z"
      },
      {
        "duration": 72,
        "start_time": "2023-01-11T13:45:20.818Z"
      },
      {
        "duration": 40,
        "start_time": "2023-01-11T13:45:32.682Z"
      },
      {
        "duration": 39,
        "start_time": "2023-01-11T14:10:22.073Z"
      },
      {
        "duration": 1250,
        "start_time": "2023-01-11T19:37:45.472Z"
      },
      {
        "duration": 83,
        "start_time": "2023-01-11T19:38:24.617Z"
      },
      {
        "duration": 1093,
        "start_time": "2023-01-11T19:38:39.520Z"
      },
      {
        "duration": 38,
        "start_time": "2023-01-11T19:38:44.718Z"
      },
      {
        "duration": 1081,
        "start_time": "2023-01-11T19:41:32.036Z"
      },
      {
        "duration": 45,
        "start_time": "2023-01-11T19:42:53.716Z"
      },
      {
        "duration": 96,
        "start_time": "2023-01-11T19:43:00.583Z"
      },
      {
        "duration": 4,
        "start_time": "2023-01-11T19:43:13.525Z"
      },
      {
        "duration": 8,
        "start_time": "2023-01-11T19:43:16.652Z"
      },
      {
        "duration": 72,
        "start_time": "2023-01-11T19:45:10.650Z"
      },
      {
        "duration": 583,
        "start_time": "2023-01-11T19:46:06.815Z"
      },
      {
        "duration": 146,
        "start_time": "2023-01-11T19:46:07.400Z"
      },
      {
        "duration": 11,
        "start_time": "2023-01-11T19:46:07.547Z"
      },
      {
        "duration": 17,
        "start_time": "2023-01-11T19:46:07.560Z"
      },
      {
        "duration": 13,
        "start_time": "2023-01-11T19:46:07.579Z"
      },
      {
        "duration": 81,
        "start_time": "2023-01-11T19:46:07.593Z"
      },
      {
        "duration": 3,
        "start_time": "2023-01-11T19:46:07.675Z"
      },
      {
        "duration": 84,
        "start_time": "2023-01-11T19:46:07.680Z"
      },
      {
        "duration": 21,
        "start_time": "2023-01-11T19:46:07.766Z"
      },
      {
        "duration": 75,
        "start_time": "2023-01-11T19:46:07.790Z"
      },
      {
        "duration": 9,
        "start_time": "2023-01-11T19:46:07.867Z"
      },
      {
        "duration": 30,
        "start_time": "2023-01-11T19:46:07.878Z"
      },
      {
        "duration": 10,
        "start_time": "2023-01-11T19:46:07.910Z"
      },
      {
        "duration": 37,
        "start_time": "2023-01-11T19:46:07.922Z"
      },
      {
        "duration": 18,
        "start_time": "2023-01-11T19:46:07.961Z"
      },
      {
        "duration": 16,
        "start_time": "2023-01-11T19:46:07.981Z"
      },
      {
        "duration": 9,
        "start_time": "2023-01-11T19:46:07.999Z"
      },
      {
        "duration": 501,
        "start_time": "2023-01-11T19:46:08.010Z"
      },
      {
        "duration": 39,
        "start_time": "2023-01-11T19:46:08.513Z"
      },
      {
        "duration": 18,
        "start_time": "2023-01-11T19:46:08.554Z"
      },
      {
        "duration": 18,
        "start_time": "2023-01-11T19:46:08.573Z"
      },
      {
        "duration": 20,
        "start_time": "2023-01-11T19:46:08.592Z"
      },
      {
        "duration": 11,
        "start_time": "2023-01-11T19:46:08.614Z"
      },
      {
        "duration": 34,
        "start_time": "2023-01-11T19:46:08.653Z"
      },
      {
        "duration": 19,
        "start_time": "2023-01-11T19:46:08.689Z"
      },
      {
        "duration": 71,
        "start_time": "2023-01-11T19:46:08.709Z"
      },
      {
        "duration": 55,
        "start_time": "2023-01-11T19:46:08.781Z"
      },
      {
        "duration": 29,
        "start_time": "2023-01-11T19:46:08.839Z"
      },
      {
        "duration": 24,
        "start_time": "2023-01-11T19:46:08.870Z"
      },
      {
        "duration": 62,
        "start_time": "2023-01-11T19:46:08.895Z"
      },
      {
        "duration": 8,
        "start_time": "2023-01-11T19:46:08.959Z"
      },
      {
        "duration": 16,
        "start_time": "2023-01-11T19:46:08.969Z"
      },
      {
        "duration": 60,
        "start_time": "2023-01-11T19:46:08.987Z"
      },
      {
        "duration": 40,
        "start_time": "2023-01-11T19:46:09.049Z"
      },
      {
        "duration": 117,
        "start_time": "2023-01-11T19:46:09.091Z"
      },
      {
        "duration": 0,
        "start_time": "2023-01-11T19:46:09.210Z"
      },
      {
        "duration": 0,
        "start_time": "2023-01-11T19:46:09.211Z"
      },
      {
        "duration": 0,
        "start_time": "2023-01-11T19:46:09.211Z"
      },
      {
        "duration": 0,
        "start_time": "2023-01-11T19:46:09.212Z"
      },
      {
        "duration": 0,
        "start_time": "2023-01-11T19:46:09.213Z"
      },
      {
        "duration": 73,
        "start_time": "2023-01-11T19:48:51.593Z"
      },
      {
        "duration": 66,
        "start_time": "2023-01-11T19:48:58.032Z"
      },
      {
        "duration": 28,
        "start_time": "2023-01-11T19:50:41.050Z"
      },
      {
        "duration": 600,
        "start_time": "2023-01-11T19:51:03.794Z"
      },
      {
        "duration": 145,
        "start_time": "2023-01-11T19:51:04.396Z"
      },
      {
        "duration": 16,
        "start_time": "2023-01-11T19:51:04.543Z"
      },
      {
        "duration": 21,
        "start_time": "2023-01-11T19:51:04.561Z"
      },
      {
        "duration": 13,
        "start_time": "2023-01-11T19:51:04.584Z"
      },
      {
        "duration": 86,
        "start_time": "2023-01-11T19:51:04.598Z"
      },
      {
        "duration": 3,
        "start_time": "2023-01-11T19:51:04.686Z"
      },
      {
        "duration": 89,
        "start_time": "2023-01-11T19:51:04.691Z"
      },
      {
        "duration": 21,
        "start_time": "2023-01-11T19:51:04.781Z"
      },
      {
        "duration": 77,
        "start_time": "2023-01-11T19:51:04.804Z"
      },
      {
        "duration": 9,
        "start_time": "2023-01-11T19:51:04.882Z"
      },
      {
        "duration": 36,
        "start_time": "2023-01-11T19:51:04.893Z"
      },
      {
        "duration": 21,
        "start_time": "2023-01-11T19:51:04.931Z"
      },
      {
        "duration": 8,
        "start_time": "2023-01-11T19:51:04.954Z"
      },
      {
        "duration": 14,
        "start_time": "2023-01-11T19:51:04.963Z"
      },
      {
        "duration": 5,
        "start_time": "2023-01-11T19:51:04.978Z"
      },
      {
        "duration": 4,
        "start_time": "2023-01-11T19:51:04.985Z"
      },
      {
        "duration": 529,
        "start_time": "2023-01-11T19:51:04.990Z"
      },
      {
        "duration": 36,
        "start_time": "2023-01-11T19:51:05.521Z"
      },
      {
        "duration": 18,
        "start_time": "2023-01-11T19:51:05.559Z"
      },
      {
        "duration": 18,
        "start_time": "2023-01-11T19:51:05.579Z"
      },
      {
        "duration": 13,
        "start_time": "2023-01-11T19:51:05.599Z"
      },
      {
        "duration": 12,
        "start_time": "2023-01-11T19:51:05.614Z"
      },
      {
        "duration": 32,
        "start_time": "2023-01-11T19:51:05.653Z"
      },
      {
        "duration": 19,
        "start_time": "2023-01-11T19:51:05.686Z"
      },
      {
        "duration": 67,
        "start_time": "2023-01-11T19:51:05.706Z"
      },
      {
        "duration": 54,
        "start_time": "2023-01-11T19:51:05.775Z"
      },
      {
        "duration": 29,
        "start_time": "2023-01-11T19:51:05.832Z"
      },
      {
        "duration": 16,
        "start_time": "2023-01-11T19:51:05.863Z"
      },
      {
        "duration": 45,
        "start_time": "2023-01-11T19:51:05.881Z"
      },
      {
        "duration": 27,
        "start_time": "2023-01-11T19:51:05.928Z"
      },
      {
        "duration": 8,
        "start_time": "2023-01-11T19:51:05.956Z"
      },
      {
        "duration": 38,
        "start_time": "2023-01-11T19:51:05.965Z"
      },
      {
        "duration": 59,
        "start_time": "2023-01-11T19:51:06.005Z"
      },
      {
        "duration": 92,
        "start_time": "2023-01-11T19:51:06.065Z"
      },
      {
        "duration": 0,
        "start_time": "2023-01-11T19:51:06.158Z"
      },
      {
        "duration": 0,
        "start_time": "2023-01-11T19:51:06.159Z"
      },
      {
        "duration": 0,
        "start_time": "2023-01-11T19:51:06.160Z"
      },
      {
        "duration": 0,
        "start_time": "2023-01-11T19:51:06.162Z"
      },
      {
        "duration": 0,
        "start_time": "2023-01-11T19:51:06.163Z"
      },
      {
        "duration": 24,
        "start_time": "2023-01-11T19:52:04.679Z"
      },
      {
        "duration": 13,
        "start_time": "2023-01-11T19:52:30.878Z"
      },
      {
        "duration": 68,
        "start_time": "2023-01-11T19:52:55.230Z"
      },
      {
        "duration": 9,
        "start_time": "2023-01-11T19:56:48.058Z"
      },
      {
        "duration": 45,
        "start_time": "2023-01-11T19:58:52.768Z"
      },
      {
        "duration": 39,
        "start_time": "2023-01-11T19:59:02.913Z"
      },
      {
        "duration": 57,
        "start_time": "2023-01-11T19:59:12.408Z"
      },
      {
        "duration": 49,
        "start_time": "2023-01-11T20:01:05.200Z"
      },
      {
        "duration": 23,
        "start_time": "2023-01-11T20:01:19.391Z"
      },
      {
        "duration": 23,
        "start_time": "2023-01-11T20:01:27.487Z"
      },
      {
        "duration": 38,
        "start_time": "2023-01-11T20:02:10.105Z"
      },
      {
        "duration": 25,
        "start_time": "2023-01-11T20:02:42.647Z"
      },
      {
        "duration": 31,
        "start_time": "2023-01-11T20:02:51.511Z"
      },
      {
        "duration": 84,
        "start_time": "2023-01-11T20:04:02.629Z"
      },
      {
        "duration": 1109,
        "start_time": "2023-01-11T20:04:10.709Z"
      },
      {
        "duration": 9,
        "start_time": "2023-01-11T20:04:43.125Z"
      },
      {
        "duration": 85,
        "start_time": "2023-01-11T20:05:22.846Z"
      },
      {
        "duration": 37,
        "start_time": "2023-01-11T20:05:43.420Z"
      },
      {
        "duration": 44,
        "start_time": "2023-01-11T20:06:10.524Z"
      },
      {
        "duration": 50,
        "start_time": "2023-01-11T20:07:05.372Z"
      },
      {
        "duration": 60,
        "start_time": "2023-01-11T20:07:32.955Z"
      },
      {
        "duration": 46,
        "start_time": "2023-01-11T20:08:04.250Z"
      },
      {
        "duration": 46,
        "start_time": "2023-01-11T20:08:14.029Z"
      },
      {
        "duration": 92,
        "start_time": "2023-01-11T20:15:06.439Z"
      },
      {
        "duration": 89,
        "start_time": "2023-01-11T20:15:12.973Z"
      },
      {
        "duration": 89,
        "start_time": "2023-01-11T20:15:26.627Z"
      },
      {
        "duration": 176,
        "start_time": "2023-01-11T20:16:07.486Z"
      },
      {
        "duration": 76,
        "start_time": "2023-01-11T20:16:21.685Z"
      },
      {
        "duration": 77,
        "start_time": "2023-01-11T20:19:36.780Z"
      },
      {
        "duration": 76,
        "start_time": "2023-01-11T20:19:56.435Z"
      },
      {
        "duration": 42,
        "start_time": "2023-01-11T20:24:52.273Z"
      },
      {
        "duration": 44,
        "start_time": "2023-01-11T20:24:55.648Z"
      },
      {
        "duration": 31,
        "start_time": "2023-01-11T20:24:56.992Z"
      },
      {
        "duration": 77,
        "start_time": "2023-01-11T20:25:01.488Z"
      },
      {
        "duration": 5,
        "start_time": "2023-01-11T20:25:59.608Z"
      },
      {
        "duration": 49,
        "start_time": "2023-01-11T20:26:41.263Z"
      },
      {
        "duration": 40,
        "start_time": "2023-01-11T20:26:46.615Z"
      },
      {
        "duration": 34,
        "start_time": "2023-01-11T20:26:49.015Z"
      },
      {
        "duration": 4,
        "start_time": "2023-01-11T20:28:24.031Z"
      },
      {
        "duration": 8,
        "start_time": "2023-01-11T20:28:29.390Z"
      },
      {
        "duration": 11,
        "start_time": "2023-01-11T20:28:55.286Z"
      },
      {
        "duration": 11,
        "start_time": "2023-01-11T20:31:12.341Z"
      },
      {
        "duration": 11,
        "start_time": "2023-01-11T20:31:47.100Z"
      },
      {
        "duration": 12,
        "start_time": "2023-01-11T20:31:57.571Z"
      },
      {
        "duration": 1121,
        "start_time": "2023-01-11T21:48:42.536Z"
      },
      {
        "duration": 892,
        "start_time": "2023-01-11T21:48:43.659Z"
      },
      {
        "duration": 14,
        "start_time": "2023-01-11T21:48:44.553Z"
      },
      {
        "duration": 21,
        "start_time": "2023-01-11T21:48:44.568Z"
      },
      {
        "duration": 15,
        "start_time": "2023-01-11T21:48:44.592Z"
      },
      {
        "duration": 70,
        "start_time": "2023-01-11T21:48:44.622Z"
      },
      {
        "duration": 3,
        "start_time": "2023-01-11T21:48:44.694Z"
      },
      {
        "duration": 87,
        "start_time": "2023-01-11T21:48:44.698Z"
      },
      {
        "duration": 38,
        "start_time": "2023-01-11T21:48:44.786Z"
      },
      {
        "duration": 70,
        "start_time": "2023-01-11T21:48:44.826Z"
      },
      {
        "duration": 30,
        "start_time": "2023-01-11T21:48:44.897Z"
      },
      {
        "duration": 48,
        "start_time": "2023-01-11T21:48:44.928Z"
      },
      {
        "duration": 12,
        "start_time": "2023-01-11T21:48:44.977Z"
      },
      {
        "duration": 9,
        "start_time": "2023-01-11T21:48:44.992Z"
      },
      {
        "duration": 46,
        "start_time": "2023-01-11T21:48:45.003Z"
      },
      {
        "duration": 5,
        "start_time": "2023-01-11T21:48:45.051Z"
      },
      {
        "duration": 6,
        "start_time": "2023-01-11T21:48:45.057Z"
      },
      {
        "duration": 542,
        "start_time": "2023-01-11T21:48:45.065Z"
      },
      {
        "duration": 57,
        "start_time": "2023-01-11T21:48:45.609Z"
      },
      {
        "duration": 19,
        "start_time": "2023-01-11T21:48:45.667Z"
      },
      {
        "duration": 20,
        "start_time": "2023-01-11T21:48:45.687Z"
      },
      {
        "duration": 21,
        "start_time": "2023-01-11T21:48:45.709Z"
      },
      {
        "duration": 14,
        "start_time": "2023-01-11T21:48:45.731Z"
      },
      {
        "duration": 34,
        "start_time": "2023-01-11T21:48:45.746Z"
      },
      {
        "duration": 42,
        "start_time": "2023-01-11T21:48:45.781Z"
      },
      {
        "duration": 70,
        "start_time": "2023-01-11T21:48:45.824Z"
      },
      {
        "duration": 78,
        "start_time": "2023-01-11T21:48:45.897Z"
      },
      {
        "duration": 20,
        "start_time": "2023-01-11T21:48:45.977Z"
      },
      {
        "duration": 34,
        "start_time": "2023-01-11T21:48:45.998Z"
      },
      {
        "duration": 45,
        "start_time": "2023-01-11T21:48:46.034Z"
      },
      {
        "duration": 9,
        "start_time": "2023-01-11T21:48:46.080Z"
      },
      {
        "duration": 6,
        "start_time": "2023-01-11T21:48:46.090Z"
      },
      {
        "duration": 72,
        "start_time": "2023-01-11T21:48:46.098Z"
      },
      {
        "duration": 36,
        "start_time": "2023-01-11T21:48:46.172Z"
      },
      {
        "duration": 65,
        "start_time": "2023-01-11T21:48:46.210Z"
      },
      {
        "duration": 58,
        "start_time": "2023-01-11T21:48:46.277Z"
      },
      {
        "duration": 78,
        "start_time": "2023-01-11T21:48:46.338Z"
      },
      {
        "duration": 24,
        "start_time": "2023-01-11T21:48:46.417Z"
      },
      {
        "duration": 115,
        "start_time": "2023-01-11T21:48:46.442Z"
      },
      {
        "duration": 5,
        "start_time": "2023-01-11T21:50:44.786Z"
      },
      {
        "duration": 4,
        "start_time": "2023-01-11T21:50:57.113Z"
      },
      {
        "duration": 5,
        "start_time": "2023-01-11T21:50:58.436Z"
      },
      {
        "duration": 7,
        "start_time": "2023-01-11T21:51:08.153Z"
      },
      {
        "duration": 8,
        "start_time": "2023-01-11T21:52:08.842Z"
      },
      {
        "duration": 14,
        "start_time": "2023-01-11T21:53:59.871Z"
      },
      {
        "duration": 4,
        "start_time": "2023-01-11T21:57:42.964Z"
      },
      {
        "duration": 8,
        "start_time": "2023-01-11T21:57:48.148Z"
      },
      {
        "duration": 1161,
        "start_time": "2023-01-11T22:00:26.115Z"
      },
      {
        "duration": 155,
        "start_time": "2023-01-11T22:00:27.278Z"
      },
      {
        "duration": 13,
        "start_time": "2023-01-11T22:00:27.434Z"
      },
      {
        "duration": 25,
        "start_time": "2023-01-11T22:00:27.448Z"
      },
      {
        "duration": 13,
        "start_time": "2023-01-11T22:00:27.475Z"
      },
      {
        "duration": 95,
        "start_time": "2023-01-11T22:00:27.490Z"
      },
      {
        "duration": 3,
        "start_time": "2023-01-11T22:00:27.586Z"
      },
      {
        "duration": 86,
        "start_time": "2023-01-11T22:00:27.590Z"
      },
      {
        "duration": 22,
        "start_time": "2023-01-11T22:00:27.678Z"
      },
      {
        "duration": 83,
        "start_time": "2023-01-11T22:00:27.703Z"
      },
      {
        "duration": 9,
        "start_time": "2023-01-11T22:00:27.788Z"
      },
      {
        "duration": 48,
        "start_time": "2023-01-11T22:00:27.798Z"
      },
      {
        "duration": 11,
        "start_time": "2023-01-11T22:00:27.848Z"
      },
      {
        "duration": 22,
        "start_time": "2023-01-11T22:00:27.861Z"
      },
      {
        "duration": 20,
        "start_time": "2023-01-11T22:00:27.884Z"
      },
      {
        "duration": 22,
        "start_time": "2023-01-11T22:00:27.905Z"
      },
      {
        "duration": 41,
        "start_time": "2023-01-11T22:00:27.928Z"
      },
      {
        "duration": 604,
        "start_time": "2023-01-11T22:00:27.970Z"
      },
      {
        "duration": 57,
        "start_time": "2023-01-11T22:00:28.576Z"
      },
      {
        "duration": 31,
        "start_time": "2023-01-11T22:00:28.636Z"
      },
      {
        "duration": 40,
        "start_time": "2023-01-11T22:00:28.669Z"
      },
      {
        "duration": 67,
        "start_time": "2023-01-11T22:00:28.711Z"
      },
      {
        "duration": 57,
        "start_time": "2023-01-11T22:00:28.780Z"
      },
      {
        "duration": 50,
        "start_time": "2023-01-11T22:00:28.839Z"
      },
      {
        "duration": 54,
        "start_time": "2023-01-11T22:00:28.890Z"
      },
      {
        "duration": 74,
        "start_time": "2023-01-11T22:00:28.945Z"
      },
      {
        "duration": 84,
        "start_time": "2023-01-11T22:00:29.020Z"
      },
      {
        "duration": 27,
        "start_time": "2023-01-11T22:00:29.107Z"
      },
      {
        "duration": 77,
        "start_time": "2023-01-11T22:00:29.138Z"
      },
      {
        "duration": 56,
        "start_time": "2023-01-11T22:00:29.217Z"
      },
      {
        "duration": 10,
        "start_time": "2023-01-11T22:00:29.275Z"
      },
      {
        "duration": 67,
        "start_time": "2023-01-11T22:00:29.286Z"
      },
      {
        "duration": 57,
        "start_time": "2023-01-11T22:00:29.354Z"
      },
      {
        "duration": 68,
        "start_time": "2023-01-11T22:00:29.413Z"
      },
      {
        "duration": 69,
        "start_time": "2023-01-11T22:00:29.483Z"
      },
      {
        "duration": 28,
        "start_time": "2023-01-11T22:00:29.554Z"
      },
      {
        "duration": 101,
        "start_time": "2023-01-11T22:00:29.583Z"
      },
      {
        "duration": 11,
        "start_time": "2023-01-11T22:00:29.685Z"
      },
      {
        "duration": 62,
        "start_time": "2023-01-11T22:00:29.698Z"
      },
      {
        "duration": 191,
        "start_time": "2023-01-11T22:00:29.761Z"
      },
      {
        "duration": 8,
        "start_time": "2023-01-11T22:03:12.009Z"
      },
      {
        "duration": 8,
        "start_time": "2023-01-11T22:03:22.036Z"
      },
      {
        "duration": 9,
        "start_time": "2023-01-11T22:03:29.936Z"
      },
      {
        "duration": 8,
        "start_time": "2023-01-11T22:03:51.289Z"
      },
      {
        "duration": 24,
        "start_time": "2023-01-11T22:03:58.320Z"
      },
      {
        "duration": 7,
        "start_time": "2023-01-11T22:04:08.145Z"
      },
      {
        "duration": 8,
        "start_time": "2023-01-11T22:04:32.833Z"
      },
      {
        "duration": 16,
        "start_time": "2023-01-11T22:04:42.537Z"
      },
      {
        "duration": 9,
        "start_time": "2023-01-11T22:05:51.664Z"
      },
      {
        "duration": 8,
        "start_time": "2023-01-11T22:05:57.183Z"
      },
      {
        "duration": 8,
        "start_time": "2023-01-11T22:06:18.703Z"
      },
      {
        "duration": 17,
        "start_time": "2023-01-11T22:06:23.262Z"
      },
      {
        "duration": 83,
        "start_time": "2023-01-11T22:12:48.676Z"
      },
      {
        "duration": 12,
        "start_time": "2023-01-11T22:13:01.299Z"
      },
      {
        "duration": 5,
        "start_time": "2023-01-11T22:14:22.835Z"
      },
      {
        "duration": 4,
        "start_time": "2023-01-11T22:14:23.737Z"
      },
      {
        "duration": 4,
        "start_time": "2023-01-11T22:16:46.448Z"
      },
      {
        "duration": 8,
        "start_time": "2023-01-11T22:16:53.207Z"
      },
      {
        "duration": 5,
        "start_time": "2023-01-11T22:17:09.448Z"
      },
      {
        "duration": 5,
        "start_time": "2023-01-11T22:17:41.575Z"
      },
      {
        "duration": 5,
        "start_time": "2023-01-11T22:18:10.671Z"
      },
      {
        "duration": 5,
        "start_time": "2023-01-11T22:18:13.375Z"
      },
      {
        "duration": 83,
        "start_time": "2023-01-11T22:22:47.515Z"
      },
      {
        "duration": 89,
        "start_time": "2023-01-11T22:22:55.070Z"
      },
      {
        "duration": 83,
        "start_time": "2023-01-11T22:26:41.385Z"
      },
      {
        "duration": 13,
        "start_time": "2023-01-11T22:27:01.666Z"
      },
      {
        "duration": 5,
        "start_time": "2023-01-11T22:27:16.192Z"
      },
      {
        "duration": 12,
        "start_time": "2023-01-11T22:27:18.223Z"
      },
      {
        "duration": 5,
        "start_time": "2023-01-11T22:27:20.236Z"
      },
      {
        "duration": 5,
        "start_time": "2023-01-11T22:27:21.104Z"
      },
      {
        "duration": 5,
        "start_time": "2023-01-11T22:27:22.097Z"
      },
      {
        "duration": 85,
        "start_time": "2023-01-11T22:27:28.608Z"
      },
      {
        "duration": 1072,
        "start_time": "2023-01-11T22:29:28.676Z"
      },
      {
        "duration": 160,
        "start_time": "2023-01-11T22:29:29.750Z"
      },
      {
        "duration": 25,
        "start_time": "2023-01-11T22:29:29.914Z"
      },
      {
        "duration": 41,
        "start_time": "2023-01-11T22:29:29.940Z"
      },
      {
        "duration": 14,
        "start_time": "2023-01-11T22:29:29.983Z"
      },
      {
        "duration": 78,
        "start_time": "2023-01-11T22:29:29.998Z"
      },
      {
        "duration": 2,
        "start_time": "2023-01-11T22:29:30.078Z"
      },
      {
        "duration": 106,
        "start_time": "2023-01-11T22:29:30.081Z"
      },
      {
        "duration": 35,
        "start_time": "2023-01-11T22:29:30.190Z"
      },
      {
        "duration": 80,
        "start_time": "2023-01-11T22:29:30.227Z"
      },
      {
        "duration": 10,
        "start_time": "2023-01-11T22:29:30.309Z"
      },
      {
        "duration": 69,
        "start_time": "2023-01-11T22:29:30.323Z"
      },
      {
        "duration": 40,
        "start_time": "2023-01-11T22:29:30.394Z"
      },
      {
        "duration": 56,
        "start_time": "2023-01-11T22:29:30.436Z"
      },
      {
        "duration": 66,
        "start_time": "2023-01-11T22:29:30.494Z"
      },
      {
        "duration": 21,
        "start_time": "2023-01-11T22:29:30.561Z"
      },
      {
        "duration": 27,
        "start_time": "2023-01-11T22:29:30.584Z"
      },
      {
        "duration": 601,
        "start_time": "2023-01-11T22:29:30.613Z"
      },
      {
        "duration": 65,
        "start_time": "2023-01-11T22:29:31.216Z"
      },
      {
        "duration": 17,
        "start_time": "2023-01-11T22:29:31.282Z"
      },
      {
        "duration": 34,
        "start_time": "2023-01-11T22:29:31.301Z"
      },
      {
        "duration": 14,
        "start_time": "2023-01-11T22:29:31.337Z"
      },
      {
        "duration": 10,
        "start_time": "2023-01-11T22:29:31.352Z"
      },
      {
        "duration": 32,
        "start_time": "2023-01-11T22:29:31.364Z"
      },
      {
        "duration": 40,
        "start_time": "2023-01-11T22:29:31.397Z"
      },
      {
        "duration": 47,
        "start_time": "2023-01-11T22:29:31.439Z"
      },
      {
        "duration": 84,
        "start_time": "2023-01-11T22:29:31.489Z"
      },
      {
        "duration": 21,
        "start_time": "2023-01-11T22:29:31.575Z"
      },
      {
        "duration": 50,
        "start_time": "2023-01-11T22:29:31.598Z"
      },
      {
        "duration": 49,
        "start_time": "2023-01-11T22:29:31.649Z"
      },
      {
        "duration": 8,
        "start_time": "2023-01-11T22:29:31.700Z"
      },
      {
        "duration": 41,
        "start_time": "2023-01-11T22:29:31.710Z"
      },
      {
        "duration": 38,
        "start_time": "2023-01-11T22:29:31.752Z"
      },
      {
        "duration": 48,
        "start_time": "2023-01-11T22:29:31.791Z"
      },
      {
        "duration": 56,
        "start_time": "2023-01-11T22:29:31.840Z"
      },
      {
        "duration": 50,
        "start_time": "2023-01-11T22:29:31.898Z"
      },
      {
        "duration": 99,
        "start_time": "2023-01-11T22:29:31.949Z"
      },
      {
        "duration": 11,
        "start_time": "2023-01-11T22:29:32.049Z"
      },
      {
        "duration": 35,
        "start_time": "2023-01-11T22:29:32.061Z"
      },
      {
        "duration": 40,
        "start_time": "2023-01-11T22:29:32.098Z"
      },
      {
        "duration": 7,
        "start_time": "2023-01-11T22:29:32.139Z"
      },
      {
        "duration": 7,
        "start_time": "2023-01-11T22:29:32.147Z"
      },
      {
        "duration": 6,
        "start_time": "2023-01-11T22:29:32.155Z"
      },
      {
        "duration": 90,
        "start_time": "2023-01-11T22:29:32.163Z"
      },
      {
        "duration": 5,
        "start_time": "2023-01-11T22:29:32.255Z"
      },
      {
        "duration": 7,
        "start_time": "2023-01-11T22:29:32.262Z"
      },
      {
        "duration": 8,
        "start_time": "2023-01-11T22:29:32.271Z"
      },
      {
        "duration": 7,
        "start_time": "2023-01-11T22:29:32.281Z"
      },
      {
        "duration": 34,
        "start_time": "2023-01-11T22:29:32.289Z"
      },
      {
        "duration": 19,
        "start_time": "2023-01-11T22:29:32.325Z"
      },
      {
        "duration": 7,
        "start_time": "2023-01-11T22:29:32.345Z"
      },
      {
        "duration": 6,
        "start_time": "2023-01-11T22:29:32.354Z"
      },
      {
        "duration": 98,
        "start_time": "2023-01-11T22:33:24.037Z"
      },
      {
        "duration": 7,
        "start_time": "2023-01-11T22:33:34.670Z"
      },
      {
        "duration": 9,
        "start_time": "2023-01-11T22:35:19.788Z"
      },
      {
        "duration": 1287,
        "start_time": "2023-01-11T22:36:51.155Z"
      },
      {
        "duration": 41,
        "start_time": "2023-01-11T22:38:26.836Z"
      },
      {
        "duration": 50,
        "start_time": "2023-01-11T22:38:54.987Z"
      },
      {
        "duration": 13,
        "start_time": "2023-01-11T22:38:58.765Z"
      },
      {
        "duration": 36,
        "start_time": "2023-01-11T22:39:21.139Z"
      },
      {
        "duration": 44,
        "start_time": "2023-01-11T22:39:59.705Z"
      },
      {
        "duration": 39,
        "start_time": "2023-01-11T22:40:31.436Z"
      },
      {
        "duration": 38,
        "start_time": "2023-01-11T22:40:43.673Z"
      },
      {
        "duration": 49,
        "start_time": "2023-01-11T22:45:09.905Z"
      },
      {
        "duration": 48,
        "start_time": "2023-01-11T22:45:17.095Z"
      },
      {
        "duration": 43,
        "start_time": "2023-01-11T22:45:51.287Z"
      },
      {
        "duration": 40,
        "start_time": "2023-01-11T22:48:25.165Z"
      },
      {
        "duration": 1094,
        "start_time": "2023-01-11T22:48:35.721Z"
      },
      {
        "duration": 158,
        "start_time": "2023-01-11T22:48:36.817Z"
      },
      {
        "duration": 11,
        "start_time": "2023-01-11T22:48:36.977Z"
      },
      {
        "duration": 31,
        "start_time": "2023-01-11T22:48:36.991Z"
      },
      {
        "duration": 25,
        "start_time": "2023-01-11T22:48:37.024Z"
      },
      {
        "duration": 75,
        "start_time": "2023-01-11T22:48:37.050Z"
      },
      {
        "duration": 4,
        "start_time": "2023-01-11T22:48:37.134Z"
      },
      {
        "duration": 76,
        "start_time": "2023-01-11T22:48:37.140Z"
      },
      {
        "duration": 34,
        "start_time": "2023-01-11T22:48:37.217Z"
      },
      {
        "duration": 73,
        "start_time": "2023-01-11T22:48:37.253Z"
      },
      {
        "duration": 21,
        "start_time": "2023-01-11T22:48:37.328Z"
      },
      {
        "duration": 29,
        "start_time": "2023-01-11T22:48:37.351Z"
      },
      {
        "duration": 11,
        "start_time": "2023-01-11T22:48:37.381Z"
      },
      {
        "duration": 8,
        "start_time": "2023-01-11T22:48:37.393Z"
      },
      {
        "duration": 40,
        "start_time": "2023-01-11T22:48:37.402Z"
      },
      {
        "duration": 4,
        "start_time": "2023-01-11T22:48:37.444Z"
      },
      {
        "duration": 4,
        "start_time": "2023-01-11T22:48:37.450Z"
      },
      {
        "duration": 537,
        "start_time": "2023-01-11T22:48:37.456Z"
      },
      {
        "duration": 64,
        "start_time": "2023-01-11T22:48:37.995Z"
      },
      {
        "duration": 24,
        "start_time": "2023-01-11T22:48:38.061Z"
      },
      {
        "duration": 19,
        "start_time": "2023-01-11T22:48:38.086Z"
      },
      {
        "duration": 30,
        "start_time": "2023-01-11T22:48:38.107Z"
      },
      {
        "duration": 13,
        "start_time": "2023-01-11T22:48:38.139Z"
      },
      {
        "duration": 34,
        "start_time": "2023-01-11T22:48:38.153Z"
      },
      {
        "duration": 47,
        "start_time": "2023-01-11T22:48:38.189Z"
      },
      {
        "duration": 51,
        "start_time": "2023-01-11T22:48:38.238Z"
      },
      {
        "duration": 69,
        "start_time": "2023-01-11T22:48:38.290Z"
      },
      {
        "duration": 18,
        "start_time": "2023-01-11T22:48:38.363Z"
      },
      {
        "duration": 19,
        "start_time": "2023-01-11T22:48:38.383Z"
      },
      {
        "duration": 53,
        "start_time": "2023-01-11T22:48:38.426Z"
      },
      {
        "duration": 8,
        "start_time": "2023-01-11T22:48:38.480Z"
      },
      {
        "duration": 6,
        "start_time": "2023-01-11T22:48:38.490Z"
      },
      {
        "duration": 60,
        "start_time": "2023-01-11T22:48:38.498Z"
      },
      {
        "duration": 36,
        "start_time": "2023-01-11T22:48:38.560Z"
      },
      {
        "duration": 68,
        "start_time": "2023-01-11T22:48:38.597Z"
      },
      {
        "duration": 28,
        "start_time": "2023-01-11T22:48:38.667Z"
      },
      {
        "duration": 100,
        "start_time": "2023-01-11T22:48:38.697Z"
      },
      {
        "duration": 35,
        "start_time": "2023-01-11T22:48:38.799Z"
      },
      {
        "duration": 9,
        "start_time": "2023-01-11T22:48:38.836Z"
      },
      {
        "duration": 23,
        "start_time": "2023-01-11T22:48:38.846Z"
      },
      {
        "duration": 24,
        "start_time": "2023-01-11T22:48:38.871Z"
      },
      {
        "duration": 8,
        "start_time": "2023-01-11T22:48:38.897Z"
      },
      {
        "duration": 34,
        "start_time": "2023-01-11T22:48:38.906Z"
      },
      {
        "duration": 99,
        "start_time": "2023-01-11T22:48:38.942Z"
      },
      {
        "duration": 5,
        "start_time": "2023-01-11T22:48:39.043Z"
      },
      {
        "duration": 21,
        "start_time": "2023-01-11T22:48:39.050Z"
      },
      {
        "duration": 23,
        "start_time": "2023-01-11T22:48:39.072Z"
      },
      {
        "duration": 17,
        "start_time": "2023-01-11T22:48:39.097Z"
      },
      {
        "duration": 31,
        "start_time": "2023-01-11T22:48:39.116Z"
      },
      {
        "duration": 19,
        "start_time": "2023-01-11T22:48:39.149Z"
      },
      {
        "duration": 28,
        "start_time": "2023-01-11T22:48:39.169Z"
      },
      {
        "duration": 18,
        "start_time": "2023-01-11T22:48:39.199Z"
      },
      {
        "duration": 39,
        "start_time": "2023-01-11T22:48:39.219Z"
      },
      {
        "duration": 128,
        "start_time": "2023-01-11T22:48:39.260Z"
      },
      {
        "duration": 0,
        "start_time": "2023-01-11T22:48:39.390Z"
      },
      {
        "duration": 0,
        "start_time": "2023-01-11T22:48:39.391Z"
      },
      {
        "duration": 0,
        "start_time": "2023-01-11T22:48:39.392Z"
      },
      {
        "duration": 0,
        "start_time": "2023-01-11T22:48:39.393Z"
      },
      {
        "duration": 46,
        "start_time": "2023-01-11T22:48:54.700Z"
      },
      {
        "duration": 1099,
        "start_time": "2023-01-11T22:49:31.918Z"
      },
      {
        "duration": 170,
        "start_time": "2023-01-11T22:49:33.019Z"
      },
      {
        "duration": 11,
        "start_time": "2023-01-11T22:49:33.190Z"
      },
      {
        "duration": 28,
        "start_time": "2023-01-11T22:49:33.203Z"
      },
      {
        "duration": 14,
        "start_time": "2023-01-11T22:49:33.234Z"
      },
      {
        "duration": 90,
        "start_time": "2023-01-11T22:49:33.250Z"
      },
      {
        "duration": 2,
        "start_time": "2023-01-11T22:49:33.342Z"
      },
      {
        "duration": 90,
        "start_time": "2023-01-11T22:49:33.346Z"
      },
      {
        "duration": 21,
        "start_time": "2023-01-11T22:49:33.438Z"
      },
      {
        "duration": 90,
        "start_time": "2023-01-11T22:49:33.461Z"
      },
      {
        "duration": 10,
        "start_time": "2023-01-11T22:49:33.552Z"
      },
      {
        "duration": 32,
        "start_time": "2023-01-11T22:49:33.564Z"
      },
      {
        "duration": 27,
        "start_time": "2023-01-11T22:49:33.598Z"
      },
      {
        "duration": 13,
        "start_time": "2023-01-11T22:49:33.627Z"
      },
      {
        "duration": 17,
        "start_time": "2023-01-11T22:49:33.641Z"
      },
      {
        "duration": 5,
        "start_time": "2023-01-11T22:49:33.659Z"
      },
      {
        "duration": 12,
        "start_time": "2023-01-11T22:49:33.665Z"
      },
      {
        "duration": 624,
        "start_time": "2023-01-11T22:49:33.679Z"
      },
      {
        "duration": 58,
        "start_time": "2023-01-11T22:49:34.305Z"
      },
      {
        "duration": 19,
        "start_time": "2023-01-11T22:49:34.364Z"
      },
      {
        "duration": 51,
        "start_time": "2023-01-11T22:49:34.385Z"
      },
      {
        "duration": 37,
        "start_time": "2023-01-11T22:49:34.439Z"
      },
      {
        "duration": 21,
        "start_time": "2023-01-11T22:49:34.477Z"
      },
      {
        "duration": 59,
        "start_time": "2023-01-11T22:49:34.499Z"
      },
      {
        "duration": 20,
        "start_time": "2023-01-11T22:49:34.559Z"
      },
      {
        "duration": 69,
        "start_time": "2023-01-11T22:49:34.580Z"
      },
      {
        "duration": 53,
        "start_time": "2023-01-11T22:49:34.651Z"
      },
      {
        "duration": 37,
        "start_time": "2023-01-11T22:49:34.708Z"
      },
      {
        "duration": 20,
        "start_time": "2023-01-11T22:49:34.746Z"
      },
      {
        "duration": 73,
        "start_time": "2023-01-11T22:49:34.768Z"
      },
      {
        "duration": 8,
        "start_time": "2023-01-11T22:49:34.842Z"
      },
      {
        "duration": 6,
        "start_time": "2023-01-11T22:49:34.851Z"
      },
      {
        "duration": 36,
        "start_time": "2023-01-11T22:49:34.858Z"
      },
      {
        "duration": 58,
        "start_time": "2023-01-11T22:49:34.896Z"
      },
      {
        "duration": 80,
        "start_time": "2023-01-11T22:49:34.956Z"
      },
      {
        "duration": 29,
        "start_time": "2023-01-11T22:49:35.038Z"
      },
      {
        "duration": 107,
        "start_time": "2023-01-11T22:49:35.069Z"
      },
      {
        "duration": 12,
        "start_time": "2023-01-11T22:49:35.178Z"
      },
      {
        "duration": 6,
        "start_time": "2023-01-11T22:49:35.191Z"
      },
      {
        "duration": 23,
        "start_time": "2023-01-11T22:49:35.199Z"
      },
      {
        "duration": 15,
        "start_time": "2023-01-11T22:49:35.224Z"
      },
      {
        "duration": 9,
        "start_time": "2023-01-11T22:49:35.241Z"
      },
      {
        "duration": 6,
        "start_time": "2023-01-11T22:49:35.252Z"
      },
      {
        "duration": 98,
        "start_time": "2023-01-11T22:49:35.260Z"
      },
      {
        "duration": 5,
        "start_time": "2023-01-11T22:49:35.360Z"
      },
      {
        "duration": 7,
        "start_time": "2023-01-11T22:49:35.366Z"
      },
      {
        "duration": 10,
        "start_time": "2023-01-11T22:49:35.375Z"
      },
      {
        "duration": 7,
        "start_time": "2023-01-11T22:49:35.387Z"
      },
      {
        "duration": 44,
        "start_time": "2023-01-11T22:49:35.396Z"
      },
      {
        "duration": 10,
        "start_time": "2023-01-11T22:49:35.441Z"
      },
      {
        "duration": 9,
        "start_time": "2023-01-11T22:49:35.454Z"
      },
      {
        "duration": 8,
        "start_time": "2023-01-11T22:49:35.465Z"
      },
      {
        "duration": 11,
        "start_time": "2023-01-11T22:49:35.476Z"
      },
      {
        "duration": 74,
        "start_time": "2023-01-11T22:49:35.489Z"
      },
      {
        "duration": 5,
        "start_time": "2023-01-11T22:49:35.564Z"
      },
      {
        "duration": 10,
        "start_time": "2023-01-11T22:49:35.571Z"
      },
      {
        "duration": 7,
        "start_time": "2023-01-11T22:49:35.582Z"
      },
      {
        "duration": 38,
        "start_time": "2023-01-11T22:49:35.591Z"
      },
      {
        "duration": 1114,
        "start_time": "2023-01-11T23:07:59.271Z"
      },
      {
        "duration": 159,
        "start_time": "2023-01-11T23:08:00.387Z"
      },
      {
        "duration": 15,
        "start_time": "2023-01-11T23:08:00.548Z"
      },
      {
        "duration": 23,
        "start_time": "2023-01-11T23:08:00.565Z"
      },
      {
        "duration": 16,
        "start_time": "2023-01-11T23:08:00.590Z"
      },
      {
        "duration": 92,
        "start_time": "2023-01-11T23:08:00.608Z"
      },
      {
        "duration": 3,
        "start_time": "2023-01-11T23:08:00.702Z"
      },
      {
        "duration": 113,
        "start_time": "2023-01-11T23:08:00.706Z"
      },
      {
        "duration": 28,
        "start_time": "2023-01-11T23:08:00.821Z"
      },
      {
        "duration": 94,
        "start_time": "2023-01-11T23:08:00.851Z"
      },
      {
        "duration": 9,
        "start_time": "2023-01-11T23:08:00.947Z"
      },
      {
        "duration": 41,
        "start_time": "2023-01-11T23:08:00.958Z"
      },
      {
        "duration": 13,
        "start_time": "2023-01-11T23:08:01.001Z"
      },
      {
        "duration": 53,
        "start_time": "2023-01-11T23:08:01.016Z"
      },
      {
        "duration": 47,
        "start_time": "2023-01-11T23:08:01.070Z"
      },
      {
        "duration": 26,
        "start_time": "2023-01-11T23:08:01.119Z"
      },
      {
        "duration": 36,
        "start_time": "2023-01-11T23:08:01.147Z"
      },
      {
        "duration": 554,
        "start_time": "2023-01-11T23:08:01.184Z"
      },
      {
        "duration": 35,
        "start_time": "2023-01-11T23:08:01.739Z"
      },
      {
        "duration": 20,
        "start_time": "2023-01-11T23:08:01.775Z"
      },
      {
        "duration": 49,
        "start_time": "2023-01-11T23:08:01.797Z"
      },
      {
        "duration": 25,
        "start_time": "2023-01-11T23:08:01.848Z"
      },
      {
        "duration": 9,
        "start_time": "2023-01-11T23:08:01.875Z"
      },
      {
        "duration": 68,
        "start_time": "2023-01-11T23:08:01.886Z"
      },
      {
        "duration": 31,
        "start_time": "2023-01-11T23:08:01.956Z"
      },
      {
        "duration": 89,
        "start_time": "2023-01-11T23:08:01.989Z"
      },
      {
        "duration": 64,
        "start_time": "2023-01-11T23:08:02.079Z"
      },
      {
        "duration": 18,
        "start_time": "2023-01-11T23:08:02.147Z"
      },
      {
        "duration": 24,
        "start_time": "2023-01-11T23:08:02.167Z"
      },
      {
        "duration": 61,
        "start_time": "2023-01-11T23:08:02.192Z"
      },
      {
        "duration": 9,
        "start_time": "2023-01-11T23:08:02.255Z"
      },
      {
        "duration": 6,
        "start_time": "2023-01-11T23:08:02.266Z"
      },
      {
        "duration": 52,
        "start_time": "2023-01-11T23:08:02.273Z"
      },
      {
        "duration": 42,
        "start_time": "2023-01-11T23:08:02.327Z"
      },
      {
        "duration": 72,
        "start_time": "2023-01-11T23:08:02.370Z"
      },
      {
        "duration": 29,
        "start_time": "2023-01-11T23:08:02.443Z"
      },
      {
        "duration": 93,
        "start_time": "2023-01-11T23:08:02.474Z"
      },
      {
        "duration": 10,
        "start_time": "2023-01-11T23:08:02.569Z"
      },
      {
        "duration": 6,
        "start_time": "2023-01-11T23:08:02.582Z"
      },
      {
        "duration": 10,
        "start_time": "2023-01-11T23:08:02.589Z"
      },
      {
        "duration": 31,
        "start_time": "2023-01-11T23:08:02.601Z"
      },
      {
        "duration": 8,
        "start_time": "2023-01-11T23:08:02.636Z"
      },
      {
        "duration": 8,
        "start_time": "2023-01-11T23:08:02.645Z"
      },
      {
        "duration": 83,
        "start_time": "2023-01-11T23:08:02.655Z"
      },
      {
        "duration": 5,
        "start_time": "2023-01-11T23:08:02.739Z"
      },
      {
        "duration": 6,
        "start_time": "2023-01-11T23:08:02.746Z"
      },
      {
        "duration": 7,
        "start_time": "2023-01-11T23:08:02.753Z"
      },
      {
        "duration": 9,
        "start_time": "2023-01-11T23:08:02.761Z"
      },
      {
        "duration": 7,
        "start_time": "2023-01-11T23:08:02.772Z"
      },
      {
        "duration": 7,
        "start_time": "2023-01-11T23:08:02.780Z"
      },
      {
        "duration": 6,
        "start_time": "2023-01-11T23:08:02.789Z"
      },
      {
        "duration": 27,
        "start_time": "2023-01-11T23:08:02.796Z"
      },
      {
        "duration": 14,
        "start_time": "2023-01-11T23:08:02.826Z"
      },
      {
        "duration": 51,
        "start_time": "2023-01-11T23:08:02.841Z"
      },
      {
        "duration": 4,
        "start_time": "2023-01-11T23:08:02.894Z"
      },
      {
        "duration": 8,
        "start_time": "2023-01-11T23:08:02.900Z"
      },
      {
        "duration": 20,
        "start_time": "2023-01-11T23:08:02.909Z"
      },
      {
        "duration": 13,
        "start_time": "2023-01-11T23:08:02.931Z"
      },
      {
        "duration": 39,
        "start_time": "2023-01-11T23:08:50.935Z"
      },
      {
        "duration": 1145,
        "start_time": "2023-01-11T23:09:03.954Z"
      },
      {
        "duration": 173,
        "start_time": "2023-01-11T23:09:05.101Z"
      },
      {
        "duration": 12,
        "start_time": "2023-01-11T23:09:05.276Z"
      },
      {
        "duration": 21,
        "start_time": "2023-01-11T23:09:05.290Z"
      },
      {
        "duration": 25,
        "start_time": "2023-01-11T23:09:05.312Z"
      },
      {
        "duration": 73,
        "start_time": "2023-01-11T23:09:05.339Z"
      },
      {
        "duration": 10,
        "start_time": "2023-01-11T23:09:05.414Z"
      },
      {
        "duration": 107,
        "start_time": "2023-01-11T23:09:05.429Z"
      },
      {
        "duration": 25,
        "start_time": "2023-01-11T23:09:05.538Z"
      },
      {
        "duration": 89,
        "start_time": "2023-01-11T23:09:05.567Z"
      },
      {
        "duration": 10,
        "start_time": "2023-01-11T23:09:05.658Z"
      },
      {
        "duration": 39,
        "start_time": "2023-01-11T23:09:05.670Z"
      },
      {
        "duration": 26,
        "start_time": "2023-01-11T23:09:05.711Z"
      },
      {
        "duration": 16,
        "start_time": "2023-01-11T23:09:05.739Z"
      },
      {
        "duration": 17,
        "start_time": "2023-01-11T23:09:05.756Z"
      },
      {
        "duration": 7,
        "start_time": "2023-01-11T23:09:05.775Z"
      },
      {
        "duration": 17,
        "start_time": "2023-01-11T23:09:05.783Z"
      },
      {
        "duration": 540,
        "start_time": "2023-01-11T23:09:05.802Z"
      },
      {
        "duration": 31,
        "start_time": "2023-01-11T23:09:06.344Z"
      },
      {
        "duration": 17,
        "start_time": "2023-01-11T23:09:06.377Z"
      },
      {
        "duration": 39,
        "start_time": "2023-01-11T23:09:06.396Z"
      },
      {
        "duration": 21,
        "start_time": "2023-01-11T23:09:06.436Z"
      },
      {
        "duration": 15,
        "start_time": "2023-01-11T23:09:06.459Z"
      },
      {
        "duration": 39,
        "start_time": "2023-01-11T23:09:06.475Z"
      },
      {
        "duration": 29,
        "start_time": "2023-01-11T23:09:06.516Z"
      },
      {
        "duration": 75,
        "start_time": "2023-01-11T23:09:06.546Z"
      },
      {
        "duration": 64,
        "start_time": "2023-01-11T23:09:06.622Z"
      },
      {
        "duration": 18,
        "start_time": "2023-01-11T23:09:06.689Z"
      },
      {
        "duration": 47,
        "start_time": "2023-01-11T23:09:06.708Z"
      },
      {
        "duration": 47,
        "start_time": "2023-01-11T23:09:06.756Z"
      },
      {
        "duration": 8,
        "start_time": "2023-01-11T23:09:06.804Z"
      },
      {
        "duration": 24,
        "start_time": "2023-01-11T23:09:06.814Z"
      },
      {
        "duration": 46,
        "start_time": "2023-01-11T23:09:06.839Z"
      },
      {
        "duration": 46,
        "start_time": "2023-01-11T23:09:06.886Z"
      },
      {
        "duration": 54,
        "start_time": "2023-01-11T23:09:06.933Z"
      },
      {
        "duration": 46,
        "start_time": "2023-01-11T23:09:06.988Z"
      },
      {
        "duration": 84,
        "start_time": "2023-01-11T23:09:07.039Z"
      },
      {
        "duration": 18,
        "start_time": "2023-01-11T23:09:07.125Z"
      },
      {
        "duration": 14,
        "start_time": "2023-01-11T23:09:07.145Z"
      },
      {
        "duration": 27,
        "start_time": "2023-01-11T23:09:07.161Z"
      },
      {
        "duration": 48,
        "start_time": "2023-01-11T23:09:07.190Z"
      },
      {
        "duration": 29,
        "start_time": "2023-01-11T23:09:07.240Z"
      },
      {
        "duration": 15,
        "start_time": "2023-01-11T23:09:07.271Z"
      },
      {
        "duration": 109,
        "start_time": "2023-01-11T23:09:07.287Z"
      },
      {
        "duration": 5,
        "start_time": "2023-01-11T23:09:07.397Z"
      },
      {
        "duration": 47,
        "start_time": "2023-01-11T23:09:07.403Z"
      },
      {
        "duration": 25,
        "start_time": "2023-01-11T23:09:07.451Z"
      },
      {
        "duration": 18,
        "start_time": "2023-01-11T23:09:07.478Z"
      },
      {
        "duration": 41,
        "start_time": "2023-01-11T23:09:07.497Z"
      },
      {
        "duration": 23,
        "start_time": "2023-01-11T23:09:07.540Z"
      },
      {
        "duration": 22,
        "start_time": "2023-01-11T23:09:07.565Z"
      },
      {
        "duration": 15,
        "start_time": "2023-01-11T23:09:07.588Z"
      },
      {
        "duration": 15,
        "start_time": "2023-01-11T23:09:07.604Z"
      },
      {
        "duration": 63,
        "start_time": "2023-01-11T23:09:07.620Z"
      },
      {
        "duration": 5,
        "start_time": "2023-01-11T23:09:07.684Z"
      },
      {
        "duration": 26,
        "start_time": "2023-01-11T23:09:07.690Z"
      },
      {
        "duration": 34,
        "start_time": "2023-01-11T23:09:07.717Z"
      },
      {
        "duration": 24,
        "start_time": "2023-01-11T23:09:07.753Z"
      },
      {
        "duration": 1152,
        "start_time": "2023-01-12T10:09:48.989Z"
      },
      {
        "duration": 261,
        "start_time": "2023-01-12T10:09:50.143Z"
      },
      {
        "duration": 13,
        "start_time": "2023-01-12T10:09:50.406Z"
      },
      {
        "duration": 21,
        "start_time": "2023-01-12T10:09:50.421Z"
      },
      {
        "duration": 16,
        "start_time": "2023-01-12T10:09:50.445Z"
      },
      {
        "duration": 96,
        "start_time": "2023-01-12T10:09:50.463Z"
      },
      {
        "duration": 3,
        "start_time": "2023-01-12T10:09:50.561Z"
      },
      {
        "duration": 100,
        "start_time": "2023-01-12T10:09:50.566Z"
      },
      {
        "duration": 24,
        "start_time": "2023-01-12T10:09:50.668Z"
      },
      {
        "duration": 84,
        "start_time": "2023-01-12T10:09:50.693Z"
      },
      {
        "duration": 17,
        "start_time": "2023-01-12T10:09:50.779Z"
      },
      {
        "duration": 36,
        "start_time": "2023-01-12T10:09:50.797Z"
      },
      {
        "duration": 11,
        "start_time": "2023-01-12T10:09:50.835Z"
      },
      {
        "duration": 18,
        "start_time": "2023-01-12T10:09:50.849Z"
      },
      {
        "duration": 32,
        "start_time": "2023-01-12T10:09:50.868Z"
      },
      {
        "duration": 30,
        "start_time": "2023-01-12T10:09:50.901Z"
      },
      {
        "duration": 25,
        "start_time": "2023-01-12T10:09:50.933Z"
      },
      {
        "duration": 547,
        "start_time": "2023-01-12T10:09:50.959Z"
      },
      {
        "duration": 32,
        "start_time": "2023-01-12T10:09:51.508Z"
      },
      {
        "duration": 20,
        "start_time": "2023-01-12T10:09:51.543Z"
      },
      {
        "duration": 25,
        "start_time": "2023-01-12T10:09:51.564Z"
      },
      {
        "duration": 31,
        "start_time": "2023-01-12T10:09:51.591Z"
      },
      {
        "duration": 10,
        "start_time": "2023-01-12T10:09:51.623Z"
      },
      {
        "duration": 36,
        "start_time": "2023-01-12T10:09:51.635Z"
      },
      {
        "duration": 39,
        "start_time": "2023-01-12T10:09:51.674Z"
      },
      {
        "duration": 50,
        "start_time": "2023-01-12T10:09:51.715Z"
      },
      {
        "duration": 75,
        "start_time": "2023-01-12T10:09:51.767Z"
      },
      {
        "duration": 20,
        "start_time": "2023-01-12T10:09:51.844Z"
      },
      {
        "duration": 24,
        "start_time": "2023-01-12T10:09:51.866Z"
      },
      {
        "duration": 66,
        "start_time": "2023-01-12T10:09:51.892Z"
      },
      {
        "duration": 10,
        "start_time": "2023-01-12T10:09:51.960Z"
      },
      {
        "duration": 13,
        "start_time": "2023-01-12T10:09:51.972Z"
      },
      {
        "duration": 50,
        "start_time": "2023-01-12T10:09:51.987Z"
      },
      {
        "duration": 42,
        "start_time": "2023-01-12T10:09:52.039Z"
      },
      {
        "duration": 71,
        "start_time": "2023-01-12T10:09:52.083Z"
      },
      {
        "duration": 35,
        "start_time": "2023-01-12T10:09:52.156Z"
      },
      {
        "duration": 104,
        "start_time": "2023-01-12T10:09:52.192Z"
      },
      {
        "duration": 12,
        "start_time": "2023-01-12T10:09:52.312Z"
      },
      {
        "duration": 12,
        "start_time": "2023-01-12T10:09:52.326Z"
      },
      {
        "duration": 27,
        "start_time": "2023-01-12T10:09:52.340Z"
      },
      {
        "duration": 11,
        "start_time": "2023-01-12T10:09:52.372Z"
      },
      {
        "duration": 12,
        "start_time": "2023-01-12T10:09:52.385Z"
      },
      {
        "duration": 11,
        "start_time": "2023-01-12T10:09:52.399Z"
      },
      {
        "duration": 114,
        "start_time": "2023-01-12T10:09:52.412Z"
      },
      {
        "duration": 5,
        "start_time": "2023-01-12T10:09:52.528Z"
      },
      {
        "duration": 14,
        "start_time": "2023-01-12T10:09:52.535Z"
      },
      {
        "duration": 11,
        "start_time": "2023-01-12T10:09:52.551Z"
      },
      {
        "duration": 8,
        "start_time": "2023-01-12T10:09:52.564Z"
      },
      {
        "duration": 9,
        "start_time": "2023-01-12T10:09:52.573Z"
      },
      {
        "duration": 10,
        "start_time": "2023-01-12T10:09:52.583Z"
      },
      {
        "duration": 19,
        "start_time": "2023-01-12T10:09:52.594Z"
      },
      {
        "duration": 7,
        "start_time": "2023-01-12T10:09:52.614Z"
      },
      {
        "duration": 13,
        "start_time": "2023-01-12T10:09:52.623Z"
      },
      {
        "duration": 51,
        "start_time": "2023-01-12T10:09:52.638Z"
      },
      {
        "duration": 5,
        "start_time": "2023-01-12T10:09:52.691Z"
      },
      {
        "duration": 26,
        "start_time": "2023-01-12T10:09:52.697Z"
      },
      {
        "duration": 28,
        "start_time": "2023-01-12T10:09:52.724Z"
      },
      {
        "duration": 13,
        "start_time": "2023-01-12T10:09:52.754Z"
      },
      {
        "duration": 1350,
        "start_time": "2023-01-12T11:20:33.162Z"
      },
      {
        "duration": 1061,
        "start_time": "2023-01-12T11:20:34.515Z"
      },
      {
        "duration": 14,
        "start_time": "2023-01-12T11:20:35.578Z"
      },
      {
        "duration": 34,
        "start_time": "2023-01-12T11:20:35.595Z"
      },
      {
        "duration": 20,
        "start_time": "2023-01-12T11:20:35.632Z"
      },
      {
        "duration": 83,
        "start_time": "2023-01-12T11:20:35.654Z"
      },
      {
        "duration": 3,
        "start_time": "2023-01-12T11:20:35.739Z"
      },
      {
        "duration": 115,
        "start_time": "2023-01-12T11:20:35.744Z"
      },
      {
        "duration": 27,
        "start_time": "2023-01-12T11:20:35.862Z"
      },
      {
        "duration": 83,
        "start_time": "2023-01-12T11:20:35.892Z"
      },
      {
        "duration": 26,
        "start_time": "2023-01-12T11:20:35.977Z"
      },
      {
        "duration": 51,
        "start_time": "2023-01-12T11:20:36.005Z"
      },
      {
        "duration": 14,
        "start_time": "2023-01-12T11:20:36.058Z"
      },
      {
        "duration": 10,
        "start_time": "2023-01-12T11:20:36.074Z"
      },
      {
        "duration": 20,
        "start_time": "2023-01-12T11:20:36.085Z"
      },
      {
        "duration": 32,
        "start_time": "2023-01-12T11:20:36.107Z"
      },
      {
        "duration": 12,
        "start_time": "2023-01-12T11:20:36.141Z"
      },
      {
        "duration": 579,
        "start_time": "2023-01-12T11:20:36.154Z"
      },
      {
        "duration": 34,
        "start_time": "2023-01-12T11:20:36.738Z"
      },
      {
        "duration": 26,
        "start_time": "2023-01-12T11:20:36.774Z"
      },
      {
        "duration": 48,
        "start_time": "2023-01-12T11:20:36.802Z"
      },
      {
        "duration": 14,
        "start_time": "2023-01-12T11:20:36.851Z"
      },
      {
        "duration": 12,
        "start_time": "2023-01-12T11:20:36.867Z"
      },
      {
        "duration": 58,
        "start_time": "2023-01-12T11:20:36.881Z"
      },
      {
        "duration": 23,
        "start_time": "2023-01-12T11:20:36.941Z"
      },
      {
        "duration": 71,
        "start_time": "2023-01-12T11:20:36.966Z"
      },
      {
        "duration": 62,
        "start_time": "2023-01-12T11:20:37.039Z"
      },
      {
        "duration": 37,
        "start_time": "2023-01-12T11:20:37.105Z"
      },
      {
        "duration": 18,
        "start_time": "2023-01-12T11:20:37.145Z"
      },
      {
        "duration": 51,
        "start_time": "2023-01-12T11:20:37.165Z"
      },
      {
        "duration": 10,
        "start_time": "2023-01-12T11:20:37.237Z"
      },
      {
        "duration": 6,
        "start_time": "2023-01-12T11:20:37.248Z"
      },
      {
        "duration": 44,
        "start_time": "2023-01-12T11:20:37.255Z"
      },
      {
        "duration": 58,
        "start_time": "2023-01-12T11:20:37.301Z"
      },
      {
        "duration": 59,
        "start_time": "2023-01-12T11:20:37.360Z"
      },
      {
        "duration": 45,
        "start_time": "2023-01-12T11:20:37.420Z"
      },
      {
        "duration": 100,
        "start_time": "2023-01-12T11:20:37.467Z"
      },
      {
        "duration": 12,
        "start_time": "2023-01-12T11:20:37.569Z"
      },
      {
        "duration": 9,
        "start_time": "2023-01-12T11:20:37.583Z"
      },
      {
        "duration": 13,
        "start_time": "2023-01-12T11:20:37.593Z"
      },
      {
        "duration": 8,
        "start_time": "2023-01-12T11:20:37.608Z"
      },
      {
        "duration": 20,
        "start_time": "2023-01-12T11:20:37.618Z"
      },
      {
        "duration": 4,
        "start_time": "2023-01-12T11:20:37.640Z"
      },
      {
        "duration": 101,
        "start_time": "2023-01-12T11:20:37.646Z"
      },
      {
        "duration": 4,
        "start_time": "2023-01-12T11:20:37.749Z"
      },
      {
        "duration": 10,
        "start_time": "2023-01-12T11:20:37.755Z"
      },
      {
        "duration": 24,
        "start_time": "2023-01-12T11:20:37.766Z"
      },
      {
        "duration": 14,
        "start_time": "2023-01-12T11:20:37.792Z"
      },
      {
        "duration": 9,
        "start_time": "2023-01-12T11:20:37.807Z"
      },
      {
        "duration": 13,
        "start_time": "2023-01-12T11:20:37.818Z"
      },
      {
        "duration": 14,
        "start_time": "2023-01-12T11:20:37.837Z"
      },
      {
        "duration": 12,
        "start_time": "2023-01-12T11:20:37.852Z"
      },
      {
        "duration": 14,
        "start_time": "2023-01-12T11:20:37.865Z"
      },
      {
        "duration": 61,
        "start_time": "2023-01-12T11:20:37.881Z"
      },
      {
        "duration": 6,
        "start_time": "2023-01-12T11:20:37.944Z"
      },
      {
        "duration": 15,
        "start_time": "2023-01-12T11:20:37.952Z"
      },
      {
        "duration": 13,
        "start_time": "2023-01-12T11:20:37.969Z"
      },
      {
        "duration": 8,
        "start_time": "2023-01-12T11:20:37.984Z"
      },
      {
        "duration": 116,
        "start_time": "2023-01-12T11:22:01.545Z"
      },
      {
        "duration": 27,
        "start_time": "2023-01-12T11:29:32.636Z"
      },
      {
        "duration": 27,
        "start_time": "2023-01-12T11:30:30.422Z"
      },
      {
        "duration": 10,
        "start_time": "2023-01-12T11:41:04.180Z"
      },
      {
        "duration": 11,
        "start_time": "2023-01-12T11:41:16.062Z"
      },
      {
        "duration": 582,
        "start_time": "2023-01-12T11:41:27.099Z"
      },
      {
        "duration": 209,
        "start_time": "2023-01-12T11:45:06.413Z"
      },
      {
        "duration": 18,
        "start_time": "2023-01-12T11:45:32.633Z"
      },
      {
        "duration": 53,
        "start_time": "2023-01-12T11:46:08.152Z"
      },
      {
        "duration": 9,
        "start_time": "2023-01-12T11:46:09.368Z"
      },
      {
        "duration": 7,
        "start_time": "2023-01-12T11:46:11.401Z"
      },
      {
        "duration": 16,
        "start_time": "2023-01-12T11:46:13.273Z"
      },
      {
        "duration": 12,
        "start_time": "2023-01-12T11:47:32.424Z"
      },
      {
        "duration": 11,
        "start_time": "2023-01-12T11:48:00.464Z"
      },
      {
        "duration": 13,
        "start_time": "2023-01-12T11:48:01.055Z"
      },
      {
        "duration": 9,
        "start_time": "2023-01-12T11:48:01.495Z"
      },
      {
        "duration": 10,
        "start_time": "2023-01-12T11:48:01.879Z"
      },
      {
        "duration": 18,
        "start_time": "2023-01-12T11:48:06.631Z"
      },
      {
        "duration": 79,
        "start_time": "2023-01-12T11:48:21.799Z"
      },
      {
        "duration": 108,
        "start_time": "2023-01-12T11:48:38.809Z"
      },
      {
        "duration": 15,
        "start_time": "2023-01-12T11:48:41.800Z"
      },
      {
        "duration": 17,
        "start_time": "2023-01-12T11:48:50.297Z"
      },
      {
        "duration": 63,
        "start_time": "2023-01-12T11:48:52.230Z"
      },
      {
        "duration": 1264,
        "start_time": "2023-01-12T11:50:13.123Z"
      },
      {
        "duration": 195,
        "start_time": "2023-01-12T11:50:14.390Z"
      },
      {
        "duration": 14,
        "start_time": "2023-01-12T11:50:14.587Z"
      },
      {
        "duration": 32,
        "start_time": "2023-01-12T11:50:14.604Z"
      },
      {
        "duration": 27,
        "start_time": "2023-01-12T11:50:14.641Z"
      },
      {
        "duration": 102,
        "start_time": "2023-01-12T11:50:14.670Z"
      },
      {
        "duration": 3,
        "start_time": "2023-01-12T11:50:14.775Z"
      },
      {
        "duration": 105,
        "start_time": "2023-01-12T11:50:14.780Z"
      },
      {
        "duration": 26,
        "start_time": "2023-01-12T11:50:14.887Z"
      },
      {
        "duration": 108,
        "start_time": "2023-01-12T11:50:14.915Z"
      },
      {
        "duration": 29,
        "start_time": "2023-01-12T11:50:15.025Z"
      },
      {
        "duration": 74,
        "start_time": "2023-01-12T11:50:15.056Z"
      },
      {
        "duration": 29,
        "start_time": "2023-01-12T11:50:15.132Z"
      },
      {
        "duration": 30,
        "start_time": "2023-01-12T11:50:15.163Z"
      },
      {
        "duration": 34,
        "start_time": "2023-01-12T11:50:15.195Z"
      },
      {
        "duration": 71,
        "start_time": "2023-01-12T11:50:15.231Z"
      },
      {
        "duration": 6,
        "start_time": "2023-01-12T11:50:15.304Z"
      },
      {
        "duration": 12,
        "start_time": "2023-01-12T11:50:15.311Z"
      },
      {
        "duration": 688,
        "start_time": "2023-01-12T11:50:15.325Z"
      },
      {
        "duration": 45,
        "start_time": "2023-01-12T11:50:16.015Z"
      },
      {
        "duration": 34,
        "start_time": "2023-01-12T11:50:16.062Z"
      },
      {
        "duration": 43,
        "start_time": "2023-01-12T11:50:16.098Z"
      },
      {
        "duration": 23,
        "start_time": "2023-01-12T11:50:16.144Z"
      },
      {
        "duration": 14,
        "start_time": "2023-01-12T11:50:16.169Z"
      },
      {
        "duration": 54,
        "start_time": "2023-01-12T11:50:16.184Z"
      },
      {
        "duration": 41,
        "start_time": "2023-01-12T11:50:16.240Z"
      },
      {
        "duration": 90,
        "start_time": "2023-01-12T11:50:16.283Z"
      },
      {
        "duration": 105,
        "start_time": "2023-01-12T11:50:16.378Z"
      },
      {
        "duration": 35,
        "start_time": "2023-01-12T11:50:16.485Z"
      },
      {
        "duration": 46,
        "start_time": "2023-01-12T11:50:16.522Z"
      },
      {
        "duration": 56,
        "start_time": "2023-01-12T11:50:16.570Z"
      },
      {
        "duration": 20,
        "start_time": "2023-01-12T11:50:16.628Z"
      },
      {
        "duration": 23,
        "start_time": "2023-01-12T11:50:16.650Z"
      },
      {
        "duration": 655,
        "start_time": "2023-01-12T11:50:16.676Z"
      },
      {
        "duration": 7,
        "start_time": "2023-01-12T11:50:17.334Z"
      },
      {
        "duration": 129,
        "start_time": "2023-01-12T11:50:17.343Z"
      },
      {
        "duration": 95,
        "start_time": "2023-01-12T11:50:17.474Z"
      },
      {
        "duration": 70,
        "start_time": "2023-01-12T11:50:17.570Z"
      },
      {
        "duration": 43,
        "start_time": "2023-01-12T11:50:17.643Z"
      },
      {
        "duration": 125,
        "start_time": "2023-01-12T11:50:17.688Z"
      },
      {
        "duration": 35,
        "start_time": "2023-01-12T11:50:17.814Z"
      },
      {
        "duration": 19,
        "start_time": "2023-01-12T11:50:17.853Z"
      },
      {
        "duration": 17,
        "start_time": "2023-01-12T11:50:17.875Z"
      },
      {
        "duration": 9,
        "start_time": "2023-01-12T11:50:17.894Z"
      },
      {
        "duration": 20,
        "start_time": "2023-01-12T11:50:17.905Z"
      },
      {
        "duration": 41,
        "start_time": "2023-01-12T11:50:17.927Z"
      },
      {
        "duration": 145,
        "start_time": "2023-01-12T11:50:17.970Z"
      },
      {
        "duration": 5,
        "start_time": "2023-01-12T11:50:18.117Z"
      },
      {
        "duration": 21,
        "start_time": "2023-01-12T11:50:18.123Z"
      },
      {
        "duration": 39,
        "start_time": "2023-01-12T11:50:18.146Z"
      },
      {
        "duration": 9,
        "start_time": "2023-01-12T11:50:18.187Z"
      },
      {
        "duration": 8,
        "start_time": "2023-01-12T11:50:18.198Z"
      },
      {
        "duration": 8,
        "start_time": "2023-01-12T11:50:18.207Z"
      },
      {
        "duration": 8,
        "start_time": "2023-01-12T11:50:18.217Z"
      },
      {
        "duration": 14,
        "start_time": "2023-01-12T11:50:18.227Z"
      },
      {
        "duration": 25,
        "start_time": "2023-01-12T11:50:18.243Z"
      },
      {
        "duration": 54,
        "start_time": "2023-01-12T11:50:18.270Z"
      },
      {
        "duration": 5,
        "start_time": "2023-01-12T11:50:18.326Z"
      },
      {
        "duration": 22,
        "start_time": "2023-01-12T11:50:18.336Z"
      },
      {
        "duration": 11,
        "start_time": "2023-01-12T11:50:18.360Z"
      },
      {
        "duration": 7,
        "start_time": "2023-01-12T11:50:18.374Z"
      },
      {
        "duration": 165,
        "start_time": "2023-01-12T12:00:43.839Z"
      },
      {
        "duration": 8,
        "start_time": "2023-01-12T12:00:59.638Z"
      },
      {
        "duration": 1153,
        "start_time": "2023-01-12T12:01:07.072Z"
      },
      {
        "duration": 174,
        "start_time": "2023-01-12T12:01:08.227Z"
      },
      {
        "duration": 14,
        "start_time": "2023-01-12T12:01:08.403Z"
      },
      {
        "duration": 37,
        "start_time": "2023-01-12T12:01:08.420Z"
      },
      {
        "duration": 32,
        "start_time": "2023-01-12T12:01:08.460Z"
      },
      {
        "duration": 110,
        "start_time": "2023-01-12T12:01:08.495Z"
      },
      {
        "duration": 5,
        "start_time": "2023-01-12T12:01:08.606Z"
      },
      {
        "duration": 89,
        "start_time": "2023-01-12T12:01:08.612Z"
      },
      {
        "duration": 35,
        "start_time": "2023-01-12T12:01:08.703Z"
      },
      {
        "duration": 77,
        "start_time": "2023-01-12T12:01:08.741Z"
      },
      {
        "duration": 35,
        "start_time": "2023-01-12T12:01:08.820Z"
      },
      {
        "duration": 54,
        "start_time": "2023-01-12T12:01:08.858Z"
      },
      {
        "duration": 41,
        "start_time": "2023-01-12T12:01:08.914Z"
      },
      {
        "duration": 28,
        "start_time": "2023-01-12T12:01:08.957Z"
      },
      {
        "duration": 45,
        "start_time": "2023-01-12T12:01:08.988Z"
      },
      {
        "duration": 68,
        "start_time": "2023-01-12T12:01:09.035Z"
      },
      {
        "duration": 16,
        "start_time": "2023-01-12T12:01:09.106Z"
      },
      {
        "duration": 30,
        "start_time": "2023-01-12T12:01:09.124Z"
      },
      {
        "duration": 583,
        "start_time": "2023-01-12T12:01:09.156Z"
      },
      {
        "duration": 28,
        "start_time": "2023-01-12T12:01:09.741Z"
      },
      {
        "duration": 25,
        "start_time": "2023-01-12T12:01:09.771Z"
      },
      {
        "duration": 53,
        "start_time": "2023-01-12T12:01:09.797Z"
      },
      {
        "duration": 34,
        "start_time": "2023-01-12T12:01:09.853Z"
      },
      {
        "duration": 13,
        "start_time": "2023-01-12T12:01:09.889Z"
      },
      {
        "duration": 43,
        "start_time": "2023-01-12T12:01:09.904Z"
      },
      {
        "duration": 25,
        "start_time": "2023-01-12T12:01:09.949Z"
      },
      {
        "duration": 91,
        "start_time": "2023-01-12T12:01:09.976Z"
      },
      {
        "duration": 77,
        "start_time": "2023-01-12T12:01:10.071Z"
      },
      {
        "duration": 25,
        "start_time": "2023-01-12T12:01:10.150Z"
      },
      {
        "duration": 23,
        "start_time": "2023-01-12T12:01:10.177Z"
      },
      {
        "duration": 75,
        "start_time": "2023-01-12T12:01:10.202Z"
      },
      {
        "duration": 10,
        "start_time": "2023-01-12T12:01:10.279Z"
      },
      {
        "duration": 18,
        "start_time": "2023-01-12T12:01:10.290Z"
      },
      {
        "duration": 563,
        "start_time": "2023-01-12T12:01:10.311Z"
      },
      {
        "duration": 6,
        "start_time": "2023-01-12T12:01:10.877Z"
      },
      {
        "duration": 80,
        "start_time": "2023-01-12T12:01:10.885Z"
      },
      {
        "duration": 105,
        "start_time": "2023-01-12T12:01:10.967Z"
      },
      {
        "duration": 89,
        "start_time": "2023-01-12T12:01:11.074Z"
      },
      {
        "duration": 36,
        "start_time": "2023-01-12T12:01:11.165Z"
      },
      {
        "duration": 108,
        "start_time": "2023-01-12T12:01:11.203Z"
      },
      {
        "duration": 25,
        "start_time": "2023-01-12T12:01:11.313Z"
      },
      {
        "duration": 7,
        "start_time": "2023-01-12T12:01:11.340Z"
      },
      {
        "duration": 15,
        "start_time": "2023-01-12T12:01:11.350Z"
      },
      {
        "duration": 22,
        "start_time": "2023-01-12T12:01:11.367Z"
      },
      {
        "duration": 15,
        "start_time": "2023-01-12T12:01:11.391Z"
      },
      {
        "duration": 14,
        "start_time": "2023-01-12T12:01:11.408Z"
      },
      {
        "duration": 93,
        "start_time": "2023-01-12T12:01:11.424Z"
      },
      {
        "duration": 6,
        "start_time": "2023-01-12T12:01:11.519Z"
      },
      {
        "duration": 6,
        "start_time": "2023-01-12T12:01:11.536Z"
      },
      {
        "duration": 10,
        "start_time": "2023-01-12T12:01:11.544Z"
      },
      {
        "duration": 11,
        "start_time": "2023-01-12T12:01:11.555Z"
      },
      {
        "duration": 19,
        "start_time": "2023-01-12T12:01:11.568Z"
      },
      {
        "duration": 30,
        "start_time": "2023-01-12T12:01:11.589Z"
      },
      {
        "duration": 11,
        "start_time": "2023-01-12T12:01:11.621Z"
      },
      {
        "duration": 17,
        "start_time": "2023-01-12T12:01:11.634Z"
      },
      {
        "duration": 22,
        "start_time": "2023-01-12T12:01:11.653Z"
      },
      {
        "duration": 68,
        "start_time": "2023-01-12T12:01:11.678Z"
      },
      {
        "duration": 5,
        "start_time": "2023-01-12T12:01:11.747Z"
      },
      {
        "duration": 9,
        "start_time": "2023-01-12T12:01:11.754Z"
      },
      {
        "duration": 9,
        "start_time": "2023-01-12T12:01:11.766Z"
      },
      {
        "duration": 30,
        "start_time": "2023-01-12T12:01:11.777Z"
      },
      {
        "duration": 1173,
        "start_time": "2023-01-12T12:02:50.369Z"
      },
      {
        "duration": 165,
        "start_time": "2023-01-12T12:02:51.544Z"
      },
      {
        "duration": 14,
        "start_time": "2023-01-12T12:02:51.711Z"
      },
      {
        "duration": 32,
        "start_time": "2023-01-12T12:02:51.727Z"
      },
      {
        "duration": 17,
        "start_time": "2023-01-12T12:02:51.760Z"
      },
      {
        "duration": 100,
        "start_time": "2023-01-12T12:02:51.779Z"
      },
      {
        "duration": 4,
        "start_time": "2023-01-12T12:02:51.881Z"
      },
      {
        "duration": 87,
        "start_time": "2023-01-12T12:02:51.886Z"
      },
      {
        "duration": 22,
        "start_time": "2023-01-12T12:02:51.975Z"
      },
      {
        "duration": 85,
        "start_time": "2023-01-12T12:02:52.000Z"
      },
      {
        "duration": 10,
        "start_time": "2023-01-12T12:02:52.087Z"
      },
      {
        "duration": 43,
        "start_time": "2023-01-12T12:02:52.098Z"
      },
      {
        "duration": 14,
        "start_time": "2023-01-12T12:02:52.143Z"
      },
      {
        "duration": 11,
        "start_time": "2023-01-12T12:02:52.159Z"
      },
      {
        "duration": 19,
        "start_time": "2023-01-12T12:02:52.172Z"
      },
      {
        "duration": 70,
        "start_time": "2023-01-12T12:02:52.193Z"
      },
      {
        "duration": 5,
        "start_time": "2023-01-12T12:02:52.265Z"
      },
      {
        "duration": 6,
        "start_time": "2023-01-12T12:02:52.272Z"
      },
      {
        "duration": 577,
        "start_time": "2023-01-12T12:02:52.280Z"
      },
      {
        "duration": 27,
        "start_time": "2023-01-12T12:02:52.858Z"
      },
      {
        "duration": 25,
        "start_time": "2023-01-12T12:02:52.886Z"
      },
      {
        "duration": 44,
        "start_time": "2023-01-12T12:02:52.913Z"
      },
      {
        "duration": 15,
        "start_time": "2023-01-12T12:02:52.959Z"
      },
      {
        "duration": 12,
        "start_time": "2023-01-12T12:02:52.975Z"
      },
      {
        "duration": 63,
        "start_time": "2023-01-12T12:02:52.988Z"
      },
      {
        "duration": 26,
        "start_time": "2023-01-12T12:02:53.052Z"
      },
      {
        "duration": 72,
        "start_time": "2023-01-12T12:02:53.080Z"
      },
      {
        "duration": 64,
        "start_time": "2023-01-12T12:02:53.156Z"
      },
      {
        "duration": 43,
        "start_time": "2023-01-12T12:02:53.222Z"
      },
      {
        "duration": 28,
        "start_time": "2023-01-12T12:02:53.267Z"
      },
      {
        "duration": 66,
        "start_time": "2023-01-12T12:02:53.298Z"
      },
      {
        "duration": 9,
        "start_time": "2023-01-12T12:02:53.366Z"
      },
      {
        "duration": 10,
        "start_time": "2023-01-12T12:02:53.376Z"
      },
      {
        "duration": 71,
        "start_time": "2023-01-12T12:02:53.388Z"
      },
      {
        "duration": 0,
        "start_time": "2023-01-12T12:02:53.461Z"
      },
      {
        "duration": 0,
        "start_time": "2023-01-12T12:02:53.463Z"
      },
      {
        "duration": 0,
        "start_time": "2023-01-12T12:02:53.465Z"
      },
      {
        "duration": 0,
        "start_time": "2023-01-12T12:02:53.466Z"
      },
      {
        "duration": 0,
        "start_time": "2023-01-12T12:02:53.467Z"
      },
      {
        "duration": 0,
        "start_time": "2023-01-12T12:02:53.468Z"
      },
      {
        "duration": 0,
        "start_time": "2023-01-12T12:02:53.470Z"
      },
      {
        "duration": 0,
        "start_time": "2023-01-12T12:02:53.471Z"
      },
      {
        "duration": 0,
        "start_time": "2023-01-12T12:02:53.472Z"
      },
      {
        "duration": 0,
        "start_time": "2023-01-12T12:02:53.473Z"
      },
      {
        "duration": 0,
        "start_time": "2023-01-12T12:02:53.475Z"
      },
      {
        "duration": 0,
        "start_time": "2023-01-12T12:02:53.476Z"
      },
      {
        "duration": 0,
        "start_time": "2023-01-12T12:02:53.477Z"
      },
      {
        "duration": 0,
        "start_time": "2023-01-12T12:02:53.478Z"
      },
      {
        "duration": 0,
        "start_time": "2023-01-12T12:02:53.479Z"
      },
      {
        "duration": 0,
        "start_time": "2023-01-12T12:02:53.480Z"
      },
      {
        "duration": 0,
        "start_time": "2023-01-12T12:02:53.481Z"
      },
      {
        "duration": 0,
        "start_time": "2023-01-12T12:02:53.483Z"
      },
      {
        "duration": 0,
        "start_time": "2023-01-12T12:02:53.485Z"
      },
      {
        "duration": 0,
        "start_time": "2023-01-12T12:02:53.486Z"
      },
      {
        "duration": 0,
        "start_time": "2023-01-12T12:02:53.488Z"
      },
      {
        "duration": 0,
        "start_time": "2023-01-12T12:02:53.489Z"
      },
      {
        "duration": 0,
        "start_time": "2023-01-12T12:02:53.490Z"
      },
      {
        "duration": 0,
        "start_time": "2023-01-12T12:02:53.491Z"
      },
      {
        "duration": 0,
        "start_time": "2023-01-12T12:02:53.492Z"
      },
      {
        "duration": 0,
        "start_time": "2023-01-12T12:02:53.493Z"
      },
      {
        "duration": 0,
        "start_time": "2023-01-12T12:02:53.494Z"
      },
      {
        "duration": 1249,
        "start_time": "2023-01-12T12:03:28.615Z"
      },
      {
        "duration": 193,
        "start_time": "2023-01-12T12:03:29.867Z"
      },
      {
        "duration": 13,
        "start_time": "2023-01-12T12:03:30.062Z"
      },
      {
        "duration": 34,
        "start_time": "2023-01-12T12:03:30.076Z"
      },
      {
        "duration": 26,
        "start_time": "2023-01-12T12:03:30.112Z"
      },
      {
        "duration": 82,
        "start_time": "2023-01-12T12:03:30.140Z"
      },
      {
        "duration": 3,
        "start_time": "2023-01-12T12:03:30.224Z"
      },
      {
        "duration": 87,
        "start_time": "2023-01-12T12:03:30.228Z"
      },
      {
        "duration": 23,
        "start_time": "2023-01-12T12:03:30.317Z"
      },
      {
        "duration": 118,
        "start_time": "2023-01-12T12:03:30.343Z"
      },
      {
        "duration": 83,
        "start_time": "2023-01-12T12:03:30.463Z"
      },
      {
        "duration": 77,
        "start_time": "2023-01-12T12:03:30.548Z"
      },
      {
        "duration": 33,
        "start_time": "2023-01-12T12:03:30.627Z"
      },
      {
        "duration": 53,
        "start_time": "2023-01-12T12:03:30.661Z"
      },
      {
        "duration": 43,
        "start_time": "2023-01-12T12:03:30.716Z"
      },
      {
        "duration": 67,
        "start_time": "2023-01-12T12:03:30.761Z"
      },
      {
        "duration": 27,
        "start_time": "2023-01-12T12:03:30.830Z"
      },
      {
        "duration": 33,
        "start_time": "2023-01-12T12:03:30.859Z"
      },
      {
        "duration": 591,
        "start_time": "2023-01-12T12:03:30.893Z"
      },
      {
        "duration": 30,
        "start_time": "2023-01-12T12:03:31.486Z"
      },
      {
        "duration": 36,
        "start_time": "2023-01-12T12:03:31.519Z"
      },
      {
        "duration": 26,
        "start_time": "2023-01-12T12:03:31.557Z"
      },
      {
        "duration": 42,
        "start_time": "2023-01-12T12:03:31.585Z"
      },
      {
        "duration": 41,
        "start_time": "2023-01-12T12:03:31.629Z"
      },
      {
        "duration": 48,
        "start_time": "2023-01-12T12:03:31.672Z"
      },
      {
        "duration": 25,
        "start_time": "2023-01-12T12:03:31.721Z"
      },
      {
        "duration": 92,
        "start_time": "2023-01-12T12:03:31.748Z"
      },
      {
        "duration": 72,
        "start_time": "2023-01-12T12:03:31.845Z"
      },
      {
        "duration": 33,
        "start_time": "2023-01-12T12:03:31.918Z"
      },
      {
        "duration": 67,
        "start_time": "2023-01-12T12:03:31.953Z"
      },
      {
        "duration": 71,
        "start_time": "2023-01-12T12:03:32.022Z"
      },
      {
        "duration": 8,
        "start_time": "2023-01-12T12:03:32.095Z"
      },
      {
        "duration": 34,
        "start_time": "2023-01-12T12:03:32.105Z"
      },
      {
        "duration": 559,
        "start_time": "2023-01-12T12:03:32.141Z"
      },
      {
        "duration": 4,
        "start_time": "2023-01-12T12:03:32.702Z"
      },
      {
        "duration": 79,
        "start_time": "2023-01-12T12:03:32.708Z"
      },
      {
        "duration": 98,
        "start_time": "2023-01-12T12:03:32.789Z"
      },
      {
        "duration": 71,
        "start_time": "2023-01-12T12:03:32.889Z"
      },
      {
        "duration": 33,
        "start_time": "2023-01-12T12:03:32.962Z"
      },
      {
        "duration": 103,
        "start_time": "2023-01-12T12:03:32.997Z"
      },
      {
        "duration": 12,
        "start_time": "2023-01-12T12:03:33.102Z"
      },
      {
        "duration": 23,
        "start_time": "2023-01-12T12:03:33.116Z"
      },
      {
        "duration": 28,
        "start_time": "2023-01-12T12:03:33.141Z"
      },
      {
        "duration": 17,
        "start_time": "2023-01-12T12:03:33.171Z"
      },
      {
        "duration": 28,
        "start_time": "2023-01-12T12:03:33.190Z"
      },
      {
        "duration": 17,
        "start_time": "2023-01-12T12:03:33.221Z"
      },
      {
        "duration": 86,
        "start_time": "2023-01-12T12:03:33.240Z"
      },
      {
        "duration": 10,
        "start_time": "2023-01-12T12:03:33.328Z"
      },
      {
        "duration": 11,
        "start_time": "2023-01-12T12:03:33.340Z"
      },
      {
        "duration": 32,
        "start_time": "2023-01-12T12:03:33.353Z"
      },
      {
        "duration": 22,
        "start_time": "2023-01-12T12:03:33.387Z"
      },
      {
        "duration": 23,
        "start_time": "2023-01-12T12:03:33.411Z"
      },
      {
        "duration": 22,
        "start_time": "2023-01-12T12:03:33.436Z"
      },
      {
        "duration": 17,
        "start_time": "2023-01-12T12:03:33.460Z"
      },
      {
        "duration": 23,
        "start_time": "2023-01-12T12:03:33.479Z"
      },
      {
        "duration": 24,
        "start_time": "2023-01-12T12:03:33.504Z"
      },
      {
        "duration": 60,
        "start_time": "2023-01-12T12:03:33.530Z"
      },
      {
        "duration": 4,
        "start_time": "2023-01-12T12:03:33.592Z"
      },
      {
        "duration": 13,
        "start_time": "2023-01-12T12:03:33.598Z"
      },
      {
        "duration": 27,
        "start_time": "2023-01-12T12:03:33.612Z"
      },
      {
        "duration": 19,
        "start_time": "2023-01-12T12:03:33.640Z"
      },
      {
        "duration": 1182,
        "start_time": "2023-01-12T12:06:42.422Z"
      },
      {
        "duration": 169,
        "start_time": "2023-01-12T12:06:43.606Z"
      },
      {
        "duration": 13,
        "start_time": "2023-01-12T12:06:43.777Z"
      },
      {
        "duration": 45,
        "start_time": "2023-01-12T12:06:43.792Z"
      },
      {
        "duration": 17,
        "start_time": "2023-01-12T12:06:43.839Z"
      },
      {
        "duration": 75,
        "start_time": "2023-01-12T12:06:43.859Z"
      },
      {
        "duration": 3,
        "start_time": "2023-01-12T12:06:43.938Z"
      },
      {
        "duration": 81,
        "start_time": "2023-01-12T12:06:43.942Z"
      },
      {
        "duration": 33,
        "start_time": "2023-01-12T12:06:44.025Z"
      },
      {
        "duration": 99,
        "start_time": "2023-01-12T12:06:44.060Z"
      },
      {
        "duration": 13,
        "start_time": "2023-01-12T12:06:44.161Z"
      },
      {
        "duration": 40,
        "start_time": "2023-01-12T12:06:44.176Z"
      },
      {
        "duration": 14,
        "start_time": "2023-01-12T12:06:44.236Z"
      },
      {
        "duration": 18,
        "start_time": "2023-01-12T12:06:44.252Z"
      },
      {
        "duration": 27,
        "start_time": "2023-01-12T12:06:44.271Z"
      },
      {
        "duration": 49,
        "start_time": "2023-01-12T12:06:44.300Z"
      },
      {
        "duration": 6,
        "start_time": "2023-01-12T12:06:44.351Z"
      },
      {
        "duration": 10,
        "start_time": "2023-01-12T12:06:44.359Z"
      },
      {
        "duration": 566,
        "start_time": "2023-01-12T12:06:44.371Z"
      },
      {
        "duration": 25,
        "start_time": "2023-01-12T12:06:44.939Z"
      },
      {
        "duration": 24,
        "start_time": "2023-01-12T12:06:44.966Z"
      },
      {
        "duration": 21,
        "start_time": "2023-01-12T12:06:44.992Z"
      },
      {
        "duration": 17,
        "start_time": "2023-01-12T12:06:45.038Z"
      },
      {
        "duration": 10,
        "start_time": "2023-01-12T12:06:45.057Z"
      },
      {
        "duration": 35,
        "start_time": "2023-01-12T12:06:45.069Z"
      },
      {
        "duration": 48,
        "start_time": "2023-01-12T12:06:45.106Z"
      },
      {
        "duration": 66,
        "start_time": "2023-01-12T12:06:45.156Z"
      },
      {
        "duration": 66,
        "start_time": "2023-01-12T12:06:45.226Z"
      },
      {
        "duration": 23,
        "start_time": "2023-01-12T12:06:45.294Z"
      },
      {
        "duration": 33,
        "start_time": "2023-01-12T12:06:45.319Z"
      },
      {
        "duration": 56,
        "start_time": "2023-01-12T12:06:45.354Z"
      },
      {
        "duration": 27,
        "start_time": "2023-01-12T12:06:45.412Z"
      },
      {
        "duration": 18,
        "start_time": "2023-01-12T12:06:45.440Z"
      },
      {
        "duration": 526,
        "start_time": "2023-01-12T12:06:45.460Z"
      },
      {
        "duration": 4,
        "start_time": "2023-01-12T12:06:45.988Z"
      },
      {
        "duration": 62,
        "start_time": "2023-01-12T12:06:45.993Z"
      },
      {
        "duration": 91,
        "start_time": "2023-01-12T12:06:46.057Z"
      },
      {
        "duration": 54,
        "start_time": "2023-01-12T12:06:46.149Z"
      },
      {
        "duration": 51,
        "start_time": "2023-01-12T12:06:46.205Z"
      },
      {
        "duration": 91,
        "start_time": "2023-01-12T12:06:46.258Z"
      },
      {
        "duration": 13,
        "start_time": "2023-01-12T12:06:46.350Z"
      },
      {
        "duration": 9,
        "start_time": "2023-01-12T12:06:46.365Z"
      },
      {
        "duration": 12,
        "start_time": "2023-01-12T12:06:46.375Z"
      },
      {
        "duration": 9,
        "start_time": "2023-01-12T12:06:46.388Z"
      },
      {
        "duration": 12,
        "start_time": "2023-01-12T12:06:46.398Z"
      },
      {
        "duration": 8,
        "start_time": "2023-01-12T12:06:46.411Z"
      },
      {
        "duration": 82,
        "start_time": "2023-01-12T12:06:46.437Z"
      },
      {
        "duration": 17,
        "start_time": "2023-01-12T12:06:46.521Z"
      },
      {
        "duration": 7,
        "start_time": "2023-01-12T12:06:46.539Z"
      },
      {
        "duration": 8,
        "start_time": "2023-01-12T12:06:46.548Z"
      },
      {
        "duration": 8,
        "start_time": "2023-01-12T12:06:46.558Z"
      },
      {
        "duration": 8,
        "start_time": "2023-01-12T12:06:46.567Z"
      },
      {
        "duration": 9,
        "start_time": "2023-01-12T12:06:46.577Z"
      },
      {
        "duration": 16,
        "start_time": "2023-01-12T12:06:46.588Z"
      },
      {
        "duration": 6,
        "start_time": "2023-01-12T12:06:46.606Z"
      },
      {
        "duration": 30,
        "start_time": "2023-01-12T12:06:46.614Z"
      },
      {
        "duration": 45,
        "start_time": "2023-01-12T12:06:46.646Z"
      },
      {
        "duration": 5,
        "start_time": "2023-01-12T12:06:46.693Z"
      },
      {
        "duration": 8,
        "start_time": "2023-01-12T12:06:46.699Z"
      },
      {
        "duration": 13,
        "start_time": "2023-01-12T12:06:46.708Z"
      },
      {
        "duration": 19,
        "start_time": "2023-01-12T12:06:46.722Z"
      },
      {
        "duration": 7,
        "start_time": "2023-01-12T12:07:20.995Z"
      },
      {
        "duration": 1154,
        "start_time": "2023-01-12T12:07:35.665Z"
      },
      {
        "duration": 168,
        "start_time": "2023-01-12T12:07:36.822Z"
      },
      {
        "duration": 14,
        "start_time": "2023-01-12T12:07:36.992Z"
      },
      {
        "duration": 78,
        "start_time": "2023-01-12T12:07:37.008Z"
      },
      {
        "duration": 61,
        "start_time": "2023-01-12T12:07:37.088Z"
      },
      {
        "duration": 74,
        "start_time": "2023-01-12T12:07:37.151Z"
      },
      {
        "duration": 11,
        "start_time": "2023-01-12T12:07:37.227Z"
      },
      {
        "duration": 93,
        "start_time": "2023-01-12T12:07:37.240Z"
      },
      {
        "duration": 26,
        "start_time": "2023-01-12T12:07:37.337Z"
      },
      {
        "duration": 95,
        "start_time": "2023-01-12T12:07:37.366Z"
      },
      {
        "duration": 20,
        "start_time": "2023-01-12T12:07:37.463Z"
      },
      {
        "duration": 39,
        "start_time": "2023-01-12T12:07:37.484Z"
      },
      {
        "duration": 22,
        "start_time": "2023-01-12T12:07:37.525Z"
      },
      {
        "duration": 65,
        "start_time": "2023-01-12T12:07:37.549Z"
      },
      {
        "duration": 28,
        "start_time": "2023-01-12T12:07:37.616Z"
      },
      {
        "duration": 43,
        "start_time": "2023-01-12T12:07:37.646Z"
      },
      {
        "duration": 5,
        "start_time": "2023-01-12T12:07:37.691Z"
      },
      {
        "duration": 10,
        "start_time": "2023-01-12T12:07:37.698Z"
      },
      {
        "duration": 665,
        "start_time": "2023-01-12T12:07:37.710Z"
      },
      {
        "duration": 28,
        "start_time": "2023-01-12T12:07:38.377Z"
      },
      {
        "duration": 39,
        "start_time": "2023-01-12T12:07:38.407Z"
      },
      {
        "duration": 25,
        "start_time": "2023-01-12T12:07:38.448Z"
      },
      {
        "duration": 26,
        "start_time": "2023-01-12T12:07:38.475Z"
      },
      {
        "duration": 12,
        "start_time": "2023-01-12T12:07:38.503Z"
      },
      {
        "duration": 55,
        "start_time": "2023-01-12T12:07:38.516Z"
      },
      {
        "duration": 25,
        "start_time": "2023-01-12T12:07:38.573Z"
      },
      {
        "duration": 80,
        "start_time": "2023-01-12T12:07:38.600Z"
      },
      {
        "duration": 96,
        "start_time": "2023-01-12T12:07:38.684Z"
      },
      {
        "duration": 27,
        "start_time": "2023-01-12T12:07:38.782Z"
      },
      {
        "duration": 37,
        "start_time": "2023-01-12T12:07:38.811Z"
      },
      {
        "duration": 59,
        "start_time": "2023-01-12T12:07:38.851Z"
      },
      {
        "duration": 28,
        "start_time": "2023-01-12T12:07:38.912Z"
      },
      {
        "duration": 23,
        "start_time": "2023-01-12T12:07:38.942Z"
      },
      {
        "duration": 605,
        "start_time": "2023-01-12T12:07:38.968Z"
      },
      {
        "duration": 5,
        "start_time": "2023-01-12T12:07:39.574Z"
      },
      {
        "duration": 79,
        "start_time": "2023-01-12T12:07:39.581Z"
      },
      {
        "duration": 101,
        "start_time": "2023-01-12T12:07:39.662Z"
      },
      {
        "duration": 56,
        "start_time": "2023-01-12T12:07:39.765Z"
      },
      {
        "duration": 58,
        "start_time": "2023-01-12T12:07:39.823Z"
      },
      {
        "duration": 110,
        "start_time": "2023-01-12T12:07:39.883Z"
      },
      {
        "duration": 14,
        "start_time": "2023-01-12T12:07:39.995Z"
      },
      {
        "duration": 25,
        "start_time": "2023-01-12T12:07:40.012Z"
      },
      {
        "duration": 28,
        "start_time": "2023-01-12T12:07:40.039Z"
      },
      {
        "duration": 15,
        "start_time": "2023-01-12T12:07:40.069Z"
      },
      {
        "duration": 27,
        "start_time": "2023-01-12T12:07:40.085Z"
      },
      {
        "duration": 13,
        "start_time": "2023-01-12T12:07:40.114Z"
      },
      {
        "duration": 90,
        "start_time": "2023-01-12T12:07:40.128Z"
      },
      {
        "duration": 5,
        "start_time": "2023-01-12T12:07:40.220Z"
      },
      {
        "duration": 12,
        "start_time": "2023-01-12T12:07:40.227Z"
      },
      {
        "duration": 7,
        "start_time": "2023-01-12T12:07:40.241Z"
      },
      {
        "duration": 11,
        "start_time": "2023-01-12T12:07:40.250Z"
      },
      {
        "duration": 14,
        "start_time": "2023-01-12T12:07:40.263Z"
      },
      {
        "duration": 42,
        "start_time": "2023-01-12T12:07:40.279Z"
      },
      {
        "duration": 18,
        "start_time": "2023-01-12T12:07:40.323Z"
      },
      {
        "duration": 11,
        "start_time": "2023-01-12T12:07:40.343Z"
      },
      {
        "duration": 12,
        "start_time": "2023-01-12T12:07:40.356Z"
      },
      {
        "duration": 49,
        "start_time": "2023-01-12T12:07:40.370Z"
      },
      {
        "duration": 19,
        "start_time": "2023-01-12T12:07:40.421Z"
      },
      {
        "duration": 9,
        "start_time": "2023-01-12T12:07:40.442Z"
      },
      {
        "duration": 12,
        "start_time": "2023-01-12T12:07:40.453Z"
      },
      {
        "duration": 23,
        "start_time": "2023-01-12T12:07:40.467Z"
      },
      {
        "duration": 8,
        "start_time": "2023-01-12T12:07:46.387Z"
      },
      {
        "duration": 8,
        "start_time": "2023-01-12T12:08:26.395Z"
      },
      {
        "duration": 1241,
        "start_time": "2023-01-12T12:08:32.484Z"
      },
      {
        "duration": 192,
        "start_time": "2023-01-12T12:08:33.727Z"
      },
      {
        "duration": 21,
        "start_time": "2023-01-12T12:08:33.921Z"
      },
      {
        "duration": 38,
        "start_time": "2023-01-12T12:08:33.945Z"
      },
      {
        "duration": 29,
        "start_time": "2023-01-12T12:08:33.985Z"
      },
      {
        "duration": 79,
        "start_time": "2023-01-12T12:08:34.016Z"
      },
      {
        "duration": 3,
        "start_time": "2023-01-12T12:08:34.097Z"
      },
      {
        "duration": 108,
        "start_time": "2023-01-12T12:08:34.102Z"
      },
      {
        "duration": 31,
        "start_time": "2023-01-12T12:08:34.212Z"
      },
      {
        "duration": 96,
        "start_time": "2023-01-12T12:08:34.250Z"
      },
      {
        "duration": 10,
        "start_time": "2023-01-12T12:08:34.349Z"
      },
      {
        "duration": 37,
        "start_time": "2023-01-12T12:08:34.361Z"
      },
      {
        "duration": 38,
        "start_time": "2023-01-12T12:08:34.401Z"
      },
      {
        "duration": 12,
        "start_time": "2023-01-12T12:08:34.441Z"
      },
      {
        "duration": 28,
        "start_time": "2023-01-12T12:08:34.455Z"
      },
      {
        "duration": 79,
        "start_time": "2023-01-12T12:08:34.485Z"
      },
      {
        "duration": 6,
        "start_time": "2023-01-12T12:08:34.566Z"
      },
      {
        "duration": 25,
        "start_time": "2023-01-12T12:08:34.574Z"
      },
      {
        "duration": 602,
        "start_time": "2023-01-12T12:08:34.601Z"
      },
      {
        "duration": 41,
        "start_time": "2023-01-12T12:08:35.206Z"
      },
      {
        "duration": 32,
        "start_time": "2023-01-12T12:08:35.249Z"
      },
      {
        "duration": 39,
        "start_time": "2023-01-12T12:08:35.282Z"
      },
      {
        "duration": 19,
        "start_time": "2023-01-12T12:08:35.324Z"
      },
      {
        "duration": 12,
        "start_time": "2023-01-12T12:08:35.345Z"
      },
      {
        "duration": 47,
        "start_time": "2023-01-12T12:08:35.359Z"
      },
      {
        "duration": 49,
        "start_time": "2023-01-12T12:08:35.408Z"
      },
      {
        "duration": 63,
        "start_time": "2023-01-12T12:08:35.459Z"
      },
      {
        "duration": 67,
        "start_time": "2023-01-12T12:08:35.526Z"
      },
      {
        "duration": 24,
        "start_time": "2023-01-12T12:08:35.595Z"
      },
      {
        "duration": 39,
        "start_time": "2023-01-12T12:08:35.620Z"
      },
      {
        "duration": 78,
        "start_time": "2023-01-12T12:08:35.661Z"
      },
      {
        "duration": 10,
        "start_time": "2023-01-12T12:08:35.741Z"
      },
      {
        "duration": 24,
        "start_time": "2023-01-12T12:08:35.753Z"
      },
      {
        "duration": 606,
        "start_time": "2023-01-12T12:08:35.779Z"
      },
      {
        "duration": 5,
        "start_time": "2023-01-12T12:08:36.388Z"
      },
      {
        "duration": 77,
        "start_time": "2023-01-12T12:08:36.395Z"
      },
      {
        "duration": 106,
        "start_time": "2023-01-12T12:08:36.474Z"
      },
      {
        "duration": 96,
        "start_time": "2023-01-12T12:08:36.582Z"
      },
      {
        "duration": 39,
        "start_time": "2023-01-12T12:08:36.680Z"
      },
      {
        "duration": 120,
        "start_time": "2023-01-12T12:08:36.721Z"
      },
      {
        "duration": 16,
        "start_time": "2023-01-12T12:08:36.843Z"
      },
      {
        "duration": 8,
        "start_time": "2023-01-12T12:08:36.861Z"
      },
      {
        "duration": 12,
        "start_time": "2023-01-12T12:08:36.871Z"
      },
      {
        "duration": 11,
        "start_time": "2023-01-12T12:08:36.885Z"
      },
      {
        "duration": 13,
        "start_time": "2023-01-12T12:08:36.898Z"
      },
      {
        "duration": 6,
        "start_time": "2023-01-12T12:08:36.937Z"
      },
      {
        "duration": 102,
        "start_time": "2023-01-12T12:08:36.945Z"
      },
      {
        "duration": 5,
        "start_time": "2023-01-12T12:08:37.048Z"
      },
      {
        "duration": 9,
        "start_time": "2023-01-12T12:08:37.055Z"
      },
      {
        "duration": 8,
        "start_time": "2023-01-12T12:08:37.066Z"
      },
      {
        "duration": 10,
        "start_time": "2023-01-12T12:08:37.075Z"
      },
      {
        "duration": 6,
        "start_time": "2023-01-12T12:08:37.087Z"
      },
      {
        "duration": 12,
        "start_time": "2023-01-12T12:08:37.095Z"
      },
      {
        "duration": 30,
        "start_time": "2023-01-12T12:08:37.109Z"
      },
      {
        "duration": 10,
        "start_time": "2023-01-12T12:08:37.141Z"
      },
      {
        "duration": 16,
        "start_time": "2023-01-12T12:08:37.153Z"
      },
      {
        "duration": 61,
        "start_time": "2023-01-12T12:08:37.171Z"
      },
      {
        "duration": 5,
        "start_time": "2023-01-12T12:08:37.234Z"
      },
      {
        "duration": 12,
        "start_time": "2023-01-12T12:08:37.241Z"
      },
      {
        "duration": 9,
        "start_time": "2023-01-12T12:08:37.255Z"
      },
      {
        "duration": 10,
        "start_time": "2023-01-12T12:08:37.267Z"
      },
      {
        "duration": 10,
        "start_time": "2023-01-12T12:08:49.257Z"
      },
      {
        "duration": 1202,
        "start_time": "2023-01-12T12:09:12.816Z"
      },
      {
        "duration": 197,
        "start_time": "2023-01-12T12:09:14.020Z"
      },
      {
        "duration": 25,
        "start_time": "2023-01-12T12:09:14.220Z"
      },
      {
        "duration": 29,
        "start_time": "2023-01-12T12:09:14.248Z"
      },
      {
        "duration": 16,
        "start_time": "2023-01-12T12:09:14.280Z"
      },
      {
        "duration": 97,
        "start_time": "2023-01-12T12:09:14.298Z"
      },
      {
        "duration": 3,
        "start_time": "2023-01-12T12:09:14.397Z"
      },
      {
        "duration": 94,
        "start_time": "2023-01-12T12:09:14.402Z"
      },
      {
        "duration": 26,
        "start_time": "2023-01-12T12:09:14.498Z"
      },
      {
        "duration": 85,
        "start_time": "2023-01-12T12:09:14.527Z"
      },
      {
        "duration": 29,
        "start_time": "2023-01-12T12:09:14.614Z"
      },
      {
        "duration": 61,
        "start_time": "2023-01-12T12:09:14.646Z"
      },
      {
        "duration": 15,
        "start_time": "2023-01-12T12:09:14.708Z"
      },
      {
        "duration": 23,
        "start_time": "2023-01-12T12:09:14.724Z"
      },
      {
        "duration": 20,
        "start_time": "2023-01-12T12:09:14.749Z"
      },
      {
        "duration": 40,
        "start_time": "2023-01-12T12:09:14.771Z"
      },
      {
        "duration": 6,
        "start_time": "2023-01-12T12:09:14.838Z"
      },
      {
        "duration": 11,
        "start_time": "2023-01-12T12:09:14.846Z"
      },
      {
        "duration": 591,
        "start_time": "2023-01-12T12:09:14.858Z"
      },
      {
        "duration": 27,
        "start_time": "2023-01-12T12:09:15.451Z"
      },
      {
        "duration": 24,
        "start_time": "2023-01-12T12:09:15.480Z"
      },
      {
        "duration": 44,
        "start_time": "2023-01-12T12:09:15.506Z"
      },
      {
        "duration": 17,
        "start_time": "2023-01-12T12:09:15.552Z"
      },
      {
        "duration": 12,
        "start_time": "2023-01-12T12:09:15.571Z"
      },
      {
        "duration": 69,
        "start_time": "2023-01-12T12:09:15.585Z"
      },
      {
        "duration": 31,
        "start_time": "2023-01-12T12:09:15.656Z"
      },
      {
        "duration": 124,
        "start_time": "2023-01-12T12:09:15.690Z"
      },
      {
        "duration": 135,
        "start_time": "2023-01-12T12:09:15.819Z"
      },
      {
        "duration": 36,
        "start_time": "2023-01-12T12:09:15.957Z"
      },
      {
        "duration": 24,
        "start_time": "2023-01-12T12:09:15.995Z"
      },
      {
        "duration": 56,
        "start_time": "2023-01-12T12:09:16.037Z"
      },
      {
        "duration": 11,
        "start_time": "2023-01-12T12:09:16.095Z"
      },
      {
        "duration": 6,
        "start_time": "2023-01-12T12:09:16.107Z"
      },
      {
        "duration": 8,
        "start_time": "2023-01-12T12:09:16.137Z"
      },
      {
        "duration": 581,
        "start_time": "2023-01-12T12:09:16.147Z"
      },
      {
        "duration": 6,
        "start_time": "2023-01-12T12:09:16.731Z"
      },
      {
        "duration": 100,
        "start_time": "2023-01-12T12:09:16.738Z"
      },
      {
        "duration": 98,
        "start_time": "2023-01-12T12:09:16.841Z"
      },
      {
        "duration": 74,
        "start_time": "2023-01-12T12:09:16.941Z"
      },
      {
        "duration": 53,
        "start_time": "2023-01-12T12:09:17.017Z"
      },
      {
        "duration": 119,
        "start_time": "2023-01-12T12:09:17.073Z"
      },
      {
        "duration": 14,
        "start_time": "2023-01-12T12:09:17.193Z"
      },
      {
        "duration": 7,
        "start_time": "2023-01-12T12:09:17.209Z"
      },
      {
        "duration": 28,
        "start_time": "2023-01-12T12:09:17.219Z"
      },
      {
        "duration": 7,
        "start_time": "2023-01-12T12:09:17.250Z"
      },
      {
        "duration": 10,
        "start_time": "2023-01-12T12:09:17.259Z"
      },
      {
        "duration": 7,
        "start_time": "2023-01-12T12:09:17.270Z"
      },
      {
        "duration": 108,
        "start_time": "2023-01-12T12:09:17.278Z"
      },
      {
        "duration": 5,
        "start_time": "2023-01-12T12:09:17.388Z"
      },
      {
        "duration": 15,
        "start_time": "2023-01-12T12:09:17.394Z"
      },
      {
        "duration": 12,
        "start_time": "2023-01-12T12:09:17.411Z"
      },
      {
        "duration": 24,
        "start_time": "2023-01-12T12:09:17.425Z"
      },
      {
        "duration": 13,
        "start_time": "2023-01-12T12:09:17.451Z"
      },
      {
        "duration": 13,
        "start_time": "2023-01-12T12:09:17.466Z"
      },
      {
        "duration": 8,
        "start_time": "2023-01-12T12:09:17.481Z"
      },
      {
        "duration": 8,
        "start_time": "2023-01-12T12:09:17.491Z"
      },
      {
        "duration": 10,
        "start_time": "2023-01-12T12:09:17.501Z"
      },
      {
        "duration": 68,
        "start_time": "2023-01-12T12:09:17.513Z"
      },
      {
        "duration": 7,
        "start_time": "2023-01-12T12:09:17.583Z"
      },
      {
        "duration": 9,
        "start_time": "2023-01-12T12:09:17.592Z"
      },
      {
        "duration": 9,
        "start_time": "2023-01-12T12:09:17.602Z"
      },
      {
        "duration": 11,
        "start_time": "2023-01-12T12:09:17.612Z"
      },
      {
        "duration": 10,
        "start_time": "2023-01-12T12:09:22.617Z"
      },
      {
        "duration": 160,
        "start_time": "2023-01-12T12:10:05.989Z"
      },
      {
        "duration": 12,
        "start_time": "2023-01-12T12:10:22.744Z"
      },
      {
        "duration": 21,
        "start_time": "2023-01-12T12:11:25.771Z"
      },
      {
        "duration": 51,
        "start_time": "2023-01-12T12:11:39.607Z"
      },
      {
        "duration": 95,
        "start_time": "2023-01-12T12:12:21.447Z"
      },
      {
        "duration": 16,
        "start_time": "2023-01-12T12:13:17.432Z"
      },
      {
        "duration": 1108,
        "start_time": "2023-01-12T12:14:37.374Z"
      },
      {
        "duration": 1182,
        "start_time": "2023-01-12T12:14:51.325Z"
      },
      {
        "duration": 9,
        "start_time": "2023-01-12T12:15:02.991Z"
      },
      {
        "duration": 10,
        "start_time": "2023-01-12T12:15:26.869Z"
      },
      {
        "duration": 10,
        "start_time": "2023-01-12T12:15:30.572Z"
      },
      {
        "duration": 12,
        "start_time": "2023-01-12T12:16:24.518Z"
      },
      {
        "duration": 18,
        "start_time": "2023-01-12T12:16:35.075Z"
      },
      {
        "duration": 9,
        "start_time": "2023-01-12T12:16:49.756Z"
      },
      {
        "duration": 10,
        "start_time": "2023-01-12T12:19:21.402Z"
      },
      {
        "duration": 1377,
        "start_time": "2023-01-12T12:20:02.145Z"
      },
      {
        "duration": 170,
        "start_time": "2023-01-12T12:20:03.523Z"
      },
      {
        "duration": 15,
        "start_time": "2023-01-12T12:20:03.695Z"
      },
      {
        "duration": 33,
        "start_time": "2023-01-12T12:20:03.712Z"
      },
      {
        "duration": 17,
        "start_time": "2023-01-12T12:20:03.747Z"
      },
      {
        "duration": 87,
        "start_time": "2023-01-12T12:20:03.766Z"
      },
      {
        "duration": 4,
        "start_time": "2023-01-12T12:20:03.856Z"
      },
      {
        "duration": 109,
        "start_time": "2023-01-12T12:20:03.861Z"
      },
      {
        "duration": 26,
        "start_time": "2023-01-12T12:20:03.972Z"
      },
      {
        "duration": 85,
        "start_time": "2023-01-12T12:20:04.000Z"
      },
      {
        "duration": 10,
        "start_time": "2023-01-12T12:20:04.087Z"
      },
      {
        "duration": 52,
        "start_time": "2023-01-12T12:20:04.099Z"
      },
      {
        "duration": 16,
        "start_time": "2023-01-12T12:20:04.153Z"
      },
      {
        "duration": 28,
        "start_time": "2023-01-12T12:20:04.171Z"
      },
      {
        "duration": 40,
        "start_time": "2023-01-12T12:20:04.201Z"
      },
      {
        "duration": 49,
        "start_time": "2023-01-12T12:20:04.243Z"
      },
      {
        "duration": 6,
        "start_time": "2023-01-12T12:20:04.294Z"
      },
      {
        "duration": 10,
        "start_time": "2023-01-12T12:20:04.302Z"
      },
      {
        "duration": 619,
        "start_time": "2023-01-12T12:20:04.313Z"
      },
      {
        "duration": 27,
        "start_time": "2023-01-12T12:20:04.938Z"
      },
      {
        "duration": 25,
        "start_time": "2023-01-12T12:20:04.967Z"
      },
      {
        "duration": 51,
        "start_time": "2023-01-12T12:20:04.994Z"
      },
      {
        "duration": 15,
        "start_time": "2023-01-12T12:20:05.047Z"
      },
      {
        "duration": 13,
        "start_time": "2023-01-12T12:20:05.064Z"
      },
      {
        "duration": 38,
        "start_time": "2023-01-12T12:20:05.079Z"
      },
      {
        "duration": 25,
        "start_time": "2023-01-12T12:20:05.139Z"
      },
      {
        "duration": 72,
        "start_time": "2023-01-12T12:20:05.166Z"
      },
      {
        "duration": 61,
        "start_time": "2023-01-12T12:20:05.242Z"
      },
      {
        "duration": 41,
        "start_time": "2023-01-12T12:20:05.305Z"
      },
      {
        "duration": 27,
        "start_time": "2023-01-12T12:20:05.348Z"
      },
      {
        "duration": 66,
        "start_time": "2023-01-12T12:20:05.378Z"
      },
      {
        "duration": 9,
        "start_time": "2023-01-12T12:20:05.446Z"
      },
      {
        "duration": 19,
        "start_time": "2023-01-12T12:20:05.457Z"
      },
      {
        "duration": 22,
        "start_time": "2023-01-12T12:20:05.478Z"
      },
      {
        "duration": 212,
        "start_time": "2023-01-12T12:20:05.502Z"
      },
      {
        "duration": 4,
        "start_time": "2023-01-12T12:20:05.716Z"
      },
      {
        "duration": 44,
        "start_time": "2023-01-12T12:20:05.721Z"
      },
      {
        "duration": 103,
        "start_time": "2023-01-12T12:20:05.768Z"
      },
      {
        "duration": 103,
        "start_time": "2023-01-12T12:20:05.872Z"
      },
      {
        "duration": 39,
        "start_time": "2023-01-12T12:20:05.977Z"
      },
      {
        "duration": 106,
        "start_time": "2023-01-12T12:20:06.018Z"
      },
      {
        "duration": 23,
        "start_time": "2023-01-12T12:20:06.126Z"
      },
      {
        "duration": 8,
        "start_time": "2023-01-12T12:20:06.151Z"
      },
      {
        "duration": 21,
        "start_time": "2023-01-12T12:20:06.160Z"
      },
      {
        "duration": 10,
        "start_time": "2023-01-12T12:20:06.182Z"
      },
      {
        "duration": 9,
        "start_time": "2023-01-12T12:20:06.194Z"
      },
      {
        "duration": 10,
        "start_time": "2023-01-12T12:20:06.205Z"
      },
      {
        "duration": 103,
        "start_time": "2023-01-12T12:20:06.217Z"
      },
      {
        "duration": 5,
        "start_time": "2023-01-12T12:20:06.321Z"
      },
      {
        "duration": 6,
        "start_time": "2023-01-12T12:20:06.338Z"
      },
      {
        "duration": 19,
        "start_time": "2023-01-12T12:20:06.346Z"
      },
      {
        "duration": 10,
        "start_time": "2023-01-12T12:20:06.367Z"
      },
      {
        "duration": 10,
        "start_time": "2023-01-12T12:20:06.378Z"
      },
      {
        "duration": 9,
        "start_time": "2023-01-12T12:20:06.390Z"
      },
      {
        "duration": 15,
        "start_time": "2023-01-12T12:20:06.401Z"
      },
      {
        "duration": 21,
        "start_time": "2023-01-12T12:20:06.418Z"
      },
      {
        "duration": 12,
        "start_time": "2023-01-12T12:20:06.441Z"
      },
      {
        "duration": 45,
        "start_time": "2023-01-12T12:20:06.454Z"
      },
      {
        "duration": 5,
        "start_time": "2023-01-12T12:20:06.501Z"
      },
      {
        "duration": 32,
        "start_time": "2023-01-12T12:20:06.507Z"
      },
      {
        "duration": 10,
        "start_time": "2023-01-12T12:20:06.541Z"
      },
      {
        "duration": 11,
        "start_time": "2023-01-12T12:20:06.553Z"
      },
      {
        "duration": 1274,
        "start_time": "2023-01-12T12:23:03.643Z"
      },
      {
        "duration": 187,
        "start_time": "2023-01-12T12:23:04.921Z"
      },
      {
        "duration": 26,
        "start_time": "2023-01-12T12:23:05.111Z"
      },
      {
        "duration": 36,
        "start_time": "2023-01-12T12:23:05.140Z"
      },
      {
        "duration": 18,
        "start_time": "2023-01-12T12:23:05.179Z"
      },
      {
        "duration": 102,
        "start_time": "2023-01-12T12:23:05.199Z"
      },
      {
        "duration": 3,
        "start_time": "2023-01-12T12:23:05.303Z"
      },
      {
        "duration": 99,
        "start_time": "2023-01-12T12:23:05.308Z"
      },
      {
        "duration": 44,
        "start_time": "2023-01-12T12:23:05.411Z"
      },
      {
        "duration": 112,
        "start_time": "2023-01-12T12:23:05.458Z"
      },
      {
        "duration": 12,
        "start_time": "2023-01-12T12:23:05.572Z"
      },
      {
        "duration": 72,
        "start_time": "2023-01-12T12:23:05.586Z"
      },
      {
        "duration": 15,
        "start_time": "2023-01-12T12:23:05.661Z"
      },
      {
        "duration": 28,
        "start_time": "2023-01-12T12:23:05.678Z"
      },
      {
        "duration": 39,
        "start_time": "2023-01-12T12:23:05.708Z"
      },
      {
        "duration": 67,
        "start_time": "2023-01-12T12:23:05.749Z"
      },
      {
        "duration": 6,
        "start_time": "2023-01-12T12:23:05.818Z"
      },
      {
        "duration": 14,
        "start_time": "2023-01-12T12:23:05.840Z"
      },
      {
        "duration": 807,
        "start_time": "2023-01-12T12:23:05.857Z"
      },
      {
        "duration": 30,
        "start_time": "2023-01-12T12:23:06.666Z"
      },
      {
        "duration": 42,
        "start_time": "2023-01-12T12:23:06.698Z"
      },
      {
        "duration": 37,
        "start_time": "2023-01-12T12:23:06.742Z"
      },
      {
        "duration": 22,
        "start_time": "2023-01-12T12:23:06.781Z"
      },
      {
        "duration": 36,
        "start_time": "2023-01-12T12:23:06.805Z"
      },
      {
        "duration": 51,
        "start_time": "2023-01-12T12:23:06.844Z"
      },
      {
        "duration": 62,
        "start_time": "2023-01-12T12:23:06.897Z"
      },
      {
        "duration": 60,
        "start_time": "2023-01-12T12:23:06.964Z"
      },
      {
        "duration": 80,
        "start_time": "2023-01-12T12:23:07.037Z"
      },
      {
        "duration": 50,
        "start_time": "2023-01-12T12:23:07.120Z"
      },
      {
        "duration": 37,
        "start_time": "2023-01-12T12:23:07.172Z"
      },
      {
        "duration": 99,
        "start_time": "2023-01-12T12:23:07.212Z"
      },
      {
        "duration": 26,
        "start_time": "2023-01-12T12:23:07.314Z"
      },
      {
        "duration": 12,
        "start_time": "2023-01-12T12:23:07.343Z"
      },
      {
        "duration": 30,
        "start_time": "2023-01-12T12:23:07.357Z"
      },
      {
        "duration": 230,
        "start_time": "2023-01-12T12:23:07.390Z"
      },
      {
        "duration": 5,
        "start_time": "2023-01-12T12:23:07.623Z"
      },
      {
        "duration": 133,
        "start_time": "2023-01-12T12:23:07.633Z"
      },
      {
        "duration": 126,
        "start_time": "2023-01-12T12:23:07.769Z"
      },
      {
        "duration": 98,
        "start_time": "2023-01-12T12:23:07.897Z"
      },
      {
        "duration": 65,
        "start_time": "2023-01-12T12:23:07.997Z"
      },
      {
        "duration": 144,
        "start_time": "2023-01-12T12:23:08.064Z"
      },
      {
        "duration": 26,
        "start_time": "2023-01-12T12:23:08.211Z"
      },
      {
        "duration": 17,
        "start_time": "2023-01-12T12:23:08.240Z"
      },
      {
        "duration": 23,
        "start_time": "2023-01-12T12:23:08.260Z"
      },
      {
        "duration": 16,
        "start_time": "2023-01-12T12:23:08.285Z"
      },
      {
        "duration": 37,
        "start_time": "2023-01-12T12:23:08.303Z"
      },
      {
        "duration": 25,
        "start_time": "2023-01-12T12:23:08.342Z"
      },
      {
        "duration": 143,
        "start_time": "2023-01-12T12:23:08.369Z"
      },
      {
        "duration": 6,
        "start_time": "2023-01-12T12:23:08.514Z"
      },
      {
        "duration": 7,
        "start_time": "2023-01-12T12:23:08.539Z"
      },
      {
        "duration": 14,
        "start_time": "2023-01-12T12:23:08.548Z"
      },
      {
        "duration": 7,
        "start_time": "2023-01-12T12:23:08.564Z"
      },
      {
        "duration": 16,
        "start_time": "2023-01-12T12:23:08.573Z"
      },
      {
        "duration": 10,
        "start_time": "2023-01-12T12:23:08.591Z"
      },
      {
        "duration": 19,
        "start_time": "2023-01-12T12:23:08.604Z"
      },
      {
        "duration": 16,
        "start_time": "2023-01-12T12:23:08.625Z"
      },
      {
        "duration": 22,
        "start_time": "2023-01-12T12:23:08.643Z"
      },
      {
        "duration": 57,
        "start_time": "2023-01-12T12:23:08.666Z"
      },
      {
        "duration": 14,
        "start_time": "2023-01-12T12:23:08.725Z"
      },
      {
        "duration": 18,
        "start_time": "2023-01-12T12:23:08.741Z"
      },
      {
        "duration": 11,
        "start_time": "2023-01-12T12:23:08.761Z"
      },
      {
        "duration": 14,
        "start_time": "2023-01-12T12:23:08.774Z"
      },
      {
        "duration": 1250,
        "start_time": "2023-01-13T08:44:25.403Z"
      },
      {
        "duration": 516,
        "start_time": "2023-01-13T08:44:26.660Z"
      },
      {
        "duration": 14,
        "start_time": "2023-01-13T08:44:27.178Z"
      },
      {
        "duration": 53,
        "start_time": "2023-01-13T08:44:27.194Z"
      },
      {
        "duration": 15,
        "start_time": "2023-01-13T08:44:27.249Z"
      },
      {
        "duration": 103,
        "start_time": "2023-01-13T08:44:27.265Z"
      },
      {
        "duration": 3,
        "start_time": "2023-01-13T08:44:27.370Z"
      },
      {
        "duration": 102,
        "start_time": "2023-01-13T08:44:27.375Z"
      },
      {
        "duration": 26,
        "start_time": "2023-01-13T08:44:27.479Z"
      },
      {
        "duration": 99,
        "start_time": "2023-01-13T08:44:27.507Z"
      },
      {
        "duration": 32,
        "start_time": "2023-01-13T08:44:27.608Z"
      },
      {
        "duration": 56,
        "start_time": "2023-01-13T08:44:27.642Z"
      },
      {
        "duration": 14,
        "start_time": "2023-01-13T08:44:27.700Z"
      },
      {
        "duration": 35,
        "start_time": "2023-01-13T08:44:27.718Z"
      },
      {
        "duration": 29,
        "start_time": "2023-01-13T08:44:27.755Z"
      },
      {
        "duration": 67,
        "start_time": "2023-01-13T08:44:27.786Z"
      },
      {
        "duration": 7,
        "start_time": "2023-01-13T08:44:27.855Z"
      },
      {
        "duration": 34,
        "start_time": "2023-01-13T08:44:27.864Z"
      },
      {
        "duration": 638,
        "start_time": "2023-01-13T08:44:27.900Z"
      },
      {
        "duration": 26,
        "start_time": "2023-01-13T08:44:28.540Z"
      },
      {
        "duration": 21,
        "start_time": "2023-01-13T08:44:28.577Z"
      },
      {
        "duration": 38,
        "start_time": "2023-01-13T08:44:28.603Z"
      },
      {
        "duration": 20,
        "start_time": "2023-01-13T08:44:28.643Z"
      },
      {
        "duration": 22,
        "start_time": "2023-01-13T08:44:28.665Z"
      },
      {
        "duration": 38,
        "start_time": "2023-01-13T08:44:28.689Z"
      },
      {
        "duration": 22,
        "start_time": "2023-01-13T08:44:28.729Z"
      },
      {
        "duration": 77,
        "start_time": "2023-01-13T08:44:28.752Z"
      },
      {
        "duration": 99,
        "start_time": "2023-01-13T08:44:28.831Z"
      },
      {
        "duration": 29,
        "start_time": "2023-01-13T08:44:28.933Z"
      },
      {
        "duration": 28,
        "start_time": "2023-01-13T08:44:28.978Z"
      },
      {
        "duration": 71,
        "start_time": "2023-01-13T08:44:29.008Z"
      },
      {
        "duration": 11,
        "start_time": "2023-01-13T08:44:29.081Z"
      },
      {
        "duration": 7,
        "start_time": "2023-01-13T08:44:29.094Z"
      },
      {
        "duration": 17,
        "start_time": "2023-01-13T08:44:29.103Z"
      },
      {
        "duration": 231,
        "start_time": "2023-01-13T08:44:29.121Z"
      },
      {
        "duration": 4,
        "start_time": "2023-01-13T08:44:29.354Z"
      },
      {
        "duration": 56,
        "start_time": "2023-01-13T08:44:29.360Z"
      },
      {
        "duration": 101,
        "start_time": "2023-01-13T08:44:29.418Z"
      },
      {
        "duration": 77,
        "start_time": "2023-01-13T08:44:29.521Z"
      },
      {
        "duration": 37,
        "start_time": "2023-01-13T08:44:29.600Z"
      },
      {
        "duration": 106,
        "start_time": "2023-01-13T08:44:29.642Z"
      },
      {
        "duration": 27,
        "start_time": "2023-01-13T08:44:29.750Z"
      },
      {
        "duration": 7,
        "start_time": "2023-01-13T08:44:29.780Z"
      },
      {
        "duration": 29,
        "start_time": "2023-01-13T08:44:29.789Z"
      },
      {
        "duration": 13,
        "start_time": "2023-01-13T08:44:29.820Z"
      },
      {
        "duration": 14,
        "start_time": "2023-01-13T08:44:29.835Z"
      },
      {
        "duration": 14,
        "start_time": "2023-01-13T08:44:29.851Z"
      },
      {
        "duration": 110,
        "start_time": "2023-01-13T08:44:29.866Z"
      },
      {
        "duration": 6,
        "start_time": "2023-01-13T08:44:29.978Z"
      },
      {
        "duration": 13,
        "start_time": "2023-01-13T08:44:29.986Z"
      },
      {
        "duration": 69,
        "start_time": "2023-01-13T08:44:30.001Z"
      },
      {
        "duration": 27,
        "start_time": "2023-01-13T08:44:30.072Z"
      },
      {
        "duration": 22,
        "start_time": "2023-01-13T08:44:30.101Z"
      },
      {
        "duration": 14,
        "start_time": "2023-01-13T08:44:30.126Z"
      },
      {
        "duration": 12,
        "start_time": "2023-01-13T08:44:30.143Z"
      },
      {
        "duration": 22,
        "start_time": "2023-01-13T08:44:30.157Z"
      },
      {
        "duration": 35,
        "start_time": "2023-01-13T08:44:30.181Z"
      },
      {
        "duration": 66,
        "start_time": "2023-01-13T08:44:30.218Z"
      },
      {
        "duration": 7,
        "start_time": "2023-01-13T08:44:30.286Z"
      },
      {
        "duration": 15,
        "start_time": "2023-01-13T08:44:30.295Z"
      },
      {
        "duration": 26,
        "start_time": "2023-01-13T08:44:30.312Z"
      },
      {
        "duration": 24,
        "start_time": "2023-01-13T08:44:30.340Z"
      }
    ],
    "colab": {
      "provenance": []
    },
    "kernelspec": {
      "display_name": "Python 3 (ipykernel)",
      "language": "python",
      "name": "python3"
    },
    "language_info": {
      "codemirror_mode": {
        "name": "ipython",
        "version": 3
      },
      "file_extension": ".py",
      "mimetype": "text/x-python",
      "name": "python",
      "nbconvert_exporter": "python",
      "pygments_lexer": "ipython3",
      "version": "3.9.5"
    },
    "toc": {
      "base_numbering": 1,
      "nav_menu": {},
      "number_sections": true,
      "sideBar": true,
      "skip_h1_title": true,
      "title_cell": "Table of Contents",
      "title_sidebar": "Contents",
      "toc_cell": false,
      "toc_position": {
        "height": "calc(100% - 180px)",
        "left": "10px",
        "top": "150px",
        "width": "165px"
      },
      "toc_section_display": true,
      "toc_window_display": true
    }
  },
  "nbformat": 4,
  "nbformat_minor": 0
}
