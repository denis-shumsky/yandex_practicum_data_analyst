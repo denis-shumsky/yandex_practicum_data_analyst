{
  "cells": [
    {
      "cell_type": "markdown",
      "metadata": {
        "id": "05JakYAFn6hS"
      },
      "source": [
        "# Самостоятельный проект по курсу \"Принятие решений в бизнесе\"\n",
        "\n",
        "\n",
        "<b> Описание проекта: </b>\n",
        "\n",
        "На основании предоставленного списка гипотез для увеличения выручки интернет-магазина необходимо приоритизировать гипотезы, запустить A/B-тест и проанализировать результаты.\n",
        "\n",
        "<b> Часть 1. Приоритизация гипотез. </b>\n",
        "\n",
        "В файле /datasets/hypothesis.csv 9 гипотез по увеличению выручки интернет-магазина с указанными параметрами Reach, Impact, Confidence, Effort. Необходимо приоритизировать гипотезы.\n",
        "\n",
        "<b> Задача: </b>\n",
        "- Примените фреймворк ICE для приоритизации гипотез. Отсортируйте их по убыванию приоритета.\n",
        "- Примените фреймворк RICE для приоритизации гипотез. Отсортируйте их по убыванию приоритета.\n",
        "- Укажите, как изменилась приоритизация гипотез при применении RICE вместо ICE. Объясните, почему так произошло.\n",
        "\n",
        "<b> Описание данных: </b>\n",
        "\n",
        "Файл /datasets/hypothesis.csv:\n",
        "- Hypothesis — краткое описание гипотезы;\n",
        "- Reach — охват пользователей по 10-балльной шкале;\n",
        "- Impact — влияние на пользователей по 10-балльной шкале;\n",
        "- Confidence — уверенность в гипотезе по 10-балльной шкале;\n",
        "- Efforts — затраты ресурсов на проверку гипотезы по 10-балльной шкале. Чем больше значение Efforts, тем дороже проверка гипотезы.\n",
        "\n",
        "\n",
        "<b> Часть 2. Анализ A/B-теста. </b>\n",
        "\n",
        "В файлах /datasets/orders.csv и /datasets/visitors.csv результаты проведённых A/B-тест. Необходимо проанализировать данные результаты.\n",
        "\n",
        "<b> Задача: </b>\n",
        "- Постройте график кумулятивной выручки по группам. Сделайте выводы и предположения.\n",
        "- Постройте график кумулятивного среднего чека по группам. Сделайте выводы и предположения.\n",
        "- Постройте график относительного изменения кумулятивного среднего чека группы B к группе A. Сделайте выводы и предположения.\n",
        "- Постройте график кумулятивного среднего количества заказов на посетителя по группам. Сделайте выводы и предположения.\n",
        "- Постройте график относительного изменения кумулятивного среднего количества заказов на посетителя группы B к группе A. Сделайте выводы и предположения.\n",
        "- Постройте точечный график количества заказов по пользователям. Сделайте выводы и предположения.\n",
        "- Посчитайте 95-й и 99-й перцентили количества заказов на пользователя. Выберите границу для определения аномальных пользователей.\n",
        "- Постройте точечный график стоимостей заказов. Сделайте выводы и предположения.\n",
        "- Посчитайте 95-й и 99-й перцентили стоимости заказов. Выберите границу для определения аномальных заказов.\n",
        "- Посчитайте статистическую значимость различий в среднем количестве заказов на посетителя между группами по «сырым» данным. Сделайте выводы и предположения.\n",
        "- Посчитайте статистическую значимость различий в среднем чеке заказа между группами по «сырым» данным. Сделайте выводы и предположения.\n",
        "- Посчитайте статистическую значимость различий в среднем количестве заказов на посетителя между группами по «очищенным» данным. Сделайте выводы и предположения.\n",
        "- Посчитайте статистическую значимость различий в среднем чеке заказа между группами по «очищенным» данным. Сделайте выводы и предположения.\n",
        "- Примите решение по результатам теста и объясните его. Варианты решений: 1. Остановить тест, зафиксировать победу одной из групп. 2. Остановить тест, зафиксировать отсутствие различий между группами. 3. Продолжить тест.\n",
        "\n",
        "<b> Описание данных: </b>\n",
        "\n",
        "Файл /datasets/orders.csv. \n",
        "- transactionId — идентификатор заказа;\n",
        "- visitorId — идентификатор пользователя, совершившего заказ;\n",
        "- date — дата, когда был совершён заказ;\n",
        "- revenue — выручка заказа;\n",
        "- group — группа A/B-теста, в которую попал заказ.\n",
        "\n",
        "Файл /datasets/visitors.csv. \n",
        "- date — дата;\n",
        "- group — группа A/B-теста;\n",
        "- visitors — количество пользователей в указанную дату в указанной группе A/B-теста\n",
        "\n"
      ]
    },
    {
      "cell_type": "markdown",
      "metadata": {
        "id": "2U64nqoRn6hW"
      },
      "source": [
        "## Приоритизация гипотез.\n",
        "\n",
        "В файле /datasets/hypothesis.csv 9 гипотез по увеличению выручки интернет-магазина с указанными параметрами Reach, Impact, Confidence, Effort. Необходимо приоритизировать гипотезы."
      ]
    },
    {
      "cell_type": "markdown",
      "metadata": {
        "id": "-dGqihO1n6hW"
      },
      "source": [
        "### Предобработка данных.\n",
        "\n",
        "Для начала ознакомимся с файлом /datasets/hypothesis.csv и подготовим данные к анализу."
      ]
    },
    {
      "cell_type": "code",
      "execution_count": null,
      "metadata": {
        "id": "lV6sYCkLn6hX"
      },
      "outputs": [],
      "source": [
        "import pandas as pd\n",
        "import datetime as dt\n",
        "import numpy as np\n",
        "import matplotlib.pyplot as plt\n",
        "from scipy import stats as st"
      ]
    },
    {
      "cell_type": "code",
      "execution_count": null,
      "metadata": {
        "colab": {
          "base_uri": "https://localhost:8080/",
          "height": 331
        },
        "id": "f_asu0AWn6hZ",
        "outputId": "0e52c4f6-c422-4ca0-9f54-198dcfce52c1"
      },
      "outputs": [
        {
          "data": {
            "text/html": [
              "\n",
              "  <div id=\"df-e6332415-f93f-454f-9b65-c82693d23e3e\">\n",
              "    <div class=\"colab-df-container\">\n",
              "      <div>\n",
              "<style scoped>\n",
              "    .dataframe tbody tr th:only-of-type {\n",
              "        vertical-align: middle;\n",
              "    }\n",
              "\n",
              "    .dataframe tbody tr th {\n",
              "        vertical-align: top;\n",
              "    }\n",
              "\n",
              "    .dataframe thead th {\n",
              "        text-align: right;\n",
              "    }\n",
              "</style>\n",
              "<table border=\"1\" class=\"dataframe\">\n",
              "  <thead>\n",
              "    <tr style=\"text-align: right;\">\n",
              "      <th></th>\n",
              "      <th>Hypothesis</th>\n",
              "      <th>Reach</th>\n",
              "      <th>Impact</th>\n",
              "      <th>Confidence</th>\n",
              "      <th>Efforts</th>\n",
              "    </tr>\n",
              "  </thead>\n",
              "  <tbody>\n",
              "    <tr>\n",
              "      <th>0</th>\n",
              "      <td>Добавить два новых канала привлечения трафика,...</td>\n",
              "      <td>3</td>\n",
              "      <td>10</td>\n",
              "      <td>8</td>\n",
              "      <td>6</td>\n",
              "    </tr>\n",
              "    <tr>\n",
              "      <th>1</th>\n",
              "      <td>Запустить собственную службу доставки, что сок...</td>\n",
              "      <td>2</td>\n",
              "      <td>5</td>\n",
              "      <td>4</td>\n",
              "      <td>10</td>\n",
              "    </tr>\n",
              "    <tr>\n",
              "      <th>2</th>\n",
              "      <td>Добавить блоки рекомендаций товаров на сайт ин...</td>\n",
              "      <td>8</td>\n",
              "      <td>3</td>\n",
              "      <td>7</td>\n",
              "      <td>3</td>\n",
              "    </tr>\n",
              "    <tr>\n",
              "      <th>3</th>\n",
              "      <td>Изменить структура категорий, что увеличит кон...</td>\n",
              "      <td>8</td>\n",
              "      <td>3</td>\n",
              "      <td>3</td>\n",
              "      <td>8</td>\n",
              "    </tr>\n",
              "    <tr>\n",
              "      <th>4</th>\n",
              "      <td>Изменить цвет фона главной страницы, чтобы уве...</td>\n",
              "      <td>3</td>\n",
              "      <td>1</td>\n",
              "      <td>1</td>\n",
              "      <td>1</td>\n",
              "    </tr>\n",
              "    <tr>\n",
              "      <th>5</th>\n",
              "      <td>Добавить страницу отзывов клиентов о магазине,...</td>\n",
              "      <td>3</td>\n",
              "      <td>2</td>\n",
              "      <td>2</td>\n",
              "      <td>3</td>\n",
              "    </tr>\n",
              "    <tr>\n",
              "      <th>6</th>\n",
              "      <td>Показать на главной странице баннеры с актуаль...</td>\n",
              "      <td>5</td>\n",
              "      <td>3</td>\n",
              "      <td>8</td>\n",
              "      <td>3</td>\n",
              "    </tr>\n",
              "    <tr>\n",
              "      <th>7</th>\n",
              "      <td>Добавить форму подписки на все основные страни...</td>\n",
              "      <td>10</td>\n",
              "      <td>7</td>\n",
              "      <td>8</td>\n",
              "      <td>5</td>\n",
              "    </tr>\n",
              "    <tr>\n",
              "      <th>8</th>\n",
              "      <td>Запустить акцию, дающую скидку на товар в день...</td>\n",
              "      <td>1</td>\n",
              "      <td>9</td>\n",
              "      <td>9</td>\n",
              "      <td>5</td>\n",
              "    </tr>\n",
              "  </tbody>\n",
              "</table>\n",
              "</div>\n",
              "      <button class=\"colab-df-convert\" onclick=\"convertToInteractive('df-e6332415-f93f-454f-9b65-c82693d23e3e')\"\n",
              "              title=\"Convert this dataframe to an interactive table.\"\n",
              "              style=\"display:none;\">\n",
              "        \n",
              "  <svg xmlns=\"http://www.w3.org/2000/svg\" height=\"24px\"viewBox=\"0 0 24 24\"\n",
              "       width=\"24px\">\n",
              "    <path d=\"M0 0h24v24H0V0z\" fill=\"none\"/>\n",
              "    <path d=\"M18.56 5.44l.94 2.06.94-2.06 2.06-.94-2.06-.94-.94-2.06-.94 2.06-2.06.94zm-11 1L8.5 8.5l.94-2.06 2.06-.94-2.06-.94L8.5 2.5l-.94 2.06-2.06.94zm10 10l.94 2.06.94-2.06 2.06-.94-2.06-.94-.94-2.06-.94 2.06-2.06.94z\"/><path d=\"M17.41 7.96l-1.37-1.37c-.4-.4-.92-.59-1.43-.59-.52 0-1.04.2-1.43.59L10.3 9.45l-7.72 7.72c-.78.78-.78 2.05 0 2.83L4 21.41c.39.39.9.59 1.41.59.51 0 1.02-.2 1.41-.59l7.78-7.78 2.81-2.81c.8-.78.8-2.07 0-2.86zM5.41 20L4 18.59l7.72-7.72 1.47 1.35L5.41 20z\"/>\n",
              "  </svg>\n",
              "      </button>\n",
              "      \n",
              "  <style>\n",
              "    .colab-df-container {\n",
              "      display:flex;\n",
              "      flex-wrap:wrap;\n",
              "      gap: 12px;\n",
              "    }\n",
              "\n",
              "    .colab-df-convert {\n",
              "      background-color: #E8F0FE;\n",
              "      border: none;\n",
              "      border-radius: 50%;\n",
              "      cursor: pointer;\n",
              "      display: none;\n",
              "      fill: #1967D2;\n",
              "      height: 32px;\n",
              "      padding: 0 0 0 0;\n",
              "      width: 32px;\n",
              "    }\n",
              "\n",
              "    .colab-df-convert:hover {\n",
              "      background-color: #E2EBFA;\n",
              "      box-shadow: 0px 1px 2px rgba(60, 64, 67, 0.3), 0px 1px 3px 1px rgba(60, 64, 67, 0.15);\n",
              "      fill: #174EA6;\n",
              "    }\n",
              "\n",
              "    [theme=dark] .colab-df-convert {\n",
              "      background-color: #3B4455;\n",
              "      fill: #D2E3FC;\n",
              "    }\n",
              "\n",
              "    [theme=dark] .colab-df-convert:hover {\n",
              "      background-color: #434B5C;\n",
              "      box-shadow: 0px 1px 3px 1px rgba(0, 0, 0, 0.15);\n",
              "      filter: drop-shadow(0px 1px 2px rgba(0, 0, 0, 0.3));\n",
              "      fill: #FFFFFF;\n",
              "    }\n",
              "  </style>\n",
              "\n",
              "      <script>\n",
              "        const buttonEl =\n",
              "          document.querySelector('#df-e6332415-f93f-454f-9b65-c82693d23e3e button.colab-df-convert');\n",
              "        buttonEl.style.display =\n",
              "          google.colab.kernel.accessAllowed ? 'block' : 'none';\n",
              "\n",
              "        async function convertToInteractive(key) {\n",
              "          const element = document.querySelector('#df-e6332415-f93f-454f-9b65-c82693d23e3e');\n",
              "          const dataTable =\n",
              "            await google.colab.kernel.invokeFunction('convertToInteractive',\n",
              "                                                     [key], {});\n",
              "          if (!dataTable) return;\n",
              "\n",
              "          const docLinkHtml = 'Like what you see? Visit the ' +\n",
              "            '<a target=\"_blank\" href=https://colab.research.google.com/notebooks/data_table.ipynb>data table notebook</a>'\n",
              "            + ' to learn more about interactive tables.';\n",
              "          element.innerHTML = '';\n",
              "          dataTable['output_type'] = 'display_data';\n",
              "          await google.colab.output.renderOutput(dataTable, element);\n",
              "          const docLink = document.createElement('div');\n",
              "          docLink.innerHTML = docLinkHtml;\n",
              "          element.appendChild(docLink);\n",
              "        }\n",
              "      </script>\n",
              "    </div>\n",
              "  </div>\n",
              "  "
            ],
            "text/plain": [
              "                                          Hypothesis  Reach  Impact  \\\n",
              "0  Добавить два новых канала привлечения трафика,...      3      10   \n",
              "1  Запустить собственную службу доставки, что сок...      2       5   \n",
              "2  Добавить блоки рекомендаций товаров на сайт ин...      8       3   \n",
              "3  Изменить структура категорий, что увеличит кон...      8       3   \n",
              "4  Изменить цвет фона главной страницы, чтобы уве...      3       1   \n",
              "5  Добавить страницу отзывов клиентов о магазине,...      3       2   \n",
              "6  Показать на главной странице баннеры с актуаль...      5       3   \n",
              "7  Добавить форму подписки на все основные страни...     10       7   \n",
              "8  Запустить акцию, дающую скидку на товар в день...      1       9   \n",
              "\n",
              "   Confidence  Efforts  \n",
              "0           8        6  \n",
              "1           4       10  \n",
              "2           7        3  \n",
              "3           3        8  \n",
              "4           1        1  \n",
              "5           2        3  \n",
              "6           8        3  \n",
              "7           8        5  \n",
              "8           9        5  "
            ]
          },
          "execution_count": 8,
          "metadata": {},
          "output_type": "execute_result"
        }
      ],
      "source": [
        "hypothesis = pd.read_csv('/datasets/hypothesis.csv')\n",
        "hypothesis"
      ]
    },
    {
      "cell_type": "code",
      "execution_count": null,
      "metadata": {
        "colab": {
          "base_uri": "https://localhost:8080/",
          "height": 331
        },
        "id": "2AvYVWLUn6hb",
        "outputId": "b1865dde-b740-4101-b2cf-0259c38ea707"
      },
      "outputs": [
        {
          "data": {
            "text/html": [
              "\n",
              "  <div id=\"df-974c540d-19bf-403f-90bb-0408f9bf1155\">\n",
              "    <div class=\"colab-df-container\">\n",
              "      <div>\n",
              "<style scoped>\n",
              "    .dataframe tbody tr th:only-of-type {\n",
              "        vertical-align: middle;\n",
              "    }\n",
              "\n",
              "    .dataframe tbody tr th {\n",
              "        vertical-align: top;\n",
              "    }\n",
              "\n",
              "    .dataframe thead th {\n",
              "        text-align: right;\n",
              "    }\n",
              "</style>\n",
              "<table border=\"1\" class=\"dataframe\">\n",
              "  <thead>\n",
              "    <tr style=\"text-align: right;\">\n",
              "      <th></th>\n",
              "      <th>Hypothesis</th>\n",
              "      <th>Reach</th>\n",
              "      <th>Impact</th>\n",
              "      <th>Confidence</th>\n",
              "      <th>Efforts</th>\n",
              "    </tr>\n",
              "  </thead>\n",
              "  <tbody>\n",
              "    <tr>\n",
              "      <th>0</th>\n",
              "      <td>Добавить два новых канала привлечения трафика, что позволит привлекать на 30% больше пользователей</td>\n",
              "      <td>3</td>\n",
              "      <td>10</td>\n",
              "      <td>8</td>\n",
              "      <td>6</td>\n",
              "    </tr>\n",
              "    <tr>\n",
              "      <th>1</th>\n",
              "      <td>Запустить собственную службу доставки, что сократит срок доставки заказов</td>\n",
              "      <td>2</td>\n",
              "      <td>5</td>\n",
              "      <td>4</td>\n",
              "      <td>10</td>\n",
              "    </tr>\n",
              "    <tr>\n",
              "      <th>2</th>\n",
              "      <td>Добавить блоки рекомендаций товаров на сайт интернет магазина, чтобы повысить конверсию и средний чек заказа</td>\n",
              "      <td>8</td>\n",
              "      <td>3</td>\n",
              "      <td>7</td>\n",
              "      <td>3</td>\n",
              "    </tr>\n",
              "    <tr>\n",
              "      <th>3</th>\n",
              "      <td>Изменить структура категорий, что увеличит конверсию, т.к. пользователи быстрее найдут нужный товар</td>\n",
              "      <td>8</td>\n",
              "      <td>3</td>\n",
              "      <td>3</td>\n",
              "      <td>8</td>\n",
              "    </tr>\n",
              "    <tr>\n",
              "      <th>4</th>\n",
              "      <td>Изменить цвет фона главной страницы, чтобы увеличить вовлеченность пользователей</td>\n",
              "      <td>3</td>\n",
              "      <td>1</td>\n",
              "      <td>1</td>\n",
              "      <td>1</td>\n",
              "    </tr>\n",
              "    <tr>\n",
              "      <th>5</th>\n",
              "      <td>Добавить страницу отзывов клиентов о магазине, что позволит увеличить количество заказов</td>\n",
              "      <td>3</td>\n",
              "      <td>2</td>\n",
              "      <td>2</td>\n",
              "      <td>3</td>\n",
              "    </tr>\n",
              "    <tr>\n",
              "      <th>6</th>\n",
              "      <td>Показать на главной странице баннеры с актуальными акциями и распродажами, чтобы увеличить конверсию</td>\n",
              "      <td>5</td>\n",
              "      <td>3</td>\n",
              "      <td>8</td>\n",
              "      <td>3</td>\n",
              "    </tr>\n",
              "    <tr>\n",
              "      <th>7</th>\n",
              "      <td>Добавить форму подписки на все основные страницы, чтобы собрать базу клиентов для email-рассылок</td>\n",
              "      <td>10</td>\n",
              "      <td>7</td>\n",
              "      <td>8</td>\n",
              "      <td>5</td>\n",
              "    </tr>\n",
              "    <tr>\n",
              "      <th>8</th>\n",
              "      <td>Запустить акцию, дающую скидку на товар в день рождения</td>\n",
              "      <td>1</td>\n",
              "      <td>9</td>\n",
              "      <td>9</td>\n",
              "      <td>5</td>\n",
              "    </tr>\n",
              "  </tbody>\n",
              "</table>\n",
              "</div>\n",
              "      <button class=\"colab-df-convert\" onclick=\"convertToInteractive('df-974c540d-19bf-403f-90bb-0408f9bf1155')\"\n",
              "              title=\"Convert this dataframe to an interactive table.\"\n",
              "              style=\"display:none;\">\n",
              "        \n",
              "  <svg xmlns=\"http://www.w3.org/2000/svg\" height=\"24px\"viewBox=\"0 0 24 24\"\n",
              "       width=\"24px\">\n",
              "    <path d=\"M0 0h24v24H0V0z\" fill=\"none\"/>\n",
              "    <path d=\"M18.56 5.44l.94 2.06.94-2.06 2.06-.94-2.06-.94-.94-2.06-.94 2.06-2.06.94zm-11 1L8.5 8.5l.94-2.06 2.06-.94-2.06-.94L8.5 2.5l-.94 2.06-2.06.94zm10 10l.94 2.06.94-2.06 2.06-.94-2.06-.94-.94-2.06-.94 2.06-2.06.94z\"/><path d=\"M17.41 7.96l-1.37-1.37c-.4-.4-.92-.59-1.43-.59-.52 0-1.04.2-1.43.59L10.3 9.45l-7.72 7.72c-.78.78-.78 2.05 0 2.83L4 21.41c.39.39.9.59 1.41.59.51 0 1.02-.2 1.41-.59l7.78-7.78 2.81-2.81c.8-.78.8-2.07 0-2.86zM5.41 20L4 18.59l7.72-7.72 1.47 1.35L5.41 20z\"/>\n",
              "  </svg>\n",
              "      </button>\n",
              "      \n",
              "  <style>\n",
              "    .colab-df-container {\n",
              "      display:flex;\n",
              "      flex-wrap:wrap;\n",
              "      gap: 12px;\n",
              "    }\n",
              "\n",
              "    .colab-df-convert {\n",
              "      background-color: #E8F0FE;\n",
              "      border: none;\n",
              "      border-radius: 50%;\n",
              "      cursor: pointer;\n",
              "      display: none;\n",
              "      fill: #1967D2;\n",
              "      height: 32px;\n",
              "      padding: 0 0 0 0;\n",
              "      width: 32px;\n",
              "    }\n",
              "\n",
              "    .colab-df-convert:hover {\n",
              "      background-color: #E2EBFA;\n",
              "      box-shadow: 0px 1px 2px rgba(60, 64, 67, 0.3), 0px 1px 3px 1px rgba(60, 64, 67, 0.15);\n",
              "      fill: #174EA6;\n",
              "    }\n",
              "\n",
              "    [theme=dark] .colab-df-convert {\n",
              "      background-color: #3B4455;\n",
              "      fill: #D2E3FC;\n",
              "    }\n",
              "\n",
              "    [theme=dark] .colab-df-convert:hover {\n",
              "      background-color: #434B5C;\n",
              "      box-shadow: 0px 1px 3px 1px rgba(0, 0, 0, 0.15);\n",
              "      filter: drop-shadow(0px 1px 2px rgba(0, 0, 0, 0.3));\n",
              "      fill: #FFFFFF;\n",
              "    }\n",
              "  </style>\n",
              "\n",
              "      <script>\n",
              "        const buttonEl =\n",
              "          document.querySelector('#df-974c540d-19bf-403f-90bb-0408f9bf1155 button.colab-df-convert');\n",
              "        buttonEl.style.display =\n",
              "          google.colab.kernel.accessAllowed ? 'block' : 'none';\n",
              "\n",
              "        async function convertToInteractive(key) {\n",
              "          const element = document.querySelector('#df-974c540d-19bf-403f-90bb-0408f9bf1155');\n",
              "          const dataTable =\n",
              "            await google.colab.kernel.invokeFunction('convertToInteractive',\n",
              "                                                     [key], {});\n",
              "          if (!dataTable) return;\n",
              "\n",
              "          const docLinkHtml = 'Like what you see? Visit the ' +\n",
              "            '<a target=\"_blank\" href=https://colab.research.google.com/notebooks/data_table.ipynb>data table notebook</a>'\n",
              "            + ' to learn more about interactive tables.';\n",
              "          element.innerHTML = '';\n",
              "          dataTable['output_type'] = 'display_data';\n",
              "          await google.colab.output.renderOutput(dataTable, element);\n",
              "          const docLink = document.createElement('div');\n",
              "          docLink.innerHTML = docLinkHtml;\n",
              "          element.appendChild(docLink);\n",
              "        }\n",
              "      </script>\n",
              "    </div>\n",
              "  </div>\n",
              "  "
            ],
            "text/plain": [
              "                                                                                                     Hypothesis  \\\n",
              "0            Добавить два новых канала привлечения трафика, что позволит привлекать на 30% больше пользователей   \n",
              "1                                     Запустить собственную службу доставки, что сократит срок доставки заказов   \n",
              "2  Добавить блоки рекомендаций товаров на сайт интернет магазина, чтобы повысить конверсию и средний чек заказа   \n",
              "3           Изменить структура категорий, что увеличит конверсию, т.к. пользователи быстрее найдут нужный товар   \n",
              "4                              Изменить цвет фона главной страницы, чтобы увеличить вовлеченность пользователей   \n",
              "5                      Добавить страницу отзывов клиентов о магазине, что позволит увеличить количество заказов   \n",
              "6          Показать на главной странице баннеры с актуальными акциями и распродажами, чтобы увеличить конверсию   \n",
              "7              Добавить форму подписки на все основные страницы, чтобы собрать базу клиентов для email-рассылок   \n",
              "8                                                       Запустить акцию, дающую скидку на товар в день рождения   \n",
              "\n",
              "   Reach  Impact  Confidence  Efforts  \n",
              "0      3      10           8        6  \n",
              "1      2       5           4       10  \n",
              "2      8       3           7        3  \n",
              "3      8       3           3        8  \n",
              "4      3       1           1        1  \n",
              "5      3       2           2        3  \n",
              "6      5       3           8        3  \n",
              "7     10       7           8        5  \n",
              "8      1       9           9        5  "
            ]
          },
          "execution_count": 9,
          "metadata": {},
          "output_type": "execute_result"
        }
      ],
      "source": [
        "# отобразим названия гипотез целиком\n",
        "pd.options.display.max_colwidth = 150\n",
        "hypothesis"
      ]
    },
    {
      "cell_type": "code",
      "execution_count": null,
      "metadata": {
        "colab": {
          "base_uri": "https://localhost:8080/"
        },
        "id": "AA5tKL7In6he",
        "outputId": "29d8edcc-3bae-439c-c0b0-257a38215257"
      },
      "outputs": [
        {
          "name": "stdout",
          "output_type": "stream",
          "text": [
            "<class 'pandas.core.frame.DataFrame'>\n",
            "RangeIndex: 9 entries, 0 to 8\n",
            "Data columns (total 5 columns):\n",
            " #   Column      Non-Null Count  Dtype \n",
            "---  ------      --------------  ----- \n",
            " 0   Hypothesis  9 non-null      object\n",
            " 1   Reach       9 non-null      int64 \n",
            " 2   Impact      9 non-null      int64 \n",
            " 3   Confidence  9 non-null      int64 \n",
            " 4   Efforts     9 non-null      int64 \n",
            "dtypes: int64(4), object(1)\n",
            "memory usage: 488.0+ bytes\n"
          ]
        }
      ],
      "source": [
        "hypothesis.info()"
      ]
    },
    {
      "cell_type": "code",
      "execution_count": null,
      "metadata": {
        "colab": {
          "base_uri": "https://localhost:8080/",
          "height": 331
        },
        "id": "XDLuKCIOn6hf",
        "outputId": "26bcc9a8-f0ee-4756-e482-971490d7d6a8"
      },
      "outputs": [
        {
          "data": {
            "text/html": [
              "\n",
              "  <div id=\"df-1405e550-6ec7-4bd1-9cad-3856a9921c1c\">\n",
              "    <div class=\"colab-df-container\">\n",
              "      <div>\n",
              "<style scoped>\n",
              "    .dataframe tbody tr th:only-of-type {\n",
              "        vertical-align: middle;\n",
              "    }\n",
              "\n",
              "    .dataframe tbody tr th {\n",
              "        vertical-align: top;\n",
              "    }\n",
              "\n",
              "    .dataframe thead th {\n",
              "        text-align: right;\n",
              "    }\n",
              "</style>\n",
              "<table border=\"1\" class=\"dataframe\">\n",
              "  <thead>\n",
              "    <tr style=\"text-align: right;\">\n",
              "      <th></th>\n",
              "      <th>hypothesis</th>\n",
              "      <th>reach</th>\n",
              "      <th>impact</th>\n",
              "      <th>confidence</th>\n",
              "      <th>efforts</th>\n",
              "    </tr>\n",
              "  </thead>\n",
              "  <tbody>\n",
              "    <tr>\n",
              "      <th>0</th>\n",
              "      <td>Добавить два новых канала привлечения трафика, что позволит привлекать на 30% больше пользователей</td>\n",
              "      <td>3</td>\n",
              "      <td>10</td>\n",
              "      <td>8</td>\n",
              "      <td>6</td>\n",
              "    </tr>\n",
              "    <tr>\n",
              "      <th>1</th>\n",
              "      <td>Запустить собственную службу доставки, что сократит срок доставки заказов</td>\n",
              "      <td>2</td>\n",
              "      <td>5</td>\n",
              "      <td>4</td>\n",
              "      <td>10</td>\n",
              "    </tr>\n",
              "    <tr>\n",
              "      <th>2</th>\n",
              "      <td>Добавить блоки рекомендаций товаров на сайт интернет магазина, чтобы повысить конверсию и средний чек заказа</td>\n",
              "      <td>8</td>\n",
              "      <td>3</td>\n",
              "      <td>7</td>\n",
              "      <td>3</td>\n",
              "    </tr>\n",
              "    <tr>\n",
              "      <th>3</th>\n",
              "      <td>Изменить структура категорий, что увеличит конверсию, т.к. пользователи быстрее найдут нужный товар</td>\n",
              "      <td>8</td>\n",
              "      <td>3</td>\n",
              "      <td>3</td>\n",
              "      <td>8</td>\n",
              "    </tr>\n",
              "    <tr>\n",
              "      <th>4</th>\n",
              "      <td>Изменить цвет фона главной страницы, чтобы увеличить вовлеченность пользователей</td>\n",
              "      <td>3</td>\n",
              "      <td>1</td>\n",
              "      <td>1</td>\n",
              "      <td>1</td>\n",
              "    </tr>\n",
              "    <tr>\n",
              "      <th>5</th>\n",
              "      <td>Добавить страницу отзывов клиентов о магазине, что позволит увеличить количество заказов</td>\n",
              "      <td>3</td>\n",
              "      <td>2</td>\n",
              "      <td>2</td>\n",
              "      <td>3</td>\n",
              "    </tr>\n",
              "    <tr>\n",
              "      <th>6</th>\n",
              "      <td>Показать на главной странице баннеры с актуальными акциями и распродажами, чтобы увеличить конверсию</td>\n",
              "      <td>5</td>\n",
              "      <td>3</td>\n",
              "      <td>8</td>\n",
              "      <td>3</td>\n",
              "    </tr>\n",
              "    <tr>\n",
              "      <th>7</th>\n",
              "      <td>Добавить форму подписки на все основные страницы, чтобы собрать базу клиентов для email-рассылок</td>\n",
              "      <td>10</td>\n",
              "      <td>7</td>\n",
              "      <td>8</td>\n",
              "      <td>5</td>\n",
              "    </tr>\n",
              "    <tr>\n",
              "      <th>8</th>\n",
              "      <td>Запустить акцию, дающую скидку на товар в день рождения</td>\n",
              "      <td>1</td>\n",
              "      <td>9</td>\n",
              "      <td>9</td>\n",
              "      <td>5</td>\n",
              "    </tr>\n",
              "  </tbody>\n",
              "</table>\n",
              "</div>\n",
              "      <button class=\"colab-df-convert\" onclick=\"convertToInteractive('df-1405e550-6ec7-4bd1-9cad-3856a9921c1c')\"\n",
              "              title=\"Convert this dataframe to an interactive table.\"\n",
              "              style=\"display:none;\">\n",
              "        \n",
              "  <svg xmlns=\"http://www.w3.org/2000/svg\" height=\"24px\"viewBox=\"0 0 24 24\"\n",
              "       width=\"24px\">\n",
              "    <path d=\"M0 0h24v24H0V0z\" fill=\"none\"/>\n",
              "    <path d=\"M18.56 5.44l.94 2.06.94-2.06 2.06-.94-2.06-.94-.94-2.06-.94 2.06-2.06.94zm-11 1L8.5 8.5l.94-2.06 2.06-.94-2.06-.94L8.5 2.5l-.94 2.06-2.06.94zm10 10l.94 2.06.94-2.06 2.06-.94-2.06-.94-.94-2.06-.94 2.06-2.06.94z\"/><path d=\"M17.41 7.96l-1.37-1.37c-.4-.4-.92-.59-1.43-.59-.52 0-1.04.2-1.43.59L10.3 9.45l-7.72 7.72c-.78.78-.78 2.05 0 2.83L4 21.41c.39.39.9.59 1.41.59.51 0 1.02-.2 1.41-.59l7.78-7.78 2.81-2.81c.8-.78.8-2.07 0-2.86zM5.41 20L4 18.59l7.72-7.72 1.47 1.35L5.41 20z\"/>\n",
              "  </svg>\n",
              "      </button>\n",
              "      \n",
              "  <style>\n",
              "    .colab-df-container {\n",
              "      display:flex;\n",
              "      flex-wrap:wrap;\n",
              "      gap: 12px;\n",
              "    }\n",
              "\n",
              "    .colab-df-convert {\n",
              "      background-color: #E8F0FE;\n",
              "      border: none;\n",
              "      border-radius: 50%;\n",
              "      cursor: pointer;\n",
              "      display: none;\n",
              "      fill: #1967D2;\n",
              "      height: 32px;\n",
              "      padding: 0 0 0 0;\n",
              "      width: 32px;\n",
              "    }\n",
              "\n",
              "    .colab-df-convert:hover {\n",
              "      background-color: #E2EBFA;\n",
              "      box-shadow: 0px 1px 2px rgba(60, 64, 67, 0.3), 0px 1px 3px 1px rgba(60, 64, 67, 0.15);\n",
              "      fill: #174EA6;\n",
              "    }\n",
              "\n",
              "    [theme=dark] .colab-df-convert {\n",
              "      background-color: #3B4455;\n",
              "      fill: #D2E3FC;\n",
              "    }\n",
              "\n",
              "    [theme=dark] .colab-df-convert:hover {\n",
              "      background-color: #434B5C;\n",
              "      box-shadow: 0px 1px 3px 1px rgba(0, 0, 0, 0.15);\n",
              "      filter: drop-shadow(0px 1px 2px rgba(0, 0, 0, 0.3));\n",
              "      fill: #FFFFFF;\n",
              "    }\n",
              "  </style>\n",
              "\n",
              "      <script>\n",
              "        const buttonEl =\n",
              "          document.querySelector('#df-1405e550-6ec7-4bd1-9cad-3856a9921c1c button.colab-df-convert');\n",
              "        buttonEl.style.display =\n",
              "          google.colab.kernel.accessAllowed ? 'block' : 'none';\n",
              "\n",
              "        async function convertToInteractive(key) {\n",
              "          const element = document.querySelector('#df-1405e550-6ec7-4bd1-9cad-3856a9921c1c');\n",
              "          const dataTable =\n",
              "            await google.colab.kernel.invokeFunction('convertToInteractive',\n",
              "                                                     [key], {});\n",
              "          if (!dataTable) return;\n",
              "\n",
              "          const docLinkHtml = 'Like what you see? Visit the ' +\n",
              "            '<a target=\"_blank\" href=https://colab.research.google.com/notebooks/data_table.ipynb>data table notebook</a>'\n",
              "            + ' to learn more about interactive tables.';\n",
              "          element.innerHTML = '';\n",
              "          dataTable['output_type'] = 'display_data';\n",
              "          await google.colab.output.renderOutput(dataTable, element);\n",
              "          const docLink = document.createElement('div');\n",
              "          docLink.innerHTML = docLinkHtml;\n",
              "          element.appendChild(docLink);\n",
              "        }\n",
              "      </script>\n",
              "    </div>\n",
              "  </div>\n",
              "  "
            ],
            "text/plain": [
              "                                                                                                     hypothesis  \\\n",
              "0            Добавить два новых канала привлечения трафика, что позволит привлекать на 30% больше пользователей   \n",
              "1                                     Запустить собственную службу доставки, что сократит срок доставки заказов   \n",
              "2  Добавить блоки рекомендаций товаров на сайт интернет магазина, чтобы повысить конверсию и средний чек заказа   \n",
              "3           Изменить структура категорий, что увеличит конверсию, т.к. пользователи быстрее найдут нужный товар   \n",
              "4                              Изменить цвет фона главной страницы, чтобы увеличить вовлеченность пользователей   \n",
              "5                      Добавить страницу отзывов клиентов о магазине, что позволит увеличить количество заказов   \n",
              "6          Показать на главной странице баннеры с актуальными акциями и распродажами, чтобы увеличить конверсию   \n",
              "7              Добавить форму подписки на все основные страницы, чтобы собрать базу клиентов для email-рассылок   \n",
              "8                                                       Запустить акцию, дающую скидку на товар в день рождения   \n",
              "\n",
              "   reach  impact  confidence  efforts  \n",
              "0      3      10           8        6  \n",
              "1      2       5           4       10  \n",
              "2      8       3           7        3  \n",
              "3      8       3           3        8  \n",
              "4      3       1           1        1  \n",
              "5      3       2           2        3  \n",
              "6      5       3           8        3  \n",
              "7     10       7           8        5  \n",
              "8      1       9           9        5  "
            ]
          },
          "execution_count": 11,
          "metadata": {},
          "output_type": "execute_result"
        }
      ],
      "source": [
        "#приведём название столбцов к нижнему регистру\n",
        "hypothesis.columns = [x.lower() for x in hypothesis.columns]\n",
        "hypothesis"
      ]
    },
    {
      "cell_type": "code",
      "execution_count": null,
      "metadata": {
        "colab": {
          "base_uri": "https://localhost:8080/"
        },
        "id": "n3zVwntMn6hf",
        "outputId": "cbc352d3-0f60-43eb-c8bc-46e6e4d17404"
      },
      "outputs": [
        {
          "data": {
            "text/plain": [
              "0"
            ]
          },
          "execution_count": 12,
          "metadata": {},
          "output_type": "execute_result"
        }
      ],
      "source": [
        "# проверим наличие дубликатов\n",
        "hypothesis.duplicated().sum()  "
      ]
    },
    {
      "cell_type": "markdown",
      "metadata": {
        "id": "frOkT8aUn6hg"
      },
      "source": [
        "### Применим фреймворк ICE для приоритизации гипотез. Отсортируем их по убыванию приоритета."
      ]
    },
    {
      "cell_type": "code",
      "execution_count": null,
      "metadata": {
        "colab": {
          "base_uri": "https://localhost:8080/",
          "height": 331
        },
        "id": "qixsyv2In6hg",
        "outputId": "53b0b100-0f0d-4147-f4b1-983e46b6d7ee"
      },
      "outputs": [
        {
          "data": {
            "text/html": [
              "\n",
              "  <div id=\"df-032b5b6b-6045-4e47-b24f-bd3d85968218\">\n",
              "    <div class=\"colab-df-container\">\n",
              "      <div>\n",
              "<style scoped>\n",
              "    .dataframe tbody tr th:only-of-type {\n",
              "        vertical-align: middle;\n",
              "    }\n",
              "\n",
              "    .dataframe tbody tr th {\n",
              "        vertical-align: top;\n",
              "    }\n",
              "\n",
              "    .dataframe thead th {\n",
              "        text-align: right;\n",
              "    }\n",
              "</style>\n",
              "<table border=\"1\" class=\"dataframe\">\n",
              "  <thead>\n",
              "    <tr style=\"text-align: right;\">\n",
              "      <th></th>\n",
              "      <th>hypothesis</th>\n",
              "      <th>ICE</th>\n",
              "    </tr>\n",
              "  </thead>\n",
              "  <tbody>\n",
              "    <tr>\n",
              "      <th>8</th>\n",
              "      <td>Запустить акцию, дающую скидку на товар в день рождения</td>\n",
              "      <td>16.20</td>\n",
              "    </tr>\n",
              "    <tr>\n",
              "      <th>0</th>\n",
              "      <td>Добавить два новых канала привлечения трафика, что позволит привлекать на 30% больше пользователей</td>\n",
              "      <td>13.33</td>\n",
              "    </tr>\n",
              "    <tr>\n",
              "      <th>7</th>\n",
              "      <td>Добавить форму подписки на все основные страницы, чтобы собрать базу клиентов для email-рассылок</td>\n",
              "      <td>11.20</td>\n",
              "    </tr>\n",
              "    <tr>\n",
              "      <th>6</th>\n",
              "      <td>Показать на главной странице баннеры с актуальными акциями и распродажами, чтобы увеличить конверсию</td>\n",
              "      <td>8.00</td>\n",
              "    </tr>\n",
              "    <tr>\n",
              "      <th>2</th>\n",
              "      <td>Добавить блоки рекомендаций товаров на сайт интернет магазина, чтобы повысить конверсию и средний чек заказа</td>\n",
              "      <td>7.00</td>\n",
              "    </tr>\n",
              "    <tr>\n",
              "      <th>1</th>\n",
              "      <td>Запустить собственную службу доставки, что сократит срок доставки заказов</td>\n",
              "      <td>2.00</td>\n",
              "    </tr>\n",
              "    <tr>\n",
              "      <th>5</th>\n",
              "      <td>Добавить страницу отзывов клиентов о магазине, что позволит увеличить количество заказов</td>\n",
              "      <td>1.33</td>\n",
              "    </tr>\n",
              "    <tr>\n",
              "      <th>3</th>\n",
              "      <td>Изменить структура категорий, что увеличит конверсию, т.к. пользователи быстрее найдут нужный товар</td>\n",
              "      <td>1.12</td>\n",
              "    </tr>\n",
              "    <tr>\n",
              "      <th>4</th>\n",
              "      <td>Изменить цвет фона главной страницы, чтобы увеличить вовлеченность пользователей</td>\n",
              "      <td>1.00</td>\n",
              "    </tr>\n",
              "  </tbody>\n",
              "</table>\n",
              "</div>\n",
              "      <button class=\"colab-df-convert\" onclick=\"convertToInteractive('df-032b5b6b-6045-4e47-b24f-bd3d85968218')\"\n",
              "              title=\"Convert this dataframe to an interactive table.\"\n",
              "              style=\"display:none;\">\n",
              "        \n",
              "  <svg xmlns=\"http://www.w3.org/2000/svg\" height=\"24px\"viewBox=\"0 0 24 24\"\n",
              "       width=\"24px\">\n",
              "    <path d=\"M0 0h24v24H0V0z\" fill=\"none\"/>\n",
              "    <path d=\"M18.56 5.44l.94 2.06.94-2.06 2.06-.94-2.06-.94-.94-2.06-.94 2.06-2.06.94zm-11 1L8.5 8.5l.94-2.06 2.06-.94-2.06-.94L8.5 2.5l-.94 2.06-2.06.94zm10 10l.94 2.06.94-2.06 2.06-.94-2.06-.94-.94-2.06-.94 2.06-2.06.94z\"/><path d=\"M17.41 7.96l-1.37-1.37c-.4-.4-.92-.59-1.43-.59-.52 0-1.04.2-1.43.59L10.3 9.45l-7.72 7.72c-.78.78-.78 2.05 0 2.83L4 21.41c.39.39.9.59 1.41.59.51 0 1.02-.2 1.41-.59l7.78-7.78 2.81-2.81c.8-.78.8-2.07 0-2.86zM5.41 20L4 18.59l7.72-7.72 1.47 1.35L5.41 20z\"/>\n",
              "  </svg>\n",
              "      </button>\n",
              "      \n",
              "  <style>\n",
              "    .colab-df-container {\n",
              "      display:flex;\n",
              "      flex-wrap:wrap;\n",
              "      gap: 12px;\n",
              "    }\n",
              "\n",
              "    .colab-df-convert {\n",
              "      background-color: #E8F0FE;\n",
              "      border: none;\n",
              "      border-radius: 50%;\n",
              "      cursor: pointer;\n",
              "      display: none;\n",
              "      fill: #1967D2;\n",
              "      height: 32px;\n",
              "      padding: 0 0 0 0;\n",
              "      width: 32px;\n",
              "    }\n",
              "\n",
              "    .colab-df-convert:hover {\n",
              "      background-color: #E2EBFA;\n",
              "      box-shadow: 0px 1px 2px rgba(60, 64, 67, 0.3), 0px 1px 3px 1px rgba(60, 64, 67, 0.15);\n",
              "      fill: #174EA6;\n",
              "    }\n",
              "\n",
              "    [theme=dark] .colab-df-convert {\n",
              "      background-color: #3B4455;\n",
              "      fill: #D2E3FC;\n",
              "    }\n",
              "\n",
              "    [theme=dark] .colab-df-convert:hover {\n",
              "      background-color: #434B5C;\n",
              "      box-shadow: 0px 1px 3px 1px rgba(0, 0, 0, 0.15);\n",
              "      filter: drop-shadow(0px 1px 2px rgba(0, 0, 0, 0.3));\n",
              "      fill: #FFFFFF;\n",
              "    }\n",
              "  </style>\n",
              "\n",
              "      <script>\n",
              "        const buttonEl =\n",
              "          document.querySelector('#df-032b5b6b-6045-4e47-b24f-bd3d85968218 button.colab-df-convert');\n",
              "        buttonEl.style.display =\n",
              "          google.colab.kernel.accessAllowed ? 'block' : 'none';\n",
              "\n",
              "        async function convertToInteractive(key) {\n",
              "          const element = document.querySelector('#df-032b5b6b-6045-4e47-b24f-bd3d85968218');\n",
              "          const dataTable =\n",
              "            await google.colab.kernel.invokeFunction('convertToInteractive',\n",
              "                                                     [key], {});\n",
              "          if (!dataTable) return;\n",
              "\n",
              "          const docLinkHtml = 'Like what you see? Visit the ' +\n",
              "            '<a target=\"_blank\" href=https://colab.research.google.com/notebooks/data_table.ipynb>data table notebook</a>'\n",
              "            + ' to learn more about interactive tables.';\n",
              "          element.innerHTML = '';\n",
              "          dataTable['output_type'] = 'display_data';\n",
              "          await google.colab.output.renderOutput(dataTable, element);\n",
              "          const docLink = document.createElement('div');\n",
              "          docLink.innerHTML = docLinkHtml;\n",
              "          element.appendChild(docLink);\n",
              "        }\n",
              "      </script>\n",
              "    </div>\n",
              "  </div>\n",
              "  "
            ],
            "text/plain": [
              "                                                                                                     hypothesis  \\\n",
              "8                                                       Запустить акцию, дающую скидку на товар в день рождения   \n",
              "0            Добавить два новых канала привлечения трафика, что позволит привлекать на 30% больше пользователей   \n",
              "7              Добавить форму подписки на все основные страницы, чтобы собрать базу клиентов для email-рассылок   \n",
              "6          Показать на главной странице баннеры с актуальными акциями и распродажами, чтобы увеличить конверсию   \n",
              "2  Добавить блоки рекомендаций товаров на сайт интернет магазина, чтобы повысить конверсию и средний чек заказа   \n",
              "1                                     Запустить собственную службу доставки, что сократит срок доставки заказов   \n",
              "5                      Добавить страницу отзывов клиентов о магазине, что позволит увеличить количество заказов   \n",
              "3           Изменить структура категорий, что увеличит конверсию, т.к. пользователи быстрее найдут нужный товар   \n",
              "4                              Изменить цвет фона главной страницы, чтобы увеличить вовлеченность пользователей   \n",
              "\n",
              "     ICE  \n",
              "8  16.20  \n",
              "0  13.33  \n",
              "7  11.20  \n",
              "6   8.00  \n",
              "2   7.00  \n",
              "1   2.00  \n",
              "5   1.33  \n",
              "3   1.12  \n",
              "4   1.00  "
            ]
          },
          "execution_count": 13,
          "metadata": {},
          "output_type": "execute_result"
        }
      ],
      "source": [
        "hypothesis['ICE'] = hypothesis['impact'] * hypothesis['confidence'] / hypothesis['efforts']\n",
        "hypothesis[['hypothesis', 'ICE']].sort_values(by='ICE', ascending=False).round(2)"
      ]
    },
    {
      "cell_type": "markdown",
      "metadata": {
        "id": "_M5lJYN2n6hh"
      },
      "source": [
        "На первом месте 8 гипотеза - \"Запустить акцию, дающую скидку на товар в день рождения\"."
      ]
    },
    {
      "cell_type": "markdown",
      "metadata": {
        "id": "vEJpaal4n6hi"
      },
      "source": [
        "### Применим фреймворк RICE для приоритизации гипотез. Отсортируем их по убыванию приоритета."
      ]
    },
    {
      "cell_type": "code",
      "execution_count": null,
      "metadata": {
        "colab": {
          "base_uri": "https://localhost:8080/",
          "height": 331
        },
        "id": "enyiS6Xin6hj",
        "outputId": "68acb672-5b6c-4b5e-ed6a-dd700a1e1f43"
      },
      "outputs": [
        {
          "data": {
            "text/html": [
              "\n",
              "  <div id=\"df-d224dbd5-89e4-4ac5-b60d-aa8c182a131d\">\n",
              "    <div class=\"colab-df-container\">\n",
              "      <div>\n",
              "<style scoped>\n",
              "    .dataframe tbody tr th:only-of-type {\n",
              "        vertical-align: middle;\n",
              "    }\n",
              "\n",
              "    .dataframe tbody tr th {\n",
              "        vertical-align: top;\n",
              "    }\n",
              "\n",
              "    .dataframe thead th {\n",
              "        text-align: right;\n",
              "    }\n",
              "</style>\n",
              "<table border=\"1\" class=\"dataframe\">\n",
              "  <thead>\n",
              "    <tr style=\"text-align: right;\">\n",
              "      <th></th>\n",
              "      <th>hypothesis</th>\n",
              "      <th>RICE</th>\n",
              "    </tr>\n",
              "  </thead>\n",
              "  <tbody>\n",
              "    <tr>\n",
              "      <th>7</th>\n",
              "      <td>Добавить форму подписки на все основные страницы, чтобы собрать базу клиентов для email-рассылок</td>\n",
              "      <td>112.0</td>\n",
              "    </tr>\n",
              "    <tr>\n",
              "      <th>2</th>\n",
              "      <td>Добавить блоки рекомендаций товаров на сайт интернет магазина, чтобы повысить конверсию и средний чек заказа</td>\n",
              "      <td>56.0</td>\n",
              "    </tr>\n",
              "    <tr>\n",
              "      <th>0</th>\n",
              "      <td>Добавить два новых канала привлечения трафика, что позволит привлекать на 30% больше пользователей</td>\n",
              "      <td>40.0</td>\n",
              "    </tr>\n",
              "    <tr>\n",
              "      <th>6</th>\n",
              "      <td>Показать на главной странице баннеры с актуальными акциями и распродажами, чтобы увеличить конверсию</td>\n",
              "      <td>40.0</td>\n",
              "    </tr>\n",
              "    <tr>\n",
              "      <th>8</th>\n",
              "      <td>Запустить акцию, дающую скидку на товар в день рождения</td>\n",
              "      <td>16.2</td>\n",
              "    </tr>\n",
              "    <tr>\n",
              "      <th>3</th>\n",
              "      <td>Изменить структура категорий, что увеличит конверсию, т.к. пользователи быстрее найдут нужный товар</td>\n",
              "      <td>9.0</td>\n",
              "    </tr>\n",
              "    <tr>\n",
              "      <th>1</th>\n",
              "      <td>Запустить собственную службу доставки, что сократит срок доставки заказов</td>\n",
              "      <td>4.0</td>\n",
              "    </tr>\n",
              "    <tr>\n",
              "      <th>5</th>\n",
              "      <td>Добавить страницу отзывов клиентов о магазине, что позволит увеличить количество заказов</td>\n",
              "      <td>4.0</td>\n",
              "    </tr>\n",
              "    <tr>\n",
              "      <th>4</th>\n",
              "      <td>Изменить цвет фона главной страницы, чтобы увеличить вовлеченность пользователей</td>\n",
              "      <td>3.0</td>\n",
              "    </tr>\n",
              "  </tbody>\n",
              "</table>\n",
              "</div>\n",
              "      <button class=\"colab-df-convert\" onclick=\"convertToInteractive('df-d224dbd5-89e4-4ac5-b60d-aa8c182a131d')\"\n",
              "              title=\"Convert this dataframe to an interactive table.\"\n",
              "              style=\"display:none;\">\n",
              "        \n",
              "  <svg xmlns=\"http://www.w3.org/2000/svg\" height=\"24px\"viewBox=\"0 0 24 24\"\n",
              "       width=\"24px\">\n",
              "    <path d=\"M0 0h24v24H0V0z\" fill=\"none\"/>\n",
              "    <path d=\"M18.56 5.44l.94 2.06.94-2.06 2.06-.94-2.06-.94-.94-2.06-.94 2.06-2.06.94zm-11 1L8.5 8.5l.94-2.06 2.06-.94-2.06-.94L8.5 2.5l-.94 2.06-2.06.94zm10 10l.94 2.06.94-2.06 2.06-.94-2.06-.94-.94-2.06-.94 2.06-2.06.94z\"/><path d=\"M17.41 7.96l-1.37-1.37c-.4-.4-.92-.59-1.43-.59-.52 0-1.04.2-1.43.59L10.3 9.45l-7.72 7.72c-.78.78-.78 2.05 0 2.83L4 21.41c.39.39.9.59 1.41.59.51 0 1.02-.2 1.41-.59l7.78-7.78 2.81-2.81c.8-.78.8-2.07 0-2.86zM5.41 20L4 18.59l7.72-7.72 1.47 1.35L5.41 20z\"/>\n",
              "  </svg>\n",
              "      </button>\n",
              "      \n",
              "  <style>\n",
              "    .colab-df-container {\n",
              "      display:flex;\n",
              "      flex-wrap:wrap;\n",
              "      gap: 12px;\n",
              "    }\n",
              "\n",
              "    .colab-df-convert {\n",
              "      background-color: #E8F0FE;\n",
              "      border: none;\n",
              "      border-radius: 50%;\n",
              "      cursor: pointer;\n",
              "      display: none;\n",
              "      fill: #1967D2;\n",
              "      height: 32px;\n",
              "      padding: 0 0 0 0;\n",
              "      width: 32px;\n",
              "    }\n",
              "\n",
              "    .colab-df-convert:hover {\n",
              "      background-color: #E2EBFA;\n",
              "      box-shadow: 0px 1px 2px rgba(60, 64, 67, 0.3), 0px 1px 3px 1px rgba(60, 64, 67, 0.15);\n",
              "      fill: #174EA6;\n",
              "    }\n",
              "\n",
              "    [theme=dark] .colab-df-convert {\n",
              "      background-color: #3B4455;\n",
              "      fill: #D2E3FC;\n",
              "    }\n",
              "\n",
              "    [theme=dark] .colab-df-convert:hover {\n",
              "      background-color: #434B5C;\n",
              "      box-shadow: 0px 1px 3px 1px rgba(0, 0, 0, 0.15);\n",
              "      filter: drop-shadow(0px 1px 2px rgba(0, 0, 0, 0.3));\n",
              "      fill: #FFFFFF;\n",
              "    }\n",
              "  </style>\n",
              "\n",
              "      <script>\n",
              "        const buttonEl =\n",
              "          document.querySelector('#df-d224dbd5-89e4-4ac5-b60d-aa8c182a131d button.colab-df-convert');\n",
              "        buttonEl.style.display =\n",
              "          google.colab.kernel.accessAllowed ? 'block' : 'none';\n",
              "\n",
              "        async function convertToInteractive(key) {\n",
              "          const element = document.querySelector('#df-d224dbd5-89e4-4ac5-b60d-aa8c182a131d');\n",
              "          const dataTable =\n",
              "            await google.colab.kernel.invokeFunction('convertToInteractive',\n",
              "                                                     [key], {});\n",
              "          if (!dataTable) return;\n",
              "\n",
              "          const docLinkHtml = 'Like what you see? Visit the ' +\n",
              "            '<a target=\"_blank\" href=https://colab.research.google.com/notebooks/data_table.ipynb>data table notebook</a>'\n",
              "            + ' to learn more about interactive tables.';\n",
              "          element.innerHTML = '';\n",
              "          dataTable['output_type'] = 'display_data';\n",
              "          await google.colab.output.renderOutput(dataTable, element);\n",
              "          const docLink = document.createElement('div');\n",
              "          docLink.innerHTML = docLinkHtml;\n",
              "          element.appendChild(docLink);\n",
              "        }\n",
              "      </script>\n",
              "    </div>\n",
              "  </div>\n",
              "  "
            ],
            "text/plain": [
              "                                                                                                     hypothesis  \\\n",
              "7              Добавить форму подписки на все основные страницы, чтобы собрать базу клиентов для email-рассылок   \n",
              "2  Добавить блоки рекомендаций товаров на сайт интернет магазина, чтобы повысить конверсию и средний чек заказа   \n",
              "0            Добавить два новых канала привлечения трафика, что позволит привлекать на 30% больше пользователей   \n",
              "6          Показать на главной странице баннеры с актуальными акциями и распродажами, чтобы увеличить конверсию   \n",
              "8                                                       Запустить акцию, дающую скидку на товар в день рождения   \n",
              "3           Изменить структура категорий, что увеличит конверсию, т.к. пользователи быстрее найдут нужный товар   \n",
              "1                                     Запустить собственную службу доставки, что сократит срок доставки заказов   \n",
              "5                      Добавить страницу отзывов клиентов о магазине, что позволит увеличить количество заказов   \n",
              "4                              Изменить цвет фона главной страницы, чтобы увеличить вовлеченность пользователей   \n",
              "\n",
              "    RICE  \n",
              "7  112.0  \n",
              "2   56.0  \n",
              "0   40.0  \n",
              "6   40.0  \n",
              "8   16.2  \n",
              "3    9.0  \n",
              "1    4.0  \n",
              "5    4.0  \n",
              "4    3.0  "
            ]
          },
          "execution_count": 14,
          "metadata": {},
          "output_type": "execute_result"
        }
      ],
      "source": [
        "hypothesis['RICE'] = (hypothesis['reach'] * hypothesis['impact'] * hypothesis['confidence'] \n",
        "                      / hypothesis['efforts'])\n",
        "hypothesis[['hypothesis', 'RICE']].sort_values(by='RICE', ascending=False)"
      ]
    },
    {
      "cell_type": "markdown",
      "metadata": {
        "id": "1eu4jTM0n6hj"
      },
      "source": [
        "На первом месте 7 гипотеза - \"Добавить форму подписки на все основные страницы, чтобы собрать базу клиентов для email-рассылок\"."
      ]
    },
    {
      "cell_type": "markdown",
      "metadata": {
        "id": "Rq-4R-Run6hk"
      },
      "source": [
        "<b> Вывод: </b>\n",
        "\n",
        "Тройку лидеров при использовании ICE составляют:\n",
        "- 8 (Запустить акцию, дающую скидку на товар в день рождения), \n",
        "- 0 (Добавить два новых канала привлечения трафика, что позволит привлекать на 30% больше пользователей), \n",
        "- 7 (Добавить форму подписки на все основные страницы, чтобы собрать базу клиентов для email-рассылок), \n",
        "\n",
        "а при использовании RICE: \n",
        "- 7 (Добавить форму подписки на все основные страницы, чтобы собрать базу клиентов для email-рассылок), \n",
        "- 2 (Добавить блоки рекомендаций товаров на сайт интернет магазина, чтобы повысить конверсию и средний чек заказа), \n",
        "- 0 (Добавить два новых канала привлечения трафика, что позволит привлекать на 30% больше пользователей). \n",
        "\n",
        "Приоритизация изменилась, т.к. RICE учитывает охват.  "
      ]
    },
    {
      "cell_type": "markdown",
      "metadata": {
        "id": "L-4XfkTDn6hl"
      },
      "source": [
        "## Анализ A/B-теста.\n",
        "\n",
        "В файлах /datasets/orders.csv и /datasets/visitors.csv результаты проведённых A/B-тест. Необходимо проанализировать данные результаты."
      ]
    },
    {
      "cell_type": "markdown",
      "metadata": {
        "id": "DI8s4p4gn6hl"
      },
      "source": [
        "### Предобработка данных.\n",
        "\n",
        "Для начала ознакомимся с файлами /datasets/orders.csv и /datasets/visitors.csv и подготовим данные к анализу."
      ]
    },
    {
      "cell_type": "code",
      "execution_count": null,
      "metadata": {
        "colab": {
          "base_uri": "https://localhost:8080/",
          "height": 423
        },
        "id": "G1pzat1Mn6hl",
        "outputId": "0a3e2d02-d18c-402f-f2cd-6479e820d682"
      },
      "outputs": [
        {
          "data": {
            "text/html": [
              "\n",
              "  <div id=\"df-cf4d741c-902d-4088-b19d-69a76fc621fb\">\n",
              "    <div class=\"colab-df-container\">\n",
              "      <div>\n",
              "<style scoped>\n",
              "    .dataframe tbody tr th:only-of-type {\n",
              "        vertical-align: middle;\n",
              "    }\n",
              "\n",
              "    .dataframe tbody tr th {\n",
              "        vertical-align: top;\n",
              "    }\n",
              "\n",
              "    .dataframe thead th {\n",
              "        text-align: right;\n",
              "    }\n",
              "</style>\n",
              "<table border=\"1\" class=\"dataframe\">\n",
              "  <thead>\n",
              "    <tr style=\"text-align: right;\">\n",
              "      <th></th>\n",
              "      <th>transactionId</th>\n",
              "      <th>visitorId</th>\n",
              "      <th>date</th>\n",
              "      <th>revenue</th>\n",
              "      <th>group</th>\n",
              "    </tr>\n",
              "  </thead>\n",
              "  <tbody>\n",
              "    <tr>\n",
              "      <th>0</th>\n",
              "      <td>3667963787</td>\n",
              "      <td>3312258926</td>\n",
              "      <td>2019-08-15</td>\n",
              "      <td>1650</td>\n",
              "      <td>B</td>\n",
              "    </tr>\n",
              "    <tr>\n",
              "      <th>1</th>\n",
              "      <td>2804400009</td>\n",
              "      <td>3642806036</td>\n",
              "      <td>2019-08-15</td>\n",
              "      <td>730</td>\n",
              "      <td>B</td>\n",
              "    </tr>\n",
              "    <tr>\n",
              "      <th>2</th>\n",
              "      <td>2961555356</td>\n",
              "      <td>4069496402</td>\n",
              "      <td>2019-08-15</td>\n",
              "      <td>400</td>\n",
              "      <td>A</td>\n",
              "    </tr>\n",
              "    <tr>\n",
              "      <th>3</th>\n",
              "      <td>3797467345</td>\n",
              "      <td>1196621759</td>\n",
              "      <td>2019-08-15</td>\n",
              "      <td>9759</td>\n",
              "      <td>B</td>\n",
              "    </tr>\n",
              "    <tr>\n",
              "      <th>4</th>\n",
              "      <td>2282983706</td>\n",
              "      <td>2322279887</td>\n",
              "      <td>2019-08-15</td>\n",
              "      <td>2308</td>\n",
              "      <td>B</td>\n",
              "    </tr>\n",
              "    <tr>\n",
              "      <th>...</th>\n",
              "      <td>...</td>\n",
              "      <td>...</td>\n",
              "      <td>...</td>\n",
              "      <td>...</td>\n",
              "      <td>...</td>\n",
              "    </tr>\n",
              "    <tr>\n",
              "      <th>1192</th>\n",
              "      <td>2662137336</td>\n",
              "      <td>3733762160</td>\n",
              "      <td>2019-08-14</td>\n",
              "      <td>6490</td>\n",
              "      <td>B</td>\n",
              "    </tr>\n",
              "    <tr>\n",
              "      <th>1193</th>\n",
              "      <td>2203539145</td>\n",
              "      <td>370388673</td>\n",
              "      <td>2019-08-14</td>\n",
              "      <td>3190</td>\n",
              "      <td>A</td>\n",
              "    </tr>\n",
              "    <tr>\n",
              "      <th>1194</th>\n",
              "      <td>1807773912</td>\n",
              "      <td>573423106</td>\n",
              "      <td>2019-08-14</td>\n",
              "      <td>10550</td>\n",
              "      <td>A</td>\n",
              "    </tr>\n",
              "    <tr>\n",
              "      <th>1195</th>\n",
              "      <td>1947021204</td>\n",
              "      <td>1614305549</td>\n",
              "      <td>2019-08-14</td>\n",
              "      <td>100</td>\n",
              "      <td>A</td>\n",
              "    </tr>\n",
              "    <tr>\n",
              "      <th>1196</th>\n",
              "      <td>3936777065</td>\n",
              "      <td>2108080724</td>\n",
              "      <td>2019-08-15</td>\n",
              "      <td>202740</td>\n",
              "      <td>B</td>\n",
              "    </tr>\n",
              "  </tbody>\n",
              "</table>\n",
              "<p>1197 rows × 5 columns</p>\n",
              "</div>\n",
              "      <button class=\"colab-df-convert\" onclick=\"convertToInteractive('df-cf4d741c-902d-4088-b19d-69a76fc621fb')\"\n",
              "              title=\"Convert this dataframe to an interactive table.\"\n",
              "              style=\"display:none;\">\n",
              "        \n",
              "  <svg xmlns=\"http://www.w3.org/2000/svg\" height=\"24px\"viewBox=\"0 0 24 24\"\n",
              "       width=\"24px\">\n",
              "    <path d=\"M0 0h24v24H0V0z\" fill=\"none\"/>\n",
              "    <path d=\"M18.56 5.44l.94 2.06.94-2.06 2.06-.94-2.06-.94-.94-2.06-.94 2.06-2.06.94zm-11 1L8.5 8.5l.94-2.06 2.06-.94-2.06-.94L8.5 2.5l-.94 2.06-2.06.94zm10 10l.94 2.06.94-2.06 2.06-.94-2.06-.94-.94-2.06-.94 2.06-2.06.94z\"/><path d=\"M17.41 7.96l-1.37-1.37c-.4-.4-.92-.59-1.43-.59-.52 0-1.04.2-1.43.59L10.3 9.45l-7.72 7.72c-.78.78-.78 2.05 0 2.83L4 21.41c.39.39.9.59 1.41.59.51 0 1.02-.2 1.41-.59l7.78-7.78 2.81-2.81c.8-.78.8-2.07 0-2.86zM5.41 20L4 18.59l7.72-7.72 1.47 1.35L5.41 20z\"/>\n",
              "  </svg>\n",
              "      </button>\n",
              "      \n",
              "  <style>\n",
              "    .colab-df-container {\n",
              "      display:flex;\n",
              "      flex-wrap:wrap;\n",
              "      gap: 12px;\n",
              "    }\n",
              "\n",
              "    .colab-df-convert {\n",
              "      background-color: #E8F0FE;\n",
              "      border: none;\n",
              "      border-radius: 50%;\n",
              "      cursor: pointer;\n",
              "      display: none;\n",
              "      fill: #1967D2;\n",
              "      height: 32px;\n",
              "      padding: 0 0 0 0;\n",
              "      width: 32px;\n",
              "    }\n",
              "\n",
              "    .colab-df-convert:hover {\n",
              "      background-color: #E2EBFA;\n",
              "      box-shadow: 0px 1px 2px rgba(60, 64, 67, 0.3), 0px 1px 3px 1px rgba(60, 64, 67, 0.15);\n",
              "      fill: #174EA6;\n",
              "    }\n",
              "\n",
              "    [theme=dark] .colab-df-convert {\n",
              "      background-color: #3B4455;\n",
              "      fill: #D2E3FC;\n",
              "    }\n",
              "\n",
              "    [theme=dark] .colab-df-convert:hover {\n",
              "      background-color: #434B5C;\n",
              "      box-shadow: 0px 1px 3px 1px rgba(0, 0, 0, 0.15);\n",
              "      filter: drop-shadow(0px 1px 2px rgba(0, 0, 0, 0.3));\n",
              "      fill: #FFFFFF;\n",
              "    }\n",
              "  </style>\n",
              "\n",
              "      <script>\n",
              "        const buttonEl =\n",
              "          document.querySelector('#df-cf4d741c-902d-4088-b19d-69a76fc621fb button.colab-df-convert');\n",
              "        buttonEl.style.display =\n",
              "          google.colab.kernel.accessAllowed ? 'block' : 'none';\n",
              "\n",
              "        async function convertToInteractive(key) {\n",
              "          const element = document.querySelector('#df-cf4d741c-902d-4088-b19d-69a76fc621fb');\n",
              "          const dataTable =\n",
              "            await google.colab.kernel.invokeFunction('convertToInteractive',\n",
              "                                                     [key], {});\n",
              "          if (!dataTable) return;\n",
              "\n",
              "          const docLinkHtml = 'Like what you see? Visit the ' +\n",
              "            '<a target=\"_blank\" href=https://colab.research.google.com/notebooks/data_table.ipynb>data table notebook</a>'\n",
              "            + ' to learn more about interactive tables.';\n",
              "          element.innerHTML = '';\n",
              "          dataTable['output_type'] = 'display_data';\n",
              "          await google.colab.output.renderOutput(dataTable, element);\n",
              "          const docLink = document.createElement('div');\n",
              "          docLink.innerHTML = docLinkHtml;\n",
              "          element.appendChild(docLink);\n",
              "        }\n",
              "      </script>\n",
              "    </div>\n",
              "  </div>\n",
              "  "
            ],
            "text/plain": [
              "      transactionId   visitorId        date  revenue group\n",
              "0        3667963787  3312258926  2019-08-15     1650     B\n",
              "1        2804400009  3642806036  2019-08-15      730     B\n",
              "2        2961555356  4069496402  2019-08-15      400     A\n",
              "3        3797467345  1196621759  2019-08-15     9759     B\n",
              "4        2282983706  2322279887  2019-08-15     2308     B\n",
              "...             ...         ...         ...      ...   ...\n",
              "1192     2662137336  3733762160  2019-08-14     6490     B\n",
              "1193     2203539145   370388673  2019-08-14     3190     A\n",
              "1194     1807773912   573423106  2019-08-14    10550     A\n",
              "1195     1947021204  1614305549  2019-08-14      100     A\n",
              "1196     3936777065  2108080724  2019-08-15   202740     B\n",
              "\n",
              "[1197 rows x 5 columns]"
            ]
          },
          "execution_count": 15,
          "metadata": {},
          "output_type": "execute_result"
        }
      ],
      "source": [
        "orders = pd.read_csv('/datasets/orders.csv')\n",
        "orders"
      ]
    },
    {
      "cell_type": "code",
      "execution_count": null,
      "metadata": {
        "colab": {
          "base_uri": "https://localhost:8080/"
        },
        "id": "J5uXegwCn6hm",
        "outputId": "c61bdc6f-a9b6-4b95-810d-21472e571691"
      },
      "outputs": [
        {
          "name": "stdout",
          "output_type": "stream",
          "text": [
            "<class 'pandas.core.frame.DataFrame'>\n",
            "RangeIndex: 1197 entries, 0 to 1196\n",
            "Data columns (total 5 columns):\n",
            " #   Column         Non-Null Count  Dtype \n",
            "---  ------         --------------  ----- \n",
            " 0   transactionId  1197 non-null   int64 \n",
            " 1   visitorId      1197 non-null   int64 \n",
            " 2   date           1197 non-null   object\n",
            " 3   revenue        1197 non-null   int64 \n",
            " 4   group          1197 non-null   object\n",
            "dtypes: int64(3), object(2)\n",
            "memory usage: 46.9+ KB\n"
          ]
        }
      ],
      "source": [
        "orders.info()"
      ]
    },
    {
      "cell_type": "code",
      "execution_count": null,
      "metadata": {
        "id": "XLMUV3ytn6hm"
      },
      "outputs": [],
      "source": [
        "#приведём дату к формату datetime\n",
        "orders['date'] = orders['date'].map(lambda x: dt.datetime.strptime(x, '%Y-%m-%d'))"
      ]
    },
    {
      "cell_type": "code",
      "execution_count": null,
      "metadata": {
        "id": "A2SSuML-n6hm"
      },
      "outputs": [],
      "source": [
        "#приведём название столбцов к нижнему регистру\n",
        "orders.columns = [x.lower() for x in orders.columns]"
      ]
    },
    {
      "cell_type": "code",
      "execution_count": null,
      "metadata": {
        "colab": {
          "base_uri": "https://localhost:8080/"
        },
        "id": "x3V6vguon6hn",
        "outputId": "130a16d9-d68f-45d4-9769-6c779d5a520e"
      },
      "outputs": [
        {
          "data": {
            "text/plain": [
              "0"
            ]
          },
          "execution_count": 19,
          "metadata": {},
          "output_type": "execute_result"
        }
      ],
      "source": [
        "# проверим наличие дубликатов\n",
        "orders.duplicated().sum() "
      ]
    },
    {
      "cell_type": "code",
      "execution_count": null,
      "metadata": {
        "colab": {
          "base_uri": "https://localhost:8080/",
          "height": 423
        },
        "id": "3R-53nDOn6hn",
        "outputId": "bc2de045-94a2-4269-84a8-1a82afc3a0b0"
      },
      "outputs": [
        {
          "data": {
            "text/html": [
              "\n",
              "  <div id=\"df-5203ca0c-b3ef-4b21-8568-dfbcdbb7c605\">\n",
              "    <div class=\"colab-df-container\">\n",
              "      <div>\n",
              "<style scoped>\n",
              "    .dataframe tbody tr th:only-of-type {\n",
              "        vertical-align: middle;\n",
              "    }\n",
              "\n",
              "    .dataframe tbody tr th {\n",
              "        vertical-align: top;\n",
              "    }\n",
              "\n",
              "    .dataframe thead th {\n",
              "        text-align: right;\n",
              "    }\n",
              "</style>\n",
              "<table border=\"1\" class=\"dataframe\">\n",
              "  <thead>\n",
              "    <tr style=\"text-align: right;\">\n",
              "      <th></th>\n",
              "      <th>date</th>\n",
              "      <th>group</th>\n",
              "      <th>visitors</th>\n",
              "    </tr>\n",
              "  </thead>\n",
              "  <tbody>\n",
              "    <tr>\n",
              "      <th>0</th>\n",
              "      <td>2019-08-01</td>\n",
              "      <td>A</td>\n",
              "      <td>719</td>\n",
              "    </tr>\n",
              "    <tr>\n",
              "      <th>1</th>\n",
              "      <td>2019-08-02</td>\n",
              "      <td>A</td>\n",
              "      <td>619</td>\n",
              "    </tr>\n",
              "    <tr>\n",
              "      <th>2</th>\n",
              "      <td>2019-08-03</td>\n",
              "      <td>A</td>\n",
              "      <td>507</td>\n",
              "    </tr>\n",
              "    <tr>\n",
              "      <th>3</th>\n",
              "      <td>2019-08-04</td>\n",
              "      <td>A</td>\n",
              "      <td>717</td>\n",
              "    </tr>\n",
              "    <tr>\n",
              "      <th>4</th>\n",
              "      <td>2019-08-05</td>\n",
              "      <td>A</td>\n",
              "      <td>756</td>\n",
              "    </tr>\n",
              "    <tr>\n",
              "      <th>...</th>\n",
              "      <td>...</td>\n",
              "      <td>...</td>\n",
              "      <td>...</td>\n",
              "    </tr>\n",
              "    <tr>\n",
              "      <th>57</th>\n",
              "      <td>2019-08-27</td>\n",
              "      <td>B</td>\n",
              "      <td>720</td>\n",
              "    </tr>\n",
              "    <tr>\n",
              "      <th>58</th>\n",
              "      <td>2019-08-28</td>\n",
              "      <td>B</td>\n",
              "      <td>654</td>\n",
              "    </tr>\n",
              "    <tr>\n",
              "      <th>59</th>\n",
              "      <td>2019-08-29</td>\n",
              "      <td>B</td>\n",
              "      <td>531</td>\n",
              "    </tr>\n",
              "    <tr>\n",
              "      <th>60</th>\n",
              "      <td>2019-08-30</td>\n",
              "      <td>B</td>\n",
              "      <td>490</td>\n",
              "    </tr>\n",
              "    <tr>\n",
              "      <th>61</th>\n",
              "      <td>2019-08-31</td>\n",
              "      <td>B</td>\n",
              "      <td>718</td>\n",
              "    </tr>\n",
              "  </tbody>\n",
              "</table>\n",
              "<p>62 rows × 3 columns</p>\n",
              "</div>\n",
              "      <button class=\"colab-df-convert\" onclick=\"convertToInteractive('df-5203ca0c-b3ef-4b21-8568-dfbcdbb7c605')\"\n",
              "              title=\"Convert this dataframe to an interactive table.\"\n",
              "              style=\"display:none;\">\n",
              "        \n",
              "  <svg xmlns=\"http://www.w3.org/2000/svg\" height=\"24px\"viewBox=\"0 0 24 24\"\n",
              "       width=\"24px\">\n",
              "    <path d=\"M0 0h24v24H0V0z\" fill=\"none\"/>\n",
              "    <path d=\"M18.56 5.44l.94 2.06.94-2.06 2.06-.94-2.06-.94-.94-2.06-.94 2.06-2.06.94zm-11 1L8.5 8.5l.94-2.06 2.06-.94-2.06-.94L8.5 2.5l-.94 2.06-2.06.94zm10 10l.94 2.06.94-2.06 2.06-.94-2.06-.94-.94-2.06-.94 2.06-2.06.94z\"/><path d=\"M17.41 7.96l-1.37-1.37c-.4-.4-.92-.59-1.43-.59-.52 0-1.04.2-1.43.59L10.3 9.45l-7.72 7.72c-.78.78-.78 2.05 0 2.83L4 21.41c.39.39.9.59 1.41.59.51 0 1.02-.2 1.41-.59l7.78-7.78 2.81-2.81c.8-.78.8-2.07 0-2.86zM5.41 20L4 18.59l7.72-7.72 1.47 1.35L5.41 20z\"/>\n",
              "  </svg>\n",
              "      </button>\n",
              "      \n",
              "  <style>\n",
              "    .colab-df-container {\n",
              "      display:flex;\n",
              "      flex-wrap:wrap;\n",
              "      gap: 12px;\n",
              "    }\n",
              "\n",
              "    .colab-df-convert {\n",
              "      background-color: #E8F0FE;\n",
              "      border: none;\n",
              "      border-radius: 50%;\n",
              "      cursor: pointer;\n",
              "      display: none;\n",
              "      fill: #1967D2;\n",
              "      height: 32px;\n",
              "      padding: 0 0 0 0;\n",
              "      width: 32px;\n",
              "    }\n",
              "\n",
              "    .colab-df-convert:hover {\n",
              "      background-color: #E2EBFA;\n",
              "      box-shadow: 0px 1px 2px rgba(60, 64, 67, 0.3), 0px 1px 3px 1px rgba(60, 64, 67, 0.15);\n",
              "      fill: #174EA6;\n",
              "    }\n",
              "\n",
              "    [theme=dark] .colab-df-convert {\n",
              "      background-color: #3B4455;\n",
              "      fill: #D2E3FC;\n",
              "    }\n",
              "\n",
              "    [theme=dark] .colab-df-convert:hover {\n",
              "      background-color: #434B5C;\n",
              "      box-shadow: 0px 1px 3px 1px rgba(0, 0, 0, 0.15);\n",
              "      filter: drop-shadow(0px 1px 2px rgba(0, 0, 0, 0.3));\n",
              "      fill: #FFFFFF;\n",
              "    }\n",
              "  </style>\n",
              "\n",
              "      <script>\n",
              "        const buttonEl =\n",
              "          document.querySelector('#df-5203ca0c-b3ef-4b21-8568-dfbcdbb7c605 button.colab-df-convert');\n",
              "        buttonEl.style.display =\n",
              "          google.colab.kernel.accessAllowed ? 'block' : 'none';\n",
              "\n",
              "        async function convertToInteractive(key) {\n",
              "          const element = document.querySelector('#df-5203ca0c-b3ef-4b21-8568-dfbcdbb7c605');\n",
              "          const dataTable =\n",
              "            await google.colab.kernel.invokeFunction('convertToInteractive',\n",
              "                                                     [key], {});\n",
              "          if (!dataTable) return;\n",
              "\n",
              "          const docLinkHtml = 'Like what you see? Visit the ' +\n",
              "            '<a target=\"_blank\" href=https://colab.research.google.com/notebooks/data_table.ipynb>data table notebook</a>'\n",
              "            + ' to learn more about interactive tables.';\n",
              "          element.innerHTML = '';\n",
              "          dataTable['output_type'] = 'display_data';\n",
              "          await google.colab.output.renderOutput(dataTable, element);\n",
              "          const docLink = document.createElement('div');\n",
              "          docLink.innerHTML = docLinkHtml;\n",
              "          element.appendChild(docLink);\n",
              "        }\n",
              "      </script>\n",
              "    </div>\n",
              "  </div>\n",
              "  "
            ],
            "text/plain": [
              "          date group  visitors\n",
              "0   2019-08-01     A       719\n",
              "1   2019-08-02     A       619\n",
              "2   2019-08-03     A       507\n",
              "3   2019-08-04     A       717\n",
              "4   2019-08-05     A       756\n",
              "..         ...   ...       ...\n",
              "57  2019-08-27     B       720\n",
              "58  2019-08-28     B       654\n",
              "59  2019-08-29     B       531\n",
              "60  2019-08-30     B       490\n",
              "61  2019-08-31     B       718\n",
              "\n",
              "[62 rows x 3 columns]"
            ]
          },
          "execution_count": 20,
          "metadata": {},
          "output_type": "execute_result"
        }
      ],
      "source": [
        "visitors = pd.read_csv('/datasets/visitors.csv')\n",
        "visitors"
      ]
    },
    {
      "cell_type": "code",
      "execution_count": null,
      "metadata": {
        "colab": {
          "base_uri": "https://localhost:8080/"
        },
        "id": "aKawvvIkn6ho",
        "outputId": "3466f2ef-e1b9-490e-aca5-836502592cf5"
      },
      "outputs": [
        {
          "name": "stdout",
          "output_type": "stream",
          "text": [
            "<class 'pandas.core.frame.DataFrame'>\n",
            "RangeIndex: 62 entries, 0 to 61\n",
            "Data columns (total 3 columns):\n",
            " #   Column    Non-Null Count  Dtype \n",
            "---  ------    --------------  ----- \n",
            " 0   date      62 non-null     object\n",
            " 1   group     62 non-null     object\n",
            " 2   visitors  62 non-null     int64 \n",
            "dtypes: int64(1), object(2)\n",
            "memory usage: 1.6+ KB\n"
          ]
        }
      ],
      "source": [
        "visitors.info()"
      ]
    },
    {
      "cell_type": "code",
      "execution_count": null,
      "metadata": {
        "id": "9TwqFJmfn6ho"
      },
      "outputs": [],
      "source": [
        "#приведём дату к формату datetime\n",
        "visitors['date'] = visitors['date'].map(lambda x: dt.datetime.strptime(x, '%Y-%m-%d'))"
      ]
    },
    {
      "cell_type": "code",
      "execution_count": null,
      "metadata": {
        "colab": {
          "base_uri": "https://localhost:8080/"
        },
        "id": "kTcsLv_qn6ho",
        "outputId": "bfbac7d2-2f12-4b46-d951-6344ec4c5a66"
      },
      "outputs": [
        {
          "data": {
            "text/plain": [
              "0"
            ]
          },
          "execution_count": 23,
          "metadata": {},
          "output_type": "execute_result"
        }
      ],
      "source": [
        "# проверим наличие дубликатов\n",
        "visitors.duplicated().sum() "
      ]
    },
    {
      "cell_type": "markdown",
      "metadata": {
        "id": "hkBEB_3hn6hp"
      },
      "source": [
        "### Построим график кумулятивной выручки по группам. "
      ]
    },
    {
      "cell_type": "code",
      "execution_count": null,
      "metadata": {
        "colab": {
          "base_uri": "https://localhost:8080/"
        },
        "id": "JHjYudtSn6hp",
        "outputId": "7db2b095-6bec-44da-b84c-3f4d690bf354"
      },
      "outputs": [
        {
          "data": {
            "text/plain": [
              "array([   8300375,  199603092,  232979603,  237748145,  276558944,\n",
              "        351125977,  393266494,  457167155,  471551937,  477780734,\n",
              "        818047933,  963407295, 1230306981, 1294878855, 1316129916,\n",
              "       1333886533, 1404934699, 1602967004, 1614305549, 1648269707,\n",
              "       1668030113, 1738359350, 1801183820, 1959144690, 2038680547,\n",
              "       2044997962, 2378935119, 2458001652, 2579882178, 2587333274,\n",
              "       2600415354, 2654030115, 2686716486, 2712142231, 2716752286,\n",
              "       2780786433, 2927087541, 2949041841, 2954449915, 3062433592,\n",
              "       3202540741, 3234906277, 3656415546, 3717692402, 3766097110,\n",
              "       3803269165, 3891541246, 3941795274, 3951559397, 3957174400,\n",
              "       3963646447, 3972127743, 3984495233, 4069496402, 4120364173,\n",
              "       4186807279, 4256040402, 4266935830])"
            ]
          },
          "execution_count": 24,
          "metadata": {},
          "output_type": "execute_result"
        }
      ],
      "source": [
        "# проверяем, есть ли пользователи, которые попали в обе группы\n",
        "duplicates_users = (np.intersect1d(orders.query('group == \"A\"')['visitorid'].unique(), \n",
        "                                   orders.query('group == \"B\"')['visitorid'].unique()))\n",
        "duplicates_users"
      ]
    },
    {
      "cell_type": "code",
      "execution_count": null,
      "metadata": {
        "id": "Pe84yVEmn6hp"
      },
      "outputs": [],
      "source": [
        "# удаляем пользователей, которые попали в обе группы\n",
        "orders = orders[~orders['visitorid'].isin(duplicates_users)]"
      ]
    },
    {
      "cell_type": "code",
      "execution_count": null,
      "metadata": {
        "colab": {
          "base_uri": "https://localhost:8080/",
          "height": 206
        },
        "id": "d-4goyNwn6hq",
        "outputId": "5ccd6d44-b9fe-4a25-9d87-41c4dd39add0"
      },
      "outputs": [
        {
          "data": {
            "text/html": [
              "\n",
              "  <div id=\"df-5e392ddb-7816-4e6c-8118-5fd2f4d746f4\">\n",
              "    <div class=\"colab-df-container\">\n",
              "      <div>\n",
              "<style scoped>\n",
              "    .dataframe tbody tr th:only-of-type {\n",
              "        vertical-align: middle;\n",
              "    }\n",
              "\n",
              "    .dataframe tbody tr th {\n",
              "        vertical-align: top;\n",
              "    }\n",
              "\n",
              "    .dataframe thead th {\n",
              "        text-align: right;\n",
              "    }\n",
              "</style>\n",
              "<table border=\"1\" class=\"dataframe\">\n",
              "  <thead>\n",
              "    <tr style=\"text-align: right;\">\n",
              "      <th></th>\n",
              "      <th>date</th>\n",
              "      <th>group</th>\n",
              "      <th>orders</th>\n",
              "      <th>buyers</th>\n",
              "      <th>revenue</th>\n",
              "      <th>visitors</th>\n",
              "    </tr>\n",
              "  </thead>\n",
              "  <tbody>\n",
              "    <tr>\n",
              "      <th>0</th>\n",
              "      <td>2019-08-01</td>\n",
              "      <td>A</td>\n",
              "      <td>23</td>\n",
              "      <td>19</td>\n",
              "      <td>142779</td>\n",
              "      <td>719</td>\n",
              "    </tr>\n",
              "    <tr>\n",
              "      <th>1</th>\n",
              "      <td>2019-08-01</td>\n",
              "      <td>B</td>\n",
              "      <td>17</td>\n",
              "      <td>17</td>\n",
              "      <td>59758</td>\n",
              "      <td>713</td>\n",
              "    </tr>\n",
              "    <tr>\n",
              "      <th>2</th>\n",
              "      <td>2019-08-02</td>\n",
              "      <td>A</td>\n",
              "      <td>42</td>\n",
              "      <td>36</td>\n",
              "      <td>234381</td>\n",
              "      <td>1338</td>\n",
              "    </tr>\n",
              "    <tr>\n",
              "      <th>3</th>\n",
              "      <td>2019-08-02</td>\n",
              "      <td>B</td>\n",
              "      <td>40</td>\n",
              "      <td>39</td>\n",
              "      <td>221801</td>\n",
              "      <td>1294</td>\n",
              "    </tr>\n",
              "    <tr>\n",
              "      <th>4</th>\n",
              "      <td>2019-08-03</td>\n",
              "      <td>A</td>\n",
              "      <td>66</td>\n",
              "      <td>60</td>\n",
              "      <td>346854</td>\n",
              "      <td>1845</td>\n",
              "    </tr>\n",
              "  </tbody>\n",
              "</table>\n",
              "</div>\n",
              "      <button class=\"colab-df-convert\" onclick=\"convertToInteractive('df-5e392ddb-7816-4e6c-8118-5fd2f4d746f4')\"\n",
              "              title=\"Convert this dataframe to an interactive table.\"\n",
              "              style=\"display:none;\">\n",
              "        \n",
              "  <svg xmlns=\"http://www.w3.org/2000/svg\" height=\"24px\"viewBox=\"0 0 24 24\"\n",
              "       width=\"24px\">\n",
              "    <path d=\"M0 0h24v24H0V0z\" fill=\"none\"/>\n",
              "    <path d=\"M18.56 5.44l.94 2.06.94-2.06 2.06-.94-2.06-.94-.94-2.06-.94 2.06-2.06.94zm-11 1L8.5 8.5l.94-2.06 2.06-.94-2.06-.94L8.5 2.5l-.94 2.06-2.06.94zm10 10l.94 2.06.94-2.06 2.06-.94-2.06-.94-.94-2.06-.94 2.06-2.06.94z\"/><path d=\"M17.41 7.96l-1.37-1.37c-.4-.4-.92-.59-1.43-.59-.52 0-1.04.2-1.43.59L10.3 9.45l-7.72 7.72c-.78.78-.78 2.05 0 2.83L4 21.41c.39.39.9.59 1.41.59.51 0 1.02-.2 1.41-.59l7.78-7.78 2.81-2.81c.8-.78.8-2.07 0-2.86zM5.41 20L4 18.59l7.72-7.72 1.47 1.35L5.41 20z\"/>\n",
              "  </svg>\n",
              "      </button>\n",
              "      \n",
              "  <style>\n",
              "    .colab-df-container {\n",
              "      display:flex;\n",
              "      flex-wrap:wrap;\n",
              "      gap: 12px;\n",
              "    }\n",
              "\n",
              "    .colab-df-convert {\n",
              "      background-color: #E8F0FE;\n",
              "      border: none;\n",
              "      border-radius: 50%;\n",
              "      cursor: pointer;\n",
              "      display: none;\n",
              "      fill: #1967D2;\n",
              "      height: 32px;\n",
              "      padding: 0 0 0 0;\n",
              "      width: 32px;\n",
              "    }\n",
              "\n",
              "    .colab-df-convert:hover {\n",
              "      background-color: #E2EBFA;\n",
              "      box-shadow: 0px 1px 2px rgba(60, 64, 67, 0.3), 0px 1px 3px 1px rgba(60, 64, 67, 0.15);\n",
              "      fill: #174EA6;\n",
              "    }\n",
              "\n",
              "    [theme=dark] .colab-df-convert {\n",
              "      background-color: #3B4455;\n",
              "      fill: #D2E3FC;\n",
              "    }\n",
              "\n",
              "    [theme=dark] .colab-df-convert:hover {\n",
              "      background-color: #434B5C;\n",
              "      box-shadow: 0px 1px 3px 1px rgba(0, 0, 0, 0.15);\n",
              "      filter: drop-shadow(0px 1px 2px rgba(0, 0, 0, 0.3));\n",
              "      fill: #FFFFFF;\n",
              "    }\n",
              "  </style>\n",
              "\n",
              "      <script>\n",
              "        const buttonEl =\n",
              "          document.querySelector('#df-5e392ddb-7816-4e6c-8118-5fd2f4d746f4 button.colab-df-convert');\n",
              "        buttonEl.style.display =\n",
              "          google.colab.kernel.accessAllowed ? 'block' : 'none';\n",
              "\n",
              "        async function convertToInteractive(key) {\n",
              "          const element = document.querySelector('#df-5e392ddb-7816-4e6c-8118-5fd2f4d746f4');\n",
              "          const dataTable =\n",
              "            await google.colab.kernel.invokeFunction('convertToInteractive',\n",
              "                                                     [key], {});\n",
              "          if (!dataTable) return;\n",
              "\n",
              "          const docLinkHtml = 'Like what you see? Visit the ' +\n",
              "            '<a target=\"_blank\" href=https://colab.research.google.com/notebooks/data_table.ipynb>data table notebook</a>'\n",
              "            + ' to learn more about interactive tables.';\n",
              "          element.innerHTML = '';\n",
              "          dataTable['output_type'] = 'display_data';\n",
              "          await google.colab.output.renderOutput(dataTable, element);\n",
              "          const docLink = document.createElement('div');\n",
              "          docLink.innerHTML = docLinkHtml;\n",
              "          element.appendChild(docLink);\n",
              "        }\n",
              "      </script>\n",
              "    </div>\n",
              "  </div>\n",
              "  "
            ],
            "text/plain": [
              "        date group  orders  buyers  revenue  visitors\n",
              "0 2019-08-01     A      23      19   142779       719\n",
              "1 2019-08-01     B      17      17    59758       713\n",
              "2 2019-08-02     A      42      36   234381      1338\n",
              "3 2019-08-02     B      40      39   221801      1294\n",
              "4 2019-08-03     A      66      60   346854      1845"
            ]
          },
          "execution_count": 26,
          "metadata": {},
          "output_type": "execute_result"
        }
      ],
      "source": [
        "# создаем массив уникальных пар значений дат и групп теста\n",
        "datesGroups = orders[['date','group']].drop_duplicates()\n",
        "\n",
        "# соберём агрегированные кумулятивные по дням данные о заказах\n",
        "ordersAggregated = (datesGroups\n",
        "                    .apply(lambda x: orders[np.logical_and(orders['date'] <= x['date'],\n",
        "                                                           orders['group'] == x['group'])]\\\n",
        "                                      .agg({'date' : 'max', \n",
        "                                            'group' : 'max', \n",
        "                                            'transactionid' : 'nunique', \n",
        "                                            'visitorid' : 'nunique', \n",
        "                                            'revenue' : 'sum'}), \n",
        "                                      axis=1).sort_values(by=['date','group']))\n",
        "\n",
        "#Получаем агрегированные кумулятивные по дням данные о посетителях интернет-магазина \n",
        "visitorsAggregated = (datesGroups\n",
        "                      .apply(lambda x: visitors[np.logical_and(visitors['date'] <= x['date'],\n",
        "                                                               visitors['group'] == x['group'])]\\\n",
        "                                       .agg({'date' : 'max', \n",
        "                                            'group' : 'max', \n",
        "                                            'visitors' : 'sum'}), \n",
        "                             axis=1).sort_values(by=['date','group']))\n",
        "\n",
        "# объединяем кумулятивные данные в одной таблице и присваиваем ее столбцам понятные названия\n",
        "cumulativeData = ordersAggregated.merge(visitorsAggregated, left_on=['date', 'group'], right_on=['date', 'group'])\n",
        "cumulativeData.columns = ['date', 'group', 'orders', 'buyers', 'revenue', 'visitors']\n",
        "\n",
        "cumulativeData.head(5) "
      ]
    },
    {
      "cell_type": "code",
      "execution_count": null,
      "metadata": {
        "colab": {
          "base_uri": "https://localhost:8080/",
          "height": 336
        },
        "id": "5DjeBk05n6hs",
        "outputId": "3a88f1fc-7ec0-4850-b610-daa64b9210b6"
      },
      "outputs": [
        {
          "data": {
            "image/png": "[encoded data removed]",
            "text/plain": [
              "<Figure size 1080x360 with 1 Axes>"
            ]
          },
          "metadata": {
            "needs_background": "light"
          },
          "output_type": "display_data"
        }
      ],
      "source": [
        "# датафрейм с кумулятивным количеством заказов и кумулятивной выручкой по дням в группе А\n",
        "cumulativeRevenueA = cumulativeData[cumulativeData['group']=='A'][['date','revenue', 'orders']]\n",
        "\n",
        "# датафрейм с кумулятивным количеством заказов и кумулятивной выручкой по дням в группе B\n",
        "cumulativeRevenueB = cumulativeData[cumulativeData['group']=='B'][['date','revenue', 'orders']]\n",
        "\n",
        "plt.figure(figsize=(15,5))\n",
        "\n",
        "# Строим график выручки группы А\n",
        "plt.plot(cumulativeRevenueA['date'], cumulativeRevenueA['revenue'], label='A')\n",
        "\n",
        "# Строим график выручки группы B\n",
        "plt.plot(cumulativeRevenueB['date'], cumulativeRevenueB['revenue'], label='B')\n",
        "\n",
        "plt.legend()\n",
        "plt.grid()\n",
        "plt.title('Кумулятивная выручка')\n",
        "plt.ylabel('Выручка')\n",
        "plt.show()"
      ]
    },
    {
      "cell_type": "markdown",
      "metadata": {
        "id": "W1WSiaopn6ht"
      },
      "source": [
        "<b> Вывод: </b>\n",
        "\n",
        "Выручка почти равномерно увеличивается до 18.08.2019, затем резкий скачок у группы В. Это может сигнализировать о всплесках числа заказов, либо о появлении очень дорогих заказов."
      ]
    },
    {
      "cell_type": "markdown",
      "metadata": {
        "id": "uVPFGqwzn6hu"
      },
      "source": [
        "### Построим график кумулятивного среднего чека по группам."
      ]
    },
    {
      "cell_type": "code",
      "execution_count": null,
      "metadata": {
        "colab": {
          "base_uri": "https://localhost:8080/",
          "height": 336
        },
        "id": "PPRiMfyrn6hu",
        "outputId": "d3a2bdef-0729-46a6-fd2a-90de7b930f1f"
      },
      "outputs": [
        {
          "data": {
            "image/png": "[encoded data removed]",
            "text/plain": [
              "<Figure size 1080x360 with 1 Axes>"
            ]
          },
          "metadata": {
            "needs_background": "light"
          },
          "output_type": "display_data"
        }
      ],
      "source": [
        "# разделим кумулятивную выручку на кумулятивное число заказов:\n",
        "\n",
        "plt.figure(figsize=(15,5))\n",
        "\n",
        "plt.plot(cumulativeRevenueA['date'], cumulativeRevenueA['revenue']/cumulativeRevenueA['orders'], label='A')\n",
        "plt.plot(cumulativeRevenueB['date'], cumulativeRevenueB['revenue']/cumulativeRevenueB['orders'], label='B')\n",
        "\n",
        "plt.legend()\n",
        "plt.grid()\n",
        "plt.title('Кумулятивный средний чек')\n",
        "plt.show()"
      ]
    },
    {
      "cell_type": "markdown",
      "metadata": {
        "id": "KrFiWHdXn6hu"
      },
      "source": [
        "<b> Вывод: </b>\n",
        "\n",
        "Средний чек в группе А показывал недолгое падение, затем вырос и стабилизировался. Средний чек в группе В рос, после чего показал большой всплеск и начал плавно снижаться. Всплеск может быть связан с крупными заказами."
      ]
    },
    {
      "cell_type": "markdown",
      "metadata": {
        "id": "_XtB0SFcn6hv"
      },
      "source": [
        "### Построим график относительного изменения кумулятивного среднего чека группы B к группе A. "
      ]
    },
    {
      "cell_type": "code",
      "execution_count": null,
      "metadata": {
        "colab": {
          "base_uri": "https://localhost:8080/",
          "height": 336
        },
        "id": "y6RfDDFan6hv",
        "outputId": "43d1e579-0e2f-4ad5-d88e-28909507f843"
      },
      "outputs": [
        {
          "data": {
            "image/png": "[encoded data removed]",
            "text/plain": [
              "<Figure size 1080x360 with 1 Axes>"
            ]
          },
          "metadata": {
            "needs_background": "light"
          },
          "output_type": "display_data"
        }
      ],
      "source": [
        "# собираем данные в одном датафрейме\n",
        "mergedCumulativeRevenue = (cumulativeRevenueA.\n",
        "                           merge(cumulativeRevenueB, left_on='date', right_on='date', how='left', suffixes=['A', 'B']))\n",
        "\n",
        "plt.figure(figsize=(15,5))\n",
        "\n",
        "# cтроим отношение средних чеков\n",
        "plt.plot(mergedCumulativeRevenue['date'], \n",
        "         (mergedCumulativeRevenue['revenueB']/mergedCumulativeRevenue['ordersB'])/\n",
        "         (mergedCumulativeRevenue['revenueA']/mergedCumulativeRevenue['ordersA'])-1)\n",
        "\n",
        "# добавляем ось X\n",
        "plt.axhline(y=0, color='black', linestyle='--')\n",
        "\n",
        "plt.grid()\n",
        "plt.title('Относительное изменение кумулятивного среднего чека группы B к группе A')\n",
        "plt.show()"
      ]
    },
    {
      "cell_type": "markdown",
      "metadata": {
        "id": "FAq7e84Jn6hw"
      },
      "source": [
        "<b> Вывод: </b>\n",
        "\n",
        "Резкие ззменяющиеся значения среднего чего говорят об аномальных заказах."
      ]
    },
    {
      "cell_type": "markdown",
      "metadata": {
        "id": "6N0PcN9Cn6hw"
      },
      "source": [
        "### Построим график кумулятивного среднего количества заказов на посетителя по группам. "
      ]
    },
    {
      "cell_type": "code",
      "execution_count": null,
      "metadata": {
        "colab": {
          "base_uri": "https://localhost:8080/",
          "height": 336
        },
        "id": "m_xBM4L-n6hw",
        "outputId": "9a6678c4-2c1f-4cfd-a7f4-c3ec955a2e17"
      },
      "outputs": [
        {
          "data": {
            "image/png": "[encoded data removed]",
            "text/plain": [
              "<Figure size 1080x360 with 1 Axes>"
            ]
          },
          "metadata": {
            "needs_background": "light"
          },
          "output_type": "display_data"
        }
      ],
      "source": [
        "# считаем кумулятивную конверсию\n",
        "cumulativeData['conversion'] = cumulativeData['orders']/cumulativeData['visitors']\n",
        "\n",
        "# отделяем данные по группе A\n",
        "cumulativeDataA = cumulativeData[cumulativeData['group']=='A']\n",
        "\n",
        "# отделяем данные по группе B\n",
        "cumulativeDataB = cumulativeData[cumulativeData['group']=='B']\n",
        "\n",
        "plt.figure(figsize=(15,5))\n",
        "\n",
        "# строим графики\n",
        "plt.plot(cumulativeDataA['date'], cumulativeDataA['conversion'], label='A')\n",
        "plt.plot(cumulativeDataB['date'], cumulativeDataB['conversion'], label='B')\n",
        "\n",
        "plt.legend()\n",
        "plt.grid()\n",
        "plt.title('Кумулятивная конверсия')\n",
        "plt.show()"
      ]
    },
    {
      "cell_type": "markdown",
      "metadata": {
        "id": "ziAihGUjn6hx"
      },
      "source": [
        "<b> Вывод: </b>\n",
        "\n",
        "В течение полутора недель обе кривые стабилизировались, каждая на своём уровне. Конверсия группы В выше, конверсии группы А."
      ]
    },
    {
      "cell_type": "markdown",
      "metadata": {
        "id": "ZQ6RZuwMn6hx"
      },
      "source": [
        "### Построим график относительного изменения кумулятивного среднего количества заказов на посетителя группы B к группе A. "
      ]
    },
    {
      "cell_type": "code",
      "execution_count": null,
      "metadata": {
        "colab": {
          "base_uri": "https://localhost:8080/",
          "height": 336
        },
        "id": "tqsXvmlRn6hx",
        "outputId": "2299faf6-5123-4bf7-ca4e-5f89313b1a70"
      },
      "outputs": [
        {
          "data": {
            "image/png": "[encoded data removed]",
            "text/plain": [
              "<Figure size 1080x360 with 1 Axes>"
            ]
          },
          "metadata": {
            "needs_background": "light"
          },
          "output_type": "display_data"
        }
      ],
      "source": [
        "mergedCumulativeConversions = (cumulativeDataA[['date','conversion']].\n",
        "                               merge(cumulativeDataB[['date','conversion']],\n",
        "                                     left_on='date', right_on='date', how='left', suffixes=['A', 'B']))\n",
        "\n",
        "plt.figure(figsize=(15,5))\n",
        "\n",
        "# строим графики\n",
        "plt.plot(mergedCumulativeConversions['date'], \n",
        "         mergedCumulativeConversions['conversionB'] / mergedCumulativeConversions['conversionA']-1,\n",
        "         label=\"Относительный прирост конверсии группы B относительно группы A\")\n",
        "\n",
        "# добавляем ось X\n",
        "plt.axhline(y=0, color='black', linestyle='--')\n",
        "\n",
        "plt.legend()\n",
        "plt.grid()\n",
        "plt.title('Относительное изменение кумулятивной конверсии группы B к группе A')\n",
        "plt.show()"
      ]
    },
    {
      "cell_type": "markdown",
      "metadata": {
        "id": "_9yEZxnun6hy"
      },
      "source": [
        "<b> Вывод: </b>\n",
        "\n",
        "Конверсия группы В выше на протяжении почти всего теста."
      ]
    },
    {
      "cell_type": "markdown",
      "metadata": {
        "id": "gpcToyMJn6hz"
      },
      "source": [
        "### Построим точечный график количества заказов по пользователям. "
      ]
    },
    {
      "cell_type": "code",
      "execution_count": null,
      "metadata": {
        "colab": {
          "base_uri": "https://localhost:8080/",
          "height": 363
        },
        "id": "iDkav1y4n6hz",
        "outputId": "c0c3c8ed-4f9b-4f27-e489-b60687035ae8"
      },
      "outputs": [
        {
          "data": {
            "text/html": [
              "\n",
              "  <div id=\"df-488f97d2-d22a-4336-8c93-fde316106992\">\n",
              "    <div class=\"colab-df-container\">\n",
              "      <div>\n",
              "<style scoped>\n",
              "    .dataframe tbody tr th:only-of-type {\n",
              "        vertical-align: middle;\n",
              "    }\n",
              "\n",
              "    .dataframe tbody tr th {\n",
              "        vertical-align: top;\n",
              "    }\n",
              "\n",
              "    .dataframe thead th {\n",
              "        text-align: right;\n",
              "    }\n",
              "</style>\n",
              "<table border=\"1\" class=\"dataframe\">\n",
              "  <thead>\n",
              "    <tr style=\"text-align: right;\">\n",
              "      <th></th>\n",
              "      <th>userId</th>\n",
              "      <th>orders</th>\n",
              "    </tr>\n",
              "  </thead>\n",
              "  <tbody>\n",
              "    <tr>\n",
              "      <th>908</th>\n",
              "      <td>3967698036</td>\n",
              "      <td>3</td>\n",
              "    </tr>\n",
              "    <tr>\n",
              "      <th>55</th>\n",
              "      <td>249864742</td>\n",
              "      <td>3</td>\n",
              "    </tr>\n",
              "    <tr>\n",
              "      <th>478</th>\n",
              "      <td>2108163459</td>\n",
              "      <td>3</td>\n",
              "    </tr>\n",
              "    <tr>\n",
              "      <th>687</th>\n",
              "      <td>2988190573</td>\n",
              "      <td>3</td>\n",
              "    </tr>\n",
              "    <tr>\n",
              "      <th>890</th>\n",
              "      <td>3908431265</td>\n",
              "      <td>3</td>\n",
              "    </tr>\n",
              "    <tr>\n",
              "      <th>138</th>\n",
              "      <td>611059232</td>\n",
              "      <td>3</td>\n",
              "    </tr>\n",
              "    <tr>\n",
              "      <th>632</th>\n",
              "      <td>2742574263</td>\n",
              "      <td>3</td>\n",
              "    </tr>\n",
              "    <tr>\n",
              "      <th>157</th>\n",
              "      <td>678354126</td>\n",
              "      <td>2</td>\n",
              "    </tr>\n",
              "    <tr>\n",
              "      <th>323</th>\n",
              "      <td>1404560065</td>\n",
              "      <td>2</td>\n",
              "    </tr>\n",
              "    <tr>\n",
              "      <th>452</th>\n",
              "      <td>1985475298</td>\n",
              "      <td>2</td>\n",
              "    </tr>\n",
              "  </tbody>\n",
              "</table>\n",
              "</div>\n",
              "      <button class=\"colab-df-convert\" onclick=\"convertToInteractive('df-488f97d2-d22a-4336-8c93-fde316106992')\"\n",
              "              title=\"Convert this dataframe to an interactive table.\"\n",
              "              style=\"display:none;\">\n",
              "        \n",
              "  <svg xmlns=\"http://www.w3.org/2000/svg\" height=\"24px\"viewBox=\"0 0 24 24\"\n",
              "       width=\"24px\">\n",
              "    <path d=\"M0 0h24v24H0V0z\" fill=\"none\"/>\n",
              "    <path d=\"M18.56 5.44l.94 2.06.94-2.06 2.06-.94-2.06-.94-.94-2.06-.94 2.06-2.06.94zm-11 1L8.5 8.5l.94-2.06 2.06-.94-2.06-.94L8.5 2.5l-.94 2.06-2.06.94zm10 10l.94 2.06.94-2.06 2.06-.94-2.06-.94-.94-2.06-.94 2.06-2.06.94z\"/><path d=\"M17.41 7.96l-1.37-1.37c-.4-.4-.92-.59-1.43-.59-.52 0-1.04.2-1.43.59L10.3 9.45l-7.72 7.72c-.78.78-.78 2.05 0 2.83L4 21.41c.39.39.9.59 1.41.59.51 0 1.02-.2 1.41-.59l7.78-7.78 2.81-2.81c.8-.78.8-2.07 0-2.86zM5.41 20L4 18.59l7.72-7.72 1.47 1.35L5.41 20z\"/>\n",
              "  </svg>\n",
              "      </button>\n",
              "      \n",
              "  <style>\n",
              "    .colab-df-container {\n",
              "      display:flex;\n",
              "      flex-wrap:wrap;\n",
              "      gap: 12px;\n",
              "    }\n",
              "\n",
              "    .colab-df-convert {\n",
              "      background-color: #E8F0FE;\n",
              "      border: none;\n",
              "      border-radius: 50%;\n",
              "      cursor: pointer;\n",
              "      display: none;\n",
              "      fill: #1967D2;\n",
              "      height: 32px;\n",
              "      padding: 0 0 0 0;\n",
              "      width: 32px;\n",
              "    }\n",
              "\n",
              "    .colab-df-convert:hover {\n",
              "      background-color: #E2EBFA;\n",
              "      box-shadow: 0px 1px 2px rgba(60, 64, 67, 0.3), 0px 1px 3px 1px rgba(60, 64, 67, 0.15);\n",
              "      fill: #174EA6;\n",
              "    }\n",
              "\n",
              "    [theme=dark] .colab-df-convert {\n",
              "      background-color: #3B4455;\n",
              "      fill: #D2E3FC;\n",
              "    }\n",
              "\n",
              "    [theme=dark] .colab-df-convert:hover {\n",
              "      background-color: #434B5C;\n",
              "      box-shadow: 0px 1px 3px 1px rgba(0, 0, 0, 0.15);\n",
              "      filter: drop-shadow(0px 1px 2px rgba(0, 0, 0, 0.3));\n",
              "      fill: #FFFFFF;\n",
              "    }\n",
              "  </style>\n",
              "\n",
              "      <script>\n",
              "        const buttonEl =\n",
              "          document.querySelector('#df-488f97d2-d22a-4336-8c93-fde316106992 button.colab-df-convert');\n",
              "        buttonEl.style.display =\n",
              "          google.colab.kernel.accessAllowed ? 'block' : 'none';\n",
              "\n",
              "        async function convertToInteractive(key) {\n",
              "          const element = document.querySelector('#df-488f97d2-d22a-4336-8c93-fde316106992');\n",
              "          const dataTable =\n",
              "            await google.colab.kernel.invokeFunction('convertToInteractive',\n",
              "                                                     [key], {});\n",
              "          if (!dataTable) return;\n",
              "\n",
              "          const docLinkHtml = 'Like what you see? Visit the ' +\n",
              "            '<a target=\"_blank\" href=https://colab.research.google.com/notebooks/data_table.ipynb>data table notebook</a>'\n",
              "            + ' to learn more about interactive tables.';\n",
              "          element.innerHTML = '';\n",
              "          dataTable['output_type'] = 'display_data';\n",
              "          await google.colab.output.renderOutput(dataTable, element);\n",
              "          const docLink = document.createElement('div');\n",
              "          docLink.innerHTML = docLinkHtml;\n",
              "          element.appendChild(docLink);\n",
              "        }\n",
              "      </script>\n",
              "    </div>\n",
              "  </div>\n",
              "  "
            ],
            "text/plain": [
              "         userId  orders\n",
              "908  3967698036       3\n",
              "55    249864742       3\n",
              "478  2108163459       3\n",
              "687  2988190573       3\n",
              "890  3908431265       3\n",
              "138   611059232       3\n",
              "632  2742574263       3\n",
              "157   678354126       2\n",
              "323  1404560065       2\n",
              "452  1985475298       2"
            ]
          },
          "execution_count": 32,
          "metadata": {},
          "output_type": "execute_result"
        }
      ],
      "source": [
        "# подсчитаем количество заказов по пользователям и посмотрим на результат:\n",
        "ordersByUsers = (\n",
        "    orders.groupby('visitorid', as_index=False)\n",
        "    .agg({'transactionid': 'nunique'})\n",
        ")\n",
        "\n",
        "ordersByUsers.columns = ['userId', 'orders']\n",
        "\n",
        "ordersByUsers.sort_values(by='orders', ascending=False).head(10)"
      ]
    },
    {
      "cell_type": "code",
      "execution_count": null,
      "metadata": {
        "colab": {
          "base_uri": "https://localhost:8080/",
          "height": 336
        },
        "id": "EFwUSr7dn6hz",
        "outputId": "8128b12e-b51b-43b1-b1a9-cb813d40086a"
      },
      "outputs": [
        {
          "data": {
            "image/png": "[encoded data removed]",
            "text/plain": [
              "<Figure size 1080x360 with 1 Axes>"
            ]
          },
          "metadata": {
            "needs_background": "light"
          },
          "output_type": "display_data"
        }
      ],
      "source": [
        "# построим точечную диаграмму числа заказов на одного пользователя:\n",
        "x_values = pd.Series(range(0,len(ordersByUsers)))\n",
        "\n",
        "plt.figure(figsize=(15,5))\n",
        "plt.scatter(x_values, ordersByUsers['orders']) \n",
        "\n",
        "plt.grid()\n",
        "plt.title('Количество заказов по пользователям')\n",
        "plt.show()"
      ]
    },
    {
      "cell_type": "markdown",
      "metadata": {
        "id": "louQM1RYn6h0"
      },
      "source": [
        "<b> Вывод: </b>\n",
        "\n",
        "Большинство пользователей совершает 1 заказ. Реже - 2 заказа и  далее по убыванию количества заказов."
      ]
    },
    {
      "cell_type": "markdown",
      "metadata": {
        "id": "dguoGq_7n6h0"
      },
      "source": [
        "### Посчитаем 95-й и 99-й перцентили количества заказов на пользователя. Выберем границу для определения аномальных пользователей."
      ]
    },
    {
      "cell_type": "code",
      "execution_count": null,
      "metadata": {
        "colab": {
          "base_uri": "https://localhost:8080/"
        },
        "id": "_zGhyM0on6h0",
        "outputId": "f623a146-b54f-49ec-97d9-5c52a644c52d"
      },
      "outputs": [
        {
          "data": {
            "text/plain": [
              "array([1., 2.])"
            ]
          },
          "execution_count": 34,
          "metadata": {},
          "output_type": "execute_result"
        }
      ],
      "source": [
        "np.percentile(ordersByUsers['orders'], [95, 99])"
      ]
    },
    {
      "cell_type": "markdown",
      "metadata": {
        "id": "j1OoZ7GNn6h0"
      },
      "source": [
        "<b> Вывод: </b>\n",
        "\n",
        "5% пользователей оформляли более 1 заказа. И 1% пользователей оформляли более 2 заказов.\n",
        "Всё что выше 1 заказа можно принять за аномальные значения и отсеить их. "
      ]
    },
    {
      "cell_type": "markdown",
      "metadata": {
        "id": "Py8UcwgWn6h1"
      },
      "source": [
        "### Построим точечный график стоимостей заказов. "
      ]
    },
    {
      "cell_type": "code",
      "execution_count": null,
      "metadata": {
        "colab": {
          "base_uri": "https://localhost:8080/",
          "height": 336
        },
        "id": "4jg9TLGJn6h1",
        "outputId": "18be26e1-dd43-4ab2-af72-c8a015f6be58"
      },
      "outputs": [
        {
          "data": {
            "image/png": "[encoded data removed]",
            "text/plain": [
              "<Figure size 1080x360 with 1 Axes>"
            ]
          },
          "metadata": {
            "needs_background": "light"
          },
          "output_type": "display_data"
        }
      ],
      "source": [
        "# построим точечную диаграмму стоимостей заказов:\n",
        "x_values = pd.Series(range(0,len(orders['revenue'])))\n",
        "\n",
        "plt.figure(figsize=(15,5))\n",
        "plt.scatter(x_values, orders['revenue']) \n",
        "\n",
        "plt.grid()\n",
        "plt.title('Стоимость заказов')\n",
        "plt.show()"
      ]
    },
    {
      "cell_type": "markdown",
      "metadata": {
        "id": "5OmbMT1Ln6h2"
      },
      "source": [
        "<b> Вывод: </b>\n",
        "\n",
        "Есть пару выбросов, которые значительно отличаются от общей массы. Они и могли вызывать выбросы на графиках выше. "
      ]
    },
    {
      "cell_type": "markdown",
      "metadata": {
        "id": "3Rr2YXi7n6h2"
      },
      "source": [
        "### Посчитаем 95-й и 99-й перцентили стоимости заказов. Выберем границу для определения аномальных заказов."
      ]
    },
    {
      "cell_type": "code",
      "execution_count": null,
      "metadata": {
        "colab": {
          "base_uri": "https://localhost:8080/"
        },
        "id": "SGFfaKh_n6h2",
        "outputId": "c3e2d8f1-b533-4ba0-cd4b-45dad9977af9"
      },
      "outputs": [
        {
          "data": {
            "text/plain": [
              "array([26785., 53904.])"
            ]
          },
          "execution_count": 36,
          "metadata": {},
          "output_type": "execute_result"
        }
      ],
      "source": [
        "np.percentile(orders['revenue'], [95, 99])"
      ]
    },
    {
      "cell_type": "markdown",
      "metadata": {
        "id": "bzzlNrBqn6h2"
      },
      "source": [
        "<b> Вывод: </b>\n",
        "\n",
        "5% заказов выше 26 785 руб. и 1% выше 53 904 руб. Границей аномальных заказов выберем 26 785 руб."
      ]
    },
    {
      "cell_type": "markdown",
      "metadata": {
        "id": "pCHNXmmzn6h3"
      },
      "source": [
        "### Посчитаем статистическую значимость различий в среднем количестве заказов на посетителя между группами по «сырым» данным. "
      ]
    },
    {
      "cell_type": "code",
      "execution_count": null,
      "metadata": {
        "colab": {
          "base_uri": "https://localhost:8080/",
          "height": 206
        },
        "id": "TeFQNYzLn6h3",
        "outputId": "05821052-970b-4d7d-a3ef-5d75eec8d879"
      },
      "outputs": [
        {
          "data": {
            "text/html": [
              "\n",
              "  <div id=\"df-1e7c9329-97ec-406e-a51d-c52e767904b5\">\n",
              "    <div class=\"colab-df-container\">\n",
              "      <div>\n",
              "<style scoped>\n",
              "    .dataframe tbody tr th:only-of-type {\n",
              "        vertical-align: middle;\n",
              "    }\n",
              "\n",
              "    .dataframe tbody tr th {\n",
              "        vertical-align: top;\n",
              "    }\n",
              "\n",
              "    .dataframe thead th {\n",
              "        text-align: right;\n",
              "    }\n",
              "</style>\n",
              "<table border=\"1\" class=\"dataframe\">\n",
              "  <thead>\n",
              "    <tr style=\"text-align: right;\">\n",
              "      <th></th>\n",
              "      <th>date</th>\n",
              "      <th>ordersPerDateA</th>\n",
              "      <th>revenuePerDateA</th>\n",
              "      <th>ordersPerDateB</th>\n",
              "      <th>revenuePerDateB</th>\n",
              "      <th>ordersCummulativeA</th>\n",
              "      <th>revenueCummulativeA</th>\n",
              "      <th>ordersCummulativeB</th>\n",
              "      <th>revenueCummulativeB</th>\n",
              "      <th>visitorsPerDateA</th>\n",
              "      <th>visitorsPerDateB</th>\n",
              "      <th>visitorsCummulativeA</th>\n",
              "      <th>visitorsCummulativeB</th>\n",
              "    </tr>\n",
              "  </thead>\n",
              "  <tbody>\n",
              "    <tr>\n",
              "      <th>0</th>\n",
              "      <td>2019-08-01</td>\n",
              "      <td>23</td>\n",
              "      <td>142779</td>\n",
              "      <td>17</td>\n",
              "      <td>59758</td>\n",
              "      <td>23</td>\n",
              "      <td>142779</td>\n",
              "      <td>17</td>\n",
              "      <td>59758</td>\n",
              "      <td>719</td>\n",
              "      <td>713</td>\n",
              "      <td>719</td>\n",
              "      <td>713</td>\n",
              "    </tr>\n",
              "    <tr>\n",
              "      <th>1</th>\n",
              "      <td>2019-08-02</td>\n",
              "      <td>19</td>\n",
              "      <td>91602</td>\n",
              "      <td>23</td>\n",
              "      <td>162043</td>\n",
              "      <td>42</td>\n",
              "      <td>234381</td>\n",
              "      <td>40</td>\n",
              "      <td>221801</td>\n",
              "      <td>619</td>\n",
              "      <td>581</td>\n",
              "      <td>1338</td>\n",
              "      <td>1294</td>\n",
              "    </tr>\n",
              "    <tr>\n",
              "      <th>2</th>\n",
              "      <td>2019-08-03</td>\n",
              "      <td>24</td>\n",
              "      <td>112473</td>\n",
              "      <td>14</td>\n",
              "      <td>67049</td>\n",
              "      <td>66</td>\n",
              "      <td>346854</td>\n",
              "      <td>54</td>\n",
              "      <td>288850</td>\n",
              "      <td>507</td>\n",
              "      <td>509</td>\n",
              "      <td>1845</td>\n",
              "      <td>1803</td>\n",
              "    </tr>\n",
              "    <tr>\n",
              "      <th>3</th>\n",
              "      <td>2019-08-04</td>\n",
              "      <td>11</td>\n",
              "      <td>41176</td>\n",
              "      <td>14</td>\n",
              "      <td>96890</td>\n",
              "      <td>77</td>\n",
              "      <td>388030</td>\n",
              "      <td>68</td>\n",
              "      <td>385740</td>\n",
              "      <td>717</td>\n",
              "      <td>770</td>\n",
              "      <td>2562</td>\n",
              "      <td>2573</td>\n",
              "    </tr>\n",
              "    <tr>\n",
              "      <th>4</th>\n",
              "      <td>2019-08-05</td>\n",
              "      <td>22</td>\n",
              "      <td>86383</td>\n",
              "      <td>21</td>\n",
              "      <td>89908</td>\n",
              "      <td>99</td>\n",
              "      <td>474413</td>\n",
              "      <td>89</td>\n",
              "      <td>475648</td>\n",
              "      <td>756</td>\n",
              "      <td>707</td>\n",
              "      <td>3318</td>\n",
              "      <td>3280</td>\n",
              "    </tr>\n",
              "  </tbody>\n",
              "</table>\n",
              "</div>\n",
              "      <button class=\"colab-df-convert\" onclick=\"convertToInteractive('df-1e7c9329-97ec-406e-a51d-c52e767904b5')\"\n",
              "              title=\"Convert this dataframe to an interactive table.\"\n",
              "              style=\"display:none;\">\n",
              "        \n",
              "  <svg xmlns=\"http://www.w3.org/2000/svg\" height=\"24px\"viewBox=\"0 0 24 24\"\n",
              "       width=\"24px\">\n",
              "    <path d=\"M0 0h24v24H0V0z\" fill=\"none\"/>\n",
              "    <path d=\"M18.56 5.44l.94 2.06.94-2.06 2.06-.94-2.06-.94-.94-2.06-.94 2.06-2.06.94zm-11 1L8.5 8.5l.94-2.06 2.06-.94-2.06-.94L8.5 2.5l-.94 2.06-2.06.94zm10 10l.94 2.06.94-2.06 2.06-.94-2.06-.94-.94-2.06-.94 2.06-2.06.94z\"/><path d=\"M17.41 7.96l-1.37-1.37c-.4-.4-.92-.59-1.43-.59-.52 0-1.04.2-1.43.59L10.3 9.45l-7.72 7.72c-.78.78-.78 2.05 0 2.83L4 21.41c.39.39.9.59 1.41.59.51 0 1.02-.2 1.41-.59l7.78-7.78 2.81-2.81c.8-.78.8-2.07 0-2.86zM5.41 20L4 18.59l7.72-7.72 1.47 1.35L5.41 20z\"/>\n",
              "  </svg>\n",
              "      </button>\n",
              "      \n",
              "  <style>\n",
              "    .colab-df-container {\n",
              "      display:flex;\n",
              "      flex-wrap:wrap;\n",
              "      gap: 12px;\n",
              "    }\n",
              "\n",
              "    .colab-df-convert {\n",
              "      background-color: #E8F0FE;\n",
              "      border: none;\n",
              "      border-radius: 50%;\n",
              "      cursor: pointer;\n",
              "      display: none;\n",
              "      fill: #1967D2;\n",
              "      height: 32px;\n",
              "      padding: 0 0 0 0;\n",
              "      width: 32px;\n",
              "    }\n",
              "\n",
              "    .colab-df-convert:hover {\n",
              "      background-color: #E2EBFA;\n",
              "      box-shadow: 0px 1px 2px rgba(60, 64, 67, 0.3), 0px 1px 3px 1px rgba(60, 64, 67, 0.15);\n",
              "      fill: #174EA6;\n",
              "    }\n",
              "\n",
              "    [theme=dark] .colab-df-convert {\n",
              "      background-color: #3B4455;\n",
              "      fill: #D2E3FC;\n",
              "    }\n",
              "\n",
              "    [theme=dark] .colab-df-convert:hover {\n",
              "      background-color: #434B5C;\n",
              "      box-shadow: 0px 1px 3px 1px rgba(0, 0, 0, 0.15);\n",
              "      filter: drop-shadow(0px 1px 2px rgba(0, 0, 0, 0.3));\n",
              "      fill: #FFFFFF;\n",
              "    }\n",
              "  </style>\n",
              "\n",
              "      <script>\n",
              "        const buttonEl =\n",
              "          document.querySelector('#df-1e7c9329-97ec-406e-a51d-c52e767904b5 button.colab-df-convert');\n",
              "        buttonEl.style.display =\n",
              "          google.colab.kernel.accessAllowed ? 'block' : 'none';\n",
              "\n",
              "        async function convertToInteractive(key) {\n",
              "          const element = document.querySelector('#df-1e7c9329-97ec-406e-a51d-c52e767904b5');\n",
              "          const dataTable =\n",
              "            await google.colab.kernel.invokeFunction('convertToInteractive',\n",
              "                                                     [key], {});\n",
              "          if (!dataTable) return;\n",
              "\n",
              "          const docLinkHtml = 'Like what you see? Visit the ' +\n",
              "            '<a target=\"_blank\" href=https://colab.research.google.com/notebooks/data_table.ipynb>data table notebook</a>'\n",
              "            + ' to learn more about interactive tables.';\n",
              "          element.innerHTML = '';\n",
              "          dataTable['output_type'] = 'display_data';\n",
              "          await google.colab.output.renderOutput(dataTable, element);\n",
              "          const docLink = document.createElement('div');\n",
              "          docLink.innerHTML = docLinkHtml;\n",
              "          element.appendChild(docLink);\n",
              "        }\n",
              "      </script>\n",
              "    </div>\n",
              "  </div>\n",
              "  "
            ],
            "text/plain": [
              "        date  ordersPerDateA  revenuePerDateA  ordersPerDateB  \\\n",
              "0 2019-08-01              23           142779              17   \n",
              "1 2019-08-02              19            91602              23   \n",
              "2 2019-08-03              24           112473              14   \n",
              "3 2019-08-04              11            41176              14   \n",
              "4 2019-08-05              22            86383              21   \n",
              "\n",
              "   revenuePerDateB  ordersCummulativeA  revenueCummulativeA  \\\n",
              "0            59758                  23               142779   \n",
              "1           162043                  42               234381   \n",
              "2            67049                  66               346854   \n",
              "3            96890                  77               388030   \n",
              "4            89908                  99               474413   \n",
              "\n",
              "   ordersCummulativeB  revenueCummulativeB  visitorsPerDateA  \\\n",
              "0                  17                59758               719   \n",
              "1                  40               221801               619   \n",
              "2                  54               288850               507   \n",
              "3                  68               385740               717   \n",
              "4                  89               475648               756   \n",
              "\n",
              "   visitorsPerDateB  visitorsCummulativeA  visitorsCummulativeB  \n",
              "0               713                   719                   713  \n",
              "1               581                  1338                  1294  \n",
              "2               509                  1845                  1803  \n",
              "3               770                  2562                  2573  \n",
              "4               707                  3318                  3280  "
            ]
          },
          "execution_count": 37,
          "metadata": {},
          "output_type": "execute_result"
        }
      ],
      "source": [
        "visitorsADaily = visitors[visitors['group'] == 'A'][['date', 'visitors']]\n",
        "visitorsADaily.columns = ['date', 'visitorsPerDateA']\n",
        "\n",
        "visitorsACummulative = visitorsADaily.apply(\n",
        "    lambda x: visitorsADaily[visitorsADaily['date'] <= x['date']].agg(\n",
        "        {'date': 'max', 'visitorsPerDateA': 'sum'}\n",
        "    ),\n",
        "    axis=1,\n",
        ")\n",
        "visitorsACummulative.columns = ['date', 'visitorsCummulativeA']\n",
        "\n",
        "visitorsBDaily = visitors[visitors['group'] == 'B'][['date', 'visitors']]\n",
        "visitorsBDaily.columns = ['date', 'visitorsPerDateB']\n",
        "\n",
        "visitorsBCummulative = visitorsBDaily.apply(\n",
        "    lambda x: visitorsBDaily[visitorsBDaily['date'] <= x['date']].agg(\n",
        "        {'date': 'max', 'visitorsPerDateB': 'sum'}\n",
        "    ),\n",
        "    axis=1,\n",
        ")\n",
        "visitorsBCummulative.columns = ['date', 'visitorsCummulativeB']\n",
        "\n",
        "ordersADaily = (\n",
        "    orders[orders['group'] == 'A'][['date', 'transactionid', 'visitorid', 'revenue']]\n",
        "    .groupby('date', as_index=False)\n",
        "    .agg({'transactionid': pd.Series.nunique, 'revenue': 'sum'})\n",
        ")\n",
        "ordersADaily.columns = ['date', 'ordersPerDateA', 'revenuePerDateA']\n",
        "\n",
        "ordersACummulative = ordersADaily.apply(\n",
        "    lambda x: ordersADaily[ordersADaily['date'] <= x['date']].agg(\n",
        "        {'date': 'max', 'ordersPerDateA': 'sum', 'revenuePerDateA': 'sum'}\n",
        "    ),\n",
        "    axis=1,\n",
        ").sort_values(by=['date'])\n",
        "ordersACummulative.columns = [\n",
        "    'date',\n",
        "    'ordersCummulativeA',\n",
        "    'revenueCummulativeA',\n",
        "]\n",
        "\n",
        "ordersBDaily = (\n",
        "    orders[orders['group'] == 'B'][['date', 'transactionid', 'visitorid', 'revenue']]\n",
        "    .groupby('date', as_index=False)\n",
        "    .agg({'transactionid': pd.Series.nunique, 'revenue': 'sum'})\n",
        ")\n",
        "ordersBDaily.columns = ['date', 'ordersPerDateB', 'revenuePerDateB']\n",
        "\n",
        "ordersBCummulative = ordersBDaily.apply(\n",
        "    lambda x: ordersBDaily[ordersBDaily['date'] <= x['date']].agg(\n",
        "        {'date': 'max', 'ordersPerDateB': 'sum', 'revenuePerDateB': 'sum'}\n",
        "    ),\n",
        "    axis=1,\n",
        ").sort_values(by=['date'])\n",
        "ordersBCummulative.columns = [\n",
        "    'date',\n",
        "    'ordersCummulativeB',\n",
        "    'revenueCummulativeB',\n",
        "]\n",
        "\n",
        "data = (\n",
        "    ordersADaily.merge(\n",
        "        ordersBDaily, left_on='date', right_on='date', how='left'\n",
        "    )\n",
        "    .merge(ordersACummulative, left_on='date', right_on='date', how='left')\n",
        "    .merge(ordersBCummulative, left_on='date', right_on='date', how='left')\n",
        "    .merge(visitorsADaily, left_on='date', right_on='date', how='left')\n",
        "    .merge(visitorsBDaily, left_on='date', right_on='date', how='left')\n",
        "    .merge(visitorsACummulative, left_on='date', right_on='date', how='left')\n",
        "    .merge(visitorsBCummulative, left_on='date', right_on='date', how='left')\n",
        ")\n",
        "\n",
        "data.head(5)"
      ]
    },
    {
      "cell_type": "code",
      "execution_count": null,
      "metadata": {
        "id": "pXn4VEa4n6h4"
      },
      "outputs": [],
      "source": [
        "# посчитаем статистическую значимость различия в среднем количестве заказов между группами\n",
        "\n",
        "# создадим переменные ordersByUsersA и ordersByUsersB со столбцами ['userId', 'orders']. \n",
        "# в них для пользователей, которые заказывали хотя бы 1 раз, укажем число совершённых заказов.\n",
        "\n",
        "ordersByUsersA = (\n",
        "    orders[orders['group'] == 'A']\n",
        "    .groupby('visitorid', as_index=False)\n",
        "    .agg({'transactionid': pd.Series.nunique})\n",
        ")\n",
        "ordersByUsersA.columns = ['visitorid', 'orders']\n",
        "\n",
        "ordersByUsersB = (\n",
        "    orders[orders['group'] == 'B']\n",
        "    .groupby('visitorid', as_index=False)\n",
        "    .agg({'transactionid': pd.Series.nunique})\n",
        ")\n",
        "ordersByUsersB.columns = ['visitorid', 'orders'] "
      ]
    },
    {
      "cell_type": "code",
      "execution_count": null,
      "metadata": {
        "id": "SfJ4fF62n6h5"
      },
      "outputs": [],
      "source": [
        "# объявим переменные sampleA и sampleB, в которых пользователям из разных групп будет соответствовать количество заказов. \n",
        "# тем, кто ничего не заказал, будут соответствовать нули. \n",
        "# это нужно, чтобы подготовить выборки к проверке критерием Манна-Уитни.\n",
        "\n",
        "sampleA = (pd.concat([ordersByUsersA['orders'],\n",
        "                      pd.Series(0, index=np.arange\n",
        "                                (data['visitorsPerDateA'].sum() - len(ordersByUsersA['orders'])), name='orders')],axis=0))\n",
        "\n",
        "sampleB = (pd.concat([ordersByUsersB['orders'],\n",
        "                      pd.Series(0, index=np.arange\n",
        "                                (data['visitorsPerDateB'].sum() - len(ordersByUsersB['orders'])), name='orders')],axis=0))"
      ]
    },
    {
      "cell_type": "markdown",
      "metadata": {
        "id": "SX9fsS5fn6h5"
      },
      "source": [
        "Нулевая гипотеза H0 - статистически значимых различий в среднем количестве заказов на посетителя между группами по «сырым» данным нет.\n",
        "\n",
        "Альтернативная гипотеза Н1 - статистически значимые различия в среднем количестве заказов на посетителя между группами по «сырым» данным есть."
      ]
    },
    {
      "cell_type": "code",
      "execution_count": null,
      "metadata": {
        "colab": {
          "base_uri": "https://localhost:8080/"
        },
        "id": "IISZ8aXBn6h6",
        "outputId": "e8ee9229-ec53-457e-f1b8-43d6996e3a49"
      },
      "outputs": [
        {
          "name": "stdout",
          "output_type": "stream",
          "text": [
            "p-value = 0.011\n",
            "относительный прирост конверсии группы B к А = 0.160\n"
          ]
        }
      ],
      "source": [
        "# применим критерий и отформатируем p-value, округлив его до трёх знаков после запятой.\n",
        "\n",
        "alpha = 0.05\n",
        "\n",
        "print(\"p-value = {0:.3f}\".format(st.mannwhitneyu(sampleA, sampleB)[1]))\n",
        "print(\"относительный прирост конверсии группы B к А = {0:.3f}\".format(sampleB.mean() / sampleA.mean() - 1))"
      ]
    },
    {
      "cell_type": "markdown",
      "metadata": {
        "id": "uhQGbi38n6h7"
      },
      "source": [
        "<b> Вывод: </b>\n",
        "\n",
        "Различия в среднем количестве заказов на посетителя между группами по «сырым» данным есть.\n",
        "Первое число — p-value = 0.011 меньше 0.05. Значит, нулевую гипотезу о том, что статистически значимых различий в среднем числе заказов между группами нет, отвергаем. \n",
        "\n",
        "Второе число в выводе - 16 % - относительный прирост конверсии группы B к группе А.\n"
      ]
    },
    {
      "cell_type": "markdown",
      "metadata": {
        "id": "vrue30orn6h7"
      },
      "source": [
        "### Посчитаем статистическую значимость различий в среднем чеке заказа между группами по «сырым» данным. "
      ]
    },
    {
      "cell_type": "markdown",
      "metadata": {
        "id": "KdP3xSyZn6h7"
      },
      "source": [
        "Нулевая гипотеза Н0 - статистически значимых различий в среднем чеке между группами нет. \n",
        "\n",
        "Альтернативная гипотеза Н1 - статистически значимые различия в среднем чеке между группами есть.\n",
        "\n",
        "\n",
        "Чтобы рассчитать статистическую значимость различий в среднем чеке, передадим критерию mannwhitneyu() данные о выручке с заказов. А ещё найдём относительные различия в среднем чеке между группами."
      ]
    },
    {
      "cell_type": "code",
      "execution_count": null,
      "metadata": {
        "colab": {
          "base_uri": "https://localhost:8080/"
        },
        "id": "3Kg6szqun6h8",
        "outputId": "d36cb89f-f2f5-45c4-8050-84ca73ee8286"
      },
      "outputs": [
        {
          "name": "stdout",
          "output_type": "stream",
          "text": [
            "p-value = 0.829\n",
            "относительный средний чек группы B к А = 0.287\n"
          ]
        }
      ],
      "source": [
        "alpha = 0.05\n",
        "\n",
        "print(\"p-value = {0:.3f}\".format(st.mannwhitneyu(orders[orders['group']=='A']['revenue'], orders[orders['group']=='B']['revenue'])[1]))\n",
        "print(\"относительный средний чек группы B к А = {0:.3f}\".format(orders[orders['group']=='B']['revenue'].mean()/orders[orders['group']=='A']['revenue'].mean()-1)) "
      ]
    },
    {
      "cell_type": "markdown",
      "metadata": {
        "id": "8kc-R1xJn6h8"
      },
      "source": [
        "<b> Вывод: </b>\n",
        "\n",
        "P-value = 0.829 больше 0.05. Значит, причин отвергать нулевую гипотезу и считать, что в среднем чеке есть различия, нет. Относительный средний чек группы B к А получен случайным образом."
      ]
    },
    {
      "cell_type": "markdown",
      "metadata": {
        "id": "1Rps2ZVLn6h9"
      },
      "source": [
        "### Посчитаем статистическую значимость различий в среднем количестве заказов на посетителя между группами по «очищенным» данным. "
      ]
    },
    {
      "cell_type": "markdown",
      "metadata": {
        "id": "2T7Iqc3yn6h9"
      },
      "source": [
        "Найденные ранее 95-й и 99-й перцентили средних чеков равны 26 785 и 53 904 рублям. \n",
        "\n",
        "А 95-й и 99-й перцентили количества заказов на одного пользователя равны 1 и 2 заказам на пользователя.\n",
        "\n",
        "Примем за аномальных пользователей тех, кто совершил более 1 заказа или совершил заказ дороже 26 785 рублей. Так мы уберём 5% пользователей с наибольшим числом заказов и от 1% до 5% пользователей с дорогими заказами. \n",
        "\n",
        "Сделаем срезы пользователей с числом заказов больше 1 — usersWithManyOrders и пользователей, совершивших заказы дороже 26 785 — usersWithExpensiveOrders. Объединим их в таблице abnormalUsers.\n",
        "Узнаем, сколько всего аномальных пользователей атрибутом shape."
      ]
    },
    {
      "cell_type": "code",
      "execution_count": null,
      "metadata": {
        "colab": {
          "base_uri": "https://localhost:8080/"
        },
        "id": "70hRjA-An6h9",
        "outputId": "84705636-96ab-421c-e49e-045533b2649a"
      },
      "outputs": [
        {
          "data": {
            "text/plain": [
              "568     113298937\n",
              "1099    148427295\n",
              "928     204675465\n",
              "33      249864742\n",
              "684     358944393\n",
              "Name: visitorid, dtype: int64"
            ]
          },
          "execution_count": 42,
          "metadata": {},
          "output_type": "execute_result"
        }
      ],
      "source": [
        "usersWithManyOrders = pd.concat(\n",
        "    [\n",
        "        ordersByUsersA[ordersByUsersA['orders'] > (np.percentile(ordersByUsers['orders'], 95))]['visitorid'],\n",
        "        ordersByUsersB[ordersByUsersB['orders'] > (np.percentile(ordersByUsers['orders'], 95))]['visitorid'],\n",
        "    ],\n",
        "    axis=0,\n",
        ")\n",
        "usersWithExpensiveOrders = orders[orders['revenue'] > (np.percentile(orders['revenue'], 95))]['visitorid']\n",
        "abnormalUsers = (\n",
        "    pd.concat([usersWithManyOrders, usersWithExpensiveOrders], axis=0)\n",
        "    .drop_duplicates()\n",
        "    .sort_values()\n",
        ")\n",
        "abnormalUsers.head(5)"
      ]
    },
    {
      "cell_type": "code",
      "execution_count": null,
      "metadata": {
        "colab": {
          "base_uri": "https://localhost:8080/"
        },
        "id": "RhuVwiiEn6h_",
        "outputId": "f6ca13c9-dbf9-44d3-b988-473c68ebeca1"
      },
      "outputs": [
        {
          "data": {
            "text/plain": [
              "86"
            ]
          },
          "execution_count": 43,
          "metadata": {},
          "output_type": "execute_result"
        }
      ],
      "source": [
        "abnormalUsers.shape[0]"
      ]
    },
    {
      "cell_type": "markdown",
      "metadata": {
        "id": "CTSnBHDjn6h_"
      },
      "source": [
        "Всего 86 аномальных пользователей.\n",
        "\n",
        "Узнаем, как их действия повлияли на результаты теста. Посчитаем статистическую значимость различий в среднем количестве заказов между группами теста по очищенным данным. \n",
        "\n",
        "Сначала подготовим выборки количества заказов по пользователям по группам теста."
      ]
    },
    {
      "cell_type": "code",
      "execution_count": null,
      "metadata": {
        "id": "g2bq1w_2n6h_"
      },
      "outputs": [],
      "source": [
        "sampleAFiltered = (pd.concat([ordersByUsersA[np.logical_not(ordersByUsersA['visitorid'].isin(abnormalUsers))]['orders'],\n",
        "                              pd.Series(0, index=np.arange(data['visitorsPerDateA'].sum() - len(ordersByUsersA['orders'])),\n",
        "                                        name='orders')],axis=0))\n",
        "\n",
        "sampleBFiltered = pd.concat([ordersByUsersB[np.logical_not(ordersByUsersB['visitorid'].isin(abnormalUsers))]['orders'],\n",
        "                             pd.Series(0, index=np.arange(data['visitorsPerDateB'].sum() - len(ordersByUsersB['orders'])),\n",
        "                                       name='orders')],axis=0)"
      ]
    },
    {
      "cell_type": "markdown",
      "metadata": {
        "id": "Q-P7PlTvn6h_"
      },
      "source": [
        "Нулевая гипотеза Н0 - статистически значимых различий в среднем количестве заказов на посетителя между группами по «очищенным» данным нет.\n",
        "Альтернативная гипотеза Н1 - статистически значимые различия в среднем количестве заказов на посетителя между группами по «очищенным» данным есть."
      ]
    },
    {
      "cell_type": "code",
      "execution_count": null,
      "metadata": {
        "colab": {
          "base_uri": "https://localhost:8080/"
        },
        "id": "9YqrNi1rn6iA",
        "outputId": "62b77d1e-3794-4be1-dab8-765075662d80"
      },
      "outputs": [
        {
          "name": "stdout",
          "output_type": "stream",
          "text": [
            "p-value = 0.016\n",
            "относительный прирост конверсии группы B к А = 0.174\n"
          ]
        }
      ],
      "source": [
        "# применим статистический критерий Манна-Уитни к полученным выборкам:\n",
        "\n",
        "alpha = 0.05\n",
        "\n",
        "print(\"p-value = {0:.3f}\".format(st.mannwhitneyu(sampleAFiltered, sampleBFiltered)[1]))\n",
        "print(\"относительный прирост конверсии группы B к А = {0:.3f}\".format(sampleBFiltered.mean()/sampleAFiltered.mean()-1))"
      ]
    },
    {
      "cell_type": "markdown",
      "metadata": {
        "id": "_XFY2LNOn6iA"
      },
      "source": [
        "<b> Вывод: </b>\n",
        "\n",
        "Различия в среднем количестве заказов на посетителя между группами по «очищенным» данным есть. Первое число — p-value = 0.016 меньше 0.05. Значит, нулевую гипотезу о том, что статистически значимых различий в среднем числе заказов между группами нет, отвергаем (так же как и по «сырым» данным).\n",
        "\n",
        "Второе число в выводе - 17,4 % - относительный прирост конверсии группы B к группе А.\n",
        "По «очищенным» данным прирост конверсии немного выше."
      ]
    },
    {
      "cell_type": "markdown",
      "metadata": {
        "id": "NE3l6OMXn6iB"
      },
      "source": [
        "### Посчитаем статистическую значимость различий в среднем чеке заказа между группами по «очищенным» данным. "
      ]
    },
    {
      "cell_type": "markdown",
      "metadata": {
        "id": "o6t_FNRsn6iB"
      },
      "source": [
        "Нулевая гипотеза Н0 - статистически значимых различий в среднем чеке между группами нет.\n",
        "\n",
        "Альтернативная гипотеза Н1 - статистически значимые различия в среднем чеке между группами есть."
      ]
    },
    {
      "cell_type": "code",
      "execution_count": null,
      "metadata": {
        "colab": {
          "base_uri": "https://localhost:8080/"
        },
        "id": "Jme0d1SBn6iB",
        "outputId": "187c5f33-8f39-4e15-d03a-3aec34ce02ea"
      },
      "outputs": [
        {
          "name": "stdout",
          "output_type": "stream",
          "text": [
            "p-value = 0.727\n",
            "относительный средний чек группы B к А = -0.034\n"
          ]
        }
      ],
      "source": [
        "alpha = 0.05\n",
        "\n",
        "print(\n",
        "    \"p-value = {0:.3f}\".format(\n",
        "        st.mannwhitneyu(\n",
        "            orders[\n",
        "                np.logical_and(\n",
        "                    orders['group'] == 'A',\n",
        "                    np.logical_not(orders['visitorid'].isin(abnormalUsers)),\n",
        "                )\n",
        "            ]['revenue'],\n",
        "            orders[\n",
        "                np.logical_and(\n",
        "                    orders['group'] == 'B',\n",
        "                    np.logical_not(orders['visitorid'].isin(abnormalUsers)),\n",
        "                )\n",
        "            ]['revenue'],\n",
        "        )[1]\n",
        "    )\n",
        ")\n",
        "\n",
        "print(\n",
        "    \"относительный средний чек группы B к А = {0:.3f}\".format(\n",
        "        orders[\n",
        "            np.logical_and(\n",
        "                orders['group'] == 'B',\n",
        "                np.logical_not(orders['visitorid'].isin(abnormalUsers)),\n",
        "            )\n",
        "        ]['revenue'].mean()\n",
        "        / orders[\n",
        "            np.logical_and(\n",
        "                orders['group'] == 'A',\n",
        "                np.logical_not(orders['visitorid'].isin(abnormalUsers)),\n",
        "            )\n",
        "        ]['revenue'].mean()\n",
        "-1\n",
        "    )\n",
        ")"
      ]
    },
    {
      "cell_type": "markdown",
      "metadata": {
        "id": "BozQBMaOn6iC"
      },
      "source": [
        "<b> Вывод: </b>\n",
        "\n",
        "P-value = 0.727 больше 0.05. Значит, причин отвергать нулевую гипотезу и считать, что в среднем чеке есть различия, нет (так же как и по «сырым» данным). \n",
        "\n",
        "Данные по различию относительного среднего чека получены случайно."
      ]
    },
    {
      "cell_type": "markdown",
      "metadata": {
        "id": "hoJAdTtYn6iC"
      },
      "source": [
        "## Решение по результатам теста. \n",
        "\n",
        "Варианты решений: \n",
        "1. Остановить тест, зафиксировать победу одной из групп. \n",
        "2. Остановить тест, зафиксировать отсутствие различий между группами. \n",
        "3. Продолжить тест."
      ]
    },
    {
      "cell_type": "markdown",
      "metadata": {
        "id": "OwvwRdDAn6iD"
      },
      "source": [
        "Исходя из полученных результатов:\n",
        "\n",
        "- Есть статистически значимое различие по среднему количеству заказов между группами по «сырым» и по данным после фильтрации аномалий;\n",
        "- Нет статистически значимого различия по среднему чеку между группами ни по «сырым», ни по данным после фильтрации аномалий;\n",
        "\n",
        "- Относительный прирост конверсии группы B к группе А по «сырым» данным 16 %. \n",
        "\n",
        "- Относительный прирост конверсии группы B к группе А по «очищенным» данным 17,4 %.\n",
        "\n",
        "- Данные по различию относительного среднего чека по «сырым» и по «очищенным» данным получены случайно.\n",
        "\n",
        "Остановить тест, зафиксировать победу группы В."
      ]
    }
  ],
  "metadata": {
    "ExecuteTimeLog": [
      {
        "duration": 75,
        "start_time": "2022-12-14T14:57:27.851Z"
      },
      {
        "duration": 42,
        "start_time": "2022-12-14T14:57:34.310Z"
      },
      {
        "duration": 459,
        "start_time": "2022-12-14T14:57:44.756Z"
      },
      {
        "duration": 38,
        "start_time": "2022-12-14T14:57:52.020Z"
      },
      {
        "duration": 11,
        "start_time": "2022-12-14T14:59:11.380Z"
      },
      {
        "duration": 9,
        "start_time": "2022-12-14T15:01:30.363Z"
      },
      {
        "duration": 8,
        "start_time": "2022-12-14T15:01:37.733Z"
      },
      {
        "duration": 32,
        "start_time": "2022-12-14T15:01:49.002Z"
      },
      {
        "duration": 11,
        "start_time": "2022-12-14T15:01:50.281Z"
      },
      {
        "duration": 9,
        "start_time": "2022-12-14T15:01:53.154Z"
      },
      {
        "duration": 8,
        "start_time": "2022-12-14T15:01:57.777Z"
      },
      {
        "duration": 30,
        "start_time": "2022-12-14T15:02:14.763Z"
      },
      {
        "duration": 9,
        "start_time": "2022-12-14T15:02:16.961Z"
      },
      {
        "duration": 8,
        "start_time": "2022-12-14T15:02:18.929Z"
      },
      {
        "duration": 9,
        "start_time": "2022-12-14T15:07:00.006Z"
      },
      {
        "duration": 9,
        "start_time": "2022-12-14T15:07:05.398Z"
      },
      {
        "duration": 12,
        "start_time": "2022-12-14T15:08:06.461Z"
      },
      {
        "duration": 10,
        "start_time": "2022-12-14T15:32:46.375Z"
      },
      {
        "duration": 104,
        "start_time": "2022-12-14T15:35:51.026Z"
      },
      {
        "duration": 55,
        "start_time": "2022-12-14T15:36:13.250Z"
      },
      {
        "duration": 88,
        "start_time": "2022-12-14T15:36:21.179Z"
      },
      {
        "duration": 10,
        "start_time": "2022-12-14T15:43:28.982Z"
      },
      {
        "duration": 14,
        "start_time": "2022-12-14T15:43:54.837Z"
      },
      {
        "duration": 317,
        "start_time": "2022-12-14T15:48:16.011Z"
      },
      {
        "duration": 283,
        "start_time": "2022-12-14T15:49:18.242Z"
      },
      {
        "duration": 387,
        "start_time": "2022-12-14T15:49:28.232Z"
      },
      {
        "duration": 37,
        "start_time": "2022-12-14T15:49:28.621Z"
      },
      {
        "duration": 10,
        "start_time": "2022-12-14T15:49:28.659Z"
      },
      {
        "duration": 13,
        "start_time": "2022-12-14T15:49:28.671Z"
      },
      {
        "duration": 15,
        "start_time": "2022-12-14T15:49:28.686Z"
      },
      {
        "duration": 10,
        "start_time": "2022-12-14T15:49:28.703Z"
      },
      {
        "duration": 48,
        "start_time": "2022-12-14T15:49:28.714Z"
      },
      {
        "duration": 10,
        "start_time": "2022-12-14T15:49:28.764Z"
      },
      {
        "duration": 14,
        "start_time": "2022-12-14T15:49:28.776Z"
      },
      {
        "duration": 27,
        "start_time": "2022-12-14T15:49:28.793Z"
      },
      {
        "duration": 10,
        "start_time": "2022-12-14T15:49:28.821Z"
      },
      {
        "duration": 363,
        "start_time": "2022-12-14T15:49:49.025Z"
      },
      {
        "duration": 305,
        "start_time": "2022-12-14T15:50:00.321Z"
      },
      {
        "duration": 376,
        "start_time": "2022-12-14T15:50:07.053Z"
      },
      {
        "duration": 37,
        "start_time": "2022-12-14T15:50:07.431Z"
      },
      {
        "duration": 10,
        "start_time": "2022-12-14T15:50:07.470Z"
      },
      {
        "duration": 13,
        "start_time": "2022-12-14T15:50:07.482Z"
      },
      {
        "duration": 12,
        "start_time": "2022-12-14T15:50:07.496Z"
      },
      {
        "duration": 10,
        "start_time": "2022-12-14T15:50:07.509Z"
      },
      {
        "duration": 48,
        "start_time": "2022-12-14T15:50:07.522Z"
      },
      {
        "duration": 10,
        "start_time": "2022-12-14T15:50:07.571Z"
      },
      {
        "duration": 14,
        "start_time": "2022-12-14T15:50:07.583Z"
      },
      {
        "duration": 23,
        "start_time": "2022-12-14T15:50:07.600Z"
      },
      {
        "duration": 9,
        "start_time": "2022-12-14T15:50:07.625Z"
      },
      {
        "duration": 12,
        "start_time": "2022-12-14T15:50:18.440Z"
      },
      {
        "duration": 5,
        "start_time": "2022-12-14T15:50:51.856Z"
      },
      {
        "duration": 11,
        "start_time": "2022-12-14T15:50:57.353Z"
      },
      {
        "duration": 13,
        "start_time": "2022-12-14T16:13:01.546Z"
      },
      {
        "duration": 3,
        "start_time": "2022-12-14T16:13:10.485Z"
      },
      {
        "duration": 77,
        "start_time": "2022-12-14T16:27:49.236Z"
      },
      {
        "duration": 2,
        "start_time": "2022-12-14T16:28:08.920Z"
      },
      {
        "duration": 23,
        "start_time": "2022-12-14T16:28:12.632Z"
      },
      {
        "duration": 24,
        "start_time": "2022-12-14T16:28:31.432Z"
      },
      {
        "duration": 163,
        "start_time": "2022-12-14T16:30:16.984Z"
      },
      {
        "duration": 76,
        "start_time": "2022-12-14T16:30:39.662Z"
      },
      {
        "duration": 69,
        "start_time": "2022-12-14T16:32:08.214Z"
      },
      {
        "duration": 162,
        "start_time": "2022-12-14T16:32:19.661Z"
      },
      {
        "duration": 174,
        "start_time": "2022-12-14T16:32:21.381Z"
      },
      {
        "duration": 288,
        "start_time": "2022-12-14T16:34:11.820Z"
      },
      {
        "duration": 331,
        "start_time": "2022-12-14T16:41:37.287Z"
      },
      {
        "duration": 286,
        "start_time": "2022-12-14T16:41:43.488Z"
      },
      {
        "duration": 362,
        "start_time": "2022-12-14T16:42:29.887Z"
      },
      {
        "duration": 243,
        "start_time": "2022-12-14T16:42:52.903Z"
      },
      {
        "duration": 179,
        "start_time": "2022-12-14T16:44:22.046Z"
      },
      {
        "duration": 359,
        "start_time": "2022-12-14T16:44:38.652Z"
      },
      {
        "duration": 304,
        "start_time": "2022-12-14T16:44:45.861Z"
      },
      {
        "duration": 182,
        "start_time": "2022-12-14T16:44:49.949Z"
      },
      {
        "duration": 201,
        "start_time": "2022-12-14T16:44:54.429Z"
      },
      {
        "duration": 206,
        "start_time": "2022-12-14T16:45:14.173Z"
      },
      {
        "duration": 200,
        "start_time": "2022-12-14T16:45:35.157Z"
      },
      {
        "duration": 246,
        "start_time": "2022-12-14T16:47:54.155Z"
      },
      {
        "duration": 216,
        "start_time": "2022-12-14T16:48:01.228Z"
      },
      {
        "duration": 70,
        "start_time": "2022-12-14T16:52:04.354Z"
      },
      {
        "duration": 170,
        "start_time": "2022-12-14T16:52:10.945Z"
      },
      {
        "duration": 273,
        "start_time": "2022-12-14T16:52:27.440Z"
      },
      {
        "duration": 234,
        "start_time": "2022-12-14T16:52:33.849Z"
      },
      {
        "duration": 274,
        "start_time": "2022-12-14T16:53:26.168Z"
      },
      {
        "duration": 332,
        "start_time": "2022-12-14T17:00:06.523Z"
      },
      {
        "duration": 295,
        "start_time": "2022-12-14T17:00:11.603Z"
      },
      {
        "duration": 281,
        "start_time": "2022-12-14T17:00:22.596Z"
      },
      {
        "duration": 282,
        "start_time": "2022-12-14T17:00:42.219Z"
      },
      {
        "duration": 268,
        "start_time": "2022-12-14T17:01:02.331Z"
      },
      {
        "duration": 281,
        "start_time": "2022-12-14T17:01:09.846Z"
      },
      {
        "duration": 317,
        "start_time": "2022-12-14T17:02:25.586Z"
      },
      {
        "duration": 333,
        "start_time": "2022-12-14T17:02:43.843Z"
      },
      {
        "duration": 166,
        "start_time": "2022-12-14T17:10:16.764Z"
      },
      {
        "duration": 188,
        "start_time": "2022-12-14T17:10:23.813Z"
      },
      {
        "duration": 303,
        "start_time": "2022-12-14T17:10:41.597Z"
      },
      {
        "duration": 221,
        "start_time": "2022-12-14T17:11:43.019Z"
      },
      {
        "duration": 295,
        "start_time": "2022-12-14T17:16:46.607Z"
      },
      {
        "duration": 313,
        "start_time": "2022-12-14T17:17:25.033Z"
      },
      {
        "duration": 319,
        "start_time": "2022-12-14T17:18:52.415Z"
      },
      {
        "duration": 307,
        "start_time": "2022-12-14T17:19:06.590Z"
      },
      {
        "duration": 307,
        "start_time": "2022-12-14T17:19:18.335Z"
      },
      {
        "duration": 326,
        "start_time": "2022-12-14T17:19:57.799Z"
      },
      {
        "duration": 296,
        "start_time": "2022-12-14T17:20:42.457Z"
      },
      {
        "duration": 348,
        "start_time": "2022-12-14T17:21:35.494Z"
      },
      {
        "duration": 337,
        "start_time": "2022-12-14T17:22:13.740Z"
      },
      {
        "duration": 188,
        "start_time": "2022-12-14T17:37:08.940Z"
      },
      {
        "duration": 47,
        "start_time": "2022-12-14T17:37:14.595Z"
      },
      {
        "duration": 13,
        "start_time": "2022-12-14T17:38:18.371Z"
      },
      {
        "duration": 16,
        "start_time": "2022-12-14T17:38:19.427Z"
      },
      {
        "duration": 574,
        "start_time": "2022-12-14T17:38:29.471Z"
      },
      {
        "duration": 36,
        "start_time": "2022-12-14T17:38:30.046Z"
      },
      {
        "duration": 13,
        "start_time": "2022-12-14T17:38:30.083Z"
      },
      {
        "duration": 21,
        "start_time": "2022-12-14T17:38:30.097Z"
      },
      {
        "duration": 32,
        "start_time": "2022-12-14T17:38:30.119Z"
      },
      {
        "duration": 11,
        "start_time": "2022-12-14T17:38:30.153Z"
      },
      {
        "duration": 78,
        "start_time": "2022-12-14T17:38:30.165Z"
      },
      {
        "duration": 12,
        "start_time": "2022-12-14T17:38:30.245Z"
      },
      {
        "duration": 29,
        "start_time": "2022-12-14T17:38:30.258Z"
      },
      {
        "duration": 27,
        "start_time": "2022-12-14T17:38:30.289Z"
      },
      {
        "duration": 33,
        "start_time": "2022-12-14T17:38:30.317Z"
      },
      {
        "duration": 10,
        "start_time": "2022-12-14T17:38:30.352Z"
      },
      {
        "duration": 21,
        "start_time": "2022-12-14T17:38:30.363Z"
      },
      {
        "duration": 296,
        "start_time": "2022-12-14T17:38:30.386Z"
      },
      {
        "duration": 313,
        "start_time": "2022-12-14T17:38:30.683Z"
      },
      {
        "duration": 212,
        "start_time": "2022-12-14T17:38:30.997Z"
      },
      {
        "duration": 356,
        "start_time": "2022-12-14T17:38:31.210Z"
      },
      {
        "duration": 277,
        "start_time": "2022-12-14T17:38:31.568Z"
      },
      {
        "duration": 315,
        "start_time": "2022-12-14T17:38:31.847Z"
      },
      {
        "duration": 74,
        "start_time": "2022-12-14T17:38:32.164Z"
      },
      {
        "duration": 12,
        "start_time": "2022-12-14T17:39:36.560Z"
      },
      {
        "duration": 116,
        "start_time": "2022-12-14T17:40:43.536Z"
      },
      {
        "duration": 120,
        "start_time": "2022-12-14T17:41:04.393Z"
      },
      {
        "duration": 146,
        "start_time": "2022-12-14T17:41:18.065Z"
      },
      {
        "duration": 132,
        "start_time": "2022-12-14T17:41:25.431Z"
      },
      {
        "duration": 131,
        "start_time": "2022-12-14T17:41:45.463Z"
      },
      {
        "duration": 4,
        "start_time": "2022-12-14T17:50:38.825Z"
      },
      {
        "duration": 4,
        "start_time": "2022-12-14T17:51:02.750Z"
      },
      {
        "duration": 164,
        "start_time": "2022-12-14T17:59:19.044Z"
      },
      {
        "duration": 1230,
        "start_time": "2022-12-14T17:59:36.811Z"
      },
      {
        "duration": 2395,
        "start_time": "2022-12-14T17:59:50.657Z"
      },
      {
        "duration": 214,
        "start_time": "2022-12-14T18:00:43.729Z"
      },
      {
        "duration": 7,
        "start_time": "2022-12-14T18:02:34.536Z"
      },
      {
        "duration": 11,
        "start_time": "2022-12-14T18:02:43.279Z"
      },
      {
        "duration": 5,
        "start_time": "2022-12-14T18:05:49.188Z"
      },
      {
        "duration": 5,
        "start_time": "2022-12-14T18:06:28.452Z"
      },
      {
        "duration": 101,
        "start_time": "2022-12-14T18:14:17.863Z"
      },
      {
        "duration": 93,
        "start_time": "2022-12-14T18:15:19.846Z"
      },
      {
        "duration": 147,
        "start_time": "2022-12-14T18:15:25.951Z"
      },
      {
        "duration": 299,
        "start_time": "2022-12-14T18:16:18.950Z"
      },
      {
        "duration": 226,
        "start_time": "2022-12-14T18:16:25.542Z"
      },
      {
        "duration": 136,
        "start_time": "2022-12-14T18:32:49.667Z"
      },
      {
        "duration": 7,
        "start_time": "2022-12-14T18:35:51.737Z"
      },
      {
        "duration": 6,
        "start_time": "2022-12-14T18:36:22.200Z"
      },
      {
        "duration": 7,
        "start_time": "2022-12-14T18:36:54.256Z"
      },
      {
        "duration": 8,
        "start_time": "2022-12-14T18:37:04.176Z"
      },
      {
        "duration": 9,
        "start_time": "2022-12-14T18:40:13.502Z"
      },
      {
        "duration": 491,
        "start_time": "2022-12-14T18:40:41.574Z"
      },
      {
        "duration": 33,
        "start_time": "2022-12-14T18:40:51.518Z"
      },
      {
        "duration": 1164,
        "start_time": "2022-12-14T18:40:59.826Z"
      },
      {
        "duration": 44,
        "start_time": "2022-12-14T18:41:00.992Z"
      },
      {
        "duration": 12,
        "start_time": "2022-12-14T18:41:01.038Z"
      },
      {
        "duration": 22,
        "start_time": "2022-12-14T18:41:01.054Z"
      },
      {
        "duration": 20,
        "start_time": "2022-12-14T18:41:01.078Z"
      },
      {
        "duration": 25,
        "start_time": "2022-12-14T18:41:01.099Z"
      },
      {
        "duration": 70,
        "start_time": "2022-12-14T18:41:01.126Z"
      },
      {
        "duration": 11,
        "start_time": "2022-12-14T18:41:01.198Z"
      },
      {
        "duration": 24,
        "start_time": "2022-12-14T18:41:01.211Z"
      },
      {
        "duration": 6,
        "start_time": "2022-12-14T18:41:01.238Z"
      },
      {
        "duration": 32,
        "start_time": "2022-12-14T18:41:01.246Z"
      },
      {
        "duration": 11,
        "start_time": "2022-12-14T18:41:01.279Z"
      },
      {
        "duration": 13,
        "start_time": "2022-12-14T18:41:01.292Z"
      },
      {
        "duration": 312,
        "start_time": "2022-12-14T18:41:01.307Z"
      },
      {
        "duration": 334,
        "start_time": "2022-12-14T18:41:01.620Z"
      },
      {
        "duration": 228,
        "start_time": "2022-12-14T18:41:01.956Z"
      },
      {
        "duration": 341,
        "start_time": "2022-12-14T18:41:02.185Z"
      },
      {
        "duration": 246,
        "start_time": "2022-12-14T18:41:02.528Z"
      },
      {
        "duration": 334,
        "start_time": "2022-12-14T18:41:02.775Z"
      },
      {
        "duration": 17,
        "start_time": "2022-12-14T18:41:03.110Z"
      },
      {
        "duration": 152,
        "start_time": "2022-12-14T18:41:03.130Z"
      },
      {
        "duration": 6,
        "start_time": "2022-12-14T18:41:03.284Z"
      },
      {
        "duration": 170,
        "start_time": "2022-12-14T18:41:03.291Z"
      },
      {
        "duration": 6,
        "start_time": "2022-12-14T18:41:03.463Z"
      },
      {
        "duration": 240,
        "start_time": "2022-12-14T18:41:03.471Z"
      },
      {
        "duration": 144,
        "start_time": "2022-12-14T18:41:03.712Z"
      },
      {
        "duration": 8,
        "start_time": "2022-12-14T18:41:03.857Z"
      },
      {
        "duration": 103,
        "start_time": "2022-12-14T18:41:03.868Z"
      },
      {
        "duration": 0,
        "start_time": "2022-12-14T18:41:03.973Z"
      },
      {
        "duration": 22,
        "start_time": "2022-12-14T18:41:56.150Z"
      },
      {
        "duration": 9,
        "start_time": "2022-12-14T18:56:14.596Z"
      },
      {
        "duration": 14,
        "start_time": "2022-12-14T18:56:19.867Z"
      },
      {
        "duration": 11,
        "start_time": "2022-12-14T18:57:00.044Z"
      },
      {
        "duration": 12,
        "start_time": "2022-12-14T18:57:24.943Z"
      },
      {
        "duration": 1232,
        "start_time": "2022-12-14T19:08:36.579Z"
      },
      {
        "duration": 10,
        "start_time": "2022-12-14T19:09:02.547Z"
      },
      {
        "duration": 9,
        "start_time": "2022-12-14T19:09:12.475Z"
      },
      {
        "duration": 9,
        "start_time": "2022-12-14T19:09:30.163Z"
      },
      {
        "duration": 4,
        "start_time": "2022-12-14T19:09:33.549Z"
      },
      {
        "duration": 11,
        "start_time": "2022-12-14T19:11:07.857Z"
      },
      {
        "duration": 4,
        "start_time": "2022-12-14T19:11:09.649Z"
      },
      {
        "duration": 79,
        "start_time": "2022-12-14T19:12:24.048Z"
      },
      {
        "duration": 70,
        "start_time": "2022-12-14T19:13:08.504Z"
      },
      {
        "duration": 6,
        "start_time": "2022-12-14T19:15:40.750Z"
      },
      {
        "duration": 8,
        "start_time": "2022-12-14T19:16:56.509Z"
      },
      {
        "duration": 7,
        "start_time": "2022-12-14T19:18:02.948Z"
      },
      {
        "duration": 73,
        "start_time": "2022-12-14T19:18:35.892Z"
      },
      {
        "duration": 10,
        "start_time": "2022-12-14T19:18:41.893Z"
      },
      {
        "duration": 19,
        "start_time": "2022-12-14T19:18:45.510Z"
      },
      {
        "duration": 21,
        "start_time": "2022-12-14T19:19:11.140Z"
      },
      {
        "duration": 10,
        "start_time": "2022-12-14T19:28:41.015Z"
      },
      {
        "duration": 13,
        "start_time": "2022-12-14T19:28:58.126Z"
      },
      {
        "duration": 14,
        "start_time": "2022-12-14T19:29:20.997Z"
      },
      {
        "duration": 1008,
        "start_time": "2022-12-14T19:48:41.571Z"
      },
      {
        "duration": 38,
        "start_time": "2022-12-14T19:48:42.581Z"
      },
      {
        "duration": 12,
        "start_time": "2022-12-14T19:48:42.620Z"
      },
      {
        "duration": 9,
        "start_time": "2022-12-14T19:48:42.634Z"
      },
      {
        "duration": 14,
        "start_time": "2022-12-14T19:48:42.645Z"
      },
      {
        "duration": 11,
        "start_time": "2022-12-14T19:48:42.660Z"
      },
      {
        "duration": 47,
        "start_time": "2022-12-14T19:48:42.673Z"
      },
      {
        "duration": 11,
        "start_time": "2022-12-14T19:48:42.722Z"
      },
      {
        "duration": 15,
        "start_time": "2022-12-14T19:48:42.734Z"
      },
      {
        "duration": 6,
        "start_time": "2022-12-14T19:48:42.751Z"
      },
      {
        "duration": 27,
        "start_time": "2022-12-14T19:48:42.759Z"
      },
      {
        "duration": 9,
        "start_time": "2022-12-14T19:48:42.788Z"
      },
      {
        "duration": 6,
        "start_time": "2022-12-14T19:48:42.799Z"
      },
      {
        "duration": 290,
        "start_time": "2022-12-14T19:48:42.806Z"
      },
      {
        "duration": 277,
        "start_time": "2022-12-14T19:48:43.098Z"
      },
      {
        "duration": 211,
        "start_time": "2022-12-14T19:48:43.377Z"
      },
      {
        "duration": 340,
        "start_time": "2022-12-14T19:48:43.589Z"
      },
      {
        "duration": 254,
        "start_time": "2022-12-14T19:48:43.930Z"
      },
      {
        "duration": 369,
        "start_time": "2022-12-14T19:48:44.187Z"
      },
      {
        "duration": 12,
        "start_time": "2022-12-14T19:48:44.558Z"
      },
      {
        "duration": 153,
        "start_time": "2022-12-14T19:48:44.571Z"
      },
      {
        "duration": 5,
        "start_time": "2022-12-14T19:48:44.726Z"
      },
      {
        "duration": 156,
        "start_time": "2022-12-14T19:48:44.732Z"
      },
      {
        "duration": 5,
        "start_time": "2022-12-14T19:48:44.890Z"
      },
      {
        "duration": 221,
        "start_time": "2022-12-14T19:48:44.896Z"
      },
      {
        "duration": 133,
        "start_time": "2022-12-14T19:48:45.119Z"
      },
      {
        "duration": 7,
        "start_time": "2022-12-14T19:48:45.253Z"
      },
      {
        "duration": 21,
        "start_time": "2022-12-14T19:48:45.263Z"
      },
      {
        "duration": 10,
        "start_time": "2022-12-14T19:48:45.286Z"
      },
      {
        "duration": 31,
        "start_time": "2022-12-14T19:48:45.297Z"
      },
      {
        "duration": 8,
        "start_time": "2022-12-14T19:48:45.330Z"
      },
      {
        "duration": 8,
        "start_time": "2022-12-14T19:48:45.340Z"
      },
      {
        "duration": 30,
        "start_time": "2022-12-14T19:48:45.350Z"
      },
      {
        "duration": 14,
        "start_time": "2022-12-14T19:48:45.382Z"
      },
      {
        "duration": 48,
        "start_time": "2022-12-14T21:03:53.464Z"
      },
      {
        "duration": 1242,
        "start_time": "2022-12-14T21:04:03.491Z"
      },
      {
        "duration": 80,
        "start_time": "2022-12-14T21:04:04.735Z"
      },
      {
        "duration": 3,
        "start_time": "2022-12-14T21:04:06.129Z"
      },
      {
        "duration": 9,
        "start_time": "2022-12-14T21:04:16.154Z"
      },
      {
        "duration": 46,
        "start_time": "2022-12-14T21:10:49.493Z"
      },
      {
        "duration": 844,
        "start_time": "2022-12-14T21:10:58.532Z"
      },
      {
        "duration": 766,
        "start_time": "2022-12-14T21:12:18.198Z"
      },
      {
        "duration": 3,
        "start_time": "2022-12-14T21:12:24.373Z"
      },
      {
        "duration": 36,
        "start_time": "2022-12-14T21:12:25.000Z"
      },
      {
        "duration": 8,
        "start_time": "2022-12-14T21:12:26.629Z"
      },
      {
        "duration": 11,
        "start_time": "2022-12-14T21:12:28.314Z"
      },
      {
        "duration": 11,
        "start_time": "2022-12-14T21:12:29.830Z"
      },
      {
        "duration": 19,
        "start_time": "2022-12-14T21:12:31.438Z"
      },
      {
        "duration": 12,
        "start_time": "2022-12-14T21:14:23.364Z"
      },
      {
        "duration": 11,
        "start_time": "2022-12-14T21:15:14.716Z"
      },
      {
        "duration": 9,
        "start_time": "2022-12-14T21:16:26.468Z"
      },
      {
        "duration": 3,
        "start_time": "2022-12-14T21:16:32.962Z"
      },
      {
        "duration": 33,
        "start_time": "2022-12-14T21:16:33.571Z"
      },
      {
        "duration": 1005,
        "start_time": "2022-12-14T21:16:41.637Z"
      },
      {
        "duration": 38,
        "start_time": "2022-12-14T21:16:42.644Z"
      },
      {
        "duration": 8,
        "start_time": "2022-12-14T21:16:42.683Z"
      },
      {
        "duration": 12,
        "start_time": "2022-12-14T21:16:42.692Z"
      },
      {
        "duration": 9,
        "start_time": "2022-12-14T21:16:42.706Z"
      },
      {
        "duration": 14,
        "start_time": "2022-12-14T21:16:42.716Z"
      },
      {
        "duration": 9,
        "start_time": "2022-12-14T21:16:42.732Z"
      },
      {
        "duration": 160,
        "start_time": "2022-12-14T21:16:42.742Z"
      },
      {
        "duration": 12,
        "start_time": "2022-12-14T21:16:42.904Z"
      },
      {
        "duration": 14,
        "start_time": "2022-12-14T21:16:42.918Z"
      },
      {
        "duration": 4,
        "start_time": "2022-12-14T21:16:42.934Z"
      },
      {
        "duration": 69,
        "start_time": "2022-12-14T21:16:42.940Z"
      },
      {
        "duration": 9,
        "start_time": "2022-12-14T21:16:43.011Z"
      },
      {
        "duration": 7,
        "start_time": "2022-12-14T21:16:43.021Z"
      },
      {
        "duration": 291,
        "start_time": "2022-12-14T21:16:43.030Z"
      },
      {
        "duration": 291,
        "start_time": "2022-12-14T21:16:43.323Z"
      },
      {
        "duration": 195,
        "start_time": "2022-12-14T21:16:43.616Z"
      },
      {
        "duration": 316,
        "start_time": "2022-12-14T21:16:43.813Z"
      },
      {
        "duration": 221,
        "start_time": "2022-12-14T21:16:44.130Z"
      },
      {
        "duration": 331,
        "start_time": "2022-12-14T21:16:44.353Z"
      },
      {
        "duration": 19,
        "start_time": "2022-12-14T21:16:44.685Z"
      },
      {
        "duration": 144,
        "start_time": "2022-12-14T21:16:44.706Z"
      },
      {
        "duration": 5,
        "start_time": "2022-12-14T21:16:44.852Z"
      },
      {
        "duration": 159,
        "start_time": "2022-12-14T21:16:44.858Z"
      },
      {
        "duration": 5,
        "start_time": "2022-12-14T21:16:45.018Z"
      },
      {
        "duration": 247,
        "start_time": "2022-12-14T21:16:45.024Z"
      },
      {
        "duration": 136,
        "start_time": "2022-12-14T21:16:45.273Z"
      },
      {
        "duration": 7,
        "start_time": "2022-12-14T21:16:45.412Z"
      },
      {
        "duration": 23,
        "start_time": "2022-12-14T21:16:45.420Z"
      },
      {
        "duration": 9,
        "start_time": "2022-12-14T21:16:45.445Z"
      },
      {
        "duration": 9,
        "start_time": "2022-12-14T21:16:45.456Z"
      },
      {
        "duration": 31,
        "start_time": "2022-12-14T21:16:45.466Z"
      },
      {
        "duration": 108,
        "start_time": "2022-12-14T21:16:45.499Z"
      },
      {
        "duration": 21,
        "start_time": "2022-12-14T21:16:45.609Z"
      },
      {
        "duration": 15,
        "start_time": "2022-12-14T21:16:45.632Z"
      },
      {
        "duration": 47,
        "start_time": "2022-12-14T21:18:57.306Z"
      },
      {
        "duration": 7,
        "start_time": "2022-12-14T21:22:29.752Z"
      },
      {
        "duration": 8,
        "start_time": "2022-12-14T21:22:32.433Z"
      },
      {
        "duration": 7,
        "start_time": "2022-12-14T21:22:43.512Z"
      },
      {
        "duration": 7,
        "start_time": "2022-12-14T21:22:51.655Z"
      },
      {
        "duration": 8,
        "start_time": "2022-12-14T21:24:10.590Z"
      },
      {
        "duration": 9,
        "start_time": "2022-12-14T21:24:47.046Z"
      },
      {
        "duration": 6,
        "start_time": "2022-12-14T21:25:01.502Z"
      },
      {
        "duration": 49,
        "start_time": "2022-12-15T12:12:46.628Z"
      },
      {
        "duration": 1424,
        "start_time": "2022-12-15T12:12:54.291Z"
      },
      {
        "duration": 81,
        "start_time": "2022-12-15T12:12:55.718Z"
      },
      {
        "duration": 8,
        "start_time": "2022-12-15T12:12:55.801Z"
      },
      {
        "duration": 17,
        "start_time": "2022-12-15T12:12:55.811Z"
      },
      {
        "duration": 13,
        "start_time": "2022-12-15T12:12:55.830Z"
      },
      {
        "duration": 7,
        "start_time": "2022-12-15T12:12:55.846Z"
      },
      {
        "duration": 23,
        "start_time": "2022-12-15T12:12:55.855Z"
      },
      {
        "duration": 18,
        "start_time": "2022-12-15T12:12:55.881Z"
      },
      {
        "duration": 152,
        "start_time": "2022-12-15T12:12:55.901Z"
      },
      {
        "duration": 12,
        "start_time": "2022-12-15T12:12:56.055Z"
      },
      {
        "duration": 21,
        "start_time": "2022-12-15T12:12:56.069Z"
      },
      {
        "duration": 12,
        "start_time": "2022-12-15T12:12:56.091Z"
      },
      {
        "duration": 10,
        "start_time": "2022-12-15T12:12:56.105Z"
      },
      {
        "duration": 69,
        "start_time": "2022-12-15T12:12:56.117Z"
      },
      {
        "duration": 12,
        "start_time": "2022-12-15T12:12:56.188Z"
      },
      {
        "duration": 13,
        "start_time": "2022-12-15T12:12:56.202Z"
      },
      {
        "duration": 9,
        "start_time": "2022-12-15T12:12:56.217Z"
      },
      {
        "duration": 18,
        "start_time": "2022-12-15T12:12:56.228Z"
      },
      {
        "duration": 307,
        "start_time": "2022-12-15T12:12:56.247Z"
      },
      {
        "duration": 302,
        "start_time": "2022-12-15T12:12:56.556Z"
      },
      {
        "duration": 241,
        "start_time": "2022-12-15T12:12:56.859Z"
      },
      {
        "duration": 372,
        "start_time": "2022-12-15T12:12:57.102Z"
      },
      {
        "duration": 237,
        "start_time": "2022-12-15T12:12:57.475Z"
      },
      {
        "duration": 362,
        "start_time": "2022-12-15T12:12:57.714Z"
      },
      {
        "duration": 13,
        "start_time": "2022-12-15T12:12:58.078Z"
      },
      {
        "duration": 169,
        "start_time": "2022-12-15T12:12:58.093Z"
      },
      {
        "duration": 5,
        "start_time": "2022-12-15T12:12:58.264Z"
      },
      {
        "duration": 169,
        "start_time": "2022-12-15T12:12:58.272Z"
      },
      {
        "duration": 12,
        "start_time": "2022-12-15T12:12:58.443Z"
      },
      {
        "duration": 237,
        "start_time": "2022-12-15T12:12:58.456Z"
      },
      {
        "duration": 139,
        "start_time": "2022-12-15T12:12:58.695Z"
      },
      {
        "duration": 6,
        "start_time": "2022-12-15T12:12:58.836Z"
      },
      {
        "duration": 43,
        "start_time": "2022-12-15T12:12:58.843Z"
      },
      {
        "duration": 11,
        "start_time": "2022-12-15T12:12:58.888Z"
      },
      {
        "duration": 10,
        "start_time": "2022-12-15T12:12:58.901Z"
      },
      {
        "duration": 10,
        "start_time": "2022-12-15T12:12:58.913Z"
      },
      {
        "duration": 30,
        "start_time": "2022-12-15T12:12:58.925Z"
      },
      {
        "duration": 29,
        "start_time": "2022-12-15T12:12:58.958Z"
      },
      {
        "duration": 14,
        "start_time": "2022-12-15T12:12:58.989Z"
      },
      {
        "duration": 966,
        "start_time": "2022-12-15T12:16:10.060Z"
      },
      {
        "duration": 1145,
        "start_time": "2022-12-15T12:16:25.270Z"
      },
      {
        "duration": 38,
        "start_time": "2022-12-15T12:16:26.417Z"
      },
      {
        "duration": 10,
        "start_time": "2022-12-15T12:16:26.457Z"
      },
      {
        "duration": 31,
        "start_time": "2022-12-15T12:16:26.469Z"
      },
      {
        "duration": 29,
        "start_time": "2022-12-15T12:16:26.502Z"
      },
      {
        "duration": 16,
        "start_time": "2022-12-15T12:16:26.533Z"
      },
      {
        "duration": 34,
        "start_time": "2022-12-15T12:16:26.550Z"
      },
      {
        "duration": 18,
        "start_time": "2022-12-15T12:16:26.586Z"
      },
      {
        "duration": 55,
        "start_time": "2022-12-15T12:16:26.606Z"
      },
      {
        "duration": 12,
        "start_time": "2022-12-15T12:16:26.663Z"
      },
      {
        "duration": 31,
        "start_time": "2022-12-15T12:16:26.678Z"
      },
      {
        "duration": 18,
        "start_time": "2022-12-15T12:16:26.711Z"
      },
      {
        "duration": 26,
        "start_time": "2022-12-15T12:16:26.731Z"
      },
      {
        "duration": 35,
        "start_time": "2022-12-15T12:16:26.759Z"
      },
      {
        "duration": 9,
        "start_time": "2022-12-15T12:16:26.796Z"
      },
      {
        "duration": 34,
        "start_time": "2022-12-15T12:16:26.807Z"
      },
      {
        "duration": 18,
        "start_time": "2022-12-15T12:16:26.842Z"
      },
      {
        "duration": 19,
        "start_time": "2022-12-15T12:16:26.861Z"
      },
      {
        "duration": 18,
        "start_time": "2022-12-15T12:16:26.881Z"
      },
      {
        "duration": 294,
        "start_time": "2022-12-15T12:16:26.901Z"
      },
      {
        "duration": 288,
        "start_time": "2022-12-15T12:16:27.197Z"
      },
      {
        "duration": 225,
        "start_time": "2022-12-15T12:16:27.487Z"
      },
      {
        "duration": 287,
        "start_time": "2022-12-15T12:16:27.714Z"
      },
      {
        "duration": 219,
        "start_time": "2022-12-15T12:16:28.003Z"
      },
      {
        "duration": 342,
        "start_time": "2022-12-15T12:16:28.224Z"
      },
      {
        "duration": 11,
        "start_time": "2022-12-15T12:16:28.568Z"
      },
      {
        "duration": 175,
        "start_time": "2022-12-15T12:16:28.580Z"
      },
      {
        "duration": 5,
        "start_time": "2022-12-15T12:16:28.758Z"
      },
      {
        "duration": 162,
        "start_time": "2022-12-15T12:16:28.764Z"
      },
      {
        "duration": 6,
        "start_time": "2022-12-15T12:16:28.928Z"
      },
      {
        "duration": 250,
        "start_time": "2022-12-15T12:16:28.935Z"
      },
      {
        "duration": 131,
        "start_time": "2022-12-15T12:16:29.186Z"
      },
      {
        "duration": 6,
        "start_time": "2022-12-15T12:16:29.319Z"
      },
      {
        "duration": 41,
        "start_time": "2022-12-15T12:16:29.327Z"
      },
      {
        "duration": 11,
        "start_time": "2022-12-15T12:16:29.370Z"
      },
      {
        "duration": 11,
        "start_time": "2022-12-15T12:16:29.382Z"
      },
      {
        "duration": 6,
        "start_time": "2022-12-15T12:16:29.394Z"
      },
      {
        "duration": 7,
        "start_time": "2022-12-15T12:16:29.402Z"
      },
      {
        "duration": 51,
        "start_time": "2022-12-15T12:16:29.411Z"
      },
      {
        "duration": 14,
        "start_time": "2022-12-15T12:16:29.463Z"
      },
      {
        "duration": 289,
        "start_time": "2022-12-15T12:18:50.331Z"
      },
      {
        "duration": 35,
        "start_time": "2022-12-15T12:23:03.762Z"
      },
      {
        "duration": 10,
        "start_time": "2022-12-15T12:24:32.624Z"
      },
      {
        "duration": 11,
        "start_time": "2022-12-15T12:26:09.726Z"
      },
      {
        "duration": 25,
        "start_time": "2022-12-15T12:27:03.894Z"
      },
      {
        "duration": 36,
        "start_time": "2022-12-15T12:27:24.776Z"
      },
      {
        "duration": 14,
        "start_time": "2022-12-15T12:27:56.551Z"
      },
      {
        "duration": 1060,
        "start_time": "2022-12-15T12:28:15.654Z"
      },
      {
        "duration": 51,
        "start_time": "2022-12-15T12:28:16.717Z"
      },
      {
        "duration": 7,
        "start_time": "2022-12-15T12:28:16.769Z"
      },
      {
        "duration": 14,
        "start_time": "2022-12-15T12:28:16.778Z"
      },
      {
        "duration": 10,
        "start_time": "2022-12-15T12:28:16.793Z"
      },
      {
        "duration": 7,
        "start_time": "2022-12-15T12:28:16.805Z"
      },
      {
        "duration": 14,
        "start_time": "2022-12-15T12:28:16.814Z"
      },
      {
        "duration": 32,
        "start_time": "2022-12-15T12:28:16.830Z"
      },
      {
        "duration": 51,
        "start_time": "2022-12-15T12:28:16.863Z"
      },
      {
        "duration": 11,
        "start_time": "2022-12-15T12:28:16.917Z"
      },
      {
        "duration": 17,
        "start_time": "2022-12-15T12:28:16.929Z"
      },
      {
        "duration": 6,
        "start_time": "2022-12-15T12:28:16.948Z"
      },
      {
        "duration": 17,
        "start_time": "2022-12-15T12:28:16.955Z"
      },
      {
        "duration": 25,
        "start_time": "2022-12-15T12:28:16.974Z"
      },
      {
        "duration": 11,
        "start_time": "2022-12-15T12:28:17.001Z"
      },
      {
        "duration": 6,
        "start_time": "2022-12-15T12:28:17.014Z"
      },
      {
        "duration": 7,
        "start_time": "2022-12-15T12:28:17.022Z"
      },
      {
        "duration": 26,
        "start_time": "2022-12-15T12:28:17.031Z"
      },
      {
        "duration": 4,
        "start_time": "2022-12-15T12:28:17.058Z"
      },
      {
        "duration": 294,
        "start_time": "2022-12-15T12:28:17.064Z"
      },
      {
        "duration": 298,
        "start_time": "2022-12-15T12:28:17.359Z"
      },
      {
        "duration": 217,
        "start_time": "2022-12-15T12:28:17.659Z"
      },
      {
        "duration": 285,
        "start_time": "2022-12-15T12:28:17.878Z"
      },
      {
        "duration": 226,
        "start_time": "2022-12-15T12:28:18.165Z"
      },
      {
        "duration": 303,
        "start_time": "2022-12-15T12:28:18.392Z"
      },
      {
        "duration": 12,
        "start_time": "2022-12-15T12:28:18.696Z"
      },
      {
        "duration": 169,
        "start_time": "2022-12-15T12:28:18.709Z"
      },
      {
        "duration": 6,
        "start_time": "2022-12-15T12:28:18.881Z"
      },
      {
        "duration": 167,
        "start_time": "2022-12-15T12:28:18.888Z"
      },
      {
        "duration": 6,
        "start_time": "2022-12-15T12:28:19.056Z"
      },
      {
        "duration": 248,
        "start_time": "2022-12-15T12:28:19.063Z"
      },
      {
        "duration": 148,
        "start_time": "2022-12-15T12:28:19.312Z"
      },
      {
        "duration": 6,
        "start_time": "2022-12-15T12:28:19.461Z"
      },
      {
        "duration": 28,
        "start_time": "2022-12-15T12:28:19.469Z"
      },
      {
        "duration": 9,
        "start_time": "2022-12-15T12:28:19.499Z"
      },
      {
        "duration": 10,
        "start_time": "2022-12-15T12:28:19.510Z"
      },
      {
        "duration": 4,
        "start_time": "2022-12-15T12:28:19.522Z"
      },
      {
        "duration": 9,
        "start_time": "2022-12-15T12:28:19.555Z"
      },
      {
        "duration": 24,
        "start_time": "2022-12-15T12:28:19.565Z"
      },
      {
        "duration": 14,
        "start_time": "2022-12-15T12:28:19.591Z"
      },
      {
        "duration": 11,
        "start_time": "2022-12-15T12:36:28.279Z"
      },
      {
        "duration": 4,
        "start_time": "2022-12-15T12:36:40.311Z"
      },
      {
        "duration": 7,
        "start_time": "2022-12-15T12:36:52.287Z"
      },
      {
        "duration": 24,
        "start_time": "2022-12-15T12:36:59.046Z"
      },
      {
        "duration": 14,
        "start_time": "2022-12-15T12:37:55.478Z"
      },
      {
        "duration": 103,
        "start_time": "2022-12-15T12:41:17.980Z"
      },
      {
        "duration": 17,
        "start_time": "2022-12-15T12:41:53.085Z"
      },
      {
        "duration": 10,
        "start_time": "2022-12-15T12:42:11.852Z"
      },
      {
        "duration": 11,
        "start_time": "2022-12-15T12:44:00.771Z"
      },
      {
        "duration": 11,
        "start_time": "2022-12-15T12:44:40.858Z"
      },
      {
        "duration": 1136,
        "start_time": "2022-12-15T12:45:17.943Z"
      },
      {
        "duration": 39,
        "start_time": "2022-12-15T12:45:19.082Z"
      },
      {
        "duration": 9,
        "start_time": "2022-12-15T12:45:19.123Z"
      },
      {
        "duration": 14,
        "start_time": "2022-12-15T12:45:19.134Z"
      },
      {
        "duration": 28,
        "start_time": "2022-12-15T12:45:19.150Z"
      },
      {
        "duration": 12,
        "start_time": "2022-12-15T12:45:19.180Z"
      },
      {
        "duration": 14,
        "start_time": "2022-12-15T12:45:19.194Z"
      },
      {
        "duration": 10,
        "start_time": "2022-12-15T12:45:19.210Z"
      },
      {
        "duration": 65,
        "start_time": "2022-12-15T12:45:19.222Z"
      },
      {
        "duration": 14,
        "start_time": "2022-12-15T12:45:19.290Z"
      },
      {
        "duration": 33,
        "start_time": "2022-12-15T12:45:19.306Z"
      },
      {
        "duration": 12,
        "start_time": "2022-12-15T12:45:19.341Z"
      },
      {
        "duration": 8,
        "start_time": "2022-12-15T12:45:19.355Z"
      },
      {
        "duration": 25,
        "start_time": "2022-12-15T12:45:19.365Z"
      },
      {
        "duration": 10,
        "start_time": "2022-12-15T12:45:19.391Z"
      },
      {
        "duration": 6,
        "start_time": "2022-12-15T12:45:19.403Z"
      },
      {
        "duration": 10,
        "start_time": "2022-12-15T12:45:19.412Z"
      },
      {
        "duration": 12,
        "start_time": "2022-12-15T12:45:19.424Z"
      },
      {
        "duration": 18,
        "start_time": "2022-12-15T12:45:19.437Z"
      },
      {
        "duration": 286,
        "start_time": "2022-12-15T12:45:19.457Z"
      },
      {
        "duration": 298,
        "start_time": "2022-12-15T12:45:19.745Z"
      },
      {
        "duration": 212,
        "start_time": "2022-12-15T12:45:20.045Z"
      },
      {
        "duration": 299,
        "start_time": "2022-12-15T12:45:20.259Z"
      },
      {
        "duration": 224,
        "start_time": "2022-12-15T12:45:20.559Z"
      },
      {
        "duration": 312,
        "start_time": "2022-12-15T12:45:20.785Z"
      },
      {
        "duration": 13,
        "start_time": "2022-12-15T12:45:21.098Z"
      },
      {
        "duration": 178,
        "start_time": "2022-12-15T12:45:21.112Z"
      },
      {
        "duration": 5,
        "start_time": "2022-12-15T12:45:21.294Z"
      },
      {
        "duration": 173,
        "start_time": "2022-12-15T12:45:21.300Z"
      },
      {
        "duration": 6,
        "start_time": "2022-12-15T12:45:21.475Z"
      },
      {
        "duration": 232,
        "start_time": "2022-12-15T12:45:21.482Z"
      },
      {
        "duration": 162,
        "start_time": "2022-12-15T12:45:21.715Z"
      },
      {
        "duration": 8,
        "start_time": "2022-12-15T12:45:21.878Z"
      },
      {
        "duration": 32,
        "start_time": "2022-12-15T12:45:21.887Z"
      },
      {
        "duration": 16,
        "start_time": "2022-12-15T12:45:21.922Z"
      },
      {
        "duration": 15,
        "start_time": "2022-12-15T12:45:21.955Z"
      },
      {
        "duration": 4,
        "start_time": "2022-12-15T12:45:21.972Z"
      },
      {
        "duration": 9,
        "start_time": "2022-12-15T12:45:21.978Z"
      },
      {
        "duration": 28,
        "start_time": "2022-12-15T12:45:21.988Z"
      },
      {
        "duration": 43,
        "start_time": "2022-12-15T12:45:22.018Z"
      },
      {
        "duration": 1212,
        "start_time": "2022-12-15T12:51:30.134Z"
      },
      {
        "duration": 39,
        "start_time": "2022-12-15T12:51:31.348Z"
      },
      {
        "duration": 30,
        "start_time": "2022-12-15T12:51:31.389Z"
      },
      {
        "duration": 92,
        "start_time": "2022-12-15T12:51:31.421Z"
      },
      {
        "duration": 43,
        "start_time": "2022-12-15T12:51:31.515Z"
      },
      {
        "duration": 16,
        "start_time": "2022-12-15T12:51:31.560Z"
      },
      {
        "duration": 34,
        "start_time": "2022-12-15T12:51:31.578Z"
      },
      {
        "duration": 21,
        "start_time": "2022-12-15T12:51:31.614Z"
      },
      {
        "duration": 75,
        "start_time": "2022-12-15T12:51:31.636Z"
      },
      {
        "duration": 10,
        "start_time": "2022-12-15T12:51:31.714Z"
      },
      {
        "duration": 27,
        "start_time": "2022-12-15T12:51:31.725Z"
      },
      {
        "duration": 20,
        "start_time": "2022-12-15T12:51:31.753Z"
      },
      {
        "duration": 23,
        "start_time": "2022-12-15T12:51:31.775Z"
      },
      {
        "duration": 50,
        "start_time": "2022-12-15T12:51:31.800Z"
      },
      {
        "duration": 10,
        "start_time": "2022-12-15T12:51:31.852Z"
      },
      {
        "duration": 43,
        "start_time": "2022-12-15T12:51:31.864Z"
      },
      {
        "duration": 12,
        "start_time": "2022-12-15T12:51:31.909Z"
      },
      {
        "duration": 26,
        "start_time": "2022-12-15T12:51:31.923Z"
      },
      {
        "duration": 7,
        "start_time": "2022-12-15T12:51:31.950Z"
      },
      {
        "duration": 313,
        "start_time": "2022-12-15T12:51:31.958Z"
      },
      {
        "duration": 318,
        "start_time": "2022-12-15T12:51:32.272Z"
      },
      {
        "duration": 233,
        "start_time": "2022-12-15T12:51:32.592Z"
      },
      {
        "duration": 349,
        "start_time": "2022-12-15T12:51:32.827Z"
      },
      {
        "duration": 240,
        "start_time": "2022-12-15T12:51:33.177Z"
      },
      {
        "duration": 378,
        "start_time": "2022-12-15T12:51:33.419Z"
      },
      {
        "duration": 12,
        "start_time": "2022-12-15T12:51:33.799Z"
      },
      {
        "duration": 191,
        "start_time": "2022-12-15T12:51:33.814Z"
      },
      {
        "duration": 5,
        "start_time": "2022-12-15T12:51:34.010Z"
      },
      {
        "duration": 170,
        "start_time": "2022-12-15T12:51:34.017Z"
      },
      {
        "duration": 5,
        "start_time": "2022-12-15T12:51:34.189Z"
      },
      {
        "duration": 241,
        "start_time": "2022-12-15T12:51:34.196Z"
      },
      {
        "duration": 162,
        "start_time": "2022-12-15T12:51:34.439Z"
      },
      {
        "duration": 9,
        "start_time": "2022-12-15T12:51:34.603Z"
      },
      {
        "duration": 48,
        "start_time": "2022-12-15T12:51:34.617Z"
      },
      {
        "duration": 15,
        "start_time": "2022-12-15T12:51:34.667Z"
      },
      {
        "duration": 17,
        "start_time": "2022-12-15T12:51:34.684Z"
      },
      {
        "duration": 9,
        "start_time": "2022-12-15T12:51:34.704Z"
      },
      {
        "duration": 40,
        "start_time": "2022-12-15T12:51:34.715Z"
      },
      {
        "duration": 35,
        "start_time": "2022-12-15T12:51:34.758Z"
      },
      {
        "duration": 16,
        "start_time": "2022-12-15T12:51:34.795Z"
      }
    ],
    "colab": {
      "provenance": []
    },
    "kernelspec": {
      "display_name": "Python 3 (ipykernel)",
      "language": "python",
      "name": "python3"
    },
    "language_info": {
      "codemirror_mode": {
        "name": "ipython",
        "version": 3
      },
      "file_extension": ".py",
      "mimetype": "text/x-python",
      "name": "python",
      "nbconvert_exporter": "python",
      "pygments_lexer": "ipython3",
      "version": "3.9.5"
    },
    "toc": {
      "base_numbering": 1,
      "nav_menu": {
        "height": "45.9943px",
        "width": "160px"
      },
      "number_sections": true,
      "sideBar": true,
      "skip_h1_title": true,
      "title_cell": "Table of Contents",
      "title_sidebar": "Contents",
      "toc_cell": false,
      "toc_position": {
        "height": "calc(100% - 180px)",
        "left": "10px",
        "top": "150px",
        "width": "620.764px"
      },
      "toc_section_display": true,
      "toc_window_display": false
    }
  },
  "nbformat": 4,
  "nbformat_minor": 0
}
