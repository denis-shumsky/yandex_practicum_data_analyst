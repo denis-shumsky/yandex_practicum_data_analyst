{
  "cells": [
    {
      "cell_type": "markdown",
      "source": [
        "https://drive.google.com/file/d/1SC1ZGjNpgCGFYZRni0CJ-DisPuVSvdcF/view?usp=share_link"
      ],
      "metadata": {
        "id": "xY3-SMTPN7fh"
      },
      "id": "xY3-SMTPN7fh"
    },
    {
      "cell_type": "code",
      "source": [
        "! gdown --id 1SC1ZGjNpgCGFYZRni0CJ-DisPuVSvdcF"
      ],
      "metadata": {
        "colab": {
          "base_uri": "https://localhost:8080/"
        },
        "id": "z_uTXrTJOCWG",
        "outputId": "d50f949e-7ed9-4a9a-c280-55138fab6a19"
      },
      "id": "z_uTXrTJOCWG",
      "execution_count": 31,
      "outputs": [
        {
          "output_type": "stream",
          "name": "stdout",
          "text": [
            "/usr/local/lib/python3.8/dist-packages/gdown/cli.py:127: FutureWarning: Option `--id` was deprecated in version 4.3.1 and will be removed in 5.0. You don't need to pass it anymore to use a file ID.\n",
            "  warnings.warn(\n",
            "Downloading...\n",
            "From: https://drive.google.com/uc?id=1SC1ZGjNpgCGFYZRni0CJ-DisPuVSvdcF\n",
            "To: /content/data.csv\n",
            "100% 3.32M/3.32M [00:00<00:00, 145MB/s]\n"
          ]
        }
      ]
    },
    {
      "cell_type": "markdown",
      "id": "c7bd4cbd",
      "metadata": {
        "deletable": false,
        "editable": false,
        "id": "c7bd4cbd"
      },
      "source": [
        "# Исследование надежности заемщиков\n"
      ]
    },
    {
      "cell_type": "markdown",
      "id": "fb87fcaa",
      "metadata": {
        "deletable": false,
        "editable": false,
        "id": "fb87fcaa"
      },
      "source": [
        "## Откройте таблицу и изучите общую информацию о данных"
      ]
    },
    {
      "cell_type": "markdown",
      "id": "253d7cf0",
      "metadata": {
        "deletable": false,
        "editable": false,
        "id": "253d7cf0"
      },
      "source": [
        "**Задание 1. Импортируйте библиотеку pandas. Считайте данные из csv-файла в датафрейм и сохраните в переменную `data`. Путь к файлу:**\n",
        "\n",
        "`/datasets/data.csv`"
      ]
    },
    {
      "cell_type": "code",
      "execution_count": 32,
      "id": "2df89c77",
      "metadata": {
        "deletable": false,
        "id": "2df89c77"
      },
      "outputs": [],
      "source": [
        "import pandas as pd\n",
        "\n",
        "data = pd.read_csv('/content/data.csv')"
      ]
    },
    {
      "cell_type": "markdown",
      "id": "5332c1a3",
      "metadata": {
        "deletable": false,
        "editable": false,
        "id": "5332c1a3"
      },
      "source": [
        "**Задание 2. Выведите первые 20 строчек датафрейма `data` на экран.**"
      ]
    },
    {
      "cell_type": "code",
      "execution_count": 33,
      "id": "b7a21bd7",
      "metadata": {
        "deletable": false,
        "id": "b7a21bd7",
        "outputId": "b68db395-94b5-4d27-bf11-d74e7eb0a965",
        "colab": {
          "base_uri": "https://localhost:8080/",
          "height": 1000
        }
      },
      "outputs": [
        {
          "output_type": "execute_result",
          "data": {
            "text/plain": [
              "    children  days_employed  dob_years            education  education_id  \\\n",
              "0          1   -8437.673028         42               высшее             0   \n",
              "1          1   -4024.803754         36              среднее             1   \n",
              "2          0   -5623.422610         33              Среднее             1   \n",
              "3          3   -4124.747207         32              среднее             1   \n",
              "4          0  340266.072047         53              среднее             1   \n",
              "5          0    -926.185831         27               высшее             0   \n",
              "6          0   -2879.202052         43               высшее             0   \n",
              "7          0    -152.779569         50              СРЕДНЕЕ             1   \n",
              "8          2   -6929.865299         35               ВЫСШЕЕ             0   \n",
              "9          0   -2188.756445         41              среднее             1   \n",
              "10         2   -4171.483647         36               высшее             0   \n",
              "11         0    -792.701887         40              среднее             1   \n",
              "12         0            NaN         65              среднее             1   \n",
              "13         0   -1846.641941         54  неоконченное высшее             2   \n",
              "14         0   -1844.956182         56               высшее             0   \n",
              "15         1    -972.364419         26              среднее             1   \n",
              "16         0   -1719.934226         35              среднее             1   \n",
              "17         0   -2369.999720         33               высшее             0   \n",
              "18         0  400281.136913         53              среднее             1   \n",
              "19         0  -10038.818549         48              СРЕДНЕЕ             1   \n",
              "\n",
              "       family_status  family_status_id gender income_type  debt  \\\n",
              "0    женат / замужем                 0      F   сотрудник     0   \n",
              "1    женат / замужем                 0      F   сотрудник     0   \n",
              "2    женат / замужем                 0      M   сотрудник     0   \n",
              "3    женат / замужем                 0      M   сотрудник     0   \n",
              "4   гражданский брак                 1      F   пенсионер     0   \n",
              "5   гражданский брак                 1      M   компаньон     0   \n",
              "6    женат / замужем                 0      F   компаньон     0   \n",
              "7    женат / замужем                 0      M   сотрудник     0   \n",
              "8   гражданский брак                 1      F   сотрудник     0   \n",
              "9    женат / замужем                 0      M   сотрудник     0   \n",
              "10   женат / замужем                 0      M   компаньон     0   \n",
              "11   женат / замужем                 0      F   сотрудник     0   \n",
              "12  гражданский брак                 1      M   пенсионер     0   \n",
              "13   женат / замужем                 0      F   сотрудник     0   \n",
              "14  гражданский брак                 1      F   компаньон     1   \n",
              "15   женат / замужем                 0      F   сотрудник     0   \n",
              "16   женат / замужем                 0      F   сотрудник     0   \n",
              "17  гражданский брак                 1      M   сотрудник     0   \n",
              "18    вдовец / вдова                 2      F   пенсионер     0   \n",
              "19         в разводе                 3      F   сотрудник     0   \n",
              "\n",
              "     total_income                                 purpose  \n",
              "0   253875.639453                           покупка жилья  \n",
              "1   112080.014102                 приобретение автомобиля  \n",
              "2   145885.952297                           покупка жилья  \n",
              "3   267628.550329              дополнительное образование  \n",
              "4   158616.077870                         сыграть свадьбу  \n",
              "5   255763.565419                           покупка жилья  \n",
              "6   240525.971920                       операции с жильем  \n",
              "7   135823.934197                             образование  \n",
              "8    95856.832424                   на проведение свадьбы  \n",
              "9   144425.938277                 покупка жилья для семьи  \n",
              "10  113943.491460                    покупка недвижимости  \n",
              "11   77069.234271       покупка коммерческой недвижимости  \n",
              "12            NaN                         сыграть свадьбу  \n",
              "13  130458.228857                 приобретение автомобиля  \n",
              "14  165127.911772              покупка жилой недвижимости  \n",
              "15  116820.904450  строительство собственной недвижимости  \n",
              "16  289202.704229                            недвижимость  \n",
              "17   90410.586745              строительство недвижимости  \n",
              "18   56823.777243      на покупку подержанного автомобиля  \n",
              "19  242831.107982            на покупку своего автомобиля  "
            ],
            "text/html": [
              "\n",
              "  <div id=\"df-235d4d7e-4203-4d6e-afdc-414ee5eb7a9d\">\n",
              "    <div class=\"colab-df-container\">\n",
              "      <div>\n",
              "<style scoped>\n",
              "    .dataframe tbody tr th:only-of-type {\n",
              "        vertical-align: middle;\n",
              "    }\n",
              "\n",
              "    .dataframe tbody tr th {\n",
              "        vertical-align: top;\n",
              "    }\n",
              "\n",
              "    .dataframe thead th {\n",
              "        text-align: right;\n",
              "    }\n",
              "</style>\n",
              "<table border=\"1\" class=\"dataframe\">\n",
              "  <thead>\n",
              "    <tr style=\"text-align: right;\">\n",
              "      <th></th>\n",
              "      <th>children</th>\n",
              "      <th>days_employed</th>\n",
              "      <th>dob_years</th>\n",
              "      <th>education</th>\n",
              "      <th>education_id</th>\n",
              "      <th>family_status</th>\n",
              "      <th>family_status_id</th>\n",
              "      <th>gender</th>\n",
              "      <th>income_type</th>\n",
              "      <th>debt</th>\n",
              "      <th>total_income</th>\n",
              "      <th>purpose</th>\n",
              "    </tr>\n",
              "  </thead>\n",
              "  <tbody>\n",
              "    <tr>\n",
              "      <th>0</th>\n",
              "      <td>1</td>\n",
              "      <td>-8437.673028</td>\n",
              "      <td>42</td>\n",
              "      <td>высшее</td>\n",
              "      <td>0</td>\n",
              "      <td>женат / замужем</td>\n",
              "      <td>0</td>\n",
              "      <td>F</td>\n",
              "      <td>сотрудник</td>\n",
              "      <td>0</td>\n",
              "      <td>253875.639453</td>\n",
              "      <td>покупка жилья</td>\n",
              "    </tr>\n",
              "    <tr>\n",
              "      <th>1</th>\n",
              "      <td>1</td>\n",
              "      <td>-4024.803754</td>\n",
              "      <td>36</td>\n",
              "      <td>среднее</td>\n",
              "      <td>1</td>\n",
              "      <td>женат / замужем</td>\n",
              "      <td>0</td>\n",
              "      <td>F</td>\n",
              "      <td>сотрудник</td>\n",
              "      <td>0</td>\n",
              "      <td>112080.014102</td>\n",
              "      <td>приобретение автомобиля</td>\n",
              "    </tr>\n",
              "    <tr>\n",
              "      <th>2</th>\n",
              "      <td>0</td>\n",
              "      <td>-5623.422610</td>\n",
              "      <td>33</td>\n",
              "      <td>Среднее</td>\n",
              "      <td>1</td>\n",
              "      <td>женат / замужем</td>\n",
              "      <td>0</td>\n",
              "      <td>M</td>\n",
              "      <td>сотрудник</td>\n",
              "      <td>0</td>\n",
              "      <td>145885.952297</td>\n",
              "      <td>покупка жилья</td>\n",
              "    </tr>\n",
              "    <tr>\n",
              "      <th>3</th>\n",
              "      <td>3</td>\n",
              "      <td>-4124.747207</td>\n",
              "      <td>32</td>\n",
              "      <td>среднее</td>\n",
              "      <td>1</td>\n",
              "      <td>женат / замужем</td>\n",
              "      <td>0</td>\n",
              "      <td>M</td>\n",
              "      <td>сотрудник</td>\n",
              "      <td>0</td>\n",
              "      <td>267628.550329</td>\n",
              "      <td>дополнительное образование</td>\n",
              "    </tr>\n",
              "    <tr>\n",
              "      <th>4</th>\n",
              "      <td>0</td>\n",
              "      <td>340266.072047</td>\n",
              "      <td>53</td>\n",
              "      <td>среднее</td>\n",
              "      <td>1</td>\n",
              "      <td>гражданский брак</td>\n",
              "      <td>1</td>\n",
              "      <td>F</td>\n",
              "      <td>пенсионер</td>\n",
              "      <td>0</td>\n",
              "      <td>158616.077870</td>\n",
              "      <td>сыграть свадьбу</td>\n",
              "    </tr>\n",
              "    <tr>\n",
              "      <th>5</th>\n",
              "      <td>0</td>\n",
              "      <td>-926.185831</td>\n",
              "      <td>27</td>\n",
              "      <td>высшее</td>\n",
              "      <td>0</td>\n",
              "      <td>гражданский брак</td>\n",
              "      <td>1</td>\n",
              "      <td>M</td>\n",
              "      <td>компаньон</td>\n",
              "      <td>0</td>\n",
              "      <td>255763.565419</td>\n",
              "      <td>покупка жилья</td>\n",
              "    </tr>\n",
              "    <tr>\n",
              "      <th>6</th>\n",
              "      <td>0</td>\n",
              "      <td>-2879.202052</td>\n",
              "      <td>43</td>\n",
              "      <td>высшее</td>\n",
              "      <td>0</td>\n",
              "      <td>женат / замужем</td>\n",
              "      <td>0</td>\n",
              "      <td>F</td>\n",
              "      <td>компаньон</td>\n",
              "      <td>0</td>\n",
              "      <td>240525.971920</td>\n",
              "      <td>операции с жильем</td>\n",
              "    </tr>\n",
              "    <tr>\n",
              "      <th>7</th>\n",
              "      <td>0</td>\n",
              "      <td>-152.779569</td>\n",
              "      <td>50</td>\n",
              "      <td>СРЕДНЕЕ</td>\n",
              "      <td>1</td>\n",
              "      <td>женат / замужем</td>\n",
              "      <td>0</td>\n",
              "      <td>M</td>\n",
              "      <td>сотрудник</td>\n",
              "      <td>0</td>\n",
              "      <td>135823.934197</td>\n",
              "      <td>образование</td>\n",
              "    </tr>\n",
              "    <tr>\n",
              "      <th>8</th>\n",
              "      <td>2</td>\n",
              "      <td>-6929.865299</td>\n",
              "      <td>35</td>\n",
              "      <td>ВЫСШЕЕ</td>\n",
              "      <td>0</td>\n",
              "      <td>гражданский брак</td>\n",
              "      <td>1</td>\n",
              "      <td>F</td>\n",
              "      <td>сотрудник</td>\n",
              "      <td>0</td>\n",
              "      <td>95856.832424</td>\n",
              "      <td>на проведение свадьбы</td>\n",
              "    </tr>\n",
              "    <tr>\n",
              "      <th>9</th>\n",
              "      <td>0</td>\n",
              "      <td>-2188.756445</td>\n",
              "      <td>41</td>\n",
              "      <td>среднее</td>\n",
              "      <td>1</td>\n",
              "      <td>женат / замужем</td>\n",
              "      <td>0</td>\n",
              "      <td>M</td>\n",
              "      <td>сотрудник</td>\n",
              "      <td>0</td>\n",
              "      <td>144425.938277</td>\n",
              "      <td>покупка жилья для семьи</td>\n",
              "    </tr>\n",
              "    <tr>\n",
              "      <th>10</th>\n",
              "      <td>2</td>\n",
              "      <td>-4171.483647</td>\n",
              "      <td>36</td>\n",
              "      <td>высшее</td>\n",
              "      <td>0</td>\n",
              "      <td>женат / замужем</td>\n",
              "      <td>0</td>\n",
              "      <td>M</td>\n",
              "      <td>компаньон</td>\n",
              "      <td>0</td>\n",
              "      <td>113943.491460</td>\n",
              "      <td>покупка недвижимости</td>\n",
              "    </tr>\n",
              "    <tr>\n",
              "      <th>11</th>\n",
              "      <td>0</td>\n",
              "      <td>-792.701887</td>\n",
              "      <td>40</td>\n",
              "      <td>среднее</td>\n",
              "      <td>1</td>\n",
              "      <td>женат / замужем</td>\n",
              "      <td>0</td>\n",
              "      <td>F</td>\n",
              "      <td>сотрудник</td>\n",
              "      <td>0</td>\n",
              "      <td>77069.234271</td>\n",
              "      <td>покупка коммерческой недвижимости</td>\n",
              "    </tr>\n",
              "    <tr>\n",
              "      <th>12</th>\n",
              "      <td>0</td>\n",
              "      <td>NaN</td>\n",
              "      <td>65</td>\n",
              "      <td>среднее</td>\n",
              "      <td>1</td>\n",
              "      <td>гражданский брак</td>\n",
              "      <td>1</td>\n",
              "      <td>M</td>\n",
              "      <td>пенсионер</td>\n",
              "      <td>0</td>\n",
              "      <td>NaN</td>\n",
              "      <td>сыграть свадьбу</td>\n",
              "    </tr>\n",
              "    <tr>\n",
              "      <th>13</th>\n",
              "      <td>0</td>\n",
              "      <td>-1846.641941</td>\n",
              "      <td>54</td>\n",
              "      <td>неоконченное высшее</td>\n",
              "      <td>2</td>\n",
              "      <td>женат / замужем</td>\n",
              "      <td>0</td>\n",
              "      <td>F</td>\n",
              "      <td>сотрудник</td>\n",
              "      <td>0</td>\n",
              "      <td>130458.228857</td>\n",
              "      <td>приобретение автомобиля</td>\n",
              "    </tr>\n",
              "    <tr>\n",
              "      <th>14</th>\n",
              "      <td>0</td>\n",
              "      <td>-1844.956182</td>\n",
              "      <td>56</td>\n",
              "      <td>высшее</td>\n",
              "      <td>0</td>\n",
              "      <td>гражданский брак</td>\n",
              "      <td>1</td>\n",
              "      <td>F</td>\n",
              "      <td>компаньон</td>\n",
              "      <td>1</td>\n",
              "      <td>165127.911772</td>\n",
              "      <td>покупка жилой недвижимости</td>\n",
              "    </tr>\n",
              "    <tr>\n",
              "      <th>15</th>\n",
              "      <td>1</td>\n",
              "      <td>-972.364419</td>\n",
              "      <td>26</td>\n",
              "      <td>среднее</td>\n",
              "      <td>1</td>\n",
              "      <td>женат / замужем</td>\n",
              "      <td>0</td>\n",
              "      <td>F</td>\n",
              "      <td>сотрудник</td>\n",
              "      <td>0</td>\n",
              "      <td>116820.904450</td>\n",
              "      <td>строительство собственной недвижимости</td>\n",
              "    </tr>\n",
              "    <tr>\n",
              "      <th>16</th>\n",
              "      <td>0</td>\n",
              "      <td>-1719.934226</td>\n",
              "      <td>35</td>\n",
              "      <td>среднее</td>\n",
              "      <td>1</td>\n",
              "      <td>женат / замужем</td>\n",
              "      <td>0</td>\n",
              "      <td>F</td>\n",
              "      <td>сотрудник</td>\n",
              "      <td>0</td>\n",
              "      <td>289202.704229</td>\n",
              "      <td>недвижимость</td>\n",
              "    </tr>\n",
              "    <tr>\n",
              "      <th>17</th>\n",
              "      <td>0</td>\n",
              "      <td>-2369.999720</td>\n",
              "      <td>33</td>\n",
              "      <td>высшее</td>\n",
              "      <td>0</td>\n",
              "      <td>гражданский брак</td>\n",
              "      <td>1</td>\n",
              "      <td>M</td>\n",
              "      <td>сотрудник</td>\n",
              "      <td>0</td>\n",
              "      <td>90410.586745</td>\n",
              "      <td>строительство недвижимости</td>\n",
              "    </tr>\n",
              "    <tr>\n",
              "      <th>18</th>\n",
              "      <td>0</td>\n",
              "      <td>400281.136913</td>\n",
              "      <td>53</td>\n",
              "      <td>среднее</td>\n",
              "      <td>1</td>\n",
              "      <td>вдовец / вдова</td>\n",
              "      <td>2</td>\n",
              "      <td>F</td>\n",
              "      <td>пенсионер</td>\n",
              "      <td>0</td>\n",
              "      <td>56823.777243</td>\n",
              "      <td>на покупку подержанного автомобиля</td>\n",
              "    </tr>\n",
              "    <tr>\n",
              "      <th>19</th>\n",
              "      <td>0</td>\n",
              "      <td>-10038.818549</td>\n",
              "      <td>48</td>\n",
              "      <td>СРЕДНЕЕ</td>\n",
              "      <td>1</td>\n",
              "      <td>в разводе</td>\n",
              "      <td>3</td>\n",
              "      <td>F</td>\n",
              "      <td>сотрудник</td>\n",
              "      <td>0</td>\n",
              "      <td>242831.107982</td>\n",
              "      <td>на покупку своего автомобиля</td>\n",
              "    </tr>\n",
              "  </tbody>\n",
              "</table>\n",
              "</div>\n",
              "      <button class=\"colab-df-convert\" onclick=\"convertToInteractive('df-235d4d7e-4203-4d6e-afdc-414ee5eb7a9d')\"\n",
              "              title=\"Convert this dataframe to an interactive table.\"\n",
              "              style=\"display:none;\">\n",
              "        \n",
              "  <svg xmlns=\"http://www.w3.org/2000/svg\" height=\"24px\"viewBox=\"0 0 24 24\"\n",
              "       width=\"24px\">\n",
              "    <path d=\"M0 0h24v24H0V0z\" fill=\"none\"/>\n",
              "    <path d=\"M18.56 5.44l.94 2.06.94-2.06 2.06-.94-2.06-.94-.94-2.06-.94 2.06-2.06.94zm-11 1L8.5 8.5l.94-2.06 2.06-.94-2.06-.94L8.5 2.5l-.94 2.06-2.06.94zm10 10l.94 2.06.94-2.06 2.06-.94-2.06-.94-.94-2.06-.94 2.06-2.06.94z\"/><path d=\"M17.41 7.96l-1.37-1.37c-.4-.4-.92-.59-1.43-.59-.52 0-1.04.2-1.43.59L10.3 9.45l-7.72 7.72c-.78.78-.78 2.05 0 2.83L4 21.41c.39.39.9.59 1.41.59.51 0 1.02-.2 1.41-.59l7.78-7.78 2.81-2.81c.8-.78.8-2.07 0-2.86zM5.41 20L4 18.59l7.72-7.72 1.47 1.35L5.41 20z\"/>\n",
              "  </svg>\n",
              "      </button>\n",
              "      \n",
              "  <style>\n",
              "    .colab-df-container {\n",
              "      display:flex;\n",
              "      flex-wrap:wrap;\n",
              "      gap: 12px;\n",
              "    }\n",
              "\n",
              "    .colab-df-convert {\n",
              "      background-color: #E8F0FE;\n",
              "      border: none;\n",
              "      border-radius: 50%;\n",
              "      cursor: pointer;\n",
              "      display: none;\n",
              "      fill: #1967D2;\n",
              "      height: 32px;\n",
              "      padding: 0 0 0 0;\n",
              "      width: 32px;\n",
              "    }\n",
              "\n",
              "    .colab-df-convert:hover {\n",
              "      background-color: #E2EBFA;\n",
              "      box-shadow: 0px 1px 2px rgba(60, 64, 67, 0.3), 0px 1px 3px 1px rgba(60, 64, 67, 0.15);\n",
              "      fill: #174EA6;\n",
              "    }\n",
              "\n",
              "    [theme=dark] .colab-df-convert {\n",
              "      background-color: #3B4455;\n",
              "      fill: #D2E3FC;\n",
              "    }\n",
              "\n",
              "    [theme=dark] .colab-df-convert:hover {\n",
              "      background-color: #434B5C;\n",
              "      box-shadow: 0px 1px 3px 1px rgba(0, 0, 0, 0.15);\n",
              "      filter: drop-shadow(0px 1px 2px rgba(0, 0, 0, 0.3));\n",
              "      fill: #FFFFFF;\n",
              "    }\n",
              "  </style>\n",
              "\n",
              "      <script>\n",
              "        const buttonEl =\n",
              "          document.querySelector('#df-235d4d7e-4203-4d6e-afdc-414ee5eb7a9d button.colab-df-convert');\n",
              "        buttonEl.style.display =\n",
              "          google.colab.kernel.accessAllowed ? 'block' : 'none';\n",
              "\n",
              "        async function convertToInteractive(key) {\n",
              "          const element = document.querySelector('#df-235d4d7e-4203-4d6e-afdc-414ee5eb7a9d');\n",
              "          const dataTable =\n",
              "            await google.colab.kernel.invokeFunction('convertToInteractive',\n",
              "                                                     [key], {});\n",
              "          if (!dataTable) return;\n",
              "\n",
              "          const docLinkHtml = 'Like what you see? Visit the ' +\n",
              "            '<a target=\"_blank\" href=https://colab.research.google.com/notebooks/data_table.ipynb>data table notebook</a>'\n",
              "            + ' to learn more about interactive tables.';\n",
              "          element.innerHTML = '';\n",
              "          dataTable['output_type'] = 'display_data';\n",
              "          await google.colab.output.renderOutput(dataTable, element);\n",
              "          const docLink = document.createElement('div');\n",
              "          docLink.innerHTML = docLinkHtml;\n",
              "          element.appendChild(docLink);\n",
              "        }\n",
              "      </script>\n",
              "    </div>\n",
              "  </div>\n",
              "  "
            ]
          },
          "metadata": {},
          "execution_count": 33
        }
      ],
      "source": [
        "data.head(20)"
      ]
    },
    {
      "cell_type": "markdown",
      "id": "0f504086",
      "metadata": {
        "deletable": false,
        "editable": false,
        "id": "0f504086"
      },
      "source": [
        "**Задание 3. Выведите основную информацию о датафрейме с помощью метода `info()`.**"
      ]
    },
    {
      "cell_type": "code",
      "execution_count": 34,
      "id": "085b58fb",
      "metadata": {
        "deletable": false,
        "id": "085b58fb",
        "outputId": "aa19a8db-aee5-4c45-82e1-78366e8edf93",
        "colab": {
          "base_uri": "https://localhost:8080/"
        }
      },
      "outputs": [
        {
          "output_type": "stream",
          "name": "stdout",
          "text": [
            "<class 'pandas.core.frame.DataFrame'>\n",
            "RangeIndex: 21525 entries, 0 to 21524\n",
            "Data columns (total 12 columns):\n",
            " #   Column            Non-Null Count  Dtype  \n",
            "---  ------            --------------  -----  \n",
            " 0   children          21525 non-null  int64  \n",
            " 1   days_employed     19351 non-null  float64\n",
            " 2   dob_years         21525 non-null  int64  \n",
            " 3   education         21525 non-null  object \n",
            " 4   education_id      21525 non-null  int64  \n",
            " 5   family_status     21525 non-null  object \n",
            " 6   family_status_id  21525 non-null  int64  \n",
            " 7   gender            21525 non-null  object \n",
            " 8   income_type       21525 non-null  object \n",
            " 9   debt              21525 non-null  int64  \n",
            " 10  total_income      19351 non-null  float64\n",
            " 11  purpose           21525 non-null  object \n",
            "dtypes: float64(2), int64(5), object(5)\n",
            "memory usage: 2.0+ MB\n"
          ]
        }
      ],
      "source": [
        "data.info()"
      ]
    },
    {
      "cell_type": "markdown",
      "id": "bc8b663c",
      "metadata": {
        "deletable": false,
        "editable": false,
        "id": "bc8b663c"
      },
      "source": [
        "## Предобработка данных"
      ]
    },
    {
      "cell_type": "markdown",
      "id": "8fd79b64",
      "metadata": {
        "deletable": false,
        "editable": false,
        "id": "8fd79b64"
      },
      "source": [
        "### Удаление пропусков"
      ]
    },
    {
      "cell_type": "markdown",
      "id": "9804e4f3",
      "metadata": {
        "deletable": false,
        "editable": false,
        "id": "9804e4f3"
      },
      "source": [
        "**Задание 4. Выведите количество пропущенных значений для каждого столбца. Используйте комбинацию двух методов.**"
      ]
    },
    {
      "cell_type": "code",
      "execution_count": 35,
      "id": "33872b9d",
      "metadata": {
        "deletable": false,
        "id": "33872b9d",
        "outputId": "fd17d8ab-d7f2-4c94-aa35-627ac4f49c9d",
        "colab": {
          "base_uri": "https://localhost:8080/"
        }
      },
      "outputs": [
        {
          "output_type": "execute_result",
          "data": {
            "text/plain": [
              "children               0\n",
              "days_employed       2174\n",
              "dob_years              0\n",
              "education              0\n",
              "education_id           0\n",
              "family_status          0\n",
              "family_status_id       0\n",
              "gender                 0\n",
              "income_type            0\n",
              "debt                   0\n",
              "total_income        2174\n",
              "purpose                0\n",
              "dtype: int64"
            ]
          },
          "metadata": {},
          "execution_count": 35
        }
      ],
      "source": [
        "data.isna().sum()"
      ]
    },
    {
      "cell_type": "markdown",
      "id": "4ad97577",
      "metadata": {
        "deletable": false,
        "editable": false,
        "id": "4ad97577"
      },
      "source": [
        "**Задание 5. В двух столбцах есть пропущенные значения. Один из них — `days_employed`. Пропуски в этом столбце вы обработаете на следующем этапе. Другой столбец с пропущенными значениями — `total_income` — хранит данные о доходах. На сумму дохода сильнее всего влияет тип занятости, поэтому заполнить пропуски в этом столбце нужно медианным значением по каждому типу из столбца `income_type`. Например, у человека с типом занятости `сотрудник` пропуск в столбце `total_income` должен быть заполнен медианным доходом среди всех записей с тем же типом.**"
      ]
    },
    {
      "cell_type": "code",
      "execution_count": 36,
      "id": "d0013cfb",
      "metadata": {
        "deletable": false,
        "id": "d0013cfb"
      },
      "outputs": [],
      "source": [
        "for t in data['income_type'].unique():\n",
        "    data.loc[(data['income_type'] == t) & (data['total_income'].isna()), 'total_income'] = \\\n",
        "    data.loc[(data['income_type'] == t), 'total_income'].median()"
      ]
    },
    {
      "cell_type": "markdown",
      "id": "12e8853a",
      "metadata": {
        "deletable": false,
        "editable": false,
        "id": "12e8853a"
      },
      "source": [
        "### Обработка аномальных значений"
      ]
    },
    {
      "cell_type": "markdown",
      "id": "481c1b00",
      "metadata": {
        "deletable": false,
        "editable": false,
        "id": "481c1b00"
      },
      "source": [
        "**Задание 6. В данных могут встречаться артефакты (аномалии) — значения, которые не отражают действительность и появились по какой-то ошибке. таким артефактом будет отрицательное количество дней трудового стажа в столбце `days_employed`. Для реальных данных это нормально. Обработайте значения в этом столбце: замените все отрицательные значения положительными с помощью метода `abs()`.**"
      ]
    },
    {
      "cell_type": "code",
      "execution_count": 37,
      "id": "d33dec21",
      "metadata": {
        "deletable": false,
        "id": "d33dec21"
      },
      "outputs": [],
      "source": [
        "data['days_employed'] = data['days_employed'].abs()"
      ]
    },
    {
      "cell_type": "markdown",
      "id": "5cb33dd2",
      "metadata": {
        "deletable": false,
        "editable": false,
        "id": "5cb33dd2"
      },
      "source": [
        "**Задание 7. Для каждого типа занятости выведите медианное значение трудового стажа `days_employed` в днях.**"
      ]
    },
    {
      "cell_type": "code",
      "execution_count": 38,
      "id": "a066ed84",
      "metadata": {
        "deletable": false,
        "id": "a066ed84",
        "outputId": "a4f0a32e-f1de-4e27-fdb5-6a4803006c5a",
        "colab": {
          "base_uri": "https://localhost:8080/"
        }
      },
      "outputs": [
        {
          "output_type": "execute_result",
          "data": {
            "text/plain": [
              "income_type\n",
              "безработный        366413.652744\n",
              "в декрете            3296.759962\n",
              "госслужащий          2689.368353\n",
              "компаньон            1547.382223\n",
              "пенсионер          365213.306266\n",
              "предприниматель       520.848083\n",
              "сотрудник            1574.202821\n",
              "студент               578.751554\n",
              "Name: days_employed, dtype: float64"
            ]
          },
          "metadata": {},
          "execution_count": 38
        }
      ],
      "source": [
        "data.groupby('income_type')['days_employed'].agg('median')"
      ]
    },
    {
      "cell_type": "markdown",
      "id": "d9f4809b",
      "metadata": {
        "deletable": false,
        "editable": false,
        "id": "d9f4809b"
      },
      "source": [
        "У двух типов (безработные и пенсионеры) получатся аномально большие значения. Исправить такие значения сложно, поэтому оставьте их как есть. Тем более этот столбец не понадобится вам для исследования."
      ]
    },
    {
      "cell_type": "markdown",
      "id": "26a763ae",
      "metadata": {
        "deletable": false,
        "editable": false,
        "id": "26a763ae"
      },
      "source": [
        "**Задание 8. Выведите перечень уникальных значений столбца `children`.**"
      ]
    },
    {
      "cell_type": "code",
      "execution_count": 39,
      "id": "6c828362",
      "metadata": {
        "deletable": false,
        "id": "6c828362",
        "outputId": "84430bd8-43e1-4b1e-dfac-f716c86a8c23",
        "colab": {
          "base_uri": "https://localhost:8080/"
        }
      },
      "outputs": [
        {
          "output_type": "execute_result",
          "data": {
            "text/plain": [
              "array([ 1,  0,  3,  2, -1,  4, 20,  5])"
            ]
          },
          "metadata": {},
          "execution_count": 39
        }
      ],
      "source": [
        "data['children'].unique()"
      ]
    },
    {
      "cell_type": "markdown",
      "id": "43ffb870",
      "metadata": {
        "deletable": false,
        "editable": false,
        "id": "43ffb870"
      },
      "source": [
        "**Задание 9. В столбце `children` есть два аномальных значения. Удалите строки, в которых встречаются такие аномальные значения из датафрейма `data`.**"
      ]
    },
    {
      "cell_type": "code",
      "execution_count": 40,
      "id": "69a9a998",
      "metadata": {
        "deletable": false,
        "id": "69a9a998"
      },
      "outputs": [],
      "source": [
        "data = data[(data['children'] != -1) & (data['children'] != 20)]"
      ]
    },
    {
      "cell_type": "markdown",
      "id": "474e66bb",
      "metadata": {
        "deletable": false,
        "editable": false,
        "id": "474e66bb"
      },
      "source": [
        "**Задание 10. Ещё раз выведите перечень уникальных значений столбца `children`, чтобы убедиться, что артефакты удалены.**"
      ]
    },
    {
      "cell_type": "code",
      "execution_count": 41,
      "id": "b473c6be",
      "metadata": {
        "deletable": false,
        "id": "b473c6be",
        "outputId": "ba79a5cb-16ba-48b0-92db-3e0ed42711d4",
        "colab": {
          "base_uri": "https://localhost:8080/"
        }
      },
      "outputs": [
        {
          "output_type": "execute_result",
          "data": {
            "text/plain": [
              "array([1, 0, 3, 2, 4, 5])"
            ]
          },
          "metadata": {},
          "execution_count": 41
        }
      ],
      "source": [
        "data['children'].unique()"
      ]
    },
    {
      "cell_type": "markdown",
      "id": "f957cfaa",
      "metadata": {
        "deletable": false,
        "editable": false,
        "id": "f957cfaa"
      },
      "source": [
        "### Удаление пропусков (продолжение)"
      ]
    },
    {
      "cell_type": "markdown",
      "id": "31863788",
      "metadata": {
        "deletable": false,
        "editable": false,
        "id": "31863788"
      },
      "source": [
        "**Задание 11. Заполните пропуски в столбце `days_employed` медианными значениями по каждого типа занятости `income_type`.**"
      ]
    },
    {
      "cell_type": "code",
      "execution_count": 42,
      "id": "ba154cb2",
      "metadata": {
        "deletable": false,
        "id": "ba154cb2",
        "colab": {
          "base_uri": "https://localhost:8080/"
        },
        "outputId": "3322453f-8d4c-4178-f61b-d31b962a2a7a"
      },
      "outputs": [
        {
          "output_type": "stream",
          "name": "stderr",
          "text": [
            "/usr/local/lib/python3.8/dist-packages/pandas/core/indexing.py:1817: SettingWithCopyWarning: \n",
            "A value is trying to be set on a copy of a slice from a DataFrame.\n",
            "Try using .loc[row_indexer,col_indexer] = value instead\n",
            "\n",
            "See the caveats in the documentation: https://pandas.pydata.org/pandas-docs/stable/user_guide/indexing.html#returning-a-view-versus-a-copy\n",
            "  self._setitem_single_column(loc, value, pi)\n",
            "/usr/local/lib/python3.8/dist-packages/pandas/core/indexing.py:1817: SettingWithCopyWarning: \n",
            "A value is trying to be set on a copy of a slice from a DataFrame.\n",
            "Try using .loc[row_indexer,col_indexer] = value instead\n",
            "\n",
            "See the caveats in the documentation: https://pandas.pydata.org/pandas-docs/stable/user_guide/indexing.html#returning-a-view-versus-a-copy\n",
            "  self._setitem_single_column(loc, value, pi)\n",
            "/usr/local/lib/python3.8/dist-packages/pandas/core/indexing.py:1817: SettingWithCopyWarning: \n",
            "A value is trying to be set on a copy of a slice from a DataFrame.\n",
            "Try using .loc[row_indexer,col_indexer] = value instead\n",
            "\n",
            "See the caveats in the documentation: https://pandas.pydata.org/pandas-docs/stable/user_guide/indexing.html#returning-a-view-versus-a-copy\n",
            "  self._setitem_single_column(loc, value, pi)\n",
            "/usr/local/lib/python3.8/dist-packages/pandas/core/indexing.py:1817: SettingWithCopyWarning: \n",
            "A value is trying to be set on a copy of a slice from a DataFrame.\n",
            "Try using .loc[row_indexer,col_indexer] = value instead\n",
            "\n",
            "See the caveats in the documentation: https://pandas.pydata.org/pandas-docs/stable/user_guide/indexing.html#returning-a-view-versus-a-copy\n",
            "  self._setitem_single_column(loc, value, pi)\n",
            "/usr/local/lib/python3.8/dist-packages/pandas/core/indexing.py:1817: SettingWithCopyWarning: \n",
            "A value is trying to be set on a copy of a slice from a DataFrame.\n",
            "Try using .loc[row_indexer,col_indexer] = value instead\n",
            "\n",
            "See the caveats in the documentation: https://pandas.pydata.org/pandas-docs/stable/user_guide/indexing.html#returning-a-view-versus-a-copy\n",
            "  self._setitem_single_column(loc, value, pi)\n",
            "/usr/local/lib/python3.8/dist-packages/pandas/core/indexing.py:1817: SettingWithCopyWarning: \n",
            "A value is trying to be set on a copy of a slice from a DataFrame.\n",
            "Try using .loc[row_indexer,col_indexer] = value instead\n",
            "\n",
            "See the caveats in the documentation: https://pandas.pydata.org/pandas-docs/stable/user_guide/indexing.html#returning-a-view-versus-a-copy\n",
            "  self._setitem_single_column(loc, value, pi)\n",
            "/usr/local/lib/python3.8/dist-packages/pandas/core/indexing.py:1817: SettingWithCopyWarning: \n",
            "A value is trying to be set on a copy of a slice from a DataFrame.\n",
            "Try using .loc[row_indexer,col_indexer] = value instead\n",
            "\n",
            "See the caveats in the documentation: https://pandas.pydata.org/pandas-docs/stable/user_guide/indexing.html#returning-a-view-versus-a-copy\n",
            "  self._setitem_single_column(loc, value, pi)\n",
            "/usr/local/lib/python3.8/dist-packages/pandas/core/indexing.py:1817: SettingWithCopyWarning: \n",
            "A value is trying to be set on a copy of a slice from a DataFrame.\n",
            "Try using .loc[row_indexer,col_indexer] = value instead\n",
            "\n",
            "See the caveats in the documentation: https://pandas.pydata.org/pandas-docs/stable/user_guide/indexing.html#returning-a-view-versus-a-copy\n",
            "  self._setitem_single_column(loc, value, pi)\n"
          ]
        }
      ],
      "source": [
        "for t in data['income_type'].unique():\n",
        "    data.loc[(data['income_type'] == t) & (data['days_employed'].isna()), 'days_employed'] = \\\n",
        "    data.loc[(data['income_type'] == t), 'days_employed'].median()"
      ]
    },
    {
      "cell_type": "markdown",
      "id": "1a2fa514",
      "metadata": {
        "deletable": false,
        "editable": false,
        "id": "1a2fa514"
      },
      "source": [
        "**Задание 12. Убедитесь, что все пропуски заполнены. Проверьте себя и ещё раз выведите количество пропущенных значений для каждого столбца с помощью двух методов.**"
      ]
    },
    {
      "cell_type": "code",
      "execution_count": 43,
      "id": "3878eef8",
      "metadata": {
        "deletable": false,
        "id": "3878eef8",
        "outputId": "df5e4fa8-eedc-4e60-b83e-e70d2da2d084",
        "colab": {
          "base_uri": "https://localhost:8080/"
        }
      },
      "outputs": [
        {
          "output_type": "execute_result",
          "data": {
            "text/plain": [
              "children            0\n",
              "days_employed       0\n",
              "dob_years           0\n",
              "education           0\n",
              "education_id        0\n",
              "family_status       0\n",
              "family_status_id    0\n",
              "gender              0\n",
              "income_type         0\n",
              "debt                0\n",
              "total_income        0\n",
              "purpose             0\n",
              "dtype: int64"
            ]
          },
          "metadata": {},
          "execution_count": 43
        }
      ],
      "source": [
        "data.isna().sum()"
      ]
    },
    {
      "cell_type": "markdown",
      "id": "d3318c70",
      "metadata": {
        "deletable": false,
        "editable": false,
        "id": "d3318c70"
      },
      "source": [
        "### Изменение типов данных"
      ]
    },
    {
      "cell_type": "markdown",
      "id": "d8030a21",
      "metadata": {
        "deletable": false,
        "editable": false,
        "id": "d8030a21"
      },
      "source": [
        "**Задание 13. Замените вещественный тип данных в столбце `total_income` на целочисленный с помощью метода `astype()`.**"
      ]
    },
    {
      "cell_type": "code",
      "execution_count": 44,
      "id": "ad60e6fe",
      "metadata": {
        "deletable": false,
        "id": "ad60e6fe",
        "colab": {
          "base_uri": "https://localhost:8080/"
        },
        "outputId": "765dd0c4-26a7-4c04-85f8-9cb636f32689"
      },
      "outputs": [
        {
          "output_type": "stream",
          "name": "stderr",
          "text": [
            "<ipython-input-44-990472087ee4>:1: SettingWithCopyWarning: \n",
            "A value is trying to be set on a copy of a slice from a DataFrame.\n",
            "Try using .loc[row_indexer,col_indexer] = value instead\n",
            "\n",
            "See the caveats in the documentation: https://pandas.pydata.org/pandas-docs/stable/user_guide/indexing.html#returning-a-view-versus-a-copy\n",
            "  data['total_income'] = data['total_income'].astype(int)\n"
          ]
        }
      ],
      "source": [
        "data['total_income'] = data['total_income'].astype(int)"
      ]
    },
    {
      "cell_type": "markdown",
      "id": "1d7460d4",
      "metadata": {
        "deletable": false,
        "editable": false,
        "id": "1d7460d4"
      },
      "source": [
        "### Обработка дубликатов"
      ]
    },
    {
      "cell_type": "markdown",
      "id": "f8d6e301",
      "metadata": {
        "deletable": false,
        "editable": false,
        "id": "f8d6e301"
      },
      "source": [
        "**Задание 14. Обработайте неявные дубликаты в столбце `education`. В этом столбце есть одни и те же значения, но записанные по-разному: с использованием заглавных и строчных букв. Приведите их к нижнему регистру. Проверьте остальные столбцы.**"
      ]
    },
    {
      "cell_type": "code",
      "execution_count": 45,
      "id": "5b7a78a6",
      "metadata": {
        "deletable": false,
        "colab": {
          "base_uri": "https://localhost:8080/"
        },
        "id": "5b7a78a6",
        "outputId": "b7e6a2c5-0bb5-479d-d52d-58ff31f9b492"
      },
      "outputs": [
        {
          "output_type": "stream",
          "name": "stderr",
          "text": [
            "<ipython-input-45-d4b849f854d7>:1: SettingWithCopyWarning: \n",
            "A value is trying to be set on a copy of a slice from a DataFrame.\n",
            "Try using .loc[row_indexer,col_indexer] = value instead\n",
            "\n",
            "See the caveats in the documentation: https://pandas.pydata.org/pandas-docs/stable/user_guide/indexing.html#returning-a-view-versus-a-copy\n",
            "  data['education'] = data['education'].str.lower()\n"
          ]
        }
      ],
      "source": [
        "data['education'] = data['education'].str.lower()"
      ]
    },
    {
      "cell_type": "markdown",
      "id": "67677909",
      "metadata": {
        "deletable": false,
        "editable": false,
        "id": "67677909"
      },
      "source": [
        "**Задание 15. Выведите на экран количество строк-дубликатов в данных. Если такие строки присутствуют, удалите их.**"
      ]
    },
    {
      "cell_type": "code",
      "execution_count": 46,
      "id": "ab05c299",
      "metadata": {
        "deletable": false,
        "id": "ab05c299",
        "outputId": "f1b00c80-a87a-447a-a86a-4de73f135588",
        "colab": {
          "base_uri": "https://localhost:8080/"
        }
      },
      "outputs": [
        {
          "output_type": "execute_result",
          "data": {
            "text/plain": [
              "71"
            ]
          },
          "metadata": {},
          "execution_count": 46
        }
      ],
      "source": [
        "data.duplicated().sum()"
      ]
    },
    {
      "cell_type": "code",
      "execution_count": 47,
      "id": "d377df01",
      "metadata": {
        "deletable": false,
        "id": "d377df01"
      },
      "outputs": [],
      "source": [
        "data = data.drop_duplicates()"
      ]
    },
    {
      "cell_type": "markdown",
      "id": "a55f43b7",
      "metadata": {
        "deletable": false,
        "editable": false,
        "id": "a55f43b7"
      },
      "source": [
        "### Категоризация данных"
      ]
    },
    {
      "cell_type": "markdown",
      "id": "42c588c9",
      "metadata": {
        "deletable": false,
        "editable": false,
        "id": "42c588c9"
      },
      "source": [
        "**Задание 16. На основании диапазонов, указанных ниже, создайте в датафрейме `data` столбец `total_income_category` с категориями:**\n",
        "\n",
        "- 0–30000 — `'E'`;\n",
        "- 30001–50000 — `'D'`;\n",
        "- 50001–200000 — `'C'`;\n",
        "- 200001–1000000 — `'B'`;\n",
        "- 1000001 и выше — `'A'`.\n",
        "\n",
        "\n",
        "**Например, кредитополучателю с доходом 25000 нужно назначить категорию `'E'`, а клиенту, получающему 235000, — `'B'`. Используйте собственную функцию с именем `categorize_income()` и метод `apply()`.**"
      ]
    },
    {
      "cell_type": "code",
      "execution_count": 48,
      "id": "7698cd22",
      "metadata": {
        "deletable": false,
        "id": "7698cd22"
      },
      "outputs": [],
      "source": [
        "def categorize_income(income):\n",
        "    try:\n",
        "        if 0 <= income <= 30000:\n",
        "            return 'E'\n",
        "        elif 30001 <= income <= 50000:\n",
        "            return 'D'\n",
        "        elif 50001 <= income <= 200000:\n",
        "            return 'C'\n",
        "        elif 200001 <= income <= 1000000:\n",
        "            return 'B'\n",
        "        elif income >= 1000001:\n",
        "            return 'A'\n",
        "    except:\n",
        "        pass"
      ]
    },
    {
      "cell_type": "code",
      "execution_count": 49,
      "id": "3083cbc4",
      "metadata": {
        "deletable": false,
        "id": "3083cbc4",
        "colab": {
          "base_uri": "https://localhost:8080/"
        },
        "outputId": "1079d4b5-85bc-42ec-9bb6-c277b931105d"
      },
      "outputs": [
        {
          "output_type": "stream",
          "name": "stderr",
          "text": [
            "<ipython-input-49-0bc713f3049f>:1: SettingWithCopyWarning: \n",
            "A value is trying to be set on a copy of a slice from a DataFrame.\n",
            "Try using .loc[row_indexer,col_indexer] = value instead\n",
            "\n",
            "See the caveats in the documentation: https://pandas.pydata.org/pandas-docs/stable/user_guide/indexing.html#returning-a-view-versus-a-copy\n",
            "  data['total_income_category'] = data['total_income'].apply(categorize_income)\n"
          ]
        }
      ],
      "source": [
        "data['total_income_category'] = data['total_income'].apply(categorize_income)"
      ]
    },
    {
      "cell_type": "markdown",
      "id": "49412da9",
      "metadata": {
        "deletable": false,
        "editable": false,
        "id": "49412da9"
      },
      "source": [
        "**Задание 17. Выведите на экран перечень уникальных целей взятия кредита из столбца `purpose`.**"
      ]
    },
    {
      "cell_type": "code",
      "execution_count": 50,
      "id": "5f17e9b4",
      "metadata": {
        "deletable": false,
        "id": "5f17e9b4",
        "outputId": "da6823a3-e797-422e-e816-41d7626d5d9f",
        "colab": {
          "base_uri": "https://localhost:8080/"
        }
      },
      "outputs": [
        {
          "output_type": "execute_result",
          "data": {
            "text/plain": [
              "array(['покупка жилья', 'приобретение автомобиля',\n",
              "       'дополнительное образование', 'сыграть свадьбу',\n",
              "       'операции с жильем', 'образование', 'на проведение свадьбы',\n",
              "       'покупка жилья для семьи', 'покупка недвижимости',\n",
              "       'покупка коммерческой недвижимости', 'покупка жилой недвижимости',\n",
              "       'строительство собственной недвижимости', 'недвижимость',\n",
              "       'строительство недвижимости', 'на покупку подержанного автомобиля',\n",
              "       'на покупку своего автомобиля',\n",
              "       'операции с коммерческой недвижимостью',\n",
              "       'строительство жилой недвижимости', 'жилье',\n",
              "       'операции со своей недвижимостью', 'автомобили',\n",
              "       'заняться образованием', 'сделка с подержанным автомобилем',\n",
              "       'получение образования', 'автомобиль', 'свадьба',\n",
              "       'получение дополнительного образования', 'покупка своего жилья',\n",
              "       'операции с недвижимостью', 'получение высшего образования',\n",
              "       'свой автомобиль', 'сделка с автомобилем',\n",
              "       'профильное образование', 'высшее образование',\n",
              "       'покупка жилья для сдачи', 'на покупку автомобиля', 'ремонт жилью',\n",
              "       'заняться высшим образованием'], dtype=object)"
            ]
          },
          "metadata": {},
          "execution_count": 50
        }
      ],
      "source": [
        "data['purpose'].unique()"
      ]
    },
    {
      "cell_type": "markdown",
      "id": "ef3503fd",
      "metadata": {
        "deletable": false,
        "editable": false,
        "id": "ef3503fd"
      },
      "source": [
        "**Задание 18. Создайте функцию, которая на основании данных из столбца `purpose` сформирует новый столбец `purpose_category`, в который войдут следующие категории:**\n",
        "\n",
        "- `'операции с автомобилем'`,\n",
        "- `'операции с недвижимостью'`,\n",
        "- `'проведение свадьбы'`,\n",
        "- `'получение образования'`.\n",
        "\n",
        "**Например, если в столбце `purpose` находится подстрока `'на покупку автомобиля'`, то в столбце `purpose_category` должна появиться строка `'операции с автомобилем'`.**\n",
        "\n",
        "**Используйте собственную функцию с именем `categorize_purpose()` и метод `apply()`. Изучите данные в столбце `purpose` и определите, какие подстроки помогут вам правильно определить категорию.**"
      ]
    },
    {
      "cell_type": "code",
      "execution_count": 51,
      "id": "503c1bc9",
      "metadata": {
        "deletable": false,
        "id": "503c1bc9"
      },
      "outputs": [],
      "source": [
        "def categorize_purpose(row):\n",
        "    try:\n",
        "        if 'автом' in row:\n",
        "            return 'операции с автомобилем'\n",
        "        elif 'жил' in row or 'недвиж' in row:\n",
        "            return 'операции с недвижимостью'\n",
        "        elif 'свад' in row:\n",
        "            return 'проведение свадьбы'\n",
        "        elif 'образов' in row:\n",
        "            return 'получение образования'\n",
        "    except:\n",
        "        return 'нет категории'"
      ]
    },
    {
      "cell_type": "code",
      "execution_count": 52,
      "id": "dec0dacc",
      "metadata": {
        "deletable": false,
        "id": "dec0dacc",
        "colab": {
          "base_uri": "https://localhost:8080/"
        },
        "outputId": "00c8df89-4833-47b9-803b-bd53239107d7"
      },
      "outputs": [
        {
          "output_type": "stream",
          "name": "stderr",
          "text": [
            "<ipython-input-52-ecf9d79505dd>:1: SettingWithCopyWarning: \n",
            "A value is trying to be set on a copy of a slice from a DataFrame.\n",
            "Try using .loc[row_indexer,col_indexer] = value instead\n",
            "\n",
            "See the caveats in the documentation: https://pandas.pydata.org/pandas-docs/stable/user_guide/indexing.html#returning-a-view-versus-a-copy\n",
            "  data['purpose_category'] = data['purpose'].apply(categorize_purpose)\n"
          ]
        }
      ],
      "source": [
        "data['purpose_category'] = data['purpose'].apply(categorize_purpose)"
      ]
    },
    {
      "cell_type": "markdown",
      "id": "c3676f41",
      "metadata": {
        "deletable": false,
        "editable": false,
        "id": "c3676f41"
      },
      "source": [
        "### Шаг 3. Исследуйте данные и ответьте на вопросы"
      ]
    },
    {
      "cell_type": "markdown",
      "id": "dd0e870c",
      "metadata": {
        "deletable": false,
        "editable": false,
        "id": "dd0e870c"
      },
      "source": [
        "#### 3.1 Есть ли зависимость между количеством детей и возвратом кредита в срок?"
      ]
    },
    {
      "cell_type": "code",
      "execution_count": 53,
      "id": "e0618899",
      "metadata": {
        "deletable": false,
        "id": "e0618899",
        "colab": {
          "base_uri": "https://localhost:8080/",
          "height": 269
        },
        "outputId": "a9092a38-5be7-42f3-bf38-b5d1d433a9a5"
      },
      "outputs": [
        {
          "output_type": "execute_result",
          "data": {
            "text/plain": [
              "              debt  total_credit_recipient  total_debt\n",
              "children                                              \n",
              "5         0.000000                       9           0\n",
              "0         0.075438                   14091        1063\n",
              "3         0.081818                     330          27\n",
              "1         0.092346                    4808         444\n",
              "2         0.094542                    2052         194\n",
              "4         0.097561                      41           4"
            ],
            "text/html": [
              "\n",
              "  <div id=\"df-e29bb032-69b6-4d0e-b952-6a9a941b522e\">\n",
              "    <div class=\"colab-df-container\">\n",
              "      <div>\n",
              "<style scoped>\n",
              "    .dataframe tbody tr th:only-of-type {\n",
              "        vertical-align: middle;\n",
              "    }\n",
              "\n",
              "    .dataframe tbody tr th {\n",
              "        vertical-align: top;\n",
              "    }\n",
              "\n",
              "    .dataframe thead th {\n",
              "        text-align: right;\n",
              "    }\n",
              "</style>\n",
              "<table border=\"1\" class=\"dataframe\">\n",
              "  <thead>\n",
              "    <tr style=\"text-align: right;\">\n",
              "      <th></th>\n",
              "      <th>debt</th>\n",
              "      <th>total_credit_recipient</th>\n",
              "      <th>total_debt</th>\n",
              "    </tr>\n",
              "    <tr>\n",
              "      <th>children</th>\n",
              "      <th></th>\n",
              "      <th></th>\n",
              "      <th></th>\n",
              "    </tr>\n",
              "  </thead>\n",
              "  <tbody>\n",
              "    <tr>\n",
              "      <th>5</th>\n",
              "      <td>0.000000</td>\n",
              "      <td>9</td>\n",
              "      <td>0</td>\n",
              "    </tr>\n",
              "    <tr>\n",
              "      <th>0</th>\n",
              "      <td>0.075438</td>\n",
              "      <td>14091</td>\n",
              "      <td>1063</td>\n",
              "    </tr>\n",
              "    <tr>\n",
              "      <th>3</th>\n",
              "      <td>0.081818</td>\n",
              "      <td>330</td>\n",
              "      <td>27</td>\n",
              "    </tr>\n",
              "    <tr>\n",
              "      <th>1</th>\n",
              "      <td>0.092346</td>\n",
              "      <td>4808</td>\n",
              "      <td>444</td>\n",
              "    </tr>\n",
              "    <tr>\n",
              "      <th>2</th>\n",
              "      <td>0.094542</td>\n",
              "      <td>2052</td>\n",
              "      <td>194</td>\n",
              "    </tr>\n",
              "    <tr>\n",
              "      <th>4</th>\n",
              "      <td>0.097561</td>\n",
              "      <td>41</td>\n",
              "      <td>4</td>\n",
              "    </tr>\n",
              "  </tbody>\n",
              "</table>\n",
              "</div>\n",
              "      <button class=\"colab-df-convert\" onclick=\"convertToInteractive('df-e29bb032-69b6-4d0e-b952-6a9a941b522e')\"\n",
              "              title=\"Convert this dataframe to an interactive table.\"\n",
              "              style=\"display:none;\">\n",
              "        \n",
              "  <svg xmlns=\"http://www.w3.org/2000/svg\" height=\"24px\"viewBox=\"0 0 24 24\"\n",
              "       width=\"24px\">\n",
              "    <path d=\"M0 0h24v24H0V0z\" fill=\"none\"/>\n",
              "    <path d=\"M18.56 5.44l.94 2.06.94-2.06 2.06-.94-2.06-.94-.94-2.06-.94 2.06-2.06.94zm-11 1L8.5 8.5l.94-2.06 2.06-.94-2.06-.94L8.5 2.5l-.94 2.06-2.06.94zm10 10l.94 2.06.94-2.06 2.06-.94-2.06-.94-.94-2.06-.94 2.06-2.06.94z\"/><path d=\"M17.41 7.96l-1.37-1.37c-.4-.4-.92-.59-1.43-.59-.52 0-1.04.2-1.43.59L10.3 9.45l-7.72 7.72c-.78.78-.78 2.05 0 2.83L4 21.41c.39.39.9.59 1.41.59.51 0 1.02-.2 1.41-.59l7.78-7.78 2.81-2.81c.8-.78.8-2.07 0-2.86zM5.41 20L4 18.59l7.72-7.72 1.47 1.35L5.41 20z\"/>\n",
              "  </svg>\n",
              "      </button>\n",
              "      \n",
              "  <style>\n",
              "    .colab-df-container {\n",
              "      display:flex;\n",
              "      flex-wrap:wrap;\n",
              "      gap: 12px;\n",
              "    }\n",
              "\n",
              "    .colab-df-convert {\n",
              "      background-color: #E8F0FE;\n",
              "      border: none;\n",
              "      border-radius: 50%;\n",
              "      cursor: pointer;\n",
              "      display: none;\n",
              "      fill: #1967D2;\n",
              "      height: 32px;\n",
              "      padding: 0 0 0 0;\n",
              "      width: 32px;\n",
              "    }\n",
              "\n",
              "    .colab-df-convert:hover {\n",
              "      background-color: #E2EBFA;\n",
              "      box-shadow: 0px 1px 2px rgba(60, 64, 67, 0.3), 0px 1px 3px 1px rgba(60, 64, 67, 0.15);\n",
              "      fill: #174EA6;\n",
              "    }\n",
              "\n",
              "    [theme=dark] .colab-df-convert {\n",
              "      background-color: #3B4455;\n",
              "      fill: #D2E3FC;\n",
              "    }\n",
              "\n",
              "    [theme=dark] .colab-df-convert:hover {\n",
              "      background-color: #434B5C;\n",
              "      box-shadow: 0px 1px 3px 1px rgba(0, 0, 0, 0.15);\n",
              "      filter: drop-shadow(0px 1px 2px rgba(0, 0, 0, 0.3));\n",
              "      fill: #FFFFFF;\n",
              "    }\n",
              "  </style>\n",
              "\n",
              "      <script>\n",
              "        const buttonEl =\n",
              "          document.querySelector('#df-e29bb032-69b6-4d0e-b952-6a9a941b522e button.colab-df-convert');\n",
              "        buttonEl.style.display =\n",
              "          google.colab.kernel.accessAllowed ? 'block' : 'none';\n",
              "\n",
              "        async function convertToInteractive(key) {\n",
              "          const element = document.querySelector('#df-e29bb032-69b6-4d0e-b952-6a9a941b522e');\n",
              "          const dataTable =\n",
              "            await google.colab.kernel.invokeFunction('convertToInteractive',\n",
              "                                                     [key], {});\n",
              "          if (!dataTable) return;\n",
              "\n",
              "          const docLinkHtml = 'Like what you see? Visit the ' +\n",
              "            '<a target=\"_blank\" href=https://colab.research.google.com/notebooks/data_table.ipynb>data table notebook</a>'\n",
              "            + ' to learn more about interactive tables.';\n",
              "          element.innerHTML = '';\n",
              "          dataTable['output_type'] = 'display_data';\n",
              "          await google.colab.output.renderOutput(dataTable, element);\n",
              "          const docLink = document.createElement('div');\n",
              "          docLink.innerHTML = docLinkHtml;\n",
              "          element.appendChild(docLink);\n",
              "        }\n",
              "      </script>\n",
              "    </div>\n",
              "  </div>\n",
              "  "
            ]
          },
          "metadata": {},
          "execution_count": 53
        }
      ],
      "source": [
        "data_pivot_children = data.pivot_table(index=['children'], values='debt', aggfunc='mean') #формируем сводную таблицу\n",
        "data_pivot_children['total_credit_recipient'] = data.groupby('children')['debt'].count() #общее количество получателй кредита, отсортированные по количеству детей\n",
        "data_pivot_children['total_debt'] = data.groupby('children')['debt'].sum() #общее количество невозвратов кредитов, отсортированное по количеству детей\n",
        "data_pivot_children.sort_values(by='debt') #сортируем таблицу по столбцу 'debt'"
      ]
    },
    {
      "cell_type": "markdown",
      "id": "4bab95d4",
      "metadata": {
        "deletable": false,
        "id": "4bab95d4"
      },
      "source": [
        "**Вывод:** \n",
        "Самый большой процент невозврата кредита в срок у людей, у которых четверо детей.\n",
        "Самый маленький процент невозврата кредита в срок у людей, у которых нет детей.\n",
        "У людей, у которых 5 детей - процент невозврата кредита в срок отсутствует.\n",
        "Группы, у которых количество детей 4 и 5 значительно меньше остальных групп, что могло отразиться на результатах исследования.\n",
        "В целом, какой-то закономерности в том, что количество детей влияет на процент невозврата кредита, не наблюдается.\n"
      ]
    },
    {
      "cell_type": "markdown",
      "id": "dbf4cac3",
      "metadata": {
        "deletable": false,
        "editable": false,
        "id": "dbf4cac3"
      },
      "source": [
        "#### 3.2 Есть ли зависимость между семейным положением и возвратом кредита в срок?"
      ]
    },
    {
      "cell_type": "code",
      "execution_count": 54,
      "id": "95f72d77",
      "metadata": {
        "deletable": false,
        "id": "95f72d77",
        "colab": {
          "base_uri": "https://localhost:8080/",
          "height": 238
        },
        "outputId": "21bbc28f-771e-45b7-c93e-e7b2e2ae20d3"
      },
      "outputs": [
        {
          "output_type": "execute_result",
          "data": {
            "text/plain": [
              "                           debt  total_credit_recipient  total_debt\n",
              "family_status                                                      \n",
              "вдовец / вдова         0.066246                     951          63\n",
              "в разводе              0.070648                    1189          84\n",
              "женат / замужем        0.075606                   12261         927\n",
              "гражданский брак       0.093130                    4134         385\n",
              "Не женат / не замужем  0.097639                    2796         273"
            ],
            "text/html": [
              "\n",
              "  <div id=\"df-72e4153c-f229-483f-a180-b0db4c48b36d\">\n",
              "    <div class=\"colab-df-container\">\n",
              "      <div>\n",
              "<style scoped>\n",
              "    .dataframe tbody tr th:only-of-type {\n",
              "        vertical-align: middle;\n",
              "    }\n",
              "\n",
              "    .dataframe tbody tr th {\n",
              "        vertical-align: top;\n",
              "    }\n",
              "\n",
              "    .dataframe thead th {\n",
              "        text-align: right;\n",
              "    }\n",
              "</style>\n",
              "<table border=\"1\" class=\"dataframe\">\n",
              "  <thead>\n",
              "    <tr style=\"text-align: right;\">\n",
              "      <th></th>\n",
              "      <th>debt</th>\n",
              "      <th>total_credit_recipient</th>\n",
              "      <th>total_debt</th>\n",
              "    </tr>\n",
              "    <tr>\n",
              "      <th>family_status</th>\n",
              "      <th></th>\n",
              "      <th></th>\n",
              "      <th></th>\n",
              "    </tr>\n",
              "  </thead>\n",
              "  <tbody>\n",
              "    <tr>\n",
              "      <th>вдовец / вдова</th>\n",
              "      <td>0.066246</td>\n",
              "      <td>951</td>\n",
              "      <td>63</td>\n",
              "    </tr>\n",
              "    <tr>\n",
              "      <th>в разводе</th>\n",
              "      <td>0.070648</td>\n",
              "      <td>1189</td>\n",
              "      <td>84</td>\n",
              "    </tr>\n",
              "    <tr>\n",
              "      <th>женат / замужем</th>\n",
              "      <td>0.075606</td>\n",
              "      <td>12261</td>\n",
              "      <td>927</td>\n",
              "    </tr>\n",
              "    <tr>\n",
              "      <th>гражданский брак</th>\n",
              "      <td>0.093130</td>\n",
              "      <td>4134</td>\n",
              "      <td>385</td>\n",
              "    </tr>\n",
              "    <tr>\n",
              "      <th>Не женат / не замужем</th>\n",
              "      <td>0.097639</td>\n",
              "      <td>2796</td>\n",
              "      <td>273</td>\n",
              "    </tr>\n",
              "  </tbody>\n",
              "</table>\n",
              "</div>\n",
              "      <button class=\"colab-df-convert\" onclick=\"convertToInteractive('df-72e4153c-f229-483f-a180-b0db4c48b36d')\"\n",
              "              title=\"Convert this dataframe to an interactive table.\"\n",
              "              style=\"display:none;\">\n",
              "        \n",
              "  <svg xmlns=\"http://www.w3.org/2000/svg\" height=\"24px\"viewBox=\"0 0 24 24\"\n",
              "       width=\"24px\">\n",
              "    <path d=\"M0 0h24v24H0V0z\" fill=\"none\"/>\n",
              "    <path d=\"M18.56 5.44l.94 2.06.94-2.06 2.06-.94-2.06-.94-.94-2.06-.94 2.06-2.06.94zm-11 1L8.5 8.5l.94-2.06 2.06-.94-2.06-.94L8.5 2.5l-.94 2.06-2.06.94zm10 10l.94 2.06.94-2.06 2.06-.94-2.06-.94-.94-2.06-.94 2.06-2.06.94z\"/><path d=\"M17.41 7.96l-1.37-1.37c-.4-.4-.92-.59-1.43-.59-.52 0-1.04.2-1.43.59L10.3 9.45l-7.72 7.72c-.78.78-.78 2.05 0 2.83L4 21.41c.39.39.9.59 1.41.59.51 0 1.02-.2 1.41-.59l7.78-7.78 2.81-2.81c.8-.78.8-2.07 0-2.86zM5.41 20L4 18.59l7.72-7.72 1.47 1.35L5.41 20z\"/>\n",
              "  </svg>\n",
              "      </button>\n",
              "      \n",
              "  <style>\n",
              "    .colab-df-container {\n",
              "      display:flex;\n",
              "      flex-wrap:wrap;\n",
              "      gap: 12px;\n",
              "    }\n",
              "\n",
              "    .colab-df-convert {\n",
              "      background-color: #E8F0FE;\n",
              "      border: none;\n",
              "      border-radius: 50%;\n",
              "      cursor: pointer;\n",
              "      display: none;\n",
              "      fill: #1967D2;\n",
              "      height: 32px;\n",
              "      padding: 0 0 0 0;\n",
              "      width: 32px;\n",
              "    }\n",
              "\n",
              "    .colab-df-convert:hover {\n",
              "      background-color: #E2EBFA;\n",
              "      box-shadow: 0px 1px 2px rgba(60, 64, 67, 0.3), 0px 1px 3px 1px rgba(60, 64, 67, 0.15);\n",
              "      fill: #174EA6;\n",
              "    }\n",
              "\n",
              "    [theme=dark] .colab-df-convert {\n",
              "      background-color: #3B4455;\n",
              "      fill: #D2E3FC;\n",
              "    }\n",
              "\n",
              "    [theme=dark] .colab-df-convert:hover {\n",
              "      background-color: #434B5C;\n",
              "      box-shadow: 0px 1px 3px 1px rgba(0, 0, 0, 0.15);\n",
              "      filter: drop-shadow(0px 1px 2px rgba(0, 0, 0, 0.3));\n",
              "      fill: #FFFFFF;\n",
              "    }\n",
              "  </style>\n",
              "\n",
              "      <script>\n",
              "        const buttonEl =\n",
              "          document.querySelector('#df-72e4153c-f229-483f-a180-b0db4c48b36d button.colab-df-convert');\n",
              "        buttonEl.style.display =\n",
              "          google.colab.kernel.accessAllowed ? 'block' : 'none';\n",
              "\n",
              "        async function convertToInteractive(key) {\n",
              "          const element = document.querySelector('#df-72e4153c-f229-483f-a180-b0db4c48b36d');\n",
              "          const dataTable =\n",
              "            await google.colab.kernel.invokeFunction('convertToInteractive',\n",
              "                                                     [key], {});\n",
              "          if (!dataTable) return;\n",
              "\n",
              "          const docLinkHtml = 'Like what you see? Visit the ' +\n",
              "            '<a target=\"_blank\" href=https://colab.research.google.com/notebooks/data_table.ipynb>data table notebook</a>'\n",
              "            + ' to learn more about interactive tables.';\n",
              "          element.innerHTML = '';\n",
              "          dataTable['output_type'] = 'display_data';\n",
              "          await google.colab.output.renderOutput(dataTable, element);\n",
              "          const docLink = document.createElement('div');\n",
              "          docLink.innerHTML = docLinkHtml;\n",
              "          element.appendChild(docLink);\n",
              "        }\n",
              "      </script>\n",
              "    </div>\n",
              "  </div>\n",
              "  "
            ]
          },
          "metadata": {},
          "execution_count": 54
        }
      ],
      "source": [
        "data_pivot_family_status = data.pivot_table(index=['family_status'], values='debt', aggfunc='mean') #формируем сводную таблицу\n",
        "data_pivot_family_status['total_credit_recipient'] = data.groupby('family_status')['debt'].count() #общее количество получателй кредита, отсортированные по семейному положению\n",
        "data_pivot_family_status['total_debt'] = data.groupby('family_status')['debt'].sum() #общее количество невозвратов кредитов, отсортированное по семейному положению\n",
        "data_pivot_family_status.sort_values(by='debt') #сортируем таблицу по столбцу 'debt'"
      ]
    },
    {
      "cell_type": "markdown",
      "id": "f2338a65",
      "metadata": {
        "deletable": false,
        "id": "f2338a65"
      },
      "source": [
        "**Вывод:** \n",
        "Самый большой процент невозврата кредита в срок у людей с семейным положением \"Не женат / не замужем\". \n",
        "Самый маленький процент невозврата кредита в срок у людей с семейным положением \"вдовец / вдова\". При этом количество получателей кредита с семейным положением \"вдовец / вдова\" меньше всего, что может отражаться на результатах анализа."
      ]
    },
    {
      "cell_type": "markdown",
      "id": "7ac588c7",
      "metadata": {
        "deletable": false,
        "editable": false,
        "id": "7ac588c7"
      },
      "source": [
        "#### 3.3 Есть ли зависимость между уровнем дохода и возвратом кредита в срок?"
      ]
    },
    {
      "cell_type": "code",
      "execution_count": 55,
      "id": "9201e6d1",
      "metadata": {
        "deletable": false,
        "id": "9201e6d1",
        "colab": {
          "base_uri": "https://localhost:8080/",
          "height": 238
        },
        "outputId": "c77529bb-42e7-46fc-828f-ce88c56b838b"
      },
      "outputs": [
        {
          "output_type": "execute_result",
          "data": {
            "text/plain": [
              "                           debt  total_credit_recipient  total_debt\n",
              "total_income_category                                              \n",
              "D                      0.060172                     349          21\n",
              "B                      0.070602                    5014         354\n",
              "A                      0.080000                      25           2\n",
              "C                      0.084982                   15921        1353\n",
              "E                      0.090909                      22           2"
            ],
            "text/html": [
              "\n",
              "  <div id=\"df-8c4f5ed8-92c3-415a-a0fb-0d85481d29e9\">\n",
              "    <div class=\"colab-df-container\">\n",
              "      <div>\n",
              "<style scoped>\n",
              "    .dataframe tbody tr th:only-of-type {\n",
              "        vertical-align: middle;\n",
              "    }\n",
              "\n",
              "    .dataframe tbody tr th {\n",
              "        vertical-align: top;\n",
              "    }\n",
              "\n",
              "    .dataframe thead th {\n",
              "        text-align: right;\n",
              "    }\n",
              "</style>\n",
              "<table border=\"1\" class=\"dataframe\">\n",
              "  <thead>\n",
              "    <tr style=\"text-align: right;\">\n",
              "      <th></th>\n",
              "      <th>debt</th>\n",
              "      <th>total_credit_recipient</th>\n",
              "      <th>total_debt</th>\n",
              "    </tr>\n",
              "    <tr>\n",
              "      <th>total_income_category</th>\n",
              "      <th></th>\n",
              "      <th></th>\n",
              "      <th></th>\n",
              "    </tr>\n",
              "  </thead>\n",
              "  <tbody>\n",
              "    <tr>\n",
              "      <th>D</th>\n",
              "      <td>0.060172</td>\n",
              "      <td>349</td>\n",
              "      <td>21</td>\n",
              "    </tr>\n",
              "    <tr>\n",
              "      <th>B</th>\n",
              "      <td>0.070602</td>\n",
              "      <td>5014</td>\n",
              "      <td>354</td>\n",
              "    </tr>\n",
              "    <tr>\n",
              "      <th>A</th>\n",
              "      <td>0.080000</td>\n",
              "      <td>25</td>\n",
              "      <td>2</td>\n",
              "    </tr>\n",
              "    <tr>\n",
              "      <th>C</th>\n",
              "      <td>0.084982</td>\n",
              "      <td>15921</td>\n",
              "      <td>1353</td>\n",
              "    </tr>\n",
              "    <tr>\n",
              "      <th>E</th>\n",
              "      <td>0.090909</td>\n",
              "      <td>22</td>\n",
              "      <td>2</td>\n",
              "    </tr>\n",
              "  </tbody>\n",
              "</table>\n",
              "</div>\n",
              "      <button class=\"colab-df-convert\" onclick=\"convertToInteractive('df-8c4f5ed8-92c3-415a-a0fb-0d85481d29e9')\"\n",
              "              title=\"Convert this dataframe to an interactive table.\"\n",
              "              style=\"display:none;\">\n",
              "        \n",
              "  <svg xmlns=\"http://www.w3.org/2000/svg\" height=\"24px\"viewBox=\"0 0 24 24\"\n",
              "       width=\"24px\">\n",
              "    <path d=\"M0 0h24v24H0V0z\" fill=\"none\"/>\n",
              "    <path d=\"M18.56 5.44l.94 2.06.94-2.06 2.06-.94-2.06-.94-.94-2.06-.94 2.06-2.06.94zm-11 1L8.5 8.5l.94-2.06 2.06-.94-2.06-.94L8.5 2.5l-.94 2.06-2.06.94zm10 10l.94 2.06.94-2.06 2.06-.94-2.06-.94-.94-2.06-.94 2.06-2.06.94z\"/><path d=\"M17.41 7.96l-1.37-1.37c-.4-.4-.92-.59-1.43-.59-.52 0-1.04.2-1.43.59L10.3 9.45l-7.72 7.72c-.78.78-.78 2.05 0 2.83L4 21.41c.39.39.9.59 1.41.59.51 0 1.02-.2 1.41-.59l7.78-7.78 2.81-2.81c.8-.78.8-2.07 0-2.86zM5.41 20L4 18.59l7.72-7.72 1.47 1.35L5.41 20z\"/>\n",
              "  </svg>\n",
              "      </button>\n",
              "      \n",
              "  <style>\n",
              "    .colab-df-container {\n",
              "      display:flex;\n",
              "      flex-wrap:wrap;\n",
              "      gap: 12px;\n",
              "    }\n",
              "\n",
              "    .colab-df-convert {\n",
              "      background-color: #E8F0FE;\n",
              "      border: none;\n",
              "      border-radius: 50%;\n",
              "      cursor: pointer;\n",
              "      display: none;\n",
              "      fill: #1967D2;\n",
              "      height: 32px;\n",
              "      padding: 0 0 0 0;\n",
              "      width: 32px;\n",
              "    }\n",
              "\n",
              "    .colab-df-convert:hover {\n",
              "      background-color: #E2EBFA;\n",
              "      box-shadow: 0px 1px 2px rgba(60, 64, 67, 0.3), 0px 1px 3px 1px rgba(60, 64, 67, 0.15);\n",
              "      fill: #174EA6;\n",
              "    }\n",
              "\n",
              "    [theme=dark] .colab-df-convert {\n",
              "      background-color: #3B4455;\n",
              "      fill: #D2E3FC;\n",
              "    }\n",
              "\n",
              "    [theme=dark] .colab-df-convert:hover {\n",
              "      background-color: #434B5C;\n",
              "      box-shadow: 0px 1px 3px 1px rgba(0, 0, 0, 0.15);\n",
              "      filter: drop-shadow(0px 1px 2px rgba(0, 0, 0, 0.3));\n",
              "      fill: #FFFFFF;\n",
              "    }\n",
              "  </style>\n",
              "\n",
              "      <script>\n",
              "        const buttonEl =\n",
              "          document.querySelector('#df-8c4f5ed8-92c3-415a-a0fb-0d85481d29e9 button.colab-df-convert');\n",
              "        buttonEl.style.display =\n",
              "          google.colab.kernel.accessAllowed ? 'block' : 'none';\n",
              "\n",
              "        async function convertToInteractive(key) {\n",
              "          const element = document.querySelector('#df-8c4f5ed8-92c3-415a-a0fb-0d85481d29e9');\n",
              "          const dataTable =\n",
              "            await google.colab.kernel.invokeFunction('convertToInteractive',\n",
              "                                                     [key], {});\n",
              "          if (!dataTable) return;\n",
              "\n",
              "          const docLinkHtml = 'Like what you see? Visit the ' +\n",
              "            '<a target=\"_blank\" href=https://colab.research.google.com/notebooks/data_table.ipynb>data table notebook</a>'\n",
              "            + ' to learn more about interactive tables.';\n",
              "          element.innerHTML = '';\n",
              "          dataTable['output_type'] = 'display_data';\n",
              "          await google.colab.output.renderOutput(dataTable, element);\n",
              "          const docLink = document.createElement('div');\n",
              "          docLink.innerHTML = docLinkHtml;\n",
              "          element.appendChild(docLink);\n",
              "        }\n",
              "      </script>\n",
              "    </div>\n",
              "  </div>\n",
              "  "
            ]
          },
          "metadata": {},
          "execution_count": 55
        }
      ],
      "source": [
        "data_pivot_total_income_category = data.pivot_table(index=['total_income_category'], values='debt', aggfunc='mean') #формируем сводную таблицу\n",
        "data_pivot_total_income_category['total_credit_recipient'] = data.groupby('total_income_category')['debt'].count() #общее количество получателй кредита, отсортированные по уровню дохода\n",
        "data_pivot_total_income_category['total_debt'] = data.groupby('total_income_category')['debt'].sum() #общее количество невозвратов кредитов, отсортированное по уровню дохода\n",
        "data_pivot_total_income_category.sort_values(by='debt') #сортируем таблицу по столбцу 'debt'"
      ]
    },
    {
      "cell_type": "markdown",
      "id": "2f867e10",
      "metadata": {
        "deletable": false,
        "id": "2f867e10"
      },
      "source": [
        "**Вывод:** \n",
        "Люди с наименьшим уровнем дохода имеют самый большой процент невозврата кредита в срок.\n",
        "Хотя люди с доходом, чуть выше наименьшего дохода наоборот, имеют самый маленький процент невозврата кредита в срок.\n",
        "Людей с наименьшим и наибольшим уровнем дохода значительно меньше, чем людей в других группах, что могла отазиться на результатах исследования.\n",
        "В целом, прямой зависимости процента возврата кредита в срок от уровня дохода не наблюдается."
      ]
    },
    {
      "cell_type": "markdown",
      "id": "6b6e167d",
      "metadata": {
        "deletable": false,
        "editable": false,
        "id": "6b6e167d"
      },
      "source": [
        "#### 3.4 Как разные цели кредита влияют на его возврат в срок?"
      ]
    },
    {
      "cell_type": "code",
      "execution_count": 56,
      "id": "2abf3ef8",
      "metadata": {
        "deletable": false,
        "id": "2abf3ef8",
        "colab": {
          "base_uri": "https://localhost:8080/",
          "height": 206
        },
        "outputId": "9a177779-38b4-4ab3-ccf1-c6075ce43a3a"
      },
      "outputs": [
        {
          "output_type": "execute_result",
          "data": {
            "text/plain": [
              "                              debt  total_credit_recipient  total_debt\n",
              "purpose_category                                                      \n",
              "операции с недвижимостью  0.072551                   10751         780\n",
              "проведение свадьбы        0.079118                    2313         183\n",
              "получение образования     0.092528                    3988         369\n",
              "операции с автомобилем    0.093480                    4279         400"
            ],
            "text/html": [
              "\n",
              "  <div id=\"df-cb3a37d0-ffe6-454d-89c1-e94218da5c40\">\n",
              "    <div class=\"colab-df-container\">\n",
              "      <div>\n",
              "<style scoped>\n",
              "    .dataframe tbody tr th:only-of-type {\n",
              "        vertical-align: middle;\n",
              "    }\n",
              "\n",
              "    .dataframe tbody tr th {\n",
              "        vertical-align: top;\n",
              "    }\n",
              "\n",
              "    .dataframe thead th {\n",
              "        text-align: right;\n",
              "    }\n",
              "</style>\n",
              "<table border=\"1\" class=\"dataframe\">\n",
              "  <thead>\n",
              "    <tr style=\"text-align: right;\">\n",
              "      <th></th>\n",
              "      <th>debt</th>\n",
              "      <th>total_credit_recipient</th>\n",
              "      <th>total_debt</th>\n",
              "    </tr>\n",
              "    <tr>\n",
              "      <th>purpose_category</th>\n",
              "      <th></th>\n",
              "      <th></th>\n",
              "      <th></th>\n",
              "    </tr>\n",
              "  </thead>\n",
              "  <tbody>\n",
              "    <tr>\n",
              "      <th>операции с недвижимостью</th>\n",
              "      <td>0.072551</td>\n",
              "      <td>10751</td>\n",
              "      <td>780</td>\n",
              "    </tr>\n",
              "    <tr>\n",
              "      <th>проведение свадьбы</th>\n",
              "      <td>0.079118</td>\n",
              "      <td>2313</td>\n",
              "      <td>183</td>\n",
              "    </tr>\n",
              "    <tr>\n",
              "      <th>получение образования</th>\n",
              "      <td>0.092528</td>\n",
              "      <td>3988</td>\n",
              "      <td>369</td>\n",
              "    </tr>\n",
              "    <tr>\n",
              "      <th>операции с автомобилем</th>\n",
              "      <td>0.093480</td>\n",
              "      <td>4279</td>\n",
              "      <td>400</td>\n",
              "    </tr>\n",
              "  </tbody>\n",
              "</table>\n",
              "</div>\n",
              "      <button class=\"colab-df-convert\" onclick=\"convertToInteractive('df-cb3a37d0-ffe6-454d-89c1-e94218da5c40')\"\n",
              "              title=\"Convert this dataframe to an interactive table.\"\n",
              "              style=\"display:none;\">\n",
              "        \n",
              "  <svg xmlns=\"http://www.w3.org/2000/svg\" height=\"24px\"viewBox=\"0 0 24 24\"\n",
              "       width=\"24px\">\n",
              "    <path d=\"M0 0h24v24H0V0z\" fill=\"none\"/>\n",
              "    <path d=\"M18.56 5.44l.94 2.06.94-2.06 2.06-.94-2.06-.94-.94-2.06-.94 2.06-2.06.94zm-11 1L8.5 8.5l.94-2.06 2.06-.94-2.06-.94L8.5 2.5l-.94 2.06-2.06.94zm10 10l.94 2.06.94-2.06 2.06-.94-2.06-.94-.94-2.06-.94 2.06-2.06.94z\"/><path d=\"M17.41 7.96l-1.37-1.37c-.4-.4-.92-.59-1.43-.59-.52 0-1.04.2-1.43.59L10.3 9.45l-7.72 7.72c-.78.78-.78 2.05 0 2.83L4 21.41c.39.39.9.59 1.41.59.51 0 1.02-.2 1.41-.59l7.78-7.78 2.81-2.81c.8-.78.8-2.07 0-2.86zM5.41 20L4 18.59l7.72-7.72 1.47 1.35L5.41 20z\"/>\n",
              "  </svg>\n",
              "      </button>\n",
              "      \n",
              "  <style>\n",
              "    .colab-df-container {\n",
              "      display:flex;\n",
              "      flex-wrap:wrap;\n",
              "      gap: 12px;\n",
              "    }\n",
              "\n",
              "    .colab-df-convert {\n",
              "      background-color: #E8F0FE;\n",
              "      border: none;\n",
              "      border-radius: 50%;\n",
              "      cursor: pointer;\n",
              "      display: none;\n",
              "      fill: #1967D2;\n",
              "      height: 32px;\n",
              "      padding: 0 0 0 0;\n",
              "      width: 32px;\n",
              "    }\n",
              "\n",
              "    .colab-df-convert:hover {\n",
              "      background-color: #E2EBFA;\n",
              "      box-shadow: 0px 1px 2px rgba(60, 64, 67, 0.3), 0px 1px 3px 1px rgba(60, 64, 67, 0.15);\n",
              "      fill: #174EA6;\n",
              "    }\n",
              "\n",
              "    [theme=dark] .colab-df-convert {\n",
              "      background-color: #3B4455;\n",
              "      fill: #D2E3FC;\n",
              "    }\n",
              "\n",
              "    [theme=dark] .colab-df-convert:hover {\n",
              "      background-color: #434B5C;\n",
              "      box-shadow: 0px 1px 3px 1px rgba(0, 0, 0, 0.15);\n",
              "      filter: drop-shadow(0px 1px 2px rgba(0, 0, 0, 0.3));\n",
              "      fill: #FFFFFF;\n",
              "    }\n",
              "  </style>\n",
              "\n",
              "      <script>\n",
              "        const buttonEl =\n",
              "          document.querySelector('#df-cb3a37d0-ffe6-454d-89c1-e94218da5c40 button.colab-df-convert');\n",
              "        buttonEl.style.display =\n",
              "          google.colab.kernel.accessAllowed ? 'block' : 'none';\n",
              "\n",
              "        async function convertToInteractive(key) {\n",
              "          const element = document.querySelector('#df-cb3a37d0-ffe6-454d-89c1-e94218da5c40');\n",
              "          const dataTable =\n",
              "            await google.colab.kernel.invokeFunction('convertToInteractive',\n",
              "                                                     [key], {});\n",
              "          if (!dataTable) return;\n",
              "\n",
              "          const docLinkHtml = 'Like what you see? Visit the ' +\n",
              "            '<a target=\"_blank\" href=https://colab.research.google.com/notebooks/data_table.ipynb>data table notebook</a>'\n",
              "            + ' to learn more about interactive tables.';\n",
              "          element.innerHTML = '';\n",
              "          dataTable['output_type'] = 'display_data';\n",
              "          await google.colab.output.renderOutput(dataTable, element);\n",
              "          const docLink = document.createElement('div');\n",
              "          docLink.innerHTML = docLinkHtml;\n",
              "          element.appendChild(docLink);\n",
              "        }\n",
              "      </script>\n",
              "    </div>\n",
              "  </div>\n",
              "  "
            ]
          },
          "metadata": {},
          "execution_count": 56
        }
      ],
      "source": [
        "data_pivot_purpose_category = data.pivot_table(index=['purpose_category'], values='debt', aggfunc='mean') #формируем сводную таблицу\n",
        "data_pivot_purpose_category['total_credit_recipient'] = data.groupby('purpose_category')['debt'].count() #общее количество получателй кредита, отсортированные по цели кредита\n",
        "data_pivot_purpose_category['total_debt'] = data.groupby('purpose_category')['debt'].sum() #общее количество невозвратов кредитов, отсортированное по цели кредита\n",
        "data_pivot_purpose_category.sort_values(by='debt') #сортируем таблицу по столбцу 'debt'"
      ]
    },
    {
      "cell_type": "markdown",
      "id": "17903a88",
      "metadata": {
        "deletable": false,
        "id": "17903a88"
      },
      "source": [
        "**Вывод:** \n",
        "Люди, которые берут кредит на операции с недвижимостью, имеют самый маленький процент невозврата кредита в срок (при этом это самая большая группа людей).\n",
        "Люди, которые берут кредит на операции с автомобилем, имеют самый большой процент невозврата кредита в срок."
      ]
    },
    {
      "cell_type": "markdown",
      "id": "3e3150bc",
      "metadata": {
        "deletable": false,
        "editable": false,
        "id": "3e3150bc"
      },
      "source": [
        "#### 3.5 Приведите возможные причины появления пропусков в исходных данных."
      ]
    },
    {
      "cell_type": "markdown",
      "id": "09e2cb5a",
      "metadata": {
        "deletable": false,
        "id": "09e2cb5a"
      },
      "source": [
        "*Ответ:* \n",
        "Пользователь не захотел указаывать какие-нибудь данные о себе при заполнении тех или иных форм (например, при регистрации на сайте). Также пропуски могли появиться из-за технических проблем."
      ]
    },
    {
      "cell_type": "markdown",
      "id": "af25e2c4",
      "metadata": {
        "deletable": false,
        "editable": false,
        "id": "af25e2c4"
      },
      "source": [
        "#### 3.6 Объясните, почему заполнить пропуски медианным значением — лучшее решение для количественных переменных."
      ]
    },
    {
      "cell_type": "markdown",
      "id": "f9f6fa4b",
      "metadata": {
        "deletable": false,
        "id": "f9f6fa4b"
      },
      "source": [
        "*Ответ:* \n",
        "Среднее значение некорректно характеризует данные, когда некоторые значения сильно выделяются среди большинства.\n",
        "Медианное значение делит выборку пополам: в одной половине значения меньше медианного, в другой — больше. Само медианное значение находится посередине между этими половинами и лучше отражает реальную картину данных, является более объективным, чем среднее значение."
      ]
    },
    {
      "cell_type": "markdown",
      "id": "1a76118a",
      "metadata": {
        "deletable": false,
        "editable": false,
        "id": "1a76118a"
      },
      "source": [
        "### Шаг 4: общий вывод."
      ]
    },
    {
      "cell_type": "markdown",
      "id": "20316517",
      "metadata": {
        "deletable": false,
        "id": "20316517"
      },
      "source": [
        "На основании данного исследоввания можно выявить некоторые признаки надёжного заёмщика:\n",
        "1. количество детей - дети отсутствуют;\n",
        "2. семейное положение - \"вдовец / вдова\";\n",
        "3. уровень дохода - чуть выше минимального.\n",
        "Но стоит критически относится к данным выводам, так как прямых зависимостей по данным критериям не выявлено. "
      ]
    }
  ],
  "metadata": {
    "ExecuteTimeLog": [
      {
        "duration": 363,
        "start_time": "2022-09-12T18:24:52.766Z"
      },
      {
        "duration": 44,
        "start_time": "2022-09-12T18:25:02.069Z"
      },
      {
        "duration": 432,
        "start_time": "2022-09-12T18:25:30.471Z"
      },
      {
        "duration": 24,
        "start_time": "2022-09-12T18:25:30.905Z"
      },
      {
        "duration": 27,
        "start_time": "2022-09-12T18:25:30.930Z"
      },
      {
        "duration": 25,
        "start_time": "2022-09-12T18:25:30.960Z"
      },
      {
        "duration": 56,
        "start_time": "2022-09-12T18:25:30.987Z"
      },
      {
        "duration": 13,
        "start_time": "2022-09-12T18:25:31.045Z"
      },
      {
        "duration": 45,
        "start_time": "2022-09-12T18:25:31.060Z"
      },
      {
        "duration": 27,
        "start_time": "2022-09-12T18:25:31.107Z"
      },
      {
        "duration": 40,
        "start_time": "2022-09-12T18:25:31.138Z"
      },
      {
        "duration": 31,
        "start_time": "2022-09-12T18:25:31.181Z"
      },
      {
        "duration": 62,
        "start_time": "2022-09-12T18:25:31.213Z"
      },
      {
        "duration": 40,
        "start_time": "2022-09-12T18:25:31.277Z"
      },
      {
        "duration": 20,
        "start_time": "2022-09-12T18:25:31.319Z"
      },
      {
        "duration": 22,
        "start_time": "2022-09-12T18:25:31.341Z"
      },
      {
        "duration": 43,
        "start_time": "2022-09-12T18:25:31.365Z"
      },
      {
        "duration": 18,
        "start_time": "2022-09-12T18:25:31.410Z"
      },
      {
        "duration": 14,
        "start_time": "2022-09-12T18:25:31.430Z"
      },
      {
        "duration": 29,
        "start_time": "2022-09-12T18:25:31.445Z"
      },
      {
        "duration": 35,
        "start_time": "2022-09-12T18:25:31.476Z"
      },
      {
        "duration": 32,
        "start_time": "2022-09-12T18:25:31.513Z"
      },
      {
        "duration": 26,
        "start_time": "2022-09-12T18:25:31.547Z"
      },
      {
        "duration": 41,
        "start_time": "2022-09-12T18:25:31.575Z"
      },
      {
        "duration": 590,
        "start_time": "2022-09-12T18:25:31.619Z"
      },
      {
        "duration": 0,
        "start_time": "2022-09-12T18:25:32.211Z"
      },
      {
        "duration": 0,
        "start_time": "2022-09-12T18:25:32.213Z"
      },
      {
        "duration": 6,
        "start_time": "2022-09-12T18:32:34.536Z"
      },
      {
        "duration": 6,
        "start_time": "2022-09-12T18:32:39.356Z"
      },
      {
        "duration": 66,
        "start_time": "2022-09-12T18:34:34.677Z"
      },
      {
        "duration": 59,
        "start_time": "2022-09-12T18:41:12.136Z"
      },
      {
        "duration": 50,
        "start_time": "2022-09-12T18:41:29.426Z"
      },
      {
        "duration": 8,
        "start_time": "2022-09-12T18:44:34.549Z"
      },
      {
        "duration": 6,
        "start_time": "2022-09-12T18:44:57.218Z"
      },
      {
        "duration": 7,
        "start_time": "2022-09-12T18:45:20.431Z"
      },
      {
        "duration": 6,
        "start_time": "2022-09-12T18:46:22.373Z"
      },
      {
        "duration": 6,
        "start_time": "2022-09-12T18:46:30.650Z"
      },
      {
        "duration": 6,
        "start_time": "2022-09-12T18:47:03.329Z"
      },
      {
        "duration": 6,
        "start_time": "2022-09-12T18:47:18.250Z"
      },
      {
        "duration": 6,
        "start_time": "2022-09-12T18:47:23.535Z"
      },
      {
        "duration": 7,
        "start_time": "2022-09-12T18:47:25.035Z"
      },
      {
        "duration": 6,
        "start_time": "2022-09-12T18:48:04.135Z"
      },
      {
        "duration": 13,
        "start_time": "2022-09-12T18:48:26.667Z"
      },
      {
        "duration": 11,
        "start_time": "2022-09-12T18:48:33.888Z"
      },
      {
        "duration": 11,
        "start_time": "2022-09-12T18:48:34.542Z"
      },
      {
        "duration": 6,
        "start_time": "2022-09-12T18:48:44.161Z"
      },
      {
        "duration": 7,
        "start_time": "2022-09-12T18:48:53.948Z"
      },
      {
        "duration": 7,
        "start_time": "2022-09-12T18:49:09.595Z"
      },
      {
        "duration": 6,
        "start_time": "2022-09-12T18:49:27.793Z"
      },
      {
        "duration": 6,
        "start_time": "2022-09-12T18:51:05.704Z"
      },
      {
        "duration": 8,
        "start_time": "2022-09-12T18:52:50.704Z"
      },
      {
        "duration": 12,
        "start_time": "2022-09-12T18:53:07.566Z"
      },
      {
        "duration": 8,
        "start_time": "2022-09-12T18:53:16.799Z"
      },
      {
        "duration": 17,
        "start_time": "2022-09-12T18:53:42.732Z"
      },
      {
        "duration": 8,
        "start_time": "2022-09-12T18:55:10.301Z"
      },
      {
        "duration": 4,
        "start_time": "2022-09-12T18:56:16.273Z"
      },
      {
        "duration": 8,
        "start_time": "2022-09-12T18:56:27.956Z"
      },
      {
        "duration": 10,
        "start_time": "2022-09-12T18:57:27.381Z"
      },
      {
        "duration": 8,
        "start_time": "2022-09-12T19:42:08.882Z"
      },
      {
        "duration": 7,
        "start_time": "2022-09-12T19:43:50.251Z"
      },
      {
        "duration": 7,
        "start_time": "2022-09-12T19:43:56.046Z"
      },
      {
        "duration": 4,
        "start_time": "2022-09-12T19:44:26.757Z"
      },
      {
        "duration": 3,
        "start_time": "2022-09-12T19:44:28.358Z"
      },
      {
        "duration": 507,
        "start_time": "2022-09-12T19:45:00.504Z"
      },
      {
        "duration": 25,
        "start_time": "2022-09-12T19:45:01.013Z"
      },
      {
        "duration": 16,
        "start_time": "2022-09-12T19:45:01.040Z"
      },
      {
        "duration": 11,
        "start_time": "2022-09-12T19:45:01.060Z"
      },
      {
        "duration": 84,
        "start_time": "2022-09-12T19:45:01.073Z"
      },
      {
        "duration": 5,
        "start_time": "2022-09-12T19:45:01.160Z"
      },
      {
        "duration": 48,
        "start_time": "2022-09-12T19:45:01.168Z"
      },
      {
        "duration": 11,
        "start_time": "2022-09-12T19:45:01.218Z"
      },
      {
        "duration": 19,
        "start_time": "2022-09-12T19:45:01.232Z"
      },
      {
        "duration": 8,
        "start_time": "2022-09-12T19:45:01.255Z"
      },
      {
        "duration": 59,
        "start_time": "2022-09-12T19:45:01.264Z"
      },
      {
        "duration": 11,
        "start_time": "2022-09-12T19:45:01.325Z"
      },
      {
        "duration": 11,
        "start_time": "2022-09-12T19:45:01.338Z"
      },
      {
        "duration": 28,
        "start_time": "2022-09-12T19:45:01.351Z"
      },
      {
        "duration": 44,
        "start_time": "2022-09-12T19:45:01.381Z"
      },
      {
        "duration": 21,
        "start_time": "2022-09-12T19:45:01.427Z"
      },
      {
        "duration": 5,
        "start_time": "2022-09-12T19:45:01.449Z"
      },
      {
        "duration": 25,
        "start_time": "2022-09-12T19:45:01.456Z"
      },
      {
        "duration": 33,
        "start_time": "2022-09-12T19:45:01.483Z"
      },
      {
        "duration": 7,
        "start_time": "2022-09-12T19:45:01.518Z"
      },
      {
        "duration": 28,
        "start_time": "2022-09-12T19:45:01.527Z"
      },
      {
        "duration": 27,
        "start_time": "2022-09-12T19:45:01.557Z"
      },
      {
        "duration": 14,
        "start_time": "2022-09-12T19:45:01.586Z"
      },
      {
        "duration": 23,
        "start_time": "2022-09-12T19:45:01.601Z"
      },
      {
        "duration": 30,
        "start_time": "2022-09-12T19:45:01.626Z"
      },
      {
        "duration": 4,
        "start_time": "2022-09-12T19:45:07.153Z"
      },
      {
        "duration": 4,
        "start_time": "2022-09-12T19:45:08.013Z"
      },
      {
        "duration": 8,
        "start_time": "2022-09-12T19:45:42.341Z"
      },
      {
        "duration": 13,
        "start_time": "2022-09-12T19:49:43.401Z"
      },
      {
        "duration": 9,
        "start_time": "2022-09-12T19:51:02.667Z"
      },
      {
        "duration": 9,
        "start_time": "2022-09-12T19:58:25.685Z"
      },
      {
        "duration": 9,
        "start_time": "2022-09-12T19:58:39.107Z"
      },
      {
        "duration": 32,
        "start_time": "2022-09-12T20:08:10.949Z"
      },
      {
        "duration": 7,
        "start_time": "2022-09-12T20:08:58.414Z"
      },
      {
        "duration": 473,
        "start_time": "2022-09-13T06:45:55.634Z"
      },
      {
        "duration": 29,
        "start_time": "2022-09-13T06:45:56.108Z"
      },
      {
        "duration": 15,
        "start_time": "2022-09-13T06:45:56.139Z"
      },
      {
        "duration": 10,
        "start_time": "2022-09-13T06:45:56.156Z"
      },
      {
        "duration": 32,
        "start_time": "2022-09-13T06:45:56.168Z"
      },
      {
        "duration": 26,
        "start_time": "2022-09-13T06:45:56.201Z"
      },
      {
        "duration": 15,
        "start_time": "2022-09-13T06:45:56.229Z"
      },
      {
        "duration": 3,
        "start_time": "2022-09-13T06:45:56.246Z"
      },
      {
        "duration": 8,
        "start_time": "2022-09-13T06:45:56.251Z"
      },
      {
        "duration": 4,
        "start_time": "2022-09-13T06:45:56.260Z"
      },
      {
        "duration": 33,
        "start_time": "2022-09-13T06:45:56.266Z"
      },
      {
        "duration": 35,
        "start_time": "2022-09-13T06:45:56.300Z"
      },
      {
        "duration": 4,
        "start_time": "2022-09-13T06:45:56.337Z"
      },
      {
        "duration": 12,
        "start_time": "2022-09-13T06:45:56.344Z"
      },
      {
        "duration": 20,
        "start_time": "2022-09-13T06:45:56.358Z"
      },
      {
        "duration": 15,
        "start_time": "2022-09-13T06:45:56.379Z"
      },
      {
        "duration": 4,
        "start_time": "2022-09-13T06:45:56.395Z"
      },
      {
        "duration": 31,
        "start_time": "2022-09-13T06:45:56.400Z"
      },
      {
        "duration": 5,
        "start_time": "2022-09-13T06:45:56.433Z"
      },
      {
        "duration": 6,
        "start_time": "2022-09-13T06:45:56.440Z"
      },
      {
        "duration": 11,
        "start_time": "2022-09-13T06:45:56.448Z"
      },
      {
        "duration": 5,
        "start_time": "2022-09-13T06:45:56.461Z"
      },
      {
        "duration": 8,
        "start_time": "2022-09-13T06:45:56.467Z"
      },
      {
        "duration": 9,
        "start_time": "2022-09-13T06:45:56.477Z"
      },
      {
        "duration": 10,
        "start_time": "2022-09-13T06:45:56.487Z"
      },
      {
        "duration": 42,
        "start_time": "2022-09-13T09:29:14.401Z"
      },
      {
        "duration": 547,
        "start_time": "2022-09-13T09:29:25.785Z"
      },
      {
        "duration": 21,
        "start_time": "2022-09-13T09:29:26.333Z"
      },
      {
        "duration": 14,
        "start_time": "2022-09-13T09:29:26.355Z"
      },
      {
        "duration": 13,
        "start_time": "2022-09-13T09:29:26.371Z"
      },
      {
        "duration": 34,
        "start_time": "2022-09-13T09:29:26.391Z"
      },
      {
        "duration": 3,
        "start_time": "2022-09-13T09:29:26.427Z"
      },
      {
        "duration": 11,
        "start_time": "2022-09-13T09:29:26.431Z"
      },
      {
        "duration": 4,
        "start_time": "2022-09-13T09:29:26.444Z"
      },
      {
        "duration": 9,
        "start_time": "2022-09-13T09:29:26.449Z"
      },
      {
        "duration": 4,
        "start_time": "2022-09-13T09:29:26.459Z"
      },
      {
        "duration": 41,
        "start_time": "2022-09-13T09:29:26.464Z"
      },
      {
        "duration": 9,
        "start_time": "2022-09-13T09:29:26.507Z"
      },
      {
        "duration": 4,
        "start_time": "2022-09-13T09:29:26.518Z"
      },
      {
        "duration": 10,
        "start_time": "2022-09-13T09:29:26.525Z"
      },
      {
        "duration": 19,
        "start_time": "2022-09-13T09:29:26.536Z"
      },
      {
        "duration": 21,
        "start_time": "2022-09-13T09:29:26.581Z"
      },
      {
        "duration": 3,
        "start_time": "2022-09-13T09:29:26.603Z"
      },
      {
        "duration": 13,
        "start_time": "2022-09-13T09:29:26.607Z"
      },
      {
        "duration": 7,
        "start_time": "2022-09-13T09:29:26.621Z"
      },
      {
        "duration": 10,
        "start_time": "2022-09-13T09:29:26.630Z"
      },
      {
        "duration": 11,
        "start_time": "2022-09-13T09:29:26.641Z"
      },
      {
        "duration": 4,
        "start_time": "2022-09-13T09:29:26.653Z"
      },
      {
        "duration": 8,
        "start_time": "2022-09-13T09:29:26.659Z"
      },
      {
        "duration": 21,
        "start_time": "2022-09-13T09:29:26.668Z"
      },
      {
        "duration": 16,
        "start_time": "2022-09-13T09:29:26.691Z"
      },
      {
        "duration": 6,
        "start_time": "2022-09-13T09:29:45.852Z"
      },
      {
        "duration": 9,
        "start_time": "2022-09-13T09:30:34.081Z"
      },
      {
        "duration": 113,
        "start_time": "2022-09-13T09:30:53.845Z"
      },
      {
        "duration": 7,
        "start_time": "2022-09-13T09:31:11.143Z"
      },
      {
        "duration": 6,
        "start_time": "2022-09-13T09:31:35.804Z"
      },
      {
        "duration": 96,
        "start_time": "2022-09-13T09:31:44.364Z"
      },
      {
        "duration": 6,
        "start_time": "2022-09-13T09:31:48.235Z"
      },
      {
        "duration": 6,
        "start_time": "2022-09-13T09:32:06.223Z"
      },
      {
        "duration": 7,
        "start_time": "2022-09-13T09:33:36.267Z"
      },
      {
        "duration": 6,
        "start_time": "2022-09-13T09:33:37.304Z"
      },
      {
        "duration": 96,
        "start_time": "2022-09-13T10:31:56.134Z"
      },
      {
        "duration": 8,
        "start_time": "2022-09-13T10:33:52.419Z"
      },
      {
        "duration": 6,
        "start_time": "2022-09-13T10:35:40.609Z"
      },
      {
        "duration": 7,
        "start_time": "2022-09-13T10:36:05.515Z"
      },
      {
        "duration": 9,
        "start_time": "2022-09-13T10:36:39.988Z"
      },
      {
        "duration": 9,
        "start_time": "2022-09-13T10:36:57.650Z"
      },
      {
        "duration": 7,
        "start_time": "2022-09-13T10:38:00.847Z"
      },
      {
        "duration": 17,
        "start_time": "2022-09-13T10:40:33.333Z"
      },
      {
        "duration": 21,
        "start_time": "2022-09-13T10:40:33.572Z"
      },
      {
        "duration": 20,
        "start_time": "2022-09-13T10:41:54.727Z"
      },
      {
        "duration": 23,
        "start_time": "2022-09-13T10:42:11.527Z"
      },
      {
        "duration": 26,
        "start_time": "2022-09-13T11:05:27.474Z"
      },
      {
        "duration": 36,
        "start_time": "2022-09-13T11:13:04.666Z"
      },
      {
        "duration": 27,
        "start_time": "2022-09-13T11:13:34.057Z"
      },
      {
        "duration": 24,
        "start_time": "2022-09-13T11:20:00.396Z"
      },
      {
        "duration": 26,
        "start_time": "2022-09-13T11:22:35.793Z"
      },
      {
        "duration": 484,
        "start_time": "2022-09-13T15:05:00.514Z"
      },
      {
        "duration": 21,
        "start_time": "2022-09-13T15:05:01.000Z"
      },
      {
        "duration": 60,
        "start_time": "2022-09-13T15:05:01.022Z"
      },
      {
        "duration": 45,
        "start_time": "2022-09-13T15:05:01.085Z"
      },
      {
        "duration": 110,
        "start_time": "2022-09-13T15:05:01.132Z"
      },
      {
        "duration": 4,
        "start_time": "2022-09-13T15:05:01.243Z"
      },
      {
        "duration": 36,
        "start_time": "2022-09-13T15:05:01.249Z"
      },
      {
        "duration": 28,
        "start_time": "2022-09-13T15:05:01.287Z"
      },
      {
        "duration": 43,
        "start_time": "2022-09-13T15:05:01.316Z"
      },
      {
        "duration": 25,
        "start_time": "2022-09-13T15:05:01.361Z"
      },
      {
        "duration": 61,
        "start_time": "2022-09-13T15:05:01.387Z"
      },
      {
        "duration": 16,
        "start_time": "2022-09-13T15:05:01.450Z"
      },
      {
        "duration": 50,
        "start_time": "2022-09-13T15:05:01.467Z"
      },
      {
        "duration": 69,
        "start_time": "2022-09-13T15:05:01.518Z"
      },
      {
        "duration": 44,
        "start_time": "2022-09-13T15:05:01.588Z"
      },
      {
        "duration": 18,
        "start_time": "2022-09-13T15:05:01.634Z"
      },
      {
        "duration": 10,
        "start_time": "2022-09-13T15:05:01.654Z"
      },
      {
        "duration": 38,
        "start_time": "2022-09-13T15:05:01.665Z"
      },
      {
        "duration": 20,
        "start_time": "2022-09-13T15:05:01.705Z"
      },
      {
        "duration": 9,
        "start_time": "2022-09-13T15:05:01.727Z"
      },
      {
        "duration": 43,
        "start_time": "2022-09-13T15:05:01.737Z"
      },
      {
        "duration": 40,
        "start_time": "2022-09-13T15:05:01.782Z"
      },
      {
        "duration": 41,
        "start_time": "2022-09-13T15:05:01.824Z"
      },
      {
        "duration": 31,
        "start_time": "2022-09-13T15:05:01.867Z"
      },
      {
        "duration": 27,
        "start_time": "2022-09-13T15:05:01.899Z"
      },
      {
        "duration": 22,
        "start_time": "2022-09-13T15:10:45.742Z"
      }
    ],
    "colab": {
      "provenance": []
    },
    "kernelspec": {
      "display_name": "Python 3 (ipykernel)",
      "language": "python",
      "name": "python3"
    },
    "language_info": {
      "codemirror_mode": {
        "name": "ipython",
        "version": 3
      },
      "file_extension": ".py",
      "mimetype": "text/x-python",
      "name": "python",
      "nbconvert_exporter": "python",
      "pygments_lexer": "ipython3",
      "version": "3.9.5"
    },
    "toc": {
      "base_numbering": 1,
      "nav_menu": {},
      "number_sections": true,
      "sideBar": true,
      "skip_h1_title": true,
      "title_cell": "Table of Contents",
      "title_sidebar": "Contents",
      "toc_cell": false,
      "toc_position": {},
      "toc_section_display": true,
      "toc_window_display": false
    }
  },
  "nbformat": 4,
  "nbformat_minor": 5
}