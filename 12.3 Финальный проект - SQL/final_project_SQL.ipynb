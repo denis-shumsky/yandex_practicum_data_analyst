{
 "cells": [
  {
   "cell_type": "markdown",
   "id": "881b2156",
   "metadata": {
    "id": "881b2156"
   },
   "source": [
    "# Описание \"Финальный проект - SQL\"\n",
    "\n",
    "<b> Легенда: </b>\n",
    "\n",
    "\"Коронавирус застал мир врасплох, изменив привычный порядок вещей. В свободное время жители городов больше не выходят на улицу, не посещают кафе и торговые центры. Зато стало больше времени для книг. Это заметили стартаперы — и бросились создавать приложения для тех, кто любит читать.\n",
    "\n",
    "Ваша компания решила быть на волне и купила крупный сервис для чтения книг по подписке. Ваша первая задача как аналитика — проанализировать базу данных.\n",
    "В ней — информация о книгах, издательствах, авторах, а также пользовательские обзоры книг. Эти данные помогут сформулировать ценностное предложение для нового продукта.\"\n",
    "\n",
    "\n",
    "<b> Задание: </b>\n",
    "\n",
    "- Посчитайте, сколько книг вышло после 1 января 2000 года;\n",
    "- Для каждой книги посчитайте количество обзоров и среднюю оценку;\n",
    "- Определите издательство, которое выпустило наибольшее число книг толще 50 страниц — так вы исключите из анализа брошюры;\n",
    "- Определите автора с самой высокой средней оценкой книг — учитывайте только книги с 50 и более оценками;\n",
    "- Посчитайте среднее количество обзоров от пользователей, которые поставили больше 50 оценок.\n",
    "\n",
    "\n",
    "<b> Описание данных: </b>\n",
    "\n",
    "Таблица `books` - Содержит данные о книгах:\n",
    "\n",
    "- `book_id` — идентификатор книги;\n",
    "- `author_id` — идентификатор автора;\n",
    "- `title` — название книги;\n",
    "- `num_pages` — количество страниц;\n",
    "- `publication_date` — дата публикации книги;\n",
    "- `publisher_id` — идентификатор издателя.\n",
    "\n",
    "Таблица `authors` - Содержит данные об авторах:\n",
    "\n",
    "- `author_id` — идентификатор автора;\n",
    "- `author` — имя автора.\n",
    "\n",
    "Таблица `publishers` - Содержит данные об издательствах:\n",
    "\n",
    "- `publisher_id` — идентификатор издательства;\n",
    "- `publisher` — название издательства;\n",
    "\n",
    "Таблица `ratings` - Содержит данные о пользовательских оценках книг:\n",
    "\n",
    "- `rating_id` — идентификатор оценки;\n",
    "- `book_id` — идентификатор книги;\n",
    "- `username` — имя пользователя, оставившего оценку;\n",
    "- `rating` — оценка книги.\n",
    "\n",
    "Таблица `reviews` - Содержит данные о пользовательских обзорах на книги:\n",
    "\n",
    "- `review_id` — идентификатор обзора;\n",
    "- `book_id` — идентификатор книги;\n",
    "- `username` — имя пользователя, написавшего обзор;\n",
    "- `text` — текст обзора."
   ]
  },
  {
   "cell_type": "markdown",
   "id": "2c9cc9ca",
   "metadata": {
    "id": "2c9cc9ca"
   },
   "source": [
    "# Подготовка к работе "
   ]
  },
  {
   "cell_type": "code",
   "execution_count": 1,
   "id": "699146af",
   "metadata": {
    "id": "699146af"
   },
   "outputs": [],
   "source": [
    "#pip install psycopg2"
   ]
  },
  {
   "cell_type": "code",
   "execution_count": 2,
   "id": "85863bda",
   "metadata": {
    "id": "85863bda"
   },
   "outputs": [],
   "source": [
    "# импортируем библиотеки\n",
    "import pandas as pd\n",
    "from sqlalchemy import create_engine\n",
    "\n",
    "# устанавливаем параметры\n",
    "db_config = {\n",
    "    'user': 'praktikum_student', # имя пользователя\n",
    "    'pwd': 'Sdf4$2;d-d30pp', # пароль\n",
    "    'host': 'rc1b-wcoijxj3yxfsf3fs.mdb.yandexcloud.net',\n",
    "    'port': 6432, # порт подключения\n",
    "    'db': 'data-analyst-final-project-db'} # название базы данных\n",
    "\n",
    "connection_string = 'postgresql://{}:{}@{}:{}/{}'.format\\\n",
    "(db_config['user'],\n",
    " db_config['pwd'],\n",
    " db_config['host'],\n",
    " db_config['port'],\n",
    " db_config['db'])\n",
    "\n",
    "# сохраняем коннектор\n",
    "engine = create_engine(connection_string, connect_args={'sslmode':'require'}) "
   ]
  },
  {
   "cell_type": "markdown",
   "id": "e8f5cd0e",
   "metadata": {
    "id": "e8f5cd0e"
   },
   "source": [
    "# Знакомство с таблицами"
   ]
  },
  {
   "cell_type": "markdown",
   "id": "0b483bcb",
   "metadata": {
    "id": "0b483bcb"
   },
   "source": [
    "## Таблица books"
   ]
  },
  {
   "cell_type": "code",
   "execution_count": 3,
   "id": "2bba864b",
   "metadata": {
    "id": "2bba864b",
    "outputId": "8a9e57d7-f3a9-4a76-fd2c-26c642256844"
   },
   "outputs": [
    {
     "data": {
      "text/html": [
       "<div>\n",
       "<style scoped>\n",
       "    .dataframe tbody tr th:only-of-type {\n",
       "        vertical-align: middle;\n",
       "    }\n",
       "\n",
       "    .dataframe tbody tr th {\n",
       "        vertical-align: top;\n",
       "    }\n",
       "\n",
       "    .dataframe thead th {\n",
       "        text-align: right;\n",
       "    }\n",
       "</style>\n",
       "<table border=\"1\" class=\"dataframe\">\n",
       "  <thead>\n",
       "    <tr style=\"text-align: right;\">\n",
       "      <th></th>\n",
       "      <th>book_id</th>\n",
       "      <th>author_id</th>\n",
       "      <th>title</th>\n",
       "      <th>num_pages</th>\n",
       "      <th>publication_date</th>\n",
       "      <th>publisher_id</th>\n",
       "    </tr>\n",
       "  </thead>\n",
       "  <tbody>\n",
       "    <tr>\n",
       "      <th>0</th>\n",
       "      <td>1</td>\n",
       "      <td>546</td>\n",
       "      <td>'Salem's Lot</td>\n",
       "      <td>594</td>\n",
       "      <td>2005-11-01</td>\n",
       "      <td>93</td>\n",
       "    </tr>\n",
       "    <tr>\n",
       "      <th>1</th>\n",
       "      <td>2</td>\n",
       "      <td>465</td>\n",
       "      <td>1 000 Places to See Before You Die</td>\n",
       "      <td>992</td>\n",
       "      <td>2003-05-22</td>\n",
       "      <td>336</td>\n",
       "    </tr>\n",
       "    <tr>\n",
       "      <th>2</th>\n",
       "      <td>3</td>\n",
       "      <td>407</td>\n",
       "      <td>13 Little Blue Envelopes (Little Blue Envelope...</td>\n",
       "      <td>322</td>\n",
       "      <td>2010-12-21</td>\n",
       "      <td>135</td>\n",
       "    </tr>\n",
       "    <tr>\n",
       "      <th>3</th>\n",
       "      <td>4</td>\n",
       "      <td>82</td>\n",
       "      <td>1491: New Revelations of the Americas Before C...</td>\n",
       "      <td>541</td>\n",
       "      <td>2006-10-10</td>\n",
       "      <td>309</td>\n",
       "    </tr>\n",
       "    <tr>\n",
       "      <th>4</th>\n",
       "      <td>5</td>\n",
       "      <td>125</td>\n",
       "      <td>1776</td>\n",
       "      <td>386</td>\n",
       "      <td>2006-07-04</td>\n",
       "      <td>268</td>\n",
       "    </tr>\n",
       "  </tbody>\n",
       "</table>\n",
       "</div>"
      ],
      "text/plain": [
       "   book_id  author_id                                              title  \\\n",
       "0        1        546                                       'Salem's Lot   \n",
       "1        2        465                 1 000 Places to See Before You Die   \n",
       "2        3        407  13 Little Blue Envelopes (Little Blue Envelope...   \n",
       "3        4         82  1491: New Revelations of the Americas Before C...   \n",
       "4        5        125                                               1776   \n",
       "\n",
       "   num_pages publication_date  publisher_id  \n",
       "0        594       2005-11-01            93  \n",
       "1        992       2003-05-22           336  \n",
       "2        322       2010-12-21           135  \n",
       "3        541       2006-10-10           309  \n",
       "4        386       2006-07-04           268  "
      ]
     },
     "execution_count": 3,
     "metadata": {},
     "output_type": "execute_result"
    }
   ],
   "source": [
    "query = (\n",
    "'''\n",
    "SELECT *\n",
    "FROM books\n",
    "LIMIT 5;\n",
    "\n",
    "''')\n",
    "\n",
    "pd.io.sql.read_sql(query, con = engine) "
   ]
  },
  {
   "cell_type": "code",
   "execution_count": 4,
   "id": "c6e3bd7d",
   "metadata": {
    "id": "c6e3bd7d",
    "outputId": "3178e0c9-0282-4711-9ed2-cabc1a278074"
   },
   "outputs": [
    {
     "data": {
      "text/html": [
       "<div>\n",
       "<style scoped>\n",
       "    .dataframe tbody tr th:only-of-type {\n",
       "        vertical-align: middle;\n",
       "    }\n",
       "\n",
       "    .dataframe tbody tr th {\n",
       "        vertical-align: top;\n",
       "    }\n",
       "\n",
       "    .dataframe thead th {\n",
       "        text-align: right;\n",
       "    }\n",
       "</style>\n",
       "<table border=\"1\" class=\"dataframe\">\n",
       "  <thead>\n",
       "    <tr style=\"text-align: right;\">\n",
       "      <th></th>\n",
       "      <th>title</th>\n",
       "      <th>count</th>\n",
       "    </tr>\n",
       "  </thead>\n",
       "  <tbody>\n",
       "    <tr>\n",
       "      <th>0</th>\n",
       "      <td>Memoirs of a Geisha</td>\n",
       "      <td>2</td>\n",
       "    </tr>\n",
       "  </tbody>\n",
       "</table>\n",
       "</div>"
      ],
      "text/plain": [
       "                 title  count\n",
       "0  Memoirs of a Geisha      2"
      ]
     },
     "execution_count": 4,
     "metadata": {},
     "output_type": "execute_result"
    }
   ],
   "source": [
    "# проверим книги на уникальность\n",
    "query = (\n",
    "'''\n",
    "SELECT title,\n",
    "       COUNT(*)\n",
    "FROM books\n",
    "GROUP BY title\n",
    "HAVING COUNT(*) > 1;\n",
    "\n",
    "''')\n",
    "\n",
    "pd.io.sql.read_sql(query, con = engine) "
   ]
  },
  {
   "cell_type": "code",
   "execution_count": 5,
   "id": "a7eeebbb",
   "metadata": {
    "id": "a7eeebbb",
    "outputId": "609338fb-7ee9-4899-e7ca-5faa4d6fcb8d"
   },
   "outputs": [
    {
     "data": {
      "text/html": [
       "<div>\n",
       "<style scoped>\n",
       "    .dataframe tbody tr th:only-of-type {\n",
       "        vertical-align: middle;\n",
       "    }\n",
       "\n",
       "    .dataframe tbody tr th {\n",
       "        vertical-align: top;\n",
       "    }\n",
       "\n",
       "    .dataframe thead th {\n",
       "        text-align: right;\n",
       "    }\n",
       "</style>\n",
       "<table border=\"1\" class=\"dataframe\">\n",
       "  <thead>\n",
       "    <tr style=\"text-align: right;\">\n",
       "      <th></th>\n",
       "      <th>book_id</th>\n",
       "      <th>author_id</th>\n",
       "      <th>title</th>\n",
       "      <th>num_pages</th>\n",
       "      <th>publication_date</th>\n",
       "      <th>publisher_id</th>\n",
       "    </tr>\n",
       "  </thead>\n",
       "  <tbody>\n",
       "    <tr>\n",
       "      <th>0</th>\n",
       "      <td>426</td>\n",
       "      <td>39</td>\n",
       "      <td>Memoirs of a Geisha</td>\n",
       "      <td>434</td>\n",
       "      <td>2005-11-15</td>\n",
       "      <td>241</td>\n",
       "    </tr>\n",
       "    <tr>\n",
       "      <th>1</th>\n",
       "      <td>427</td>\n",
       "      <td>39</td>\n",
       "      <td>Memoirs of a Geisha</td>\n",
       "      <td>503</td>\n",
       "      <td>2005-11-22</td>\n",
       "      <td>311</td>\n",
       "    </tr>\n",
       "  </tbody>\n",
       "</table>\n",
       "</div>"
      ],
      "text/plain": [
       "   book_id  author_id                title  num_pages publication_date  \\\n",
       "0      426         39  Memoirs of a Geisha        434       2005-11-15   \n",
       "1      427         39  Memoirs of a Geisha        503       2005-11-22   \n",
       "\n",
       "   publisher_id  \n",
       "0           241  \n",
       "1           311  "
      ]
     },
     "execution_count": 5,
     "metadata": {},
     "output_type": "execute_result"
    }
   ],
   "source": [
    "# посмотрим на обнаруженный \"дубликат\"\n",
    "query = (\n",
    "'''\n",
    "SELECT *\n",
    "FROM books\n",
    "WHERE title = 'Memoirs of a Geisha';\n",
    "\n",
    "''')\n",
    "\n",
    "pd.io.sql.read_sql(query, con = engine) "
   ]
  },
  {
   "cell_type": "markdown",
   "id": "1d429adb",
   "metadata": {
    "id": "1d429adb"
   },
   "source": [
    "Разные издания одной и той же книги. Пока оставим как есть. По мере необходимости - будем иметь это в виду. "
   ]
  },
  {
   "cell_type": "markdown",
   "id": "97344eee",
   "metadata": {
    "id": "97344eee"
   },
   "source": [
    "## Таблица authors"
   ]
  },
  {
   "cell_type": "code",
   "execution_count": 6,
   "id": "7c926b1e",
   "metadata": {
    "id": "7c926b1e",
    "outputId": "3a971ea6-e1c8-4d16-c917-eaad1061d5df"
   },
   "outputs": [
    {
     "data": {
      "text/html": [
       "<div>\n",
       "<style scoped>\n",
       "    .dataframe tbody tr th:only-of-type {\n",
       "        vertical-align: middle;\n",
       "    }\n",
       "\n",
       "    .dataframe tbody tr th {\n",
       "        vertical-align: top;\n",
       "    }\n",
       "\n",
       "    .dataframe thead th {\n",
       "        text-align: right;\n",
       "    }\n",
       "</style>\n",
       "<table border=\"1\" class=\"dataframe\">\n",
       "  <thead>\n",
       "    <tr style=\"text-align: right;\">\n",
       "      <th></th>\n",
       "      <th>author_id</th>\n",
       "      <th>author</th>\n",
       "    </tr>\n",
       "  </thead>\n",
       "  <tbody>\n",
       "    <tr>\n",
       "      <th>0</th>\n",
       "      <td>1</td>\n",
       "      <td>A.S. Byatt</td>\n",
       "    </tr>\n",
       "    <tr>\n",
       "      <th>1</th>\n",
       "      <td>2</td>\n",
       "      <td>Aesop/Laura Harris/Laura Gibbs</td>\n",
       "    </tr>\n",
       "    <tr>\n",
       "      <th>2</th>\n",
       "      <td>3</td>\n",
       "      <td>Agatha Christie</td>\n",
       "    </tr>\n",
       "    <tr>\n",
       "      <th>3</th>\n",
       "      <td>4</td>\n",
       "      <td>Alan Brennert</td>\n",
       "    </tr>\n",
       "    <tr>\n",
       "      <th>4</th>\n",
       "      <td>5</td>\n",
       "      <td>Alan Moore/David   Lloyd</td>\n",
       "    </tr>\n",
       "  </tbody>\n",
       "</table>\n",
       "</div>"
      ],
      "text/plain": [
       "   author_id                          author\n",
       "0          1                      A.S. Byatt\n",
       "1          2  Aesop/Laura Harris/Laura Gibbs\n",
       "2          3                 Agatha Christie\n",
       "3          4                   Alan Brennert\n",
       "4          5        Alan Moore/David   Lloyd"
      ]
     },
     "execution_count": 6,
     "metadata": {},
     "output_type": "execute_result"
    }
   ],
   "source": [
    "query = (\n",
    "'''\n",
    "SELECT *\n",
    "FROM authors\n",
    "LIMIT 5;\n",
    "\n",
    "''')\n",
    "\n",
    "pd.io.sql.read_sql(query, con = engine) "
   ]
  },
  {
   "cell_type": "markdown",
   "id": "46b72936",
   "metadata": {
    "id": "46b72936"
   },
   "source": [
    "## Таблица publishers"
   ]
  },
  {
   "cell_type": "code",
   "execution_count": 7,
   "id": "06d2a786",
   "metadata": {
    "id": "06d2a786",
    "outputId": "e2e57de4-9fd8-4c72-8122-7cca6a74b3ac"
   },
   "outputs": [
    {
     "data": {
      "text/html": [
       "<div>\n",
       "<style scoped>\n",
       "    .dataframe tbody tr th:only-of-type {\n",
       "        vertical-align: middle;\n",
       "    }\n",
       "\n",
       "    .dataframe tbody tr th {\n",
       "        vertical-align: top;\n",
       "    }\n",
       "\n",
       "    .dataframe thead th {\n",
       "        text-align: right;\n",
       "    }\n",
       "</style>\n",
       "<table border=\"1\" class=\"dataframe\">\n",
       "  <thead>\n",
       "    <tr style=\"text-align: right;\">\n",
       "      <th></th>\n",
       "      <th>publisher_id</th>\n",
       "      <th>publisher</th>\n",
       "    </tr>\n",
       "  </thead>\n",
       "  <tbody>\n",
       "    <tr>\n",
       "      <th>0</th>\n",
       "      <td>1</td>\n",
       "      <td>Ace</td>\n",
       "    </tr>\n",
       "    <tr>\n",
       "      <th>1</th>\n",
       "      <td>2</td>\n",
       "      <td>Ace Book</td>\n",
       "    </tr>\n",
       "    <tr>\n",
       "      <th>2</th>\n",
       "      <td>3</td>\n",
       "      <td>Ace Books</td>\n",
       "    </tr>\n",
       "    <tr>\n",
       "      <th>3</th>\n",
       "      <td>4</td>\n",
       "      <td>Ace Hardcover</td>\n",
       "    </tr>\n",
       "    <tr>\n",
       "      <th>4</th>\n",
       "      <td>5</td>\n",
       "      <td>Addison Wesley Publishing Company</td>\n",
       "    </tr>\n",
       "  </tbody>\n",
       "</table>\n",
       "</div>"
      ],
      "text/plain": [
       "   publisher_id                          publisher\n",
       "0             1                                Ace\n",
       "1             2                           Ace Book\n",
       "2             3                          Ace Books\n",
       "3             4                      Ace Hardcover\n",
       "4             5  Addison Wesley Publishing Company"
      ]
     },
     "execution_count": 7,
     "metadata": {},
     "output_type": "execute_result"
    }
   ],
   "source": [
    "query = (\n",
    "'''\n",
    "SELECT *\n",
    "FROM publishers\n",
    "LIMIT 5;\n",
    "\n",
    "''')\n",
    "\n",
    "pd.io.sql.read_sql(query, con = engine) "
   ]
  },
  {
   "cell_type": "markdown",
   "id": "63f2f607",
   "metadata": {
    "id": "63f2f607"
   },
   "source": [
    "## Таблица ratings"
   ]
  },
  {
   "cell_type": "code",
   "execution_count": 8,
   "id": "5d510aeb",
   "metadata": {
    "id": "5d510aeb",
    "outputId": "580de549-fee1-4902-9969-911968711cf2"
   },
   "outputs": [
    {
     "data": {
      "text/html": [
       "<div>\n",
       "<style scoped>\n",
       "    .dataframe tbody tr th:only-of-type {\n",
       "        vertical-align: middle;\n",
       "    }\n",
       "\n",
       "    .dataframe tbody tr th {\n",
       "        vertical-align: top;\n",
       "    }\n",
       "\n",
       "    .dataframe thead th {\n",
       "        text-align: right;\n",
       "    }\n",
       "</style>\n",
       "<table border=\"1\" class=\"dataframe\">\n",
       "  <thead>\n",
       "    <tr style=\"text-align: right;\">\n",
       "      <th></th>\n",
       "      <th>rating_id</th>\n",
       "      <th>book_id</th>\n",
       "      <th>username</th>\n",
       "      <th>rating</th>\n",
       "    </tr>\n",
       "  </thead>\n",
       "  <tbody>\n",
       "    <tr>\n",
       "      <th>0</th>\n",
       "      <td>1</td>\n",
       "      <td>1</td>\n",
       "      <td>ryanfranco</td>\n",
       "      <td>4</td>\n",
       "    </tr>\n",
       "    <tr>\n",
       "      <th>1</th>\n",
       "      <td>2</td>\n",
       "      <td>1</td>\n",
       "      <td>grantpatricia</td>\n",
       "      <td>2</td>\n",
       "    </tr>\n",
       "    <tr>\n",
       "      <th>2</th>\n",
       "      <td>3</td>\n",
       "      <td>1</td>\n",
       "      <td>brandtandrea</td>\n",
       "      <td>5</td>\n",
       "    </tr>\n",
       "    <tr>\n",
       "      <th>3</th>\n",
       "      <td>4</td>\n",
       "      <td>2</td>\n",
       "      <td>lorichen</td>\n",
       "      <td>3</td>\n",
       "    </tr>\n",
       "    <tr>\n",
       "      <th>4</th>\n",
       "      <td>5</td>\n",
       "      <td>2</td>\n",
       "      <td>mariokeller</td>\n",
       "      <td>2</td>\n",
       "    </tr>\n",
       "  </tbody>\n",
       "</table>\n",
       "</div>"
      ],
      "text/plain": [
       "   rating_id  book_id       username  rating\n",
       "0          1        1     ryanfranco       4\n",
       "1          2        1  grantpatricia       2\n",
       "2          3        1   brandtandrea       5\n",
       "3          4        2       lorichen       3\n",
       "4          5        2    mariokeller       2"
      ]
     },
     "execution_count": 8,
     "metadata": {},
     "output_type": "execute_result"
    }
   ],
   "source": [
    "query = (\n",
    "'''\n",
    "SELECT *\n",
    "FROM ratings\n",
    "LIMIT 5;\n",
    "\n",
    "''')\n",
    "\n",
    "pd.io.sql.read_sql(query, con = engine) "
   ]
  },
  {
   "cell_type": "markdown",
   "id": "b6226f38",
   "metadata": {
    "id": "b6226f38"
   },
   "source": [
    "## Таблица reviews"
   ]
  },
  {
   "cell_type": "code",
   "execution_count": 9,
   "id": "4e2a299a",
   "metadata": {
    "id": "4e2a299a",
    "outputId": "3857496b-3d10-4562-af44-bee8d872c4fa",
    "scrolled": true
   },
   "outputs": [
    {
     "data": {
      "text/html": [
       "<div>\n",
       "<style scoped>\n",
       "    .dataframe tbody tr th:only-of-type {\n",
       "        vertical-align: middle;\n",
       "    }\n",
       "\n",
       "    .dataframe tbody tr th {\n",
       "        vertical-align: top;\n",
       "    }\n",
       "\n",
       "    .dataframe thead th {\n",
       "        text-align: right;\n",
       "    }\n",
       "</style>\n",
       "<table border=\"1\" class=\"dataframe\">\n",
       "  <thead>\n",
       "    <tr style=\"text-align: right;\">\n",
       "      <th></th>\n",
       "      <th>review_id</th>\n",
       "      <th>book_id</th>\n",
       "      <th>username</th>\n",
       "      <th>text</th>\n",
       "    </tr>\n",
       "  </thead>\n",
       "  <tbody>\n",
       "    <tr>\n",
       "      <th>0</th>\n",
       "      <td>1</td>\n",
       "      <td>1</td>\n",
       "      <td>brandtandrea</td>\n",
       "      <td>Mention society tell send professor analysis. ...</td>\n",
       "    </tr>\n",
       "    <tr>\n",
       "      <th>1</th>\n",
       "      <td>2</td>\n",
       "      <td>1</td>\n",
       "      <td>ryanfranco</td>\n",
       "      <td>Foot glass pretty audience hit themselves. Amo...</td>\n",
       "    </tr>\n",
       "    <tr>\n",
       "      <th>2</th>\n",
       "      <td>3</td>\n",
       "      <td>2</td>\n",
       "      <td>lorichen</td>\n",
       "      <td>Listen treat keep worry. Miss husband tax but ...</td>\n",
       "    </tr>\n",
       "    <tr>\n",
       "      <th>3</th>\n",
       "      <td>4</td>\n",
       "      <td>3</td>\n",
       "      <td>johnsonamanda</td>\n",
       "      <td>Finally month interesting blue could nature cu...</td>\n",
       "    </tr>\n",
       "    <tr>\n",
       "      <th>4</th>\n",
       "      <td>5</td>\n",
       "      <td>3</td>\n",
       "      <td>scotttamara</td>\n",
       "      <td>Nation purpose heavy give wait song will. List...</td>\n",
       "    </tr>\n",
       "  </tbody>\n",
       "</table>\n",
       "</div>"
      ],
      "text/plain": [
       "   review_id  book_id       username  \\\n",
       "0          1        1   brandtandrea   \n",
       "1          2        1     ryanfranco   \n",
       "2          3        2       lorichen   \n",
       "3          4        3  johnsonamanda   \n",
       "4          5        3    scotttamara   \n",
       "\n",
       "                                                text  \n",
       "0  Mention society tell send professor analysis. ...  \n",
       "1  Foot glass pretty audience hit themselves. Amo...  \n",
       "2  Listen treat keep worry. Miss husband tax but ...  \n",
       "3  Finally month interesting blue could nature cu...  \n",
       "4  Nation purpose heavy give wait song will. List...  "
      ]
     },
     "execution_count": 9,
     "metadata": {},
     "output_type": "execute_result"
    }
   ],
   "source": [
    "query = (\n",
    "'''\n",
    "SELECT *\n",
    "FROM reviews\n",
    "LIMIT 5;\n",
    "\n",
    "''')\n",
    "\n",
    "pd.io.sql.read_sql(query, con = engine) "
   ]
  },
  {
   "cell_type": "markdown",
   "id": "9af82db2",
   "metadata": {
    "id": "9af82db2"
   },
   "source": [
    "# Решение"
   ]
  },
  {
   "cell_type": "markdown",
   "id": "80528165",
   "metadata": {
    "id": "80528165"
   },
   "source": [
    "## Количество книг, вышедших после 1 января 2000 года"
   ]
  },
  {
   "cell_type": "code",
   "execution_count": 10,
   "id": "4c56d6f5",
   "metadata": {
    "id": "4c56d6f5",
    "outputId": "a527d74e-4ae3-4695-8733-48e242a2010e"
   },
   "outputs": [
    {
     "data": {
      "text/html": [
       "<div>\n",
       "<style scoped>\n",
       "    .dataframe tbody tr th:only-of-type {\n",
       "        vertical-align: middle;\n",
       "    }\n",
       "\n",
       "    .dataframe tbody tr th {\n",
       "        vertical-align: top;\n",
       "    }\n",
       "\n",
       "    .dataframe thead th {\n",
       "        text-align: right;\n",
       "    }\n",
       "</style>\n",
       "<table border=\"1\" class=\"dataframe\">\n",
       "  <thead>\n",
       "    <tr style=\"text-align: right;\">\n",
       "      <th></th>\n",
       "      <th>count</th>\n",
       "    </tr>\n",
       "  </thead>\n",
       "  <tbody>\n",
       "    <tr>\n",
       "      <th>0</th>\n",
       "      <td>819</td>\n",
       "    </tr>\n",
       "  </tbody>\n",
       "</table>\n",
       "</div>"
      ],
      "text/plain": [
       "   count\n",
       "0    819"
      ]
     },
     "execution_count": 10,
     "metadata": {},
     "output_type": "execute_result"
    }
   ],
   "source": [
    "query = (\n",
    "'''\n",
    "SELECT COUNT(book_id)\n",
    "FROM books\n",
    "WHERE publication_date > '2000-01-01';\n",
    "\n",
    "''')\n",
    "\n",
    "pd.io.sql.read_sql(query, con = engine) "
   ]
  },
  {
   "cell_type": "markdown",
   "id": "af10e88c",
   "metadata": {
    "id": "af10e88c"
   },
   "source": [
    "<b> Вывод: </b>\n",
    "\n",
    "После 1 января 2000 года вышло 819 книг."
   ]
  },
  {
   "cell_type": "markdown",
   "id": "f186a0ae",
   "metadata": {
    "id": "f186a0ae"
   },
   "source": [
    "## Количество обзоров и средняя оценка каждой книги"
   ]
  },
  {
   "cell_type": "code",
   "execution_count": 11,
   "id": "2e7cd150",
   "metadata": {},
   "outputs": [
    {
     "data": {
      "text/html": [
       "<div>\n",
       "<style scoped>\n",
       "    .dataframe tbody tr th:only-of-type {\n",
       "        vertical-align: middle;\n",
       "    }\n",
       "\n",
       "    .dataframe tbody tr th {\n",
       "        vertical-align: top;\n",
       "    }\n",
       "\n",
       "    .dataframe thead th {\n",
       "        text-align: right;\n",
       "    }\n",
       "</style>\n",
       "<table border=\"1\" class=\"dataframe\">\n",
       "  <thead>\n",
       "    <tr style=\"text-align: right;\">\n",
       "      <th></th>\n",
       "      <th>book_id</th>\n",
       "      <th>book_title</th>\n",
       "      <th>cnt_review</th>\n",
       "      <th>avg_rating</th>\n",
       "    </tr>\n",
       "  </thead>\n",
       "  <tbody>\n",
       "    <tr>\n",
       "      <th>0</th>\n",
       "      <td>948</td>\n",
       "      <td>Twilight (Twilight  #1)</td>\n",
       "      <td>7</td>\n",
       "      <td>3.66</td>\n",
       "    </tr>\n",
       "    <tr>\n",
       "      <th>1</th>\n",
       "      <td>695</td>\n",
       "      <td>The Curious Incident of the Dog in the Night-Time</td>\n",
       "      <td>6</td>\n",
       "      <td>4.08</td>\n",
       "    </tr>\n",
       "    <tr>\n",
       "      <th>2</th>\n",
       "      <td>299</td>\n",
       "      <td>Harry Potter and the Chamber of Secrets (Harry...</td>\n",
       "      <td>6</td>\n",
       "      <td>4.29</td>\n",
       "    </tr>\n",
       "    <tr>\n",
       "      <th>3</th>\n",
       "      <td>696</td>\n",
       "      <td>The Da Vinci Code (Robert Langdon  #2)</td>\n",
       "      <td>6</td>\n",
       "      <td>3.83</td>\n",
       "    </tr>\n",
       "    <tr>\n",
       "      <th>4</th>\n",
       "      <td>734</td>\n",
       "      <td>The Glass Castle</td>\n",
       "      <td>6</td>\n",
       "      <td>4.21</td>\n",
       "    </tr>\n",
       "    <tr>\n",
       "      <th>...</th>\n",
       "      <td>...</td>\n",
       "      <td>...</td>\n",
       "      <td>...</td>\n",
       "      <td>...</td>\n",
       "    </tr>\n",
       "    <tr>\n",
       "      <th>995</th>\n",
       "      <td>672</td>\n",
       "      <td>The Cat in the Hat and Other Dr. Seuss Favorites</td>\n",
       "      <td>0</td>\n",
       "      <td>5.00</td>\n",
       "    </tr>\n",
       "    <tr>\n",
       "      <th>996</th>\n",
       "      <td>808</td>\n",
       "      <td>The Natural Way to Draw</td>\n",
       "      <td>0</td>\n",
       "      <td>3.00</td>\n",
       "    </tr>\n",
       "    <tr>\n",
       "      <th>997</th>\n",
       "      <td>221</td>\n",
       "      <td>Essential Tales and Poems</td>\n",
       "      <td>0</td>\n",
       "      <td>4.00</td>\n",
       "    </tr>\n",
       "    <tr>\n",
       "      <th>998</th>\n",
       "      <td>387</td>\n",
       "      <td>Leonardo's Notebooks</td>\n",
       "      <td>0</td>\n",
       "      <td>4.00</td>\n",
       "    </tr>\n",
       "    <tr>\n",
       "      <th>999</th>\n",
       "      <td>83</td>\n",
       "      <td>Anne Rice's The Vampire Lestat: A Graphic Novel</td>\n",
       "      <td>0</td>\n",
       "      <td>3.67</td>\n",
       "    </tr>\n",
       "  </tbody>\n",
       "</table>\n",
       "<p>1000 rows × 4 columns</p>\n",
       "</div>"
      ],
      "text/plain": [
       "     book_id                                         book_title  cnt_review  \\\n",
       "0        948                            Twilight (Twilight  #1)           7   \n",
       "1        695  The Curious Incident of the Dog in the Night-Time           6   \n",
       "2        299  Harry Potter and the Chamber of Secrets (Harry...           6   \n",
       "3        696             The Da Vinci Code (Robert Langdon  #2)           6   \n",
       "4        734                                   The Glass Castle           6   \n",
       "..       ...                                                ...         ...   \n",
       "995      672   The Cat in the Hat and Other Dr. Seuss Favorites           0   \n",
       "996      808                            The Natural Way to Draw           0   \n",
       "997      221                          Essential Tales and Poems           0   \n",
       "998      387                               Leonardo's Notebooks           0   \n",
       "999       83    Anne Rice's The Vampire Lestat: A Graphic Novel           0   \n",
       "\n",
       "     avg_rating  \n",
       "0          3.66  \n",
       "1          4.08  \n",
       "2          4.29  \n",
       "3          3.83  \n",
       "4          4.21  \n",
       "..          ...  \n",
       "995        5.00  \n",
       "996        3.00  \n",
       "997        4.00  \n",
       "998        4.00  \n",
       "999        3.67  \n",
       "\n",
       "[1000 rows x 4 columns]"
      ]
     },
     "execution_count": 11,
     "metadata": {},
     "output_type": "execute_result"
    }
   ],
   "source": [
    "query = (\n",
    "'''\n",
    "SELECT t_review.book_id AS book_id,\n",
    "       t_review.book_title AS book_title,\n",
    "       t_review.cnt_review AS cnt_review,\n",
    "       t_rating.avg_rating AS avg_rating\n",
    "FROM\n",
    "  (SELECT b.title AS book_title,\n",
    "          b.book_id,\n",
    "          COUNT(rew.review_id) AS cnt_review\n",
    "   FROM books AS b\n",
    "   LEFT JOIN reviews AS rew ON b.book_id = rew.book_id\n",
    "   GROUP BY b.book_id\n",
    "   ORDER BY cnt_review DESC) AS t_review\n",
    "JOIN\n",
    "  (SELECT rat.book_id,\n",
    "          ROUND(AVG(rat.rating), 2) AS avg_rating\n",
    "   FROM ratings AS rat\n",
    "   GROUP BY rat.book_id) AS t_rating ON t_review.book_id = t_rating.book_id\n",
    "ORDER BY cnt_review DESC;\n",
    "\n",
    "''')\n",
    "\n",
    "pd.io.sql.read_sql(query, con = engine)"
   ]
  },
  {
   "cell_type": "code",
   "execution_count": 12,
   "id": "4374ce23",
   "metadata": {
    "id": "4374ce23",
    "outputId": "92881fd1-8acc-4d83-aee1-bfdcc60d53ec"
   },
   "outputs": [
    {
     "data": {
      "text/html": [
       "<div>\n",
       "<style scoped>\n",
       "    .dataframe tbody tr th:only-of-type {\n",
       "        vertical-align: middle;\n",
       "    }\n",
       "\n",
       "    .dataframe tbody tr th {\n",
       "        vertical-align: top;\n",
       "    }\n",
       "\n",
       "    .dataframe thead th {\n",
       "        text-align: right;\n",
       "    }\n",
       "</style>\n",
       "<table border=\"1\" class=\"dataframe\">\n",
       "  <thead>\n",
       "    <tr style=\"text-align: right;\">\n",
       "      <th></th>\n",
       "      <th>count</th>\n",
       "    </tr>\n",
       "  </thead>\n",
       "  <tbody>\n",
       "    <tr>\n",
       "      <th>0</th>\n",
       "      <td>44</td>\n",
       "    </tr>\n",
       "  </tbody>\n",
       "</table>\n",
       "</div>"
      ],
      "text/plain": [
       "   count\n",
       "0     44"
      ]
     },
     "execution_count": 12,
     "metadata": {},
     "output_type": "execute_result"
    }
   ],
   "source": [
    "query = (\n",
    "'''\n",
    "SELECT COUNT(book_title)\n",
    "FROM\n",
    "  (SELECT b.title AS book_title\n",
    "   FROM books AS b\n",
    "   JOIN ratings AS rat ON b.book_id = rat.book_id\n",
    "   GROUP BY book_title\n",
    "   HAVING ROUND(AVG(rat.rating), 2) = '5.00') AS t;\n",
    "\n",
    "''')\n",
    "\n",
    "pd.io.sql.read_sql(query, con = engine)"
   ]
  },
  {
   "cell_type": "markdown",
   "id": "946f55fb",
   "metadata": {
    "id": "946f55fb"
   },
   "source": [
    "<b> Вывод: </b>\n",
    "\n",
    "Больше всего обзоров на книгу \"Twilight (Twilight #1)\" - 7 обзоров.\n",
    "\n",
    "Самой высокой оценкой \"5\" обладают 44 книги."
   ]
  },
  {
   "cell_type": "markdown",
   "id": "f804484a",
   "metadata": {
    "id": "f804484a"
   },
   "source": [
    "## Издательство, которое выпустило наибольшее число книг толще 50 страниц"
   ]
  },
  {
   "cell_type": "code",
   "execution_count": 13,
   "id": "c021b156",
   "metadata": {
    "id": "c021b156",
    "outputId": "2a7933e8-8fdf-4f03-8728-ad6d653e339f"
   },
   "outputs": [
    {
     "data": {
      "text/html": [
       "<div>\n",
       "<style scoped>\n",
       "    .dataframe tbody tr th:only-of-type {\n",
       "        vertical-align: middle;\n",
       "    }\n",
       "\n",
       "    .dataframe tbody tr th {\n",
       "        vertical-align: top;\n",
       "    }\n",
       "\n",
       "    .dataframe thead th {\n",
       "        text-align: right;\n",
       "    }\n",
       "</style>\n",
       "<table border=\"1\" class=\"dataframe\">\n",
       "  <thead>\n",
       "    <tr style=\"text-align: right;\">\n",
       "      <th></th>\n",
       "      <th>publisher</th>\n",
       "      <th>cnt_book</th>\n",
       "    </tr>\n",
       "  </thead>\n",
       "  <tbody>\n",
       "    <tr>\n",
       "      <th>0</th>\n",
       "      <td>Penguin Books</td>\n",
       "      <td>42</td>\n",
       "    </tr>\n",
       "  </tbody>\n",
       "</table>\n",
       "</div>"
      ],
      "text/plain": [
       "       publisher  cnt_book\n",
       "0  Penguin Books        42"
      ]
     },
     "execution_count": 13,
     "metadata": {},
     "output_type": "execute_result"
    }
   ],
   "source": [
    "query = (\n",
    "'''\n",
    "SELECT publisher,\n",
    "       COUNT(title) AS cnt_book\n",
    "FROM\n",
    "  (SELECT *\n",
    "   FROM books AS b\n",
    "   JOIN publishers AS p ON b.publisher_id = p.publisher_id\n",
    "   WHERE num_pages > 50) AS t\n",
    "GROUP BY publisher\n",
    "ORDER BY cnt_book DESC\n",
    "LIMIT 1;\n",
    "\n",
    "''')\n",
    "\n",
    "pd.io.sql.read_sql(query, con = engine) "
   ]
  },
  {
   "cell_type": "markdown",
   "id": "ee85aca0",
   "metadata": {
    "id": "ee85aca0"
   },
   "source": [
    "<b> Вывод: </b>\n",
    "\n",
    "Наибольшее число книг толще 50 страниц выпустило издательство \"Penguin Books\" - 42 книги."
   ]
  },
  {
   "cell_type": "markdown",
   "id": "01b28ff5",
   "metadata": {
    "id": "01b28ff5"
   },
   "source": [
    "## Автор с самой высокой средней оценкой книг (учитывая только книги с 50 и более оценками)\n"
   ]
  },
  {
   "cell_type": "code",
   "execution_count": 14,
   "id": "7829b34d",
   "metadata": {
    "id": "7829b34d",
    "outputId": "1232a403-4a36-403d-eb59-79ef157b565d"
   },
   "outputs": [
    {
     "data": {
      "text/html": [
       "<div>\n",
       "<style scoped>\n",
       "    .dataframe tbody tr th:only-of-type {\n",
       "        vertical-align: middle;\n",
       "    }\n",
       "\n",
       "    .dataframe tbody tr th {\n",
       "        vertical-align: top;\n",
       "    }\n",
       "\n",
       "    .dataframe thead th {\n",
       "        text-align: right;\n",
       "    }\n",
       "</style>\n",
       "<table border=\"1\" class=\"dataframe\">\n",
       "  <thead>\n",
       "    <tr style=\"text-align: right;\">\n",
       "      <th></th>\n",
       "      <th>book_id</th>\n",
       "      <th>cnt_rating</th>\n",
       "    </tr>\n",
       "  </thead>\n",
       "  <tbody>\n",
       "    <tr>\n",
       "      <th>0</th>\n",
       "      <td>948</td>\n",
       "      <td>160</td>\n",
       "    </tr>\n",
       "    <tr>\n",
       "      <th>1</th>\n",
       "      <td>750</td>\n",
       "      <td>88</td>\n",
       "    </tr>\n",
       "    <tr>\n",
       "      <th>2</th>\n",
       "      <td>673</td>\n",
       "      <td>86</td>\n",
       "    </tr>\n",
       "    <tr>\n",
       "      <th>3</th>\n",
       "      <td>75</td>\n",
       "      <td>84</td>\n",
       "    </tr>\n",
       "    <tr>\n",
       "      <th>4</th>\n",
       "      <td>302</td>\n",
       "      <td>82</td>\n",
       "    </tr>\n",
       "    <tr>\n",
       "      <th>5</th>\n",
       "      <td>299</td>\n",
       "      <td>80</td>\n",
       "    </tr>\n",
       "    <tr>\n",
       "      <th>6</th>\n",
       "      <td>301</td>\n",
       "      <td>75</td>\n",
       "    </tr>\n",
       "    <tr>\n",
       "      <th>7</th>\n",
       "      <td>79</td>\n",
       "      <td>74</td>\n",
       "    </tr>\n",
       "    <tr>\n",
       "      <th>8</th>\n",
       "      <td>722</td>\n",
       "      <td>74</td>\n",
       "    </tr>\n",
       "    <tr>\n",
       "      <th>9</th>\n",
       "      <td>300</td>\n",
       "      <td>73</td>\n",
       "    </tr>\n",
       "    <tr>\n",
       "      <th>10</th>\n",
       "      <td>405</td>\n",
       "      <td>71</td>\n",
       "    </tr>\n",
       "    <tr>\n",
       "      <th>11</th>\n",
       "      <td>545</td>\n",
       "      <td>66</td>\n",
       "    </tr>\n",
       "    <tr>\n",
       "      <th>12</th>\n",
       "      <td>779</td>\n",
       "      <td>62</td>\n",
       "    </tr>\n",
       "    <tr>\n",
       "      <th>13</th>\n",
       "      <td>488</td>\n",
       "      <td>61</td>\n",
       "    </tr>\n",
       "    <tr>\n",
       "      <th>14</th>\n",
       "      <td>696</td>\n",
       "      <td>59</td>\n",
       "    </tr>\n",
       "    <tr>\n",
       "      <th>15</th>\n",
       "      <td>627</td>\n",
       "      <td>57</td>\n",
       "    </tr>\n",
       "    <tr>\n",
       "      <th>16</th>\n",
       "      <td>733</td>\n",
       "      <td>56</td>\n",
       "    </tr>\n",
       "    <tr>\n",
       "      <th>17</th>\n",
       "      <td>656</td>\n",
       "      <td>53</td>\n",
       "    </tr>\n",
       "    <tr>\n",
       "      <th>18</th>\n",
       "      <td>399</td>\n",
       "      <td>52</td>\n",
       "    </tr>\n",
       "  </tbody>\n",
       "</table>\n",
       "</div>"
      ],
      "text/plain": [
       "    book_id  cnt_rating\n",
       "0       948         160\n",
       "1       750          88\n",
       "2       673          86\n",
       "3        75          84\n",
       "4       302          82\n",
       "5       299          80\n",
       "6       301          75\n",
       "7        79          74\n",
       "8       722          74\n",
       "9       300          73\n",
       "10      405          71\n",
       "11      545          66\n",
       "12      779          62\n",
       "13      488          61\n",
       "14      696          59\n",
       "15      627          57\n",
       "16      733          56\n",
       "17      656          53\n",
       "18      399          52"
      ]
     },
     "execution_count": 14,
     "metadata": {},
     "output_type": "execute_result"
    }
   ],
   "source": [
    "# id книг с 50 и больше оценками\n",
    "query = (\n",
    "'''\n",
    "SELECT book_id,\n",
    "       COUNT(username) AS cnt_rating \n",
    "FROM ratings\n",
    "GROUP BY book_id\n",
    "HAVING COUNT(username) >= 50\n",
    "ORDER BY cnt_rating DESC;\n",
    "\n",
    "''')\n",
    "\n",
    "pd.io.sql.read_sql(query, con = engine)"
   ]
  },
  {
   "cell_type": "code",
   "execution_count": 15,
   "id": "ce2c2d21",
   "metadata": {
    "id": "ce2c2d21",
    "outputId": "758a105f-3110-4048-bb10-7e36318e438a"
   },
   "outputs": [
    {
     "data": {
      "text/html": [
       "<div>\n",
       "<style scoped>\n",
       "    .dataframe tbody tr th:only-of-type {\n",
       "        vertical-align: middle;\n",
       "    }\n",
       "\n",
       "    .dataframe tbody tr th {\n",
       "        vertical-align: top;\n",
       "    }\n",
       "\n",
       "    .dataframe thead th {\n",
       "        text-align: right;\n",
       "    }\n",
       "</style>\n",
       "<table border=\"1\" class=\"dataframe\">\n",
       "  <thead>\n",
       "    <tr style=\"text-align: right;\">\n",
       "      <th></th>\n",
       "      <th>book_title</th>\n",
       "      <th>avg_rating</th>\n",
       "      <th>author</th>\n",
       "    </tr>\n",
       "  </thead>\n",
       "  <tbody>\n",
       "    <tr>\n",
       "      <th>0</th>\n",
       "      <td>Pop Goes the Weasel (Alex Cross  #5)</td>\n",
       "      <td>5.00</td>\n",
       "      <td>James Patterson</td>\n",
       "    </tr>\n",
       "    <tr>\n",
       "      <th>1</th>\n",
       "      <td>The Woman in Black</td>\n",
       "      <td>5.00</td>\n",
       "      <td>Susan Hill/John Lawrence</td>\n",
       "    </tr>\n",
       "    <tr>\n",
       "      <th>2</th>\n",
       "      <td>Light in August</td>\n",
       "      <td>5.00</td>\n",
       "      <td>William Faulkner</td>\n",
       "    </tr>\n",
       "    <tr>\n",
       "      <th>3</th>\n",
       "      <td>The Demon-Haunted World: Science as a Candle i...</td>\n",
       "      <td>5.00</td>\n",
       "      <td>Carl Sagan/Ann Druyan</td>\n",
       "    </tr>\n",
       "    <tr>\n",
       "      <th>4</th>\n",
       "      <td>A Dirty Job (Grim Reaper  #1)</td>\n",
       "      <td>5.00</td>\n",
       "      <td>Christopher Moore</td>\n",
       "    </tr>\n",
       "    <tr>\n",
       "      <th>...</th>\n",
       "      <td>...</td>\n",
       "      <td>...</td>\n",
       "      <td>...</td>\n",
       "    </tr>\n",
       "    <tr>\n",
       "      <th>994</th>\n",
       "      <td>The World Is Flat: A Brief History of the Twen...</td>\n",
       "      <td>2.25</td>\n",
       "      <td>Thomas L. Friedman</td>\n",
       "    </tr>\n",
       "    <tr>\n",
       "      <th>995</th>\n",
       "      <td>Junky</td>\n",
       "      <td>2.00</td>\n",
       "      <td>William S. Burroughs/Oliver  Harris/Allen Gins...</td>\n",
       "    </tr>\n",
       "    <tr>\n",
       "      <th>996</th>\n",
       "      <td>His Excellency: George Washington</td>\n",
       "      <td>2.00</td>\n",
       "      <td>Joseph J. Ellis</td>\n",
       "    </tr>\n",
       "    <tr>\n",
       "      <th>997</th>\n",
       "      <td>Drowning Ruth</td>\n",
       "      <td>2.00</td>\n",
       "      <td>Christina Schwarz</td>\n",
       "    </tr>\n",
       "    <tr>\n",
       "      <th>998</th>\n",
       "      <td>Harvesting the Heart</td>\n",
       "      <td>1.50</td>\n",
       "      <td>Jodi Picoult</td>\n",
       "    </tr>\n",
       "  </tbody>\n",
       "</table>\n",
       "<p>999 rows × 3 columns</p>\n",
       "</div>"
      ],
      "text/plain": [
       "                                            book_title  avg_rating  \\\n",
       "0                 Pop Goes the Weasel (Alex Cross  #5)        5.00   \n",
       "1                                   The Woman in Black        5.00   \n",
       "2                                      Light in August        5.00   \n",
       "3    The Demon-Haunted World: Science as a Candle i...        5.00   \n",
       "4                        A Dirty Job (Grim Reaper  #1)        5.00   \n",
       "..                                                 ...         ...   \n",
       "994  The World Is Flat: A Brief History of the Twen...        2.25   \n",
       "995                                              Junky        2.00   \n",
       "996                  His Excellency: George Washington        2.00   \n",
       "997                                      Drowning Ruth        2.00   \n",
       "998                               Harvesting the Heart        1.50   \n",
       "\n",
       "                                                author  \n",
       "0                                      James Patterson  \n",
       "1                             Susan Hill/John Lawrence  \n",
       "2                                     William Faulkner  \n",
       "3                                Carl Sagan/Ann Druyan  \n",
       "4                                    Christopher Moore  \n",
       "..                                                 ...  \n",
       "994                                 Thomas L. Friedman  \n",
       "995  William S. Burroughs/Oliver  Harris/Allen Gins...  \n",
       "996                                    Joseph J. Ellis  \n",
       "997                                  Christina Schwarz  \n",
       "998                                       Jodi Picoult  \n",
       "\n",
       "[999 rows x 3 columns]"
      ]
     },
     "execution_count": 15,
     "metadata": {},
     "output_type": "execute_result"
    }
   ],
   "source": [
    "# средний рейтинг книг\n",
    "query = (\n",
    "'''\n",
    "SELECT b.title AS book_title,\n",
    "       ROUND(AVG(rat.rating),2) AS avg_rating,\n",
    "       a.author\n",
    "FROM books AS b\n",
    "JOIN ratings AS rat ON b.book_id = rat.book_id\n",
    "JOIN authors AS a ON b.author_id = a.author_id\n",
    "GROUP BY book_title,\n",
    "         a.author\n",
    "ORDER BY avg_rating DESC;\n",
    "\n",
    "''')\n",
    "\n",
    "pd.io.sql.read_sql(query, con = engine)"
   ]
  },
  {
   "cell_type": "code",
   "execution_count": 16,
   "id": "b684c49d",
   "metadata": {
    "id": "b684c49d",
    "outputId": "bae63eca-7463-41a5-ec38-8b5011c06478"
   },
   "outputs": [
    {
     "data": {
      "text/html": [
       "<div>\n",
       "<style scoped>\n",
       "    .dataframe tbody tr th:only-of-type {\n",
       "        vertical-align: middle;\n",
       "    }\n",
       "\n",
       "    .dataframe tbody tr th {\n",
       "        vertical-align: top;\n",
       "    }\n",
       "\n",
       "    .dataframe thead th {\n",
       "        text-align: right;\n",
       "    }\n",
       "</style>\n",
       "<table border=\"1\" class=\"dataframe\">\n",
       "  <thead>\n",
       "    <tr style=\"text-align: right;\">\n",
       "      <th></th>\n",
       "      <th>book_title</th>\n",
       "      <th>avg_rating</th>\n",
       "      <th>author</th>\n",
       "    </tr>\n",
       "  </thead>\n",
       "  <tbody>\n",
       "    <tr>\n",
       "      <th>0</th>\n",
       "      <td>Harry Potter and the Prisoner of Azkaban (Harr...</td>\n",
       "      <td>4.41</td>\n",
       "      <td>J.K. Rowling/Mary GrandPré</td>\n",
       "    </tr>\n",
       "    <tr>\n",
       "      <th>1</th>\n",
       "      <td>The Fellowship of the Ring (The Lord of the Ri...</td>\n",
       "      <td>4.39</td>\n",
       "      <td>J.R.R. Tolkien</td>\n",
       "    </tr>\n",
       "    <tr>\n",
       "      <th>2</th>\n",
       "      <td>Harry Potter and the Chamber of Secrets (Harry...</td>\n",
       "      <td>4.29</td>\n",
       "      <td>J.K. Rowling/Mary GrandPré</td>\n",
       "    </tr>\n",
       "    <tr>\n",
       "      <th>3</th>\n",
       "      <td>The Book Thief</td>\n",
       "      <td>4.26</td>\n",
       "      <td>Markus Zusak/Cao Xuân Việt Khương</td>\n",
       "    </tr>\n",
       "    <tr>\n",
       "      <th>4</th>\n",
       "      <td>Harry Potter and the Half-Blood Prince (Harry ...</td>\n",
       "      <td>4.25</td>\n",
       "      <td>J.K. Rowling/Mary GrandPré</td>\n",
       "    </tr>\n",
       "    <tr>\n",
       "      <th>5</th>\n",
       "      <td>Harry Potter and the Order of the Phoenix (Har...</td>\n",
       "      <td>4.19</td>\n",
       "      <td>J.K. Rowling/Mary GrandPré</td>\n",
       "    </tr>\n",
       "    <tr>\n",
       "      <th>6</th>\n",
       "      <td>Little Women</td>\n",
       "      <td>4.19</td>\n",
       "      <td>Louisa May Alcott</td>\n",
       "    </tr>\n",
       "    <tr>\n",
       "      <th>7</th>\n",
       "      <td>The Hobbit  or There and Back Again</td>\n",
       "      <td>4.13</td>\n",
       "      <td>J.R.R. Tolkien</td>\n",
       "    </tr>\n",
       "    <tr>\n",
       "      <th>8</th>\n",
       "      <td>The Lightning Thief (Percy Jackson and the Oly...</td>\n",
       "      <td>4.08</td>\n",
       "      <td>Rick Riordan</td>\n",
       "    </tr>\n",
       "    <tr>\n",
       "      <th>9</th>\n",
       "      <td>Lord of the Flies</td>\n",
       "      <td>3.90</td>\n",
       "      <td>William Golding</td>\n",
       "    </tr>\n",
       "    <tr>\n",
       "      <th>10</th>\n",
       "      <td>The Catcher in the Rye</td>\n",
       "      <td>3.83</td>\n",
       "      <td>J.D. Salinger</td>\n",
       "    </tr>\n",
       "    <tr>\n",
       "      <th>11</th>\n",
       "      <td>The Da Vinci Code (Robert Langdon  #2)</td>\n",
       "      <td>3.83</td>\n",
       "      <td>Dan Brown</td>\n",
       "    </tr>\n",
       "    <tr>\n",
       "      <th>12</th>\n",
       "      <td>Romeo and Juliet</td>\n",
       "      <td>3.79</td>\n",
       "      <td>William Shakespeare/Paul Werstine/Barbara A. M...</td>\n",
       "    </tr>\n",
       "    <tr>\n",
       "      <th>13</th>\n",
       "      <td>The Alchemist</td>\n",
       "      <td>3.79</td>\n",
       "      <td>Paulo Coelho/Alan R. Clarke/Özdemir İnce</td>\n",
       "    </tr>\n",
       "    <tr>\n",
       "      <th>14</th>\n",
       "      <td>The Giver (The Giver  #1)</td>\n",
       "      <td>3.75</td>\n",
       "      <td>Lois Lowry</td>\n",
       "    </tr>\n",
       "    <tr>\n",
       "      <th>15</th>\n",
       "      <td>Animal Farm</td>\n",
       "      <td>3.73</td>\n",
       "      <td>George Orwell/Boris Grabnar/Peter Škerl</td>\n",
       "    </tr>\n",
       "    <tr>\n",
       "      <th>16</th>\n",
       "      <td>Angels &amp; Demons (Robert Langdon  #1)</td>\n",
       "      <td>3.68</td>\n",
       "      <td>Dan Brown</td>\n",
       "    </tr>\n",
       "    <tr>\n",
       "      <th>17</th>\n",
       "      <td>Twilight (Twilight  #1)</td>\n",
       "      <td>3.66</td>\n",
       "      <td>Stephenie Meyer</td>\n",
       "    </tr>\n",
       "    <tr>\n",
       "      <th>18</th>\n",
       "      <td>Of Mice and Men</td>\n",
       "      <td>3.62</td>\n",
       "      <td>John Steinbeck</td>\n",
       "    </tr>\n",
       "  </tbody>\n",
       "</table>\n",
       "</div>"
      ],
      "text/plain": [
       "                                           book_title  avg_rating  \\\n",
       "0   Harry Potter and the Prisoner of Azkaban (Harr...        4.41   \n",
       "1   The Fellowship of the Ring (The Lord of the Ri...        4.39   \n",
       "2   Harry Potter and the Chamber of Secrets (Harry...        4.29   \n",
       "3                                      The Book Thief        4.26   \n",
       "4   Harry Potter and the Half-Blood Prince (Harry ...        4.25   \n",
       "5   Harry Potter and the Order of the Phoenix (Har...        4.19   \n",
       "6                                        Little Women        4.19   \n",
       "7                 The Hobbit  or There and Back Again        4.13   \n",
       "8   The Lightning Thief (Percy Jackson and the Oly...        4.08   \n",
       "9                                   Lord of the Flies        3.90   \n",
       "10                             The Catcher in the Rye        3.83   \n",
       "11             The Da Vinci Code (Robert Langdon  #2)        3.83   \n",
       "12                                   Romeo and Juliet        3.79   \n",
       "13                                      The Alchemist        3.79   \n",
       "14                          The Giver (The Giver  #1)        3.75   \n",
       "15                                        Animal Farm        3.73   \n",
       "16               Angels & Demons (Robert Langdon  #1)        3.68   \n",
       "17                            Twilight (Twilight  #1)        3.66   \n",
       "18                                    Of Mice and Men        3.62   \n",
       "\n",
       "                                               author  \n",
       "0                          J.K. Rowling/Mary GrandPré  \n",
       "1                                      J.R.R. Tolkien  \n",
       "2                          J.K. Rowling/Mary GrandPré  \n",
       "3                   Markus Zusak/Cao Xuân Việt Khương  \n",
       "4                          J.K. Rowling/Mary GrandPré  \n",
       "5                          J.K. Rowling/Mary GrandPré  \n",
       "6                                   Louisa May Alcott  \n",
       "7                                      J.R.R. Tolkien  \n",
       "8                                        Rick Riordan  \n",
       "9                                     William Golding  \n",
       "10                                      J.D. Salinger  \n",
       "11                                          Dan Brown  \n",
       "12  William Shakespeare/Paul Werstine/Barbara A. M...  \n",
       "13           Paulo Coelho/Alan R. Clarke/Özdemir İnce  \n",
       "14                                         Lois Lowry  \n",
       "15            George Orwell/Boris Grabnar/Peter Škerl  \n",
       "16                                          Dan Brown  \n",
       "17                                    Stephenie Meyer  \n",
       "18                                     John Steinbeck  "
      ]
     },
     "execution_count": 16,
     "metadata": {},
     "output_type": "execute_result"
    }
   ],
   "source": [
    "# книга / средний рейтинг книги / автор\n",
    "query = (\n",
    "'''\n",
    "SELECT b.title AS book_title,\n",
    "       ROUND(AVG(rat.rating), 2) AS avg_rating,\n",
    "       a.author\n",
    "FROM\n",
    "  (SELECT book_id,\n",
    "          COUNT(username) AS cnt_rating\n",
    "   FROM ratings\n",
    "   GROUP BY book_id\n",
    "   HAVING COUNT(username) >= 50) AS t\n",
    "JOIN books AS b ON b.book_id = t.book_id\n",
    "JOIN ratings AS rat ON b.book_id = rat.book_id\n",
    "JOIN authors AS a ON b.author_id = a.author_id\n",
    "GROUP BY book_title,\n",
    "         a.author\n",
    "ORDER BY avg_rating DESC;\n",
    "\n",
    "''')\n",
    "\n",
    "pd.io.sql.read_sql(query, con = engine)"
   ]
  },
  {
   "cell_type": "code",
   "execution_count": 17,
   "id": "3fb3ea6d",
   "metadata": {
    "id": "3fb3ea6d",
    "outputId": "5e570934-63f1-43ca-e8bd-5bae09e505da"
   },
   "outputs": [
    {
     "data": {
      "text/html": [
       "<div>\n",
       "<style scoped>\n",
       "    .dataframe tbody tr th:only-of-type {\n",
       "        vertical-align: middle;\n",
       "    }\n",
       "\n",
       "    .dataframe tbody tr th {\n",
       "        vertical-align: top;\n",
       "    }\n",
       "\n",
       "    .dataframe thead th {\n",
       "        text-align: right;\n",
       "    }\n",
       "</style>\n",
       "<table border=\"1\" class=\"dataframe\">\n",
       "  <thead>\n",
       "    <tr style=\"text-align: right;\">\n",
       "      <th></th>\n",
       "      <th>author</th>\n",
       "      <th>avg_rating</th>\n",
       "    </tr>\n",
       "  </thead>\n",
       "  <tbody>\n",
       "    <tr>\n",
       "      <th>0</th>\n",
       "      <td>J.K. Rowling/Mary GrandPré</td>\n",
       "      <td>4.285</td>\n",
       "    </tr>\n",
       "  </tbody>\n",
       "</table>\n",
       "</div>"
      ],
      "text/plain": [
       "                       author  avg_rating\n",
       "0  J.K. Rowling/Mary GrandPré       4.285"
      ]
     },
     "execution_count": 17,
     "metadata": {},
     "output_type": "execute_result"
    }
   ],
   "source": [
    "# автор / средний рейтинг всех книг\n",
    "query = (\n",
    "'''\n",
    "WITH i AS\n",
    "  (SELECT b.title AS book_title,\n",
    "          ROUND(AVG(rat.rating), 2) AS avg_rating,\n",
    "          a.author\n",
    "   FROM\n",
    "     (SELECT book_id,\n",
    "             COUNT(username) AS cnt_rating\n",
    "      FROM ratings\n",
    "      GROUP BY book_id\n",
    "      HAVING COUNT(username) >= 50) AS t\n",
    "   JOIN books AS b ON b.book_id = t.book_id\n",
    "   JOIN ratings AS rat ON b.book_id = rat.book_id\n",
    "   JOIN authors AS a ON b.author_id = a.author_id\n",
    "   GROUP BY book_title,\n",
    "            a.author\n",
    "   ORDER BY avg_rating DESC)\n",
    "   \n",
    "SELECT author,\n",
    "       AVG(avg_rating) AS avg_rating\n",
    "FROM i\n",
    "GROUP BY author\n",
    "ORDER BY avg_rating DESC\n",
    "LIMIT 1;\n",
    "\n",
    "''')\n",
    "\n",
    "pd.io.sql.read_sql(query, con = engine)"
   ]
  },
  {
   "cell_type": "markdown",
   "id": "3e5a0d19",
   "metadata": {
    "id": "3e5a0d19"
   },
   "source": [
    "<b> Вывод: </b>\n",
    "\n",
    "J.K. Rowling/Mary GrandPré является автором с самой высокой средней оценкой книг (учитывая только книги с 50 и более оценками)."
   ]
  },
  {
   "cell_type": "markdown",
   "id": "34968fbb",
   "metadata": {},
   "source": []
  },
  {
   "cell_type": "markdown",
   "id": "d1922d97",
   "metadata": {
    "id": "d1922d97"
   },
   "source": [
    "## Среднее количество обзоров от пользователей, которые поставили больше 50 оценок"
   ]
  },
  {
   "cell_type": "code",
   "execution_count": 18,
   "id": "c7e03c6f",
   "metadata": {
    "id": "c7e03c6f",
    "outputId": "0c31ac38-948a-46ec-f3eb-df1e0abdd0e7"
   },
   "outputs": [
    {
     "data": {
      "text/html": [
       "<div>\n",
       "<style scoped>\n",
       "    .dataframe tbody tr th:only-of-type {\n",
       "        vertical-align: middle;\n",
       "    }\n",
       "\n",
       "    .dataframe tbody tr th {\n",
       "        vertical-align: top;\n",
       "    }\n",
       "\n",
       "    .dataframe thead th {\n",
       "        text-align: right;\n",
       "    }\n",
       "</style>\n",
       "<table border=\"1\" class=\"dataframe\">\n",
       "  <thead>\n",
       "    <tr style=\"text-align: right;\">\n",
       "      <th></th>\n",
       "      <th>username</th>\n",
       "      <th>cnt_rating</th>\n",
       "    </tr>\n",
       "  </thead>\n",
       "  <tbody>\n",
       "    <tr>\n",
       "      <th>0</th>\n",
       "      <td>paul88</td>\n",
       "      <td>56</td>\n",
       "    </tr>\n",
       "    <tr>\n",
       "      <th>1</th>\n",
       "      <td>martinadam</td>\n",
       "      <td>56</td>\n",
       "    </tr>\n",
       "    <tr>\n",
       "      <th>2</th>\n",
       "      <td>sfitzgerald</td>\n",
       "      <td>55</td>\n",
       "    </tr>\n",
       "    <tr>\n",
       "      <th>3</th>\n",
       "      <td>richard89</td>\n",
       "      <td>55</td>\n",
       "    </tr>\n",
       "    <tr>\n",
       "      <th>4</th>\n",
       "      <td>jennifermiller</td>\n",
       "      <td>53</td>\n",
       "    </tr>\n",
       "    <tr>\n",
       "      <th>5</th>\n",
       "      <td>xdavis</td>\n",
       "      <td>51</td>\n",
       "    </tr>\n",
       "  </tbody>\n",
       "</table>\n",
       "</div>"
      ],
      "text/plain": [
       "         username  cnt_rating\n",
       "0          paul88          56\n",
       "1      martinadam          56\n",
       "2     sfitzgerald          55\n",
       "3       richard89          55\n",
       "4  jennifermiller          53\n",
       "5          xdavis          51"
      ]
     },
     "execution_count": 18,
     "metadata": {},
     "output_type": "execute_result"
    }
   ],
   "source": [
    "# пользователи, которые поставили больше 50 оценок\n",
    "query = (\n",
    "'''\n",
    "SELECT rat.username,\n",
    "       COUNT(rat.book_id) AS cnt_rating\n",
    "FROM ratings AS rat\n",
    "GROUP BY rat.username\n",
    "HAVING COUNT(rat.book_id) > 50\n",
    "ORDER BY cnt_rating DESC;\n",
    "\n",
    "''')\n",
    "\n",
    "pd.io.sql.read_sql(query, con = engine) "
   ]
  },
  {
   "cell_type": "code",
   "execution_count": 19,
   "id": "7acf86b1",
   "metadata": {
    "id": "7acf86b1",
    "outputId": "b9624b13-54db-4f6b-8c06-c5876ea1f5dd"
   },
   "outputs": [
    {
     "data": {
      "text/html": [
       "<div>\n",
       "<style scoped>\n",
       "    .dataframe tbody tr th:only-of-type {\n",
       "        vertical-align: middle;\n",
       "    }\n",
       "\n",
       "    .dataframe tbody tr th {\n",
       "        vertical-align: top;\n",
       "    }\n",
       "\n",
       "    .dataframe thead th {\n",
       "        text-align: right;\n",
       "    }\n",
       "</style>\n",
       "<table border=\"1\" class=\"dataframe\">\n",
       "  <thead>\n",
       "    <tr style=\"text-align: right;\">\n",
       "      <th></th>\n",
       "      <th>cnt_review</th>\n",
       "      <th>username</th>\n",
       "    </tr>\n",
       "  </thead>\n",
       "  <tbody>\n",
       "    <tr>\n",
       "      <th>0</th>\n",
       "      <td>28</td>\n",
       "      <td>sfitzgerald</td>\n",
       "    </tr>\n",
       "    <tr>\n",
       "      <th>1</th>\n",
       "      <td>25</td>\n",
       "      <td>jennifermiller</td>\n",
       "    </tr>\n",
       "    <tr>\n",
       "      <th>2</th>\n",
       "      <td>18</td>\n",
       "      <td>xdavis</td>\n",
       "    </tr>\n",
       "    <tr>\n",
       "      <th>3</th>\n",
       "      <td>22</td>\n",
       "      <td>paul88</td>\n",
       "    </tr>\n",
       "    <tr>\n",
       "      <th>4</th>\n",
       "      <td>27</td>\n",
       "      <td>martinadam</td>\n",
       "    </tr>\n",
       "    <tr>\n",
       "      <th>5</th>\n",
       "      <td>26</td>\n",
       "      <td>richard89</td>\n",
       "    </tr>\n",
       "  </tbody>\n",
       "</table>\n",
       "</div>"
      ],
      "text/plain": [
       "   cnt_review        username\n",
       "0          28     sfitzgerald\n",
       "1          25  jennifermiller\n",
       "2          18          xdavis\n",
       "3          22          paul88\n",
       "4          27      martinadam\n",
       "5          26       richard89"
      ]
     },
     "execution_count": 19,
     "metadata": {},
     "output_type": "execute_result"
    }
   ],
   "source": [
    "# количество обзоров каждого пользователя, которые поставили больше 50 оценок\n",
    "query = (\n",
    "'''\n",
    "SELECT COUNT(rew.book_id) AS cnt_review,\n",
    "       rew.username AS username\n",
    "FROM\n",
    "  (SELECT rat.username,\n",
    "          COUNT(rat.book_id) AS cnt_rating\n",
    "   FROM ratings AS rat\n",
    "   GROUP BY rat.username\n",
    "   HAVING COUNT(rat.book_id) > 50\n",
    "   ORDER BY cnt_rating DESC) AS rat\n",
    "JOIN reviews AS rew ON rat.username = rew.username\n",
    "GROUP BY rew.username;\n",
    "\n",
    "''')\n",
    "\n",
    "pd.io.sql.read_sql(query, con = engine) "
   ]
  },
  {
   "cell_type": "code",
   "execution_count": 20,
   "id": "02a5d8ac",
   "metadata": {
    "id": "02a5d8ac",
    "outputId": "a9551617-3588-42a7-abf2-3e6ab24cd365"
   },
   "outputs": [
    {
     "data": {
      "text/html": [
       "<div>\n",
       "<style scoped>\n",
       "    .dataframe tbody tr th:only-of-type {\n",
       "        vertical-align: middle;\n",
       "    }\n",
       "\n",
       "    .dataframe tbody tr th {\n",
       "        vertical-align: top;\n",
       "    }\n",
       "\n",
       "    .dataframe thead th {\n",
       "        text-align: right;\n",
       "    }\n",
       "</style>\n",
       "<table border=\"1\" class=\"dataframe\">\n",
       "  <thead>\n",
       "    <tr style=\"text-align: right;\">\n",
       "      <th></th>\n",
       "      <th>avg_review</th>\n",
       "    </tr>\n",
       "  </thead>\n",
       "  <tbody>\n",
       "    <tr>\n",
       "      <th>0</th>\n",
       "      <td>24.0</td>\n",
       "    </tr>\n",
       "  </tbody>\n",
       "</table>\n",
       "</div>"
      ],
      "text/plain": [
       "   avg_review\n",
       "0        24.0"
      ]
     },
     "execution_count": 20,
     "metadata": {},
     "output_type": "execute_result"
    }
   ],
   "source": [
    "# среднее количество обзоров от пользователей, которые поставили больше 50 оценок\n",
    "query = (\n",
    "'''\n",
    "WITH i AS\n",
    "  (SELECT COUNT(rew.book_id) AS cnt_review,\n",
    "          rew.username AS username\n",
    "   FROM\n",
    "     (SELECT rat.username,\n",
    "             COUNT(rat.book_id) AS cnt_rating\n",
    "      FROM ratings AS rat\n",
    "      GROUP BY rat.username\n",
    "      HAVING COUNT(rat.book_id) > 50\n",
    "      ORDER BY cnt_rating DESC) AS rat\n",
    "   JOIN reviews AS rew ON rat.username = rew.username\n",
    "   GROUP BY rew.username)\n",
    "\n",
    "SELECT ROUND(AVG(cnt_review)) AS avg_review\n",
    "FROM i;\n",
    "\n",
    "''')\n",
    "\n",
    "pd.io.sql.read_sql(query, con = engine) "
   ]
  },
  {
   "cell_type": "markdown",
   "id": "6da6bb53",
   "metadata": {
    "id": "6da6bb53"
   },
   "source": [
    "<b> Вывод: </b>\n",
    "\n",
    "Среднее количество обзоров от пользователей, которые поставили больше 50 оценок составляет 24 обзора."
   ]
  },
  {
   "cell_type": "markdown",
   "id": "eccc87dc",
   "metadata": {
    "id": "eccc87dc"
   },
   "source": [
    "# Сводные результаты исследования"
   ]
  },
  {
   "cell_type": "markdown",
   "id": "889f90eb",
   "metadata": {
    "id": "889f90eb"
   },
   "source": [
    "- После 1 января 2000 года вышло 819 книг;\n",
    "- Самой высокой оценкой \"5\" обладают 44 книги;\n",
    "- Больше всего обзоров на книгу \"Twilight (Twilight #1)\" - 7 обзоров;\n",
    "- Наибольшее число книг толще 50 страниц выпустило издательство \"Penguin Books\" - 42 книги;\n",
    "- J.K. Rowling/Mary GrandPré является автором с самой высокой средней оценкой книг (учитывая только книги с 50 и более оценками);\n",
    "- Среднее количество обзоров от пользователей, которые поставили больше 50 оценок составляет 24 обзора."
   ]
  }
 ],
 "metadata": {
  "ExecuteTimeLog": [
   {
    "duration": 4,
    "start_time": "2023-03-03T17:11:32.408Z"
   },
   {
    "duration": 7340,
    "start_time": "2023-03-03T17:11:32.414Z"
   },
   {
    "duration": 273,
    "start_time": "2023-03-03T17:11:39.755Z"
   },
   {
    "duration": 76,
    "start_time": "2023-03-03T17:11:40.030Z"
   },
   {
    "duration": 77,
    "start_time": "2023-03-03T17:11:40.108Z"
   },
   {
    "duration": 75,
    "start_time": "2023-03-03T17:11:40.186Z"
   },
   {
    "duration": 75,
    "start_time": "2023-03-03T17:11:40.263Z"
   },
   {
    "duration": 76,
    "start_time": "2023-03-03T17:11:40.339Z"
   },
   {
    "duration": 76,
    "start_time": "2023-03-03T17:11:40.417Z"
   },
   {
    "duration": 75,
    "start_time": "2023-03-03T17:11:40.496Z"
   },
   {
    "duration": 115,
    "start_time": "2023-03-03T17:11:40.572Z"
   },
   {
    "duration": 78,
    "start_time": "2023-03-03T17:11:40.689Z"
   },
   {
    "duration": 77,
    "start_time": "2023-03-03T17:11:40.769Z"
   },
   {
    "duration": 77,
    "start_time": "2023-03-03T17:11:40.848Z"
   },
   {
    "duration": 101,
    "start_time": "2023-03-03T17:11:40.927Z"
   },
   {
    "duration": 82,
    "start_time": "2023-03-03T17:11:41.030Z"
   },
   {
    "duration": 81,
    "start_time": "2023-03-03T17:11:41.114Z"
   },
   {
    "duration": 78,
    "start_time": "2023-03-03T17:11:41.196Z"
   },
   {
    "duration": 77,
    "start_time": "2023-03-03T17:11:41.276Z"
   },
   {
    "duration": 78,
    "start_time": "2023-03-03T17:11:41.355Z"
   },
   {
    "duration": 5,
    "start_time": "2023-03-03T18:03:22.646Z"
   },
   {
    "duration": 10642,
    "start_time": "2023-03-03T18:03:22.666Z"
   },
   {
    "duration": 322,
    "start_time": "2023-03-03T18:03:33.310Z"
   },
   {
    "duration": 89,
    "start_time": "2023-03-03T18:03:33.633Z"
   },
   {
    "duration": 94,
    "start_time": "2023-03-03T18:03:33.724Z"
   },
   {
    "duration": 91,
    "start_time": "2023-03-03T18:03:33.821Z"
   },
   {
    "duration": 98,
    "start_time": "2023-03-03T18:03:33.914Z"
   },
   {
    "duration": 94,
    "start_time": "2023-03-03T18:03:34.013Z"
   },
   {
    "duration": 90,
    "start_time": "2023-03-03T18:03:34.109Z"
   },
   {
    "duration": 88,
    "start_time": "2023-03-03T18:03:34.201Z"
   },
   {
    "duration": 126,
    "start_time": "2023-03-03T18:03:34.291Z"
   },
   {
    "duration": 94,
    "start_time": "2023-03-03T18:03:34.418Z"
   },
   {
    "duration": 94,
    "start_time": "2023-03-03T18:03:34.513Z"
   },
   {
    "duration": 83,
    "start_time": "2023-03-03T18:03:34.609Z"
   },
   {
    "duration": 109,
    "start_time": "2023-03-03T18:03:34.695Z"
   },
   {
    "duration": 100,
    "start_time": "2023-03-03T18:03:34.806Z"
   },
   {
    "duration": 95,
    "start_time": "2023-03-03T18:03:34.907Z"
   },
   {
    "duration": 97,
    "start_time": "2023-03-03T18:03:35.004Z"
   },
   {
    "duration": 84,
    "start_time": "2023-03-03T18:03:35.103Z"
   },
   {
    "duration": 98,
    "start_time": "2023-03-03T18:03:35.189Z"
   },
   {
    "duration": 73,
    "start_time": "2023-03-03T18:05:13.473Z"
   },
   {
    "duration": 88,
    "start_time": "2023-03-03T18:05:28.920Z"
   },
   {
    "duration": 274,
    "start_time": "2023-03-03T18:06:08.784Z"
   },
   {
    "duration": 140,
    "start_time": "2023-03-03T18:06:16.823Z"
   },
   {
    "duration": 184,
    "start_time": "2023-03-03T18:06:29.431Z"
   },
   {
    "duration": 126,
    "start_time": "2023-03-03T18:06:35.185Z"
   },
   {
    "duration": 94,
    "start_time": "2023-03-03T18:07:45.868Z"
   },
   {
    "duration": 222,
    "start_time": "2023-03-03T18:09:54.007Z"
   },
   {
    "duration": 139,
    "start_time": "2023-03-03T18:10:04.917Z"
   },
   {
    "duration": 131,
    "start_time": "2023-03-03T18:11:08.709Z"
   },
   {
    "duration": 194,
    "start_time": "2023-03-03T18:13:04.011Z"
   },
   {
    "duration": 192,
    "start_time": "2023-03-03T18:13:15.987Z"
   },
   {
    "duration": 398,
    "start_time": "2023-03-03T18:13:19.511Z"
   },
   {
    "duration": 206,
    "start_time": "2023-03-03T18:13:42.700Z"
   },
   {
    "duration": 415,
    "start_time": "2023-03-03T18:13:49.019Z"
   },
   {
    "duration": 196,
    "start_time": "2023-03-03T18:14:20.538Z"
   },
   {
    "duration": 111,
    "start_time": "2023-03-03T18:14:27.174Z"
   },
   {
    "duration": 116,
    "start_time": "2023-03-03T18:14:44.034Z"
   },
   {
    "duration": 112,
    "start_time": "2023-03-03T18:15:05.009Z"
   },
   {
    "duration": 120,
    "start_time": "2023-03-03T18:15:30.382Z"
   },
   {
    "duration": 122,
    "start_time": "2023-03-03T18:16:53.704Z"
   },
   {
    "duration": 111,
    "start_time": "2023-03-03T18:17:47.584Z"
   },
   {
    "duration": 127,
    "start_time": "2023-03-03T18:19:13.783Z"
   },
   {
    "duration": 149,
    "start_time": "2023-03-03T18:19:28.729Z"
   },
   {
    "duration": 199,
    "start_time": "2023-03-03T18:21:35.629Z"
   },
   {
    "duration": 187,
    "start_time": "2023-03-03T18:21:47.430Z"
   },
   {
    "duration": 193,
    "start_time": "2023-03-03T18:21:55.533Z"
   },
   {
    "duration": 189,
    "start_time": "2023-03-03T18:21:59.093Z"
   },
   {
    "duration": 122,
    "start_time": "2023-03-03T18:22:04.526Z"
   },
   {
    "duration": 122,
    "start_time": "2023-03-03T18:22:27.613Z"
   },
   {
    "duration": 94,
    "start_time": "2023-03-03T18:22:44.780Z"
   },
   {
    "duration": 151,
    "start_time": "2023-03-03T18:25:14.278Z"
   },
   {
    "duration": 189,
    "start_time": "2023-03-03T18:28:15.691Z"
   },
   {
    "duration": 109,
    "start_time": "2023-03-03T18:31:15.119Z"
   },
   {
    "duration": 108,
    "start_time": "2023-03-03T18:31:26.817Z"
   },
   {
    "duration": 115,
    "start_time": "2023-03-03T18:32:06.039Z"
   },
   {
    "duration": 104,
    "start_time": "2023-03-03T18:32:26.990Z"
   },
   {
    "duration": 117,
    "start_time": "2023-03-03T18:32:49.839Z"
   },
   {
    "duration": 100,
    "start_time": "2023-03-03T18:33:08.679Z"
   },
   {
    "duration": 97,
    "start_time": "2023-03-03T18:33:34.078Z"
   },
   {
    "duration": 115,
    "start_time": "2023-03-03T18:34:05.383Z"
   },
   {
    "duration": 118,
    "start_time": "2023-03-03T18:34:23.308Z"
   },
   {
    "duration": 102,
    "start_time": "2023-03-03T18:34:44.286Z"
   },
   {
    "duration": 109,
    "start_time": "2023-03-03T18:34:49.878Z"
   },
   {
    "duration": 114,
    "start_time": "2023-03-03T18:35:05.932Z"
   },
   {
    "duration": 116,
    "start_time": "2023-03-03T18:35:23.508Z"
   },
   {
    "duration": 116,
    "start_time": "2023-03-03T18:36:39.787Z"
   },
   {
    "duration": 116,
    "start_time": "2023-03-03T18:38:17.073Z"
   },
   {
    "duration": 162,
    "start_time": "2023-03-03T18:39:35.369Z"
   },
   {
    "duration": 185,
    "start_time": "2023-03-03T18:40:53.087Z"
   },
   {
    "duration": 100,
    "start_time": "2023-03-03T18:41:01.712Z"
   },
   {
    "duration": 98,
    "start_time": "2023-03-03T18:41:11.695Z"
   },
   {
    "duration": 124,
    "start_time": "2023-03-03T18:43:06.770Z"
   },
   {
    "duration": 133,
    "start_time": "2023-03-03T18:45:09.825Z"
   },
   {
    "duration": 123,
    "start_time": "2023-03-03T18:45:55.573Z"
   },
   {
    "duration": 119,
    "start_time": "2023-03-03T18:46:03.012Z"
   },
   {
    "duration": 113,
    "start_time": "2023-03-03T18:46:20.276Z"
   },
   {
    "duration": 4,
    "start_time": "2023-03-03T18:48:04.499Z"
   },
   {
    "duration": 10186,
    "start_time": "2023-03-03T18:48:04.505Z"
   },
   {
    "duration": 294,
    "start_time": "2023-03-03T18:48:14.694Z"
   },
   {
    "duration": 86,
    "start_time": "2023-03-03T18:48:14.990Z"
   },
   {
    "duration": 81,
    "start_time": "2023-03-03T18:48:15.078Z"
   },
   {
    "duration": 79,
    "start_time": "2023-03-03T18:48:15.161Z"
   },
   {
    "duration": 90,
    "start_time": "2023-03-03T18:48:15.242Z"
   },
   {
    "duration": 92,
    "start_time": "2023-03-03T18:48:15.333Z"
   },
   {
    "duration": 92,
    "start_time": "2023-03-03T18:48:15.426Z"
   },
   {
    "duration": 90,
    "start_time": "2023-03-03T18:48:15.520Z"
   },
   {
    "duration": 87,
    "start_time": "2023-03-03T18:48:15.612Z"
   },
   {
    "duration": 0,
    "start_time": "2023-03-03T18:48:15.700Z"
   },
   {
    "duration": 0,
    "start_time": "2023-03-03T18:48:15.701Z"
   },
   {
    "duration": 1,
    "start_time": "2023-03-03T18:48:15.702Z"
   },
   {
    "duration": 0,
    "start_time": "2023-03-03T18:48:15.704Z"
   },
   {
    "duration": 0,
    "start_time": "2023-03-03T18:48:15.705Z"
   },
   {
    "duration": 0,
    "start_time": "2023-03-03T18:48:15.706Z"
   },
   {
    "duration": 0,
    "start_time": "2023-03-03T18:48:15.707Z"
   },
   {
    "duration": 0,
    "start_time": "2023-03-03T18:48:15.707Z"
   },
   {
    "duration": 0,
    "start_time": "2023-03-03T18:48:15.708Z"
   },
   {
    "duration": 74,
    "start_time": "2023-03-03T18:48:31.417Z"
   },
   {
    "duration": 147,
    "start_time": "2023-03-03T18:48:52.226Z"
   },
   {
    "duration": 4,
    "start_time": "2023-03-03T18:49:03.999Z"
   },
   {
    "duration": 10986,
    "start_time": "2023-03-03T18:49:04.007Z"
   },
   {
    "duration": 329,
    "start_time": "2023-03-03T18:49:14.995Z"
   },
   {
    "duration": 103,
    "start_time": "2023-03-03T18:49:15.325Z"
   },
   {
    "duration": 100,
    "start_time": "2023-03-03T18:49:15.429Z"
   },
   {
    "duration": 89,
    "start_time": "2023-03-03T18:49:15.531Z"
   },
   {
    "duration": 96,
    "start_time": "2023-03-03T18:49:15.623Z"
   },
   {
    "duration": 104,
    "start_time": "2023-03-03T18:49:15.720Z"
   },
   {
    "duration": 104,
    "start_time": "2023-03-03T18:49:15.828Z"
   },
   {
    "duration": 109,
    "start_time": "2023-03-03T18:49:15.934Z"
   },
   {
    "duration": 148,
    "start_time": "2023-03-03T18:49:16.045Z"
   },
   {
    "duration": 92,
    "start_time": "2023-03-03T18:49:16.195Z"
   },
   {
    "duration": 101,
    "start_time": "2023-03-03T18:49:16.289Z"
   },
   {
    "duration": 109,
    "start_time": "2023-03-03T18:49:16.392Z"
   },
   {
    "duration": 121,
    "start_time": "2023-03-03T18:49:16.503Z"
   },
   {
    "duration": 104,
    "start_time": "2023-03-03T18:49:16.625Z"
   },
   {
    "duration": 99,
    "start_time": "2023-03-03T18:49:16.730Z"
   },
   {
    "duration": 97,
    "start_time": "2023-03-03T18:49:16.830Z"
   },
   {
    "duration": 95,
    "start_time": "2023-03-03T18:49:16.928Z"
   },
   {
    "duration": 103,
    "start_time": "2023-03-03T18:49:17.025Z"
   },
   {
    "duration": 3,
    "start_time": "2023-03-14T11:58:35.955Z"
   },
   {
    "duration": 5246,
    "start_time": "2023-03-14T11:58:35.959Z"
   },
   {
    "duration": 65,
    "start_time": "2023-03-14T11:58:41.207Z"
   },
   {
    "duration": 11,
    "start_time": "2023-03-14T11:58:41.273Z"
   },
   {
    "duration": 11,
    "start_time": "2023-03-14T11:58:41.286Z"
   },
   {
    "duration": 12,
    "start_time": "2023-03-14T11:58:41.298Z"
   },
   {
    "duration": 10,
    "start_time": "2023-03-14T11:58:41.311Z"
   },
   {
    "duration": 22,
    "start_time": "2023-03-14T11:58:41.322Z"
   },
   {
    "duration": 13,
    "start_time": "2023-03-14T11:58:41.345Z"
   },
   {
    "duration": 24,
    "start_time": "2023-03-14T11:58:41.359Z"
   },
   {
    "duration": 22,
    "start_time": "2023-03-14T11:58:41.385Z"
   },
   {
    "duration": 16,
    "start_time": "2023-03-14T11:58:41.408Z"
   },
   {
    "duration": 10,
    "start_time": "2023-03-14T11:58:41.425Z"
   },
   {
    "duration": 13,
    "start_time": "2023-03-14T11:58:41.436Z"
   },
   {
    "duration": 22,
    "start_time": "2023-03-14T11:58:41.450Z"
   },
   {
    "duration": 15,
    "start_time": "2023-03-14T11:58:41.474Z"
   },
   {
    "duration": 13,
    "start_time": "2023-03-14T11:58:41.490Z"
   },
   {
    "duration": 11,
    "start_time": "2023-03-14T11:58:41.504Z"
   },
   {
    "duration": 13,
    "start_time": "2023-03-14T11:58:41.517Z"
   },
   {
    "duration": 12,
    "start_time": "2023-03-14T11:58:41.532Z"
   }
  ],
  "colab": {
   "provenance": []
  },
  "kernelspec": {
   "display_name": "Python 3 (ipykernel)",
   "language": "python",
   "name": "python3"
  },
  "language_info": {
   "codemirror_mode": {
    "name": "ipython",
    "version": 3
   },
   "file_extension": ".py",
   "mimetype": "text/x-python",
   "name": "python",
   "nbconvert_exporter": "python",
   "pygments_lexer": "ipython3",
   "version": "3.9.5"
  },
  "toc": {
   "base_numbering": 1,
   "nav_menu": {},
   "number_sections": true,
   "sideBar": true,
   "skip_h1_title": false,
   "title_cell": "Table of Contents",
   "title_sidebar": "Contents",
   "toc_cell": false,
   "toc_position": {
    "height": "calc(100% - 180px)",
    "left": "10px",
    "top": "150px",
    "width": "165px"
   },
   "toc_section_display": true,
   "toc_window_display": true
  }
 },
 "nbformat": 4,
 "nbformat_minor": 5
}
